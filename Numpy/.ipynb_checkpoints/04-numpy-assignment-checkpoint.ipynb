{
 "cells": [
  {
   "cell_type": "markdown",
   "id": "a3a9533d",
   "metadata": {},
   "source": [
    "**Q1** \n",
    " - Replace all odd numbers in arr with -9"
   ]
  },
  {
   "cell_type": "code",
   "execution_count": 1,
   "id": "047e5bc6",
   "metadata": {},
   "outputs": [],
   "source": [
    "import numpy as np"
   ]
  },
  {
   "cell_type": "code",
   "execution_count": 2,
   "id": "ef7f825b",
   "metadata": {},
   "outputs": [],
   "source": [
    "arr = np.array([0, 1, 2, 3, 4, 5, 6, 7, 8, 9])"
   ]
  },
  {
   "cell_type": "markdown",
   "id": "d745411e",
   "metadata": {},
   "source": [
    "**Q2**\n",
    "-  Convert a 1D array to a 2D array with 2 rows"
   ]
  },
  {
   "cell_type": "markdown",
   "id": "a0cced3e",
   "metadata": {},
   "source": [
    "**Q3**\n",
    "- How to stack arrays vertically "
   ]
  },
  {
   "cell_type": "code",
   "execution_count": 11,
   "id": "73b3ab0a",
   "metadata": {},
   "outputs": [],
   "source": [
    "##horizontally\n"
   ]
  },
  {
   "cell_type": "markdown",
   "id": "eaf48609",
   "metadata": {},
   "source": [
    "**Q4**\n",
    "- Reverse a vector np 1d array"
   ]
  },
  {
   "cell_type": "code",
   "execution_count": null,
   "id": "2c68b4b9",
   "metadata": {},
   "outputs": [],
   "source": []
  }
 ],
 "metadata": {
  "kernelspec": {
   "display_name": "Python 3 (ipykernel)",
   "language": "python",
   "name": "python3"
  },
  "language_info": {
   "codemirror_mode": {
    "name": "ipython",
    "version": 3
   },
   "file_extension": ".py",
   "mimetype": "text/x-python",
   "name": "python",
   "nbconvert_exporter": "python",
   "pygments_lexer": "ipython3",
   "version": "3.10.10"
  }
 },
 "nbformat": 4,
 "nbformat_minor": 5
}
