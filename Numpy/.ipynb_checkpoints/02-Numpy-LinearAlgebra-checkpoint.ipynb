{
 "cells": [
  {
   "cell_type": "markdown",
   "id": "95e34962",
   "metadata": {},
   "source": [
    "* We can specify the data type while creating the numpy array as follows"
   ]
  },
  {
   "cell_type": "code",
   "execution_count": 3,
   "id": "dae8b517",
   "metadata": {},
   "outputs": [],
   "source": [
    "import numpy as np"
   ]
  },
  {
   "cell_type": "code",
   "execution_count": 4,
   "id": "6c9e0d72",
   "metadata": {},
   "outputs": [],
   "source": [
    "arr1 = [\n",
    "    [4, 0, 0],\n",
    "    [0, 4, 0],\n",
    "    [0, 0, 4]\n",
    "]\n",
    "\n",
    "\n",
    "arr1 = np.array(arr1, dtype=np.int16)"
   ]
  },
  {
   "cell_type": "code",
   "execution_count": 5,
   "id": "3d76c197",
   "metadata": {},
   "outputs": [
    {
     "data": {
      "text/plain": [
       "array([[4, 0, 0],\n",
       "       [0, 4, 0],\n",
       "       [0, 0, 4]], dtype=int16)"
      ]
     },
     "execution_count": 5,
     "metadata": {},
     "output_type": "execute_result"
    }
   ],
   "source": [
    "arr1"
   ]
  },
  {
   "cell_type": "markdown",
   "id": "120cb568",
   "metadata": {},
   "source": [
    "* Creating a zero matrix"
   ]
  },
  {
   "cell_type": "code",
   "execution_count": 6,
   "id": "ad0cac9d",
   "metadata": {},
   "outputs": [],
   "source": [
    "m4 = np.zeros((4, 3), dtype=np.uint8)"
   ]
  },
  {
   "cell_type": "code",
   "execution_count": 7,
   "id": "96070309",
   "metadata": {},
   "outputs": [
    {
     "data": {
      "text/plain": [
       "array([[0, 0, 0],\n",
       "       [0, 0, 0],\n",
       "       [0, 0, 0],\n",
       "       [0, 0, 0]], dtype=uint8)"
      ]
     },
     "execution_count": 7,
     "metadata": {},
     "output_type": "execute_result"
    }
   ],
   "source": [
    "m4"
   ]
  },
  {
   "cell_type": "markdown",
   "id": "237a85fb",
   "metadata": {},
   "source": [
    "* Creating a matrix with all ones"
   ]
  },
  {
   "cell_type": "code",
   "execution_count": 9,
   "id": "cf6eb416",
   "metadata": {},
   "outputs": [
    {
     "name": "stdout",
     "output_type": "stream",
     "text": [
      "[[1. 1. 1. 1.]\n",
      " [1. 1. 1. 1.]\n",
      " [1. 1. 1. 1.]\n",
      " [1. 1. 1. 1.]\n",
      " [1. 1. 1. 1.]]\n"
     ]
    }
   ],
   "source": [
    "oneM = np.ones((5, 4), dtype=float)\n",
    "print(oneM)"
   ]
  },
  {
   "cell_type": "markdown",
   "id": "ab1d1b74",
   "metadata": {},
   "source": [
    "* Creating an square identity matrix using numpy"
   ]
  },
  {
   "cell_type": "code",
   "execution_count": 11,
   "id": "4120fcd8",
   "metadata": {},
   "outputs": [
    {
     "data": {
      "text/plain": [
       "array([[1., 0., 0., 0., 0.],\n",
       "       [0., 1., 0., 0., 0.],\n",
       "       [0., 0., 1., 0., 0.],\n",
       "       [0., 0., 0., 1., 0.],\n",
       "       [0., 0., 0., 0., 1.]])"
      ]
     },
     "execution_count": 11,
     "metadata": {},
     "output_type": "execute_result"
    }
   ],
   "source": [
    "eMat = np.eye(5)\n",
    "eMat"
   ]
  },
  {
   "cell_type": "markdown",
   "id": "27de62ef",
   "metadata": {},
   "source": [
    "* Using the math module to create matrices"
   ]
  },
  {
   "cell_type": "code",
   "execution_count": 12,
   "id": "f0d4b629",
   "metadata": {},
   "outputs": [],
   "source": [
    "import math"
   ]
  },
  {
   "cell_type": "code",
   "execution_count": 14,
   "id": "ec665503",
   "metadata": {},
   "outputs": [
    {
     "data": {
      "text/plain": [
       "array([-6.28318531, -6.02672876, -5.77027222, -5.51381568, -5.25735913,\n",
       "       -5.00090259, -4.74444605, -4.48798951, -4.23153296, -3.97507642,\n",
       "       -3.71861988, -3.46216333, -3.20570679, -2.94925025, -2.6927937 ,\n",
       "       -2.43633716, -2.17988062, -1.92342407, -1.66696753, -1.41051099,\n",
       "       -1.15405444, -0.8975979 , -0.64114136, -0.38468481, -0.12822827,\n",
       "        0.12822827,  0.38468481,  0.64114136,  0.8975979 ,  1.15405444,\n",
       "        1.41051099,  1.66696753,  1.92342407,  2.17988062,  2.43633716,\n",
       "        2.6927937 ,  2.94925025,  3.20570679,  3.46216333,  3.71861988,\n",
       "        3.97507642,  4.23153296,  4.48798951,  4.74444605,  5.00090259,\n",
       "        5.25735913,  5.51381568,  5.77027222,  6.02672876,  6.28318531])"
      ]
     },
     "execution_count": 14,
     "metadata": {},
     "output_type": "execute_result"
    }
   ],
   "source": [
    "x_coords = np.linspace(-2 * math.pi, 2 * math.pi, 50)\n",
    "x_coords"
   ]
  },
  {
   "cell_type": "code",
   "execution_count": 15,
   "id": "b48c25fb",
   "metadata": {},
   "outputs": [
    {
     "data": {
      "text/plain": [
       "array([ 2.44929360e-16,  2.53654584e-01,  4.90717552e-01,  6.95682551e-01,\n",
       "        8.55142763e-01,  9.58667853e-01,  9.99486216e-01,  9.74927912e-01,\n",
       "        8.86599306e-01,  7.40277997e-01,  5.45534901e-01,  3.15108218e-01,\n",
       "        6.40702200e-02, -1.91158629e-01, -4.33883739e-01, -6.48228395e-01,\n",
       "       -8.20172255e-01, -9.38468422e-01, -9.95379113e-01, -9.87181783e-01,\n",
       "       -9.14412623e-01, -7.81831482e-01, -5.98110530e-01, -3.75267005e-01,\n",
       "       -1.27877162e-01,  1.27877162e-01,  3.75267005e-01,  5.98110530e-01,\n",
       "        7.81831482e-01,  9.14412623e-01,  9.87181783e-01,  9.95379113e-01,\n",
       "        9.38468422e-01,  8.20172255e-01,  6.48228395e-01,  4.33883739e-01,\n",
       "        1.91158629e-01, -6.40702200e-02, -3.15108218e-01, -5.45534901e-01,\n",
       "       -7.40277997e-01, -8.86599306e-01, -9.74927912e-01, -9.99486216e-01,\n",
       "       -9.58667853e-01, -8.55142763e-01, -6.95682551e-01, -4.90717552e-01,\n",
       "       -2.53654584e-01, -2.44929360e-16])"
      ]
     },
     "execution_count": 15,
     "metadata": {},
     "output_type": "execute_result"
    }
   ],
   "source": [
    "y_values = np.array([math.sin(x) for x in x_coords])\n",
    "y_values"
   ]
  },
  {
   "cell_type": "markdown",
   "id": "4eeaedbf",
   "metadata": {},
   "source": [
    "* Using copy() method to create a new matrix"
   ]
  },
  {
   "cell_type": "code",
   "execution_count": 21,
   "id": "cd699799",
   "metadata": {},
   "outputs": [
    {
     "name": "stdout",
     "output_type": "stream",
     "text": [
      "Matrix1 is : \n",
      "[ 0  1  2  3  4  5  6  7  8  9 10 11]\n",
      "\n",
      "Matrix2 is : \n",
      "[[ 0  1  2]\n",
      " [ 3  4  5]\n",
      " [ 6  7  8]\n",
      " [ 9 10 11]]\n",
      "\n",
      "Matrix3 is : \n",
      "[[ 0  1  2  3]\n",
      " [ 4  5  6  7]\n",
      " [ 8  9 10 11]]\n"
     ]
    }
   ],
   "source": [
    "import numpy as np \n",
    "mat1 = np.arange(12)\n",
    "mat1\n",
    "\n",
    "mat2 = mat1.reshape(4,3)\n",
    "mat2.shape\n",
    "\n",
    "mat3 = mat1.reshape(3,4).copy() # Creates a new copy of the matrix\n",
    "print('Matrix1 is : \\n{}\\n'.format(mat1))\n",
    "print('Matrix2 is : \\n{}\\n'.format(mat2))\n",
    "print('Matrix3 is : \\n{}'.format(mat3))"
   ]
  },
  {
   "cell_type": "markdown",
   "id": "b02794d5",
   "metadata": {},
   "source": [
    "* Stacking in numpy\n",
    "  - When vertical stacking is performed each array must have the same number of columns.\n",
    "\n",
    "  - When horizontal stacking is performed, each array must have the same number of rows.\n"
   ]
  },
  {
   "cell_type": "code",
   "execution_count": 24,
   "id": "d8ac1bb9",
   "metadata": {},
   "outputs": [
    {
     "name": "stdout",
     "output_type": "stream",
     "text": [
      "b1 vecotr is [11 12 13 14 15]\n",
      "c2 matrix is [[21 22 23 24 25]\n",
      " [26 27 28 29 30]]\n",
      "d1 matrix is stacked vertically [[11 12 13 14 15]\n",
      " [21 22 23 24 25]\n",
      " [26 27 28 29 30]]\n"
     ]
    }
   ],
   "source": [
    "import numpy as np\n",
    "\n",
    "b1 = np.arange(11, 16)\n",
    "print('b1 vecotr is {}'.format(b1))\n",
    "\n",
    "c2 = np.arange(21, 31).reshape(2, 5)\n",
    "print('c2 matrix is {}'.format(c2))\n",
    "\n",
    "d1 = np.vstack((b1, c2))\n",
    "print('d1 matrix is stacked vertically {}'.format(d1))\n"
   ]
  },
  {
   "cell_type": "markdown",
   "id": "03ccede0",
   "metadata": {},
   "source": [
    "* Performing Vector Operations using numpy"
   ]
  },
  {
   "cell_type": "code",
   "execution_count": 25,
   "id": "9b7a9894",
   "metadata": {},
   "outputs": [
    {
     "name": "stdout",
     "output_type": "stream",
     "text": [
      "Vector v1 is [1 2 3] \n"
     ]
    }
   ],
   "source": [
    "v1 = np.array([1, 2, 3])\n",
    "print('Vector v1 is {} '.format(v1))"
   ]
  },
  {
   "cell_type": "markdown",
   "id": "10cb478c",
   "metadata": {},
   "source": [
    "* Addition of vectors"
   ]
  },
  {
   "cell_type": "code",
   "execution_count": 34,
   "id": "bf4740c0",
   "metadata": {},
   "outputs": [
    {
     "name": "stdout",
     "output_type": "stream",
     "text": [
      "vec1 is [0 1 2 3 4]\n",
      "\n",
      "vec2 is [ 6  7  8  9 10]\n",
      "\n",
      "sum of v1 and v2 = [ 6  8 10 12 14]\n",
      "\n"
     ]
    }
   ],
   "source": [
    "v1 = np.array(list(range(5)))\n",
    "print(f\"vec1 is {v1}\\n\")\n",
    "\n",
    "v2 = np.array(list(range(6,11)))\n",
    "print(f\"vec2 is {v2}\\n\")\n",
    "\n",
    "v3 = v1 + v2\n",
    "print(f\"sum of v1 and v2 = {v3}\\n\")"
   ]
  },
  {
   "cell_type": "markdown",
   "id": "481e99dc",
   "metadata": {},
   "source": [
    "* Vector Subtraction:"
   ]
  },
  {
   "cell_type": "code",
   "execution_count": 35,
   "id": "2824442c",
   "metadata": {},
   "outputs": [
    {
     "name": "stdout",
     "output_type": "stream",
     "text": [
      "Subtractig v1 from v2 gives =  [6 6 6 6 6]\n"
     ]
    }
   ],
   "source": [
    "v4 = v2 - v1\n",
    "print(f\"Subtractig v1 from v2 gives =  {v4}\")"
   ]
  },
  {
   "cell_type": "markdown",
   "id": "03399894",
   "metadata": {},
   "source": [
    "* Vector Multiplication:"
   ]
  },
  {
   "cell_type": "code",
   "execution_count": 36,
   "id": "b29b9221",
   "metadata": {},
   "outputs": [
    {
     "name": "stdout",
     "output_type": "stream",
     "text": [
      "Vector multiplication of v1 and v2 is [ 0  7 16 27 40]\n",
      "\n"
     ]
    }
   ],
   "source": [
    "v5 = v1 * v2\n",
    "print(f\"Vector multiplication of v1 and v2 is {v5}\\n\")"
   ]
  },
  {
   "cell_type": "markdown",
   "id": "6d57a9b7",
   "metadata": {},
   "source": [
    "* Vector Division:"
   ]
  },
  {
   "cell_type": "code",
   "execution_count": 37,
   "id": "116ac511",
   "metadata": {},
   "outputs": [
    {
     "name": "stdout",
     "output_type": "stream",
     "text": [
      "Vector Division of v1 and v2 is  [0.         0.14285714 0.25       0.33333333 0.4       ]\n"
     ]
    }
   ],
   "source": [
    "v6 = v1 / v2\n",
    "print(f\"Vector Division of v1 and v2 is  {v6}\")"
   ]
  },
  {
   "cell_type": "markdown",
   "id": "9f9578ec",
   "metadata": {},
   "source": [
    "* Vector Dot product"
   ]
  },
  {
   "cell_type": "code",
   "execution_count": 38,
   "id": "a0ab95b0",
   "metadata": {},
   "outputs": [
    {
     "name": "stdout",
     "output_type": "stream",
     "text": [
      "Dot product of v1 and v2 is 90\n"
     ]
    }
   ],
   "source": [
    "vd = v1.dot(v2)\n",
    "print(f\"Dot product of v1 and v2 is {vd}\")\n"
   ]
  },
  {
   "cell_type": "markdown",
   "id": "77e73ba1",
   "metadata": {},
   "source": [
    "* Scalar Multiplication of a vector"
   ]
  },
  {
   "cell_type": "code",
   "execution_count": 39,
   "id": "0844e187",
   "metadata": {},
   "outputs": [
    {
     "name": "stdout",
     "output_type": "stream",
     "text": [
      "scalar product of v9 and 5 is [10 20 30]\n"
     ]
    }
   ],
   "source": [
    "v9 = np.array([2, 4, 6])\n",
    "print(f'scalar product of v9 and 5 is {v9*5}')"
   ]
  },
  {
   "cell_type": "markdown",
   "id": "c27410c4",
   "metadata": {},
   "source": [
    "* L1 Norm and L2 Norm\n",
    "  - We import the linalg package and norm module to compute l1 norm and l2 norm\n",
    "  - L1 norm is the sum of the absolute vector values. It is the norm is a calculation of the Manhattan distance from the origin of the vector space\n",
    "  - L2 norm is the square root of the sum of the squares of the vectors. L2 norm is also called as the eucledian norm"
   ]
  },
  {
   "cell_type": "code",
   "execution_count": 40,
   "id": "f57072d2",
   "metadata": {},
   "outputs": [],
   "source": [
    "from numpy import array, inf\n",
    "from numpy.linalg import norm"
   ]
  },
  {
   "cell_type": "code",
   "execution_count": 42,
   "id": "6c40e897",
   "metadata": {},
   "outputs": [
    {
     "name": "stdout",
     "output_type": "stream",
     "text": [
      "l2 norm is given by 9.486832980505138\n"
     ]
    }
   ],
   "source": [
    "v = np.array([2,3,4,5,6])\n",
    "l2 = norm(v)\n",
    "print(f\"l2 norm is given by {l2}\")"
   ]
  },
  {
   "cell_type": "markdown",
   "id": "9eb71607",
   "metadata": {},
   "source": [
    "### Working with Matrices\n",
    "A matrix is a two dimensional data structure where the data is arranged into rows and columns.\n",
    "          \n",
    "$$          \n",
    "A = \\begin{pmatrix}\n",
    "2 & -6 & -11 & 0\\\\       \n",
    "4 & 6 & 13 & -9\\\\\n",
    "4 & 7 & 12 & -2\n",
    "\\end{pmatrix}\n",
    "$$\n",
    "\n",
    "values ---> [2 -6 -11 0] represent rows <br/>\n",
    "values below are columns : \n",
    "\n",
    "$$ \\begin{pmatrix}\n",
    "2\\\\\n",
    "4\\\\\n",
    "4\\\\\n",
    "\\end{pmatrix}\n",
    "$$"
   ]
  },
  {
   "cell_type": "markdown",
   "id": "af46ea51",
   "metadata": {},
   "source": [
    "* Lets perform some operations on the below matrix"
   ]
  },
  {
   "cell_type": "code",
   "execution_count": 46,
   "id": "5f413a7e",
   "metadata": {},
   "outputs": [
    {
     "data": {
      "text/plain": [
       "matrix([[ 4,  6,  2],\n",
       "        [ 5,  7, 19],\n",
       "        [ 0,  3, 12]])"
      ]
     },
     "execution_count": 46,
     "metadata": {},
     "output_type": "execute_result"
    }
   ],
   "source": [
    "A = np.matrix([[4, 6, 2],\n",
    "               [5, 7, 19],\n",
    "               [0, 3, 12]])\n",
    "A"
   ]
  },
  {
   "cell_type": "code",
   "execution_count": 47,
   "id": "a673d2a5",
   "metadata": {},
   "outputs": [
    {
     "data": {
      "text/plain": [
       "matrix([[16, -4, 12],\n",
       "        [ 4,  4,  5],\n",
       "        [ 5,  5,  1]])"
      ]
     },
     "execution_count": 47,
     "metadata": {},
     "output_type": "execute_result"
    }
   ],
   "source": [
    "B = np.matrix([[16, -4, 12],\n",
    "               [4, 4, 5],\n",
    "               [5, 5, 1]])\n",
    "B"
   ]
  },
  {
   "cell_type": "markdown",
   "id": "0881c0ec",
   "metadata": {},
   "source": [
    "* Compute the following\n",
    "  \n",
    "- $6A$ (or any other scalar multiple of $A$);\n",
    "- $A ^ 3$ (or any other exponent of $A$);\n",
    "- $A + B$;\n",
    "- $A - B$;\n",
    "- $AB$"
   ]
  },
  {
   "cell_type": "code",
   "execution_count": 48,
   "id": "1fba9d36",
   "metadata": {},
   "outputs": [
    {
     "data": {
      "text/plain": [
       "matrix([[ 24,  36,  12],\n",
       "        [ 30,  42, 114],\n",
       "        [  0,  18,  72]])"
      ]
     },
     "execution_count": 48,
     "metadata": {},
     "output_type": "execute_result"
    }
   ],
   "source": [
    "6*A"
   ]
  },
  {
   "cell_type": "code",
   "execution_count": 49,
   "id": "49ebbfb9",
   "metadata": {},
   "outputs": [
    {
     "data": {
      "text/plain": [
       "matrix([[ 544, 1218, 3212],\n",
       "        [ 900, 2395, 7146],\n",
       "        [ 345, 1092, 3525]])"
      ]
     },
     "execution_count": 49,
     "metadata": {},
     "output_type": "execute_result"
    }
   ],
   "source": [
    "A ** 3"
   ]
  },
  {
   "cell_type": "code",
   "execution_count": 50,
   "id": "2c6b0308",
   "metadata": {},
   "outputs": [
    {
     "data": {
      "text/plain": [
       "matrix([[20,  2, 14],\n",
       "        [ 9, 11, 24],\n",
       "        [ 5,  8, 13]])"
      ]
     },
     "execution_count": 50,
     "metadata": {},
     "output_type": "execute_result"
    }
   ],
   "source": [
    "A + B"
   ]
  },
  {
   "cell_type": "code",
   "execution_count": 51,
   "id": "62e9c9c1",
   "metadata": {},
   "outputs": [
    {
     "data": {
      "text/plain": [
       "matrix([[-12,  10, -10],\n",
       "        [  1,   3,  14],\n",
       "        [ -5,  -2,  11]])"
      ]
     },
     "execution_count": 51,
     "metadata": {},
     "output_type": "execute_result"
    }
   ],
   "source": [
    "A - B"
   ]
  },
  {
   "cell_type": "code",
   "execution_count": 52,
   "id": "7133fdaa",
   "metadata": {},
   "outputs": [
    {
     "data": {
      "text/plain": [
       "matrix([[ 98,  18,  80],\n",
       "        [203, 103, 114],\n",
       "        [ 72,  72,  27]])"
      ]
     },
     "execution_count": 52,
     "metadata": {},
     "output_type": "execute_result"
    }
   ],
   "source": [
    "A*B"
   ]
  },
  {
   "cell_type": "markdown",
   "id": "8168d087",
   "metadata": {},
   "source": [
    "* Transpose of a matrix"
   ]
  },
  {
   "cell_type": "code",
   "execution_count": 55,
   "id": "57233e13",
   "metadata": {},
   "outputs": [
    {
     "name": "stdout",
     "output_type": "stream",
     "text": [
      "[[2 4 6]\n",
      " [3 5 7]]\n"
     ]
    }
   ],
   "source": [
    "A = np.array([[2,3],[4,5],[6,7]])\n",
    "print(A.transpose())"
   ]
  },
  {
   "cell_type": "code",
   "execution_count": 56,
   "id": "13597510",
   "metadata": {},
   "outputs": [
    {
     "data": {
      "text/plain": [
       "array([[2, 4, 6],\n",
       "       [3, 5, 7]])"
      ]
     },
     "execution_count": 56,
     "metadata": {},
     "output_type": "execute_result"
    }
   ],
   "source": [
    "A.T"
   ]
  },
  {
   "cell_type": "markdown",
   "id": "03b0030e",
   "metadata": {},
   "source": [
    "* Matrix elements can be accessed using the index"
   ]
  },
  {
   "cell_type": "code",
   "execution_count": 57,
   "id": "5312679d",
   "metadata": {},
   "outputs": [
    {
     "data": {
      "text/plain": [
       "array([2, 3])"
      ]
     },
     "execution_count": 57,
     "metadata": {},
     "output_type": "execute_result"
    }
   ],
   "source": [
    "A[0]"
   ]
  },
  {
   "cell_type": "code",
   "execution_count": 59,
   "id": "6b9659d7",
   "metadata": {},
   "outputs": [
    {
     "data": {
      "text/plain": [
       "array([4, 5])"
      ]
     },
     "execution_count": 59,
     "metadata": {},
     "output_type": "execute_result"
    }
   ],
   "source": [
    "A[1]"
   ]
  },
  {
   "cell_type": "code",
   "execution_count": 61,
   "id": "0640d1d4",
   "metadata": {},
   "outputs": [
    {
     "data": {
      "text/plain": [
       "2"
      ]
     },
     "execution_count": 61,
     "metadata": {},
     "output_type": "execute_result"
    }
   ],
   "source": [
    "A[0][0]"
   ]
  },
  {
   "cell_type": "code",
   "execution_count": 62,
   "id": "74d376f9",
   "metadata": {},
   "outputs": [
    {
     "data": {
      "text/plain": [
       "3"
      ]
     },
     "execution_count": 62,
     "metadata": {},
     "output_type": "execute_result"
    }
   ],
   "source": [
    "A[0][1]"
   ]
  },
  {
   "cell_type": "markdown",
   "id": "18edde23",
   "metadata": {},
   "source": [
    "* Compute the determinant of a matrix"
   ]
  },
  {
   "cell_type": "code",
   "execution_count": 66,
   "id": "6d2a3fe9",
   "metadata": {},
   "outputs": [
    {
     "name": "stdout",
     "output_type": "stream",
     "text": [
      "9.000000000000002\n"
     ]
    }
   ],
   "source": [
    "array1 = np.array([[4, 3], \n",
    "                  [5, 6]])\n",
    "detValue = np.linalg.det(array1)\n",
    "print(detValue)\n"
   ]
  },
  {
   "cell_type": "code",
   "execution_count": null,
   "id": "b578e5cb",
   "metadata": {},
   "outputs": [],
   "source": []
  }
 ],
 "metadata": {
  "kernelspec": {
   "display_name": "Python 3 (ipykernel)",
   "language": "python",
   "name": "python3"
  },
  "language_info": {
   "codemirror_mode": {
    "name": "ipython",
    "version": 3
   },
   "file_extension": ".py",
   "mimetype": "text/x-python",
   "name": "python",
   "nbconvert_exporter": "python",
   "pygments_lexer": "ipython3",
   "version": "3.10.10"
  }
 },
 "nbformat": 4,
 "nbformat_minor": 5
}
