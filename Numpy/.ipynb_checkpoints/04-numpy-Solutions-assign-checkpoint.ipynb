{
 "cells": [
  {
   "cell_type": "markdown",
   "id": "346c3436",
   "metadata": {},
   "source": [
    "**Q1** \n",
    " - Replace all odd numbers in arr with -9"
   ]
  },
  {
   "cell_type": "code",
   "execution_count": 1,
   "id": "92db6e8f",
   "metadata": {},
   "outputs": [],
   "source": [
    "import numpy as np"
   ]
  },
  {
   "cell_type": "code",
   "execution_count": 2,
   "id": "d0041831",
   "metadata": {},
   "outputs": [],
   "source": [
    "arr = np.array([0, 1, 2, 3, 4, 5, 6, 7, 8, 9])"
   ]
  },
  {
   "cell_type": "markdown",
   "id": "a161ec26",
   "metadata": {},
   "source": [
    "**answer**"
   ]
  },
  {
   "cell_type": "code",
   "execution_count": 3,
   "id": "bcd67595",
   "metadata": {},
   "outputs": [],
   "source": [
    "arr[arr % 2 == 1] = -9"
   ]
  },
  {
   "cell_type": "code",
   "execution_count": 4,
   "id": "4f7cf9ad",
   "metadata": {},
   "outputs": [
    {
     "data": {
      "text/plain": [
       "array([ 0, -9,  2, -9,  4, -9,  6, -9,  8, -9])"
      ]
     },
     "execution_count": 4,
     "metadata": {},
     "output_type": "execute_result"
    }
   ],
   "source": [
    "arr"
   ]
  },
  {
   "cell_type": "markdown",
   "id": "9aed4078",
   "metadata": {},
   "source": [
    "**Q2**\n",
    "-  Convert a 1D array to a 2D array with 2 rows"
   ]
  },
  {
   "cell_type": "markdown",
   "id": "fcc6329c",
   "metadata": {},
   "source": [
    "**answer**"
   ]
  },
  {
   "cell_type": "code",
   "execution_count": 6,
   "id": "d10f4373",
   "metadata": {},
   "outputs": [
    {
     "data": {
      "text/plain": [
       "array([[0, 1, 2, 3, 4],\n",
       "       [5, 6, 7, 8, 9]])"
      ]
     },
     "execution_count": 6,
     "metadata": {},
     "output_type": "execute_result"
    }
   ],
   "source": [
    "arr = np.arange(10)\n",
    "arr.reshape(2, 5)"
   ]
  },
  {
   "cell_type": "markdown",
   "id": "b1d54302",
   "metadata": {},
   "source": [
    "**Q** How to stack arrays vertically "
   ]
  },
  {
   "cell_type": "code",
   "execution_count": 7,
   "id": "f33ddaf4",
   "metadata": {},
   "outputs": [],
   "source": [
    "a = np.arange(10).reshape(2,-1)\n",
    "b = np.repeat(1, 10).reshape(2,-1)"
   ]
  },
  {
   "cell_type": "markdown",
   "id": "41081f6c",
   "metadata": {},
   "source": [
    "**answer**"
   ]
  },
  {
   "cell_type": "code",
   "execution_count": 8,
   "id": "955b9d06",
   "metadata": {},
   "outputs": [
    {
     "data": {
      "text/plain": [
       "array([[0, 1, 2, 3, 4],\n",
       "       [5, 6, 7, 8, 9],\n",
       "       [1, 1, 1, 1, 1],\n",
       "       [1, 1, 1, 1, 1]])"
      ]
     },
     "execution_count": 8,
     "metadata": {},
     "output_type": "execute_result"
    }
   ],
   "source": [
    "np.concatenate([a, b], axis=0)"
   ]
  },
  {
   "cell_type": "code",
   "execution_count": 9,
   "id": "44b91dc7",
   "metadata": {},
   "outputs": [
    {
     "data": {
      "text/plain": [
       "array([[0, 1, 2, 3, 4, 1, 1, 1, 1, 1],\n",
       "       [5, 6, 7, 8, 9, 1, 1, 1, 1, 1]])"
      ]
     },
     "execution_count": 9,
     "metadata": {},
     "output_type": "execute_result"
    }
   ],
   "source": [
    "##horizontally\n",
    "np.concatenate([a, b], axis=1)"
   ]
  },
  {
   "cell_type": "markdown",
   "id": "f44b2cf5",
   "metadata": {},
   "source": [
    "**Q4**\n",
    "-Reverse a vector np 1d array"
   ]
  },
  {
   "cell_type": "code",
   "execution_count": 10,
   "id": "56ad707e",
   "metadata": {},
   "outputs": [
    {
     "name": "stdout",
     "output_type": "stream",
     "text": [
      "[49 48 47 46 45 44 43 42 41 40 39 38 37 36 35 34 33 32 31 30 29 28 27 26\n",
      " 25 24 23 22 21 20 19 18 17 16 15 14 13 12 11 10  9  8  7  6  5  4  3  2\n",
      "  1  0]\n"
     ]
    }
   ],
   "source": [
    "Z = np.arange(50)\n",
    "Z = Z[::-1]\n",
    "print(Z)"
   ]
  },
  {
   "cell_type": "code",
   "execution_count": null,
   "id": "a779d552",
   "metadata": {},
   "outputs": [],
   "source": []
  }
 ],
 "metadata": {
  "kernelspec": {
   "display_name": "Python 3 (ipykernel)",
   "language": "python",
   "name": "python3"
  },
  "language_info": {
   "codemirror_mode": {
    "name": "ipython",
    "version": 3
   },
   "file_extension": ".py",
   "mimetype": "text/x-python",
   "name": "python",
   "nbconvert_exporter": "python",
   "pygments_lexer": "ipython3",
   "version": "3.10.10"
  }
 },
 "nbformat": 4,
 "nbformat_minor": 5
}
