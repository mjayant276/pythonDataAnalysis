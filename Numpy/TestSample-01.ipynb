{
 "cells": [
  {
   "cell_type": "markdown",
   "id": "5093ce13",
   "metadata": {},
   "source": [
    "#### This is a sample pytho program\n",
    "* We shall import pandas library <br/>\n",
    " <b> This is text </b>"
   ]
  },
  {
   "cell_type": "code",
   "execution_count": null,
   "id": "ff95f6d9",
   "metadata": {},
   "outputs": [],
   "source": [
    "In code mode we can write python code snippets (lines of code)\n",
    "Markdown is used for rendering of text - Headings , bullets points, images etc \n",
    "RawNBConvert - PLain code or text is maintained in the cell without any formatting "
   ]
  },
  {
   "cell_type": "code",
   "execution_count": null,
   "id": "4def7877",
   "metadata": {},
   "outputs": [],
   "source": [
    "To execute a cell in jupyter notebook - we use shift + enter or the ''''''> run button"
   ]
  },
  {
   "cell_type": "code",
   "execution_count": null,
   "id": "361680c0",
   "metadata": {},
   "outputs": [],
   "source": [
    "This is plain text"
   ]
  },
  {
   "cell_type": "code",
   "execution_count": 1,
   "id": "7bb9c022",
   "metadata": {},
   "outputs": [],
   "source": [
    "import pandas as pd"
   ]
  },
  {
   "cell_type": "code",
   "execution_count": 2,
   "id": "d5c2632c",
   "metadata": {},
   "outputs": [
    {
     "name": "stdout",
     "output_type": "stream",
     "text": [
      "3\n"
     ]
    }
   ],
   "source": [
    "x = 3\n",
    "print(x)"
   ]
  },
  {
   "cell_type": "code",
   "execution_count": null,
   "id": "8e3061c7",
   "metadata": {},
   "outputs": [],
   "source": []
  }
 ],
 "metadata": {
  "kernelspec": {
   "display_name": "Python 3 (ipykernel)",
   "language": "python",
   "name": "python3"
  },
  "language_info": {
   "codemirror_mode": {
    "name": "ipython",
    "version": 3
   },
   "file_extension": ".py",
   "mimetype": "text/x-python",
   "name": "python",
   "nbconvert_exporter": "python",
   "pygments_lexer": "ipython3",
   "version": "3.10.10"
  }
 },
 "nbformat": 4,
 "nbformat_minor": 5
}
