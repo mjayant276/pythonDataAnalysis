{
 "cells": [
  {
   "cell_type": "markdown",
   "id": "d2200344",
   "metadata": {},
   "source": [
    "## Modifying the array elements using insert, append and delete"
   ]
  },
  {
   "cell_type": "markdown",
   "id": "5f0b1a5a",
   "metadata": {},
   "source": [
    "<img center src='./images/axis_0.jpg' />"
   ]
  },
  {
   "cell_type": "code",
   "execution_count": 1,
   "id": "bddde8d9",
   "metadata": {},
   "outputs": [],
   "source": [
    "import numpy as np"
   ]
  },
  {
   "cell_type": "code",
   "execution_count": 2,
   "id": "b7059814",
   "metadata": {},
   "outputs": [
    {
     "data": {
      "text/plain": [
       "array([10, 11, 12, 13, 14, 15, 16, 17, 18])"
      ]
     },
     "execution_count": 2,
     "metadata": {},
     "output_type": "execute_result"
    }
   ],
   "source": [
    "a = np.arange(10,19)\n",
    "a"
   ]
  },
  {
   "cell_type": "markdown",
   "id": "731541ae",
   "metadata": {},
   "source": [
    "**Syntax**\n",
    " - np.append(ndarray, elements you want to add, axis)"
   ]
  },
  {
   "cell_type": "code",
   "execution_count": 3,
   "id": "ccac0533",
   "metadata": {
    "scrolled": true
   },
   "outputs": [
    {
     "data": {
      "text/plain": [
       "array([10, 11, 12, 13, 14, 15, 16, 17, 18, 21])"
      ]
     },
     "execution_count": 3,
     "metadata": {},
     "output_type": "execute_result"
    }
   ],
   "source": [
    "np.append(a,21)"
   ]
  },
  {
   "cell_type": "code",
   "execution_count": 4,
   "id": "f9067bf4",
   "metadata": {},
   "outputs": [
    {
     "data": {
      "text/plain": [
       "array([10, 11, 12, 13, 14, 15, 16, 17, 18])"
      ]
     },
     "execution_count": 4,
     "metadata": {},
     "output_type": "execute_result"
    }
   ],
   "source": [
    "a"
   ]
  },
  {
   "cell_type": "code",
   "execution_count": 5,
   "id": "4d9f55f3",
   "metadata": {},
   "outputs": [
    {
     "data": {
      "text/plain": [
       "array([10, 11, 12, 13, 14, 15, 16, 17, 18, 21, 22, 23])"
      ]
     },
     "execution_count": 5,
     "metadata": {},
     "output_type": "execute_result"
    }
   ],
   "source": [
    "np.append(a,[21,22,23])"
   ]
  },
  {
   "cell_type": "code",
   "execution_count": 6,
   "id": "8dc815b6",
   "metadata": {},
   "outputs": [
    {
     "data": {
      "text/plain": [
       "array([10, 11, 12, 13, 14, 15, 16, 17, 18, 21, 22, 23])"
      ]
     },
     "execution_count": 6,
     "metadata": {},
     "output_type": "execute_result"
    }
   ],
   "source": [
    "b = np.append(a,[21,22,23])\n",
    "b"
   ]
  },
  {
   "cell_type": "code",
   "execution_count": 7,
   "id": "ab445bc3",
   "metadata": {},
   "outputs": [
    {
     "data": {
      "text/plain": [
       "array([[10, 11, 12],\n",
       "       [13, 14, 15],\n",
       "       [16, 17, 18],\n",
       "       [21, 22, 23]])"
      ]
     },
     "execution_count": 7,
     "metadata": {},
     "output_type": "execute_result"
    }
   ],
   "source": [
    "b.reshape(4,3)"
   ]
  },
  {
   "cell_type": "code",
   "execution_count": 8,
   "id": "d68287ef",
   "metadata": {},
   "outputs": [
    {
     "data": {
      "text/plain": [
       "array([[10, 11, 12, 13],\n",
       "       [14, 15, 16, 17],\n",
       "       [18, 21, 22, 23]])"
      ]
     },
     "execution_count": 8,
     "metadata": {},
     "output_type": "execute_result"
    }
   ],
   "source": [
    "b.reshape(3,4)"
   ]
  },
  {
   "cell_type": "code",
   "execution_count": 9,
   "id": "3f255d95",
   "metadata": {},
   "outputs": [
    {
     "data": {
      "text/plain": [
       "array([10, 11, 12, 13, 14, 15, 16, 17, 18, 21, 22, 23])"
      ]
     },
     "execution_count": 9,
     "metadata": {},
     "output_type": "execute_result"
    }
   ],
   "source": [
    "b"
   ]
  },
  {
   "cell_type": "code",
   "execution_count": 10,
   "id": "903ba34f",
   "metadata": {},
   "outputs": [
    {
     "data": {
      "text/plain": [
       "array([[10, 11, 12, 13],\n",
       "       [14, 15, 16, 17],\n",
       "       [18, 21, 22, 23]])"
      ]
     },
     "execution_count": 10,
     "metadata": {},
     "output_type": "execute_result"
    }
   ],
   "source": [
    "c1 = b.reshape(3,4)\n",
    "c1"
   ]
  },
  {
   "cell_type": "code",
   "execution_count": 11,
   "id": "d7069b7c",
   "metadata": {},
   "outputs": [
    {
     "data": {
      "text/plain": [
       "array([[10, 11, 12, 13],\n",
       "       [14, 15, 16, 17],\n",
       "       [18, 21, 22, 23],\n",
       "       [11, 12, 13, 14]])"
      ]
     },
     "execution_count": 11,
     "metadata": {},
     "output_type": "execute_result"
    }
   ],
   "source": [
    "c1 = np.append(c1,[[11,12,13,14]],axis=0)\n",
    "c1"
   ]
  },
  {
   "cell_type": "code",
   "execution_count": 12,
   "id": "49935e6c",
   "metadata": {},
   "outputs": [
    {
     "name": "stdout",
     "output_type": "stream",
     "text": [
      "[[10 11 12 13]\n",
      " [14 15 16 17]\n",
      " [18 21 22 23]]\n"
     ]
    }
   ],
   "source": [
    "c2 = b.reshape(3,4)\n",
    "print(c2)\n"
   ]
  },
  {
   "cell_type": "code",
   "execution_count": 13,
   "id": "f7a2bfa0",
   "metadata": {},
   "outputs": [
    {
     "name": "stdout",
     "output_type": "stream",
     "text": [
      "[[10 11 12 13 31]\n",
      " [14 15 16 17 32]\n",
      " [18 21 22 23 33]]\n"
     ]
    }
   ],
   "source": [
    "c2 = np.append(c2,[[31],[32],[33]],axis=1)\n",
    "print(c2)"
   ]
  },
  {
   "cell_type": "code",
   "execution_count": 29,
   "id": "8dd34cec",
   "metadata": {},
   "outputs": [
    {
     "name": "stdout",
     "output_type": "stream",
     "text": [
      "[[10 11 12 13]\n",
      " [14 15 16 17]\n",
      " [18 21 22 23]\n",
      " [11 12 13 14]]\n",
      "[[10 11 12 13 31]\n",
      " [14 15 16 17 32]\n",
      " [18 21 22 23 33]]\n"
     ]
    }
   ],
   "source": [
    "c1 = b.reshape(3,4)\n",
    "c1 = np.append(c1,[[11,12,13,14]],axis=0)\n",
    "# c1\n",
    "print(c1)\n",
    "c2 = b.reshape(3,4)\n",
    "c2 = np.append(c2,[[31],[32],[33]],axis=1)\n",
    "print(c2)"
   ]
  },
  {
   "cell_type": "markdown",
   "id": "3448ac19",
   "metadata": {},
   "source": [
    "- For 2D arrays - rows and columns insertion <br/>\n",
    "**Syntax**\n",
    "    - np.insert(ndarray, index, elements,axis)"
   ]
  },
  {
   "cell_type": "code",
   "execution_count": 19,
   "id": "6304de22",
   "metadata": {},
   "outputs": [
    {
     "name": "stdout",
     "output_type": "stream",
     "text": [
      "[[101 102]\n",
      " [111 112]\n",
      " [103 104]]\n"
     ]
    },
    {
     "data": {
      "text/plain": [
       "array([[101, 111, 102],\n",
       "       [103, 112, 104]])"
      ]
     },
     "execution_count": 19,
     "metadata": {},
     "output_type": "execute_result"
    }
   ],
   "source": [
    "arr1 = np.array([[101,102],[103,104]])\n",
    "print(np.insert(arr1,1,[111,112],axis = 0))\n",
    "np.insert(arr1,1,[111,112],axis = 1)"
   ]
  },
  {
   "cell_type": "markdown",
   "id": "e9e4750b",
   "metadata": {},
   "source": [
    "#### Integer array indexing:"
   ]
  },
  {
   "cell_type": "code",
   "execution_count": 30,
   "id": "23b3ac97",
   "metadata": {},
   "outputs": [
    {
     "name": "stdout",
     "output_type": "stream",
     "text": [
      "[1 4 5]\n",
      "[1 4 5]\n",
      "[2 2]\n",
      "[2 2]\n"
     ]
    }
   ],
   "source": [
    "import numpy as np\n",
    "\n",
    "a = np.array([[1,2], [3, 4], [5, 6]])\n",
    "\n",
    "'''\n",
    "     0,1\n",
    "0 - [1,2] \n",
    "1 - [3,4] \n",
    "2 - [5,6] \n",
    "'''\n",
    "\n",
    "# An example of integer array indexing.\n",
    "# The returned array will have shape (3,) and\n",
    "print(a[[0, 1, 2], [0, 1, 0]])  # Prints \"[1 4 5]\"\n",
    "\n",
    "# The above example of integer array indexing is equivalent to this:\n",
    "print(np.array([a[0, 0], a[1, 1], a[2, 0]]))  # Prints \"[1 4 5]\"\n",
    "a[[0, 0], [1, 1]]\n",
    "\n",
    "# When using integer array indexing, you can reuse the same\n",
    "# element from the source array:\n",
    "print(a[[0, 0], [1, 1]])  # Prints \"[1 4 ]\"\n",
    "\n",
    "# Equivalent to the previous integer array indexing example\n",
    "print(np.array([a[0, 1], a[0, 1]]))  # Prints \"[2 2]\""
   ]
  },
  {
   "cell_type": "code",
   "execution_count": 31,
   "id": "098574bd",
   "metadata": {},
   "outputs": [
    {
     "name": "stdout",
     "output_type": "stream",
     "text": [
      "[[ 1  2  3]\n",
      " [ 4  5  6]\n",
      " [ 7  8  9]\n",
      " [10 11 12]]\n",
      "[ 1  6  7 11]\n",
      "[[11  2  3]\n",
      " [ 4  5 16]\n",
      " [17  8  9]\n",
      " [10 21 12]]\n"
     ]
    }
   ],
   "source": [
    "import numpy as np\n",
    "\n",
    "# Create a new array from which we will select elements\n",
    "a = np.array([[1,2,3], [4,5,6], [7,8,9], [10, 11, 12]])\n",
    "\n",
    "#                              0  1   2\n",
    "print(a)  # prints 0 \"array([[ 1,  2,  3],\n",
    "          #        1        [ 4,  5,  6],\n",
    "          #        2        [ 7,  8,  9],\n",
    "          #        3        [10, 11, 12]])\"\n",
    "\n",
    "# Create an array of indices\n",
    "b = np.array([0, 2, 0, 1])\n",
    "\n",
    "# Select one element from each row of a using the indices in b\n",
    "print(a[np.arange(4), b])  # Prints \"[ 1  6  7 11]\"\n",
    "\n",
    "# Mutate one element from each row of a using the indices in b\n",
    "a[np.arange(4), b] += 10\n",
    "\n",
    "print(a)  # prints \"array([[11,  2,  3],\n",
    "          #                [ 4,  5, 16],\n",
    "          #                [17,  8,  9],\n",
    "          #                [10, 21, 12]])"
   ]
  },
  {
   "cell_type": "markdown",
   "id": "21dc4075",
   "metadata": {},
   "source": [
    "#### Difference between vector , matrix and tesor"
   ]
  },
  {
   "cell_type": "code",
   "execution_count": 33,
   "id": "bd0cd2d3",
   "metadata": {},
   "outputs": [
    {
     "name": "stdout",
     "output_type": "stream",
     "text": [
      "Vector shape: (5,)\n",
      "Matrix shape: (3, 2)\n",
      "Tensor shape: (2, 3, 3)\n"
     ]
    }
   ],
   "source": [
    "vector = np.arange(5)\n",
    "print(\"Vector shape:\", vector.shape)\n",
    "\n",
    "matrix = np.ones([3, 2])\n",
    "print(\"Matrix shape:\", matrix.shape)\n",
    "\n",
    "tensor = np.zeros([2, 3, 3])\n",
    "print(\"Tensor shape:\", tensor.shape)"
   ]
  },
  {
   "cell_type": "markdown",
   "id": "7bda5631",
   "metadata": {},
   "source": [
    "##### Generating ones with numpy np"
   ]
  },
  {
   "cell_type": "code",
   "execution_count": 4,
   "id": "ba1d5923",
   "metadata": {},
   "outputs": [
    {
     "name": "stdout",
     "output_type": "stream",
     "text": [
      "Vector with Ones [1. 1. 1. 1. 1. 1. 1. 1. 1. 1.] \n",
      "\n",
      "\n",
      " Square matrix with Ones [[1. 1. 1. 1. 1.]\n",
      " [1. 1. 1. 1. 1.]\n",
      " [1. 1. 1. 1. 1.]\n",
      " [1. 1. 1. 1. 1.]\n",
      " [1. 1. 1. 1. 1.]] \n",
      "\n"
     ]
    }
   ],
   "source": [
    "import numpy as np\n",
    "print('Vector with Ones {} \\n'.format(np.ones(10)))\n",
    "\n",
    "print('\\n Square matrix with Ones {} \\n'.format(np.ones((5,5))))"
   ]
  },
  {
   "cell_type": "markdown",
   "id": "f1f53943",
   "metadata": {},
   "source": [
    "##### Creating arrays using existing arrays"
   ]
  },
  {
   "cell_type": "code",
   "execution_count": 36,
   "id": "9d94a810",
   "metadata": {},
   "outputs": [
    {
     "data": {
      "text/plain": [
       "array([[29, 29, 29],\n",
       "       [29, 29, 29]])"
      ]
     },
     "execution_count": 36,
     "metadata": {},
     "output_type": "execute_result"
    }
   ],
   "source": [
    "x = np.array([[1, 2, 3], [4, 5, 6]])\n",
    "\n",
    "np.full(x.shape, 29)"
   ]
  },
  {
   "cell_type": "markdown",
   "id": "cd88f3f2",
   "metadata": {},
   "source": [
    "#### Creating an indentity matrix"
   ]
  },
  {
   "cell_type": "code",
   "execution_count": 37,
   "id": "b6fcc614",
   "metadata": {
    "scrolled": true
   },
   "outputs": [
    {
     "data": {
      "text/plain": [
       "array([[1., 0., 0., 0., 0.],\n",
       "       [0., 1., 0., 0., 0.],\n",
       "       [0., 0., 1., 0., 0.],\n",
       "       [0., 0., 0., 1., 0.],\n",
       "       [0., 0., 0., 0., 1.]])"
      ]
     },
     "execution_count": 37,
     "metadata": {},
     "output_type": "execute_result"
    }
   ],
   "source": [
    "np.eye(5)"
   ]
  },
  {
   "cell_type": "code",
   "execution_count": 38,
   "id": "b6eb15f6",
   "metadata": {},
   "outputs": [
    {
     "data": {
      "text/plain": [
       "array([[1., 0., 0.],\n",
       "       [0., 1., 0.],\n",
       "       [0., 0., 1.],\n",
       "       [0., 0., 0.],\n",
       "       [0., 0., 0.]])"
      ]
     },
     "execution_count": 38,
     "metadata": {},
     "output_type": "execute_result"
    }
   ],
   "source": [
    "np.eye(5, 3)"
   ]
  },
  {
   "cell_type": "code",
   "execution_count": null,
   "id": "0aa69ca1",
   "metadata": {},
   "outputs": [],
   "source": []
  },
  {
   "cell_type": "code",
   "execution_count": 39,
   "id": "9573aaa6",
   "metadata": {},
   "outputs": [
    {
     "name": "stdout",
     "output_type": "stream",
     "text": [
      "[[ 6.  8.]\n",
      " [10. 12.]]\n",
      "[[ 6.  8.]\n",
      " [10. 12.]]\n",
      "[[-4. -4.]\n",
      " [-4. -4.]]\n",
      "[[-4. -4.]\n",
      " [-4. -4.]]\n",
      "[[ 5. 12.]\n",
      " [21. 32.]]\n",
      "[[ 5. 12.]\n",
      " [21. 32.]]\n",
      "[[0.2        0.33333333]\n",
      " [0.42857143 0.5       ]]\n",
      "[[0.2        0.33333333]\n",
      " [0.42857143 0.5       ]]\n",
      "[[1.         1.41421356]\n",
      " [1.73205081 2.        ]]\n"
     ]
    }
   ],
   "source": [
    "import numpy as np\n",
    "\n",
    "x = np.array([[1,2],[3,4]], dtype=np.float64)\n",
    "y = np.array([[5,6],[7,8]], dtype=np.float64)\n",
    "\n",
    "# Elementwise sum; both produce the array\n",
    "# [[ 6.0  8.0]\n",
    "#  [10.0 12.0]]\n",
    "print(x + y)\n",
    "print(np.add(x, y))\n",
    "\n",
    "# Elementwise difference; both produce the array\n",
    "# [[-4.0 -4.0]\n",
    "#  [-4.0 -4.0]]\n",
    "print(x - y)\n",
    "print(np.subtract(x, y))\n",
    "\n",
    "# Elementwise product; both produce the array\n",
    "# [[ 5.0 12.0]\n",
    "#  [21.0 32.0]]\n",
    "print(x * y)\n",
    "print(np.multiply(x, y))\n",
    "\n",
    "# Elementwise division; both produce the array\n",
    "# [[ 0.2         0.33333333]\n",
    "#  [ 0.42857143  0.5       ]]\n",
    "print(x / y)\n",
    "print(np.divide(x, y))\n",
    "\n",
    "# Elementwise square root; produces the array\n",
    "# [[ 1.          1.41421356]\n",
    "#  [ 1.73205081  2.        ]]\n",
    "print(np.sqrt(x))\n"
   ]
  },
  {
   "cell_type": "code",
   "execution_count": 40,
   "id": "dec982cc",
   "metadata": {},
   "outputs": [
    {
     "name": "stdout",
     "output_type": "stream",
     "text": [
      "219\n",
      "219\n",
      "[29 67]\n",
      "[29 67]\n",
      "[[19 22]\n",
      " [43 50]]\n",
      "[[19 22]\n",
      " [43 50]]\n"
     ]
    }
   ],
   "source": [
    "import numpy as np\n",
    "\n",
    "x = np.array([[1,2],[3,4]])\n",
    "y = np.array([[5,6],[7,8]])\n",
    "\n",
    "v = np.array([9,10])\n",
    "w = np.array([11, 12])\n",
    "\n",
    "# Inner product of vectors; both produce 219\n",
    "print(v.dot(w)) # (9*11 + 10*12 = 219)\n",
    "print(np.dot(v, w)) # (9*11 + 10*12 = 219)\n",
    "\n",
    "# Matrix / vector product; both produce the rank 1 array [29 67]\n",
    "print(x.dot(v))\n",
    "print(np.dot(x, v))\n",
    "\n",
    "# Matrix / matrix product; both produce the rank 2 array\n",
    "# [[19 22]\n",
    "#  [43 50]]\n",
    "print(x.dot(y))\n",
    "print(np.dot(x, y))\n"
   ]
  },
  {
   "cell_type": "code",
   "execution_count": 1,
   "id": "f4d873bb",
   "metadata": {},
   "outputs": [
    {
     "name": "stdout",
     "output_type": "stream",
     "text": [
      "[[-1 -1 25]\n",
      " [ 6 10 22]\n",
      " [31 27 19]]\n"
     ]
    }
   ],
   "source": [
    " # 2D arrays or matrices\n",
    "import numpy as np\n",
    "a = [[1,2,3],[2,0,3],[7,-5,1]]\n",
    "b = [[3,-1,5],[-2,-6,4], [0,4,4]]\n",
    "z = np.dot(a,b)\n",
    " \n",
    "# [1 2 3]    [3 -1 5]\n",
    "# [2 0 3]    [-2 -6 4]\n",
    "# [7 -5 1]   [0  4  4] \n",
    "print(z)"
   ]
  },
  {
   "cell_type": "markdown",
   "id": "5c6cbccd",
   "metadata": {},
   "source": [
    "####  Inner product"
   ]
  },
  {
   "cell_type": "code",
   "execution_count": 2,
   "id": "237dd272",
   "metadata": {},
   "outputs": [
    {
     "name": "stdout",
     "output_type": "stream",
     "text": [
      "[18 21]\n"
     ]
    }
   ],
   "source": [
    "a = np.array([[1,2,3], [4,-1,0]])\n",
    "b = np.array([6,3,2])\n",
    "z = np.inner(a,b)\n",
    "print(z) "
   ]
  },
  {
   "cell_type": "code",
   "execution_count": 3,
   "id": "0170b5bd",
   "metadata": {},
   "outputs": [
    {
     "data": {
      "text/plain": [
       "array([[ 1,  2,  3],\n",
       "       [ 4, -1,  0]])"
      ]
     },
     "execution_count": 3,
     "metadata": {},
     "output_type": "execute_result"
    }
   ],
   "source": [
    "a"
   ]
  },
  {
   "cell_type": "code",
   "execution_count": 4,
   "id": "42b2edfc",
   "metadata": {},
   "outputs": [
    {
     "data": {
      "text/plain": [
       "array([6, 3, 2])"
      ]
     },
     "execution_count": 4,
     "metadata": {},
     "output_type": "execute_result"
    }
   ],
   "source": [
    "b"
   ]
  },
  {
   "cell_type": "code",
   "execution_count": 5,
   "id": "45aef564",
   "metadata": {},
   "outputs": [
    {
     "data": {
      "text/plain": [
       "(3,)"
      ]
     },
     "execution_count": 5,
     "metadata": {},
     "output_type": "execute_result"
    }
   ],
   "source": [
    "b.shape"
   ]
  },
  {
   "cell_type": "code",
   "execution_count": 7,
   "id": "59a3c677",
   "metadata": {},
   "outputs": [
    {
     "data": {
      "text/plain": [
       "array([[ 1,  4],\n",
       "       [ 2, -1],\n",
       "       [ 3,  0]])"
      ]
     },
     "execution_count": 7,
     "metadata": {},
     "output_type": "execute_result"
    }
   ],
   "source": [
    "a.T"
   ]
  },
  {
   "cell_type": "code",
   "execution_count": 67,
   "id": "eb4d7305",
   "metadata": {},
   "outputs": [
    {
     "data": {
      "text/plain": [
       "array([18, 21])"
      ]
     },
     "execution_count": 67,
     "metadata": {},
     "output_type": "execute_result"
    }
   ],
   "source": [
    "###The same results can be obtained using the dot method as follows.\n",
    "\n",
    "a.dot(b.T)"
   ]
  },
  {
   "cell_type": "markdown",
   "id": "a2975113",
   "metadata": {},
   "source": [
    "**Outer Product**\n",
    "\n",
    "Outer product is the dot product of a column vector of size M by 1 and r\n",
    "a row vector of size 1 by N. The resulting array is a matrix of size M*N."
   ]
  },
  {
   "cell_type": "code",
   "execution_count": 70,
   "id": "893c7ec8",
   "metadata": {},
   "outputs": [
    {
     "name": "stdout",
     "output_type": "stream",
     "text": [
      "[[ 6  3  2]\n",
      " [12  6  4]\n",
      " [18  9  6]\n",
      " [24 12  8]\n",
      " [30 15 10]]\n"
     ]
    }
   ],
   "source": [
    "a = np.array([1,2,3,4,5])\n",
    "b = np.array([6,3,2])\n",
    "z = np.outer(a,b)\n",
    "print(z)"
   ]
  },
  {
   "cell_type": "markdown",
   "id": "640b6a66",
   "metadata": {},
   "source": [
    "**Matrix Multiplication**"
   ]
  },
  {
   "cell_type": "code",
   "execution_count": 71,
   "id": "ea1c349b",
   "metadata": {},
   "outputs": [
    {
     "name": "stdout",
     "output_type": "stream",
     "text": [
      "[[0 1 2]\n",
      " [3 4 5]]\n",
      "[[-3 -2]\n",
      " [-1  0]\n",
      " [ 1  2]]\n",
      "[[ 1  4]\n",
      " [-8  4]]\n"
     ]
    }
   ],
   "source": [
    "a = np.arange(6).reshape(2,3)\n",
    "b = np.arange(-3,3).reshape(3,2)\n",
    "z = np.matmul(a, b)\n",
    "print(a) \n",
    "print(b) \n",
    "print(z)"
   ]
  },
  {
   "cell_type": "code",
   "execution_count": 72,
   "id": "371fa728",
   "metadata": {},
   "outputs": [
    {
     "name": "stdout",
     "output_type": "stream",
     "text": [
      "(8, 7, 5, 3)\n"
     ]
    }
   ],
   "source": [
    "### @ symbol can be used for matrix multuplication\n",
    "a = np.random.random([8,7,5,2])\n",
    "b = np.random.random([8,7,2,3])\n",
    "z = a @ b\n",
    "print(z.shape) "
   ]
  },
  {
   "cell_type": "markdown",
   "id": "10e16ea8",
   "metadata": {},
   "source": [
    "**Matrix Determinant**\n",
    "\n",
    "Matrix determinant can be calculated using the method det available in the linalg module."
   ]
  },
  {
   "cell_type": "code",
   "execution_count": 77,
   "id": "e89ca1cd",
   "metadata": {},
   "outputs": [
    {
     "name": "stdout",
     "output_type": "stream",
     "text": [
      "[[18 19 13]\n",
      " [27 17 33]\n",
      " [33 17 17]]\n",
      "5747\n"
     ]
    }
   ],
   "source": [
    " # generate a random integer matrix of size 3 by 3\n",
    "a = np.random.randint(3,35,[3,3])\n",
    "print(a)\n",
    "det = np.linalg.det(a)\n",
    "print(int(det)) \n",
    "# * det = 18 * (17*17 - 17*33) - 19 * (27*17 - 33*33) + 13 (27*17 - 33*17)"
   ]
  },
  {
   "cell_type": "markdown",
   "id": "2297ebd8",
   "metadata": {},
   "source": [
    "**Matrix Inverse**\n",
    "\n",
    "Inverse of a square matrix can be derived using the inv method of the linalg module."
   ]
  },
  {
   "cell_type": "code",
   "execution_count": 78,
   "id": "f2cbba01",
   "metadata": {},
   "outputs": [
    {
     "name": "stdout",
     "output_type": "stream",
     "text": [
      "[[1 8 9]\n",
      " [5 9 1]\n",
      " [6 5 3]]\n",
      "\n",
      "[[-0.07073955 -0.06752412  0.23472669]\n",
      " [ 0.02893891  0.16398714 -0.1414791 ]\n",
      " [ 0.09324759 -0.13826367  0.09967846]]\n"
     ]
    }
   ],
   "source": [
    "a = np.random.randint(1,10,[3,3])\n",
    "inv = np.linalg.inv(a)\n",
    "print(a)\n",
    "print()\n",
    "print(inv) "
   ]
  },
  {
   "cell_type": "markdown",
   "id": "e83efdf5",
   "metadata": {},
   "source": [
    "###### Performing numpy array operations"
   ]
  },
  {
   "cell_type": "code",
   "execution_count": 1,
   "id": "c67324cc",
   "metadata": {},
   "outputs": [
    {
     "name": "stdout",
     "output_type": "stream",
     "text": [
      "45\n",
      "[12 15 18]\n",
      "[ 6 15 24]\n"
     ]
    }
   ],
   "source": [
    "import numpy as np\n",
    "\n",
    "x = np.array([[1,2,3],[4,5,6],[7,8,9]])\n",
    "\n",
    "print(np.sum(x))  # Compute sum of all elements; prints \"10\"\n",
    "print(np.sum(x, axis=0))  # Compute sum of each column; prints \"[4 6]\"\n",
    "print(np.sum(x, axis=1))  # Compute sum of each row; prints \"[3 7]\""
   ]
  },
  {
   "cell_type": "code",
   "execution_count": 42,
   "id": "2ac55628",
   "metadata": {},
   "outputs": [
    {
     "name": "stdout",
     "output_type": "stream",
     "text": [
      "[[1 2]\n",
      " [3 4]]\n",
      "[[1 3]\n",
      " [2 4]]\n",
      "[1 2 3]\n",
      "[1 2 3]\n"
     ]
    }
   ],
   "source": [
    "import numpy as np\n",
    "\n",
    "x = np.array([[1,2], [3,4]])\n",
    "print(x)    # Prints \"[[1 2]\n",
    "            #          [3 4]]\"\n",
    "print(x.T)  # Prints \"[[1 3]\n",
    "            #          [2 4]]\"\n",
    "\n",
    "# Note that taking the transpose of a rank 1 array does nothing:\n",
    "v = np.array([1,2,3])\n",
    "print(v)    # Prints \"[1 2 3]\"\n",
    "print(v.T)  # Prints \"[1 2 3]\""
   ]
  },
  {
   "cell_type": "markdown",
   "id": "aab4eb5f",
   "metadata": {},
   "source": [
    "###### Using broadcasting on numpy arrays"
   ]
  },
  {
   "cell_type": "code",
   "execution_count": 43,
   "id": "198af185",
   "metadata": {},
   "outputs": [
    {
     "name": "stdout",
     "output_type": "stream",
     "text": [
      "[[ 2  2  4]\n",
      " [ 5  5  7]\n",
      " [ 8  8 10]\n",
      " [11 11 13]]\n"
     ]
    }
   ],
   "source": [
    "import numpy as np\n",
    "\n",
    "# We will add the vector v to each row of the matrix x,\n",
    "# storing the result in the matrix y\n",
    "x = np.array([[1,2,3], [4,5,6], [7,8,9], [10, 11, 12]])\n",
    "v = np.array([1, 0, 1])\n",
    "y = x + v  # Add v to each row of x using broadcasting\n",
    "print(y)  # Prints \"[[ 2  2  4]\n",
    "          #          [ 5  5  7]\n",
    "          #          [ 8  8 10]\n",
    "          #          [11 11 13]]\""
   ]
  },
  {
   "cell_type": "markdown",
   "id": "b75229ab",
   "metadata": {},
   "source": [
    "#### Memory address of numpy"
   ]
  },
  {
   "cell_type": "code",
   "execution_count": 44,
   "id": "56110df3",
   "metadata": {},
   "outputs": [
    {
     "data": {
      "text/plain": [
       "<memory at 0x000001CEAB923640>"
      ]
     },
     "execution_count": 44,
     "metadata": {},
     "output_type": "execute_result"
    }
   ],
   "source": [
    "x = np.array([1, 2, 3], dtype=np.int32)\n",
    "x.data"
   ]
  },
  {
   "cell_type": "code",
   "execution_count": 45,
   "id": "e8fab93a",
   "metadata": {},
   "outputs": [
    {
     "data": {
      "text/plain": [
       "1987114935296"
      ]
     },
     "execution_count": 45,
     "metadata": {},
     "output_type": "execute_result"
    }
   ],
   "source": [
    "### memory address of data\n",
    "x.__array_interface__['data'][0] "
   ]
  },
  {
   "cell_type": "code",
   "execution_count": 46,
   "id": "2529325d",
   "metadata": {},
   "outputs": [
    {
     "data": {
      "text/plain": [
       "{'data': (1987114935296, False),\n",
       " 'strides': None,\n",
       " 'descr': [('', '<i4')],\n",
       " 'typestr': '<i4',\n",
       " 'shape': (3,),\n",
       " 'version': 3}"
      ]
     },
     "execution_count": 46,
     "metadata": {},
     "output_type": "execute_result"
    }
   ],
   "source": [
    "x.__array_interface__  "
   ]
  },
  {
   "cell_type": "markdown",
   "id": "e8bcbe42",
   "metadata": {},
   "source": [
    "#### Reversing the elements"
   ]
  },
  {
   "cell_type": "code",
   "execution_count": 48,
   "id": "0cbcab5e",
   "metadata": {},
   "outputs": [
    {
     "data": {
      "text/plain": [
       "array([6, 5, 4, 3, 2, 1])"
      ]
     },
     "execution_count": 48,
     "metadata": {},
     "output_type": "execute_result"
    }
   ],
   "source": [
    "x = np.array([1, 2, 3, 4, 5, 6], dtype=np.int32)\n",
    "y = x[::-1]\n",
    "y"
   ]
  },
  {
   "cell_type": "code",
   "execution_count": 56,
   "id": "a5c1cc52",
   "metadata": {},
   "outputs": [
    {
     "data": {
      "text/plain": [
       "(-4,)"
      ]
     },
     "execution_count": 56,
     "metadata": {},
     "output_type": "execute_result"
    }
   ],
   "source": [
    "### Number of bytes it jumps \n",
    "#### strides: the number of bytes to jump to find the next element\n",
    "#### 1 stride per dimension\n",
    "\n",
    "\n",
    "y.strides"
   ]
  },
  {
   "cell_type": "code",
   "execution_count": 54,
   "id": "38e4b195",
   "metadata": {},
   "outputs": [
    {
     "data": {
      "text/plain": [
       "array([6, 4, 2])"
      ]
     },
     "execution_count": 54,
     "metadata": {},
     "output_type": "execute_result"
    }
   ],
   "source": [
    "x1 = np.array([1, 2, 3, 4, 5, 6], dtype=np.int32)\n",
    "y1 = x1[::-2]\n",
    "y1"
   ]
  },
  {
   "cell_type": "code",
   "execution_count": 55,
   "id": "0d0b4f9d",
   "metadata": {
    "scrolled": true
   },
   "outputs": [
    {
     "data": {
      "text/plain": [
       "(-8,)"
      ]
     },
     "execution_count": 55,
     "metadata": {},
     "output_type": "execute_result"
    }
   ],
   "source": [
    "y1.strides"
   ]
  },
  {
   "cell_type": "code",
   "execution_count": 60,
   "id": "b95f9e26",
   "metadata": {},
   "outputs": [
    {
     "data": {
      "text/plain": [
       "1987114934536"
      ]
     },
     "execution_count": 60,
     "metadata": {},
     "output_type": "execute_result"
    }
   ],
   "source": [
    "y = x[2:]\n",
    "y\n",
    "y.__array_interface__['data'][0]"
   ]
  },
  {
   "cell_type": "code",
   "execution_count": 61,
   "id": "eb23e375",
   "metadata": {},
   "outputs": [
    {
     "data": {
      "text/plain": [
       "1987114934528"
      ]
     },
     "execution_count": 61,
     "metadata": {},
     "output_type": "execute_result"
    }
   ],
   "source": [
    "x.__array_interface__['data'][0]"
   ]
  },
  {
   "cell_type": "code",
   "execution_count": 62,
   "id": "e50aac8c",
   "metadata": {},
   "outputs": [
    {
     "data": {
      "text/plain": [
       "8"
      ]
     },
     "execution_count": 62,
     "metadata": {},
     "output_type": "execute_result"
    }
   ],
   "source": [
    "y.__array_interface__['data'][0] - x.__array_interface__['data'][0]"
   ]
  },
  {
   "cell_type": "code",
   "execution_count": 64,
   "id": "f3fd4217",
   "metadata": {},
   "outputs": [
    {
     "data": {
      "text/plain": [
       "(800, 80, 8)"
      ]
     },
     "execution_count": 64,
     "metadata": {},
     "output_type": "execute_result"
    }
   ],
   "source": [
    "x = np.zeros((10, 10, 10), dtype=np.float64)\n",
    "x.strides"
   ]
  },
  {
   "cell_type": "code",
   "execution_count": null,
   "id": "701b43ae",
   "metadata": {},
   "outputs": [],
   "source": []
  },
  {
   "cell_type": "raw",
   "id": "2ef50b8d",
   "metadata": {},
   "source": [
    "References :\n",
    "    - Numpy.org\n",
    "    - https://scipy-lectures.org/advanced/advanced_numpy/\n",
    "    - https://www.learndatasci.com/tutorials/applied-introduction-to-numpy-python-tutorial/\n",
    "    - https://www.pythoninformer.com/python-libraries/numpy/numpy-efficiency/"
   ]
  },
  {
   "cell_type": "code",
   "execution_count": null,
   "id": "f2a85b11",
   "metadata": {},
   "outputs": [],
   "source": []
  }
 ],
 "metadata": {
  "kernelspec": {
   "display_name": "Python 3 (ipykernel)",
   "language": "python",
   "name": "python3"
  },
  "language_info": {
   "codemirror_mode": {
    "name": "ipython",
    "version": 3
   },
   "file_extension": ".py",
   "mimetype": "text/x-python",
   "name": "python",
   "nbconvert_exporter": "python",
   "pygments_lexer": "ipython3",
   "version": "3.10.10"
  }
 },
 "nbformat": 4,
 "nbformat_minor": 5
}
