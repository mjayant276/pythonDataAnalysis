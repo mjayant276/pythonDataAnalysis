{
 "cells": [
  {
   "cell_type": "markdown",
   "id": "465b292c",
   "metadata": {},
   "source": [
    "## What is SQLite?"
   ]
  },
  {
   "cell_type": "markdown",
   "id": "2f4219a9",
   "metadata": {},
   "source": [
    "- SQLite is a C library that provides a lightweight database\n",
    "- The database can be stored on disk\n",
    "- SQL Query language can be used to run the queries against it.\n",
    "- Internal Storage can be done using the SQLite database.\n",
    "- It can be ported to PostgreSQL or Oracle later"
   ]
  },
  {
   "cell_type": "code",
   "execution_count": 1,
   "id": "710acb6e",
   "metadata": {},
   "outputs": [],
   "source": [
    "## In order to connect to SQLite DB we use the Sqlite3 DB-API 2.0\n",
    "import sqlite3"
   ]
  },
  {
   "cell_type": "markdown",
   "id": "e2a488fc",
   "metadata": {},
   "source": [
    "**Step 1:** Create a connection object to the database"
   ]
  },
  {
   "cell_type": "code",
   "execution_count": 2,
   "id": "61ba5304",
   "metadata": {},
   "outputs": [
    {
     "data": {
      "text/plain": [
       "sqlite3.Connection"
      ]
     },
     "execution_count": 2,
     "metadata": {},
     "output_type": "execute_result"
    }
   ],
   "source": [
    "## Create a connection to the database\n",
    "conn = sqlite3.connect(\"products.db\")\n",
    "\n",
    "## The conn object represent the connect object to the disk-based object. product.db has been created on the database\n",
    "type(conn)"
   ]
  },
  {
   "cell_type": "markdown",
   "id": "5c927e0f",
   "metadata": {},
   "source": [
    "**Step 2:** Create a cursor object by using the connection object</br>\n",
    "  - Cursor object is used to xecute the SQL statements and fetch results from the SQL Queries.\n",
    "  - con.cursor() is used to create the cursor"
   ]
  },
  {
   "cell_type": "code",
   "execution_count": 4,
   "id": "97b0421b",
   "metadata": {},
   "outputs": [],
   "source": [
    "### Cursor object\n",
    "cur = conn.cursor()"
   ]
  },
  {
   "cell_type": "markdown",
   "id": "592eaef7",
   "metadata": {},
   "source": [
    "**Step 3:** Create a table by using the connection object</br>"
   ]
  },
  {
   "cell_type": "code",
   "execution_count": 5,
   "id": "9a7e1c05",
   "metadata": {},
   "outputs": [
    {
     "data": {
      "text/plain": [
       "<sqlite3.Cursor at 0x22c161cd9c0>"
      ]
     },
     "execution_count": 5,
     "metadata": {},
     "output_type": "execute_result"
    }
   ],
   "source": [
    "cur.execute(\"\"\"\n",
    "   CREATE TABLE orders(\n",
    "   _id INT PRIMARY KEY     ,\n",
    "   customer_id INT NOT NULL,\n",
    "   age int,\n",
    "   status CHAR(10), \n",
    "   paymentType CHAR(10)\n",
    ");\n",
    "\"\"\")"
   ]
  },
  {
   "cell_type": "markdown",
   "id": "1b79d2c6",
   "metadata": {},
   "source": [
    "**Step 4:** Select data from sql_master</br>"
   ]
  },
  {
   "cell_type": "code",
   "execution_count": 8,
   "id": "6c650c7b",
   "metadata": {},
   "outputs": [
    {
     "data": {
      "text/plain": [
       "('orders',)"
      ]
     },
     "execution_count": 8,
     "metadata": {},
     "output_type": "execute_result"
    }
   ],
   "source": [
    "### We can verify that the new table has been created by querying the sqlite_master table built-in to SQLite,\n",
    "result = cur.execute(\"SELECT name FROM sqlite_master\")\n",
    "result.fetchone()"
   ]
  },
  {
   "cell_type": "code",
   "execution_count": 9,
   "id": "69241ec9",
   "metadata": {},
   "outputs": [
    {
     "data": {
      "text/plain": [
       "True"
      ]
     },
     "execution_count": 9,
     "metadata": {},
     "output_type": "execute_result"
    }
   ],
   "source": [
    "### We can check if other databases are available in the sql_master database\n",
    "res = cur.execute(\"SELECT name FROM sqlite_master WHERE name='order_details'\")\n",
    "res.fetchone() is None"
   ]
  },
  {
   "cell_type": "markdown",
   "id": "39c45d6c",
   "metadata": {},
   "source": [
    "**Step 5:** insert data into the tables</br>"
   ]
  },
  {
   "cell_type": "code",
   "execution_count": 11,
   "id": "ee00ee4a",
   "metadata": {},
   "outputs": [
    {
     "data": {
      "text/plain": [
       "<sqlite3.Cursor at 0x22c161cd9c0>"
      ]
     },
     "execution_count": 11,
     "metadata": {},
     "output_type": "execute_result"
    }
   ],
   "source": [
    "### We can insert data into the tables \n",
    "cur.execute(\"\"\"\n",
    "    INSERT INTO orders VALUES\n",
    "        (101,2100,34,'paid','creditCard'),\n",
    "        (102,2102,25,'checkout','upi-netbanking')\n",
    "\"\"\"\n",
    ")"
   ]
  },
  {
   "cell_type": "markdown",
   "id": "a9eeb61f",
   "metadata": {},
   "source": [
    "**Step 6:** Commit the transaction"
   ]
  },
  {
   "cell_type": "code",
   "execution_count": 13,
   "id": "99a4f481",
   "metadata": {},
   "outputs": [],
   "source": [
    "### The INSERT statement implicitly opens a transaction, which needs to be committed before changes are saved in the database (see Transaction control for details). Call con.commit() on the connection object to commit the transaction:\n",
    "conn.commit()"
   ]
  },
  {
   "cell_type": "markdown",
   "id": "d69dc96a",
   "metadata": {},
   "source": [
    "**Step 7:** Retrieve the details"
   ]
  },
  {
   "cell_type": "code",
   "execution_count": 14,
   "id": "3f8e624e",
   "metadata": {},
   "outputs": [
    {
     "data": {
      "text/plain": [
       "[('paid',), ('checkout',)]"
      ]
     },
     "execution_count": 14,
     "metadata": {},
     "output_type": "execute_result"
    }
   ],
   "source": [
    "res = cur.execute(\"SELECT status FROM orders\")\n",
    "res.fetchall()"
   ]
  },
  {
   "cell_type": "markdown",
   "id": "ce5b4a69",
   "metadata": {},
   "source": [
    "**Insert more data**"
   ]
  },
  {
   "cell_type": "code",
   "execution_count": null,
   "id": "e29e6f19",
   "metadata": {},
   "outputs": [],
   "source": [
    "data = [\n",
    "    (103,2101,25,'expired','creditCard'),\n",
    "    (104,2103,25,'expired','creditCard'),\n",
    "    (105,2104,26,'completed','upi-netbanking'),\n",
    "]\n",
    "cur.executemany(\"INSERT INTO orders VALUES(?, ?, ?, ?, ?)\", data)"
   ]
  },
  {
   "cell_type": "code",
   "execution_count": 18,
   "id": "0cad9698",
   "metadata": {},
   "outputs": [],
   "source": [
    "conn.commit()  # Remember to commit the transaction after executing INSERT."
   ]
  },
  {
   "cell_type": "markdown",
   "id": "7100d9a4",
   "metadata": {},
   "source": [
    "**Select the data using cursor execute**"
   ]
  },
  {
   "cell_type": "code",
   "execution_count": 19,
   "id": "11474fd9",
   "metadata": {},
   "outputs": [
    {
     "name": "stdout",
     "output_type": "stream",
     "text": [
      "(25, 'upi-netbanking')\n",
      "(25, 'creditCard')\n",
      "(25, 'creditCard')\n",
      "(26, 'upi-netbanking')\n",
      "(34, 'creditCard')\n"
     ]
    }
   ],
   "source": [
    "for row in cur.execute(\"SELECT age, paymentType FROM orders ORDER BY age\"):\n",
    "    print(row)"
   ]
  },
  {
   "cell_type": "markdown",
   "id": "c7ac4a3e",
   "metadata": {},
   "source": [
    "**Close the connection**"
   ]
  },
  {
   "cell_type": "code",
   "execution_count": 20,
   "id": "a1f5d596",
   "metadata": {},
   "outputs": [],
   "source": [
    "conn.close()"
   ]
  },
  {
   "cell_type": "markdown",
   "id": "6be5987f",
   "metadata": {},
   "source": [
    "#### Demo -ORM Mapping class in visual studio code "
   ]
  },
  {
   "cell_type": "code",
   "execution_count": null,
   "id": "186e6c4b",
   "metadata": {},
   "outputs": [],
   "source": []
  }
 ],
 "metadata": {
  "kernelspec": {
   "display_name": "Python 3 (ipykernel)",
   "language": "python",
   "name": "python3"
  },
  "language_info": {
   "codemirror_mode": {
    "name": "ipython",
    "version": 3
   },
   "file_extension": ".py",
   "mimetype": "text/x-python",
   "name": "python",
   "nbconvert_exporter": "python",
   "pygments_lexer": "ipython3",
   "version": "3.10.10"
  }
 },
 "nbformat": 4,
 "nbformat_minor": 5
}
