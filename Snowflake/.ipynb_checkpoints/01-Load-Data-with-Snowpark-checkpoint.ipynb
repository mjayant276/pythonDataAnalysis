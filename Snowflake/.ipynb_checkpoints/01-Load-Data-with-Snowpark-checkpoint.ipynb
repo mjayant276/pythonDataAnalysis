{
 "cells": [
  {
   "cell_type": "markdown",
   "id": "40e74aaa",
   "metadata": {},
   "source": [
    "# Customer churn analysis\n",
    "\n",
    "#### We are tasked to build an end to end machine learning pipeline using snowpark for customer churn prediction in a telecom company.\n",
    "\n",
    "In this notebook we will load, clean and transform the raw parquet dataset\n",
    "\n",
    "Update the config.py file before moving on to the next cell\n",
    "\n",
    "\n",
    "\n",
    "<img src=\"arch.jpg\"/>\n"
   ]
  },
  {
   "cell_type": "code",
   "execution_count": null,
   "id": "f0b06da4",
   "metadata": {},
   "outputs": [],
   "source": [
    "from snowflake.snowpark.session import Session\n",
    "from snowflake.snowpark import functions as F\n",
    "from snowflake.snowpark.types import *\n",
    "\n",
    "import pandas as pd\n",
    "\n",
    "from sklearn import linear_model\n",
    "\n",
    "import matplotlib.pyplot as plt\n",
    "\n",
    "%matplotlib inline\n",
    "import datetime as dt\n",
    "import numpy as np\n",
    "import seaborn as sns\n",
    "\n",
    "#Snowflake connection info is saved in config.py\n",
    "from config import snowflake_conn_prop\n",
    "\n",
    "\n",
    "# lets import some tranformations functions\n",
    "from snowflake.snowpark.functions import udf, col, lit, translate, is_null, iff"
   ]
  },
  {
   "cell_type": "code",
   "execution_count": null,
   "id": "685a3fe0",
   "metadata": {},
   "outputs": [],
   "source": [
    "from snowflake.snowpark import version\n",
    "print(version.VERSION)"
   ]
  },
  {
   "cell_type": "markdown",
   "id": "1a36d1c4",
   "metadata": {},
   "source": [
    "Let's configure our Snowpark Session and initialize the database, warehouse, and schema that we will use for the remainder of the quickstart."
   ]
  },
  {
   "cell_type": "code",
   "execution_count": null,
   "id": "24477372",
   "metadata": {},
   "outputs": [],
   "source": [
    "from snowflake.snowpark import version\n",
    "print(version.VERSION)\n",
    "#session.close()\n",
    "session = Session.builder.configs(snowflake_conn_prop).create()\n",
    "session.sql(\"use role accountadmin\").collect()\n",
    "session.sql(\"create database if not exists  {}\".format(snowflake_conn_prop['database'])).collect()\n",
    "session.sql(\"use database {}\".format(snowflake_conn_prop['database'])).collect()\n",
    "session.sql(\"create schema if not exists {}\".format(snowflake_conn_prop['schema'])).collect()\n",
    "session.sql(\"use schema {}\".format(snowflake_conn_prop['schema'])).collect()\n",
    "session.sql(\"create or replace warehouse {} with \\\n",
    "                WAREHOUSE_SIZE = XSMALL \\\n",
    "                AUTO_SUSPEND = 120 \\\n",
    "                AUTO_RESUME = TRUE\".format(snowflake_conn_prop['warehouse'])).collect()\n",
    "session.sql(\"use warehouse {}\".format(snowflake_conn_prop['warehouse']))\n",
    "print(session.sql('select current_warehouse(), current_database(), current_schema()').collect())"
   ]
  },
  {
   "cell_type": "markdown",
   "id": "5248d9b5",
   "metadata": {},
   "source": [
    "## Infer file schema & Load Data into snowflake"
   ]
  },
  {
   "cell_type": "code",
   "execution_count": null,
   "id": "bcd15bb5",
   "metadata": {},
   "outputs": [],
   "source": [
    "filename = \"raw_telco_data.parquet\"\n",
    "stagename = \"rawdata\"\n",
    "rawtable = \"RAW_PARQUET_DATA\""
   ]
  },
  {
   "cell_type": "code",
   "execution_count": null,
   "id": "2dc03ea3",
   "metadata": {},
   "outputs": [],
   "source": [
    "session.sql(f\"create or replace stage {stagename} DIRECTORY = (ENABLE = TRUE);\").collect()\n",
    "session.file.put(filename,stagename)"
   ]
  },
  {
   "cell_type": "code",
   "execution_count": null,
   "id": "e8845b13",
   "metadata": {},
   "outputs": [],
   "source": [
    "session.sql(\"CREATE OR REPLACE FILE FORMAT MY_PARQUET_FORMAT TYPE = PARQUET;\").collect()\n",
    "\n",
    "session.sql(f\"CREATE OR REPLACE \\\n",
    "            TABLE {rawtable} USING TEMPLATE ( \\\n",
    "                SELECT ARRAY_AGG(OBJECT_CONSTRUCT(*)) \\\n",
    "                FROM \\\n",
    "                    TABLE( INFER_SCHEMA( \\\n",
    "                    LOCATION => '@{stagename}/{filename}', \\\n",
    "                    FILE_FORMAT => 'MY_PARQUET_FORMAT' \\\n",
    "                    ) \\\n",
    "                ) \\\n",
    "            );  \").collect()"
   ]
  },
  {
   "cell_type": "markdown",
   "id": "b616dcda",
   "metadata": {},
   "source": [
    "## For incremental load \n",
    "\n",
    "you might want to just delete all rows and load new data to this table"
   ]
  },
  {
   "cell_type": "code",
   "execution_count": null,
   "id": "c42a1a65",
   "metadata": {},
   "outputs": [],
   "source": [
    "dfClear = session.table(rawtable).delete()"
   ]
  },
  {
   "cell_type": "code",
   "execution_count": null,
   "id": "bb5590f6",
   "metadata": {},
   "outputs": [],
   "source": [
    "dfRaw = session.read.option(\"compression\",\"snappy\").parquet(f\"@{stagename}/{filename}\")\n",
    "dfRaw.copy_into_table(rawtable,FORCE= True)"
   ]
  },
  {
   "cell_type": "code",
   "execution_count": null,
   "id": "69a91e17",
   "metadata": {
    "scrolled": true
   },
   "outputs": [],
   "source": [
    "dfR = session.table(rawtable).sample(n=5)\n",
    "dfR.toPandas()"
   ]
  },
  {
   "cell_type": "markdown",
   "id": "51ff1aae",
   "metadata": {},
   "source": [
    "# Snowpark Transformations\n",
    "\n",
    "The Snowpark API provides programming language constructs for building SQL statements. It's a new developer experience which enables us to build code in :-\n",
    "\n",
    "<b><li>  Language of our choice </li></b>\n",
    "<b><li> Tool of our choice and </li></b>\n",
    "<b><li> Lazy execution to prevent multiple network hops to server </li></b>\n",
    "\n",
    "Once the customer data is available in the RAW schema, we can use snowpark to create dimensions and fact tables. We will use the RAW_PARQUET table to create following tables -\n",
    "    \n",
    "<li> DEMOGRAPHICS </li>\n",
    "<li> LOCATION </li>\n",
    "<li> STATUS </li>\n",
    "<li> SERVICES </li>\n",
    "\n",
    "We will also transform and clean the data using Snowpark dataframe API"
   ]
  },
  {
   "cell_type": "code",
   "execution_count": null,
   "id": "598e86ae",
   "metadata": {},
   "outputs": [],
   "source": [
    "dfR = session.table(rawtable)"
   ]
  },
  {
   "cell_type": "code",
   "execution_count": null,
   "id": "3270524d",
   "metadata": {},
   "outputs": [],
   "source": [
    "dfDemographics = dfR.select(col(\"CUSTOMERID\"),\n",
    "                             col(\"COUNT\").alias(\"COUNT\"),\n",
    "                             translate(col(\"GENDER\"),lit(\"NULL\"),lit(\"Male\")).alias(\"GENDER\"),\n",
    "                             col(\"SENIOR CITIZEN\").alias(\"SENIORCITIZEN\"),\n",
    "                             col(\"PARTNER\"),\n",
    "                             col(\"DEPENDENTS\")          \n",
    "                            )\n",
    "\n",
    "\n",
    "dfDemographics.write.mode('overwrite').saveAsTable('DEMOGRAPHICS')\n",
    "dfDemographics.show()\n"
   ]
  },
  {
   "cell_type": "code",
   "execution_count": null,
   "id": "817210af",
   "metadata": {},
   "outputs": [],
   "source": [
    "dfLocation = dfR.select(col(\"CUSTOMERID\"),\n",
    "                         col(\"COUNTRY\").name(\"COUNTRY\"),\n",
    "                         col(\"STATE\").name(\"STATE\"),\n",
    "                         col(\"CITY\").name(\"CITY\"),\n",
    "                         translate(col(\"ZIP CODE\"),lit(\"NULL\"),lit(0)).name(\"ZIPCODE\"),\n",
    "                         col(\"LAT LONG\").name(\"LATLONG\"),\n",
    "                         col(\"LATITUDE\").name(\"LATITUDE\"),\n",
    "                         col(\"LONGITUDE\").name(\"LONGITUDE\")       \n",
    "                        )\n",
    "\n",
    "dfLocation.write.mode('overwrite').saveAsTable('LOCATION')\n",
    "dfLocation.show()\n"
   ]
  },
  {
   "cell_type": "markdown",
   "id": "45b8b976",
   "metadata": {},
   "source": [
    "#### you can run transformation on data using similar dataframe API constructs, for example -"
   ]
  },
  {
   "cell_type": "code",
   "execution_count": null,
   "id": "49423699",
   "metadata": {},
   "outputs": [],
   "source": [
    "dfServices = dfR.select(col(\"CUSTOMERID\"),\n",
    "                       col(\"TENURE MONTHS\").name(\"TENUREMONTHS\"),\n",
    "                       iff(is_null(col(\"PHONE SERVICE\")),lit('N'),col(\"PHONE SERVICE\")).name(\"PHONESERVICE\"),\n",
    "                       iff(is_null(col(\"MULTIPLE LINES\")),lit(\"No\"),col(\"MULTIPLE LINES\")).name(\"MULTIPLELINES\"),\n",
    "                       iff(is_null(col(\"INTERNET SERVICE\")),lit(\"No\"),col(\"INTERNET SERVICE\")).name(\"INTERNETSERVICE\"),\n",
    "                       iff(is_null(col(\"ONLINE SECURITY\")),lit(\"No\"),col(\"ONLINE SECURITY\")).name(\"ONLINESECURITY\"),\n",
    "                       iff(is_null(col(\"ONLINE BACKUP\")),lit(\"No\"),col(\"ONLINE BACKUP\")).name(\"ONLINEBACKUP\"),\n",
    "                       iff(is_null(col(\"DEVICE PROTECTION\")),lit(\"No\"),col(\"DEVICE PROTECTION\")).name(\"DEVICEPROTECTION\"),\n",
    "                       iff(is_null(col(\"TECH SUPPORT\")),lit('N'),col(\"TECH SUPPORT\")).name(\"TECHSUPPORT\"),\n",
    "                       iff(is_null(col(\"STREAMING TV\")),lit(\"No\"),col(\"STREAMING TV\")).name(\"STREAMINGTV\"),\n",
    "                       iff(is_null(col(\"STREAMING MOVIES\")),lit(\"No\"),col(\"STREAMING MOVIES\")).name(\"STREAMINGMOVIES\"),\n",
    "                       iff(is_null(col(\"CONTRACT\")),lit(\"Month-to-month\"),col(\"CONTRACT\")).name(\"CONTRACT\"),\n",
    "                       iff(is_null(col(\"PAPERLESS BILLING\")),lit('Y'),col(\"PAPERLESS BILLING\")).name(\"PAPERLESSBILLING\"),\n",
    "                       iff(is_null(col(\"PAYMENT METHOD\")),lit(\"Mailed check\"),col(\"PAYMENT METHOD\")).name(\"PAYMENTMETHOD\"),\n",
    "                       col(\"MONTHLY CHARGES\").name(\"MONTHLYCHARGES\"),\n",
    "                       col(\"TOTAL CHARGES\").name(\"TOTALCHARGES\"),\n",
    "                       col(\"CHURN VALUE\").name(\"CHURNVALUE\")        \n",
    "\n",
    "                      )\n",
    "\n",
    "dfServices.write.mode('overwrite').saveAsTable('SERVICES')\n",
    "dfServices.show()"
   ]
  },
  {
   "cell_type": "code",
   "execution_count": null,
   "id": "d18c28d7",
   "metadata": {},
   "outputs": [],
   "source": [
    "dfStatus = dfR.select(col(\"CUSTOMERID\"),\n",
    "                    iff(is_null(col(\"CHURN LABEL\")),lit('N'),col(\"CHURN LABEL\")).name(\"CHURNLABEL\"),\n",
    "                    col(\"CHURN VALUE\").name(\"CHURNVALUE\"),\n",
    "                    col(\"CHURN SCORE\").name(\"CHURNSCORE\"),\n",
    "                    col(\"CLTV\").name(\"CLTV\"),\n",
    "                    iff(is_null(col(\"CHURN REASON\")),lit(\"do not know\"),col(\"CHURN REASON\")).name(\"CHURNREASON\")          \n",
    "                    )\n",
    "\n",
    "dfStatus.write.mode('overwrite').saveAsTable('STATUS')\n",
    "dfStatus.show()\n"
   ]
  },
  {
   "cell_type": "markdown",
   "id": "d3ce458f",
   "metadata": {},
   "source": [
    "# Lets check the data using an example query\n",
    "\n",
    "This shows one of many uses of snowpark. You can build and query dataframes lazily."
   ]
  },
  {
   "cell_type": "code",
   "execution_count": null,
   "id": "fa1f611a",
   "metadata": {},
   "outputs": [],
   "source": [
    "# Lets run a query for quick sanity check\n",
    "# This Query will show us the total revenue by city and contract term\n",
    "\n",
    "dfLoc = session.table(\"LOCATION\")\n",
    "dfServ = session.table(\"SERVICES\")\n",
    "\n",
    "dfJoin = dfLoc.join(dfServ,dfLoc.col(\"CUSTOMERID\") == dfServ.col(\"CUSTOMERID\"))\n",
    "\n",
    "dfResult = dfJoin.select(col(\"CITY\"),\n",
    "                         col(\"CONTRACT\"),\n",
    "                         col(\"TOTALCHARGES\")).groupBy(col(\"CITY\"),col(\"CONTRACT\")).sum(col(\"TOTALCHARGES\"))\n",
    "\n",
    "dfResult.show()"
   ]
  },
  {
   "cell_type": "markdown",
   "id": "f152f92a",
   "metadata": {},
   "source": [
    "### Let's create a view for data science team to begin data analysis"
   ]
  },
  {
   "cell_type": "markdown",
   "id": "96cba333",
   "metadata": {},
   "source": [
    "To do so, join up the `DEMOGRAPHICS` and `SERVICES` tables based on `CUSTOMERID`"
   ]
  },
  {
   "cell_type": "code",
   "execution_count": null,
   "id": "7aac1800",
   "metadata": {},
   "outputs": [],
   "source": [
    "dfD = session.table('DEMOGRAPHICS')\n",
    "dfS = session.table('SERVICES')\n",
    "dfJ = dfD.join(dfS, using_columns='CUSTOMERID', join_type = 'left')\n",
    "dfJ.select(col('GENDER'),\n",
    "              col('SENIORCITIZEN'),\n",
    "              col('PARTNER'),\n",
    "              col('DEPENDENTS'),\n",
    "              col('MULTIPLELINES'),\n",
    "              col('INTERNETSERVICE'),\n",
    "              col('ONLINESECURITY'),\n",
    "              col('ONLINEBACKUP'),\n",
    "              col('DEVICEPROTECTION'),\n",
    "              col('TECHSUPPORT'),\n",
    "              col('STREAMINGTV'),\n",
    "              col('STREAMINGMOVIES'),\n",
    "              col('CONTRACT'),\n",
    "              col('PAPERLESSBILLING'),\n",
    "              col('PAYMENTMETHOD'),\n",
    "              col('TENUREMONTHS'),\n",
    "              col('MONTHLYCHARGES'),\n",
    "              col('TOTALCHARGES'),\n",
    "              col('CHURNVALUE'))\n",
    "dfJ.create_or_replace_view('TRAIN_DATASET')"
   ]
  },
  {
   "cell_type": "code",
   "execution_count": null,
   "id": "9e619437",
   "metadata": {},
   "outputs": [],
   "source": [
    "%%time\n",
    "\n",
    "raw = session.table('TRAIN_DATASET').sample(n = 20)\n",
    "data = raw.toPandas()"
   ]
  },
  {
   "cell_type": "markdown",
   "id": "96bb54b7",
   "metadata": {},
   "source": [
    "# Off to ~02 notebook for exploratory data analysis"
   ]
  },
  {
   "cell_type": "code",
   "execution_count": null,
   "id": "c180046a",
   "metadata": {
    "scrolled": true
   },
   "outputs": [],
   "source": [
    "pd.pandas.set_option('display.max_columns', None)\n",
    "data.head()"
   ]
  },
  {
   "cell_type": "code",
   "execution_count": null,
   "id": "af045ff0",
   "metadata": {},
   "outputs": [],
   "source": [
    "session.close()"
   ]
  }
 ],
 "metadata": {
  "kernelspec": {
   "display_name": "getting-started-snowpark-python",
   "language": "python",
   "name": "getting-started-snowpark-python"
  },
  "language_info": {
   "codemirror_mode": {
    "name": "ipython",
    "version": 3
   },
   "file_extension": ".py",
   "mimetype": "text/x-python",
   "name": "python",
   "nbconvert_exporter": "python",
   "pygments_lexer": "ipython3",
   "version": "3.8.13"
  }
 },
 "nbformat": 4,
 "nbformat_minor": 5
}
