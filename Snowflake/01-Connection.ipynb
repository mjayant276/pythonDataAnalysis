{
 "cells": [
  {
   "cell_type": "code",
   "execution_count": 1,
   "id": "bbcbe679",
   "metadata": {},
   "outputs": [
    {
     "name": "stdout",
     "output_type": "stream",
     "text": [
      "7.9.0\n"
     ]
    }
   ],
   "source": [
    "#!/usr/bin/env python\n",
    "import snowflake.connector\n",
    "\n",
    "# Gets the version\n",
    "ctx = snowflake.connector.connect(\n",
    "    user='admin',\n",
    "    password='password1234',\n",
    "    warehouse='warehouse',\n",
    "    database='database',\n",
    "    schema='schema'\n",
    "    account='acc007.us-central-1.aws'\n",
    "    )\n",
    "cs = ctx.cursor()\n",
    "try:\n",
    "    cs.execute(\"SELECT current_version()\")\n",
    "    one_row = cs.fetchone()\n",
    "    print(one_row[0])\n",
    "finally:\n",
    "    cs.close()\n",
    "ctx.close()"
   ]
  },
  {
   "cell_type": "code",
   "execution_count": 3,
   "id": "d9549472",
   "metadata": {},
   "outputs": [],
   "source": [
    "import os\n",
    "PASSWORD = os.getenv('SNOWSQL_PWD')"
   ]
  },
  {
   "cell_type": "code",
   "execution_count": 5,
   "id": "2b24fed8",
   "metadata": {},
   "outputs": [
    {
     "name": "stdout",
     "output_type": "stream",
     "text": [
      "None\n"
     ]
    }
   ],
   "source": []
  },
  {
   "cell_type": "code",
   "execution_count": null,
   "id": "ed191a1f",
   "metadata": {},
   "outputs": [],
   "source": []
  }
 ],
 "metadata": {
  "kernelspec": {
   "display_name": "Python 3 (ipykernel)",
   "language": "python",
   "name": "python3"
  },
  "language_info": {
   "codemirror_mode": {
    "name": "ipython",
    "version": 3
   },
   "file_extension": ".py",
   "mimetype": "text/x-python",
   "name": "python",
   "nbconvert_exporter": "python",
   "pygments_lexer": "ipython3",
   "version": "3.8.16"
  }
 },
 "nbformat": 4,
 "nbformat_minor": 5
}
