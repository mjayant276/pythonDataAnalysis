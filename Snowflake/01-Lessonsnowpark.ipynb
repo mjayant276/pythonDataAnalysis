{
 "cells": [
  {
   "cell_type": "markdown",
   "id": "65d09a52",
   "metadata": {},
   "source": [
    " Virtual Environment with the libraries required.\n",
    " - python=3.8\n",
    "  - scikit-learn\n",
    "  - jupyter\n",
    "  - numpy\n",
    "  - matplotlib\n",
    "  - seaborn\n",
    "  - snowflake-snowpark-python\n",
    "  - pandas"
   ]
  },
  {
   "cell_type": "code",
   "execution_count": 23,
   "id": "2103ef82",
   "metadata": {},
   "outputs": [
    {
     "data": {
      "text/plain": [
       "'C:\\\\Users\\\\Jayanth\\\\Python_DataAnalysis\\\\Snowflake'"
      ]
     },
     "execution_count": 23,
     "metadata": {},
     "output_type": "execute_result"
    }
   ],
   "source": [
    "import os\n",
    "os.getcwd()"
   ]
  },
  {
   "cell_type": "code",
   "execution_count": 1,
   "id": "9c95783b",
   "metadata": {},
   "outputs": [
    {
     "name": "stderr",
     "output_type": "stream",
     "text": [
      "C:\\Users\\Jayanth\\anaconda3\\envs\\py38_env\\lib\\site-packages\\snowflake\\connector\\options.py:96: UserWarning: You have an incompatible version of 'pyarrow' installed (6.0.0), please install a version that adheres to: 'pyarrow<8.1.0,>=8.0.0; extra == \"pandas\"'\n",
      "  warn_incompatible_dep(\n"
     ]
    }
   ],
   "source": [
    "from snowflake.snowpark import Session\n",
    "import numpy as np\n",
    "import pandas as pd"
   ]
  },
  {
   "cell_type": "code",
   "execution_count": 4,
   "id": "cc83ec6b",
   "metadata": {},
   "outputs": [],
   "source": [
    "from snowflake.snowpark.session import Session\n",
    "from snowflake.snowpark import functions as F\n",
    "from snowflake.snowpark.types import *\n",
    "\n",
    "import pandas as pd\n",
    "\n",
    "#from sklearn import linear_model\n",
    "\n",
    "#import matplotlib.pyplot as plt\n",
    "\n",
    "#%matplotlib inline\n",
    "import datetime as dt\n",
    "import numpy as np\n",
    "#import seaborn as sns\n",
    "\n",
    "#Snowflake connection info is saved in config.py\n",
    "from config import snowflake_conn_prop\n",
    "\n",
    "\n",
    "# lets import some tranformations functions\n",
    "from snowflake.snowpark.functions import udf, col, lit, translate, is_null, iff"
   ]
  },
  {
   "cell_type": "code",
   "execution_count": 5,
   "id": "3e5b2183",
   "metadata": {},
   "outputs": [
    {
     "name": "stdout",
     "output_type": "stream",
     "text": [
      "(1, 2, 0)\n",
      "[Row(CURRENT_WAREHOUSE()='COMPUTE_WH_1', CURRENT_DATABASE()='DEMO_DB', CURRENT_SCHEMA()='TELCO')]\n"
     ]
    }
   ],
   "source": [
    "from snowflake.snowpark import version\n",
    "print(version.VERSION)\n",
    "#session.close()\n",
    "session = Session.builder.configs(snowflake_conn_prop).create()\n",
    "session.sql(\"use role accountadmin\").collect()\n",
    "session.sql(\"create database if not exists  {}\".format(snowflake_conn_prop['database'])).collect()\n",
    "session.sql(\"use database {}\".format(snowflake_conn_prop['database'])).collect()\n",
    "session.sql(\"create schema if not exists {}\".format(snowflake_conn_prop['schema'])).collect()\n",
    "session.sql(\"use schema {}\".format(snowflake_conn_prop['schema'])).collect()\n",
    "session.sql(\"create or replace warehouse {} with \\\n",
    "                WAREHOUSE_SIZE = XSMALL \\\n",
    "                AUTO_SUSPEND = 120 \\\n",
    "                AUTO_RESUME = TRUE\".format(snowflake_conn_prop['warehouse'])).collect()\n",
    "session.sql(\"use warehouse {}\".format(snowflake_conn_prop['warehouse']))\n",
    "print(session.sql('select current_warehouse(), current_database(), current_schema()').collect())"
   ]
  },
  {
   "cell_type": "code",
   "execution_count": 7,
   "id": "5ca495ae",
   "metadata": {},
   "outputs": [],
   "source": [
    "filename = \"data.parquet\"\n",
    "stagename = \"rawdata\"\n",
    "rawtable = \"RAW_PARQUET_DATA\""
   ]
  },
  {
   "cell_type": "code",
   "execution_count": 8,
   "id": "7b970161",
   "metadata": {},
   "outputs": [
    {
     "data": {
      "text/plain": [
       "[PutResult(source='data.parquet', target='data.parquet', source_size=3037540, target_size=3037552, source_compression='PARQUET', target_compression='PARQUET', status='UPLOADED', message='')]"
      ]
     },
     "execution_count": 8,
     "metadata": {},
     "output_type": "execute_result"
    }
   ],
   "source": [
    "session.sql(f\"create or replace stage {stagename} DIRECTORY = (ENABLE = TRUE);\").collect()\n",
    "session.file.put(filename,stagename)"
   ]
  },
  {
   "cell_type": "code",
   "execution_count": 9,
   "id": "13890056",
   "metadata": {},
   "outputs": [
    {
     "data": {
      "text/plain": [
       "[Row(status='Table RAW_PARQUET_DATA successfully created.')]"
      ]
     },
     "execution_count": 9,
     "metadata": {},
     "output_type": "execute_result"
    }
   ],
   "source": [
    "session.sql(\"CREATE OR REPLACE FILE FORMAT MY_PARQUET_FORMAT TYPE = PARQUET;\").collect()\n",
    "\n",
    "session.sql(f\"CREATE OR REPLACE \\\n",
    "            TABLE {rawtable} USING TEMPLATE ( \\\n",
    "                SELECT ARRAY_AGG(OBJECT_CONSTRUCT(*)) \\\n",
    "                FROM \\\n",
    "                    TABLE( INFER_SCHEMA( \\\n",
    "                    LOCATION => '@{stagename}/{filename}', \\\n",
    "                    FILE_FORMAT => 'MY_PARQUET_FORMAT' \\\n",
    "                    ) \\\n",
    "                ) \\\n",
    "            );  \").collect()"
   ]
  },
  {
   "cell_type": "code",
   "execution_count": 24,
   "id": "7327e1f6",
   "metadata": {},
   "outputs": [
    {
     "name": "stdout",
     "output_type": "stream",
     "text": [
      "----------------------------------------------------------------------------------\n",
      "|\"CUSTOMERID\"  |\"COUNT\"  |\"GENDER\"  |\"SENIORCITIZEN\"  |\"PARTNER\"  |\"DEPENDENTS\"  |\n",
      "----------------------------------------------------------------------------------\n",
      "|7090-ZyCMx    |1        |Female    |False            |False      |True          |\n",
      "|1364-wJXMS    |1        |Female    |False            |False      |True          |\n",
      "|6564-sLgIC    |1        |Male      |True             |False      |True          |\n",
      "|7853-2xheR    |1        |Male      |False            |False      |True          |\n",
      "|8457-E9FuW    |1        |Female    |False            |False      |True          |\n",
      "|5718-ykxBT    |1        |Male      |False            |False      |True          |\n",
      "|7092-gCJX5    |1        |Male      |False            |False      |False         |\n",
      "|8249-GOs7s    |1        |Male      |True             |False      |False         |\n",
      "|9445-kPPEc    |1        |Male      |False            |False      |False         |\n",
      "|1581-8yNji    |1        |Male      |True             |True       |False         |\n",
      "----------------------------------------------------------------------------------\n",
      "\n"
     ]
    }
   ],
   "source": [
    "dfClear = session.table(rawtable).delete()\n",
    "dfRaw = session.read.option(\"compression\",\"snappy\").parquet(f\"@{stagename}/{filename}\")\n",
    "dfRaw.copy_into_table(rawtable,FORCE= True)\n",
    "dfR = session.table(rawtable)\n",
    "dfDemographics = dfR.select(col(\"CUSTOMERID\"),\n",
    "                             col(\"COUNT\").alias(\"COUNT\"),\n",
    "                             translate(col(\"GENDER\"),lit(\"NULL\"),lit(\"Male\")).alias(\"GENDER\"),\n",
    "                             col(\"SENIOR CITIZEN\").alias(\"SENIORCITIZEN\"),\n",
    "                             col(\"PARTNER\"),\n",
    "                             col(\"DEPENDENTS\")          \n",
    "                            )\n",
    "\n",
    "\n",
    "dfDemographics.write.mode('overwrite').saveAsTable('DEMOGRAPHICS')\n",
    "dfDemographics.show()"
   ]
  },
  {
   "cell_type": "code",
   "execution_count": 9,
   "id": "f690b6b4",
   "metadata": {},
   "outputs": [],
   "source": [
    "dfLocation = dfR.select(col(\"CUSTOMERID\"),\n",
    "                         col(\"COUNTRY\").name(\"COUNTRY\"),\n",
    "                         col(\"STATE\").name(\"STATE\"),\n",
    "                         col(\"CITY\").name(\"CITY\"),\n",
    "                         translate(col(\"ZIP CODE\"),lit(\"NULL\"),lit(0)).name(\"ZIPCODE\"),\n",
    "                         col(\"LAT LONG\").name(\"LATLONG\"),\n",
    "                         col(\"LATITUDE\").name(\"LATITUDE\"),\n",
    "                         col(\"LONGITUDE\").name(\"LONGITUDE\")       \n",
    "                        )\n",
    "\n",
    "dfLocation.write.mode('overwrite').saveAsTable('LOCATION')\n",
    "dfLocation.show()"
   ]
  },
  {
   "cell_type": "code",
   "execution_count": null,
   "id": "f94ccc5c",
   "metadata": {},
   "outputs": [],
   "source": []
  },
  {
   "cell_type": "code",
   "execution_count": 10,
   "id": "228071cf",
   "metadata": {},
   "outputs": [],
   "source": [
    "dfServices = dfR.select(col(\"CUSTOMERID\"),\n",
    "                       col(\"TENURE MONTHS\").name(\"TENUREMONTHS\"),\n",
    "                       iff(is_null(col(\"PHONE SERVICE\")),lit('N'),col(\"PHONE SERVICE\")).name(\"PHONESERVICE\"),\n",
    "                       iff(is_null(col(\"MULTIPLE LINES\")),lit(\"No\"),col(\"MULTIPLE LINES\")).name(\"MULTIPLELINES\"),\n",
    "                       iff(is_null(col(\"INTERNET SERVICE\")),lit(\"No\"),col(\"INTERNET SERVICE\")).name(\"INTERNETSERVICE\"),\n",
    "                       iff(is_null(col(\"ONLINE SECURITY\")),lit(\"No\"),col(\"ONLINE SECURITY\")).name(\"ONLINESECURITY\"),\n",
    "                       iff(is_null(col(\"ONLINE BACKUP\")),lit(\"No\"),col(\"ONLINE BACKUP\")).name(\"ONLINEBACKUP\"),\n",
    "                       iff(is_null(col(\"DEVICE PROTECTION\")),lit(\"No\"),col(\"DEVICE PROTECTION\")).name(\"DEVICEPROTECTION\"),\n",
    "                       iff(is_null(col(\"TECH SUPPORT\")),lit('N'),col(\"TECH SUPPORT\")).name(\"TECHSUPPORT\"),\n",
    "                       iff(is_null(col(\"STREAMING TV\")),lit(\"No\"),col(\"STREAMING TV\")).name(\"STREAMINGTV\"),\n",
    "                       iff(is_null(col(\"STREAMING MOVIES\")),lit(\"No\"),col(\"STREAMING MOVIES\")).name(\"STREAMINGMOVIES\"),\n",
    "                       iff(is_null(col(\"CONTRACT\")),lit(\"Month-to-month\"),col(\"CONTRACT\")).name(\"CONTRACT\"),\n",
    "                       iff(is_null(col(\"PAPERLESS BILLING\")),lit('Y'),col(\"PAPERLESS BILLING\")).name(\"PAPERLESSBILLING\"),\n",
    "                       iff(is_null(col(\"PAYMENT METHOD\")),lit(\"Mailed check\"),col(\"PAYMENT METHOD\")).name(\"PAYMENTMETHOD\"),\n",
    "                       col(\"MONTHLY CHARGES\").name(\"MONTHLYCHARGES\"),\n",
    "                       col(\"TOTAL CHARGES\").name(\"TOTALCHARGES\"),\n",
    "                       col(\"CHURN VALUE\").name(\"CHURNVALUE\")        \n",
    "\n",
    "                      )\n",
    "\n",
    "dfServices.write.mode('overwrite').saveAsTable('SERVICES')\n",
    "dfServices.show()"
   ]
  },
  {
   "cell_type": "code",
   "execution_count": null,
   "id": "345c6c37",
   "metadata": {},
   "outputs": [],
   "source": []
  }
 ],
 "metadata": {
  "kernelspec": {
   "display_name": "Python 3 (ipykernel)",
   "language": "python",
   "name": "python3"
  },
  "language_info": {
   "codemirror_mode": {
    "name": "ipython",
    "version": 3
   },
   "file_extension": ".py",
   "mimetype": "text/x-python",
   "name": "python",
   "nbconvert_exporter": "python",
   "pygments_lexer": "ipython3",
   "version": "3.8.16"
  }
 },
 "nbformat": 4,
 "nbformat_minor": 5
}
