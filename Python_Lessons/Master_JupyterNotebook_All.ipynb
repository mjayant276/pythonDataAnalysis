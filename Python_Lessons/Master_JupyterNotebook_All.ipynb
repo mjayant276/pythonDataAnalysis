{
 "cells": [
  {
   "cell_type": "markdown",
   "id": "78216f48",
   "metadata": {},
   "source": [
    "### Introduction to Python"
   ]
  },
  {
   "cell_type": "markdown",
   "id": "597030d5",
   "metadata": {},
   "source": [
    "### The following concepts shall be covered in the notebook\n",
    "* Print Statements\n",
    "* Variables\n",
    "* Different Data-Types\n",
    "* String Formatting"
   ]
  },
  {
   "cell_type": "markdown",
   "id": "bc47796a",
   "metadata": {},
   "source": [
    "#### Printing output - We shall use a string (sequence of words) to print the sentence to the output\n",
    "* We have an input cell and output cell in the notebook. \n",
    "* Passing a value to the print() function shall be used to print the output to the screen\n",
    "* In python, the sentences are stored in either ' quotes or \" quotes\n",
    "* We can use them to print the values in the following way "
   ]
  },
  {
   "cell_type": "code",
   "execution_count": 2,
   "id": "31b0bc63",
   "metadata": {},
   "outputs": [
    {
     "name": "stdout",
     "output_type": "stream",
     "text": [
      "Hello World\n"
     ]
    }
   ],
   "source": [
    "print('Hello World')"
   ]
  },
  {
   "cell_type": "code",
   "execution_count": 3,
   "id": "a28f47f4",
   "metadata": {},
   "outputs": [
    {
     "name": "stdout",
     "output_type": "stream",
     "text": [
      "Hello World\n"
     ]
    }
   ],
   "source": [
    "print(\"Hello World\")"
   ]
  },
  {
   "cell_type": "markdown",
   "id": "02075b92",
   "metadata": {},
   "source": [
    "We have seen how the output is print using the print in-built function\n",
    "Now , we shall start with the basic values (Numeric/String)  in python\n",
    "* The numeric values that can be used in python are of three types\n",
    "    * Integer \n",
    "    * Float \n",
    "    * Complex Type"
   ]
  },
  {
   "cell_type": "markdown",
   "id": "ef1c9a62",
   "metadata": {},
   "source": [
    "* Integer type"
   ]
  },
  {
   "cell_type": "code",
   "execution_count": 1,
   "id": "61aa587f",
   "metadata": {},
   "outputs": [
    {
     "data": {
      "text/plain": [
       "22"
      ]
     },
     "execution_count": 1,
     "metadata": {},
     "output_type": "execute_result"
    }
   ],
   "source": [
    "22"
   ]
  },
  {
   "cell_type": "markdown",
   "id": "a7d0c46c",
   "metadata": {},
   "source": [
    "* Floting type"
   ]
  },
  {
   "cell_type": "code",
   "execution_count": 5,
   "id": "030a40f3",
   "metadata": {},
   "outputs": [
    {
     "data": {
      "text/plain": [
       "22.32"
      ]
     },
     "execution_count": 5,
     "metadata": {},
     "output_type": "execute_result"
    }
   ],
   "source": [
    "22.32"
   ]
  },
  {
   "cell_type": "markdown",
   "id": "d595c88b",
   "metadata": {},
   "source": [
    "* Complex Type"
   ]
  },
  {
   "cell_type": "code",
   "execution_count": 6,
   "id": "e39ad7c5",
   "metadata": {},
   "outputs": [
    {
     "data": {
      "text/plain": [
       "(3+4j)"
      ]
     },
     "execution_count": 6,
     "metadata": {},
     "output_type": "execute_result"
    }
   ],
   "source": [
    "3+4j"
   ]
  },
  {
   "cell_type": "markdown",
   "id": "12df38be",
   "metadata": {},
   "source": [
    "#### Let us perform  some basic operations on the numbers\n",
    "* Addition\n",
    "* Subtraction\n",
    "* Multiplication\n",
    "* Division\n",
    "* exponent"
   ]
  },
  {
   "cell_type": "code",
   "execution_count": 8,
   "id": "4f6d2a48",
   "metadata": {},
   "outputs": [
    {
     "data": {
      "text/plain": [
       "7"
      ]
     },
     "execution_count": 8,
     "metadata": {},
     "output_type": "execute_result"
    }
   ],
   "source": [
    "## Addition\n",
    "3+4"
   ]
  },
  {
   "cell_type": "code",
   "execution_count": 9,
   "id": "e75405b5",
   "metadata": {},
   "outputs": [
    {
     "data": {
      "text/plain": [
       "3"
      ]
     },
     "execution_count": 9,
     "metadata": {},
     "output_type": "execute_result"
    }
   ],
   "source": [
    "## Subtraction\n",
    "8-5"
   ]
  },
  {
   "cell_type": "code",
   "execution_count": 10,
   "id": "f71cea05",
   "metadata": {},
   "outputs": [
    {
     "data": {
      "text/plain": [
       "15"
      ]
     },
     "execution_count": 10,
     "metadata": {},
     "output_type": "execute_result"
    }
   ],
   "source": [
    "### Multiplication\n",
    "3*5"
   ]
  },
  {
   "cell_type": "code",
   "execution_count": 11,
   "id": "a7857525",
   "metadata": {},
   "outputs": [
    {
     "data": {
      "text/plain": [
       "1.6666666666666667"
      ]
     },
     "execution_count": 11,
     "metadata": {},
     "output_type": "execute_result"
    }
   ],
   "source": [
    "### Division\n",
    "5/3"
   ]
  },
  {
   "cell_type": "code",
   "execution_count": 16,
   "id": "1bbef0ea",
   "metadata": {},
   "outputs": [
    {
     "data": {
      "text/plain": [
       "1"
      ]
     },
     "execution_count": 16,
     "metadata": {},
     "output_type": "execute_result"
    }
   ],
   "source": [
    "### Division with two front slashes provides the output as below - \n",
    "### it rounds off to the nearest integer.\n",
    "5//3"
   ]
  },
  {
   "cell_type": "code",
   "execution_count": 17,
   "id": "f1bc4b6f",
   "metadata": {},
   "outputs": [
    {
     "data": {
      "text/plain": [
       "6.0"
      ]
     },
     "execution_count": 17,
     "metadata": {},
     "output_type": "execute_result"
    }
   ],
   "source": [
    "12/2"
   ]
  },
  {
   "cell_type": "code",
   "execution_count": 18,
   "id": "3cedb0b2",
   "metadata": {},
   "outputs": [
    {
     "data": {
      "text/plain": [
       "6"
      ]
     },
     "execution_count": 18,
     "metadata": {},
     "output_type": "execute_result"
    }
   ],
   "source": [
    "12//2"
   ]
  },
  {
   "cell_type": "code",
   "execution_count": 22,
   "id": "7731c3bf",
   "metadata": {},
   "outputs": [
    {
     "data": {
      "text/plain": [
       "8"
      ]
     },
     "execution_count": 22,
     "metadata": {},
     "output_type": "execute_result"
    }
   ],
   "source": [
    "## Exponent\n",
    "2**3"
   ]
  },
  {
   "cell_type": "code",
   "execution_count": 23,
   "id": "996dc675",
   "metadata": {},
   "outputs": [
    {
     "data": {
      "text/plain": [
       "16"
      ]
     },
     "execution_count": 23,
     "metadata": {},
     "output_type": "execute_result"
    }
   ],
   "source": [
    "## Exponent\n",
    "4**2"
   ]
  },
  {
   "cell_type": "markdown",
   "id": "6a7d0759",
   "metadata": {},
   "source": [
    "#### Lets look at how to represent the string data type in Python\n",
    "#### When we say string - It is sequence of characters. \n",
    "* String are generally enclosed in single quotes or double quotes."
   ]
  },
  {
   "cell_type": "code",
   "execution_count": 28,
   "id": "5aa60575",
   "metadata": {},
   "outputs": [
    {
     "data": {
      "text/plain": [
       "'Hello World'"
      ]
     },
     "execution_count": 28,
     "metadata": {},
     "output_type": "execute_result"
    }
   ],
   "source": [
    "### Use quotes to represent the data\n",
    "'Hello World'"
   ]
  },
  {
   "cell_type": "code",
   "execution_count": 29,
   "id": "39be707b",
   "metadata": {},
   "outputs": [
    {
     "name": "stdout",
     "output_type": "stream",
     "text": [
      "Hello World!\n"
     ]
    }
   ],
   "source": [
    "### Print 'Hello World!' to console\n",
    "print('Hello World!')"
   ]
  },
  {
   "cell_type": "code",
   "execution_count": 25,
   "id": "332d65e8",
   "metadata": {},
   "outputs": [
    {
     "data": {
      "text/plain": [
       "'Hello World!'"
      ]
     },
     "execution_count": 25,
     "metadata": {},
     "output_type": "execute_result"
    }
   ],
   "source": [
    "\"Hello World!\""
   ]
  },
  {
   "cell_type": "code",
   "execution_count": 30,
   "id": "4c136a0c",
   "metadata": {},
   "outputs": [
    {
     "name": "stdout",
     "output_type": "stream",
     "text": [
      "Hello World!\n"
     ]
    }
   ],
   "source": [
    "### Print \"Hello World!\" to console\n",
    "print(\"Hello World!\")"
   ]
  },
  {
   "cell_type": "code",
   "execution_count": 26,
   "id": "f3be9584",
   "metadata": {
    "scrolled": true
   },
   "outputs": [
    {
     "data": {
      "text/plain": [
       "'This is python '"
      ]
     },
     "execution_count": 26,
     "metadata": {},
     "output_type": "execute_result"
    }
   ],
   "source": [
    "### Represent 'This is python' in single quotes\n",
    "'This is python '"
   ]
  },
  {
   "cell_type": "code",
   "execution_count": 31,
   "id": "4612667e",
   "metadata": {},
   "outputs": [
    {
     "name": "stdout",
     "output_type": "stream",
     "text": [
      "This is python \n"
     ]
    }
   ],
   "source": [
    "#### Print 'This is python ' in single quotes and \n",
    "### pass it to the print function\n",
    "print('This is python ')"
   ]
  },
  {
   "cell_type": "code",
   "execution_count": 27,
   "id": "9ab99bc8",
   "metadata": {},
   "outputs": [
    {
     "data": {
      "text/plain": [
       "'This is Python'"
      ]
     },
     "execution_count": 27,
     "metadata": {},
     "output_type": "execute_result"
    }
   ],
   "source": [
    "#### Represent \"This is Python \" in double quotes\n",
    "\"This is Python\""
   ]
  },
  {
   "cell_type": "code",
   "execution_count": 32,
   "id": "13cf7993",
   "metadata": {},
   "outputs": [
    {
     "name": "stdout",
     "output_type": "stream",
     "text": [
      "This is Python\n"
     ]
    }
   ],
   "source": [
    "### Print \"This is Python\" in double quotes \n",
    "### and pass it to the print function\n",
    "print(\"This is Python\")"
   ]
  },
  {
   "cell_type": "markdown",
   "id": "a826f508",
   "metadata": {},
   "source": [
    "#### How to know which data type each value represents\n",
    "* Use the type function"
   ]
  },
  {
   "cell_type": "code",
   "execution_count": 33,
   "id": "c1dc7e63",
   "metadata": {},
   "outputs": [
    {
     "data": {
      "text/plain": [
       "int"
      ]
     },
     "execution_count": 33,
     "metadata": {},
     "output_type": "execute_result"
    }
   ],
   "source": [
    "type(20)"
   ]
  },
  {
   "cell_type": "code",
   "execution_count": 34,
   "id": "c9337ca8",
   "metadata": {},
   "outputs": [
    {
     "data": {
      "text/plain": [
       "float"
      ]
     },
     "execution_count": 34,
     "metadata": {},
     "output_type": "execute_result"
    }
   ],
   "source": [
    "type(3.14)"
   ]
  },
  {
   "cell_type": "code",
   "execution_count": 35,
   "id": "0668674d",
   "metadata": {},
   "outputs": [
    {
     "data": {
      "text/plain": [
       "str"
      ]
     },
     "execution_count": 35,
     "metadata": {},
     "output_type": "execute_result"
    }
   ],
   "source": [
    "type('Hello')"
   ]
  },
  {
   "cell_type": "code",
   "execution_count": 36,
   "id": "d7249ce2",
   "metadata": {},
   "outputs": [
    {
     "data": {
      "text/plain": [
       "complex"
      ]
     },
     "execution_count": 36,
     "metadata": {},
     "output_type": "execute_result"
    }
   ],
   "source": [
    "type(3+3j)"
   ]
  },
  {
   "cell_type": "markdown",
   "id": "d1dd13d4",
   "metadata": {},
   "source": [
    "#### How to store values in Python - Use Variables\n",
    "* Use of variables in python\n",
    "* Python is a dynamically typed programming language\n",
    "  * Dynamically Typed programming language is one where<br/> \n",
    "  reassigment of values for different datatypes is possible<br/> "
   ]
  },
  {
   "cell_type": "code",
   "execution_count": 1,
   "id": "540bdc2b",
   "metadata": {},
   "outputs": [],
   "source": [
    "# Below x is a variable and it is being \n",
    "# assigned a integer value of 10\n",
    "x = 10"
   ]
  },
  {
   "cell_type": "code",
   "execution_count": 38,
   "id": "0ec77efc",
   "metadata": {},
   "outputs": [
    {
     "data": {
      "text/plain": [
       "10"
      ]
     },
     "execution_count": 38,
     "metadata": {},
     "output_type": "execute_result"
    }
   ],
   "source": [
    "x"
   ]
  },
  {
   "cell_type": "code",
   "execution_count": 42,
   "id": "7065e466",
   "metadata": {},
   "outputs": [
    {
     "data": {
      "text/plain": [
       "int"
      ]
     },
     "execution_count": 42,
     "metadata": {},
     "output_type": "execute_result"
    }
   ],
   "source": [
    "## check the type of x - It is of type integer.\n",
    "type(x)"
   ]
  },
  {
   "cell_type": "markdown",
   "id": "ee8acfb7",
   "metadata": {},
   "source": [
    "Y is a variable and it is being assigned a float value of 20"
   ]
  },
  {
   "cell_type": "code",
   "execution_count": 40,
   "id": "87d22a22",
   "metadata": {},
   "outputs": [],
   "source": [
    "y = 20.33"
   ]
  },
  {
   "cell_type": "code",
   "execution_count": 41,
   "id": "706a1d03",
   "metadata": {},
   "outputs": [
    {
     "data": {
      "text/plain": [
       "20.33"
      ]
     },
     "execution_count": 41,
     "metadata": {},
     "output_type": "execute_result"
    }
   ],
   "source": [
    "y"
   ]
  },
  {
   "cell_type": "markdown",
   "id": "311d6ed4",
   "metadata": {},
   "source": [
    "Check the type of y - It is of type float"
   ]
  },
  {
   "cell_type": "code",
   "execution_count": 43,
   "id": "5a58ecb3",
   "metadata": {},
   "outputs": [
    {
     "data": {
      "text/plain": [
       "float"
      ]
     },
     "execution_count": 43,
     "metadata": {},
     "output_type": "execute_result"
    }
   ],
   "source": [
    "type(y)"
   ]
  },
  {
   "cell_type": "markdown",
   "id": "b16cd1ac",
   "metadata": {},
   "source": [
    "z is a variable and it is being assigned a complex numebr of 3+2j"
   ]
  },
  {
   "cell_type": "code",
   "execution_count": 3,
   "id": "cec851db",
   "metadata": {},
   "outputs": [
    {
     "data": {
      "text/plain": [
       "(3+2j)"
      ]
     },
     "execution_count": 3,
     "metadata": {},
     "output_type": "execute_result"
    }
   ],
   "source": [
    "z = 3 + 2j\n",
    "z"
   ]
  },
  {
   "cell_type": "markdown",
   "id": "305919a6",
   "metadata": {},
   "source": [
    "Check the type of z it is of complex type."
   ]
  },
  {
   "cell_type": "code",
   "execution_count": 47,
   "id": "98220889",
   "metadata": {
    "scrolled": true
   },
   "outputs": [
    {
     "data": {
      "text/plain": [
       "complex"
      ]
     },
     "execution_count": 47,
     "metadata": {},
     "output_type": "execute_result"
    }
   ],
   "source": [
    "type(z)"
   ]
  },
  {
   "cell_type": "code",
   "execution_count": 50,
   "id": "a0fab417",
   "metadata": {},
   "outputs": [
    {
     "data": {
      "text/plain": [
       "3.0"
      ]
     },
     "execution_count": 50,
     "metadata": {},
     "output_type": "execute_result"
    }
   ],
   "source": [
    "z.real"
   ]
  },
  {
   "cell_type": "markdown",
   "id": "e1d0c799",
   "metadata": {},
   "source": [
    "A complex number has two parts   - real part and imaginary part <br/>\n",
    "imaginary part is got from z.imag <br/>"
   ]
  },
  {
   "cell_type": "code",
   "execution_count": 4,
   "id": "43f87d38",
   "metadata": {
    "scrolled": true
   },
   "outputs": [
    {
     "data": {
      "text/plain": [
       "2.0"
      ]
     },
     "execution_count": 4,
     "metadata": {},
     "output_type": "execute_result"
    }
   ],
   "source": [
    "z.imag"
   ]
  },
  {
   "cell_type": "markdown",
   "id": "732517d4",
   "metadata": {},
   "source": [
    "* Exercise - Compute area of triangle with given base and height"
   ]
  },
  {
   "cell_type": "code",
   "execution_count": 4,
   "id": "7b1ba873",
   "metadata": {},
   "outputs": [
    {
     "name": "stdout",
     "output_type": "stream",
     "text": [
      "Area of trinagle is  150.0\n"
     ]
    }
   ],
   "source": [
    "### area of trainge is given using the formula 0.5*b*h\n",
    "base = 20\n",
    "height = 15\n",
    "area = 0.5 * base * height\n",
    "print(\"Area of trinagle is \", area)"
   ]
  },
  {
   "cell_type": "markdown",
   "id": "bae4594d",
   "metadata": {},
   "source": [
    "#### Let us see how strings can be formatted "
   ]
  },
  {
   "cell_type": "markdown",
   "id": "a6230877",
   "metadata": {},
   "source": [
    "We want to print within the enclosed single quotes. <br/>\n",
    "We can do as below stands for new line <br/>"
   ]
  },
  {
   "cell_type": "code",
   "execution_count": 7,
   "id": "a22f1723",
   "metadata": {},
   "outputs": [
    {
     "name": "stdout",
     "output_type": "stream",
     "text": [
      "hello \n",
      "ew world\n"
     ]
    }
   ],
   "source": [
    "print('hello \\new world')"
   ]
  },
  {
   "cell_type": "markdown",
   "id": "690483fd",
   "metadata": {},
   "source": [
    "* Two ways to escape the string character as mentioned below"
   ]
  },
  {
   "cell_type": "code",
   "execution_count": 14,
   "id": "cdd3ed60",
   "metadata": {},
   "outputs": [
    {
     "name": "stdout",
     "output_type": "stream",
     "text": [
      "hello \\new world\n"
     ]
    }
   ],
   "source": [
    "### using the raw format of the string\n",
    "print(r'hello \\new world')"
   ]
  },
  {
   "cell_type": "markdown",
   "id": "96b942e3",
   "metadata": {},
   "source": [
    "If we want to escape the \\ we use another \\ to escape it"
   ]
  },
  {
   "cell_type": "code",
   "execution_count": 9,
   "id": "9d92c2c9",
   "metadata": {},
   "outputs": [
    {
     "name": "stdout",
     "output_type": "stream",
     "text": [
      "hello \\new world\n"
     ]
    }
   ],
   "source": [
    "print('hello \\\\new world')"
   ]
  },
  {
   "cell_type": "markdown",
   "id": "8e6aa744",
   "metadata": {},
   "source": [
    "* to specify tab space in the string"
   ]
  },
  {
   "cell_type": "code",
   "execution_count": 10,
   "id": "fe011987",
   "metadata": {},
   "outputs": [
    {
     "name": "stdout",
     "output_type": "stream",
     "text": [
      "hello \t world\n"
     ]
    }
   ],
   "source": [
    "## If  use \\t then it used as tab \n",
    "print('hello \\t world')"
   ]
  },
  {
   "cell_type": "markdown",
   "id": "022fb2d7",
   "metadata": {},
   "source": [
    "* Specify the apostrophe and present it as an escape character"
   ]
  },
  {
   "cell_type": "markdown",
   "id": "5b40ca2e",
   "metadata": {},
   "source": [
    "We want to include quote in the output of print statement.<br/>\n",
    "We can print the statement as follows.<br/>"
   ]
  },
  {
   "cell_type": "code",
   "execution_count": 11,
   "id": "bb502d0e",
   "metadata": {},
   "outputs": [
    {
     "name": "stdout",
     "output_type": "stream",
     "text": [
      "it's a new world\n"
     ]
    }
   ],
   "source": [
    "print('it\\'s a new world')"
   ]
  },
  {
   "cell_type": "markdown",
   "id": "14e66e69",
   "metadata": {},
   "source": [
    "* Multi line statements in print statements"
   ]
  },
  {
   "cell_type": "code",
   "execution_count": 12,
   "id": "7a7eb92c",
   "metadata": {},
   "outputs": [
    {
     "name": "stdout",
     "output_type": "stream",
     "text": [
      "This is how first line\n",
      "second line \n",
      "third line are printed\n",
      "\n"
     ]
    }
   ],
   "source": [
    "### Multiple line can be used in the following way - Triple Single quote\n",
    "print('''This is how first line\n",
    "second line \n",
    "third line are printed\n",
    "''')"
   ]
  },
  {
   "cell_type": "code",
   "execution_count": 13,
   "id": "adb06ce1",
   "metadata": {},
   "outputs": [
    {
     "name": "stdout",
     "output_type": "stream",
     "text": [
      "This is how first line\n",
      "second line \n",
      "third line are printed\n",
      "\n"
     ]
    }
   ],
   "source": [
    "### Multiple line can be used in the following way -Triple Double quote\n",
    "print(\"\"\"This is how first line\n",
    "second line \n",
    "third line are printed\n",
    "\"\"\")"
   ]
  },
  {
   "cell_type": "markdown",
   "id": "a2003bf8",
   "metadata": {},
   "source": [
    "#### Formatting string values"
   ]
  },
  {
   "cell_type": "markdown",
   "id": "56563820",
   "metadata": {},
   "source": [
    "* Using index values within curly braces to print the output value"
   ]
  },
  {
   "cell_type": "markdown",
   "id": "6971a366",
   "metadata": {},
   "source": [
    "Using format function on top of the stirng value to \n",
    "print the output as follows"
   ]
  },
  {
   "cell_type": "code",
   "execution_count": 21,
   "id": "067f8af3",
   "metadata": {
    "scrolled": true
   },
   "outputs": [
    {
     "name": "stdout",
     "output_type": "stream",
     "text": [
      "Product of 2 and 3 is 6\n"
     ]
    }
   ],
   "source": [
    "print('Product of 2 and 3 is {}'.format(2*3))"
   ]
  },
  {
   "cell_type": "markdown",
   "id": "77f5559c",
   "metadata": {},
   "source": [
    "Let say we have more that 2 value and want to <br/>\n",
    "format in the string values it can be done <br/>\n",
    "as following <br/>"
   ]
  },
  {
   "cell_type": "code",
   "execution_count": 22,
   "id": "e45768a7",
   "metadata": {},
   "outputs": [
    {
     "name": "stdout",
     "output_type": "stream",
     "text": [
      "Product of 2 and 3 is 6 \n"
     ]
    }
   ],
   "source": [
    "print('Product of {0} and {1} is {2} '.format(2,3,2*3))"
   ]
  },
  {
   "cell_type": "markdown",
   "id": "dbe73f14",
   "metadata": {},
   "source": [
    "For string values it will be denoted as following"
   ]
  },
  {
   "cell_type": "code",
   "execution_count": 28,
   "id": "15c2b257",
   "metadata": {},
   "outputs": [
    {
     "name": "stdout",
     "output_type": "stream",
     "text": [
      "How are you doing ?\n"
     ]
    }
   ],
   "source": [
    "print('{0} {1} {2} {3}'.format(\"How\",\"are\",\"you\",\"doing ?\"))"
   ]
  },
  {
   "cell_type": "markdown",
   "id": "b3372a71",
   "metadata": {},
   "source": [
    "* Expressing float values in print statements"
   ]
  },
  {
   "cell_type": "code",
   "execution_count": 26,
   "id": "da1e176b",
   "metadata": {},
   "outputs": [
    {
     "name": "stdout",
     "output_type": "stream",
     "text": [
      "Value of pi is 3.14\n"
     ]
    }
   ],
   "source": [
    "print('Value of pi is {}'.format(3.14))"
   ]
  },
  {
   "cell_type": "markdown",
   "id": "f8a2197c",
   "metadata": {},
   "source": [
    "* Exercise using string foramtting print the area of triangle in a single line"
   ]
  },
  {
   "cell_type": "code",
   "execution_count": null,
   "id": "f4eaa558",
   "metadata": {},
   "outputs": [],
   "source": [
    "height = 50\n",
    "length = 10\n",
    "print('The area of traingle is {}'.format(0.5 * height * length)) \n",
    "## write code inside the print function"
   ]
  },
  {
   "cell_type": "markdown",
   "id": "b171214a",
   "metadata": {},
   "source": [
    "#### using varaibles in print statements"
   ]
  },
  {
   "cell_type": "markdown",
   "id": "fb237420",
   "metadata": {},
   "source": [
    "* integer and float variables in print statements"
   ]
  },
  {
   "cell_type": "code",
   "execution_count": 30,
   "id": "023978a4",
   "metadata": {},
   "outputs": [
    {
     "name": "stdout",
     "output_type": "stream",
     "text": [
      "Value is  10\n"
     ]
    }
   ],
   "source": [
    "x = 10\n",
    "print('Value is ' , x)"
   ]
  },
  {
   "cell_type": "code",
   "execution_count": 31,
   "id": "0071ee66",
   "metadata": {},
   "outputs": [
    {
     "ename": "TypeError",
     "evalue": "can only concatenate str (not \"int\") to str",
     "output_type": "error",
     "traceback": [
      "\u001b[1;31m---------------------------------------------------------------------------\u001b[0m",
      "\u001b[1;31mTypeError\u001b[0m                                 Traceback (most recent call last)",
      "Cell \u001b[1;32mIn[31], line 2\u001b[0m\n\u001b[0;32m      1\u001b[0m \u001b[38;5;66;03m## The below throws an error\u001b[39;00m\n\u001b[1;32m----> 2\u001b[0m \u001b[38;5;28mprint\u001b[39m(\u001b[38;5;124;43m'\u001b[39;49m\u001b[38;5;124;43mvalue is\u001b[39;49m\u001b[38;5;124;43m'\u001b[39;49m\u001b[43m \u001b[49m\u001b[38;5;241;43m+\u001b[39;49m\u001b[43m \u001b[49m\u001b[43mx\u001b[49m)\n",
      "\u001b[1;31mTypeError\u001b[0m: can only concatenate str (not \"int\") to str"
     ]
    }
   ],
   "source": [
    "## The below throws an error\n",
    "print('value is' + x)"
   ]
  },
  {
   "cell_type": "code",
   "execution_count": 32,
   "id": "5327ca0d",
   "metadata": {},
   "outputs": [
    {
     "name": "stdout",
     "output_type": "stream",
     "text": [
      "Value is 10\n"
     ]
    }
   ],
   "source": [
    "### To correct the above statement we shall do the following\n",
    "print('Value is ' + str(x))"
   ]
  },
  {
   "cell_type": "markdown",
   "id": "d4f25695",
   "metadata": {},
   "source": [
    "* We shall come back to print formatting later as we get into other data structures in python"
   ]
  },
  {
   "cell_type": "markdown",
   "id": "13a6fa77",
   "metadata": {},
   "source": [
    "#### Let us look at some other functions for integers, float and string\n",
    "\n"
   ]
  },
  {
   "cell_type": "markdown",
   "id": "eb590297",
   "metadata": {},
   "source": [
    "Integer or float value is given -<br/> \n",
    "we need to convert it to string. <br/>\n",
    "The following we can perform it  <br/>"
   ]
  },
  {
   "cell_type": "code",
   "execution_count": 42,
   "id": "534292c9",
   "metadata": {},
   "outputs": [
    {
     "data": {
      "text/plain": [
       "'10'"
      ]
     },
     "execution_count": 42,
     "metadata": {},
     "output_type": "execute_result"
    }
   ],
   "source": [
    "value = 10\n",
    "str(value)"
   ]
  },
  {
   "cell_type": "code",
   "execution_count": 43,
   "id": "966bf831",
   "metadata": {},
   "outputs": [
    {
     "data": {
      "text/plain": [
       "'30.5'"
      ]
     },
     "execution_count": 43,
     "metadata": {},
     "output_type": "execute_result"
    }
   ],
   "source": [
    "fl2 = 30.5\n",
    "str(fl2)"
   ]
  },
  {
   "cell_type": "markdown",
   "id": "88a45b67",
   "metadata": {},
   "source": [
    "Integer/float String value is given, <br/>\n",
    "we need to convert that into int or float value <br/>"
   ]
  },
  {
   "cell_type": "code",
   "execution_count": 49,
   "id": "b2424790",
   "metadata": {},
   "outputs": [
    {
     "name": "stdout",
     "output_type": "stream",
     "text": [
      "10  <class 'str'>\n",
      "10  10 <class 'int'>\n"
     ]
    }
   ],
   "source": [
    "str1 = '10'\n",
    "print(str1 + ' ' , type(str1))\n",
    "print(str1 + ' ' , int(str1) , type(int(str1)))"
   ]
  },
  {
   "cell_type": "code",
   "execution_count": 51,
   "id": "440b9551",
   "metadata": {},
   "outputs": [
    {
     "name": "stdout",
     "output_type": "stream",
     "text": [
      "10.54  <class 'str'>\n",
      "10.54  10.54 <class 'float'>\n"
     ]
    }
   ],
   "source": [
    "str2 = '10.54'\n",
    "print(str2 + ' ' , type(str2))\n",
    "print(str2 + ' ', float(str2), type(float(str2)))"
   ]
  },
  {
   "cell_type": "markdown",
   "id": "2b1a2960",
   "metadata": {},
   "source": [
    "### Python Lesson 2"
   ]
  },
  {
   "cell_type": "markdown",
   "id": "f04574f8",
   "metadata": {},
   "source": [
    "#### In this notebook we shall cover the following aspects\n",
    "* Other in-built functions\n",
    "* Capture input from the command line\n",
    "* Operators and Operands in Python"
   ]
  },
  {
   "cell_type": "markdown",
   "id": "aea2faae",
   "metadata": {},
   "source": [
    "* divmod() function returns a pair of numbers consisting of quotient and remainder"
   ]
  },
  {
   "cell_type": "markdown",
   "id": "7b2d2029",
   "metadata": {},
   "source": [
    "We pass two numbers to divmod - 5,3 : div(5,3) <br/>\n",
    "It returns the quotient of the division between two <br/>\n",
    "numbers and remainder of the division"
   ]
  },
  {
   "cell_type": "code",
   "execution_count": 14,
   "id": "edbae7f8",
   "metadata": {},
   "outputs": [
    {
     "data": {
      "text/plain": [
       "(1, 2)"
      ]
     },
     "execution_count": 14,
     "metadata": {},
     "output_type": "execute_result"
    }
   ],
   "source": [
    "divmod(5,3)"
   ]
  },
  {
   "cell_type": "markdown",
   "id": "9ff0356d",
   "metadata": {},
   "source": [
    "* ord() function return point value representation of a character"
   ]
  },
  {
   "cell_type": "markdown",
   "id": "db8770ba",
   "metadata": {},
   "source": [
    "Finding the unicode point value of a character 'H' - pass 'H' <br/>\n",
    "to the ord() function <br/>"
   ]
  },
  {
   "cell_type": "code",
   "execution_count": 2,
   "id": "0674c378",
   "metadata": {
    "scrolled": true
   },
   "outputs": [
    {
     "data": {
      "text/plain": [
       "72"
      ]
     },
     "execution_count": 2,
     "metadata": {},
     "output_type": "execute_result"
    }
   ],
   "source": [
    "ord('H')"
   ]
  },
  {
   "cell_type": "markdown",
   "id": "9a2263a4",
   "metadata": {},
   "source": [
    "Finding the unicode \n",
    "point value of a character 'a' - pass 'a' to the ord() function"
   ]
  },
  {
   "cell_type": "code",
   "execution_count": 3,
   "id": "cf40fabc",
   "metadata": {},
   "outputs": [
    {
     "data": {
      "text/plain": [
       "97"
      ]
     },
     "execution_count": 3,
     "metadata": {},
     "output_type": "execute_result"
    }
   ],
   "source": [
    "ord('a')"
   ]
  },
  {
   "cell_type": "markdown",
   "id": "4bfba84f",
   "metadata": {},
   "source": [
    "Finding unicode point value of a character 'A' <br/>\n",
    "pass 'A' to the ord() function <br/>"
   ]
  },
  {
   "cell_type": "code",
   "execution_count": 4,
   "id": "8a636588",
   "metadata": {},
   "outputs": [
    {
     "data": {
      "text/plain": [
       "65"
      ]
     },
     "execution_count": 4,
     "metadata": {},
     "output_type": "execute_result"
    }
   ],
   "source": [
    "ord('A')"
   ]
  },
  {
   "cell_type": "markdown",
   "id": "a6e3fef6",
   "metadata": {},
   "source": [
    "Finding unicode point value of a character '\\n'- \n",
    "pass '\\n' to the ord() function"
   ]
  },
  {
   "cell_type": "code",
   "execution_count": 22,
   "id": "c2dc9e04",
   "metadata": {},
   "outputs": [
    {
     "data": {
      "text/plain": [
       "10"
      ]
     },
     "execution_count": 22,
     "metadata": {},
     "output_type": "execute_result"
    }
   ],
   "source": [
    "ord('\\n')"
   ]
  },
  {
   "cell_type": "markdown",
   "id": "605fbee3",
   "metadata": {},
   "source": [
    "* chr() function is the inverse of ord() - It gives the value of the give integer"
   ]
  },
  {
   "cell_type": "markdown",
   "id": "95762d0f",
   "metadata": {},
   "source": [
    "chr function that takes input as 10 would return the output as '\\n'"
   ]
  },
  {
   "cell_type": "code",
   "execution_count": 21,
   "id": "a7073df2",
   "metadata": {
    "scrolled": true
   },
   "outputs": [
    {
     "data": {
      "text/plain": [
       "'\\n'"
      ]
     },
     "execution_count": 21,
     "metadata": {},
     "output_type": "execute_result"
    }
   ],
   "source": [
    "chr(10)"
   ]
  },
  {
   "cell_type": "markdown",
   "id": "e560f544",
   "metadata": {},
   "source": [
    "chr function that takes input as 97 would return the output as 'a'"
   ]
  },
  {
   "cell_type": "code",
   "execution_count": 25,
   "id": "de48dee5",
   "metadata": {
    "scrolled": true
   },
   "outputs": [
    {
     "data": {
      "text/plain": [
       "'a'"
      ]
     },
     "execution_count": 25,
     "metadata": {},
     "output_type": "execute_result"
    }
   ],
   "source": [
    "chr(97)"
   ]
  },
  {
   "cell_type": "markdown",
   "id": "9ffe9708",
   "metadata": {},
   "source": [
    "chr function that takes input as 97 would return the output as 'A'"
   ]
  },
  {
   "cell_type": "code",
   "execution_count": 26,
   "id": "fda4c39c",
   "metadata": {},
   "outputs": [
    {
     "data": {
      "text/plain": [
       "'A'"
      ]
     },
     "execution_count": 26,
     "metadata": {},
     "output_type": "execute_result"
    }
   ],
   "source": [
    "chr(65)"
   ]
  },
  {
   "cell_type": "markdown",
   "id": "6fa54073",
   "metadata": {},
   "source": [
    "chr function that takes input as 8641 would return the output as %'"
   ]
  },
  {
   "cell_type": "code",
   "execution_count": 1,
   "id": "a36f2d86",
   "metadata": {
    "scrolled": true
   },
   "outputs": [
    {
     "data": {
      "text/plain": [
       "'⅝'"
      ]
     },
     "execution_count": 1,
     "metadata": {},
     "output_type": "execute_result"
    }
   ],
   "source": [
    "chr(8541)"
   ]
  },
  {
   "cell_type": "markdown",
   "id": "c5db9607",
   "metadata": {},
   "source": [
    "* id() function gives the Cpython address location of the object"
   ]
  },
  {
   "cell_type": "markdown",
   "id": "3e697e39",
   "metadata": {},
   "source": [
    "We want to get the address of a python object - \n",
    "id() function provides the address of that variable"
   ]
  },
  {
   "cell_type": "code",
   "execution_count": 12,
   "id": "37a58304",
   "metadata": {},
   "outputs": [
    {
     "data": {
      "text/plain": [
       "1455356117520"
      ]
     },
     "execution_count": 12,
     "metadata": {},
     "output_type": "execute_result"
    }
   ],
   "source": [
    "x = 10\n",
    "id(x)"
   ]
  },
  {
   "cell_type": "markdown",
   "id": "0cc1cd44",
   "metadata": {},
   "source": [
    "Finding the memory location address of a \n",
    "floating value passed to id function"
   ]
  },
  {
   "cell_type": "code",
   "execution_count": 13,
   "id": "0c1fdf6c",
   "metadata": {},
   "outputs": [
    {
     "data": {
      "text/plain": [
       "1455436509232"
      ]
     },
     "execution_count": 13,
     "metadata": {},
     "output_type": "execute_result"
    }
   ],
   "source": [
    "y = 20.5\n",
    "id(y)"
   ]
  },
  {
   "cell_type": "markdown",
   "id": "5c0a2485",
   "metadata": {},
   "source": [
    "* bin() function - This will provide the binary value of the given input"
   ]
  },
  {
   "cell_type": "markdown",
   "id": "410f7483",
   "metadata": {},
   "source": [
    "pass value 10 to the bin() function and <br/>\n",
    "it returns binary representation of the passed value <br/>\n",
    "The binary representation is prefixed with 0b <br/>"
   ]
  },
  {
   "cell_type": "code",
   "execution_count": 28,
   "id": "fd989a28",
   "metadata": {},
   "outputs": [
    {
     "data": {
      "text/plain": [
       "'0b1010'"
      ]
     },
     "execution_count": 28,
     "metadata": {},
     "output_type": "execute_result"
    }
   ],
   "source": [
    "bin(10)"
   ]
  },
  {
   "cell_type": "markdown",
   "id": "e34b8699",
   "metadata": {},
   "source": [
    "pass value -10 to the bin() function and <br/>\n",
    "it returns binary representation of the passed value <br/>\n",
    "The binary representation is prefixed with -0b <br/>"
   ]
  },
  {
   "cell_type": "code",
   "execution_count": 29,
   "id": "da2b24e5",
   "metadata": {},
   "outputs": [
    {
     "data": {
      "text/plain": [
       "'-0b1010'"
      ]
     },
     "execution_count": 29,
     "metadata": {},
     "output_type": "execute_result"
    }
   ],
   "source": [
    "bin(-10)"
   ]
  },
  {
   "cell_type": "markdown",
   "id": "79c1a7a6",
   "metadata": {},
   "source": [
    "* hex() function - Converts the number from string to hexadecimal representation"
   ]
  },
  {
   "cell_type": "markdown",
   "id": "e857bb9a",
   "metadata": {},
   "source": [
    "pass value 10 to the hex() function and <br/>\n",
    "it returns the hexadecimal representation of the passed value <br/>\n",
    "output would 0xa <br/>"
   ]
  },
  {
   "cell_type": "code",
   "execution_count": 31,
   "id": "6b5b7dfb",
   "metadata": {},
   "outputs": [
    {
     "data": {
      "text/plain": [
       "'0xa'"
      ]
     },
     "execution_count": 31,
     "metadata": {},
     "output_type": "execute_result"
    }
   ],
   "source": [
    "hex(10)"
   ]
  },
  {
   "cell_type": "markdown",
   "id": "9f8f225a",
   "metadata": {},
   "source": [
    "pass value 8 to the hex() function <br/>\n",
    "and it returns the hexadecimal representation of the passed value <br/>\n",
    "output would 0x8 <br/>"
   ]
  },
  {
   "cell_type": "code",
   "execution_count": 9,
   "id": "fc001681",
   "metadata": {
    "scrolled": true
   },
   "outputs": [
    {
     "data": {
      "text/plain": [
       "'0x17'"
      ]
     },
     "execution_count": 9,
     "metadata": {},
     "output_type": "execute_result"
    }
   ],
   "source": [
    "hex(23)"
   ]
  },
  {
   "cell_type": "markdown",
   "id": "1b53b2fc",
   "metadata": {},
   "source": [
    "pass value 17 to the hex() function and <br/>\n",
    "it returns the hexadecimal representation of the passed value <br/>\n",
    "output would 0x8 <br/>"
   ]
  },
  {
   "cell_type": "code",
   "execution_count": 33,
   "id": "995bcf73",
   "metadata": {},
   "outputs": [
    {
     "data": {
      "text/plain": [
       "'0x11'"
      ]
     },
     "execution_count": 33,
     "metadata": {},
     "output_type": "execute_result"
    }
   ],
   "source": [
    "hex(17)"
   ]
  },
  {
   "cell_type": "markdown",
   "id": "fe6178c1",
   "metadata": {},
   "source": [
    "* oct function - Coverts the number from String representation to octal representation\n"
   ]
  },
  {
   "cell_type": "markdown",
   "id": "a7fe50c9",
   "metadata": {},
   "source": [
    "pass value 10 to the oct() function and <br/>\n",
    "it returns the octal representation of the passed value <br/>\n",
    "output would 0o12 - Prefix is 0o <br/>"
   ]
  },
  {
   "cell_type": "code",
   "execution_count": 35,
   "id": "9187369c",
   "metadata": {},
   "outputs": [
    {
     "data": {
      "text/plain": [
       "'0o12'"
      ]
     },
     "execution_count": 35,
     "metadata": {},
     "output_type": "execute_result"
    }
   ],
   "source": [
    "oct(10)"
   ]
  },
  {
   "cell_type": "markdown",
   "id": "eef9689b",
   "metadata": {},
   "source": [
    "pass value 15 to the oct() function and </br>\n",
    "it returns the octal representation of the passed value </br>\n",
    "output would 0o17 - Prefix is 0o </br>"
   ]
  },
  {
   "cell_type": "code",
   "execution_count": 36,
   "id": "da576876",
   "metadata": {},
   "outputs": [
    {
     "data": {
      "text/plain": [
       "'0o17'"
      ]
     },
     "execution_count": 36,
     "metadata": {},
     "output_type": "execute_result"
    }
   ],
   "source": [
    "\n",
    "oct(15)"
   ]
  },
  {
   "cell_type": "markdown",
   "id": "8078086d",
   "metadata": {},
   "source": [
    "pass value 13 to the oct() function and <br/>\n",
    "it returns the octal representation of the passed value <br/>\n",
    "output would 0o15 - Prefix is 0o <br/>"
   ]
  },
  {
   "cell_type": "code",
   "execution_count": 37,
   "id": "9e99b1b2",
   "metadata": {},
   "outputs": [
    {
     "data": {
      "text/plain": [
       "'0o15'"
      ]
     },
     "execution_count": 37,
     "metadata": {},
     "output_type": "execute_result"
    }
   ],
   "source": [
    "oct(13)"
   ]
  },
  {
   "cell_type": "markdown",
   "id": "5883873c",
   "metadata": {},
   "source": [
    "* int() function - Integer values with other bases"
   ]
  },
  {
   "cell_type": "markdown",
   "id": "fdb39ddb",
   "metadata": {},
   "source": [
    "default base value of an integer"
   ]
  },
  {
   "cell_type": "code",
   "execution_count": 14,
   "id": "aa65f782",
   "metadata": {},
   "outputs": [
    {
     "data": {
      "text/plain": [
       "10"
      ]
     },
     "execution_count": 14,
     "metadata": {},
     "output_type": "execute_result"
    }
   ],
   "source": [
    "\n",
    "int(10)"
   ]
  },
  {
   "cell_type": "markdown",
   "id": "8e13ee2e",
   "metadata": {},
   "source": [
    "Passing a string value '10' for base 2"
   ]
  },
  {
   "cell_type": "code",
   "execution_count": 16,
   "id": "74914251",
   "metadata": {},
   "outputs": [
    {
     "data": {
      "text/plain": [
       "2"
      ]
     },
     "execution_count": 16,
     "metadata": {},
     "output_type": "execute_result"
    }
   ],
   "source": [
    "int('10',base=2)"
   ]
  },
  {
   "cell_type": "markdown",
   "id": "6a182355",
   "metadata": {},
   "source": [
    "Passing a string value '10001' for base 2 - </br>\n",
    "That is the representation is 10001 in base 2 </br>\n",
    "This number is converted to base 10. </br>"
   ]
  },
  {
   "cell_type": "code",
   "execution_count": 17,
   "id": "f4c20f36",
   "metadata": {},
   "outputs": [
    {
     "data": {
      "text/plain": [
       "17"
      ]
     },
     "execution_count": 17,
     "metadata": {},
     "output_type": "execute_result"
    }
   ],
   "source": [
    "int('10001',base=2)"
   ]
  },
  {
   "cell_type": "markdown",
   "id": "f2d539f6",
   "metadata": {},
   "source": [
    "Passing a string value '0xa' for base 6 - </br>\n",
    "that is the representation is 0xa in base 16 </br>\n",
    "The number is 10 in base 10 </br>"
   ]
  },
  {
   "cell_type": "code",
   "execution_count": 8,
   "id": "2c3870b6",
   "metadata": {},
   "outputs": [
    {
     "data": {
      "text/plain": [
       "10"
      ]
     },
     "execution_count": 8,
     "metadata": {},
     "output_type": "execute_result"
    }
   ],
   "source": [
    "int('0xa',base=16)"
   ]
  },
  {
   "cell_type": "markdown",
   "id": "cc11fe9c",
   "metadata": {},
   "source": [
    "Converts the number from base 8 to base 10"
   ]
  },
  {
   "cell_type": "code",
   "execution_count": 5,
   "id": "53525842",
   "metadata": {},
   "outputs": [
    {
     "data": {
      "text/plain": [
       "13"
      ]
     },
     "execution_count": 5,
     "metadata": {},
     "output_type": "execute_result"
    }
   ],
   "source": [
    "int('0o15', base=8)"
   ]
  },
  {
   "cell_type": "markdown",
   "id": "cdac985b",
   "metadata": {},
   "source": [
    "Converts the number from base 16 to base 10 - <br/>\n",
    "that is the representation is 0x17 in base 16 <br/>\n",
    "The number is 23 in base 10 <br/>"
   ]
  },
  {
   "cell_type": "code",
   "execution_count": 10,
   "id": "dc586c09",
   "metadata": {},
   "outputs": [
    {
     "data": {
      "text/plain": [
       "23"
      ]
     },
     "execution_count": 10,
     "metadata": {},
     "output_type": "execute_result"
    }
   ],
   "source": [
    "int('0x17',base=16)"
   ]
  },
  {
   "cell_type": "markdown",
   "id": "24f848a9",
   "metadata": {},
   "source": [
    "* abs() function returns the absolute value. Indicating that it returns the positive value"
   ]
  },
  {
   "cell_type": "markdown",
   "id": "a2ab243a",
   "metadata": {},
   "source": [
    "pass 10.2 value to abs function - <br/>\n",
    "it generated the absolute value of the argument <br/>"
   ]
  },
  {
   "cell_type": "code",
   "execution_count": 11,
   "id": "0433b896",
   "metadata": {},
   "outputs": [
    {
     "data": {
      "text/plain": [
       "10"
      ]
     },
     "execution_count": 11,
     "metadata": {},
     "output_type": "execute_result"
    }
   ],
   "source": [
    "abs(-10)"
   ]
  },
  {
   "cell_type": "markdown",
   "id": "6851507c",
   "metadata": {},
   "source": [
    "pass 20.5 value to abs function - it generated <br/>\n",
    "the absolute value of the argument <br/>"
   ]
  },
  {
   "cell_type": "code",
   "execution_count": 12,
   "id": "faf6c63a",
   "metadata": {},
   "outputs": [
    {
     "data": {
      "text/plain": [
       "20.5"
      ]
     },
     "execution_count": 12,
     "metadata": {},
     "output_type": "execute_result"
    }
   ],
   "source": [
    "abs(-20.5)"
   ]
  },
  {
   "cell_type": "markdown",
   "id": "36bd6ef4",
   "metadata": {},
   "source": [
    "* pow() function returns the number for this formula - base** exponent\n",
    "\n",
    "* base of the number and the exponent it is raised to\n"
   ]
  },
  {
   "cell_type": "markdown",
   "id": "ccf0cd70",
   "metadata": {},
   "source": [
    "pass 2 as the base followed by 3 as the exponent - 2**3 - pow(2,3)"
   ]
  },
  {
   "cell_type": "code",
   "execution_count": 13,
   "id": "3f66f86c",
   "metadata": {},
   "outputs": [
    {
     "data": {
      "text/plain": [
       "8"
      ]
     },
     "execution_count": 13,
     "metadata": {},
     "output_type": "execute_result"
    }
   ],
   "source": [
    "pow(2,3)"
   ]
  },
  {
   "cell_type": "markdown",
   "id": "1b7856fe",
   "metadata": {},
   "source": [
    "pass 3 as the base followed by 2 as the exponent - 3**2 - pow(3,2)"
   ]
  },
  {
   "cell_type": "code",
   "execution_count": 14,
   "id": "8496de07",
   "metadata": {},
   "outputs": [
    {
     "data": {
      "text/plain": [
       "9"
      ]
     },
     "execution_count": 14,
     "metadata": {},
     "output_type": "execute_result"
    }
   ],
   "source": [
    "pow(3,2)"
   ]
  },
  {
   "cell_type": "markdown",
   "id": "317c33a4",
   "metadata": {},
   "source": [
    "* min() function returns the minimum of two or more values"
   ]
  },
  {
   "cell_type": "markdown",
   "id": "008c496d",
   "metadata": {},
   "source": [
    "Pass the values as -5, 10, 30 to the minimuum function <br/>\n",
    "and check the output - min(-5,10.30) <br/>"
   ]
  },
  {
   "cell_type": "code",
   "execution_count": 12,
   "id": "31accd63",
   "metadata": {
    "scrolled": true
   },
   "outputs": [
    {
     "data": {
      "text/plain": [
       "-5"
      ]
     },
     "execution_count": 12,
     "metadata": {},
     "output_type": "execute_result"
    }
   ],
   "source": [
    "min(-5,10,30)"
   ]
  },
  {
   "cell_type": "markdown",
   "id": "33ba67b2",
   "metadata": {},
   "source": [
    "Pass the value as 1,2,3 to the minimum function and <br/>\n",
    "check the output - min(1,2,3) <br/>"
   ]
  },
  {
   "cell_type": "code",
   "execution_count": 13,
   "id": "e2c7d820",
   "metadata": {
    "scrolled": true
   },
   "outputs": [
    {
     "data": {
      "text/plain": [
       "1"
      ]
     },
     "execution_count": 13,
     "metadata": {},
     "output_type": "execute_result"
    }
   ],
   "source": [
    "min(1,2,3)"
   ]
  },
  {
   "cell_type": "markdown",
   "id": "428157fb",
   "metadata": {},
   "source": [
    "If we pass only one value in the minimum function - then we get an error<br/>"
   ]
  },
  {
   "cell_type": "code",
   "execution_count": 14,
   "id": "583c3780",
   "metadata": {},
   "outputs": [
    {
     "ename": "TypeError",
     "evalue": "'int' object is not iterable",
     "output_type": "error",
     "traceback": [
      "\u001b[1;31m---------------------------------------------------------------------------\u001b[0m",
      "\u001b[1;31mTypeError\u001b[0m                                 Traceback (most recent call last)",
      "Cell \u001b[1;32mIn[14], line 1\u001b[0m\n\u001b[1;32m----> 1\u001b[0m \u001b[38;5;28;43mmin\u001b[39;49m\u001b[43m(\u001b[49m\u001b[38;5;241;43m1\u001b[39;49m\u001b[43m)\u001b[49m\n",
      "\u001b[1;31mTypeError\u001b[0m: 'int' object is not iterable"
     ]
    }
   ],
   "source": [
    "\n",
    "min(1)"
   ]
  },
  {
   "cell_type": "markdown",
   "id": "245cbd5b",
   "metadata": {},
   "source": [
    "* max() function returns the maximum of two or more values"
   ]
  },
  {
   "cell_type": "markdown",
   "id": "79ee1a3d",
   "metadata": {},
   "source": [
    "Pass the values as -5, 10, 30 to the maximum function <br/>\n",
    "and check the output - max(-5,10.30) <br/>"
   ]
  },
  {
   "cell_type": "code",
   "execution_count": 15,
   "id": "42c344ae",
   "metadata": {},
   "outputs": [
    {
     "data": {
      "text/plain": [
       "30"
      ]
     },
     "execution_count": 15,
     "metadata": {},
     "output_type": "execute_result"
    }
   ],
   "source": [
    "max(-5,10,30) "
   ]
  },
  {
   "cell_type": "markdown",
   "id": "7a31de35",
   "metadata": {},
   "source": [
    "Pass the value as 1,2,3 to the maximum function <br/>\n",
    "and check the output - max(1,2,3) <br/>"
   ]
  },
  {
   "cell_type": "code",
   "execution_count": 16,
   "id": "6542832a",
   "metadata": {
    "scrolled": true
   },
   "outputs": [
    {
     "data": {
      "text/plain": [
       "3"
      ]
     },
     "execution_count": 16,
     "metadata": {},
     "output_type": "execute_result"
    }
   ],
   "source": [
    " max(1,2,3)"
   ]
  },
  {
   "cell_type": "markdown",
   "id": "8e59a7f1",
   "metadata": {},
   "source": [
    "* len() function gives us the length of the given string <br/>\n",
    "- We cannot pass integer or floating point value <br/>"
   ]
  },
  {
   "cell_type": "markdown",
   "id": "eeee3016",
   "metadata": {},
   "source": [
    "Let us pass string values to the len() function to check its length - 'Python' <br/>\n",
    "returns length of 6 <br/>"
   ]
  },
  {
   "cell_type": "code",
   "execution_count": 5,
   "id": "ed538587",
   "metadata": {},
   "outputs": [
    {
     "data": {
      "text/plain": [
       "6"
      ]
     },
     "execution_count": 5,
     "metadata": {},
     "output_type": "execute_result"
    }
   ],
   "source": [
    "len('Python')"
   ]
  },
  {
   "cell_type": "markdown",
   "id": "e5928fe4",
   "metadata": {},
   "source": [
    "Let us pass string value to len() function <br/>\n",
    "to check its length - 'Hello World!' <br/>\n",
    "return the length of 12 <br/>"
   ]
  },
  {
   "cell_type": "code",
   "execution_count": 6,
   "id": "351450ff",
   "metadata": {},
   "outputs": [
    {
     "data": {
      "text/plain": [
       "12"
      ]
     },
     "execution_count": 6,
     "metadata": {},
     "output_type": "execute_result"
    }
   ],
   "source": [
    "len('Hello World!')"
   ]
  },
  {
   "cell_type": "markdown",
   "id": "b3a5c3b3",
   "metadata": {},
   "source": [
    "* repr() function gives back the printable representation of the object"
   ]
  },
  {
   "cell_type": "markdown",
   "id": "6cd9ace0",
   "metadata": {},
   "source": [
    "Pass 'monday' as input to repr. repr('Monday') -- <br/>\n",
    "The resultant output is 'Monday' <br/>"
   ]
  },
  {
   "cell_type": "code",
   "execution_count": 11,
   "id": "48bd2e55",
   "metadata": {},
   "outputs": [
    {
     "data": {
      "text/plain": [
       "\"'Monday'\""
      ]
     },
     "execution_count": 11,
     "metadata": {},
     "output_type": "execute_result"
    }
   ],
   "source": [
    "repr('Monday')"
   ]
  },
  {
   "cell_type": "markdown",
   "id": "66ae2d47",
   "metadata": {},
   "source": [
    "Pass repr('monday') as input to print. print(repr('Monday')) <br/>\n",
    "The resultant output is 'Monday' <br/>"
   ]
  },
  {
   "cell_type": "code",
   "execution_count": 9,
   "id": "a6fba39f",
   "metadata": {},
   "outputs": [
    {
     "name": "stdout",
     "output_type": "stream",
     "text": [
      "'Monday'\n"
     ]
    }
   ],
   "source": [
    "print(repr('Monday'))"
   ]
  },
  {
   "cell_type": "markdown",
   "id": "414e9ecb",
   "metadata": {},
   "source": [
    "#### String Operations\n",
    "*  Text sequences - String \n",
    "*  String are sequences of text. String sequences are immutable."
   ]
  },
  {
   "cell_type": "markdown",
   "id": "aeeac7a2",
   "metadata": {},
   "source": [
    "We import the string module and use ascii_letters on string. <br/>\n",
    "The output is english alphabets in lower case <br/>\n",
    "and upper case. <br/>"
   ]
  },
  {
   "cell_type": "code",
   "execution_count": 16,
   "id": "4947b033",
   "metadata": {},
   "outputs": [
    {
     "data": {
      "text/plain": [
       "'abcdefghijklmnopqrstuvwxyzABCDEFGHIJKLMNOPQRSTUVWXYZ'"
      ]
     },
     "execution_count": 16,
     "metadata": {},
     "output_type": "execute_result"
    }
   ],
   "source": [
    "import string\n",
    "string.ascii_letters"
   ]
  },
  {
   "cell_type": "markdown",
   "id": "1e958b7f",
   "metadata": {},
   "source": [
    "The ascii_lowercase shall return <br/>\n",
    "the lower case letters on string. <br/>\n",
    "The output is english alphabets in lower case <br/>"
   ]
  },
  {
   "cell_type": "code",
   "execution_count": 17,
   "id": "52a7c314",
   "metadata": {},
   "outputs": [
    {
     "data": {
      "text/plain": [
       "'abcdefghijklmnopqrstuvwxyz'"
      ]
     },
     "execution_count": 17,
     "metadata": {},
     "output_type": "execute_result"
    }
   ],
   "source": [
    "\n",
    "string.ascii_lowercase"
   ]
  },
  {
   "cell_type": "markdown",
   "id": "7d74d40f",
   "metadata": {},
   "source": [
    "the ascii_upppercase shall <br/>\n",
    "return the upper case letters as string. <br/>\n",
    "The output is english alphabets in upper case <br/>"
   ]
  },
  {
   "cell_type": "code",
   "execution_count": 18,
   "id": "f0cb2e2e",
   "metadata": {},
   "outputs": [
    {
     "data": {
      "text/plain": [
       "'ABCDEFGHIJKLMNOPQRSTUVWXYZ'"
      ]
     },
     "execution_count": 18,
     "metadata": {},
     "output_type": "execute_result"
    }
   ],
   "source": [
    "string.ascii_uppercase"
   ]
  },
  {
   "cell_type": "markdown",
   "id": "75846ac2",
   "metadata": {},
   "source": [
    "The digits shall return the digits as string. <br/>\n",
    "The ouput is '0123456789' <br/>"
   ]
  },
  {
   "cell_type": "code",
   "execution_count": 19,
   "id": "4818104c",
   "metadata": {},
   "outputs": [
    {
     "data": {
      "text/plain": [
       "'0123456789'"
      ]
     },
     "execution_count": 19,
     "metadata": {},
     "output_type": "execute_result"
    }
   ],
   "source": [
    "\n",
    "string.digits"
   ]
  },
  {
   "cell_type": "markdown",
   "id": "53c98f06",
   "metadata": {},
   "source": [
    "The digits shall return hexadecimal digits as string. <br/>\n",
    "The output is '0123456789abcdefABCDEF' <br/>"
   ]
  },
  {
   "cell_type": "code",
   "execution_count": 20,
   "id": "90d00b8d",
   "metadata": {},
   "outputs": [
    {
     "data": {
      "text/plain": [
       "'0123456789abcdefABCDEF'"
      ]
     },
     "execution_count": 20,
     "metadata": {},
     "output_type": "execute_result"
    }
   ],
   "source": [
    "string.hexdigits"
   ]
  },
  {
   "cell_type": "markdown",
   "id": "5871ee80",
   "metadata": {},
   "source": [
    "The digits shall return octal digits as string. <br/>\n",
    "The output is '01234567' <br/>"
   ]
  },
  {
   "cell_type": "code",
   "execution_count": 21,
   "id": "dc99674b",
   "metadata": {},
   "outputs": [
    {
     "data": {
      "text/plain": [
       "'01234567'"
      ]
     },
     "execution_count": 21,
     "metadata": {},
     "output_type": "execute_result"
    }
   ],
   "source": [
    "string.octdigits"
   ]
  },
  {
   "cell_type": "markdown",
   "id": "70d24d91",
   "metadata": {},
   "source": [
    "The digits shall return punctutation marks as string. <br/>\n",
    "The output is '!\"#$%&\\'()*+,-./:;<=>?@[\\\\]^_`{|}~' <br/>"
   ]
  },
  {
   "cell_type": "code",
   "execution_count": 22,
   "id": "a526232d",
   "metadata": {
    "scrolled": true
   },
   "outputs": [
    {
     "data": {
      "text/plain": [
       "'!\"#$%&\\'()*+,-./:;<=>?@[\\\\]^_`{|}~'"
      ]
     },
     "execution_count": 22,
     "metadata": {},
     "output_type": "execute_result"
    }
   ],
   "source": [
    "string.punctuation"
   ]
  },
  {
   "cell_type": "markdown",
   "id": "e1e276ae",
   "metadata": {},
   "source": [
    "* The Stirng value can be stored in\n",
    "   three ways\n",
    "    * In single quotes\n",
    "    * In double quotes\n",
    "    * In triple quotes"
   ]
  },
  {
   "cell_type": "markdown",
   "id": "87c43c92",
   "metadata": {},
   "source": [
    "Textutal data can be put in single quotes. <br/>\n",
    "for example text_s_quote = 'Tuticorn has two words tuti and corn'"
   ]
  },
  {
   "cell_type": "code",
   "execution_count": 2,
   "id": "89697a1a",
   "metadata": {},
   "outputs": [
    {
     "data": {
      "text/plain": [
       "'Tuticorn has two words tuti and corn'"
      ]
     },
     "execution_count": 2,
     "metadata": {},
     "output_type": "execute_result"
    }
   ],
   "source": [
    "text_s_quote = 'Tuticorn has two words tuti and corn'\n",
    "text_s_quote"
   ]
  },
  {
   "cell_type": "markdown",
   "id": "d6c86058",
   "metadata": {},
   "source": [
    "Textual data can be put in double quotes. <br/>\n",
    "For Example text_d_Quote = \"Tuticorn has two words tuti and corn\" <br/>"
   ]
  },
  {
   "cell_type": "code",
   "execution_count": 4,
   "id": "fd1f7ae5",
   "metadata": {},
   "outputs": [
    {
     "data": {
      "text/plain": [
       "'Tuticorn has two words tuti and corn'"
      ]
     },
     "execution_count": 4,
     "metadata": {},
     "output_type": "execute_result"
    }
   ],
   "source": [
    "text_d_Quote = \"Tuticorn has two words tuti and corn\"\n",
    "text_d_Quote"
   ]
  },
  {
   "cell_type": "markdown",
   "id": "d8e80168",
   "metadata": {},
   "source": [
    "Textual data can be put in triple quotes. <br/>\n",
    "It can be multiple line also. <br/>\n",
    "For exampe text_tr_Quote = \"\"\" Tuticorn has two words tuti and corn \"\"\" <br/>"
   ]
  },
  {
   "cell_type": "code",
   "execution_count": 9,
   "id": "64565c53",
   "metadata": {},
   "outputs": [
    {
     "data": {
      "text/plain": [
       "'\\nTuticorn has\\ntwo words  - tuti\\nand corn\\n'"
      ]
     },
     "execution_count": 9,
     "metadata": {},
     "output_type": "execute_result"
    }
   ],
   "source": [
    "text_tr_Quote = \"\"\"\n",
    "Tuticorn has\n",
    "two words  - tuti\n",
    "and corn\n",
    "\"\"\"\n",
    "text_tr_Quote"
   ]
  },
  {
   "cell_type": "markdown",
   "id": "37d327b2",
   "metadata": {},
   "source": [
    "* Accessing the string values based on indices - [:]\n",
    "index start from zero \n",
    "\n",
    "\n",
    "|P|R|B|H|A|S|\n",
    "------------------\n",
    "=================\n",
    "|0|1 |2 |3 |4|5|\n",
    "------------------"
   ]
  },
  {
   "cell_type": "code",
   "execution_count": 10,
   "id": "c1880719",
   "metadata": {},
   "outputs": [
    {
     "data": {
      "text/plain": [
       "'Tutic'"
      ]
     },
     "execution_count": 10,
     "metadata": {},
     "output_type": "execute_result"
    }
   ],
   "source": [
    "###\"\"\"|T|u|t|i|c|o|r|n| |h|a |s |  | t| w| o|  | w| o |r |d |s |22 | t| u| t| i | | a | n| d|  |c|o|r|n|\"\"\"\n",
    "###\"\"\"|0|1|2|3|4|5|6|7|8|9|10|11|12|13|14|15|16|17|18|19|20|21|22 |23|24|25| 26|27|28|29| 30|31| \"\"\n",
    "### String values can be accessed using index operators. \n",
    "### text_data = \"Tuticorn has two words tuti and corn\"\n",
    "### text_data[0:5]\n",
    "text_data = \"Tuticorn has two words tuti and corn\"\n",
    "text_data[0:5]"
   ]
  },
  {
   "cell_type": "markdown",
   "id": "30aa8365",
   "metadata": {},
   "source": [
    "If string value are provided as [start:] where start=0 or [:] , \n",
    "then entire string will be provided\n",
    "\"\"\"|T|u|t|i|c|o|r|n| |h|a |s |  | t| w| o|  | w| o |r |d |s |22 | t| u| t| i | | a | n| d|  |c|o|r|n|\"\"\"\n",
    "\"\"\"|0|1|2|3|4|5|6|7|8|9|10|11|12|13|14|15|16|17|18|19|20|21|22 |23|24|25| 26|27|28|29| 30|31| \"\""
   ]
  },
  {
   "cell_type": "code",
   "execution_count": 15,
   "id": "4b5c85c9",
   "metadata": {},
   "outputs": [
    {
     "data": {
      "text/plain": [
       "'Tuticorn has two words tuti and corn'"
      ]
     },
     "execution_count": 15,
     "metadata": {},
     "output_type": "execute_result"
    }
   ],
   "source": [
    "text_data = \"Tuticorn has two words tuti and corn\"\n",
    "text_data[0:]"
   ]
  },
  {
   "cell_type": "markdown",
   "id": "c9b02aff",
   "metadata": {},
   "source": [
    "If string values are provided as [start:end] where start is some number and <br/>\n",
    "end is some number less than length of the string. <br/>\n",
    "Then it slices only that many end-start+1 <br/>\n",
    "\"\"\"|T|u|t|i|c|o|r|n| |h|a |s |  | t| w| o|  | w| o |r |d |s |22 | t| u| t| i | | a | n| d|  |c|o|r|n|\"\"\" <br/>\n",
    "\"\"\"|0|1|2|3|4|5|6|7|8|9|10|11|12|13|14|15|16|17|18|19|20|21|22 |23|24|25| 26|27|28|29| 30|31| \"\" <br/>\n",
    "\n",
    "start = 3\n",
    "end = 15\n",
    "text_data[start:end]"
   ]
  },
  {
   "cell_type": "markdown",
   "id": "1f87aac1",
   "metadata": {},
   "source": [
    "* String methods\n",
    "    * capitalize()\n",
    "    * count()\n",
    "    * endswith\n",
    "    "
   ]
  },
  {
   "cell_type": "markdown",
   "id": "85e1cb4b",
   "metadata": {},
   "source": [
    "* captilize() - This method on string returns a copy by making the first character of <br/>\n",
    "the string in uppercase and the reset lowercased <br/>"
   ]
  },
  {
   "cell_type": "code",
   "execution_count": 18,
   "id": "dfe94020",
   "metadata": {},
   "outputs": [
    {
     "data": {
      "text/plain": [
       "'Tuticorn'"
      ]
     },
     "execution_count": 18,
     "metadata": {},
     "output_type": "execute_result"
    }
   ],
   "source": [
    "### \"tuticorn\".capitalize() shall return the output as Tuticorn\n",
    "\"tuticorn\".capitalize()"
   ]
  },
  {
   "cell_type": "markdown",
   "id": "db039eb3",
   "metadata": {},
   "source": [
    "* count() - This method counts the number of times a given sub-string occurs in a given string"
   ]
  },
  {
   "cell_type": "code",
   "execution_count": 19,
   "id": "7c970cf0",
   "metadata": {},
   "outputs": [
    {
     "data": {
      "text/plain": [
       "2"
      ]
     },
     "execution_count": 19,
     "metadata": {},
     "output_type": "execute_result"
    }
   ],
   "source": [
    "### \"Tuticorn has two words tuti and corn\".count('corn') \n",
    "## counts the number of time corn has appeared\n",
    "\"Tuticorn has two words tuti and corn\".count('corn')"
   ]
  },
  {
   "cell_type": "markdown",
   "id": "b9bc300a",
   "metadata": {},
   "source": [
    "* center() - Centres the string with the necessary padding at the ends"
   ]
  },
  {
   "cell_type": "code",
   "execution_count": 30,
   "id": "e29e2069",
   "metadata": {},
   "outputs": [
    {
     "name": "stdout",
     "output_type": "stream",
     "text": [
      "  tuticorn  \n"
     ]
    },
    {
     "data": {
      "text/plain": [
       "'==tuticorn=='"
      ]
     },
     "execution_count": 30,
     "metadata": {},
     "output_type": "execute_result"
    }
   ],
   "source": [
    "### \"Tuticorn\" centers the string with the necessary padding at the ends. \n",
    "print(\"tuticorn\".center(12))\n",
    "\"tuticorn\".center(12,\"=\")"
   ]
  },
  {
   "cell_type": "markdown",
   "id": "c7c803cb",
   "metadata": {},
   "source": [
    "* endswith() returns true if the string is available as suffix at the end."
   ]
  },
  {
   "cell_type": "code",
   "execution_count": 33,
   "id": "e19bdcc2",
   "metadata": {},
   "outputs": [
    {
     "data": {
      "text/plain": [
       "True"
      ]
     },
     "execution_count": 33,
     "metadata": {},
     "output_type": "execute_result"
    }
   ],
   "source": [
    "### \"Tuticorn has two words tuti and corn\".endswith(\"corn\") shall return True\n",
    "\"Tuticorn has two words tuti and corn\".endswith(\"corn\")"
   ]
  },
  {
   "cell_type": "markdown",
   "id": "eff72ae8",
   "metadata": {},
   "source": [
    "* in operator can also be used to check if a sub-string is availble in String"
   ]
  },
  {
   "cell_type": "code",
   "execution_count": 37,
   "id": "2698fe1d",
   "metadata": {},
   "outputs": [
    {
     "data": {
      "text/plain": [
       "True"
      ]
     },
     "execution_count": 37,
     "metadata": {},
     "output_type": "execute_result"
    }
   ],
   "source": [
    "### \"corn\" in \"Tuticorn has two words tuti and corn\" returns True\n",
    "\"corn\" in \"Tuticorn has two words tuti and corn\""
   ]
  },
  {
   "cell_type": "code",
   "execution_count": 39,
   "id": "f7adf985",
   "metadata": {},
   "outputs": [
    {
     "data": {
      "text/plain": [
       "False"
      ]
     },
     "execution_count": 39,
     "metadata": {},
     "output_type": "execute_result"
    }
   ],
   "source": [
    "### \"corns\" in \"Tuticorn has two words tuti and corn\" returns False\n",
    "\"corns\" in \"Tuticorn has two words tuti and corn\""
   ]
  },
  {
   "cell_type": "markdown",
   "id": "aa79e9a8",
   "metadata": {},
   "source": [
    "* format on string can be used for formatting the string. The string on which this method is called can contain literal text or replacement fields delimited by braces {}"
   ]
  },
  {
   "cell_type": "code",
   "execution_count": 45,
   "id": "81b57a2a",
   "metadata": {},
   "outputs": [
    {
     "data": {
      "text/plain": [
       "'corn can be good during a movie'"
      ]
     },
     "execution_count": 45,
     "metadata": {},
     "output_type": "execute_result"
    }
   ],
   "source": [
    "### Passing the value without any index\n",
    "### \"corn can be good during a {}\".format(\"movie\") \n",
    "### {} is replaced with movie\n",
    "\"corn can be good during a {}\".format(\"movie\")"
   ]
  },
  {
   "cell_type": "code",
   "execution_count": 46,
   "id": "42023ecc",
   "metadata": {},
   "outputs": [
    {
     "data": {
      "text/plain": [
       "'value of two numbers 4 and 5 is 9 '"
      ]
     },
     "execution_count": 46,
     "metadata": {},
     "output_type": "execute_result"
    }
   ],
   "source": [
    "#### Index can be also be used to replace the positional \n",
    "#### argument with the string value\n",
    "#### \"value of two numbers {0} and {1} is {2} \".format(4,5,9)\n",
    "\"value of two numbers {0} and {1} is {2} \".format(4,5,9)"
   ]
  },
  {
   "cell_type": "markdown",
   "id": "cfe8fafc",
   "metadata": {},
   "source": [
    "* find() - find function finds the index of the substring in the string </br>\n",
    "          If the substring is not found -1 will be returned"
   ]
  },
  {
   "cell_type": "code",
   "execution_count": 50,
   "id": "e8b9f020",
   "metadata": {},
   "outputs": [
    {
     "name": "stdout",
     "output_type": "stream",
     "text": [
      "4\n",
      "-1\n"
     ]
    }
   ],
   "source": [
    "#### corn function finds it at the index \n",
    "## print()\"Tuticorn has two words tuti and corn\".find(\"corn\")) at 4\n",
    "print(\"Tuticorn has two words tuti and corn\".find(\"corn\"))\n",
    "print(\"Tuticorn has two words tuti and corn\".find(\"has\",15,36))"
   ]
  },
  {
   "cell_type": "markdown",
   "id": "c69d1a62",
   "metadata": {},
   "source": [
    "* isalpha() - Returns True if all characters in the string are e string are alphabetic and there is at least one character, False otherwise"
   ]
  },
  {
   "cell_type": "code",
   "execution_count": 54,
   "id": "b1f565c2",
   "metadata": {},
   "outputs": [
    {
     "name": "stdout",
     "output_type": "stream",
     "text": [
      "False\n",
      "True\n"
     ]
    }
   ],
   "source": [
    "#### \"234\".isalpha() returns True, \"helloworld\".isalpha() returns True\n",
    "print(\"234\".isalpha())\n",
    "print(\"helloworld\".isalpha())"
   ]
  },
  {
   "cell_type": "markdown",
   "id": "08438640",
   "metadata": {},
   "source": [
    "* isdecimal() returns True , if the value is decimal (0-9) else it returns false. "
   ]
  },
  {
   "cell_type": "code",
   "execution_count": 63,
   "id": "4ece2d1b",
   "metadata": {},
   "outputs": [
    {
     "name": "stdout",
     "output_type": "stream",
     "text": [
      "False\n",
      "True\n",
      "False\n"
     ]
    }
   ],
   "source": [
    "#### \"10.23\".isdecimal() returns False \"234\".isdecimal() \n",
    "####  returns False,\"\\u00B3\".isdecimal() returns False\n",
    "print(\"10.23\".isdecimal())\n",
    "print(\"234\".isdecimal())\n",
    "print(\"\\u00B3\".isdecimal())"
   ]
  },
  {
   "cell_type": "markdown",
   "id": "9526b611",
   "metadata": {},
   "source": [
    "* isdigit() returns true if all charaters are digits and atleast one character. Else it returns False.\n",
    "  Unicode representations are also considered as digits"
   ]
  },
  {
   "cell_type": "code",
   "execution_count": 60,
   "id": "b1abfecd",
   "metadata": {},
   "outputs": [
    {
     "name": "stdout",
     "output_type": "stream",
     "text": [
      "True\n",
      "False\n",
      "True\n"
     ]
    }
   ],
   "source": [
    "#### \"121\".isdigit() returns True, \"A123\".isdigit() \n",
    "###  returns False, \"\\u00B3\".isdigit() returns True\n",
    "print(\"121\".isdigit())\n",
    "print(\"A123\".isdigit())\n",
    "print(\"\\u00B3\".isdigit())"
   ]
  },
  {
   "cell_type": "markdown",
   "id": "d5cce6e3",
   "metadata": {},
   "source": [
    "* islower() returns true if the case of the all characters is lowercase. Else False otherwise"
   ]
  },
  {
   "cell_type": "code",
   "execution_count": 62,
   "id": "c6b90781",
   "metadata": {},
   "outputs": [
    {
     "name": "stdout",
     "output_type": "stream",
     "text": [
      "True\n",
      "False\n"
     ]
    }
   ],
   "source": [
    "### \"tuticorn has two words tuti and corn\".islower() returns True. \n",
    "###  \"TUTICORN has two words tuti and corn\".islower()\n",
    "print(\"tuticorn has two words tuti and corn\".islower())\n",
    "print(\"TUTICORN has two words tuti and corn\".islower())"
   ]
  },
  {
   "cell_type": "markdown",
   "id": "b93faea2",
   "metadata": {},
   "source": [
    "* isupper() returns True if the case of all the characters is uppercase. Else Fale otherwise"
   ]
  },
  {
   "cell_type": "code",
   "execution_count": 77,
   "id": "9876a59d",
   "metadata": {},
   "outputs": [
    {
     "name": "stdout",
     "output_type": "stream",
     "text": [
      "True\n",
      "False\n"
     ]
    }
   ],
   "source": [
    "### \"TUTICORN HAS TWO WORDS TUTI AND CORN\".isupper() returns True. \n",
    "### \"TUTICORN has two words tuti and corn\".isupper() returns False\n",
    "print(\"TUTICORN HAS TWO WORDS TUTI AND CORN\".isupper())\n",
    "print(\"TUTICORN has two words tuti and corn\".isupper())"
   ]
  },
  {
   "cell_type": "markdown",
   "id": "8bbacced",
   "metadata": {},
   "source": [
    "* strip() function returns the copy of the string with the leading characters removed."
   ]
  },
  {
   "cell_type": "code",
   "execution_count": 78,
   "id": "9c278c60",
   "metadata": {},
   "outputs": [
    {
     "name": "stdout",
     "output_type": "stream",
     "text": [
      "TUTICORN\n"
     ]
    }
   ],
   "source": [
    "#### strip() function removes the spaces around the string. \n",
    "#### \" TUTICORN \".strip() removes the spaces and return \"TUTICORN\"\n",
    "print(\" TUTICORN \".strip())"
   ]
  },
  {
   "cell_type": "markdown",
   "id": "b48af6c2",
   "metadata": {},
   "source": [
    "* title() function returns the string with the first letter in each word is capitalized."
   ]
  },
  {
   "cell_type": "code",
   "execution_count": 81,
   "id": "df2b6249",
   "metadata": {},
   "outputs": [
    {
     "name": "stdout",
     "output_type": "stream",
     "text": [
      "Tuti Corn\n"
     ]
    }
   ],
   "source": [
    "### title() function returns the capitalized word. \n",
    "### \"tuti corn\".title() returns Tuti Corn\n",
    "print(\"tuti corn\".title())"
   ]
  },
  {
   "cell_type": "markdown",
   "id": "54f036cf",
   "metadata": {},
   "source": [
    "#### Capturing Input from Command line using the input() function"
   ]
  },
  {
   "cell_type": "code",
   "execution_count": 92,
   "id": "8584cba5",
   "metadata": {},
   "outputs": [
    {
     "name": "stdout",
     "output_type": "stream",
     "text": [
      "My name is Jayant\n"
     ]
    }
   ],
   "source": [
    "### Pass name as input to capture the input from the command line\n",
    "print(f'My name is', end=' ')\n",
    "name = input()"
   ]
  },
  {
   "cell_type": "code",
   "execution_count": 93,
   "id": "bde3a636",
   "metadata": {},
   "outputs": [
    {
     "name": "stdout",
     "output_type": "stream",
     "text": [
      "Age is 5\n",
      "<class 'str'>\n"
     ]
    }
   ],
   "source": [
    "### pass age as input to capture the input from the command line\n",
    "print('Age is',end=' ')\n",
    "age = input()\n",
    "print(type(age))"
   ]
  },
  {
   "cell_type": "code",
   "execution_count": 95,
   "id": "041671f7",
   "metadata": {},
   "outputs": [
    {
     "name": "stdout",
     "output_type": "stream",
     "text": [
      "Price is 20.0\n",
      "<class 'float'>\n"
     ]
    }
   ],
   "source": [
    "###  pass price value as input to capture the input from the command line\n",
    "print('Price is' , end=' ')\n",
    "price = input()\n",
    "price = float(price)\n",
    "print(type(price))"
   ]
  },
  {
   "cell_type": "code",
   "execution_count": 96,
   "id": "9ac42f68",
   "metadata": {},
   "outputs": [],
   "source": [
    "### Exercise - Capture three inputs from \n",
    "### the command line - name, addres and mobile and display the\n",
    "### details to the screen."
   ]
  },
  {
   "cell_type": "code",
   "execution_count": 99,
   "id": "55a611dd",
   "metadata": {},
   "outputs": [
    {
     "name": "stdout",
     "output_type": "stream",
     "text": [
      "Enter your namejayant\n",
      "Enter your addressIndia\n",
      "Enter your mobile number9776975664\n",
      "name of the person is jayant, address is India, Mobile numer is 9776975664\n"
     ]
    }
   ],
   "source": [
    "name = input('Enter your name ')\n",
    "address = input('Enter your address ')\n",
    "mobile = input('Enter your mobile number')\n",
    "print(\"name of the person is {}, address is {}, Mobile numer is {}\".format(name,address,mobile))"
   ]
  },
  {
   "cell_type": "markdown",
   "id": "17051efb",
   "metadata": {},
   "source": [
    "#### Operators and Operands in python\n",
    "  * Arthimetic Operators\n",
    "  * Comprision Operators\n",
    "  * Boolean Operators\n",
    "  * Bitwise Operators\n",
    "  * Identity Operators\n",
    "  * Membership Operators"
   ]
  },
  {
   "cell_type": "markdown",
   "id": "95028d4f",
   "metadata": {},
   "source": [
    "* Arthimetic Operators\n",
    "    * Addition\n",
    "    * Subtraction\n",
    "    * Multiplication\n",
    "    * Division\n",
    "    * Modulo\n",
    "    * exponentional"
   ]
  },
  {
   "cell_type": "markdown",
   "id": "fd8eb0b1",
   "metadata": {},
   "source": [
    "* Addition - Adds two numbers ('+')"
   ]
  },
  {
   "cell_type": "code",
   "execution_count": 102,
   "id": "f46cf6cc",
   "metadata": {},
   "outputs": [
    {
     "name": "stdout",
     "output_type": "stream",
     "text": [
      "23\n"
     ]
    }
   ],
   "source": [
    "### Add two number using '+' \n",
    "x = 10\n",
    "y = 13\n",
    "print(x+y)"
   ]
  },
  {
   "cell_type": "markdown",
   "id": "3cbb799b",
   "metadata": {},
   "source": [
    "* Subtraction - Subtract two numbers ('-')\n"
   ]
  },
  {
   "cell_type": "code",
   "execution_count": 103,
   "id": "8b78a3e6",
   "metadata": {},
   "outputs": [
    {
     "name": "stdout",
     "output_type": "stream",
     "text": [
      "3\n"
     ]
    }
   ],
   "source": [
    "#### Subtract two number using '-'\n",
    "x = 13\n",
    "y = 10\n",
    "print(x-y)"
   ]
  },
  {
   "cell_type": "markdown",
   "id": "09d44af8",
   "metadata": {},
   "source": [
    "* Multiplication - multiply two numbers ('*')"
   ]
  },
  {
   "cell_type": "code",
   "execution_count": 104,
   "id": "4c995aaf",
   "metadata": {},
   "outputs": [
    {
     "name": "stdout",
     "output_type": "stream",
     "text": [
      "50\n"
     ]
    }
   ],
   "source": [
    "#### Multiply two numbers using '*'\n",
    "x = 10\n",
    "y = 5\n",
    "print(x*y)"
   ]
  },
  {
   "cell_type": "markdown",
   "id": "0844ccac",
   "metadata": {},
   "source": [
    "* Division - Division of two number ('/') or ('//')"
   ]
  },
  {
   "cell_type": "code",
   "execution_count": 105,
   "id": "38a8541a",
   "metadata": {},
   "outputs": [
    {
     "name": "stdout",
     "output_type": "stream",
     "text": [
      "1.5\n",
      "1\n"
     ]
    }
   ],
   "source": [
    "#### Divide two numbers using '/'\n",
    "x = 15\n",
    "y = 10\n",
    "print(x/y)\n",
    "print(x//y)"
   ]
  },
  {
   "cell_type": "markdown",
   "id": "87ba3418",
   "metadata": {},
   "source": [
    "* Modulo - Modulo of two numbers (%)"
   ]
  },
  {
   "cell_type": "code",
   "execution_count": 106,
   "id": "3f961b4d",
   "metadata": {},
   "outputs": [
    {
     "name": "stdout",
     "output_type": "stream",
     "text": [
      "0\n"
     ]
    }
   ],
   "source": [
    "#### Find the remainder of two numbers using %\n",
    "x = 20\n",
    "y = 10\n",
    "print(x%y)"
   ]
  },
  {
   "cell_type": "code",
   "execution_count": 107,
   "id": "c5b57541",
   "metadata": {},
   "outputs": [
    {
     "name": "stdout",
     "output_type": "stream",
     "text": [
      "2\n"
     ]
    }
   ],
   "source": [
    "#### Find the remainder of two numbers using %\n",
    "x = 30\n",
    "y = 4\n",
    "print(x%y)"
   ]
  },
  {
   "cell_type": "markdown",
   "id": "7f0c6c38",
   "metadata": {},
   "source": [
    "* Exponential - exponent of two numbers (**)"
   ]
  },
  {
   "cell_type": "code",
   "execution_count": 109,
   "id": "450816ca",
   "metadata": {},
   "outputs": [
    {
     "name": "stdout",
     "output_type": "stream",
     "text": [
      "8\n"
     ]
    }
   ],
   "source": [
    "#### Find the exponent of a number - Base and exponent\n",
    "x = 2\n",
    "y = 3\n",
    "print(2**3)"
   ]
  },
  {
   "cell_type": "markdown",
   "id": "ad869d45",
   "metadata": {},
   "source": [
    "* Comprision Operators\n",
    "    * Less than(<)\n",
    "    * greater than (>)\n",
    "    * less than or equal to (<=)\n",
    "    * equal to (==)\n",
    "    * greater than or equal to (>=)\n",
    "    * Not equal to (!=)"
   ]
  },
  {
   "cell_type": "code",
   "execution_count": 110,
   "id": "9e9bf6b6",
   "metadata": {},
   "outputs": [
    {
     "data": {
      "text/plain": [
       "False"
      ]
     },
     "execution_count": 110,
     "metadata": {},
     "output_type": "execute_result"
    }
   ],
   "source": [
    "5 < 3"
   ]
  },
  {
   "cell_type": "code",
   "execution_count": 111,
   "id": "b407a427",
   "metadata": {},
   "outputs": [
    {
     "data": {
      "text/plain": [
       "True"
      ]
     },
     "execution_count": 111,
     "metadata": {},
     "output_type": "execute_result"
    }
   ],
   "source": [
    "9 > 4"
   ]
  },
  {
   "cell_type": "code",
   "execution_count": 112,
   "id": "fc01d3fb",
   "metadata": {},
   "outputs": [
    {
     "data": {
      "text/plain": [
       "True"
      ]
     },
     "execution_count": 112,
     "metadata": {},
     "output_type": "execute_result"
    }
   ],
   "source": [
    "10 >= 10"
   ]
  },
  {
   "cell_type": "code",
   "execution_count": 113,
   "id": "9a62bd0b",
   "metadata": {},
   "outputs": [
    {
     "data": {
      "text/plain": [
       "False"
      ]
     },
     "execution_count": 113,
     "metadata": {},
     "output_type": "execute_result"
    }
   ],
   "source": [
    "11 >= 15"
   ]
  },
  {
   "cell_type": "code",
   "execution_count": 114,
   "id": "14fd63bf",
   "metadata": {},
   "outputs": [
    {
     "data": {
      "text/plain": [
       "True"
      ]
     },
     "execution_count": 114,
     "metadata": {},
     "output_type": "execute_result"
    }
   ],
   "source": [
    "13 <= 14"
   ]
  },
  {
   "cell_type": "code",
   "execution_count": 115,
   "id": "fbe75290",
   "metadata": {},
   "outputs": [
    {
     "data": {
      "text/plain": [
       "False"
      ]
     },
     "execution_count": 115,
     "metadata": {},
     "output_type": "execute_result"
    }
   ],
   "source": [
    "12 == 14"
   ]
  },
  {
   "cell_type": "code",
   "execution_count": 116,
   "id": "2d0da06e",
   "metadata": {},
   "outputs": [
    {
     "data": {
      "text/plain": [
       "False"
      ]
     },
     "execution_count": 116,
     "metadata": {},
     "output_type": "execute_result"
    }
   ],
   "source": [
    "15 == 16"
   ]
  },
  {
   "cell_type": "code",
   "execution_count": 117,
   "id": "7dfe93dc",
   "metadata": {},
   "outputs": [
    {
     "data": {
      "text/plain": [
       "True"
      ]
     },
     "execution_count": 117,
     "metadata": {},
     "output_type": "execute_result"
    }
   ],
   "source": [
    "12 == 12"
   ]
  },
  {
   "cell_type": "code",
   "execution_count": 118,
   "id": "57d9800f",
   "metadata": {},
   "outputs": [
    {
     "data": {
      "text/plain": [
       "True"
      ]
     },
     "execution_count": 118,
     "metadata": {},
     "output_type": "execute_result"
    }
   ],
   "source": [
    "23 != 24"
   ]
  },
  {
   "cell_type": "code",
   "execution_count": 119,
   "id": "bed2c8be",
   "metadata": {},
   "outputs": [
    {
     "data": {
      "text/plain": [
       "False"
      ]
     },
     "execution_count": 119,
     "metadata": {},
     "output_type": "execute_result"
    }
   ],
   "source": [
    "23 != 23"
   ]
  },
  {
   "cell_type": "markdown",
   "id": "94ecfaa7",
   "metadata": {},
   "source": [
    "* Boolean Operators\n",
    "    * and\n",
    "    * or\n",
    "    * not"
   ]
  },
  {
   "cell_type": "code",
   "execution_count": 121,
   "id": "51bb8ae7",
   "metadata": {},
   "outputs": [
    {
     "data": {
      "text/plain": [
       "False"
      ]
     },
     "execution_count": 121,
     "metadata": {},
     "output_type": "execute_result"
    }
   ],
   "source": [
    "### Perform the operation as below for 'and' operator- \n",
    "Check  (x > y) and (y > z) for output\n",
    "x = 5\n",
    "y = 2\n",
    "z = 3\n",
    "(x>y) and (y>z)"
   ]
  },
  {
   "cell_type": "code",
   "execution_count": 122,
   "id": "9f7936e4",
   "metadata": {},
   "outputs": [
    {
     "data": {
      "text/plain": [
       "True"
      ]
     },
     "execution_count": 122,
     "metadata": {},
     "output_type": "execute_result"
    }
   ],
   "source": [
    "#### Perform the operation as below for 'or' operator\n",
    "## - Check  (x > y) or (y > z) for output\n",
    "x > y or z > y"
   ]
  },
  {
   "cell_type": "code",
   "execution_count": 123,
   "id": "14855970",
   "metadata": {},
   "outputs": [
    {
     "name": "stdout",
     "output_type": "stream",
     "text": [
      "True\n"
     ]
    }
   ],
   "source": [
    "#### Perform the operation as below for not operator \n",
    "#### - Check x != y\n",
    "print(x!=y)"
   ]
  },
  {
   "cell_type": "markdown",
   "id": "e0244f1d",
   "metadata": {},
   "source": [
    "* Bitwise Operators"
   ]
  },
  {
   "cell_type": "code",
   "execution_count": 128,
   "id": "702a694c",
   "metadata": {},
   "outputs": [
    {
     "name": "stdout",
     "output_type": "stream",
     "text": [
      "0\n"
     ]
    }
   ],
   "source": [
    "#### Bitwise opearators AND \n",
    "### (0&1 gives 0, 1&0 give 0, 1&1 give 1,0&0 gives 0)\n",
    "print(0&1)"
   ]
  },
  {
   "cell_type": "code",
   "execution_count": 127,
   "id": "f1bf5174",
   "metadata": {},
   "outputs": [
    {
     "name": "stdout",
     "output_type": "stream",
     "text": [
      "0\n"
     ]
    }
   ],
   "source": [
    "print(0&0)"
   ]
  },
  {
   "cell_type": "code",
   "execution_count": 129,
   "id": "0a091f48",
   "metadata": {},
   "outputs": [
    {
     "name": "stdout",
     "output_type": "stream",
     "text": [
      "1\n"
     ]
    }
   ],
   "source": [
    "print(1&1)"
   ]
  },
  {
   "cell_type": "code",
   "execution_count": 130,
   "id": "d3566b02",
   "metadata": {},
   "outputs": [
    {
     "name": "stdout",
     "output_type": "stream",
     "text": [
      "0\n"
     ]
    }
   ],
   "source": [
    "print(1&0)"
   ]
  },
  {
   "cell_type": "markdown",
   "id": "cce4cfbc",
   "metadata": {},
   "source": [
    "###  Python-Lesson 03\n",
    "#### In this notebook, we shall cover the following concepts \n",
    "   - Bitwise operators\n",
    "   - Membership operators\n",
    "   - Identity Operators\n",
    "   - Conditional Statements\n",
    "   - Python Data Structures\n",
    "       - List\n",
    "       - Tuple\n",
    "       - Sets\n",
    "       - Dictionary\n",
    "       - Collections in Python"
   ]
  },
  {
   "cell_type": "markdown",
   "id": "6cf3bedc",
   "metadata": {},
   "source": [
    "* Bitwise Operators\n",
    "* Membership Operators\n",
    "* Identity Operators"
   ]
  },
  {
   "cell_type": "markdown",
   "id": "f332b3d0",
   "metadata": {},
   "source": [
    "<img src=\"truthTable.JPG\">"
   ]
  },
  {
   "cell_type": "markdown",
   "id": "b6fd7050",
   "metadata": {},
   "source": [
    "* Bitwise Operators"
   ]
  },
  {
   "cell_type": "markdown",
   "id": "7d4f3fbe",
   "metadata": {},
   "source": [
    "- Bitwise AND (&) Operator"
   ]
  },
  {
   "cell_type": "code",
   "execution_count": 6,
   "id": "cf85b0cb",
   "metadata": {},
   "outputs": [
    {
     "name": "stdout",
     "output_type": "stream",
     "text": [
      "0b11\n",
      "0b101\n"
     ]
    }
   ],
   "source": [
    "print(bin(3))\n",
    "print(bin(5)) # 011 & 101 --> 1"
   ]
  },
  {
   "cell_type": "code",
   "execution_count": 7,
   "id": "04b482e1",
   "metadata": {},
   "outputs": [
    {
     "data": {
      "text/plain": [
       "1"
      ]
     },
     "execution_count": 7,
     "metadata": {},
     "output_type": "execute_result"
    }
   ],
   "source": [
    "3&5"
   ]
  },
  {
   "cell_type": "markdown",
   "id": "55390f6a",
   "metadata": {},
   "source": [
    "- Bitwise OR (|) Operator"
   ]
  },
  {
   "cell_type": "code",
   "execution_count": null,
   "id": "9c9e4b5d",
   "metadata": {},
   "outputs": [],
   "source": [
    "# 0011 | 0101 -> 0111"
   ]
  },
  {
   "cell_type": "code",
   "execution_count": 9,
   "id": "b6ad32cd",
   "metadata": {
    "scrolled": true
   },
   "outputs": [
    {
     "name": "stdout",
     "output_type": "stream",
     "text": [
      "7\n"
     ]
    }
   ],
   "source": [
    "print(3|5)"
   ]
  },
  {
   "cell_type": "markdown",
   "id": "33eb17fe",
   "metadata": {},
   "source": [
    "* Bitwise XOR (^) Operator"
   ]
  },
  {
   "cell_type": "code",
   "execution_count": 1,
   "id": "48f2a8d3",
   "metadata": {},
   "outputs": [
    {
     "name": "stdout",
     "output_type": "stream",
     "text": [
      "7\n"
     ]
    }
   ],
   "source": [
    "# 1011 ^ 1100 -> 0111 (11^12 -> 7)\n",
    "print(11^12)"
   ]
  },
  {
   "cell_type": "markdown",
   "id": "3a311686",
   "metadata": {},
   "source": [
    "* Bitwise << left shift operator - The left shift operator shifts the left bits operand towards left.\n",
    "- 1100 << 2 means that the two zeros are appended at the right side. 110000 is the output"
   ]
  },
  {
   "cell_type": "code",
   "execution_count": 14,
   "id": "798397e1",
   "metadata": {},
   "outputs": [
    {
     "data": {
      "text/plain": [
       "48"
      ]
     },
     "execution_count": 14,
     "metadata": {},
     "output_type": "execute_result"
    }
   ],
   "source": [
    "### input is 1100 --> 12 << 2 \n",
    "### output is 110000 (48) is the output\n",
    "12 << 2 "
   ]
  },
  {
   "cell_type": "markdown",
   "id": "632ecae0",
   "metadata": {},
   "source": [
    "* Bitwise >> right shift operator - The right shift operator shifts the right side bits. The rigt side bit are removed.\n",
    "- 110011 >> 2 means that the last two bits are removed from the right side. 1100 is the output."
   ]
  },
  {
   "cell_type": "code",
   "execution_count": 21,
   "id": "07206816",
   "metadata": {},
   "outputs": [
    {
     "data": {
      "text/plain": [
       "12"
      ]
     },
     "execution_count": 21,
     "metadata": {},
     "output_type": "execute_result"
    }
   ],
   "source": [
    "### 51 -> in binary is 110011 \n",
    "### and when last two are removed we get 1100 (12) as the output\n",
    "51 >> 2"
   ]
  },
  {
   "cell_type": "markdown",
   "id": "0acc9c44",
   "metadata": {},
   "source": [
    "* Bitwise one's complement operator (~) x -> -(x+1) . This gives the complement of the binary number\n",
    "- ~10 (1010) -> -11 "
   ]
  },
  {
   "cell_type": "code",
   "execution_count": 22,
   "id": "59ff72a6",
   "metadata": {},
   "outputs": [
    {
     "data": {
      "text/plain": [
       "-11"
      ]
     },
     "execution_count": 22,
     "metadata": {},
     "output_type": "execute_result"
    }
   ],
   "source": [
    "~10"
   ]
  },
  {
   "cell_type": "code",
   "execution_count": 24,
   "id": "fc91083f",
   "metadata": {},
   "outputs": [
    {
     "data": {
      "text/plain": [
       "9"
      ]
     },
     "execution_count": 24,
     "metadata": {},
     "output_type": "execute_result"
    }
   ],
   "source": [
    "~-10"
   ]
  },
  {
   "cell_type": "code",
   "execution_count": 26,
   "id": "71e660a7",
   "metadata": {},
   "outputs": [
    {
     "data": {
      "text/plain": [
       "True"
      ]
     },
     "execution_count": 26,
     "metadata": {},
     "output_type": "execute_result"
    }
   ],
   "source": [
    "#### Exercise - check if a number is even using bitwise & operator\n",
    "x = 11\n",
    "x&1 == 1  # odd number "
   ]
  },
  {
   "cell_type": "code",
   "execution_count": 28,
   "id": "ec52eecd",
   "metadata": {},
   "outputs": [
    {
     "data": {
      "text/plain": [
       "True"
      ]
     },
     "execution_count": 28,
     "metadata": {},
     "output_type": "execute_result"
    }
   ],
   "source": [
    "y = 12\n",
    "y&1 == 0 # even number"
   ]
  },
  {
   "cell_type": "markdown",
   "id": "9d78d195",
   "metadata": {},
   "source": [
    "* Membership Operators - in and not in"
   ]
  },
  {
   "cell_type": "code",
   "execution_count": 35,
   "id": "92b9639d",
   "metadata": {},
   "outputs": [
    {
     "data": {
      "text/plain": [
       "True"
      ]
     },
     "execution_count": 35,
     "metadata": {},
     "output_type": "execute_result"
    }
   ],
   "source": [
    "### We can check the if the values are \n",
    "### available or not in the given string for operators\n",
    "## a='hello' in b='hello can i know the time please ?' check a in b\n",
    "a = 'hello'\n",
    "b = 'hello can i know the time please ?'\n",
    "a in b"
   ]
  },
  {
   "cell_type": "code",
   "execution_count": 33,
   "id": "2464e729",
   "metadata": {},
   "outputs": [
    {
     "data": {
      "text/plain": [
       "True"
      ]
     },
     "execution_count": 33,
     "metadata": {},
     "output_type": "execute_result"
    }
   ],
   "source": [
    "###  We can check the if the values \n",
    "###  are available or not in the given string for operators\n",
    "###  a='bell' in b='hello can i know the time please ?' check a not in b\n",
    "a = 'bell'\n",
    "b = 'hello can i know the time please ?'\n",
    "a not in b"
   ]
  },
  {
   "cell_type": "code",
   "execution_count": 34,
   "id": "6427a243",
   "metadata": {},
   "outputs": [
    {
     "data": {
      "text/plain": [
       "False"
      ]
     },
     "execution_count": 34,
     "metadata": {},
     "output_type": "execute_result"
    }
   ],
   "source": [
    "### We can check the if the values are available \n",
    "### or not in the given string for operators\n",
    "## a='bell' in b='hello can i know the time please ?' check a  in b\n",
    "a = 'bell'\n",
    "b = 'hello can i know the time please ?'\n",
    "a in b"
   ]
  },
  {
   "cell_type": "markdown",
   "id": "71dddf13",
   "metadata": {},
   "source": [
    "* Identity Operators - is and is not"
   ]
  },
  {
   "cell_type": "code",
   "execution_count": 36,
   "id": "453cb107",
   "metadata": {},
   "outputs": [
    {
     "data": {
      "text/plain": [
       "True"
      ]
     },
     "execution_count": 36,
     "metadata": {},
     "output_type": "execute_result"
    }
   ],
   "source": [
    "### is or is not operators can be used to \n",
    "### know if certain conditions are met are not\n",
    "a = 21\n",
    "b = 33\n",
    "c = b\n",
    "print(c is b)"
   ]
  },
  {
   "cell_type": "code",
   "execution_count": 37,
   "id": "cecd8ec9",
   "metadata": {},
   "outputs": [
    {
     "name": "stdout",
     "output_type": "stream",
     "text": [
      "False\n"
     ]
    }
   ],
   "source": [
    "print(c is not b)"
   ]
  },
  {
   "cell_type": "markdown",
   "id": "75ec9e74",
   "metadata": {},
   "source": [
    "### Python Conditional Statements\n",
    "if expr: </br>\n",
    "    statement </br>\n",
    "elif expr:    </br>\n",
    "    statement </br>\n",
    "elif expr:    </br>\n",
    "    statement </br>\n",
    "elif expr:    </br>\n",
    "    statement </br>\n",
    ": </br>\n",
    ": </br>\n",
    ": </br>\n",
    "else:         \n",
    "    statement "
   ]
  },
  {
   "cell_type": "code",
   "execution_count": 58,
   "id": "34b8ed87",
   "metadata": {},
   "outputs": [
    {
     "name": "stdout",
     "output_type": "stream",
     "text": [
      "Y is greater\n"
     ]
    }
   ],
   "source": [
    "## Simple condition for two numbers\n",
    "x = 10\n",
    "y = 20\n",
    "if y > x:\n",
    "    print('Y is greater')\n",
    "else:     \n",
    "    print('X is greater')"
   ]
  },
  {
   "cell_type": "code",
   "execution_count": 43,
   "id": "6d5ed1d7",
   "metadata": {},
   "outputs": [
    {
     "name": "stdout",
     "output_type": "stream",
     "text": [
      "Enter name Hari\n",
      "Not in the name\n"
     ]
    }
   ],
   "source": [
    "### Enter a name to Capture input from the command line \n",
    "### and write conditions for it.\n",
    "name = input('Enter name ')\n",
    "if name == 'Jayant' :\n",
    "    print('Please start')\n",
    "elif name == 'Vamshi':\n",
    "    print('Please turn around')\n",
    "elif name == 'Mayank':\n",
    "    print('Please be seated')\n",
    "else:\n",
    "    print('Not in the name')"
   ]
  },
  {
   "cell_type": "code",
   "execution_count": 45,
   "id": "11645491",
   "metadata": {},
   "outputs": [
    {
     "name": "stdout",
     "output_type": "stream",
     "text": [
      "Enter age of participant15\n",
      "You can start coding\n"
     ]
    }
   ],
   "source": [
    "### Writing a if else block of code to capture \n",
    "## the statements such that \n",
    "## we print statements only for age group of 13\n",
    "age = input('Enter age of participant')\n",
    "age = int(age)\n",
    "if age >= 13:\n",
    "    print('You can start coding')\n",
    "else: \n",
    "    print('Please learn basics of scartch')"
   ]
  },
  {
   "cell_type": "markdown",
   "id": "dea30581",
   "metadata": {},
   "source": [
    "**Hacker Rank** Questions"
   ]
  },
  {
   "cell_type": "raw",
   "id": "c2e3f1bb",
   "metadata": {},
   "source": [
    "### Hacker Rank Question \n",
    "Given an integer, perform the following conditional actions:\n",
    "If n is odd, print Weird\n",
    "If n is even and in the inclusive range of 2 to 5, print Not Weird\n",
    "If n is even and in the inclusive range of to 6 to 20, print Weird\n",
    "If n is even and greater than 20 , print Not Weird\n",
    "n >= 1 and n <= 100"
   ]
  },
  {
   "cell_type": "code",
   "execution_count": null,
   "id": "ced85b05",
   "metadata": {},
   "outputs": [],
   "source": [
    "## Summary of above n --> weird ( odd , even and 6 to 20)\n",
    "# Not weird (even and 2to 5 and > 20)\n",
    "n = input('Enter a number 1 to 100 ')\n",
    "n = int(n)\n",
    "if n % 2 != 0 and n <= 20:\n",
    "    print('Weird')\n",
    "elif n%2 == 0 and 2<=n <= 5:\n",
    "    print('Not weird')\n",
    "elif n%2 == 0 and 6<=n<=20:\n",
    "    print('Weird')\n",
    "else:\n",
    "    print('Not weird')"
   ]
  },
  {
   "cell_type": "markdown",
   "id": "f374feb7",
   "metadata": {},
   "source": [
    "### Loops in Python\n",
    "- while loop in python"
   ]
  },
  {
   "cell_type": "code",
   "execution_count": 35,
   "id": "ef88dbae",
   "metadata": {},
   "outputs": [
    {
     "name": "stdout",
     "output_type": "stream",
     "text": [
      "0\n",
      "1\n",
      "2\n",
      "3\n",
      "4\n",
      "5\n",
      "6\n"
     ]
    }
   ],
   "source": [
    "### while loops in python\n",
    "x = 0 \n",
    "while x < 7:\n",
    "    print(x)\n",
    "    x += 1\n",
    "    "
   ]
  },
  {
   "cell_type": "code",
   "execution_count": 36,
   "id": "64e8f8cc",
   "metadata": {},
   "outputs": [
    {
     "name": "stdout",
     "output_type": "stream",
     "text": [
      "5\n",
      "4\n",
      "3\n",
      "2\n",
      "1\n"
     ]
    }
   ],
   "source": [
    "### while loops in python\n",
    "x = 5\n",
    "while x > 0:\n",
    "    print(x)\n",
    "    x -= 1"
   ]
  },
  {
   "cell_type": "markdown",
   "id": "8700f27c",
   "metadata": {},
   "source": [
    "- for loop in python"
   ]
  },
  {
   "cell_type": "markdown",
   "id": "b9cc2547",
   "metadata": {},
   "source": [
    "* Range Object - A Range "
   ]
  },
  {
   "cell_type": "markdown",
   "id": "7fc1084b",
   "metadata": {},
   "source": [
    "If we want to generate numbers from 0 to n - then we can use range() \n",
    "   - Generate numbers using range object\n",
    "   - range()- A range object generates a sequence of numbers starting from 0 to n"
   ]
  },
  {
   "cell_type": "code",
   "execution_count": 41,
   "id": "461716cc",
   "metadata": {},
   "outputs": [
    {
     "name": "stdout",
     "output_type": "stream",
     "text": [
      "0\n",
      "1\n",
      "2\n"
     ]
    }
   ],
   "source": [
    "#for loops in python using range object \n",
    "# - Starting from 0 and ending until 3\n",
    "for i in range(3):\n",
    "    print(i)"
   ]
  },
  {
   "cell_type": "code",
   "execution_count": 42,
   "id": "71afd917",
   "metadata": {},
   "outputs": [
    {
     "name": "stdout",
     "output_type": "stream",
     "text": [
      "2\n",
      "3\n",
      "4\n",
      "5\n",
      "6\n",
      "7\n",
      "8\n",
      "9\n"
     ]
    }
   ],
   "source": [
    "# for loops in python using range object \n",
    "# Starting from a number 2 and ending until 10.\n",
    "for i in range(2,10):\n",
    "    print(i)"
   ]
  },
  {
   "cell_type": "code",
   "execution_count": 43,
   "id": "67ee6602",
   "metadata": {},
   "outputs": [
    {
     "name": "stdout",
     "output_type": "stream",
     "text": [
      "2\n",
      "4\n",
      "6\n",
      "8\n",
      "10\n",
      "12\n"
     ]
    }
   ],
   "source": [
    "# for loops in python using range object \n",
    "# Staring from a number and ending at a number with difference\n",
    "for i in range(2,14,2):\n",
    "    print(i)"
   ]
  },
  {
   "cell_type": "markdown",
   "id": "0b04fa9a",
   "metadata": {},
   "source": [
    "#### Python Data Structures\n",
    "- List\n",
    "- Tuple\n",
    "- Sets\n",
    "- Dictioary \n",
    "- Collections in Python"
   ]
  },
  {
   "cell_type": "markdown",
   "id": "ab2f5516",
   "metadata": {},
   "source": [
    "* List - List of comma separated values (items) between square brackets </br>\n",
    "       - Lists can be heterogenous - can take different values. </br>\n",
    "       - Lists can be accessed based on indices. </br>\n",
    "       \n",
    "\n",
    "</br>\n",
    "<span style=\"color:red\">   |  0  |  1  |  2  |  3  |  4 |  </span> </br>\n",
    "<span style=\"color:green\">|  1  |  2  |  3  |  4 |  5 |  </span> </br>\n",
    "<span style=\"color:blue\">  | -5  | -4  | -3  | -2  | -1 |  </span> </br>\n",
    "   "
   ]
  },
  {
   "cell_type": "code",
   "execution_count": 10,
   "id": "e4fca5f6",
   "metadata": {},
   "outputs": [],
   "source": [
    "### Creating an empty list - []\n",
    "numval = []"
   ]
  },
  {
   "cell_type": "code",
   "execution_count": 1,
   "id": "46ba72e1",
   "metadata": {},
   "outputs": [
    {
     "data": {
      "text/plain": [
       "[1, 2, 3, 4, 5]"
      ]
     },
     "execution_count": 1,
     "metadata": {},
     "output_type": "execute_result"
    }
   ],
   "source": [
    "numbers = [1,2,3,4,5]\n",
    "numbers"
   ]
  },
  {
   "cell_type": "code",
   "execution_count": 2,
   "id": "b36cf04a",
   "metadata": {},
   "outputs": [
    {
     "data": {
      "text/plain": [
       "1"
      ]
     },
     "execution_count": 2,
     "metadata": {},
     "output_type": "execute_result"
    }
   ],
   "source": [
    "#### finding the numbers with zeroth index - numbers[0]\n",
    "numbers[0]"
   ]
  },
  {
   "cell_type": "code",
   "execution_count": 4,
   "id": "ba78a80e",
   "metadata": {},
   "outputs": [
    {
     "data": {
      "text/plain": [
       "5"
      ]
     },
     "execution_count": 4,
     "metadata": {},
     "output_type": "execute_result"
    }
   ],
   "source": [
    "#### Finding the numbers from the last - numbers[-1]\n",
    "numbers[-1]"
   ]
  },
  {
   "cell_type": "code",
   "execution_count": 5,
   "id": "d028f025",
   "metadata": {},
   "outputs": [
    {
     "data": {
      "text/plain": [
       "[1, 2, 3, 4, 5]"
      ]
     },
     "execution_count": 5,
     "metadata": {},
     "output_type": "execute_result"
    }
   ],
   "source": [
    "#### finding the number from first (0) to last- numbers[0:]\n",
    "numbers[0:]"
   ]
  },
  {
   "cell_type": "code",
   "execution_count": 6,
   "id": "f46674a5",
   "metadata": {},
   "outputs": [
    {
     "data": {
      "text/plain": [
       "[2, 3, 4]"
      ]
     },
     "execution_count": 6,
     "metadata": {},
     "output_type": "execute_result"
    }
   ],
   "source": [
    "#### finding the numbers from first \n",
    "#    index (1) to (4) index - numbers[1:4]\n",
    "numbers[1:4]"
   ]
  },
  {
   "cell_type": "code",
   "execution_count": 7,
   "id": "98e49b5d",
   "metadata": {},
   "outputs": [
    {
     "data": {
      "text/plain": [
       "[3, 4, 5]"
      ]
     },
     "execution_count": 7,
     "metadata": {},
     "output_type": "execute_result"
    }
   ],
   "source": [
    "## finding the numbers from second index \n",
    "## (2) to (5) index - numbers[2:5]\n",
    "numbers[2:5]"
   ]
  },
  {
   "cell_type": "code",
   "execution_count": 8,
   "id": "db5f2147",
   "metadata": {},
   "outputs": [
    {
     "data": {
      "text/plain": [
       "[3, 4, 5]"
      ]
     },
     "execution_count": 8,
     "metadata": {},
     "output_type": "execute_result"
    }
   ],
   "source": [
    "#### finding the numbers from last index \n",
    "##   -3 to to the zeroth index -numbers[-3:]\n",
    "numbers[-3:]"
   ]
  },
  {
   "cell_type": "markdown",
   "id": "7c087cdd",
   "metadata": {},
   "source": [
    "* Print all numbers"
   ]
  },
  {
   "cell_type": "code",
   "execution_count": 9,
   "id": "7f2a324f",
   "metadata": {},
   "outputs": [
    {
     "data": {
      "text/plain": [
       "[1, 2, 3, 4, 5]"
      ]
     },
     "execution_count": 9,
     "metadata": {},
     "output_type": "execute_result"
    }
   ],
   "source": [
    "### listing all the numbers from the list - numbers[:]\n",
    "numbers[:]"
   ]
  },
  {
   "cell_type": "markdown",
   "id": "9c19d9c5",
   "metadata": {},
   "source": [
    "* print length of numbers"
   ]
  },
  {
   "cell_type": "code",
   "execution_count": 11,
   "id": "24b19e8f",
   "metadata": {},
   "outputs": [
    {
     "data": {
      "text/plain": [
       "5"
      ]
     },
     "execution_count": 11,
     "metadata": {},
     "output_type": "execute_result"
    }
   ],
   "source": [
    "### length of the list can be found using - len(numbers)\n",
    "len(numbers)"
   ]
  },
  {
   "cell_type": "markdown",
   "id": "95209087",
   "metadata": {},
   "source": [
    "* Assign value to particular index"
   ]
  },
  {
   "cell_type": "code",
   "execution_count": 14,
   "id": "0043f9ef",
   "metadata": {},
   "outputs": [],
   "source": [
    "### We can reassign value to a index in a list \n",
    "##   - assign a new number to index 0\n",
    "numbers[0] = 11"
   ]
  },
  {
   "cell_type": "code",
   "execution_count": 15,
   "id": "436455a3",
   "metadata": {},
   "outputs": [
    {
     "data": {
      "text/plain": [
       "[11, 2, 3, 4, 5]"
      ]
     },
     "execution_count": 15,
     "metadata": {},
     "output_type": "execute_result"
    }
   ],
   "source": [
    "numbers"
   ]
  },
  {
   "cell_type": "markdown",
   "id": "585d8270",
   "metadata": {},
   "source": [
    "* append() elements to a list"
   ]
  },
  {
   "cell_type": "code",
   "execution_count": 16,
   "id": "02dc9e5f",
   "metadata": {},
   "outputs": [],
   "source": [
    "## List values can be appended at the end \n",
    "##  in a list - numbers.append() - numbers.append(6)\n"
   ]
  },
  {
   "cell_type": "code",
   "execution_count": 17,
   "id": "4ea421d3",
   "metadata": {},
   "outputs": [
    {
     "data": {
      "text/plain": [
       "[11, 2, 3, 4, 5, 6]"
      ]
     },
     "execution_count": 17,
     "metadata": {},
     "output_type": "execute_result"
    }
   ],
   "source": [
    "## List of number after the append - numbers"
   ]
  },
  {
   "cell_type": "markdown",
   "id": "520fff30",
   "metadata": {},
   "source": [
    "* To check the type of the list"
   ]
  },
  {
   "cell_type": "code",
   "execution_count": 18,
   "id": "8f5099c8",
   "metadata": {},
   "outputs": [
    {
     "data": {
      "text/plain": [
       "list"
      ]
     },
     "execution_count": 18,
     "metadata": {},
     "output_type": "execute_result"
    }
   ],
   "source": [
    "## Check type of list \n",
    "type(numbers)"
   ]
  },
  {
   "cell_type": "markdown",
   "id": "53d2dd39",
   "metadata": {},
   "source": [
    "* Elements of list is heterogenous"
   ]
  },
  {
   "cell_type": "code",
   "execution_count": 19,
   "id": "695d7e8d",
   "metadata": {},
   "outputs": [
    {
     "data": {
      "text/plain": [
       "['Apple', 'Banana', 23, 24, 25, 26]"
      ]
     },
     "execution_count": 19,
     "metadata": {},
     "output_type": "execute_result"
    }
   ],
   "source": [
    "#### Different types of values an be appended to a list\n",
    "listValues = ['Apple','Banana',23,24,25,26]\n",
    "listValues"
   ]
  },
  {
   "cell_type": "markdown",
   "id": "2e617b1a",
   "metadata": {},
   "source": [
    "* Append elements to a list using append()"
   ]
  },
  {
   "cell_type": "code",
   "execution_count": 20,
   "id": "49619c7c",
   "metadata": {},
   "outputs": [],
   "source": [
    "#### List can also be appended with 'Mango' at the list\n",
    "listValues.append('Mango')"
   ]
  },
  {
   "cell_type": "code",
   "execution_count": 21,
   "id": "e0fade9f",
   "metadata": {},
   "outputs": [],
   "source": [
    "#### list value can also be appended with [33,45,56]\n",
    "listValues.append([33,45,56])"
   ]
  },
  {
   "cell_type": "code",
   "execution_count": 22,
   "id": "ceb058df",
   "metadata": {},
   "outputs": [
    {
     "data": {
      "text/plain": [
       "['Apple', 'Banana', 23, 24, 25, 26, 'Mango', [33, 45, 56]]"
      ]
     },
     "execution_count": 22,
     "metadata": {},
     "output_type": "execute_result"
    }
   ],
   "source": [
    "listValues"
   ]
  },
  {
   "cell_type": "markdown",
   "id": "90290cd8",
   "metadata": {},
   "source": [
    "* Create list using the timing values - ['1:30','2:30','3:30','4:30','5:30','6:30','7:30']"
   ]
  },
  {
   "cell_type": "code",
   "execution_count": 30,
   "id": "26e0438f",
   "metadata": {},
   "outputs": [
    {
     "data": {
      "text/plain": [
       "['1:30', '2:30', '3:30']"
      ]
     },
     "execution_count": 30,
     "metadata": {},
     "output_type": "execute_result"
    }
   ],
   "source": [
    "timings = ['1:30','2:30','3:30','4:30','5:30','6:30','7:30']\n",
    "timings[0:3]"
   ]
  },
  {
   "cell_type": "code",
   "execution_count": 31,
   "id": "08b2790f",
   "metadata": {},
   "outputs": [
    {
     "data": {
      "text/plain": [
       "['3:30', '4:30', '5:30']"
      ]
     },
     "execution_count": 31,
     "metadata": {},
     "output_type": "execute_result"
    }
   ],
   "source": [
    "## Slice the list value from 2:5 \n",
    "timings[2:5]"
   ]
  },
  {
   "cell_type": "code",
   "execution_count": 32,
   "id": "5bab030d",
   "metadata": {},
   "outputs": [
    {
     "data": {
      "text/plain": [
       "['5:30', '6:30', '7:30']"
      ]
     },
     "execution_count": 32,
     "metadata": {},
     "output_type": "execute_result"
    }
   ],
   "source": [
    "## Slice the list value from 4:\n",
    "timings[4:]"
   ]
  },
  {
   "cell_type": "markdown",
   "id": "844edd22",
   "metadata": {},
   "source": [
    "* reverse() a list"
   ]
  },
  {
   "cell_type": "code",
   "execution_count": 33,
   "id": "c022d9a5",
   "metadata": {},
   "outputs": [
    {
     "data": {
      "text/plain": [
       "['7:30', '6:30', '5:30', '4:30', '3:30', '2:30', '1:30']"
      ]
     },
     "execution_count": 33,
     "metadata": {},
     "output_type": "execute_result"
    }
   ],
   "source": [
    "### To find the reverse of the list - list[::-1]\n",
    "timings[::-1]"
   ]
  },
  {
   "cell_type": "code",
   "execution_count": 46,
   "id": "34dde273",
   "metadata": {},
   "outputs": [
    {
     "data": {
      "text/plain": [
       "['1:30', '2:30', '3:30', '4:30', '5:30', '6:30', '7:30']"
      ]
     },
     "execution_count": 46,
     "metadata": {},
     "output_type": "execute_result"
    }
   ],
   "source": [
    "### Alternatively to reverse the list- use the timings.reverse()\n",
    "timings.reverse()\n",
    "timings"
   ]
  },
  {
   "cell_type": "markdown",
   "id": "000c999c",
   "metadata": {},
   "source": [
    "* index of a value in the list"
   ]
  },
  {
   "cell_type": "code",
   "execution_count": 47,
   "id": "b8e1c762",
   "metadata": {},
   "outputs": [
    {
     "data": {
      "text/plain": [
       "1"
      ]
     },
     "execution_count": 47,
     "metadata": {},
     "output_type": "execute_result"
    }
   ],
   "source": [
    "#### To get the index of the given element - timings.index('2:30')\n",
    "timings.index('2:30')"
   ]
  },
  {
   "cell_type": "markdown",
   "id": "2c39dc25",
   "metadata": {},
   "source": [
    "* insert an element at a particular index"
   ]
  },
  {
   "cell_type": "code",
   "execution_count": 49,
   "id": "1145ff67",
   "metadata": {},
   "outputs": [],
   "source": [
    "### Insert the value 8 at the index 2 - \n"
   ]
  },
  {
   "cell_type": "code",
   "execution_count": 50,
   "id": "9b779865",
   "metadata": {},
   "outputs": [
    {
     "data": {
      "text/plain": [
       "['1:30', '2:30', 8, '3:30', '4:30', '5:30', '6:30', '7:30']"
      ]
     },
     "execution_count": 50,
     "metadata": {},
     "output_type": "execute_result"
    }
   ],
   "source": [
    "timings.insert(2,8)"
   ]
  },
  {
   "cell_type": "markdown",
   "id": "4a95db7a",
   "metadata": {},
   "source": [
    "* remove a value from the list"
   ]
  },
  {
   "cell_type": "code",
   "execution_count": 51,
   "id": "35129559",
   "metadata": {},
   "outputs": [
    {
     "data": {
      "text/plain": [
       "['1:30', '2:30', '3:30', '4:30', '5:30', '6:30', '7:30']"
      ]
     },
     "execution_count": 51,
     "metadata": {},
     "output_type": "execute_result"
    }
   ],
   "source": [
    "### To remove an element from the list we can do this - timings\n",
    "timings.remove(8)\n",
    "timings"
   ]
  },
  {
   "cell_type": "markdown",
   "id": "50ef57be",
   "metadata": {},
   "source": [
    "* pop an element from the list"
   ]
  },
  {
   "cell_type": "code",
   "execution_count": 52,
   "id": "bb252307",
   "metadata": {},
   "outputs": [
    {
     "data": {
      "text/plain": [
       "'7:30'"
      ]
     },
     "execution_count": 52,
     "metadata": {},
     "output_type": "execute_result"
    }
   ],
   "source": [
    "### to remove the top most element from the list - timings - timings.pop()\n",
    "timings.pop()"
   ]
  },
  {
   "cell_type": "markdown",
   "id": "8e52d88e",
   "metadata": {},
   "source": [
    "* sort() an element from the list"
   ]
  },
  {
   "cell_type": "code",
   "execution_count": 56,
   "id": "83bd09a9",
   "metadata": {},
   "outputs": [],
   "source": [
    "### using the sort() list can be sorted - timings.sort()\n",
    "timings.sort()"
   ]
  },
  {
   "cell_type": "code",
   "execution_count": 57,
   "id": "7b85b9fc",
   "metadata": {},
   "outputs": [
    {
     "data": {
      "text/plain": [
       "['1:30', '2:30', '3:30', '4:30', '5:30', '6:30']"
      ]
     },
     "execution_count": 57,
     "metadata": {},
     "output_type": "execute_result"
    }
   ],
   "source": [
    "timings"
   ]
  },
  {
   "cell_type": "markdown",
   "id": "5bd9654b",
   "metadata": {},
   "source": [
    "* extend an element from the list"
   ]
  },
  {
   "cell_type": "code",
   "execution_count": 58,
   "id": "580e23a8",
   "metadata": {},
   "outputs": [],
   "source": [
    "## Extend the list by adding the elements \n",
    "## Elements shall be appended at the end of the list\n",
    "## extend - ['7:30','8:30','9:30']\n",
    "timings.extend(['7:30','8:30','9:30'])"
   ]
  },
  {
   "cell_type": "code",
   "execution_count": 59,
   "id": "63310d21",
   "metadata": {},
   "outputs": [
    {
     "data": {
      "text/plain": [
       "['1:30', '2:30', '3:30', '4:30', '5:30', '6:30', '7:30', '8:30', '9:30']"
      ]
     },
     "execution_count": 59,
     "metadata": {},
     "output_type": "execute_result"
    }
   ],
   "source": [
    "timings"
   ]
  },
  {
   "cell_type": "markdown",
   "id": "2fda8118",
   "metadata": {},
   "source": [
    "* Iterate a list"
   ]
  },
  {
   "cell_type": "code",
   "execution_count": 61,
   "id": "4c4817fd",
   "metadata": {},
   "outputs": [
    {
     "name": "stdout",
     "output_type": "stream",
     "text": [
      "The time now is 1:30\n",
      "The time now is 2:30\n",
      "The time now is 3:30\n",
      "The time now is 4:30\n",
      "The time now is 5:30\n",
      "The time now is 6:30\n",
      "The time now is 7:30\n",
      "The time now is 8:30\n",
      "The time now is 9:30\n"
     ]
    }
   ],
   "source": [
    "for timing in timings:\n",
    "    print(\"The time now is {}\".format(timing))"
   ]
  },
  {
   "cell_type": "markdown",
   "id": "3a460dc4",
   "metadata": {},
   "source": [
    "* sum of elements in a list"
   ]
  },
  {
   "cell_type": "code",
   "execution_count": 3,
   "id": "99b56747",
   "metadata": {
    "scrolled": true
   },
   "outputs": [
    {
     "name": "stdout",
     "output_type": "stream",
     "text": [
      "Sum of the list of elements 91\n",
      "[10, 11, 12, 13, 14, 15, 16]\n"
     ]
    }
   ],
   "source": [
    "### Lets build a list using 10,11,12,13,14,15,16 \n",
    "### The sum of all the elements in the list can be computed\n",
    "### in two ways  - sum(intList) or using for loops\n",
    "\n",
    "print('Sum of the list of elements',sum(intList))\n",
    "print(intList)"
   ]
  },
  {
   "cell_type": "markdown",
   "id": "94520ee9",
   "metadata": {},
   "source": [
    "* sum of the elements using for loops"
   ]
  },
  {
   "cell_type": "code",
   "execution_count": 4,
   "id": "7dfd0ac3",
   "metadata": {},
   "outputs": [
    {
     "name": "stdout",
     "output_type": "stream",
     "text": [
      "91\n"
     ]
    }
   ],
   "source": [
    "intList = 10,11,12,13,14,15,16\n",
    "slist = 0\n",
    "for i in intList:\n",
    "    slist += i\n",
    "print(slist)    "
   ]
  },
  {
   "cell_type": "markdown",
   "id": "85ddf2f1",
   "metadata": {},
   "source": [
    "* for comprehensions"
   ]
  },
  {
   "cell_type": "markdown",
   "id": "54a9ef5a",
   "metadata": {},
   "source": [
    "For comprehension is a simple way of returning the value based on certain input"
   ]
  },
  {
   "cell_type": "code",
   "execution_count": 62,
   "id": "c031d34f",
   "metadata": {},
   "outputs": [],
   "source": [
    "##   Based on the range object \n",
    "##   lets find the square of each number\n",
    "y = [x**2 for x in range(5)]"
   ]
  },
  {
   "cell_type": "code",
   "execution_count": 63,
   "id": "1ae2645b",
   "metadata": {},
   "outputs": [
    {
     "data": {
      "text/plain": [
       "[0, 1, 4, 9, 16]"
      ]
     },
     "execution_count": 63,
     "metadata": {},
     "output_type": "execute_result"
    }
   ],
   "source": [
    "y"
   ]
  },
  {
   "cell_type": "code",
   "execution_count": 65,
   "id": "7d52867b",
   "metadata": {},
   "outputs": [
    {
     "name": "stdout",
     "output_type": "stream",
     "text": [
      "[0, 4, 16, 36, 64]\n"
     ]
    }
   ],
   "source": [
    "## We can also include condition \n",
    "## within the for comrephension\n",
    "y = [x**2 for x in range(10) if x%2 == 0 ]\n",
    "print(y)"
   ]
  },
  {
   "cell_type": "code",
   "execution_count": 66,
   "id": "e59f64de",
   "metadata": {},
   "outputs": [],
   "source": [
    "### return if only list contains letters starting with s\n",
    "names = ['sunday','super','semi-conductor','non-conductor','mango','apple']\n",
    "y = [x for x in names if x.startswith('s')]"
   ]
  },
  {
   "cell_type": "code",
   "execution_count": 67,
   "id": "d536c17e",
   "metadata": {},
   "outputs": [
    {
     "data": {
      "text/plain": [
       "['sunday', 'super', 'semi-conductor']"
      ]
     },
     "execution_count": 67,
     "metadata": {},
     "output_type": "execute_result"
    }
   ],
   "source": [
    "y"
   ]
  },
  {
   "cell_type": "markdown",
   "id": "9df84a29",
   "metadata": {},
   "source": [
    "\n",
    "#### Tuples\n",
    " - Tuples are immutable objects that can be represented in ()\n",
    " - Tuples can be accessed using indices\n",
    " - Tuples are created by passing vlues to ()"
   ]
  },
  {
   "cell_type": "code",
   "execution_count": 76,
   "id": "b6d47c5e",
   "metadata": {},
   "outputs": [
    {
     "data": {
      "text/plain": [
       "'Mango'"
      ]
     },
     "execution_count": 76,
     "metadata": {},
     "output_type": "execute_result"
    }
   ],
   "source": [
    "tup1 = (25,'Mango','Rajesh',40,25,24,25)\n",
    "tup1[1]"
   ]
  },
  {
   "cell_type": "code",
   "execution_count": 77,
   "id": "9144803e",
   "metadata": {},
   "outputs": [
    {
     "data": {
      "text/plain": [
       "40"
      ]
     },
     "execution_count": 77,
     "metadata": {},
     "output_type": "execute_result"
    }
   ],
   "source": [
    "tup1[3]"
   ]
  },
  {
   "cell_type": "code",
   "execution_count": 78,
   "id": "7777c0c5",
   "metadata": {},
   "outputs": [
    {
     "name": "stdout",
     "output_type": "stream",
     "text": [
      "25\n",
      "Mango\n",
      "Rajesh\n",
      "40\n",
      "25\n",
      "24\n",
      "25\n"
     ]
    }
   ],
   "source": [
    "### Tuples can be iterated over using for loop \n",
    "for x in tup1:\n",
    "    print(x)"
   ]
  },
  {
   "cell_type": "code",
   "execution_count": 75,
   "id": "59992e94",
   "metadata": {},
   "outputs": [
    {
     "ename": "TypeError",
     "evalue": "'tuple' object does not support item assignment",
     "output_type": "error",
     "traceback": [
      "\u001b[1;31m---------------------------------------------------------------------------\u001b[0m",
      "\u001b[1;31mTypeError\u001b[0m                                 Traceback (most recent call last)",
      "Cell \u001b[1;32mIn[75], line 2\u001b[0m\n\u001b[0;32m      1\u001b[0m \u001b[38;5;66;03m## Assigning a value to tuple shows error - tuple object does not support assignment\u001b[39;00m\n\u001b[1;32m----> 2\u001b[0m tup1[\u001b[38;5;241m0\u001b[39m] \u001b[38;5;241m=\u001b[39m \u001b[38;5;241m35\u001b[39m\n",
      "\u001b[1;31mTypeError\u001b[0m: 'tuple' object does not support item assignment"
     ]
    }
   ],
   "source": [
    "## Assigning a value to tuple shows error - \n",
    "## tuple object does not support assignment\n",
    "tup1[0] = 35"
   ]
  },
  {
   "cell_type": "code",
   "execution_count": 79,
   "id": "28f8f213",
   "metadata": {},
   "outputs": [
    {
     "data": {
      "text/plain": [
       "3"
      ]
     },
     "execution_count": 79,
     "metadata": {},
     "output_type": "execute_result"
    }
   ],
   "source": [
    "## Count function gives the count of the element in the tuple\n",
    "tup1.count(25)"
   ]
  },
  {
   "cell_type": "code",
   "execution_count": 68,
   "id": "a48537f9",
   "metadata": {},
   "outputs": [
    {
     "name": "stdout",
     "output_type": "stream",
     "text": [
      "[(2, 2), (2, 5), (2, 6), (3, 2), (3, 5), (3, 6), (4, 2), (4, 5), (4, 6)]\n"
     ]
    }
   ],
   "source": [
    "## Exercise - There are two list [2,3,4] and [2,5,6] \n",
    "## Get a combination (x,y) \n",
    "## x is the element from first list, \n",
    "## y is the element from second list - \n",
    "## Get combinations (x,y) such that x is not equal to y\n",
    "\n",
    "x = [2,3,4]\n",
    "y = [2,5,6]\n",
    "output = [(a,b) for a in x for b in y if x!=y]\n",
    "print(output)"
   ]
  },
  {
   "cell_type": "markdown",
   "id": "c2f5ba84",
   "metadata": {},
   "source": [
    "* **Sets in Python**\n",
    "  - Sets contain unique elements  \n",
    "  - Sets are unordered sequence of elements\n",
    "  - They are represented using the {} (curly braces)"
   ]
  },
  {
   "cell_type": "code",
   "execution_count": 80,
   "id": "ad0088d6",
   "metadata": {},
   "outputs": [
    {
     "data": {
      "text/plain": [
       "{'Kiran', 'Mahesh', 'Ravi', 'Suraj', 'Surya'}"
      ]
     },
     "execution_count": 80,
     "metadata": {},
     "output_type": "execute_result"
    }
   ],
   "source": [
    "elements = {'Mahesh','Mahesh','Suraj','Ravi','Kiran','Surya'}\n",
    "elements"
   ]
  },
  {
   "cell_type": "code",
   "execution_count": 6,
   "id": "117c1379",
   "metadata": {},
   "outputs": [
    {
     "data": {
      "text/plain": [
       "{'Kiran', 'Mahesh', 'Ravi', 'Suraj', 'Surya'}"
      ]
     },
     "execution_count": 6,
     "metadata": {},
     "output_type": "execute_result"
    }
   ],
   "source": [
    "## Sets can be constructed using the following \n",
    "## set keyword and passing a list to it\n",
    "eles = set(['Mahesh','Mahesh','Suraj','Ravi','Kiran','Surya'])\n",
    "eles"
   ]
  },
  {
   "cell_type": "markdown",
   "id": "188ae339",
   "metadata": {},
   "source": [
    "* Iteration over sets in python"
   ]
  },
  {
   "cell_type": "code",
   "execution_count": 83,
   "id": "de5db238",
   "metadata": {},
   "outputs": [
    {
     "data": {
      "text/plain": [
       "{'Kiran', 'Mahesh', 'Ravi', 'Suraj', 'Surya'}"
      ]
     },
     "execution_count": 83,
     "metadata": {},
     "output_type": "execute_result"
    }
   ],
   "source": [
    "elements"
   ]
  },
  {
   "cell_type": "code",
   "execution_count": 84,
   "id": "78dbe455",
   "metadata": {},
   "outputs": [
    {
     "name": "stdout",
     "output_type": "stream",
     "text": [
      "Suraj\n",
      "Surya\n",
      "Ravi\n",
      "Mahesh\n",
      "Kiran\n"
     ]
    }
   ],
   "source": [
    "for x in elements:\n",
    "    print(x)"
   ]
  },
  {
   "cell_type": "code",
   "execution_count": 86,
   "id": "18e0583a",
   "metadata": {},
   "outputs": [
    {
     "data": {
      "text/plain": [
       "5"
      ]
     },
     "execution_count": 86,
     "metadata": {},
     "output_type": "execute_result"
    }
   ],
   "source": [
    "# The set elements are given below - \n",
    "# We can represent the data as \n",
    "# els = {'Mahesh','Mahesh','Suraj','Ravi','Kiran','Surya'}\n",
    "els = {'Mahesh','Mahesh','Suraj','Ravi','Kiran','Surya'}\n",
    "len(els)"
   ]
  },
  {
   "cell_type": "markdown",
   "id": "51f0dd67",
   "metadata": {},
   "source": [
    "* Adding elements to set"
   ]
  },
  {
   "cell_type": "code",
   "execution_count": 87,
   "id": "78a66a25",
   "metadata": {},
   "outputs": [],
   "source": [
    "### Add the following element to the set elements 'Mitra' using add function\n",
    "els.add('Mitra')"
   ]
  },
  {
   "cell_type": "code",
   "execution_count": 88,
   "id": "7f6fc1d4",
   "metadata": {},
   "outputs": [
    {
     "data": {
      "text/plain": [
       "{'Kiran', 'Mahesh', 'Mitra', 'Ravi', 'Suraj', 'Surya'}"
      ]
     },
     "execution_count": 88,
     "metadata": {},
     "output_type": "execute_result"
    }
   ],
   "source": [
    "els"
   ]
  },
  {
   "cell_type": "code",
   "execution_count": 91,
   "id": "53683c68",
   "metadata": {},
   "outputs": [],
   "source": [
    "## Lets create one more set els2 = els2 = {'kiran','Mahesh', 'Mitra'}\n",
    "els2 = {'kiran','Mahesh', 'Mitra'}\n"
   ]
  },
  {
   "cell_type": "markdown",
   "id": "82f4a2c7",
   "metadata": {},
   "source": [
    "* seta.difference(setb) - Difference gives the elements that are in seta"
   ]
  },
  {
   "cell_type": "code",
   "execution_count": 2,
   "id": "8a607137",
   "metadata": {},
   "outputs": [
    {
     "ename": "NameError",
     "evalue": "name 'els' is not defined",
     "output_type": "error",
     "traceback": [
      "\u001b[1;31m---------------------------------------------------------------------------\u001b[0m",
      "\u001b[1;31mNameError\u001b[0m                                 Traceback (most recent call last)",
      "Cell \u001b[1;32mIn[2], line 1\u001b[0m\n\u001b[1;32m----> 1\u001b[0m \u001b[43mels\u001b[49m\u001b[38;5;241m.\u001b[39mdifference(els2)\n",
      "\u001b[1;31mNameError\u001b[0m: name 'els' is not defined"
     ]
    }
   ],
   "source": [
    "els.difference(els2)"
   ]
  },
  {
   "cell_type": "markdown",
   "id": "4615eb13",
   "metadata": {},
   "source": [
    "* difference_update() - Removes the elements from the other set"
   ]
  },
  {
   "cell_type": "code",
   "execution_count": 98,
   "id": "ce5e11d9",
   "metadata": {},
   "outputs": [],
   "source": [
    "els.difference_update(els2)"
   ]
  },
  {
   "cell_type": "code",
   "execution_count": 99,
   "id": "89de520a",
   "metadata": {},
   "outputs": [
    {
     "data": {
      "text/plain": [
       "{'Kiran', 'Ravi', 'Suraj', 'Surya'}"
      ]
     },
     "execution_count": 99,
     "metadata": {},
     "output_type": "execute_result"
    }
   ],
   "source": [
    "els"
   ]
  },
  {
   "cell_type": "code",
   "execution_count": 100,
   "id": "06ad7291",
   "metadata": {},
   "outputs": [
    {
     "data": {
      "text/plain": [
       "{'Mahesh', 'Mitra', 'kiran'}"
      ]
     },
     "execution_count": 100,
     "metadata": {},
     "output_type": "execute_result"
    }
   ],
   "source": [
    "els2"
   ]
  },
  {
   "cell_type": "code",
   "execution_count": 101,
   "id": "74eb9dcf",
   "metadata": {},
   "outputs": [
    {
     "data": {
      "text/plain": [
       "5"
      ]
     },
     "execution_count": 101,
     "metadata": {},
     "output_type": "execute_result"
    }
   ],
   "source": [
    "## Create the set and try to perform union on els and els2\n",
    "els = {'Mahesh','Mahesh','Suraj','Ravi','Kiran','Surya'}\n",
    "len(els)"
   ]
  },
  {
   "cell_type": "markdown",
   "id": "78981837",
   "metadata": {},
   "source": [
    "* union combines both the sets with unique elements"
   ]
  },
  {
   "cell_type": "code",
   "execution_count": 103,
   "id": "da2a1d9c",
   "metadata": {},
   "outputs": [
    {
     "data": {
      "text/plain": [
       "{'Kiran', 'Mahesh', 'Mitra', 'Ravi', 'Suraj', 'Surya', 'kiran'}"
      ]
     },
     "execution_count": 103,
     "metadata": {},
     "output_type": "execute_result"
    }
   ],
   "source": [
    "els.union(els2)"
   ]
  },
  {
   "cell_type": "markdown",
   "id": "368dbb95",
   "metadata": {},
   "source": [
    "* intersection provides the common elements between the sets"
   ]
  },
  {
   "cell_type": "code",
   "execution_count": 105,
   "id": "d9d89beb",
   "metadata": {
    "scrolled": true
   },
   "outputs": [
    {
     "data": {
      "text/plain": [
       "{'Mahesh'}"
      ]
     },
     "execution_count": 105,
     "metadata": {},
     "output_type": "execute_result"
    }
   ],
   "source": [
    "els.intersection(els2)"
   ]
  },
  {
   "cell_type": "code",
   "execution_count": 106,
   "id": "de4079ff",
   "metadata": {},
   "outputs": [
    {
     "name": "stdout",
     "output_type": "stream",
     "text": [
      "{'Suraj', 'Surya', 'Ravi', 'Mahesh', 'Kiran'}\n",
      "{'Mitra', 'Mahesh', 'kiran'}\n"
     ]
    }
   ],
   "source": [
    "print(els)\n",
    "print(els2)"
   ]
  },
  {
   "cell_type": "markdown",
   "id": "3c2d4c05",
   "metadata": {},
   "source": [
    "* Symmetric difference gives the elements that are not common as one single set."
   ]
  },
  {
   "cell_type": "code",
   "execution_count": 108,
   "id": "16e072c2",
   "metadata": {
    "scrolled": true
   },
   "outputs": [
    {
     "data": {
      "text/plain": [
       "{'Kiran', 'Mitra', 'Ravi', 'Suraj', 'Surya', 'kiran'}"
      ]
     },
     "execution_count": 108,
     "metadata": {},
     "output_type": "execute_result"
    }
   ],
   "source": [
    "## els.symmetric_difference(els2) gives the common elements between both the sets.\n",
    "els.symmetric_difference(els2)"
   ]
  },
  {
   "cell_type": "markdown",
   "id": "fcfbdb5a",
   "metadata": {},
   "source": [
    "* Comprehension for set - Similar to for comprehension for Set\n",
    "    - return type is Set when set comprehension is perfromed"
   ]
  },
  {
   "cell_type": "code",
   "execution_count": 8,
   "id": "3dfecec0",
   "metadata": {},
   "outputs": [
    {
     "data": {
      "text/plain": [
       "{'Kiran', 'Mahesh', 'Ravi', 'Suraj', 'Surya'}"
      ]
     },
     "execution_count": 8,
     "metadata": {},
     "output_type": "execute_result"
    }
   ],
   "source": [
    "listVal = {'Mahesh','Mahesh','Suraj','Ravi','Kiran','Surya'}\n",
    "uniEle = {x for x in listVal}\n",
    "uniEle"
   ]
  },
  {
   "cell_type": "markdown",
   "id": "b9ad3017",
   "metadata": {},
   "source": [
    "* **Dictionary in Python** - Dictionaries in Python are basically key,value pairs. \n",
    "    - In a dictionary, key can be any unique object\n",
    "    - Keys are unique and non-duplicated\n",
    "    - Values can be duplicated\n",
    "    - Dictionaries can be constructed using the dict() or {:} "
   ]
  },
  {
   "cell_type": "markdown",
   "id": "e4743973",
   "metadata": {},
   "source": [
    "* Create Dictionary using the dict() keyword"
   ]
  },
  {
   "cell_type": "code",
   "execution_count": 13,
   "id": "ea5fac46",
   "metadata": {},
   "outputs": [
    {
     "data": {
      "text/plain": [
       "{101: 'Suraj',\n",
       " 102: 'Mahesh',\n",
       " 103: 'Surya',\n",
       " 104: 'Ravi',\n",
       " 105: 'Kiran',\n",
       " 106: 'Mitra'}"
      ]
     },
     "execution_count": 13,
     "metadata": {},
     "output_type": "execute_result"
    }
   ],
   "source": [
    "idName = dict()\n",
    "idName[101] = 'Suraj'\n",
    "idName[102] = 'Mahesh'\n",
    "idName[103] = 'Surya'\n",
    "idName[104] = 'Ravi'\n",
    "idName[105] = 'Kiran'\n",
    "idName[106] = 'Mitra'\n",
    "idName"
   ]
  },
  {
   "cell_type": "code",
   "execution_count": 37,
   "id": "607847be",
   "metadata": {},
   "outputs": [
    {
     "data": {
      "text/plain": [
       "{101: 'Suraj',\n",
       " 102: 'Mahesh',\n",
       " 103: 'Surya',\n",
       " 104: 'Ravi',\n",
       " 105: 'Kiran',\n",
       " 106: 'Mitra'}"
      ]
     },
     "execution_count": 37,
     "metadata": {},
     "output_type": "execute_result"
    }
   ],
   "source": [
    "### Another way of creating the dictionary is the following\n",
    "idName = {101: 'Suraj',102: 'Mahesh',103: 'Surya', \n",
    "          104: 'Ravi', 105: 'Kiran', 106: 'Mitra'}\n",
    "idName"
   ]
  },
  {
   "cell_type": "markdown",
   "id": "ea86c4c3",
   "metadata": {},
   "source": [
    "* Retrieve the value of dictionary using key"
   ]
  },
  {
   "cell_type": "code",
   "execution_count": 17,
   "id": "9bcbf09e",
   "metadata": {},
   "outputs": [],
   "source": [
    "### The dictionary name and the id can be passed to get the value - idName[101]"
   ]
  },
  {
   "cell_type": "markdown",
   "id": "d30d5d2c",
   "metadata": {},
   "source": [
    "* Check if the key is in the dictionary"
   ]
  },
  {
   "cell_type": "code",
   "execution_count": 21,
   "id": "c3884031",
   "metadata": {},
   "outputs": [
    {
     "data": {
      "text/plain": [
       "True"
      ]
     },
     "execution_count": 21,
     "metadata": {},
     "output_type": "execute_result"
    }
   ],
   "source": [
    "### Check if a particular key is available in the dictionary - 101 in idName\n",
    "101 in idName"
   ]
  },
  {
   "cell_type": "code",
   "execution_count": 24,
   "id": "0ec342d0",
   "metadata": {},
   "outputs": [
    {
     "name": "stdout",
     "output_type": "stream",
     "text": [
      "True\n",
      "False\n"
     ]
    }
   ],
   "source": [
    "### CHeck if a particular key is not available in the dictionary \n",
    "#   - 109 not in idName\n",
    "print(109 not in idName)\n",
    "print(110 in idName)"
   ]
  },
  {
   "cell_type": "markdown",
   "id": "41359bf0",
   "metadata": {},
   "source": [
    "* iterate over the dictionary using keys()"
   ]
  },
  {
   "cell_type": "code",
   "execution_count": 34,
   "id": "ee64413c",
   "metadata": {},
   "outputs": [
    {
     "name": "stdout",
     "output_type": "stream",
     "text": [
      "Key is 101\n",
      "Key is 102\n",
      "Key is 103\n",
      "Key is 104\n",
      "Key is 105\n",
      "Key is 106\n"
     ]
    }
   ],
   "source": [
    "#  We can iterate over the dictionary using the keys()\n",
    "#  function on the dictionary.\n",
    "for k in idName.keys():\n",
    "    print(f'Key is {k}')"
   ]
  },
  {
   "cell_type": "markdown",
   "id": "dc0e4695",
   "metadata": {},
   "source": [
    "* Values for the dictionary using values()"
   ]
  },
  {
   "cell_type": "code",
   "execution_count": 36,
   "id": "b3dafc86",
   "metadata": {},
   "outputs": [
    {
     "name": "stdout",
     "output_type": "stream",
     "text": [
      "value is Suraj\n",
      "value is Mahesh\n",
      "value is Surya\n",
      "value is Ravi\n",
      "value is Kiran\n",
      "value is Mitra\n"
     ]
    }
   ],
   "source": [
    "for v in idName.values():\n",
    "    print(f'value is {v}')"
   ]
  },
  {
   "cell_type": "markdown",
   "id": "04aff8e2",
   "metadata": {},
   "source": [
    "* iterate over a dictionary using items()"
   ]
  },
  {
   "cell_type": "code",
   "execution_count": 33,
   "id": "b64adf40",
   "metadata": {},
   "outputs": [
    {
     "name": "stdout",
     "output_type": "stream",
     "text": [
      "Id is 101, Name is Suraj\n",
      "Id is 102, Name is Mahesh\n",
      "Id is 103, Name is Surya\n",
      "Id is 104, Name is Ravi\n",
      "Id is 105, Name is Kiran\n",
      "Id is 106, Name is Mitra\n"
     ]
    }
   ],
   "source": [
    "for key,value in idName.items():\n",
    "    print(f'Id is {key}, Name is {value}')"
   ]
  },
  {
   "cell_type": "markdown",
   "id": "2392e7c9",
   "metadata": {},
   "source": [
    "* Iterate over a dictionary using the dictionary object "
   ]
  },
  {
   "cell_type": "code",
   "execution_count": 39,
   "id": "cd4dc9f6",
   "metadata": {},
   "outputs": [
    {
     "name": "stdout",
     "output_type": "stream",
     "text": [
      "101\n",
      "102\n",
      "103\n",
      "104\n",
      "105\n",
      "106\n"
     ]
    }
   ],
   "source": [
    "### Using the dictionary object only the dictionary is used\n",
    "for keyVal in idName:\n",
    "    print(keyVal)"
   ]
  },
  {
   "cell_type": "markdown",
   "id": "09ca101d",
   "metadata": {},
   "source": [
    "* Delete a key in the dictionary using the del keyword"
   ]
  },
  {
   "cell_type": "code",
   "execution_count": 40,
   "id": "331e7f30",
   "metadata": {},
   "outputs": [],
   "source": [
    "## Delete the key value pair using the idName[key]\n",
    "del idName[101]"
   ]
  },
  {
   "cell_type": "code",
   "execution_count": 41,
   "id": "3b5c48b5",
   "metadata": {},
   "outputs": [
    {
     "data": {
      "text/plain": [
       "{102: 'Mahesh', 103: 'Surya', 104: 'Ravi', 105: 'Kiran', 106: 'Mitra'}"
      ]
     },
     "execution_count": 41,
     "metadata": {},
     "output_type": "execute_result"
    }
   ],
   "source": [
    "idName"
   ]
  },
  {
   "cell_type": "markdown",
   "id": "f82c53db",
   "metadata": {},
   "source": [
    "* To get a value from the dictionar using the get() function or the []"
   ]
  },
  {
   "cell_type": "code",
   "execution_count": 42,
   "id": "96dd336c",
   "metadata": {},
   "outputs": [
    {
     "data": {
      "text/plain": [
       "'Mahesh'"
      ]
     },
     "execution_count": 42,
     "metadata": {},
     "output_type": "execute_result"
    }
   ],
   "source": [
    "idName[102]"
   ]
  },
  {
   "cell_type": "code",
   "execution_count": 43,
   "id": "4378f389",
   "metadata": {},
   "outputs": [
    {
     "data": {
      "text/plain": [
       "'Mahesh'"
      ]
     },
     "execution_count": 43,
     "metadata": {},
     "output_type": "execute_result"
    }
   ],
   "source": [
    "idName.get(102)"
   ]
  },
  {
   "cell_type": "markdown",
   "id": "8bd8fb2f",
   "metadata": {},
   "source": [
    "* If the key is not in the dictionary using the get() method we can use the default value"
   ]
  },
  {
   "cell_type": "code",
   "execution_count": 49,
   "id": "f7aee52b",
   "metadata": {},
   "outputs": [
    {
     "ename": "KeyError",
     "evalue": "109",
     "output_type": "error",
     "traceback": [
      "\u001b[1;31m---------------------------------------------------------------------------\u001b[0m",
      "\u001b[1;31mKeyError\u001b[0m                                  Traceback (most recent call last)",
      "Cell \u001b[1;32mIn[49], line 2\u001b[0m\n\u001b[0;32m      1\u001b[0m \u001b[38;5;66;03m### Lets say we dont have the key/value pair in the dictionary\u001b[39;00m\n\u001b[1;32m----> 2\u001b[0m \u001b[43midName\u001b[49m\u001b[43m[\u001b[49m\u001b[38;5;241;43m109\u001b[39;49m\u001b[43m]\u001b[49m\n",
      "\u001b[1;31mKeyError\u001b[0m: 109"
     ]
    }
   ],
   "source": [
    "#   Lets say we dont have the key/value pair in the dictionary \n",
    "#   it returns a key erro\n",
    "idName[109]"
   ]
  },
  {
   "cell_type": "code",
   "execution_count": 51,
   "id": "3426f2e2",
   "metadata": {},
   "outputs": [
    {
     "data": {
      "text/plain": [
       "'Mahesh'"
      ]
     },
     "execution_count": 51,
     "metadata": {},
     "output_type": "execute_result"
    }
   ],
   "source": [
    "# If the key is available then it returns the value\n",
    "idName.get(102,\"Value is Not there\")"
   ]
  },
  {
   "cell_type": "code",
   "execution_count": 46,
   "id": "b7034835",
   "metadata": {
    "scrolled": true
   },
   "outputs": [
    {
     "data": {
      "text/plain": [
       "'Key/Value is Not there'"
      ]
     },
     "execution_count": 46,
     "metadata": {},
     "output_type": "execute_result"
    }
   ],
   "source": [
    "idName.get(109,\"Key/Value is Not there\")"
   ]
  },
  {
   "cell_type": "code",
   "execution_count": 55,
   "id": "d48e20b0",
   "metadata": {},
   "outputs": [],
   "source": [
    "# To get the keys in the reversed order we can \n",
    "# use reversed on the dictionary"
   ]
  },
  {
   "cell_type": "code",
   "execution_count": 54,
   "id": "947e1d3e",
   "metadata": {},
   "outputs": [
    {
     "name": "stdout",
     "output_type": "stream",
     "text": [
      "106\n",
      "105\n",
      "104\n",
      "103\n",
      "102\n"
     ]
    }
   ],
   "source": [
    "for i in reversed(idName):\n",
    "    print(i)"
   ]
  },
  {
   "cell_type": "code",
   "execution_count": 58,
   "id": "57591e16",
   "metadata": {},
   "outputs": [
    {
     "data": {
      "text/plain": [
       "[102, 103, 104, 105, 106]"
      ]
     },
     "execution_count": 58,
     "metadata": {},
     "output_type": "execute_result"
    }
   ],
   "source": [
    "## Collecting the dictionary keys as list - list(idName)\n",
    "list(idName)"
   ]
  },
  {
   "cell_type": "markdown",
   "id": "11061155",
   "metadata": {},
   "source": [
    "* To remove one key,value pair from the dictionary - using popitem()"
   ]
  },
  {
   "cell_type": "code",
   "execution_count": 59,
   "id": "469088ac",
   "metadata": {},
   "outputs": [
    {
     "data": {
      "text/plain": [
       "(106, 'Mitra')"
      ]
     },
     "execution_count": 59,
     "metadata": {},
     "output_type": "execute_result"
    }
   ],
   "source": [
    "## idName.popitem() will remove one key value pair from the dictionary\n",
    "idName.popitem()"
   ]
  },
  {
   "cell_type": "markdown",
   "id": "6568354c",
   "metadata": {},
   "source": [
    "* To remove one key at a time from the dictionary - using pop()"
   ]
  },
  {
   "cell_type": "code",
   "execution_count": 64,
   "id": "c10def35",
   "metadata": {},
   "outputs": [
    {
     "data": {
      "text/plain": [
       "'Ravi'"
      ]
     },
     "execution_count": 64,
     "metadata": {},
     "output_type": "execute_result"
    }
   ],
   "source": [
    "# idName.pop(key) will pop one key value pair \n",
    "#  for the given key from the dictionary\n",
    "idName.pop(104)"
   ]
  },
  {
   "cell_type": "code",
   "execution_count": 65,
   "id": "fa6681f0",
   "metadata": {},
   "outputs": [
    {
     "ename": "KeyError",
     "evalue": "105",
     "output_type": "error",
     "traceback": [
      "\u001b[1;31m---------------------------------------------------------------------------\u001b[0m",
      "\u001b[1;31mKeyError\u001b[0m                                  Traceback (most recent call last)",
      "Cell \u001b[1;32mIn[65], line 2\u001b[0m\n\u001b[0;32m      1\u001b[0m \u001b[38;5;66;03m### If the key is not available in the dictionary, pop() shall given an error on the dictionary\u001b[39;00m\n\u001b[1;32m----> 2\u001b[0m \u001b[43midName\u001b[49m\u001b[38;5;241;43m.\u001b[39;49m\u001b[43mpop\u001b[49m\u001b[43m(\u001b[49m\u001b[38;5;241;43m105\u001b[39;49m\u001b[43m)\u001b[49m\n",
      "\u001b[1;31mKeyError\u001b[0m: 105"
     ]
    }
   ],
   "source": [
    "# If the key is not available in the dictionary, \n",
    "# pop() shall given an error on the dictionary\n",
    "idName.pop(105)"
   ]
  },
  {
   "cell_type": "markdown",
   "id": "0311af01",
   "metadata": {},
   "source": [
    "* length of the dictionary - len() function"
   ]
  },
  {
   "cell_type": "code",
   "execution_count": 67,
   "id": "23b833e4",
   "metadata": {},
   "outputs": [
    {
     "data": {
      "text/plain": [
       "2"
      ]
     },
     "execution_count": 67,
     "metadata": {},
     "output_type": "execute_result"
    }
   ],
   "source": [
    "# To get the length of the dictionary\n",
    "len(idName)"
   ]
  },
  {
   "cell_type": "markdown",
   "id": "0a65844f",
   "metadata": {},
   "source": [
    "* Lets say we want to get the key,value pairs using the dictionary using dictionary comprehension"
   ]
  },
  {
   "cell_type": "code",
   "execution_count": 71,
   "id": "0ebfa545",
   "metadata": {},
   "outputs": [
    {
     "data": {
      "text/plain": [
       "{102: 'Mahesh', 104: 'Ravi', 106: 'Mitra'}"
      ]
     },
     "execution_count": 71,
     "metadata": {},
     "output_type": "execute_result"
    }
   ],
   "source": [
    "### Dictionary comprehension can be perfromed using the following: \n",
    "idName = idName = {101: 'Suraj',102: 'Mahesh',103: 'Surya', \n",
    "                   104: 'Ravi', 105: 'Kiran', 106: 'Mitra'}\n",
    "\n",
    "# get only the even ids\n",
    "evenIdName = {k:v for (k,v) in idName.items() if k%2 ==0 }\n",
    "evenIdName"
   ]
  },
  {
   "cell_type": "markdown",
   "id": "6bc3bbfc",
   "metadata": {},
   "source": [
    "#### Range Function - range()"
   ]
  },
  {
   "cell_type": "markdown",
   "id": "b686d939",
   "metadata": {},
   "source": [
    "* Range Function is a built function\n",
    "* Range function can be used for creating sequence of integer values\n",
    "* The Range function can be iterated over\n",
    "* It can also be used to create other data structures like List and Tuples"
   ]
  },
  {
   "cell_type": "code",
   "execution_count": 1,
   "id": "b008648f",
   "metadata": {},
   "outputs": [
    {
     "data": {
      "text/plain": [
       "range(0, 10)"
      ]
     },
     "execution_count": 1,
     "metadata": {},
     "output_type": "execute_result"
    }
   ],
   "source": [
    "range(10)"
   ]
  },
  {
   "cell_type": "markdown",
   "id": "712b7a5c",
   "metadata": {},
   "source": [
    "* Range function can be iterated using the for loop\n",
    "* In the code below, we shall user the 'for' keyword and the 'in' keyword and iterate over the range by passing a value. Alos please note that within the 'print' function we can use the 'end' to iterate over the value\n"
   ]
  },
  {
   "cell_type": "code",
   "execution_count": 3,
   "id": "385b09cc",
   "metadata": {},
   "outputs": [
    {
     "name": "stdout",
     "output_type": "stream",
     "text": [
      "0 1 2 3 4 5 6 7 8 9 "
     ]
    }
   ],
   "source": [
    "# Example  - Iterating over the range function \n",
    "for i in range(10):\n",
    "    print(i, end=' ')  # Here, in the print function we can use the end as the \n",
    "                       #separator to print the output in one single line"
   ]
  },
  {
   "cell_type": "markdown",
   "id": "81a2eecd",
   "metadata": {},
   "source": [
    "* Range function has other paramenters - we can understand the parameters as something below :\n",
    "  startIndex, endIndex and stepSize </br>\n",
    "  Let us look at an example below - </br>\n",
    "  The start value/index is given as 2 </br>\n",
    "  The end value/index is given as 10 </br>\n",
    "  the step/value index is given as 5 </br>"
   ]
  },
  {
   "cell_type": "code",
   "execution_count": 2,
   "id": "f6480951",
   "metadata": {},
   "outputs": [
    {
     "name": "stdout",
     "output_type": "stream",
     "text": [
      "4 6 8 10 12 14 16 "
     ]
    }
   ],
   "source": [
    "# start - 4\n",
    "# end - 18\n",
    "# step - 2\n",
    "\n",
    "rng1 = range(4,18,2)# Every alternate number \n",
    "                    # would be printed with the difference in the numbers as 2\n",
    "for i in rng1:\n",
    "    print(i , end=' ')"
   ]
  },
  {
   "cell_type": "markdown",
   "id": "fd74ebe9",
   "metadata": {},
   "source": [
    "* Creating a range and adding it to list\n",
    "  - In this method we shall create a list outside the range object and then iterate over the range and then add it to list"
   ]
  },
  {
   "cell_type": "code",
   "execution_count": 3,
   "id": "5d3dba3d",
   "metadata": {},
   "outputs": [
    {
     "name": "stdout",
     "output_type": "stream",
     "text": [
      "[4, 6, 8, 10, 12, 14, 16]\n",
      "range(4, 18, 2)\n"
     ]
    }
   ],
   "source": [
    "\n",
    "l1 = []\n",
    "r1 = range(4,18,2)\n",
    "for i in r1:\n",
    "    l1.append(i)\n",
    "print(l1)        \n",
    "print(r1)"
   ]
  },
  {
   "cell_type": "markdown",
   "id": "6c80d014",
   "metadata": {},
   "source": [
    "* Creating the range object and adding it to the list object using list()"
   ]
  },
  {
   "cell_type": "code",
   "execution_count": 4,
   "id": "8bae52ec",
   "metadata": {},
   "outputs": [],
   "source": [
    "r1 = range(4,18,2)\n",
    "l2  = list(r1)"
   ]
  },
  {
   "cell_type": "code",
   "execution_count": 5,
   "id": "c0481013",
   "metadata": {},
   "outputs": [
    {
     "data": {
      "text/plain": [
       "[4, 6, 8, 10, 12, 14, 16]"
      ]
     },
     "execution_count": 5,
     "metadata": {},
     "output_type": "execute_result"
    }
   ],
   "source": [
    "l2"
   ]
  },
  {
   "cell_type": "markdown",
   "id": "bbcaacdd",
   "metadata": {},
   "source": [
    "### Lists \n",
    "* Lists are the objects that are ordered sequentially \n",
    "* Lists start from index 0 \n",
    "* Lists are iterable objects \n",
    "* Lists can be iterated over using the for loop\n",
    "* Lists can be sliced that is they can be indexed over\n",
    "* Lists can be iterated\n",
    "* Lists are mutable \n",
    "* Addition and deletion of elements/values are possible in List.\n",
    "* We represent lists using the [] - Square brackets."
   ]
  },
  {
   "cell_type": "code",
   "execution_count": 6,
   "id": "e5181247",
   "metadata": {},
   "outputs": [],
   "source": [
    "r3 = range(4,18,2)\n",
    "l3 = list(r3)"
   ]
  },
  {
   "cell_type": "code",
   "execution_count": 7,
   "id": "b7e97f4d",
   "metadata": {},
   "outputs": [
    {
     "data": {
      "text/plain": [
       "[4, 6, 8, 10, 12, 14, 16]"
      ]
     },
     "execution_count": 7,
     "metadata": {},
     "output_type": "execute_result"
    }
   ],
   "source": [
    "l3"
   ]
  },
  {
   "cell_type": "markdown",
   "id": "47341904",
   "metadata": {},
   "source": []
  },
  {
   "cell_type": "markdown",
   "id": "3474c9d3",
   "metadata": {},
   "source": [
    "* Iterating over lists\n",
    "  - Using for loop we can iterate over the list\n",
    "   We create a range object and then create a list object. We iterate over the list object using the for loop"
   ]
  },
  {
   "cell_type": "code",
   "execution_count": 10,
   "id": "ee236c48",
   "metadata": {},
   "outputs": [
    {
     "name": "stdout",
     "output_type": "stream",
     "text": [
      "4 6 8 10 12 14 16 20 24 28 32 "
     ]
    }
   ],
   "source": [
    "r3 = range(4,18,2) \n",
    "l3 = list(r3)\n",
    "for i in l3 :\n",
    "    if i > 34:\n",
    "        break\n",
    "    doublei = i*2\n",
    "    if doublei not in l3:\n",
    "        l3.append(doublei)\n",
    "    print(i, end=' ')"
   ]
  },
  {
   "cell_type": "markdown",
   "id": "2d0b64a4",
   "metadata": {},
   "source": [
    "* Slicing the list - we use the ':' and '[]' to slice the list objects\n"
   ]
  },
  {
   "cell_type": "markdown",
   "id": "9ec4289b",
   "metadata": {},
   "source": [
    "* In the example below, we shall build the list using the range object"
   ]
  },
  {
   "cell_type": "code",
   "execution_count": 11,
   "id": "c7d15950",
   "metadata": {},
   "outputs": [
    {
     "data": {
      "text/plain": [
       "[0, 1, 2, 3, 4, 5, 6, 7, 8, 9, 10, 11, 12, 13, 14]"
      ]
     },
     "execution_count": 11,
     "metadata": {},
     "output_type": "execute_result"
    }
   ],
   "source": [
    "slicList = list(range(15))\n",
    "slicList[:]"
   ]
  },
  {
   "cell_type": "markdown",
   "id": "d551ad70",
   "metadata": {},
   "source": [
    "* Slice the l4 list object using the indices from 0 to 5"
   ]
  },
  {
   "cell_type": "code",
   "execution_count": 12,
   "id": "11d99fbd",
   "metadata": {},
   "outputs": [
    {
     "data": {
      "text/plain": [
       "[0, 1, 2, 3, 4]"
      ]
     },
     "execution_count": 12,
     "metadata": {},
     "output_type": "execute_result"
    }
   ],
   "source": [
    "slicList[0:5]"
   ]
  },
  {
   "cell_type": "markdown",
   "id": "2d0b1dbe",
   "metadata": {},
   "source": [
    "* To reveres the list objects in the following format -\n",
    "  - This will reverse the elements in the reverse format alternate numbers"
   ]
  },
  {
   "cell_type": "code",
   "execution_count": 18,
   "id": "69dd8e3f",
   "metadata": {},
   "outputs": [
    {
     "data": {
      "text/plain": [
       "[14, 13, 12, 11, 10, 9, 8, 7, 6, 5, 4, 3, 2, 1, 0]"
      ]
     },
     "execution_count": 18,
     "metadata": {},
     "output_type": "execute_result"
    }
   ],
   "source": [
    "slicList[::-1]"
   ]
  },
  {
   "cell_type": "code",
   "execution_count": 19,
   "id": "8966affb",
   "metadata": {},
   "outputs": [
    {
     "data": {
      "text/plain": [
       "[14, 12, 10, 8, 6, 4, 2, 0]"
      ]
     },
     "execution_count": 19,
     "metadata": {},
     "output_type": "execute_result"
    }
   ],
   "source": [
    "slicList[::-2]"
   ]
  },
  {
   "cell_type": "markdown",
   "id": "a0b22831",
   "metadata": {},
   "source": [
    "* Can also add step size for the list \n",
    "   - Step value is how much needs to be added to the previous element to get the next elements in the list"
   ]
  },
  {
   "cell_type": "code",
   "execution_count": 22,
   "id": "05378594",
   "metadata": {},
   "outputs": [
    {
     "data": {
      "text/plain": [
       "[1, 3, 5]"
      ]
     },
     "execution_count": 22,
     "metadata": {},
     "output_type": "execute_result"
    }
   ],
   "source": [
    "slicList[1:7:2]"
   ]
  },
  {
   "cell_type": "markdown",
   "id": "3b94d081",
   "metadata": {},
   "source": [
    "* Slicing of String values in the list"
   ]
  },
  {
   "cell_type": "code",
   "execution_count": 13,
   "id": "afde93eb",
   "metadata": {},
   "outputs": [
    {
     "data": {
      "text/plain": [
       "['Abhilash', 'Bharat', 'Chandra', 'Dinesh', 'Elangovan', 'Freddy', 'Girish']"
      ]
     },
     "execution_count": 13,
     "metadata": {},
     "output_type": "execute_result"
    }
   ],
   "source": [
    "names = ['Abhilash','Bharat','Chandra','Dinesh','Elangovan','Freddy','Girish']\n",
    "names[:]"
   ]
  },
  {
   "cell_type": "markdown",
   "id": "84b2b717",
   "metadata": {},
   "source": [
    "* using the index on the names list - to get the values from 1st index and 2nd index"
   ]
  },
  {
   "cell_type": "code",
   "execution_count": 26,
   "id": "f632e778",
   "metadata": {},
   "outputs": [
    {
     "data": {
      "text/plain": [
       "['Bharat', 'Chandra']"
      ]
     },
     "execution_count": 26,
     "metadata": {},
     "output_type": "execute_result"
    }
   ],
   "source": [
    "names[1:3]"
   ]
  },
  {
   "cell_type": "code",
   "execution_count": 27,
   "id": "b09da565",
   "metadata": {},
   "outputs": [
    {
     "data": {
      "text/plain": [
       "['Bharat', 'Chandra', 'Dinesh', 'Elangovan']"
      ]
     },
     "execution_count": 27,
     "metadata": {},
     "output_type": "execute_result"
    }
   ],
   "source": [
    "names[1:5]"
   ]
  },
  {
   "cell_type": "markdown",
   "id": "7bfa2097",
   "metadata": {},
   "source": [
    "* Reversing the list "
   ]
  },
  {
   "cell_type": "code",
   "execution_count": 28,
   "id": "5064949e",
   "metadata": {
    "scrolled": true
   },
   "outputs": [
    {
     "data": {
      "text/plain": [
       "['Girish', 'Freddy', 'Elangovan', 'Dinesh', 'Chandra', 'Bharat', 'Abhilash']"
      ]
     },
     "execution_count": 28,
     "metadata": {},
     "output_type": "execute_result"
    }
   ],
   "source": [
    "names[::-1]"
   ]
  },
  {
   "cell_type": "markdown",
   "id": "470ee8e9",
   "metadata": {},
   "source": [
    "* Check the list now and we shall remove and retrieve the elements using pop\n",
    "  - pop() returns the element and removes the element from the list"
   ]
  },
  {
   "cell_type": "code",
   "execution_count": 29,
   "id": "83f72389",
   "metadata": {
    "scrolled": true
   },
   "outputs": [
    {
     "data": {
      "text/plain": [
       "'Girish'"
      ]
     },
     "execution_count": 29,
     "metadata": {},
     "output_type": "execute_result"
    }
   ],
   "source": [
    "names.pop()"
   ]
  },
  {
   "cell_type": "code",
   "execution_count": 32,
   "id": "5e3f5030",
   "metadata": {},
   "outputs": [
    {
     "data": {
      "text/plain": [
       "['Abhilash', 'Bharat', 'Chandra', 'Dinesh', 'Elangovan', 'Freddy']"
      ]
     },
     "execution_count": 32,
     "metadata": {},
     "output_type": "execute_result"
    }
   ],
   "source": [
    "# As we see in the list below once 'girish' is popped, \n",
    "# there is no 'girish' element at the end.\n",
    "names"
   ]
  },
  {
   "cell_type": "markdown",
   "id": "f44b0c00",
   "metadata": {},
   "source": [
    "* find the length of the list using the len() function"
   ]
  },
  {
   "cell_type": "code",
   "execution_count": 33,
   "id": "38677b0c",
   "metadata": {},
   "outputs": [
    {
     "data": {
      "text/plain": [
       "6"
      ]
     },
     "execution_count": 33,
     "metadata": {},
     "output_type": "execute_result"
    }
   ],
   "source": [
    "len(names)"
   ]
  },
  {
   "cell_type": "markdown",
   "id": "ef42bd27",
   "metadata": {},
   "source": [
    "* remove() - Using the remove function on the list removes the element from the list\n",
    "  - Lets say if we had two values then it removes only first occurrence from the list"
   ]
  },
  {
   "cell_type": "code",
   "execution_count": 34,
   "id": "4e72dc8b",
   "metadata": {},
   "outputs": [],
   "source": [
    "names.remove('Freddy')"
   ]
  },
  {
   "cell_type": "code",
   "execution_count": 35,
   "id": "376f3f6b",
   "metadata": {},
   "outputs": [
    {
     "data": {
      "text/plain": [
       "['Abhilash', 'Bharat', 'Chandra', 'Dinesh', 'Elangovan']"
      ]
     },
     "execution_count": 35,
     "metadata": {},
     "output_type": "execute_result"
    }
   ],
   "source": [
    "# Check the names function and we see that \n",
    "#  Freddy is no longer available in the names list\n",
    "names"
   ]
  },
  {
   "cell_type": "markdown",
   "id": "483113f1",
   "metadata": {},
   "source": [
    "* Let us add two values to the list and then apply remove - \n",
    "  - Farhan is added twice using the append() funciton"
   ]
  },
  {
   "cell_type": "code",
   "execution_count": 36,
   "id": "3556b4b8",
   "metadata": {},
   "outputs": [],
   "source": [
    "names.append('Farhan')\n",
    "names.append('Farhan')"
   ]
  },
  {
   "cell_type": "code",
   "execution_count": 38,
   "id": "4c79b0be",
   "metadata": {},
   "outputs": [
    {
     "data": {
      "text/plain": [
       "['Abhilash', 'Bharat', 'Chandra', 'Dinesh', 'Elangovan', 'Farhan', 'Farhan']"
      ]
     },
     "execution_count": 38,
     "metadata": {},
     "output_type": "execute_result"
    }
   ],
   "source": [
    "## As we see there are two values with the name 'Farhan'\n",
    "names"
   ]
  },
  {
   "cell_type": "markdown",
   "id": "d32a307b",
   "metadata": {},
   "source": [
    "* use remove() on the names list and check the output"
   ]
  },
  {
   "cell_type": "code",
   "execution_count": 39,
   "id": "d4d61f77",
   "metadata": {},
   "outputs": [
    {
     "data": {
      "text/plain": [
       "['Abhilash', 'Bharat', 'Chandra', 'Dinesh', 'Elangovan', 'Farhan']"
      ]
     },
     "execution_count": 39,
     "metadata": {},
     "output_type": "execute_result"
    }
   ],
   "source": [
    "names.remove('Farhan')\n",
    "names ## There is only one value of 'Farhan' in the list"
   ]
  },
  {
   "cell_type": "markdown",
   "id": "15805bba",
   "metadata": {},
   "source": [
    "* extend() can add multiple elements to the list "
   ]
  },
  {
   "cell_type": "code",
   "execution_count": 14,
   "id": "00cae3f2",
   "metadata": {},
   "outputs": [],
   "source": [
    "names.extend(['Giridhar','Hema','Jishnu'])"
   ]
  },
  {
   "cell_type": "code",
   "execution_count": 15,
   "id": "e89caec9",
   "metadata": {},
   "outputs": [
    {
     "data": {
      "text/plain": [
       "['Abhilash',\n",
       " 'Bharat',\n",
       " 'Chandra',\n",
       " 'Dinesh',\n",
       " 'Elangovan',\n",
       " 'Freddy',\n",
       " 'Girish',\n",
       " 'Giridhar',\n",
       " 'Hema',\n",
       " 'Jishnu']"
      ]
     },
     "execution_count": 15,
     "metadata": {},
     "output_type": "execute_result"
    }
   ],
   "source": [
    "## Display the elements with the latest names added to the list\n",
    "names"
   ]
  },
  {
   "cell_type": "markdown",
   "id": "30650c32",
   "metadata": {},
   "source": [
    "* Reverse the original list using reverse() function on the list\n",
    "  - reverse() function reverses the list and generates the output"
   ]
  },
  {
   "cell_type": "code",
   "execution_count": 16,
   "id": "659a2e21",
   "metadata": {},
   "outputs": [],
   "source": [
    "names.reverse()"
   ]
  },
  {
   "cell_type": "code",
   "execution_count": 17,
   "id": "68ad69c9",
   "metadata": {},
   "outputs": [
    {
     "data": {
      "text/plain": [
       "['Jishnu',\n",
       " 'Hema',\n",
       " 'Giridhar',\n",
       " 'Girish',\n",
       " 'Freddy',\n",
       " 'Elangovan',\n",
       " 'Dinesh',\n",
       " 'Chandra',\n",
       " 'Bharat',\n",
       " 'Abhilash']"
      ]
     },
     "execution_count": 17,
     "metadata": {},
     "output_type": "execute_result"
    }
   ],
   "source": [
    "names # The list has been reversed and stores the values \n",
    "      # in the list in reverse order"
   ]
  },
  {
   "cell_type": "markdown",
   "id": "5b6026e8",
   "metadata": {},
   "source": [
    "* clear() method is used to empty the lists"
   ]
  },
  {
   "cell_type": "code",
   "execution_count": 18,
   "id": "f5825719",
   "metadata": {},
   "outputs": [],
   "source": [
    "names.clear()"
   ]
  },
  {
   "cell_type": "code",
   "execution_count": 19,
   "id": "60a34c55",
   "metadata": {},
   "outputs": [
    {
     "data": {
      "text/plain": [
       "[]"
      ]
     },
     "execution_count": 19,
     "metadata": {},
     "output_type": "execute_result"
    }
   ],
   "source": [
    "names ## In the above cell , clear() was used \n",
    "      ## to clear the list and now we have no values in the list"
   ]
  },
  {
   "cell_type": "markdown",
   "id": "0be2ff8b",
   "metadata": {},
   "source": [
    "* Iterating over the lists using for loop"
   ]
  },
  {
   "cell_type": "code",
   "execution_count": 50,
   "id": "c11eea3d",
   "metadata": {},
   "outputs": [],
   "source": [
    "### Lets us add the friends to the names list"
   ]
  },
  {
   "cell_type": "code",
   "execution_count": 20,
   "id": "da3cede9",
   "metadata": {},
   "outputs": [],
   "source": [
    "names = ['Abhilash','Bharat','Chandra','Dinesh','Elangovan','Freddy','Girish']"
   ]
  },
  {
   "cell_type": "code",
   "execution_count": 21,
   "id": "bcd17da2",
   "metadata": {},
   "outputs": [
    {
     "name": "stdout",
     "output_type": "stream",
     "text": [
      "Abhilash,Bharat,Chandra,Dinesh,Elangovan,Freddy,Girish,"
     ]
    }
   ],
   "source": [
    "for friend in names:\n",
    "    print(friend, end =',') ## We can print the value as show in this"
   ]
  },
  {
   "cell_type": "markdown",
   "id": "64cf3eb3",
   "metadata": {},
   "source": [
    "* Exercise - Add names from the input prompt and store the values in the list"
   ]
  },
  {
   "cell_type": "code",
   "execution_count": 3,
   "id": "c49797a5",
   "metadata": {},
   "outputs": [
    {
     "name": "stdout",
     "output_type": "stream",
     "text": [
      " Would you like to add a name ? Type yes/y or no/n : What\n",
      "Wrong Input -- Can accept only yes/y or no/n .. Exiting....\n"
     ]
    }
   ],
   "source": [
    "frNames= [] \n",
    "while True: \n",
    "    addName = input(' Would you like to add a name ? Type yes/y or no/n : ')\n",
    "    addName = addName.lower()\n",
    "    if addName == 'yes' or  addName == 'y' :\n",
    "        name = input('Enter the name of the friend :  ')\n",
    "        frNames.append(name)\n",
    "    elif addName == 'no' or addName == 'n':\n",
    "        print('No more names are added -- Good bye !!')\n",
    "        print('The friends list are {}'.format(frNames))\n",
    "        break\n",
    "    else:\n",
    "        print('Wrong Input -- Can accept only yes/y or no/n .. Exiting....')\n",
    "        break"
   ]
  },
  {
   "cell_type": "markdown",
   "id": "740b5a78",
   "metadata": {},
   "source": [
    "* Elements of the list can be sorted using sort() function"
   ]
  },
  {
   "cell_type": "code",
   "execution_count": 58,
   "id": "734deb27",
   "metadata": {},
   "outputs": [],
   "source": [
    "frNames.sort()"
   ]
  },
  {
   "cell_type": "code",
   "execution_count": 60,
   "id": "63e8b133",
   "metadata": {},
   "outputs": [
    {
     "data": {
      "text/plain": [
       "['Bindu', 'Chandra', 'abhishek']"
      ]
     },
     "execution_count": 60,
     "metadata": {},
     "output_type": "execute_result"
    }
   ],
   "source": [
    "frNames"
   ]
  },
  {
   "cell_type": "markdown",
   "id": "63908f67",
   "metadata": {},
   "source": [
    "* geting the index of a 'Chandra' from the list using index()"
   ]
  },
  {
   "cell_type": "code",
   "execution_count": 62,
   "id": "07c05c44",
   "metadata": {},
   "outputs": [
    {
     "data": {
      "text/plain": [
       "1"
      ]
     },
     "execution_count": 62,
     "metadata": {},
     "output_type": "execute_result"
    }
   ],
   "source": [
    "frNames.index('Chandra')"
   ]
  },
  {
   "cell_type": "markdown",
   "id": "76e4f030",
   "metadata": {},
   "source": [
    "* sum() function on the list object\n",
    "- sum() function is used to calculate the sum of the iterable objects\n",
    "- In the below example, we pass list to sum function \n",
    "- len() function gives the length of the iterable or the list\n",
    "- Average/mean can be computed using the sum() and len() function"
   ]
  },
  {
   "cell_type": "code",
   "execution_count": 3,
   "id": "d3f9dd60",
   "metadata": {},
   "outputs": [
    {
     "name": "stdout",
     "output_type": "stream",
     "text": [
      "Sum of the list of elements 92\n",
      "[10, 11, 12, 13, 14, 15, 17]\n",
      "13.142857142857142\n"
     ]
    }
   ],
   "source": [
    "## Lets build a list using 10,11,12,13,14,15,16 - \n",
    "## The sum of all the elements in the list can be computed\n",
    "## in two ways  - sum(intList) or using for loops\n",
    "intList = [10,11,12,13,14,15,17]\n",
    "print('Sum of the list of elements',sum(intList))\n",
    "print(intList)\n",
    "numOfEle = len(intList)\n",
    "meanIntLIst = sum(intList)/numOfEle\n",
    "print(meanIntLIst)"
   ]
  },
  {
   "cell_type": "markdown",
   "id": "851081be",
   "metadata": {},
   "source": [
    "* sum of the elements using the for loop"
   ]
  },
  {
   "cell_type": "code",
   "execution_count": 64,
   "id": "e3981340",
   "metadata": {},
   "outputs": [
    {
     "name": "stdout",
     "output_type": "stream",
     "text": [
      "91\n"
     ]
    }
   ],
   "source": [
    "intList = 10,11,12,13,14,15,16\n",
    "slist = 0\n",
    "for i in intList:\n",
    "    slist += i\n",
    "print(slist) "
   ]
  },
  {
   "cell_type": "markdown",
   "id": "7cdf30df",
   "metadata": {},
   "source": [
    "* list comprehensions are writing simple code in a single line"
   ]
  },
  {
   "cell_type": "code",
   "execution_count": 65,
   "id": "02f9558f",
   "metadata": {},
   "outputs": [],
   "source": [
    "## Based on the range object lets find the square of each number\n",
    "y = [x**2 for x in range(5)]"
   ]
  },
  {
   "cell_type": "code",
   "execution_count": 66,
   "id": "f0566a47",
   "metadata": {},
   "outputs": [
    {
     "data": {
      "text/plain": [
       "[0, 1, 4, 9, 16]"
      ]
     },
     "execution_count": 66,
     "metadata": {},
     "output_type": "execute_result"
    }
   ],
   "source": [
    "y"
   ]
  },
  {
   "cell_type": "markdown",
   "id": "9a5cdb97",
   "metadata": {},
   "source": [
    "* Condition in the List Comprehension"
   ]
  },
  {
   "cell_type": "code",
   "execution_count": 67,
   "id": "9b147d19",
   "metadata": {},
   "outputs": [
    {
     "name": "stdout",
     "output_type": "stream",
     "text": [
      "[0, 4, 16, 36, 64]\n"
     ]
    }
   ],
   "source": [
    "## We can also include condition within the for comrephension\n",
    "y = [x**2 for x in range(10) if x%2 == 0 ]\n",
    "print(y)"
   ]
  },
  {
   "cell_type": "markdown",
   "id": "3ccdedbe",
   "metadata": {},
   "source": [
    "* Condition with the string values/list"
   ]
  },
  {
   "cell_type": "code",
   "execution_count": 6,
   "id": "ea44ca07",
   "metadata": {},
   "outputs": [],
   "source": [
    "### return if only list contains letters starting with s\n",
    "names = ['sunday','super','semi-conductor','non-conductor','mango','apple']\n",
    "y = [x for x in names if x.startswith('s')]"
   ]
  },
  {
   "cell_type": "code",
   "execution_count": 7,
   "id": "36cfa8f0",
   "metadata": {},
   "outputs": [
    {
     "data": {
      "text/plain": [
       "['sunday', 'super', 'semi-conductor']"
      ]
     },
     "execution_count": 7,
     "metadata": {},
     "output_type": "execute_result"
    }
   ],
   "source": [
    "y"
   ]
  },
  {
   "cell_type": "code",
   "execution_count": 8,
   "id": "c4a58bf9",
   "metadata": {},
   "outputs": [],
   "source": [
    "del y[0]"
   ]
  },
  {
   "cell_type": "code",
   "execution_count": 9,
   "id": "ef6f46b2",
   "metadata": {},
   "outputs": [
    {
     "data": {
      "text/plain": [
       "['super', 'semi-conductor']"
      ]
     },
     "execution_count": 9,
     "metadata": {},
     "output_type": "execute_result"
    }
   ],
   "source": [
    "y"
   ]
  },
  {
   "cell_type": "markdown",
   "id": "98868e1b",
   "metadata": {},
   "source": [
    "### Tuples\n",
    " * ` Tuples` are immutable objects that can be represented in ()\n",
    "   - We cannot add,modify or remove elements from Tuples\n",
    " - Tuples can be accessed using indices\n",
    " - Tuples are created by passing values to ()\n",
    " - Tuples can iterated using for loop\n",
    " - Tuple values can be assigned to multiple variables in a single line"
   ]
  },
  {
   "cell_type": "code",
   "execution_count": 12,
   "id": "5be7f796",
   "metadata": {},
   "outputs": [
    {
     "data": {
      "text/plain": [
       "'Mango'"
      ]
     },
     "execution_count": 12,
     "metadata": {},
     "output_type": "execute_result"
    }
   ],
   "source": [
    "tup1 = (25,'Mango','Rajesh',40,25,24,25)\n",
    "tup1[1]"
   ]
  },
  {
   "cell_type": "code",
   "execution_count": 13,
   "id": "8397545c",
   "metadata": {},
   "outputs": [
    {
     "data": {
      "text/plain": [
       "40"
      ]
     },
     "execution_count": 13,
     "metadata": {},
     "output_type": "execute_result"
    }
   ],
   "source": [
    "tup1[3]"
   ]
  },
  {
   "cell_type": "code",
   "execution_count": 72,
   "id": "ec5c03e0",
   "metadata": {},
   "outputs": [
    {
     "name": "stdout",
     "output_type": "stream",
     "text": [
      "25\n",
      "Mango\n",
      "Rajesh\n",
      "40\n",
      "25\n",
      "24\n",
      "25\n"
     ]
    }
   ],
   "source": [
    "### Tuples can be iterated over using for loop \n",
    "for x in tup1:\n",
    "    print(x)"
   ]
  },
  {
   "cell_type": "code",
   "execution_count": 73,
   "id": "ce124e4e",
   "metadata": {},
   "outputs": [
    {
     "ename": "TypeError",
     "evalue": "'tuple' object does not support item assignment",
     "output_type": "error",
     "traceback": [
      "\u001b[1;31m---------------------------------------------------------------------------\u001b[0m",
      "\u001b[1;31mTypeError\u001b[0m                                 Traceback (most recent call last)",
      "Cell \u001b[1;32mIn[73], line 2\u001b[0m\n\u001b[0;32m      1\u001b[0m \u001b[38;5;66;03m## Assigning a value to tuple shows error - tuple object does not support assignment\u001b[39;00m\n\u001b[1;32m----> 2\u001b[0m tup1[\u001b[38;5;241m0\u001b[39m] \u001b[38;5;241m=\u001b[39m \u001b[38;5;241m35\u001b[39m\n",
      "\u001b[1;31mTypeError\u001b[0m: 'tuple' object does not support item assignment"
     ]
    }
   ],
   "source": [
    "#  Assigning a value to tuple shows error \n",
    "#  - tuple object does not support assignment\n",
    "tup1[0] = 35"
   ]
  },
  {
   "cell_type": "code",
   "execution_count": 14,
   "id": "bbbf1336",
   "metadata": {},
   "outputs": [
    {
     "data": {
      "text/plain": [
       "3"
      ]
     },
     "execution_count": 14,
     "metadata": {},
     "output_type": "execute_result"
    }
   ],
   "source": [
    "## Count function gives the count of the element in the tuple\n",
    "tup1.count(25)"
   ]
  },
  {
   "cell_type": "markdown",
   "id": "cdb7704d",
   "metadata": {},
   "source": [
    "* A negative index starts from the end of the tuple. It starts at -1"
   ]
  },
  {
   "cell_type": "code",
   "execution_count": 15,
   "id": "e7228b6b",
   "metadata": {
    "scrolled": true
   },
   "outputs": [
    {
     "data": {
      "text/plain": [
       "25"
      ]
     },
     "execution_count": 15,
     "metadata": {},
     "output_type": "execute_result"
    }
   ],
   "source": [
    "tup1[-1]"
   ]
  },
  {
   "cell_type": "markdown",
   "id": "f643c1d0",
   "metadata": {},
   "source": [
    "* len() function on the tuple. when applied on tuple gives the length of the tuple"
   ]
  },
  {
   "cell_type": "code",
   "execution_count": 78,
   "id": "0f035223",
   "metadata": {},
   "outputs": [
    {
     "data": {
      "text/plain": [
       "7"
      ]
     },
     "execution_count": 78,
     "metadata": {},
     "output_type": "execute_result"
    }
   ],
   "source": [
    "len(tup1)"
   ]
  },
  {
   "cell_type": "markdown",
   "id": "72e5278e",
   "metadata": {},
   "source": [
    "* Accessing last element using the len() function "
   ]
  },
  {
   "cell_type": "code",
   "execution_count": 79,
   "id": "8186dd45",
   "metadata": {},
   "outputs": [
    {
     "data": {
      "text/plain": [
       "25"
      ]
     },
     "execution_count": 79,
     "metadata": {},
     "output_type": "execute_result"
    }
   ],
   "source": [
    "tup1[len(tup1) - 1]"
   ]
  },
  {
   "cell_type": "markdown",
   "id": "1d56324f",
   "metadata": {},
   "source": [
    "* As the tuples are immutable we cannot add, modify , remove or replace the elements in tuples\n",
    "* If the tuples contain mutable datastructures however we can modify the elements within them </br>\n",
    "Let us look at the example below for more details"
   ]
  },
  {
   "cell_type": "code",
   "execution_count": 80,
   "id": "2ac878d0",
   "metadata": {},
   "outputs": [],
   "source": [
    "names = (['Rajesh','Mukesh'],['Sangeeta','Rithika'])"
   ]
  },
  {
   "cell_type": "code",
   "execution_count": 84,
   "id": "966bd725",
   "metadata": {},
   "outputs": [
    {
     "data": {
      "text/plain": [
       "['Rajesh', 'Mukesh']"
      ]
     },
     "execution_count": 84,
     "metadata": {},
     "output_type": "execute_result"
    }
   ],
   "source": [
    "names[0]"
   ]
  },
  {
   "cell_type": "code",
   "execution_count": 85,
   "id": "79df528c",
   "metadata": {},
   "outputs": [
    {
     "data": {
      "text/plain": [
       "['Sangeeta', 'Rithika']"
      ]
     },
     "execution_count": 85,
     "metadata": {},
     "output_type": "execute_result"
    }
   ],
   "source": [
    "names[1]"
   ]
  },
  {
   "cell_type": "code",
   "execution_count": 82,
   "id": "20869495",
   "metadata": {},
   "outputs": [
    {
     "ename": "TypeError",
     "evalue": "'tuple' object does not support item assignment",
     "output_type": "error",
     "traceback": [
      "\u001b[1;31m---------------------------------------------------------------------------\u001b[0m",
      "\u001b[1;31mTypeError\u001b[0m                                 Traceback (most recent call last)",
      "Cell \u001b[1;32mIn[82], line 3\u001b[0m\n\u001b[0;32m      1\u001b[0m \u001b[38;5;66;03m# This kind of direct assignment to the tuple is not possible ,\u001b[39;00m\n\u001b[0;32m      2\u001b[0m \u001b[38;5;66;03m# where we are assigning the list elements directly to the tuples first value\u001b[39;00m\n\u001b[1;32m----> 3\u001b[0m names[\u001b[38;5;241m0\u001b[39m] \u001b[38;5;241m=\u001b[39m [\u001b[38;5;124m'\u001b[39m\u001b[38;5;124mAbhishek\u001b[39m\u001b[38;5;124m'\u001b[39m,\u001b[38;5;124m'\u001b[39m\u001b[38;5;124mBrijesh\u001b[39m\u001b[38;5;124m'\u001b[39m]\n",
      "\u001b[1;31mTypeError\u001b[0m: 'tuple' object does not support item assignment"
     ]
    }
   ],
   "source": [
    "# This kind of direct assignment to the tuple is not possible ,\n",
    "# where we are assigning the list elements directly to the tuples first value\n",
    "names[0] = ['Abhishek','Brijesh']"
   ]
  },
  {
   "cell_type": "markdown",
   "id": "cdad630d",
   "metadata": {},
   "source": [
    "* To access list inside tuple we shall use two indices like the ones used in matrices\n",
    "- please note that the lists are mutable objects , whereas tuples are not mutable"
   ]
  },
  {
   "cell_type": "code",
   "execution_count": 87,
   "id": "3973fa26",
   "metadata": {},
   "outputs": [],
   "source": [
    "## We access the inside elements using the syntax below\n",
    "names[0][0] = 'Abhishek Bachan'"
   ]
  },
  {
   "cell_type": "code",
   "execution_count": 88,
   "id": "b80721f7",
   "metadata": {},
   "outputs": [
    {
     "data": {
      "text/plain": [
       "(['Abhishek Bachan', 'Mukesh'], ['Sangeeta', 'Rithika'])"
      ]
     },
     "execution_count": 88,
     "metadata": {},
     "output_type": "execute_result"
    }
   ],
   "source": [
    "names"
   ]
  },
  {
   "cell_type": "code",
   "execution_count": 89,
   "id": "c7e4296c",
   "metadata": {},
   "outputs": [],
   "source": [
    "names[0][1] = 'Mukesh Khanna'"
   ]
  },
  {
   "cell_type": "code",
   "execution_count": 90,
   "id": "7d79ab08",
   "metadata": {},
   "outputs": [
    {
     "data": {
      "text/plain": [
       "(['Abhishek Bachan', 'Mukesh Khanna'], ['Sangeeta', 'Rithika'])"
      ]
     },
     "execution_count": 90,
     "metadata": {},
     "output_type": "execute_result"
    }
   ],
   "source": [
    "names"
   ]
  },
  {
   "cell_type": "markdown",
   "id": "8f5d6710",
   "metadata": {},
   "source": [
    "* Earlier we have seen the assignment of multilpe values in a single line\n",
    "* Lets us assign multiple values to a single variable and see how the value is assigned"
   ]
  },
  {
   "cell_type": "code",
   "execution_count": 16,
   "id": "8b772e4d",
   "metadata": {},
   "outputs": [],
   "source": [
    "a,b = 10,20"
   ]
  },
  {
   "cell_type": "code",
   "execution_count": 17,
   "id": "7a9c915c",
   "metadata": {},
   "outputs": [],
   "source": [
    "val1 = a,b,a+b"
   ]
  },
  {
   "cell_type": "code",
   "execution_count": 18,
   "id": "019f0691",
   "metadata": {
    "scrolled": true
   },
   "outputs": [
    {
     "data": {
      "text/plain": [
       "(10, 20, 30)"
      ]
     },
     "execution_count": 18,
     "metadata": {},
     "output_type": "execute_result"
    }
   ],
   "source": [
    "## We see the value assigned is a tuple\n",
    "val1"
   ]
  },
  {
   "cell_type": "markdown",
   "id": "2af68227",
   "metadata": {},
   "source": [
    "* A tuple is returned from a functon from where it is called if the function returns multiple values"
   ]
  },
  {
   "cell_type": "code",
   "execution_count": 94,
   "id": "0d7b87e6",
   "metadata": {},
   "outputs": [],
   "source": [
    "def studentDetails():\n",
    "    name = 'Ajay'\n",
    "    subject = 'Python'\n",
    "    course = 'BBA'\n",
    "    return name,subject, course"
   ]
  },
  {
   "cell_type": "code",
   "execution_count": 95,
   "id": "a69202f5",
   "metadata": {},
   "outputs": [],
   "source": [
    "details = studentDetails()"
   ]
  },
  {
   "cell_type": "code",
   "execution_count": 96,
   "id": "d969aec0",
   "metadata": {},
   "outputs": [
    {
     "data": {
      "text/plain": [
       "('Ajay', 'Python', 'BBA')"
      ]
     },
     "execution_count": 96,
     "metadata": {},
     "output_type": "execute_result"
    }
   ],
   "source": [
    "details"
   ]
  },
  {
   "cell_type": "markdown",
   "id": "5f82157d",
   "metadata": {},
   "source": [
    "* In order to hold values in  different variables from a tuple"
   ]
  },
  {
   "cell_type": "code",
   "execution_count": 19,
   "id": "eaa4e534",
   "metadata": {},
   "outputs": [],
   "source": [
    "a,b ,c = (10,20,30)"
   ]
  },
  {
   "cell_type": "code",
   "execution_count": 20,
   "id": "ffbd3bcb",
   "metadata": {},
   "outputs": [
    {
     "name": "stdout",
     "output_type": "stream",
     "text": [
      "Values are 10 , 20 , 30\n"
     ]
    }
   ],
   "source": [
    "print('Values are {} , {} , {}'.format(a,b,c))"
   ]
  },
  {
   "cell_type": "markdown",
   "id": "c5f3f97f",
   "metadata": {},
   "source": [
    "* type and len functions on tuple"
   ]
  },
  {
   "cell_type": "code",
   "execution_count": 99,
   "id": "412c5477",
   "metadata": {},
   "outputs": [],
   "source": [
    "t1 = (10,'Chocolate',20,'Amul')"
   ]
  },
  {
   "cell_type": "code",
   "execution_count": 100,
   "id": "7e0f106b",
   "metadata": {},
   "outputs": [
    {
     "data": {
      "text/plain": [
       "(10, 'Chocolate', 20, 'Amul')"
      ]
     },
     "execution_count": 100,
     "metadata": {},
     "output_type": "execute_result"
    }
   ],
   "source": [
    "t1"
   ]
  },
  {
   "cell_type": "code",
   "execution_count": 101,
   "id": "eecb03dc",
   "metadata": {},
   "outputs": [
    {
     "data": {
      "text/plain": [
       "tuple"
      ]
     },
     "execution_count": 101,
     "metadata": {},
     "output_type": "execute_result"
    }
   ],
   "source": [
    "type(t1)"
   ]
  },
  {
   "cell_type": "code",
   "execution_count": 102,
   "id": "4b6782ab",
   "metadata": {},
   "outputs": [
    {
     "data": {
      "text/plain": [
       "4"
      ]
     },
     "execution_count": 102,
     "metadata": {},
     "output_type": "execute_result"
    }
   ],
   "source": [
    "len(t1)"
   ]
  },
  {
   "cell_type": "code",
   "execution_count": 103,
   "id": "56c6b760",
   "metadata": {},
   "outputs": [
    {
     "data": {
      "text/plain": [
       "(tuple, 4)"
      ]
     },
     "execution_count": 103,
     "metadata": {},
     "output_type": "execute_result"
    }
   ],
   "source": [
    "type(t1),len(t1)"
   ]
  },
  {
   "cell_type": "markdown",
   "id": "3eb643b0",
   "metadata": {},
   "source": [
    "* Converting tuples to list and back to tuples"
   ]
  },
  {
   "cell_type": "code",
   "execution_count": 104,
   "id": "33e4a942",
   "metadata": {},
   "outputs": [
    {
     "data": {
      "text/plain": [
       "(10, 'Chocolate', 20, 'Amul')"
      ]
     },
     "execution_count": 104,
     "metadata": {},
     "output_type": "execute_result"
    }
   ],
   "source": [
    "t1"
   ]
  },
  {
   "cell_type": "code",
   "execution_count": 105,
   "id": "579da1cc",
   "metadata": {},
   "outputs": [],
   "source": [
    "l1 = list(t1)"
   ]
  },
  {
   "cell_type": "code",
   "execution_count": 106,
   "id": "d355adba",
   "metadata": {},
   "outputs": [
    {
     "data": {
      "text/plain": [
       "[10, 'Chocolate', 20, 'Amul']"
      ]
     },
     "execution_count": 106,
     "metadata": {},
     "output_type": "execute_result"
    }
   ],
   "source": [
    "l1"
   ]
  },
  {
   "cell_type": "code",
   "execution_count": 107,
   "id": "107c07d2",
   "metadata": {},
   "outputs": [],
   "source": [
    "l1[1] = 'Butter Scotch'"
   ]
  },
  {
   "cell_type": "code",
   "execution_count": 108,
   "id": "4ec1d799",
   "metadata": {},
   "outputs": [
    {
     "data": {
      "text/plain": [
       "[10, 'Butter Scotch', 20, 'Amul']"
      ]
     },
     "execution_count": 108,
     "metadata": {},
     "output_type": "execute_result"
    }
   ],
   "source": [
    "l1"
   ]
  },
  {
   "cell_type": "code",
   "execution_count": 109,
   "id": "9e4086f8",
   "metadata": {},
   "outputs": [
    {
     "data": {
      "text/plain": [
       "list"
      ]
     },
     "execution_count": 109,
     "metadata": {},
     "output_type": "execute_result"
    }
   ],
   "source": [
    "type(l1)"
   ]
  },
  {
   "cell_type": "markdown",
   "id": "ffe21b28",
   "metadata": {},
   "source": [
    "* Converting the list back to tuple"
   ]
  },
  {
   "cell_type": "code",
   "execution_count": 110,
   "id": "87853139",
   "metadata": {},
   "outputs": [],
   "source": [
    "t2 = tuple(l1)"
   ]
  },
  {
   "cell_type": "code",
   "execution_count": 111,
   "id": "64788685",
   "metadata": {},
   "outputs": [
    {
     "data": {
      "text/plain": [
       "(10, 'Butter Scotch', 20, 'Amul')"
      ]
     },
     "execution_count": 111,
     "metadata": {},
     "output_type": "execute_result"
    }
   ],
   "source": [
    "t2"
   ]
  },
  {
   "cell_type": "markdown",
   "id": "5c798847",
   "metadata": {},
   "source": [
    "**Exercise**"
   ]
  },
  {
   "cell_type": "code",
   "execution_count": 1,
   "id": "45ebb3e6",
   "metadata": {},
   "outputs": [
    {
     "name": "stdout",
     "output_type": "stream",
     "text": [
      "[(2, 5), (2, 6), (3, 2), (3, 5), (3, 6), (4, 2), (4, 5), (4, 6)]\n"
     ]
    }
   ],
   "source": [
    "## Exercise - There are two list [2,3,4] and [2,5,6] \n",
    "## -Get a combination (x,y) \n",
    "## x is the element from first list, \n",
    "## y is the element from second list - Get combinations (x,y) \n",
    "## such that x is not equal to y\n",
    "\n",
    "x = [2,3,4]\n",
    "y = [2,5,6]\n",
    "output = [(a,b) for a in x for b in y if a!=b]\n",
    "print(output)"
   ]
  },
  {
   "cell_type": "markdown",
   "id": "445400fe",
   "metadata": {},
   "source": [
    "* **Sets in Python**\n",
    "  - Sets contain unique elements  \n",
    "  - Sets are unordered sequence of elements\n",
    "  - They are represented using the {} (curly braces)"
   ]
  },
  {
   "cell_type": "code",
   "execution_count": 113,
   "id": "65816d79",
   "metadata": {},
   "outputs": [
    {
     "data": {
      "text/plain": [
       "{'Kiran', 'Mahesh', 'Ravi', 'Suraj', 'Surya'}"
      ]
     },
     "execution_count": 113,
     "metadata": {},
     "output_type": "execute_result"
    }
   ],
   "source": [
    "elements = {'Mahesh','Mahesh','Suraj','Ravi','Kiran','Surya'}\n",
    "elements"
   ]
  },
  {
   "cell_type": "code",
   "execution_count": 5,
   "id": "f749dda1",
   "metadata": {},
   "outputs": [
    {
     "data": {
      "text/plain": [
       "{'A', 'Kiran', 'Mahesh', 'Ravi', 'Suraj', 'Surya', 'Z'}"
      ]
     },
     "execution_count": 5,
     "metadata": {},
     "output_type": "execute_result"
    }
   ],
   "source": [
    "# Sets can be constructed using the following set \n",
    "# keyword and passing a list to it\n",
    "eles = set(['Z','A','A','Mahesh','Mahesh','Suraj','Ravi','Kiran','Surya'])\n",
    "eles"
   ]
  },
  {
   "cell_type": "code",
   "execution_count": 3,
   "id": "1573d409",
   "metadata": {},
   "outputs": [
    {
     "ename": "TypeError",
     "evalue": "'set' object is not subscriptable",
     "output_type": "error",
     "traceback": [
      "\u001b[1;31m---------------------------------------------------------------------------\u001b[0m",
      "\u001b[1;31mTypeError\u001b[0m                                 Traceback (most recent call last)",
      "Cell \u001b[1;32mIn[3], line 1\u001b[0m\n\u001b[1;32m----> 1\u001b[0m \u001b[43meles\u001b[49m\u001b[43m[\u001b[49m\u001b[38;5;241;43m0\u001b[39;49m\u001b[43m]\u001b[49m\n",
      "\u001b[1;31mTypeError\u001b[0m: 'set' object is not subscriptable"
     ]
    }
   ],
   "source": [
    "eles[0]"
   ]
  },
  {
   "cell_type": "markdown",
   "id": "7d9e1b94",
   "metadata": {},
   "source": [
    "* Iteration over sets in python"
   ]
  },
  {
   "cell_type": "code",
   "execution_count": 115,
   "id": "0b20d711",
   "metadata": {},
   "outputs": [
    {
     "data": {
      "text/plain": [
       "{'Kiran', 'Mahesh', 'Ravi', 'Suraj', 'Surya'}"
      ]
     },
     "execution_count": 115,
     "metadata": {},
     "output_type": "execute_result"
    }
   ],
   "source": [
    "elements"
   ]
  },
  {
   "cell_type": "code",
   "execution_count": 116,
   "id": "0a80d2ee",
   "metadata": {},
   "outputs": [
    {
     "name": "stdout",
     "output_type": "stream",
     "text": [
      "Kiran\n",
      "Suraj\n",
      "Mahesh\n",
      "Ravi\n",
      "Surya\n"
     ]
    }
   ],
   "source": [
    "for x in elements:\n",
    "    print(x)"
   ]
  },
  {
   "cell_type": "code",
   "execution_count": 9,
   "id": "c3fa7e5d",
   "metadata": {},
   "outputs": [
    {
     "data": {
      "text/plain": [
       "5"
      ]
     },
     "execution_count": 9,
     "metadata": {},
     "output_type": "execute_result"
    }
   ],
   "source": [
    "## The set elements are given below - We can represent the data as \n",
    "# els = {'Mahesh','Mahesh','Suraj','Ravi','Kiran','Surya'}\n",
    "els = {'Mahesh','Mahesh','Suraj','Ravi','Kiran','Surya'}\n",
    "len(els)"
   ]
  },
  {
   "cell_type": "code",
   "execution_count": 10,
   "id": "8d8ac7fa",
   "metadata": {},
   "outputs": [],
   "source": [
    "### Add the following element to the set elements 'Mitra' using add function\n",
    "els.add('Mitra')"
   ]
  },
  {
   "cell_type": "code",
   "execution_count": 11,
   "id": "34da0341",
   "metadata": {},
   "outputs": [
    {
     "data": {
      "text/plain": [
       "{'Kiran', 'Mahesh', 'Mitra', 'Ravi', 'Suraj', 'Surya'}"
      ]
     },
     "execution_count": 11,
     "metadata": {},
     "output_type": "execute_result"
    }
   ],
   "source": [
    "els"
   ]
  },
  {
   "cell_type": "code",
   "execution_count": 7,
   "id": "87b471a6",
   "metadata": {},
   "outputs": [],
   "source": [
    "## Lets create one more set els2 = els2 = {'kiran','Mahesh', 'Mitra'}\n",
    "els2 = {'kiran','Mahesh', 'Mitra'}"
   ]
  },
  {
   "cell_type": "markdown",
   "id": "6fa43a8f",
   "metadata": {},
   "source": [
    "* seta.difference(setb) - Difference gives the elements that are in sets"
   ]
  },
  {
   "cell_type": "code",
   "execution_count": null,
   "id": "bc75603d",
   "metadata": {},
   "outputs": [],
   "source": [
    "{'Kiran', 'Mahesh', 'Mitra', 'Ravi', 'Suraj', 'Surya'}\n",
    "{'kiran','Mahesh', 'Mitra'}"
   ]
  },
  {
   "cell_type": "code",
   "execution_count": 11,
   "id": "c0cbe5a2",
   "metadata": {},
   "outputs": [
    {
     "data": {
      "text/plain": [
       "{'Kiran', 'Ravi', 'Suraj', 'Surya'}"
      ]
     },
     "execution_count": 11,
     "metadata": {},
     "output_type": "execute_result"
    }
   ],
   "source": [
    "els.difference(els2)"
   ]
  },
  {
   "cell_type": "code",
   "execution_count": 12,
   "id": "f7661158",
   "metadata": {},
   "outputs": [
    {
     "data": {
      "text/plain": [
       "{'kiran'}"
      ]
     },
     "execution_count": 12,
     "metadata": {},
     "output_type": "execute_result"
    }
   ],
   "source": [
    "els2.difference(els)"
   ]
  },
  {
   "cell_type": "markdown",
   "id": "a51d23a0",
   "metadata": {},
   "source": [
    "* difference_update() - Removes the elements from the other set"
   ]
  },
  {
   "cell_type": "code",
   "execution_count": 12,
   "id": "68432963",
   "metadata": {},
   "outputs": [],
   "source": [
    "els.difference_update(els2)"
   ]
  },
  {
   "cell_type": "code",
   "execution_count": 13,
   "id": "5e729ce8",
   "metadata": {},
   "outputs": [
    {
     "data": {
      "text/plain": [
       "{'Kiran', 'Ravi', 'Suraj', 'Surya'}"
      ]
     },
     "execution_count": 13,
     "metadata": {},
     "output_type": "execute_result"
    }
   ],
   "source": [
    "els"
   ]
  },
  {
   "cell_type": "code",
   "execution_count": 14,
   "id": "5bb196bd",
   "metadata": {},
   "outputs": [
    {
     "data": {
      "text/plain": [
       "{'Mahesh', 'Mitra', 'kiran'}"
      ]
     },
     "execution_count": 14,
     "metadata": {},
     "output_type": "execute_result"
    }
   ],
   "source": [
    "els2"
   ]
  },
  {
   "cell_type": "code",
   "execution_count": 18,
   "id": "24135a88",
   "metadata": {},
   "outputs": [
    {
     "data": {
      "text/plain": [
       "6"
      ]
     },
     "execution_count": 18,
     "metadata": {},
     "output_type": "execute_result"
    }
   ],
   "source": [
    "## Create the set and try to perform union on els and els2\n",
    "els = {'Mahesh','Mahesh','Mitra','Suraj','Ravi','Kiran','Surya'}\n",
    "len(els)"
   ]
  },
  {
   "cell_type": "markdown",
   "id": "76d9f799",
   "metadata": {},
   "source": [
    "* union combines both the sets with unique elements"
   ]
  },
  {
   "cell_type": "code",
   "execution_count": 19,
   "id": "1d64b186",
   "metadata": {},
   "outputs": [
    {
     "data": {
      "text/plain": [
       "{'Kiran', 'Mahesh', 'Mitra', 'Ravi', 'Suraj', 'Surya', 'kiran'}"
      ]
     },
     "execution_count": 19,
     "metadata": {},
     "output_type": "execute_result"
    }
   ],
   "source": [
    "els.union(els2)"
   ]
  },
  {
   "cell_type": "markdown",
   "id": "43d19f1b",
   "metadata": {},
   "source": [
    "* intersection provides the common elements between the sets"
   ]
  },
  {
   "cell_type": "code",
   "execution_count": 20,
   "id": "afa4a84f",
   "metadata": {},
   "outputs": [
    {
     "data": {
      "text/plain": [
       "{'Mahesh', 'Mitra'}"
      ]
     },
     "execution_count": 20,
     "metadata": {},
     "output_type": "execute_result"
    }
   ],
   "source": [
    "els.intersection(els2)"
   ]
  },
  {
   "cell_type": "code",
   "execution_count": 21,
   "id": "5615a216",
   "metadata": {},
   "outputs": [
    {
     "name": "stdout",
     "output_type": "stream",
     "text": [
      "{'Ravi', 'Kiran', 'Mahesh', 'Suraj', 'Mitra', 'Surya'}\n",
      "{'kiran', 'Mahesh', 'Mitra'}\n"
     ]
    }
   ],
   "source": [
    "print(els)\n",
    "print(els2)"
   ]
  },
  {
   "cell_type": "markdown",
   "id": "20a23b82",
   "metadata": {},
   "source": [
    "* Symmetric difference gives the elements that are not common as one single set."
   ]
  },
  {
   "cell_type": "code",
   "execution_count": 22,
   "id": "a9eeec4f",
   "metadata": {},
   "outputs": [
    {
     "data": {
      "text/plain": [
       "{'Kiran', 'Ravi', 'Suraj', 'Surya', 'kiran'}"
      ]
     },
     "execution_count": 22,
     "metadata": {},
     "output_type": "execute_result"
    }
   ],
   "source": [
    "## els.symmetric_difference(els2) gives the common elements between both the sets.\n",
    "els.symmetric_difference(els2)"
   ]
  },
  {
   "cell_type": "markdown",
   "id": "daa3ace1",
   "metadata": {},
   "source": [
    "* Comprehension for set - Similar to for comprehension for Set\n",
    "    - return type is Set when set comprehension is perfromed"
   ]
  },
  {
   "cell_type": "code",
   "execution_count": 13,
   "id": "14c463b4",
   "metadata": {},
   "outputs": [
    {
     "name": "stdout",
     "output_type": "stream",
     "text": [
      "{'Mr Mahesh', 'Mr Suraj', 'Mr Ravi', 'Mr Surya', 'Mr Kiran'}\n"
     ]
    }
   ],
   "source": [
    "listVal =  {'Mahesh','Mahesh','Suraj','Ravi','Kiran','Surya'}\n",
    "uniEle = set()\n",
    "for name in listVal:\n",
    "    name = 'Mr ' + name\n",
    "    uniEle.add(name)\n",
    "print(uniEle)"
   ]
  },
  {
   "cell_type": "code",
   "execution_count": 14,
   "id": "ec0fd2cf",
   "metadata": {},
   "outputs": [
    {
     "data": {
      "text/plain": [
       "{'Mr Kiran', 'Mr Mahesh', 'Mr Ravi', 'Mr Suraj', 'Mr Surya'}"
      ]
     },
     "execution_count": 14,
     "metadata": {},
     "output_type": "execute_result"
    }
   ],
   "source": [
    "listVal = {'Mahesh','Mahesh','Suraj','Ravi','Kiran','Surya'}\n",
    "uniEle = {'Mr ' + x for x in listVal}\n",
    "uniEle"
   ]
  },
  {
   "cell_type": "markdown",
   "id": "730fa0bd",
   "metadata": {},
   "source": [
    "* list can be created using [] or list()\n",
    "* tuple can be created using () or tuple()\n",
    "* Dictionary can be created using {:} or dict()\n",
    "* sets can be created using {} or set()"
   ]
  },
  {
   "cell_type": "markdown",
   "id": "c586a5bf",
   "metadata": {},
   "source": [
    "#### Why are we using data strcutures \n",
    " - We want to store multiple values\n",
    " - List  : Ordered set of values and we want to iterate over the values\n",
    "           Index based accessing\n",
    " - Set : Store only unique elements then we shall go for set or we do not want to allow duplicate elements\n",
    " - Tuple : We do not want to modify the values while storage and no modification of values \n",
    " - Dictionary : We want identifiers for values or key/value pairs"
   ]
  },
  {
   "cell_type": "markdown",
   "id": "350e6fa0",
   "metadata": {},
   "source": [
    "* **Dictionary in Python** - Dictionaries in Python are basically key,value pairs. \n",
    "    - In a dictionary, key can be any unique object\n",
    "    - Keys are unique and non-duplicated\n",
    "    - Values can be duplicated\n",
    "    - Dictionaries can be constructed using the dict() or {:} "
   ]
  },
  {
   "cell_type": "markdown",
   "id": "db07e2a8",
   "metadata": {},
   "source": [
    "* Create Dictionary using the dict() keyword"
   ]
  },
  {
   "cell_type": "code",
   "execution_count": 16,
   "id": "1744a2da",
   "metadata": {},
   "outputs": [
    {
     "name": "stdout",
     "output_type": "stream",
     "text": [
      "{101: 'Suraj', 102: 'Mahesh', 103: 'Surya', 104: 'Ravi', 105: 'Kiran', 106: 'Mitra', 107: 'Mahesh B'}\n"
     ]
    }
   ],
   "source": [
    "idName = dict()\n",
    "idName[101] = 'Suraj'\n",
    "idName[102] = 'Mahesh'\n",
    "idName[103] = 'Surya'\n",
    "idName[104] = 'Ravi'\n",
    "idName[105] = 'Kiran'\n",
    "idName[106] = 'Mitra'\n",
    "idName[107] = 'Mahesh B'\n",
    "print(idName)"
   ]
  },
  {
   "cell_type": "code",
   "execution_count": 17,
   "id": "ba3b940a",
   "metadata": {},
   "outputs": [
    {
     "name": "stdout",
     "output_type": "stream",
     "text": [
      "{101: 'Suraj', 102: 'Mahesh', 103: 'Surya', 104: 'Ravi', 105: 'Kiran', 106: 'Mitra', 109: 'Akhilesh'}\n"
     ]
    }
   ],
   "source": [
    "### Another way of creating the dictionary is the following\n",
    "idName = {101: 'Suraj',102: 'Mahesh',103: 'Surya', \n",
    "          104: 'Ravi', 105: 'Kiran', 106: 'Mitra',\n",
    "          109:'Akhilesh'}\n",
    "print(idName)"
   ]
  },
  {
   "cell_type": "markdown",
   "id": "6044dbb9",
   "metadata": {},
   "source": [
    "* Retrieve the value in the dictionary using key"
   ]
  },
  {
   "cell_type": "code",
   "execution_count": 32,
   "id": "e8ccc130",
   "metadata": {},
   "outputs": [
    {
     "data": {
      "text/plain": [
       "'Suraj'"
      ]
     },
     "execution_count": 32,
     "metadata": {},
     "output_type": "execute_result"
    }
   ],
   "source": [
    "### The dictionary name and the id can be passed to get the value - idName[101]\n",
    "### dictionaryName[keyValue]\n",
    "idName[101]"
   ]
  },
  {
   "cell_type": "markdown",
   "id": "c833ec8b",
   "metadata": {},
   "source": [
    "* Check if the key is in the dictionary"
   ]
  },
  {
   "cell_type": "code",
   "execution_count": 33,
   "id": "780aa5ce",
   "metadata": {},
   "outputs": [
    {
     "data": {
      "text/plain": [
       "True"
      ]
     },
     "execution_count": 33,
     "metadata": {},
     "output_type": "execute_result"
    }
   ],
   "source": [
    "### Check if a particular key is available in the dictionary - 101 in idName\n",
    "101 in idName"
   ]
  },
  {
   "cell_type": "code",
   "execution_count": 18,
   "id": "e990d936",
   "metadata": {},
   "outputs": [
    {
     "name": "stdout",
     "output_type": "stream",
     "text": [
      "False\n",
      "False\n"
     ]
    }
   ],
   "source": [
    "### CHeck if a particular key is not available in the dictionary - 109 not in idName\n",
    "print(109 not in idName)\n",
    "print(110 in idName)"
   ]
  },
  {
   "cell_type": "markdown",
   "id": "7e3f2d56",
   "metadata": {},
   "source": [
    "* iterate over the dictionary using keys()"
   ]
  },
  {
   "cell_type": "code",
   "execution_count": 36,
   "id": "d5f10613",
   "metadata": {},
   "outputs": [
    {
     "data": {
      "text/plain": [
       "dict_keys([101, 102, 103, 104, 105, 106, 109])"
      ]
     },
     "execution_count": 36,
     "metadata": {},
     "output_type": "execute_result"
    }
   ],
   "source": [
    "idName.keys()"
   ]
  },
  {
   "cell_type": "code",
   "execution_count": 35,
   "id": "75c2104e",
   "metadata": {},
   "outputs": [
    {
     "name": "stdout",
     "output_type": "stream",
     "text": [
      "Key is 101\n",
      "Key is 102\n",
      "Key is 103\n",
      "Key is 104\n",
      "Key is 105\n",
      "Key is 106\n",
      "Key is 109\n"
     ]
    }
   ],
   "source": [
    "# We can iterate over the dictionary using the keys() function \n",
    "# on the dictionary.\n",
    "for k in idName.keys():\n",
    "    print(f'Key is {k}')"
   ]
  },
  {
   "cell_type": "markdown",
   "id": "ceda5c5e",
   "metadata": {},
   "source": [
    "* Values for the dictionary using values()"
   ]
  },
  {
   "cell_type": "code",
   "execution_count": 139,
   "id": "fb71af25",
   "metadata": {},
   "outputs": [
    {
     "name": "stdout",
     "output_type": "stream",
     "text": [
      "value is Suraj\n",
      "value is Mahesh\n",
      "value is Surya\n",
      "value is Ravi\n",
      "value is Kiran\n",
      "value is Mitra\n"
     ]
    }
   ],
   "source": [
    "for v in idName.values():\n",
    "    print(f'value is {v}')"
   ]
  },
  {
   "cell_type": "markdown",
   "id": "fd76901d",
   "metadata": {},
   "source": [
    "* iterate over a dictionary using items()"
   ]
  },
  {
   "cell_type": "code",
   "execution_count": 22,
   "id": "87ef429f",
   "metadata": {},
   "outputs": [
    {
     "name": "stdout",
     "output_type": "stream",
     "text": [
      "Id is 101, Name is Suraj\n",
      "101 Suraj\n",
      "Id is 102, Name is Mahesh\n",
      "102 Mahesh\n",
      "Id is 103, Name is Surya\n",
      "103 Surya\n",
      "Id is 104, Name is Ravi\n",
      "104 Ravi\n",
      "Id is 105, Name is Kiran\n",
      "105 Kiran\n",
      "Id is 106, Name is Mitra\n",
      "106 Mitra\n",
      "Id is 109, Name is Akhilesh\n",
      "109 Akhilesh\n"
     ]
    }
   ],
   "source": [
    "for key,value in idName.items():\n",
    "    print(f'Id is {key}, Name is {value}')\n",
    "    print('Id is {} , Name is {}'.format(key,value))"
   ]
  },
  {
   "cell_type": "markdown",
   "id": "d0449463",
   "metadata": {},
   "source": [
    "* Iterate over a dictionary using the dictionary object "
   ]
  },
  {
   "cell_type": "code",
   "execution_count": 141,
   "id": "4c40bf35",
   "metadata": {},
   "outputs": [
    {
     "name": "stdout",
     "output_type": "stream",
     "text": [
      "101\n",
      "102\n",
      "103\n",
      "104\n",
      "105\n",
      "106\n"
     ]
    }
   ],
   "source": [
    "### Using the dictionary object only the dictionary is used\n",
    "for keyVal in idName:\n",
    "    print(keyVal)"
   ]
  },
  {
   "cell_type": "markdown",
   "id": "f5e88d97",
   "metadata": {},
   "source": [
    "* Delete a key in the dictionary using the del keyword"
   ]
  },
  {
   "cell_type": "code",
   "execution_count": 142,
   "id": "b6f76319",
   "metadata": {},
   "outputs": [],
   "source": [
    "## Delete the key value pair using the idName[key]\n",
    "del idName[101]"
   ]
  },
  {
   "cell_type": "code",
   "execution_count": 143,
   "id": "9780c699",
   "metadata": {},
   "outputs": [
    {
     "data": {
      "text/plain": [
       "{102: 'Mahesh', 103: 'Surya', 104: 'Ravi', 105: 'Kiran', 106: 'Mitra'}"
      ]
     },
     "execution_count": 143,
     "metadata": {},
     "output_type": "execute_result"
    }
   ],
   "source": [
    "idName"
   ]
  },
  {
   "cell_type": "markdown",
   "id": "425dac07",
   "metadata": {},
   "source": [
    "* To get a value from the dictionar using the get() function or the []"
   ]
  },
  {
   "cell_type": "code",
   "execution_count": 144,
   "id": "0c70a777",
   "metadata": {},
   "outputs": [
    {
     "data": {
      "text/plain": [
       "'Mahesh'"
      ]
     },
     "execution_count": 144,
     "metadata": {},
     "output_type": "execute_result"
    }
   ],
   "source": [
    "idName[102]"
   ]
  },
  {
   "cell_type": "code",
   "execution_count": 145,
   "id": "f3ffeb9e",
   "metadata": {},
   "outputs": [
    {
     "data": {
      "text/plain": [
       "'Mahesh'"
      ]
     },
     "execution_count": 145,
     "metadata": {},
     "output_type": "execute_result"
    }
   ],
   "source": [
    "idName.get(102)"
   ]
  },
  {
   "cell_type": "markdown",
   "id": "ce692f20",
   "metadata": {},
   "source": [
    "* If the key is not in the dictionary using the get() method we can use the default value"
   ]
  },
  {
   "cell_type": "code",
   "execution_count": 37,
   "id": "e198e6ca",
   "metadata": {},
   "outputs": [
    {
     "ename": "KeyError",
     "evalue": "110",
     "output_type": "error",
     "traceback": [
      "\u001b[1;31m---------------------------------------------------------------------------\u001b[0m",
      "\u001b[1;31mKeyError\u001b[0m                                  Traceback (most recent call last)",
      "Cell \u001b[1;32mIn[37], line 2\u001b[0m\n\u001b[0;32m      1\u001b[0m \u001b[38;5;66;03m### Lets say we dont have the key/value pair in the dictionary it returns a key erro\u001b[39;00m\n\u001b[1;32m----> 2\u001b[0m \u001b[43midName\u001b[49m\u001b[43m[\u001b[49m\u001b[38;5;241;43m110\u001b[39;49m\u001b[43m]\u001b[49m\n",
      "\u001b[1;31mKeyError\u001b[0m: 110"
     ]
    }
   ],
   "source": [
    "# Lets say we dont have the key/value pair in the dictionary \n",
    "# it returns a key erro\n",
    "idName[110]"
   ]
  },
  {
   "cell_type": "code",
   "execution_count": 147,
   "id": "c9b764f2",
   "metadata": {},
   "outputs": [
    {
     "data": {
      "text/plain": [
       "'Mahesh'"
      ]
     },
     "execution_count": 147,
     "metadata": {},
     "output_type": "execute_result"
    }
   ],
   "source": [
    "# If the key is available then it returns the value\n",
    "idName.get(102,\"Value is Not there\")"
   ]
  },
  {
   "cell_type": "code",
   "execution_count": 39,
   "id": "85fecdb3",
   "metadata": {},
   "outputs": [
    {
     "data": {
      "text/plain": [
       "'Key/Value is Not there'"
      ]
     },
     "execution_count": 39,
     "metadata": {},
     "output_type": "execute_result"
    }
   ],
   "source": [
    "idName.get(110,\"Key/Value is Not there\")"
   ]
  },
  {
   "cell_type": "code",
   "execution_count": 149,
   "id": "2e77cd39",
   "metadata": {},
   "outputs": [],
   "source": [
    "# To get the keys in the reversed order \n",
    "# we can use reversed on the dictionary"
   ]
  },
  {
   "cell_type": "code",
   "execution_count": 40,
   "id": "d44b0367",
   "metadata": {},
   "outputs": [
    {
     "name": "stdout",
     "output_type": "stream",
     "text": [
      "109\n",
      "106\n",
      "105\n",
      "104\n",
      "103\n",
      "102\n",
      "101\n"
     ]
    }
   ],
   "source": [
    "for i in reversed(idName):\n",
    "    print(i)"
   ]
  },
  {
   "cell_type": "code",
   "execution_count": 151,
   "id": "6da77f5e",
   "metadata": {},
   "outputs": [
    {
     "data": {
      "text/plain": [
       "[102, 103, 104, 105, 106]"
      ]
     },
     "execution_count": 151,
     "metadata": {},
     "output_type": "execute_result"
    }
   ],
   "source": [
    "## Collecting the dictionary keys as list - list(idName)\n",
    "list(idName)"
   ]
  },
  {
   "cell_type": "markdown",
   "id": "ad30bedd",
   "metadata": {},
   "source": [
    "* To remove one key,value pair from the dictionary - using popitem()"
   ]
  },
  {
   "cell_type": "code",
   "execution_count": 41,
   "id": "571732b5",
   "metadata": {},
   "outputs": [
    {
     "data": {
      "text/plain": [
       "(109, 'Akhilesh')"
      ]
     },
     "execution_count": 41,
     "metadata": {},
     "output_type": "execute_result"
    }
   ],
   "source": [
    "## idName.popitem() will remove one key value pair from the dictionary\n",
    "idName.popitem()"
   ]
  },
  {
   "cell_type": "markdown",
   "id": "47ef7457",
   "metadata": {},
   "source": [
    "* To remove one key at a time from the dictionary - using pop()"
   ]
  },
  {
   "cell_type": "code",
   "execution_count": 42,
   "id": "15b7414a",
   "metadata": {},
   "outputs": [
    {
     "data": {
      "text/plain": [
       "'Ravi'"
      ]
     },
     "execution_count": 42,
     "metadata": {},
     "output_type": "execute_result"
    }
   ],
   "source": [
    "# idName.pop(key) will pop one key value pair for \n",
    "# the given key from the dictionary\n",
    "idName.pop(104)"
   ]
  },
  {
   "cell_type": "code",
   "execution_count": 44,
   "id": "dbc78b1f",
   "metadata": {},
   "outputs": [
    {
     "ename": "KeyError",
     "evalue": "105",
     "output_type": "error",
     "traceback": [
      "\u001b[1;31m---------------------------------------------------------------------------\u001b[0m",
      "\u001b[1;31mKeyError\u001b[0m                                  Traceback (most recent call last)",
      "Cell \u001b[1;32mIn[44], line 2\u001b[0m\n\u001b[0;32m      1\u001b[0m \u001b[38;5;66;03m### If the key is not available in the dictionary, pop() shall given an error on the dictionary\u001b[39;00m\n\u001b[1;32m----> 2\u001b[0m \u001b[43midName\u001b[49m\u001b[38;5;241;43m.\u001b[39;49m\u001b[43mpop\u001b[49m\u001b[43m(\u001b[49m\u001b[38;5;241;43m105\u001b[39;49m\u001b[43m)\u001b[49m\n",
      "\u001b[1;31mKeyError\u001b[0m: 105"
     ]
    }
   ],
   "source": [
    "# If the key is not available in the dictionary, \n",
    "# pop() shall given an error on the dictionary\n",
    "idName.pop(105)"
   ]
  },
  {
   "cell_type": "code",
   "execution_count": 43,
   "id": "234b2ec4",
   "metadata": {},
   "outputs": [
    {
     "data": {
      "text/plain": [
       "'Kiran'"
      ]
     },
     "execution_count": 43,
     "metadata": {},
     "output_type": "execute_result"
    }
   ],
   "source": [
    "# If the key is not available in the dictionary, \n",
    "# pop() shall given an error on the dictionary\n",
    "idName.pop(105)"
   ]
  },
  {
   "cell_type": "markdown",
   "id": "33c704df",
   "metadata": {},
   "source": [
    "* length of the dictionary - len() function"
   ]
  },
  {
   "cell_type": "code",
   "execution_count": 156,
   "id": "3f9708dd",
   "metadata": {},
   "outputs": [
    {
     "data": {
      "text/plain": [
       "2"
      ]
     },
     "execution_count": 156,
     "metadata": {},
     "output_type": "execute_result"
    }
   ],
   "source": [
    "# To get the length of the dictionary\n",
    "len(idName)"
   ]
  },
  {
   "cell_type": "markdown",
   "id": "7c26a9f0",
   "metadata": {},
   "source": [
    "* Lets say we want to get the key,value pairs using the dictionary using dictionary comprehension"
   ]
  },
  {
   "cell_type": "code",
   "execution_count": 157,
   "id": "00e79beb",
   "metadata": {},
   "outputs": [
    {
     "data": {
      "text/plain": [
       "{102: 'Mahesh', 104: 'Ravi', 106: 'Mitra'}"
      ]
     },
     "execution_count": 157,
     "metadata": {},
     "output_type": "execute_result"
    }
   ],
   "source": [
    "### Dictionary comprehension can be perfromed using the following: \n",
    "idName = {101: 'Suraj',102: 'Mahesh',103: 'Surya', 104: 'Ravi', \n",
    "          105: 'Kiran', 106: 'Mitra'}\n",
    "# get only the even ids\n",
    "evenIdName = {k:v for (k,v) in idName.items() if k%2 ==0 }\n",
    "evenIdName"
   ]
  }
 ],
 "metadata": {
  "kernelspec": {
   "display_name": "Python 3 (ipykernel)",
   "language": "python",
   "name": "python3"
  },
  "language_info": {
   "codemirror_mode": {
    "name": "ipython",
    "version": 3
   },
   "file_extension": ".py",
   "mimetype": "text/x-python",
   "name": "python",
   "nbconvert_exporter": "python",
   "pygments_lexer": "ipython3",
   "version": "3.10.10"
  }
 },
 "nbformat": 4,
 "nbformat_minor": 5
}
