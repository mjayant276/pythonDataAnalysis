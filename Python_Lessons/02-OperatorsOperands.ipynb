{
 "cells": [
  {
   "cell_type": "markdown",
   "id": "2b1a2960",
   "metadata": {},
   "source": [
    "### Python Lesson 2"
   ]
  },
  {
   "cell_type": "markdown",
   "id": "f04574f8",
   "metadata": {},
   "source": [
    "#### In this notebook we shall cover the following aspects\n",
    "* Other in-built functions\n",
    "* Capture input from the command line\n",
    "* Operators and Operands in Python"
   ]
  },
  {
   "cell_type": "markdown",
   "id": "aea2faae",
   "metadata": {},
   "source": [
    "* divmod() function returns a pair of numbers consisting of quotient and remainder"
   ]
  },
  {
   "cell_type": "code",
   "execution_count": 1,
   "id": "edbae7f8",
   "metadata": {},
   "outputs": [
    {
     "data": {
      "text/plain": [
       "(1, 2)"
      ]
     },
     "execution_count": 1,
     "metadata": {},
     "output_type": "execute_result"
    }
   ],
   "source": [
    "### We pass two numbers to divmod - 5,3 : div(5,3) - It returns the quotient of the division between two numbers and remainder of the division\n",
    "divmod(5,3)"
   ]
  },
  {
   "cell_type": "markdown",
   "id": "9ff0356d",
   "metadata": {},
   "source": [
    "* ord() function return point value representation of a character"
   ]
  },
  {
   "cell_type": "code",
   "execution_count": 2,
   "id": "0674c378",
   "metadata": {},
   "outputs": [
    {
     "data": {
      "text/plain": [
       "72"
      ]
     },
     "execution_count": 2,
     "metadata": {},
     "output_type": "execute_result"
    }
   ],
   "source": [
    "#### Finding the unicode point value of a character 'H' - pass 'H' to the ord() function\n",
    "ord('H')"
   ]
  },
  {
   "cell_type": "code",
   "execution_count": 3,
   "id": "cf40fabc",
   "metadata": {},
   "outputs": [
    {
     "data": {
      "text/plain": [
       "97"
      ]
     },
     "execution_count": 3,
     "metadata": {},
     "output_type": "execute_result"
    }
   ],
   "source": [
    "#### Finding the unicode point value of a character 'a' - pass 'a' to the ord() function\n",
    "ord('a')"
   ]
  },
  {
   "cell_type": "code",
   "execution_count": 4,
   "id": "8a636588",
   "metadata": {},
   "outputs": [
    {
     "data": {
      "text/plain": [
       "65"
      ]
     },
     "execution_count": 4,
     "metadata": {},
     "output_type": "execute_result"
    }
   ],
   "source": [
    "#### Finding unicode point value of a character 'A' - pass 'A' to the ord() function\n",
    "ord('A')"
   ]
  },
  {
   "cell_type": "code",
   "execution_count": 5,
   "id": "c2dc9e04",
   "metadata": {},
   "outputs": [
    {
     "data": {
      "text/plain": [
       "10"
      ]
     },
     "execution_count": 5,
     "metadata": {},
     "output_type": "execute_result"
    }
   ],
   "source": [
    "### Finding unicode point value of a character '\\n'- pass '\\n' to the ord() function\n",
    "ord('\\n')"
   ]
  },
  {
   "cell_type": "markdown",
   "id": "605fbee3",
   "metadata": {},
   "source": [
    "* chr() function is the inverse of ord() - It gives the value of the give integer"
   ]
  },
  {
   "cell_type": "code",
   "execution_count": 6,
   "id": "a7073df2",
   "metadata": {},
   "outputs": [
    {
     "data": {
      "text/plain": [
       "'\\n'"
      ]
     },
     "execution_count": 6,
     "metadata": {},
     "output_type": "execute_result"
    }
   ],
   "source": [
    "### chr function that takes input as 10 would return the output as '\\n'\n",
    "chr(10)"
   ]
  },
  {
   "cell_type": "code",
   "execution_count": 7,
   "id": "de48dee5",
   "metadata": {},
   "outputs": [
    {
     "data": {
      "text/plain": [
       "'a'"
      ]
     },
     "execution_count": 7,
     "metadata": {},
     "output_type": "execute_result"
    }
   ],
   "source": [
    "### chr function that takes input as 97 would return the output as 'a'\n",
    "chr(97)"
   ]
  },
  {
   "cell_type": "code",
   "execution_count": 8,
   "id": "fda4c39c",
   "metadata": {},
   "outputs": [
    {
     "data": {
      "text/plain": [
       "'A'"
      ]
     },
     "execution_count": 8,
     "metadata": {},
     "output_type": "execute_result"
    }
   ],
   "source": [
    "### chr function that takes input as 97 would return the output as 'A'\n",
    "chr(65)"
   ]
  },
  {
   "cell_type": "code",
   "execution_count": 10,
   "id": "a36f2d86",
   "metadata": {},
   "outputs": [
    {
     "data": {
      "text/plain": [
       "'⅝'"
      ]
     },
     "execution_count": 10,
     "metadata": {},
     "output_type": "execute_result"
    }
   ],
   "source": [
    "### chr function that takes input as 8641 would return the output as %'\n",
    "chr(8541)"
   ]
  },
  {
   "cell_type": "raw",
   "id": "840390e1",
   "metadata": {},
   "source": [
    "Cpython () , JPython (Java) and IronPython (.Net)"
   ]
  },
  {
   "cell_type": "markdown",
   "id": "c5db9607",
   "metadata": {},
   "source": [
    "* id() function gives the Cpython address location of the object"
   ]
  },
  {
   "cell_type": "code",
   "execution_count": 11,
   "id": "37a58304",
   "metadata": {},
   "outputs": [
    {
     "data": {
      "text/plain": [
       "2740077724176"
      ]
     },
     "execution_count": 11,
     "metadata": {},
     "output_type": "execute_result"
    }
   ],
   "source": [
    "### We want to get the address of a python object - id() function provides the address of that variable\n",
    "x = 10\n",
    "id(x)"
   ]
  },
  {
   "cell_type": "code",
   "execution_count": 14,
   "id": "24aebfba",
   "metadata": {},
   "outputs": [
    {
     "data": {
      "text/plain": [
       "int"
      ]
     },
     "execution_count": 14,
     "metadata": {},
     "output_type": "execute_result"
    }
   ],
   "source": [
    "type(x)"
   ]
  },
  {
   "cell_type": "code",
   "execution_count": 15,
   "id": "288572f2",
   "metadata": {},
   "outputs": [
    {
     "data": {
      "text/plain": [
       "float"
      ]
     },
     "execution_count": 15,
     "metadata": {},
     "output_type": "execute_result"
    }
   ],
   "source": [
    "type(y)"
   ]
  },
  {
   "cell_type": "code",
   "execution_count": 17,
   "id": "0c1fdf6c",
   "metadata": {
    "scrolled": false
   },
   "outputs": [
    {
     "name": "stdout",
     "output_type": "stream",
     "text": [
      "2740157415120\n",
      "2740157415120\n",
      "Hello\n",
      "2740162171376\n"
     ]
    }
   ],
   "source": [
    "#### finding the memory location address of a floating value passed to id function\n",
    "y = 20.5\n",
    "id(y)\n",
    "z= y\n",
    "print(id(y))\n",
    "print(id(z))\n",
    "y = \"Hello\"\n",
    "print(y)\n",
    "print(id(y))"
   ]
  },
  {
   "cell_type": "raw",
   "id": "451f086b",
   "metadata": {},
   "source": [
    "Python is a Dynamically Typed Programming Language"
   ]
  },
  {
   "cell_type": "markdown",
   "id": "5c0a2485",
   "metadata": {},
   "source": [
    "* bin() function - This will provide the binary value of the given input"
   ]
  },
  {
   "cell_type": "code",
   "execution_count": 18,
   "id": "fd989a28",
   "metadata": {},
   "outputs": [
    {
     "data": {
      "text/plain": [
       "'0b1010'"
      ]
     },
     "execution_count": 18,
     "metadata": {},
     "output_type": "execute_result"
    }
   ],
   "source": [
    "### pass value 10 to the bin() function and it returns binary representation of the passed value\n",
    "## The binary representation is prefixed with 0b\n",
    "\n",
    "## binary - 0 and 1 --> 2^0 * firstvalue + 2^1 * second value + \n",
    "bin(10) # (base 10 - 0 and 9 ) (10^0 *unit + 10^1 * tens + 10^2 * hundreds--->)"
   ]
  },
  {
   "cell_type": "code",
   "execution_count": null,
   "id": "7517a3b7",
   "metadata": {},
   "outputs": [],
   "source": [
    "1     0   1   0\n",
    "2^3   2^2 2^1  2^0\n",
    "    -> 1*0 + 2*1 + 4*0 + 8*1 = 0 + 2 + 0 + 8 = 10"
   ]
  },
  {
   "cell_type": "code",
   "execution_count": 19,
   "id": "da2b24e5",
   "metadata": {},
   "outputs": [
    {
     "data": {
      "text/plain": [
       "'-0b1010'"
      ]
     },
     "execution_count": 19,
     "metadata": {},
     "output_type": "execute_result"
    }
   ],
   "source": [
    "### pass value -10 to the bin() function and it returns binary representation of the passed value\n",
    "## The binary representation is prefixed with -0b\n",
    "bin(-10)"
   ]
  },
  {
   "cell_type": "markdown",
   "id": "79c1a7a6",
   "metadata": {},
   "source": [
    "* hex() function - Converts the number from string to hexadecimal representation"
   ]
  },
  {
   "cell_type": "code",
   "execution_count": 21,
   "id": "6b5b7dfb",
   "metadata": {},
   "outputs": [
    {
     "data": {
      "text/plain": [
       "'0xa'"
      ]
     },
     "execution_count": 21,
     "metadata": {},
     "output_type": "execute_result"
    }
   ],
   "source": [
    "### pass value 10 to the hex() function and it returns the hexadecimal representation of the passed value\n",
    "## output would 0xa\n",
    " #0-9abcdef\n",
    "hex(10)"
   ]
  },
  {
   "cell_type": "code",
   "execution_count": 22,
   "id": "fc001681",
   "metadata": {
    "scrolled": true
   },
   "outputs": [
    {
     "data": {
      "text/plain": [
       "'0x17'"
      ]
     },
     "execution_count": 22,
     "metadata": {},
     "output_type": "execute_result"
    }
   ],
   "source": [
    "### pass value 23 to the hex() function and it returns the hexadecimal representation of the passed value\n",
    "## output would 0x8 7*16^0 + 1*16^1 = 7 + 16 = 23\n",
    "hex(23)"
   ]
  },
  {
   "cell_type": "code",
   "execution_count": 23,
   "id": "995bcf73",
   "metadata": {},
   "outputs": [
    {
     "data": {
      "text/plain": [
       "'0x11'"
      ]
     },
     "execution_count": 23,
     "metadata": {},
     "output_type": "execute_result"
    }
   ],
   "source": [
    "### pass value 17 to the hex() function and it returns the hexadecimal representation of the passed value\n",
    "## output would 0x8\n",
    "hex(17)"
   ]
  },
  {
   "cell_type": "markdown",
   "id": "fe6178c1",
   "metadata": {},
   "source": [
    "* oct function - Coverts the number from String representation to octal representation\n"
   ]
  },
  {
   "cell_type": "code",
   "execution_count": 24,
   "id": "9187369c",
   "metadata": {},
   "outputs": [
    {
     "data": {
      "text/plain": [
       "'0o12'"
      ]
     },
     "execution_count": 24,
     "metadata": {},
     "output_type": "execute_result"
    }
   ],
   "source": [
    "### pass value 10 to the oct() function and it returns the octal representation of the passed value\n",
    "## output would 0o12 - Prefix is 0o\n",
    "oct(10) # 2 * 8^0 + 1* 8^1 = 10"
   ]
  },
  {
   "cell_type": "code",
   "execution_count": 25,
   "id": "da576876",
   "metadata": {},
   "outputs": [
    {
     "data": {
      "text/plain": [
       "'0o17'"
      ]
     },
     "execution_count": 25,
     "metadata": {},
     "output_type": "execute_result"
    }
   ],
   "source": [
    "### pass value 15 to the oct() function and it returns the octal representation of the passed value\n",
    "## output would 0o17 - Prefix is 0o\n",
    "oct(15)"
   ]
  },
  {
   "cell_type": "code",
   "execution_count": 26,
   "id": "9e99b1b2",
   "metadata": {},
   "outputs": [
    {
     "data": {
      "text/plain": [
       "'0o15'"
      ]
     },
     "execution_count": 26,
     "metadata": {},
     "output_type": "execute_result"
    }
   ],
   "source": [
    "### pass value 13 to the oct() function and it returns the octal representation of the passed value\n",
    "## output would 0o15 - Prefix is 0o\n",
    "oct(13)"
   ]
  },
  {
   "cell_type": "markdown",
   "id": "5883873c",
   "metadata": {},
   "source": [
    "* int() function - Integer values with other bases"
   ]
  },
  {
   "cell_type": "code",
   "execution_count": 28,
   "id": "aa65f782",
   "metadata": {},
   "outputs": [
    {
     "data": {
      "text/plain": [
       "10"
      ]
     },
     "execution_count": 28,
     "metadata": {},
     "output_type": "execute_result"
    }
   ],
   "source": [
    "### default base value of an integer int(10)\n",
    "int(10)"
   ]
  },
  {
   "cell_type": "code",
   "execution_count": 29,
   "id": "74914251",
   "metadata": {},
   "outputs": [
    {
     "data": {
      "text/plain": [
       "2"
      ]
     },
     "execution_count": 29,
     "metadata": {},
     "output_type": "execute_result"
    }
   ],
   "source": [
    "### Passing a string value '10' for base 2 - int('10',base=2)\n",
    "int('10', base=2)"
   ]
  },
  {
   "cell_type": "code",
   "execution_count": 31,
   "id": "f4c20f36",
   "metadata": {},
   "outputs": [
    {
     "data": {
      "text/plain": [
       "17"
      ]
     },
     "execution_count": 31,
     "metadata": {},
     "output_type": "execute_result"
    }
   ],
   "source": [
    "### Passing a string value '10001' for base 2 - That is the representation is 10001 in base 2\n",
    "### This number is converted to base 10. - int('10001',base=2)\n",
    "int('10001',base=2)"
   ]
  },
  {
   "cell_type": "code",
   "execution_count": 32,
   "id": "2c3870b6",
   "metadata": {},
   "outputs": [
    {
     "data": {
      "text/plain": [
       "10"
      ]
     },
     "execution_count": 32,
     "metadata": {},
     "output_type": "execute_result"
    }
   ],
   "source": [
    "### Passing a string value '0xa' for base 6 - that is the representation is 0xa in base 16\n",
    "## The number is 10 in base 10 - int('0xa',base=16)\n",
    "int('0xa',base=16)"
   ]
  },
  {
   "cell_type": "code",
   "execution_count": 33,
   "id": "53525842",
   "metadata": {},
   "outputs": [
    {
     "data": {
      "text/plain": [
       "13"
      ]
     },
     "execution_count": 33,
     "metadata": {},
     "output_type": "execute_result"
    }
   ],
   "source": [
    "### Covnverts the number from base 8 to base 10 - int('0o15', base=8)\n",
    "int('0o15',base=8)"
   ]
  },
  {
   "cell_type": "code",
   "execution_count": 35,
   "id": "dc586c09",
   "metadata": {},
   "outputs": [
    {
     "data": {
      "text/plain": [
       "23"
      ]
     },
     "execution_count": 35,
     "metadata": {},
     "output_type": "execute_result"
    }
   ],
   "source": [
    "### converts the number from base 16 to base 10 - that is the representation is 0x17 in base 16\n",
    "## The number is 23 in base 10 - int('0x17',base=16)\n",
    "int('0x17',base=16)"
   ]
  },
  {
   "cell_type": "markdown",
   "id": "24f848a9",
   "metadata": {},
   "source": [
    "* abs() function returns the absolute value. Indicating that it returns the positive value"
   ]
  },
  {
   "cell_type": "code",
   "execution_count": 36,
   "id": "0433b896",
   "metadata": {},
   "outputs": [
    {
     "data": {
      "text/plain": [
       "10.2"
      ]
     },
     "execution_count": 36,
     "metadata": {},
     "output_type": "execute_result"
    }
   ],
   "source": [
    "### pass 10.2 value to abs function - it generated the absolute value of the argument - abs(-10)\n",
    "abs(-10.2)"
   ]
  },
  {
   "cell_type": "code",
   "execution_count": 37,
   "id": "faf6c63a",
   "metadata": {},
   "outputs": [
    {
     "data": {
      "text/plain": [
       "20.5"
      ]
     },
     "execution_count": 37,
     "metadata": {},
     "output_type": "execute_result"
    }
   ],
   "source": [
    "### pass 20.5 value to abs function - it generated the absolute value of the argument - abs(-20.5)\n",
    "abs(20.5)"
   ]
  },
  {
   "cell_type": "markdown",
   "id": "36bd6ef4",
   "metadata": {},
   "source": [
    "* pow() function returns the number for this formula - base** exponent\n",
    "\n",
    "* base of the number and the exponent it is raised to\n"
   ]
  },
  {
   "cell_type": "code",
   "execution_count": 39,
   "id": "3f66f86c",
   "metadata": {},
   "outputs": [
    {
     "name": "stdout",
     "output_type": "stream",
     "text": [
      "8\n"
     ]
    }
   ],
   "source": [
    "### pass 2 as the base followed by 3 as the exponent - 2**3 - pow(2,3) - pow(2,3)\n",
    "pow(2,3) \n",
    "print(2**3)"
   ]
  },
  {
   "cell_type": "code",
   "execution_count": 40,
   "id": "8496de07",
   "metadata": {},
   "outputs": [
    {
     "data": {
      "text/plain": [
       "9"
      ]
     },
     "execution_count": 40,
     "metadata": {},
     "output_type": "execute_result"
    }
   ],
   "source": [
    "### pass 3 as the base followed by 2 as the exponent - 3**2 - pow(3,2)\n",
    "pow(3,2)"
   ]
  },
  {
   "cell_type": "markdown",
   "id": "317c33a4",
   "metadata": {},
   "source": [
    "* min() function returns the minimum of two or more values"
   ]
  },
  {
   "cell_type": "code",
   "execution_count": 41,
   "id": "31accd63",
   "metadata": {},
   "outputs": [
    {
     "data": {
      "text/plain": [
       "-16"
      ]
     },
     "execution_count": 41,
     "metadata": {},
     "output_type": "execute_result"
    }
   ],
   "source": [
    "### Pass the values as -5, 10, 30 to the minimuum function and check the output - min(-5,10.30)\n",
    "min(-16,3,5)"
   ]
  },
  {
   "cell_type": "code",
   "execution_count": 42,
   "id": "e2c7d820",
   "metadata": {},
   "outputs": [
    {
     "data": {
      "text/plain": [
       "1"
      ]
     },
     "execution_count": 42,
     "metadata": {},
     "output_type": "execute_result"
    }
   ],
   "source": [
    "### Pass the value as 1,2,3 to the minimum function and check the output - min(1,2,3)\n",
    "min(2,1,3)"
   ]
  },
  {
   "cell_type": "code",
   "execution_count": 43,
   "id": "583c3780",
   "metadata": {},
   "outputs": [
    {
     "ename": "TypeError",
     "evalue": "'int' object is not iterable",
     "output_type": "error",
     "traceback": [
      "\u001b[1;31m---------------------------------------------------------------------------\u001b[0m",
      "\u001b[1;31mTypeError\u001b[0m                                 Traceback (most recent call last)",
      "Cell \u001b[1;32mIn[43], line 2\u001b[0m\n\u001b[0;32m      1\u001b[0m \u001b[38;5;66;03m### If we pass only one value in the minimum function - then we get an error\u001b[39;00m\n\u001b[1;32m----> 2\u001b[0m \u001b[38;5;28;43mmin\u001b[39;49m\u001b[43m(\u001b[49m\u001b[38;5;241;43m2\u001b[39;49m\u001b[43m)\u001b[49m\n",
      "\u001b[1;31mTypeError\u001b[0m: 'int' object is not iterable"
     ]
    }
   ],
   "source": [
    "### If we pass only one value in the minimum function - then we get an error\n",
    "min(2)"
   ]
  },
  {
   "cell_type": "markdown",
   "id": "245cbd5b",
   "metadata": {},
   "source": [
    "* max() function returns the maximum of two or more values"
   ]
  },
  {
   "cell_type": "code",
   "execution_count": 45,
   "id": "42c344ae",
   "metadata": {},
   "outputs": [
    {
     "data": {
      "text/plain": [
       "30"
      ]
     },
     "execution_count": 45,
     "metadata": {},
     "output_type": "execute_result"
    }
   ],
   "source": [
    "### Pass the values as -5, 10, 30 to the maximum function and check the output - max(-5,10.30)\n",
    "max(-5,10,30)"
   ]
  },
  {
   "cell_type": "code",
   "execution_count": 46,
   "id": "6542832a",
   "metadata": {},
   "outputs": [
    {
     "data": {
      "text/plain": [
       "3"
      ]
     },
     "execution_count": 46,
     "metadata": {},
     "output_type": "execute_result"
    }
   ],
   "source": [
    "### Pass the value as 1,2,3 to the maximum function and check the output - max(1,2,3)\n",
    "max(1,2,3)"
   ]
  },
  {
   "cell_type": "markdown",
   "id": "8e59a7f1",
   "metadata": {},
   "source": [
    "* len() function gives us the length of the given string - We cannot pass integer or floating point valie"
   ]
  },
  {
   "cell_type": "code",
   "execution_count": 47,
   "id": "ed538587",
   "metadata": {},
   "outputs": [
    {
     "data": {
      "text/plain": [
       "6"
      ]
     },
     "execution_count": 47,
     "metadata": {},
     "output_type": "execute_result"
    }
   ],
   "source": [
    "### Let us pass string values to the len() function to check its length - 'Python' returns length of 6\n",
    "len('Python')"
   ]
  },
  {
   "cell_type": "code",
   "execution_count": 48,
   "id": "351450ff",
   "metadata": {},
   "outputs": [
    {
     "data": {
      "text/plain": [
       "12"
      ]
     },
     "execution_count": 48,
     "metadata": {},
     "output_type": "execute_result"
    }
   ],
   "source": [
    "### Let us pass string value to len() function to check its length - 'Hello World!' return the length of 12\n",
    "len('Hello World!')"
   ]
  },
  {
   "cell_type": "markdown",
   "id": "b3a5c3b3",
   "metadata": {},
   "source": [
    "* repr() function gives back the printable representation of the object"
   ]
  },
  {
   "cell_type": "code",
   "execution_count": 49,
   "id": "48bd2e55",
   "metadata": {},
   "outputs": [
    {
     "data": {
      "text/plain": [
       "\"'Tuesday'\""
      ]
     },
     "execution_count": 49,
     "metadata": {},
     "output_type": "execute_result"
    }
   ],
   "source": [
    "### Pass 'monday' as input to repr. repr('Monday') -- The resultant output is 'Monday'\n",
    "repr('Tuesday')"
   ]
  },
  {
   "cell_type": "code",
   "execution_count": 50,
   "id": "a6fba39f",
   "metadata": {},
   "outputs": [
    {
     "name": "stdout",
     "output_type": "stream",
     "text": [
      "'Monday'\n"
     ]
    }
   ],
   "source": [
    "### Pass repr('monday') as input to print. print(repr('Monday')) -- The resultant output is 'Monday'\n",
    "print(repr('Monday'))"
   ]
  },
  {
   "cell_type": "markdown",
   "id": "414e9ecb",
   "metadata": {},
   "source": [
    "#### String Operations\n",
    "*  Text sequences - String \n",
    "*  String are sequences of text. String sequences are immutable."
   ]
  },
  {
   "cell_type": "code",
   "execution_count": 1,
   "id": "4947b033",
   "metadata": {},
   "outputs": [
    {
     "data": {
      "text/plain": [
       "'abcdefghijklmnopqrstuvwxyzABCDEFGHIJKLMNOPQRSTUVWXYZ'"
      ]
     },
     "execution_count": 1,
     "metadata": {},
     "output_type": "execute_result"
    }
   ],
   "source": [
    "### We import the string module and use ascii_letters on string. The output is english alphabets in lower case \n",
    "### and upper case.- string.ascii_letters\n",
    "import string\n",
    "string.ascii_letters"
   ]
  },
  {
   "cell_type": "code",
   "execution_count": 52,
   "id": "52a7c314",
   "metadata": {},
   "outputs": [
    {
     "data": {
      "text/plain": [
       "'abcdefghijklmnopqrstuvwxyz'"
      ]
     },
     "execution_count": 52,
     "metadata": {},
     "output_type": "execute_result"
    }
   ],
   "source": [
    "### The ascii_lowercase shall return the lower case letters on string. \n",
    "## The output is english alphabets in lower case - string.ascii_lowercase\n",
    "string.ascii_lowercase"
   ]
  },
  {
   "cell_type": "code",
   "execution_count": 53,
   "id": "f0cb2e2e",
   "metadata": {},
   "outputs": [
    {
     "data": {
      "text/plain": [
       "'ABCDEFGHIJKLMNOPQRSTUVWXYZ'"
      ]
     },
     "execution_count": 53,
     "metadata": {},
     "output_type": "execute_result"
    }
   ],
   "source": [
    "#### the ascii_upppercase shall return the upper case letters as string. \n",
    "### the output is english alphabets in upper case - string.ascii_uppercase\n",
    "string.ascii_uppercase"
   ]
  },
  {
   "cell_type": "code",
   "execution_count": 54,
   "id": "4818104c",
   "metadata": {},
   "outputs": [
    {
     "data": {
      "text/plain": [
       "'0123456789'"
      ]
     },
     "execution_count": 54,
     "metadata": {},
     "output_type": "execute_result"
    }
   ],
   "source": [
    "#### The digits shall return the digits as string. The ouput is '0123456789' - string.digits\n",
    "string.digits"
   ]
  },
  {
   "cell_type": "code",
   "execution_count": 2,
   "id": "90d00b8d",
   "metadata": {},
   "outputs": [
    {
     "data": {
      "text/plain": [
       "'0123456789abcdefABCDEF'"
      ]
     },
     "execution_count": 2,
     "metadata": {},
     "output_type": "execute_result"
    }
   ],
   "source": [
    "#### The digits shall return hexadecimal digits as string - string.hexdigits. The output is '0123456789abcdefABCDEF'\n",
    "string.hexdigits"
   ]
  },
  {
   "cell_type": "code",
   "execution_count": 57,
   "id": "dc99674b",
   "metadata": {},
   "outputs": [
    {
     "data": {
      "text/plain": [
       "'01234567'"
      ]
     },
     "execution_count": 57,
     "metadata": {},
     "output_type": "execute_result"
    }
   ],
   "source": [
    "#### The digits shall return octal digits as string. The output is '01234567' - string.octdigits\n",
    "string.octdigits"
   ]
  },
  {
   "cell_type": "code",
   "execution_count": 59,
   "id": "a526232d",
   "metadata": {},
   "outputs": [
    {
     "data": {
      "text/plain": [
       "'!\"#$%&\\'()*+,-./:;<=>?@[\\\\]^_`{|}~'"
      ]
     },
     "execution_count": 59,
     "metadata": {},
     "output_type": "execute_result"
    }
   ],
   "source": [
    "#### The digits shall return punctutation marks as string. string.punctuation \n",
    "### The output is '!\"#$%&\\'()*+,-./:;<=>?@[\\\\]^_`{|}~'\n",
    "string.punctuation"
   ]
  },
  {
   "cell_type": "markdown",
   "id": "e1e276ae",
   "metadata": {},
   "source": [
    "* The Stirng value can be stored in\n",
    "   three ways\n",
    "    * In single quotes\n",
    "    * In double quotes\n",
    "    * In triple quotes"
   ]
  },
  {
   "cell_type": "code",
   "execution_count": 62,
   "id": "89697a1a",
   "metadata": {},
   "outputs": [
    {
     "data": {
      "text/plain": [
       "'Tuticorn has two words tuti and corn'"
      ]
     },
     "execution_count": 62,
     "metadata": {},
     "output_type": "execute_result"
    }
   ],
   "source": [
    "### Textutal data can be put in single quotes. for example text_s_quote = 'Tuticorn has two words tuti and corn'\n",
    "text_s_quote = 'Tuticorn has two words tuti and corn'\n",
    "text_s_quote"
   ]
  },
  {
   "cell_type": "code",
   "execution_count": 63,
   "id": "fd1f7ae5",
   "metadata": {},
   "outputs": [
    {
     "data": {
      "text/plain": [
       "'Tuticorn has two words tuti and corn'"
      ]
     },
     "execution_count": 63,
     "metadata": {},
     "output_type": "execute_result"
    }
   ],
   "source": [
    "#### Textual data can be put in double quotes. For Example text_d_Quote = \"Tuticorn has two words tuti and corn\"\n",
    "text_d_quote = \"Tuticorn has two words tuti and corn\"\n",
    "text_d_quote"
   ]
  },
  {
   "cell_type": "code",
   "execution_count": 65,
   "id": "64565c53",
   "metadata": {},
   "outputs": [
    {
     "data": {
      "text/plain": [
       "'\\nTuticorn has two\\nword\\ntuti and corn\\n'"
      ]
     },
     "execution_count": 65,
     "metadata": {},
     "output_type": "execute_result"
    }
   ],
   "source": [
    "#### Textual data can be put in triple quotes It can be multiple line also. For exampe text_tr_Quote = \"\"\" Tuticorn has two words tuti and corn \"\"\"\n",
    "text_tr_quote = \"\"\"\n",
    "Tuticorn has two\n",
    "word\n",
    "tuti and corn\n",
    "\"\"\"\n",
    "text_tr_quote"
   ]
  },
  {
   "cell_type": "markdown",
   "id": "9f165d63",
   "metadata": {},
   "source": [
    "* String values are immutable - cannot change them\n",
    " - sliced and accessed using indices"
   ]
  },
  {
   "cell_type": "markdown",
   "id": "37d327b2",
   "metadata": {},
   "source": [
    "* Accessing the string values based on indices - [:]\n",
    "index start from zero \n",
    "\n",
    "\n",
    "|P|R|B|H|A|S|\n",
    "------------------\n",
    "=================\n",
    "|0|1 |2 |3 |4|5|\n",
    "------------------"
   ]
  },
  {
   "cell_type": "code",
   "execution_count": 3,
   "id": "9f3d702e",
   "metadata": {},
   "outputs": [],
   "source": [
    "text_data = 'Tuticorn has two words tuti and corn'"
   ]
  },
  {
   "cell_type": "code",
   "execution_count": 4,
   "id": "7e90f4a6",
   "metadata": {},
   "outputs": [
    {
     "data": {
      "text/plain": [
       "'T'"
      ]
     },
     "execution_count": 4,
     "metadata": {},
     "output_type": "execute_result"
    }
   ],
   "source": [
    "text_data[0]"
   ]
  },
  {
   "cell_type": "code",
   "execution_count": 6,
   "id": "facae8e7",
   "metadata": {},
   "outputs": [
    {
     "data": {
      "text/plain": [
       "'u'"
      ]
     },
     "execution_count": 6,
     "metadata": {},
     "output_type": "execute_result"
    }
   ],
   "source": [
    "text_data[1]"
   ]
  },
  {
   "cell_type": "code",
   "execution_count": 7,
   "id": "7fe685e2",
   "metadata": {},
   "outputs": [
    {
     "data": {
      "text/plain": [
       "'n'"
      ]
     },
     "execution_count": 7,
     "metadata": {},
     "output_type": "execute_result"
    }
   ],
   "source": [
    "text_data[-1]"
   ]
  },
  {
   "cell_type": "code",
   "execution_count": 8,
   "id": "192b1dc4",
   "metadata": {},
   "outputs": [
    {
     "data": {
      "text/plain": [
       "'d'"
      ]
     },
     "execution_count": 8,
     "metadata": {},
     "output_type": "execute_result"
    }
   ],
   "source": [
    "text_data[-6]"
   ]
  },
  {
   "cell_type": "code",
   "execution_count": 10,
   "id": "fc5aa0c2",
   "metadata": {},
   "outputs": [
    {
     "data": {
      "text/plain": [
       "'Tuticorn'"
      ]
     },
     "execution_count": 10,
     "metadata": {},
     "output_type": "execute_result"
    }
   ],
   "source": [
    "text_data[0:8] #[0:n-1]"
   ]
  },
  {
   "cell_type": "code",
   "execution_count": 11,
   "id": "97624eab",
   "metadata": {
    "scrolled": true
   },
   "outputs": [
    {
     "data": {
      "text/plain": [
       "'has'"
      ]
     },
     "execution_count": 11,
     "metadata": {},
     "output_type": "execute_result"
    }
   ],
   "source": [
    "text_data[9:12]"
   ]
  },
  {
   "cell_type": "code",
   "execution_count": 14,
   "id": "07654c0f",
   "metadata": {},
   "outputs": [
    {
     "data": {
      "text/plain": [
       "'corn'"
      ]
     },
     "execution_count": 14,
     "metadata": {},
     "output_type": "execute_result"
    }
   ],
   "source": [
    "text_data[-4:]"
   ]
  },
  {
   "cell_type": "code",
   "execution_count": 16,
   "id": "df2b60bf",
   "metadata": {},
   "outputs": [
    {
     "name": "stdout",
     "output_type": "stream",
     "text": [
      "appa\n",
      "appa\n"
     ]
    }
   ],
   "source": [
    "data = 'appa' # palindrome - if we reverse string the original string is obtained\n",
    "print(data[:])\n",
    "print(data[::-1])"
   ]
  },
  {
   "cell_type": "code",
   "execution_count": 15,
   "id": "c437493f",
   "metadata": {
    "scrolled": true
   },
   "outputs": [
    {
     "data": {
      "text/plain": [
       "'nroc dna itut sdrow owt sah nrocituT'"
      ]
     },
     "execution_count": 15,
     "metadata": {},
     "output_type": "execute_result"
    }
   ],
   "source": [
    "text_data = 'Tuticorn has two words tuti and corn'\n",
    "text_data[::-1]"
   ]
  },
  {
   "cell_type": "code",
   "execution_count": 19,
   "id": "9aa9dff8",
   "metadata": {
    "scrolled": true
   },
   "outputs": [
    {
     "data": {
      "text/plain": [
       "'uionhstowrstt n on'"
      ]
     },
     "execution_count": 19,
     "metadata": {},
     "output_type": "execute_result"
    }
   ],
   "source": [
    "text_data[1::2] # [start:end:stepValue]"
   ]
  },
  {
   "cell_type": "code",
   "execution_count": 67,
   "id": "c1880719",
   "metadata": {},
   "outputs": [
    {
     "data": {
      "text/plain": [
       "'Tutic'"
      ]
     },
     "execution_count": 67,
     "metadata": {},
     "output_type": "execute_result"
    }
   ],
   "source": [
    "###\"\"\"|T|u|t|i|c|o|r|n| |h|a |s |  | t| w| o|  | w| o |r |d |s |22 | t| u| t| i | | a | n| d|  |c|o|r|n|\"\"\"\n",
    "###\"\"\"|0|1|2|3|4|5|6|7|8|9|10|11|12|13|14|15|16|17|18|19|20|21|22 |23|24|25| 26|27|28|29| 30|31| \"\"\n",
    "### String values can be accessed using index operators. text_data = \"Tuticorn has two words tuti and corn\"\n",
    "### text_data[0:5]\n",
    "text_data = 'Tuticorn has two words tuti and corn'\n",
    "text_data[0:5]"
   ]
  },
  {
   "cell_type": "code",
   "execution_count": 69,
   "id": "4b5c85c9",
   "metadata": {},
   "outputs": [
    {
     "name": "stdout",
     "output_type": "stream",
     "text": [
      "Tuticorn has two words tuti and corn\n",
      "Tuticorn has two words tuti and corn\n"
     ]
    }
   ],
   "source": [
    "### If string value are provided as [start:] where start=0 or [:] , then entire string will be provided\n",
    "###\"\"\"|T|u|t|i|c|o|r|n| |h|a |s |  | t| w| o|  | w| o |r |d |s |22 | t| u| t| i | | a | n| d|  |c|o|r|n|\"\"\"\n",
    "###\"\"\"|0|1|2|3|4|5|6|7|8|9|10|11|12|13|14|15|16|17|18|19|20|21|22 |23|24|25| 26|27|28|29| 30|31| \"\"\n",
    "##text_data = \"Tuticorn has two words tuti and corn\"\n",
    "#text_data[0:]\n",
    "print(text_data)\n",
    "print(text_data[0:])"
   ]
  },
  {
   "cell_type": "code",
   "execution_count": 71,
   "id": "cdf5bb04",
   "metadata": {},
   "outputs": [
    {
     "data": {
      "text/plain": [
       "'has'"
      ]
     },
     "execution_count": 71,
     "metadata": {},
     "output_type": "execute_result"
    }
   ],
   "source": [
    "### If string values are provided as [start:end] where start is some number and\n",
    "### end is some number less than length of the string. Then it slices only that many end-start+1\n",
    "###\"\"\"|T|u|t|i|c|o|r|n| |h|a |s |  | t| w| o|  | w| o |r |d |s |22 | t| u| t| i | | a | n| d|  |c|o|r|n|\"\"\"\n",
    "###\"\"\"|0|1|2|3|4|5|6|7|8|9|10|11|12|13|14|15|16|17|18|19|20|21|22 |23|24|25| 26|27|28|29| 30|31| \"\"\n",
    "#start = 3 #end = 15 #text_data[start:end]\n",
    "text_data[9:12]"
   ]
  },
  {
   "cell_type": "markdown",
   "id": "1f87aac1",
   "metadata": {},
   "source": [
    "* String methods\n",
    "    * capitalize()\n",
    "    * count()\n",
    "    * endswith\n",
    "    "
   ]
  },
  {
   "cell_type": "markdown",
   "id": "85e1cb4b",
   "metadata": {},
   "source": [
    "* captilize() - This method on string returns a copy by making the first character of the string in uppercase and the reset lowercased"
   ]
  },
  {
   "cell_type": "code",
   "execution_count": 20,
   "id": "dfe94020",
   "metadata": {},
   "outputs": [
    {
     "data": {
      "text/plain": [
       "'Tuticorn'"
      ]
     },
     "execution_count": 20,
     "metadata": {},
     "output_type": "execute_result"
    }
   ],
   "source": [
    "### \"tuticorn\".capitalize() shall return the output as Tuticorn #\"tuticorn\".capitalize()\n",
    "'tuticorn'.capitalize()\n",
    "word = 'tuticorn'\n",
    "word.capitalize()"
   ]
  },
  {
   "cell_type": "markdown",
   "id": "db039eb3",
   "metadata": {},
   "source": [
    "* count() - This method counts the number of times a given sub-string occurs in a given string"
   ]
  },
  {
   "cell_type": "code",
   "execution_count": 22,
   "id": "7c970cf0",
   "metadata": {},
   "outputs": [
    {
     "data": {
      "text/plain": [
       "2"
      ]
     },
     "execution_count": 22,
     "metadata": {},
     "output_type": "execute_result"
    }
   ],
   "source": [
    "### \"Tuticorn has two words tuti and corn\".count('corn') counts the number of time corn has appeared\n",
    "## \"Tuticorn has two words tuti and corn\".count('corn')\n",
    "text_data = \"Tuticorn has two words tuti and corn\"\n",
    "\"Tuticorn has two words tuti and corn\".count('corn')\n",
    "text_data.count('corn')"
   ]
  },
  {
   "cell_type": "markdown",
   "id": "b9bc300a",
   "metadata": {},
   "source": [
    "* center() - Centres the string with the necessary padding at the ends"
   ]
  },
  {
   "cell_type": "code",
   "execution_count": 25,
   "id": "e29e2069",
   "metadata": {
    "scrolled": true
   },
   "outputs": [
    {
     "name": "stdout",
     "output_type": "stream",
     "text": [
      "   tuticorn   \n",
      "Length of tutword, 14\n"
     ]
    }
   ],
   "source": [
    "### \"Tuticorn\" centers the string with the necessary padding at the ends. \n",
    "##print(\"tuticorn\".center(12))\n",
    "## \"tuticorn\".center(12,\"=\")\n",
    "tutWord = \"tuticorn\".center(14)\n",
    "print(tutWord)\n",
    "print('Length of tutword,', len(tutWord))"
   ]
  },
  {
   "cell_type": "markdown",
   "id": "c7c803cb",
   "metadata": {},
   "source": [
    "* endswith() returns true if the string is available as suffix at the end."
   ]
  },
  {
   "cell_type": "code",
   "execution_count": 29,
   "id": "e19bdcc2",
   "metadata": {},
   "outputs": [
    {
     "data": {
      "text/plain": [
       "True"
      ]
     },
     "execution_count": 29,
     "metadata": {},
     "output_type": "execute_result"
    }
   ],
   "source": [
    "### \"Tuticorn has two words tuti and corn\".endswith(\"corn\") shall return True\n",
    "##\"Tuticorn has two words tuti and corn\".endswith(\"corn\")\n",
    "text_data = \"Tuticorn has two words tuti and corn\"\n",
    "text_data\n",
    "text_data.endswith('corn') ## True/False"
   ]
  },
  {
   "cell_type": "markdown",
   "id": "eff72ae8",
   "metadata": {},
   "source": [
    "* in operator can also be used to check if a sub-string is availble in String"
   ]
  },
  {
   "cell_type": "code",
   "execution_count": 32,
   "id": "2698fe1d",
   "metadata": {},
   "outputs": [
    {
     "data": {
      "text/plain": [
       "True"
      ]
     },
     "execution_count": 32,
     "metadata": {},
     "output_type": "execute_result"
    }
   ],
   "source": [
    "### \"corn\" in \"Tuticorn has two words tuti and corn\" returns True\n",
    "##\"corn\" in \"Tuticorn has two words tuti and corn\"\n",
    "text_data = \"Tuticorn has two words tuti and corn\"\n",
    "\"corn\" in text_data"
   ]
  },
  {
   "cell_type": "code",
   "execution_count": 33,
   "id": "f7adf985",
   "metadata": {},
   "outputs": [
    {
     "data": {
      "text/plain": [
       "False"
      ]
     },
     "execution_count": 33,
     "metadata": {},
     "output_type": "execute_result"
    }
   ],
   "source": [
    "### \"corns\" in \"Tuticorn has two words tuti and corn\" returns False\n",
    "##\"corns\" in \"Tuticorn has two words tuti and corn\"\n",
    "text_data = \"Tuticorn has two words tuti and corn\"\n",
    "\"corns\" in text_data"
   ]
  },
  {
   "cell_type": "markdown",
   "id": "aa79e9a8",
   "metadata": {},
   "source": [
    "* format on string can be used for formatting the string. The string on which this method is called can contain literal text or replacement fields delimited by braces {}"
   ]
  },
  {
   "cell_type": "code",
   "execution_count": 35,
   "id": "81b57a2a",
   "metadata": {},
   "outputs": [
    {
     "data": {
      "text/plain": [
       "'corn can be good during a movie'"
      ]
     },
     "execution_count": 35,
     "metadata": {},
     "output_type": "execute_result"
    }
   ],
   "source": [
    "### Passing the value without any index\n",
    "### \"corn can be good during a {}\".format(\"movie\") {} is replaced with movie\n",
    "##\"corn can be good during a {}\".format(\"movie\")\n",
    "\"corn can be good during a {}\".format(\"movie\")"
   ]
  },
  {
   "cell_type": "code",
   "execution_count": 39,
   "id": "42023ecc",
   "metadata": {},
   "outputs": [
    {
     "data": {
      "text/plain": [
       "'Product of two numbers 3 and 4 is 12 '"
      ]
     },
     "execution_count": 39,
     "metadata": {},
     "output_type": "execute_result"
    }
   ],
   "source": [
    "#### Index can be also be used to replace the positional argument with the string value\n",
    "#### \"value of two numbers {0} and {1} is {2} \".format(4,5,9)\n",
    "##\"value of two numbers {0} and {1} is {2} \".format(4,5,9)\n",
    "\"Product of two numbers {0} and {1} is {2} \".format(3,4,12)"
   ]
  },
  {
   "cell_type": "markdown",
   "id": "cfe8fafc",
   "metadata": {},
   "source": [
    "* find() - find function finds the index of the substring in the string </br>\n",
    "          If the substring is not found -1 will be returned"
   ]
  },
  {
   "cell_type": "code",
   "execution_count": 43,
   "id": "e8b9f020",
   "metadata": {},
   "outputs": [
    {
     "name": "stdout",
     "output_type": "stream",
     "text": [
      "32\n"
     ]
    },
    {
     "data": {
      "text/plain": [
       "'corn'"
      ]
     },
     "execution_count": 43,
     "metadata": {},
     "output_type": "execute_result"
    }
   ],
   "source": [
    "#### corn function finds it at the index \n",
    "## print()\"Tuticorn has two words tuti and corn\".find(\"corn\")) at 4\n",
    "#print(\"Tuticorn has two words tuti and corn\".find(\"corn\"))\n",
    "#print(\"Tuticorn has two words tuti and corn\".find(\"has\",15,36))\n",
    "text_data = \"Tuticorn has two words tuti and corn\"\n",
    "text_data.find('corn') # find(substring)\n",
    "indStart = text_data.find(\"corn\",9,36) # find(substring,start,end)\n",
    "print(indStart)\n",
    "text_data[indStart:]"
   ]
  },
  {
   "cell_type": "code",
   "execution_count": 45,
   "id": "5532e0fe",
   "metadata": {},
   "outputs": [
    {
     "data": {
      "text/plain": [
       "-1"
      ]
     },
     "execution_count": 45,
     "metadata": {},
     "output_type": "execute_result"
    }
   ],
   "source": [
    "text_data.find('bat')"
   ]
  },
  {
   "cell_type": "code",
   "execution_count": 44,
   "id": "72be55df",
   "metadata": {},
   "outputs": [
    {
     "data": {
      "text/plain": [
       "-1"
      ]
     },
     "execution_count": 44,
     "metadata": {},
     "output_type": "execute_result"
    }
   ],
   "source": [
    "text_data.find('corn',10,25)"
   ]
  },
  {
   "cell_type": "markdown",
   "id": "c69d1a62",
   "metadata": {},
   "source": [
    "* isalpha() - Returns True if all characters in the string are e string are alphabetic and there is at least one character, False otherwise"
   ]
  },
  {
   "cell_type": "code",
   "execution_count": 48,
   "id": "b1f565c2",
   "metadata": {},
   "outputs": [
    {
     "name": "stdout",
     "output_type": "stream",
     "text": [
      "hello world isalpha True\n",
      "Zero characters here  True\n",
      "Numbers as characters here False\n"
     ]
    }
   ],
   "source": [
    "#### \"234\".isalpha() returns True, \"helloworld\".isalpha() returns True\n",
    "#print(\"234\".isalpha())\n",
    "#print(\"helloworld\".isalpha())\n",
    "words1 = 'helloworld'\n",
    "print('hello world isalpha', words1.isalpha())\n",
    "words2 = ''\n",
    "print('Zero characters here ',words.isalpha())\n",
    "words3 = '234'\n",
    "print('Numbers as characters here',words3.isalpha())"
   ]
  },
  {
   "cell_type": "markdown",
   "id": "08438640",
   "metadata": {},
   "source": [
    "* isdecimal() returns True , if the value is decimal (0-9) else it returns false. "
   ]
  },
  {
   "cell_type": "code",
   "execution_count": 52,
   "id": "4ece2d1b",
   "metadata": {},
   "outputs": [
    {
     "name": "stdout",
     "output_type": "stream",
     "text": [
      "123 on isdeicmal True\n",
      "23.34 on isdecimal False\n",
      "³ on isdecimal False\n"
     ]
    }
   ],
   "source": [
    "#### \"10.23\".isdecimal() returns False \"234\".isdecimal() returns False,\"\\u00B3\".isdecimal() returns False\n",
    "#print(\"10.23\".isdecimal())\n",
    "##print(\"234\".isdecimal())\n",
    "##print(\"\\u00B3\".isdecimal())\n",
    "num1 = '123'\n",
    "print('123 on isdeicmal',num1.isdecimal())\n",
    "num2 = '23.34'\n",
    "print('23.34 on isdecimal',num2.isdecimal())\n",
    "num3 = '\\u00B3'\n",
    "print('\\u00B3 on isdecimal',num3.isdecimal())"
   ]
  },
  {
   "cell_type": "markdown",
   "id": "9526b611",
   "metadata": {},
   "source": [
    "* isdigit() returns true if all charaters are digits and atleast one character. Else it returns False.\n",
    "  Unicode representations are also considered as digits"
   ]
  },
  {
   "cell_type": "code",
   "execution_count": 56,
   "id": "b1abfecd",
   "metadata": {},
   "outputs": [
    {
     "name": "stdout",
     "output_type": "stream",
     "text": [
      "num1 on isdigit True\n",
      "num2 on isdigit False\n",
      "num3 on isdigit True\n"
     ]
    }
   ],
   "source": [
    "#### \"121\".isdigit() returns True, \"A123\".isdigit() returns False, \"\\u00B3\".isdigit() returns True\n",
    "#print(\"121\".isdigit())\n",
    "#print(\"A123\".isdigit())\n",
    "#print(\"\\u00B3\".isdigit())\n",
    "num1 = '34'\n",
    "print('num1 on isdigit', num1.isdigit())\n",
    "num2 = 'A234'\n",
    "print('num2 on isdigit',num2.isdigit())\n",
    "num3 = '\\u00B3'\n",
    "print('num3 on isdigit',num3.isdigit())"
   ]
  },
  {
   "cell_type": "markdown",
   "id": "d5cce6e3",
   "metadata": {},
   "source": [
    "* islower() returns true if the case of the all characters is lowercase. Else False otherwise"
   ]
  },
  {
   "cell_type": "code",
   "execution_count": 59,
   "id": "c6b90781",
   "metadata": {},
   "outputs": [
    {
     "name": "stdout",
     "output_type": "stream",
     "text": [
      "lower case words True\n",
      "upper case included False\n"
     ]
    }
   ],
   "source": [
    "### \"tuticorn has two words tuti and corn\".islower() returns True. \"TUTICORN has two words tuti and corn\".islower()\n",
    "#print(\"tuticorn has two words tuti and corn\".islower())\n",
    "#print(\"TUTICORN has two words tuti and corn\".islower())\n",
    "text_data = 'tuticorn has two words tuti and corn'\n",
    "print('lower case words', text_data.islower())\n",
    "text_data_1 = 'TUTICORN has two words tuti and corn'\n",
    "print('upper case included',text_data_1.islower())"
   ]
  },
  {
   "cell_type": "markdown",
   "id": "b93faea2",
   "metadata": {},
   "source": [
    "* isupper() returns True if the case of all the characters is uppercase. Else Fale otherwise"
   ]
  },
  {
   "cell_type": "code",
   "execution_count": 61,
   "id": "9876a59d",
   "metadata": {},
   "outputs": [
    {
     "name": "stdout",
     "output_type": "stream",
     "text": [
      "isupper on text_data False\n",
      "isupper fine now  True\n"
     ]
    }
   ],
   "source": [
    "### \"TUTICORN HAS TWO WORDS TUTI AND CORN\".isupper() returns True. \"TUTICORN has two words tuti and corn\".isupper() returns False\n",
    "#print(\"TUTICORN HAS TWO WORDS TUTI AND CORN\".isupper())\n",
    "#print(\"TUTICORN has two words tuti and corn\".isupper())\n",
    "text_data = 'tuticorn has two words tuti and corn'\n",
    "print('isupper on text_data',text_data.isupper())\n",
    "text_data_1 = 'TUTUCORN HAS TWO WORDS TUTI AND CORN'\n",
    "print('isupper fine now ', text_data_1.isupper())"
   ]
  },
  {
   "cell_type": "markdown",
   "id": "8bbacced",
   "metadata": {},
   "source": [
    "* strip() function returns the copy of the string with the leading characters removed."
   ]
  },
  {
   "cell_type": "code",
   "execution_count": 63,
   "id": "9c278c60",
   "metadata": {},
   "outputs": [
    {
     "name": "stdout",
     "output_type": "stream",
     "text": [
      "TUTICORN\n"
     ]
    }
   ],
   "source": [
    "#### strip() function removes the spaces around the string. \" TUTICORN \".strip() removes the spaces and return \"TUTICORN\"\n",
    "#print(\" TUTICORN \".strip())\n",
    "word1 = \"  TUTICORN   \"\n",
    "word1 = word1.strip()\n",
    "print(word1)"
   ]
  },
  {
   "cell_type": "markdown",
   "id": "b48af6c2",
   "metadata": {},
   "source": [
    "* title() function returns the string with the first letter in each word is capitalized."
   ]
  },
  {
   "cell_type": "code",
   "execution_count": 64,
   "id": "df2b6249",
   "metadata": {},
   "outputs": [
    {
     "data": {
      "text/plain": [
       "'Tuticorn Has Two Words Tuti And Corn'"
      ]
     },
     "execution_count": 64,
     "metadata": {},
     "output_type": "execute_result"
    }
   ],
   "source": [
    "### title() function returns the capitalized word. \"tuti corn\".title() returns Tuti Corn\n",
    "#print(\"tuti corn\".title())\n",
    "word2 = 'tuticorn has two words tuti and corn'\n",
    "word2.title()"
   ]
  },
  {
   "cell_type": "markdown",
   "id": "54f036cf",
   "metadata": {},
   "source": [
    "#### Capturing Input from Command line using the input() function"
   ]
  },
  {
   "cell_type": "code",
   "execution_count": 1,
   "id": "8584cba5",
   "metadata": {},
   "outputs": [
    {
     "name": "stdout",
     "output_type": "stream",
     "text": [
      "Enter the nameJayant\n",
      "My name is  Jayant\n"
     ]
    }
   ],
   "source": [
    "### Pass name as input to capture the input from the command line\n",
    "#print(f'My name is', end=' ')\n",
    "#name = input()\n",
    "name = input('Enter the name')\n",
    "print('My name is ', name)"
   ]
  },
  {
   "cell_type": "code",
   "execution_count": 3,
   "id": "bde3a636",
   "metadata": {},
   "outputs": [
    {
     "name": "stdout",
     "output_type": "stream",
     "text": [
      "Enter the age10\n",
      "Age  10\n",
      "<class 'str'>\n"
     ]
    }
   ],
   "source": [
    "### pass age as input to capture the input from the command line\n",
    "#print('Age is',end=' ') #age = input() #print(type(age))\n",
    "age = input('Enter the age')\n",
    "print('Age ',age)\n",
    "print(type(age))"
   ]
  },
  {
   "cell_type": "code",
   "execution_count": 7,
   "id": "041671f7",
   "metadata": {},
   "outputs": [
    {
     "name": "stdout",
     "output_type": "stream",
     "text": [
      "Enter the price value40.5\n",
      "price  40.5\n",
      "<class 'float'>\n",
      "405.0\n"
     ]
    }
   ],
   "source": [
    "###  pass price value as input to capture the input from the command line\n",
    "#print('Price is' , end=' ') #price = input() #price = float(price) #print(type(price))\n",
    "price = input('Enter the price value')\n",
    "price = float(price)\n",
    "print('price ',price)\n",
    "print(type(price))\n",
    "print(price*10)"
   ]
  },
  {
   "cell_type": "code",
   "execution_count": 96,
   "id": "9ac42f68",
   "metadata": {},
   "outputs": [],
   "source": [
    "### Exercise - Capture three inputs from the command line - name, addres and mobile and display the\n",
    "### details to the screen."
   ]
  },
  {
   "cell_type": "code",
   "execution_count": 9,
   "id": "958f5a2e",
   "metadata": {},
   "outputs": [
    {
     "name": "stdout",
     "output_type": "stream",
     "text": [
      "Enter your name jayant\n",
      "Enter your address India\n",
      "Enter you mobile 9776975664\n",
      "name of person is jayant , address is India , mobile is 9776975664\n"
     ]
    }
   ],
   "source": [
    "name = input('Enter your name ')\n",
    "address = input('Enter your address ')\n",
    "mobile = input('Enter you mobile ')\n",
    "print('name of person is {} , address is {} , mobile is {}'.format(name,address,mobile))"
   ]
  },
  {
   "cell_type": "code",
   "execution_count": 99,
   "id": "55a611dd",
   "metadata": {},
   "outputs": [
    {
     "name": "stdout",
     "output_type": "stream",
     "text": [
      "Enter your namejayant\n",
      "Enter your addressIndia\n",
      "Enter your mobile number9776975664\n",
      "name of the person is jayant, address is India, Mobile numer is 9776975664\n"
     ]
    }
   ],
   "source": []
  },
  {
   "cell_type": "markdown",
   "id": "17051efb",
   "metadata": {},
   "source": [
    "#### Operators and Operands in python\n",
    "  * Arthimetic Operators\n",
    "  * Comprision Operators\n",
    "  * Boolean Operators\n",
    "  * Bitwise Operators\n",
    "  * Identity Operators\n",
    "  * Membership Operators"
   ]
  },
  {
   "cell_type": "markdown",
   "id": "95028d4f",
   "metadata": {},
   "source": [
    "* Arthimetic Operators\n",
    "    * Addition\n",
    "    * Subtraction\n",
    "    * Multiplication\n",
    "    * Division\n",
    "    * Modulo\n",
    "    * exponentional"
   ]
  },
  {
   "cell_type": "markdown",
   "id": "fd8eb0b1",
   "metadata": {},
   "source": [
    "* Addition - Adds two numbers ('+')"
   ]
  },
  {
   "cell_type": "code",
   "execution_count": 10,
   "id": "f46cf6cc",
   "metadata": {},
   "outputs": [
    {
     "name": "stdout",
     "output_type": "stream",
     "text": [
      "23\n"
     ]
    }
   ],
   "source": [
    "### Add two number using '+'  #x = 10 #y = 13 #print(x+y)\n",
    "x = 10\n",
    "y = 13\n",
    "print(x+y)"
   ]
  },
  {
   "cell_type": "markdown",
   "id": "3cbb799b",
   "metadata": {},
   "source": [
    "* Subtraction - Subtract two numbers ('-')\n"
   ]
  },
  {
   "cell_type": "code",
   "execution_count": 11,
   "id": "8b78a3e6",
   "metadata": {},
   "outputs": [
    {
     "name": "stdout",
     "output_type": "stream",
     "text": [
      "3\n"
     ]
    }
   ],
   "source": [
    "#### Subtract two number using '-  x = 13, y = 10, print(x-y)\n",
    "x = 13\n",
    "y = 10\n",
    "print(x-y)"
   ]
  },
  {
   "cell_type": "markdown",
   "id": "09d44af8",
   "metadata": {},
   "source": [
    "* Multiplication - multiply two numbers ('*')"
   ]
  },
  {
   "cell_type": "code",
   "execution_count": 12,
   "id": "4c995aaf",
   "metadata": {},
   "outputs": [
    {
     "name": "stdout",
     "output_type": "stream",
     "text": [
      "70\n"
     ]
    }
   ],
   "source": [
    "#### Multiply two numbers using '*' , x = 10 ,y = 5 ,print(x*y)\n",
    "x = 10\n",
    "y = 7\n",
    "print(x*y)"
   ]
  },
  {
   "cell_type": "markdown",
   "id": "0844ccac",
   "metadata": {},
   "source": [
    "* Division - Division of two number ('/') or ('//')"
   ]
  },
  {
   "cell_type": "code",
   "execution_count": 13,
   "id": "38a8541a",
   "metadata": {},
   "outputs": [
    {
     "name": "stdout",
     "output_type": "stream",
     "text": [
      "1.5\n",
      "1\n"
     ]
    }
   ],
   "source": [
    "#### Divide two numbers using '/' x = 15 y = 10 print(x/y) print(x//y)\n",
    "x = 15\n",
    "y = 10\n",
    "print(x/y)\n",
    "print(x//y)"
   ]
  },
  {
   "cell_type": "markdown",
   "id": "87ba3418",
   "metadata": {},
   "source": [
    "* Modulo - Modulo of two numbers (%)"
   ]
  },
  {
   "cell_type": "code",
   "execution_count": 14,
   "id": "3f961b4d",
   "metadata": {},
   "outputs": [
    {
     "name": "stdout",
     "output_type": "stream",
     "text": [
      "3\n"
     ]
    }
   ],
   "source": [
    "#### Find the remainder of two numbers using % x = 20 y = 10  print(x%y)\n",
    "x = 33\n",
    "y = 10\n",
    "print(x%y)"
   ]
  },
  {
   "cell_type": "code",
   "execution_count": 107,
   "id": "c5b57541",
   "metadata": {},
   "outputs": [
    {
     "name": "stdout",
     "output_type": "stream",
     "text": [
      "2\n"
     ]
    }
   ],
   "source": [
    "#### Find the remainder of two numbers using % x = 30 y = 4 print(x%y)"
   ]
  },
  {
   "cell_type": "markdown",
   "id": "7f0c6c38",
   "metadata": {},
   "source": [
    "* Exponential - exponent of two numbers (**)"
   ]
  },
  {
   "cell_type": "code",
   "execution_count": 16,
   "id": "450816ca",
   "metadata": {},
   "outputs": [
    {
     "data": {
      "text/plain": [
       "9"
      ]
     },
     "execution_count": 16,
     "metadata": {},
     "output_type": "execute_result"
    }
   ],
   "source": [
    "#### Find the exponent of a number - Base and exponent x = 2 y = 3 print(2**3)\n",
    "3**2\n",
    "pow(3,2)"
   ]
  },
  {
   "cell_type": "markdown",
   "id": "ad869d45",
   "metadata": {},
   "source": [
    "* Comprision Operators\n",
    "    * Less than(<)\n",
    "    * greater than (>)\n",
    "    * less than or equal to (<=)\n",
    "    * equal to (==)\n",
    "    * greater than or equal to (>=)\n",
    "    * Not equal to (!=)"
   ]
  },
  {
   "cell_type": "code",
   "execution_count": 17,
   "id": "9e9bf6b6",
   "metadata": {},
   "outputs": [
    {
     "data": {
      "text/plain": [
       "False"
      ]
     },
     "execution_count": 17,
     "metadata": {},
     "output_type": "execute_result"
    }
   ],
   "source": [
    "#5 < 3\n",
    "5 < 3"
   ]
  },
  {
   "cell_type": "code",
   "execution_count": 18,
   "id": "b407a427",
   "metadata": {},
   "outputs": [
    {
     "data": {
      "text/plain": [
       "True"
      ]
     },
     "execution_count": 18,
     "metadata": {},
     "output_type": "execute_result"
    }
   ],
   "source": [
    "#9 > 4\n",
    "9 > 4"
   ]
  },
  {
   "cell_type": "code",
   "execution_count": 19,
   "id": "fc01d3fb",
   "metadata": {},
   "outputs": [
    {
     "data": {
      "text/plain": [
       "True"
      ]
     },
     "execution_count": 19,
     "metadata": {},
     "output_type": "execute_result"
    }
   ],
   "source": [
    "#10 >= 10\n",
    "10 >= 10"
   ]
  },
  {
   "cell_type": "code",
   "execution_count": 20,
   "id": "9a62bd0b",
   "metadata": {},
   "outputs": [
    {
     "data": {
      "text/plain": [
       "False"
      ]
     },
     "execution_count": 20,
     "metadata": {},
     "output_type": "execute_result"
    }
   ],
   "source": [
    "#11 >= 15\n",
    "11 >= 15"
   ]
  },
  {
   "cell_type": "code",
   "execution_count": 21,
   "id": "14fd63bf",
   "metadata": {},
   "outputs": [
    {
     "data": {
      "text/plain": [
       "True"
      ]
     },
     "execution_count": 21,
     "metadata": {},
     "output_type": "execute_result"
    }
   ],
   "source": [
    "#13 <= 14\n",
    "13 <= 14"
   ]
  },
  {
   "cell_type": "code",
   "execution_count": 22,
   "id": "fbe75290",
   "metadata": {},
   "outputs": [
    {
     "data": {
      "text/plain": [
       "True"
      ]
     },
     "execution_count": 22,
     "metadata": {},
     "output_type": "execute_result"
    }
   ],
   "source": [
    "#12 == 14\n",
    "14 == 14"
   ]
  },
  {
   "cell_type": "code",
   "execution_count": 23,
   "id": "2d0da06e",
   "metadata": {},
   "outputs": [
    {
     "data": {
      "text/plain": [
       "False"
      ]
     },
     "execution_count": 23,
     "metadata": {},
     "output_type": "execute_result"
    }
   ],
   "source": [
    "#15 == 16\n",
    "15 == 16"
   ]
  },
  {
   "cell_type": "code",
   "execution_count": 117,
   "id": "7dfe93dc",
   "metadata": {},
   "outputs": [
    {
     "data": {
      "text/plain": [
       "True"
      ]
     },
     "execution_count": 117,
     "metadata": {},
     "output_type": "execute_result"
    }
   ],
   "source": [
    "#12 == 12"
   ]
  },
  {
   "cell_type": "code",
   "execution_count": 24,
   "id": "57d9800f",
   "metadata": {},
   "outputs": [
    {
     "data": {
      "text/plain": [
       "True"
      ]
     },
     "execution_count": 24,
     "metadata": {},
     "output_type": "execute_result"
    }
   ],
   "source": [
    "# 23 != 24\n",
    "23 != 24"
   ]
  },
  {
   "cell_type": "code",
   "execution_count": 25,
   "id": "bed2c8be",
   "metadata": {},
   "outputs": [
    {
     "data": {
      "text/plain": [
       "False"
      ]
     },
     "execution_count": 25,
     "metadata": {},
     "output_type": "execute_result"
    }
   ],
   "source": [
    "# 23 != 23\n",
    "23 != 23"
   ]
  },
  {
   "cell_type": "markdown",
   "id": "94ecfaa7",
   "metadata": {},
   "source": [
    "* Boolean Operators\n",
    "    * and\n",
    "    * or\n",
    "    * not"
   ]
  },
  {
   "cell_type": "code",
   "execution_count": 26,
   "id": "51bb8ae7",
   "metadata": {},
   "outputs": [
    {
     "name": "stdout",
     "output_type": "stream",
     "text": [
      "True\n"
     ]
    }
   ],
   "source": [
    "### Perform the operation as below for 'and' operator- Check  (x > y) and (y > z) for output\n",
    "# x = 5 y = 2 z = 3 (x>y) and (y>z)\n",
    "x = 5\n",
    "y = 2\n",
    "z = 3\n",
    "print(x > y)"
   ]
  },
  {
   "cell_type": "code",
   "execution_count": 27,
   "id": "183ed1b8",
   "metadata": {},
   "outputs": [
    {
     "name": "stdout",
     "output_type": "stream",
     "text": [
      "False\n"
     ]
    }
   ],
   "source": [
    "print(y > z)"
   ]
  },
  {
   "cell_type": "code",
   "execution_count": 28,
   "id": "53458d9e",
   "metadata": {},
   "outputs": [
    {
     "data": {
      "text/plain": [
       "False"
      ]
     },
     "execution_count": 28,
     "metadata": {},
     "output_type": "execute_result"
    }
   ],
   "source": [
    "(x>y) and (y>z)"
   ]
  },
  {
   "cell_type": "code",
   "execution_count": 29,
   "id": "120c41d6",
   "metadata": {},
   "outputs": [
    {
     "data": {
      "text/plain": [
       "True"
      ]
     },
     "execution_count": 29,
     "metadata": {},
     "output_type": "execute_result"
    }
   ],
   "source": [
    "(x>y) and (z>y)"
   ]
  },
  {
   "cell_type": "code",
   "execution_count": 30,
   "id": "9f7936e4",
   "metadata": {},
   "outputs": [
    {
     "data": {
      "text/plain": [
       "True"
      ]
     },
     "execution_count": 30,
     "metadata": {},
     "output_type": "execute_result"
    }
   ],
   "source": [
    "#### Perform the operation as below for 'or' operator- Check  (x > y) or (y > z) for output\n",
    "# x > y or z > y\n",
    "(x>y) or (y>z)"
   ]
  },
  {
   "cell_type": "code",
   "execution_count": 31,
   "id": "14855970",
   "metadata": {},
   "outputs": [
    {
     "name": "stdout",
     "output_type": "stream",
     "text": [
      "True\n"
     ]
    }
   ],
   "source": [
    "#### Perform the operation as below for not operator - Check x != y\n",
    "# print(x!=y)\n",
    "print(x!=y)"
   ]
  },
  {
   "cell_type": "markdown",
   "id": "e0244f1d",
   "metadata": {},
   "source": [
    "* Bitwise Operators"
   ]
  },
  {
   "cell_type": "code",
   "execution_count": 32,
   "id": "702a694c",
   "metadata": {},
   "outputs": [
    {
     "name": "stdout",
     "output_type": "stream",
     "text": [
      "0\n"
     ]
    }
   ],
   "source": [
    "#### Bitwise opearators AND (0&1 gives 0, 1&0 give 0, 1&1 give 1,0&0 gives 0)\n",
    "# print(0&1)\n",
    "print(0&1)"
   ]
  },
  {
   "cell_type": "code",
   "execution_count": 33,
   "id": "f1bf5174",
   "metadata": {},
   "outputs": [
    {
     "name": "stdout",
     "output_type": "stream",
     "text": [
      "0\n"
     ]
    }
   ],
   "source": [
    "# print(0&0)\n",
    "print(0&0)"
   ]
  },
  {
   "cell_type": "code",
   "execution_count": 34,
   "id": "0a091f48",
   "metadata": {},
   "outputs": [
    {
     "name": "stdout",
     "output_type": "stream",
     "text": [
      "1\n"
     ]
    }
   ],
   "source": [
    "# print(1&1)\n",
    "print(1&1)"
   ]
  },
  {
   "cell_type": "code",
   "execution_count": 35,
   "id": "d3566b02",
   "metadata": {},
   "outputs": [
    {
     "name": "stdout",
     "output_type": "stream",
     "text": [
      "0\n"
     ]
    }
   ],
   "source": [
    "# print(1&0)\n",
    "print(1&0)"
   ]
  },
  {
   "cell_type": "code",
   "execution_count": null,
   "id": "7bd5260e",
   "metadata": {},
   "outputs": [],
   "source": []
  }
 ],
 "metadata": {
  "kernelspec": {
   "display_name": "Python 3 (ipykernel)",
   "language": "python",
   "name": "python3"
  },
  "language_info": {
   "codemirror_mode": {
    "name": "ipython",
    "version": 3
   },
   "file_extension": ".py",
   "mimetype": "text/x-python",
   "name": "python",
   "nbconvert_exporter": "python",
   "pygments_lexer": "ipython3",
   "version": "3.10.10"
  }
 },
 "nbformat": 4,
 "nbformat_minor": 5
}
