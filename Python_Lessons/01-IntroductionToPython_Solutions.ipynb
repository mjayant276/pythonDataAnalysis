{
 "cells": [
  {
   "cell_type": "markdown",
   "id": "78216f48",
   "metadata": {},
   "source": [
    "### Introduction to Python"
   ]
  },
  {
   "cell_type": "markdown",
   "id": "597030d5",
   "metadata": {},
   "source": [
    "### The following concepts shall be covered in the notebook\n",
    "* Print Statements\n",
    "* Variables\n",
    "* Different Data-Types\n",
    "* String Formatting"
   ]
  },
  {
   "cell_type": "markdown",
   "id": "bc47796a",
   "metadata": {},
   "source": [
    "#### Printing output - We shall use a string (sequence of words) to print the sentence to the output\n",
    "* We have an input cell and output cell in the notebook. \n",
    "* Passing a value to the print() function shall be used to print the output to the screen\n",
    "* In python, the sentences are stored in either ' quotes or \" quotes\n",
    "* We can use them to print the values in the following way "
   ]
  },
  {
   "cell_type": "code",
   "execution_count": 2,
   "id": "31b0bc63",
   "metadata": {},
   "outputs": [
    {
     "name": "stdout",
     "output_type": "stream",
     "text": [
      "Hello World\n"
     ]
    }
   ],
   "source": [
    "print('Hello World')"
   ]
  },
  {
   "cell_type": "code",
   "execution_count": 3,
   "id": "a28f47f4",
   "metadata": {},
   "outputs": [
    {
     "name": "stdout",
     "output_type": "stream",
     "text": [
      "Hello World\n"
     ]
    }
   ],
   "source": [
    "print(\"Hello World\")"
   ]
  },
  {
   "cell_type": "markdown",
   "id": "02075b92",
   "metadata": {},
   "source": [
    "We have seen how the output is print using the print in-built function\n",
    "Now , we shall start with the basic values (Numeric/String)  in python\n",
    "* The numeric values that can be used in python are of three types\n",
    "    * Integer \n",
    "    * Float \n",
    "    * Complex Type"
   ]
  },
  {
   "cell_type": "markdown",
   "id": "ef1c9a62",
   "metadata": {},
   "source": [
    "* Integer type"
   ]
  },
  {
   "cell_type": "code",
   "execution_count": 4,
   "id": "61aa587f",
   "metadata": {},
   "outputs": [
    {
     "data": {
      "text/plain": [
       "22"
      ]
     },
     "execution_count": 4,
     "metadata": {},
     "output_type": "execute_result"
    }
   ],
   "source": [
    "22"
   ]
  },
  {
   "cell_type": "markdown",
   "id": "a7d0c46c",
   "metadata": {},
   "source": [
    "* Floting type"
   ]
  },
  {
   "cell_type": "code",
   "execution_count": 5,
   "id": "030a40f3",
   "metadata": {},
   "outputs": [
    {
     "data": {
      "text/plain": [
       "22.32"
      ]
     },
     "execution_count": 5,
     "metadata": {},
     "output_type": "execute_result"
    }
   ],
   "source": [
    "22.32"
   ]
  },
  {
   "cell_type": "markdown",
   "id": "d595c88b",
   "metadata": {},
   "source": [
    "* Complex Type"
   ]
  },
  {
   "cell_type": "code",
   "execution_count": 6,
   "id": "e39ad7c5",
   "metadata": {},
   "outputs": [
    {
     "data": {
      "text/plain": [
       "(3+4j)"
      ]
     },
     "execution_count": 6,
     "metadata": {},
     "output_type": "execute_result"
    }
   ],
   "source": [
    "3+4j"
   ]
  },
  {
   "cell_type": "markdown",
   "id": "12df38be",
   "metadata": {},
   "source": [
    "#### Let us perform  some basic operations on the numbers\n",
    "* Addition\n",
    "* Subtraction\n",
    "* Multiplication\n",
    "* Division\n",
    "* exponent"
   ]
  },
  {
   "cell_type": "code",
   "execution_count": 8,
   "id": "4f6d2a48",
   "metadata": {},
   "outputs": [
    {
     "data": {
      "text/plain": [
       "7"
      ]
     },
     "execution_count": 8,
     "metadata": {},
     "output_type": "execute_result"
    }
   ],
   "source": [
    "## Addition\n",
    "3+4"
   ]
  },
  {
   "cell_type": "code",
   "execution_count": 9,
   "id": "e75405b5",
   "metadata": {},
   "outputs": [
    {
     "data": {
      "text/plain": [
       "3"
      ]
     },
     "execution_count": 9,
     "metadata": {},
     "output_type": "execute_result"
    }
   ],
   "source": [
    "## Subtraction\n",
    "8-5"
   ]
  },
  {
   "cell_type": "code",
   "execution_count": 10,
   "id": "f71cea05",
   "metadata": {},
   "outputs": [
    {
     "data": {
      "text/plain": [
       "15"
      ]
     },
     "execution_count": 10,
     "metadata": {},
     "output_type": "execute_result"
    }
   ],
   "source": [
    "### Multiplication\n",
    "3*5"
   ]
  },
  {
   "cell_type": "code",
   "execution_count": 11,
   "id": "a7857525",
   "metadata": {},
   "outputs": [
    {
     "data": {
      "text/plain": [
       "1.6666666666666667"
      ]
     },
     "execution_count": 11,
     "metadata": {},
     "output_type": "execute_result"
    }
   ],
   "source": [
    "### Division\n",
    "5/3"
   ]
  },
  {
   "cell_type": "code",
   "execution_count": 16,
   "id": "1bbef0ea",
   "metadata": {},
   "outputs": [
    {
     "data": {
      "text/plain": [
       "1"
      ]
     },
     "execution_count": 16,
     "metadata": {},
     "output_type": "execute_result"
    }
   ],
   "source": [
    "### Division with two front slashes provides the output as below - \n",
    "### it rounds off to the nearest integer.\n",
    "5//3"
   ]
  },
  {
   "cell_type": "code",
   "execution_count": 17,
   "id": "f1bc4b6f",
   "metadata": {},
   "outputs": [
    {
     "data": {
      "text/plain": [
       "6.0"
      ]
     },
     "execution_count": 17,
     "metadata": {},
     "output_type": "execute_result"
    }
   ],
   "source": [
    "12/2"
   ]
  },
  {
   "cell_type": "code",
   "execution_count": 18,
   "id": "3cedb0b2",
   "metadata": {},
   "outputs": [
    {
     "data": {
      "text/plain": [
       "6"
      ]
     },
     "execution_count": 18,
     "metadata": {},
     "output_type": "execute_result"
    }
   ],
   "source": [
    "12//2"
   ]
  },
  {
   "cell_type": "code",
   "execution_count": 22,
   "id": "7731c3bf",
   "metadata": {},
   "outputs": [
    {
     "data": {
      "text/plain": [
       "8"
      ]
     },
     "execution_count": 22,
     "metadata": {},
     "output_type": "execute_result"
    }
   ],
   "source": [
    "## Exponent\n",
    "2**3"
   ]
  },
  {
   "cell_type": "code",
   "execution_count": 23,
   "id": "996dc675",
   "metadata": {},
   "outputs": [
    {
     "data": {
      "text/plain": [
       "16"
      ]
     },
     "execution_count": 23,
     "metadata": {},
     "output_type": "execute_result"
    }
   ],
   "source": [
    "## Exponent\n",
    "4**2"
   ]
  },
  {
   "cell_type": "markdown",
   "id": "6a7d0759",
   "metadata": {},
   "source": [
    "#### Lets look at how to represent the string data type in Python\n",
    "#### When we say string - It is sequence of characters. \n",
    "* String are generally enclosed in single quotes or double quotes."
   ]
  },
  {
   "cell_type": "code",
   "execution_count": 28,
   "id": "5aa60575",
   "metadata": {},
   "outputs": [
    {
     "data": {
      "text/plain": [
       "'Hello World'"
      ]
     },
     "execution_count": 28,
     "metadata": {},
     "output_type": "execute_result"
    }
   ],
   "source": [
    "### Use quotes to represent the data\n",
    "'Hello World'"
   ]
  },
  {
   "cell_type": "code",
   "execution_count": 29,
   "id": "39be707b",
   "metadata": {},
   "outputs": [
    {
     "name": "stdout",
     "output_type": "stream",
     "text": [
      "Hello World!\n"
     ]
    }
   ],
   "source": [
    "### Print 'Hello World!' to console\n",
    "print('Hello World!')"
   ]
  },
  {
   "cell_type": "code",
   "execution_count": 25,
   "id": "332d65e8",
   "metadata": {},
   "outputs": [
    {
     "data": {
      "text/plain": [
       "'Hello World!'"
      ]
     },
     "execution_count": 25,
     "metadata": {},
     "output_type": "execute_result"
    }
   ],
   "source": [
    "\"Hello World!\""
   ]
  },
  {
   "cell_type": "code",
   "execution_count": 30,
   "id": "4c136a0c",
   "metadata": {},
   "outputs": [
    {
     "name": "stdout",
     "output_type": "stream",
     "text": [
      "Hello World!\n"
     ]
    }
   ],
   "source": [
    "### Print \"Hello World!\" to console\n",
    "print(\"Hello World!\")"
   ]
  },
  {
   "cell_type": "code",
   "execution_count": 26,
   "id": "f3be9584",
   "metadata": {
    "scrolled": true
   },
   "outputs": [
    {
     "data": {
      "text/plain": [
       "'This is python '"
      ]
     },
     "execution_count": 26,
     "metadata": {},
     "output_type": "execute_result"
    }
   ],
   "source": [
    "### Represent 'This is python' in single quotes\n",
    "'This is python '"
   ]
  },
  {
   "cell_type": "code",
   "execution_count": 31,
   "id": "4612667e",
   "metadata": {},
   "outputs": [
    {
     "name": "stdout",
     "output_type": "stream",
     "text": [
      "This is python \n"
     ]
    }
   ],
   "source": [
    "#### Print 'This is python ' in single quotes and pass it to the print function\n",
    "print('This is python ')"
   ]
  },
  {
   "cell_type": "code",
   "execution_count": 27,
   "id": "9ab99bc8",
   "metadata": {},
   "outputs": [
    {
     "data": {
      "text/plain": [
       "'This is Python'"
      ]
     },
     "execution_count": 27,
     "metadata": {},
     "output_type": "execute_result"
    }
   ],
   "source": [
    "#### Represent \"This is Python \" in double quotes\n",
    "\"This is Python\""
   ]
  },
  {
   "cell_type": "code",
   "execution_count": 32,
   "id": "13cf7993",
   "metadata": {},
   "outputs": [
    {
     "name": "stdout",
     "output_type": "stream",
     "text": [
      "This is Python\n"
     ]
    }
   ],
   "source": [
    "### Print \"This is Python\" in double quotes and pass it to the print function\n",
    "print(\"This is Python\")"
   ]
  },
  {
   "cell_type": "markdown",
   "id": "a826f508",
   "metadata": {},
   "source": [
    "#### How to know which data type each value represents\n",
    "* Use the type function"
   ]
  },
  {
   "cell_type": "code",
   "execution_count": 33,
   "id": "c1dc7e63",
   "metadata": {},
   "outputs": [
    {
     "data": {
      "text/plain": [
       "int"
      ]
     },
     "execution_count": 33,
     "metadata": {},
     "output_type": "execute_result"
    }
   ],
   "source": [
    "type(20)"
   ]
  },
  {
   "cell_type": "code",
   "execution_count": 34,
   "id": "c9337ca8",
   "metadata": {},
   "outputs": [
    {
     "data": {
      "text/plain": [
       "float"
      ]
     },
     "execution_count": 34,
     "metadata": {},
     "output_type": "execute_result"
    }
   ],
   "source": [
    "type(3.14)"
   ]
  },
  {
   "cell_type": "code",
   "execution_count": 35,
   "id": "0668674d",
   "metadata": {},
   "outputs": [
    {
     "data": {
      "text/plain": [
       "str"
      ]
     },
     "execution_count": 35,
     "metadata": {},
     "output_type": "execute_result"
    }
   ],
   "source": [
    "type('Hello')"
   ]
  },
  {
   "cell_type": "code",
   "execution_count": 36,
   "id": "d7249ce2",
   "metadata": {},
   "outputs": [
    {
     "data": {
      "text/plain": [
       "complex"
      ]
     },
     "execution_count": 36,
     "metadata": {},
     "output_type": "execute_result"
    }
   ],
   "source": [
    "type(3+3j)"
   ]
  },
  {
   "cell_type": "markdown",
   "id": "d1dd13d4",
   "metadata": {},
   "source": [
    "#### How to store values in Python - Use Variables\n",
    "* Use of variables in python\n",
    "* Python is a dynamically typed programming language\n",
    "  * Dynamically Typed programming language is one where reassigment of values for different datatypes is possible "
   ]
  },
  {
   "cell_type": "code",
   "execution_count": 37,
   "id": "540bdc2b",
   "metadata": {},
   "outputs": [],
   "source": [
    "# Below x is a variable and it is being assigned a integer value of 10\n",
    "x = 10"
   ]
  },
  {
   "cell_type": "code",
   "execution_count": 38,
   "id": "0ec77efc",
   "metadata": {},
   "outputs": [
    {
     "data": {
      "text/plain": [
       "10"
      ]
     },
     "execution_count": 38,
     "metadata": {},
     "output_type": "execute_result"
    }
   ],
   "source": [
    "x"
   ]
  },
  {
   "cell_type": "code",
   "execution_count": 42,
   "id": "7065e466",
   "metadata": {},
   "outputs": [
    {
     "data": {
      "text/plain": [
       "int"
      ]
     },
     "execution_count": 42,
     "metadata": {},
     "output_type": "execute_result"
    }
   ],
   "source": [
    "## check the type of x - It is of type integer.\n",
    "type(x)"
   ]
  },
  {
   "cell_type": "code",
   "execution_count": 40,
   "id": "87d22a22",
   "metadata": {},
   "outputs": [],
   "source": [
    "## Y is a variable and it is being assigned a float value of 20\n",
    "y = 20.33"
   ]
  },
  {
   "cell_type": "code",
   "execution_count": 41,
   "id": "706a1d03",
   "metadata": {},
   "outputs": [
    {
     "data": {
      "text/plain": [
       "20.33"
      ]
     },
     "execution_count": 41,
     "metadata": {},
     "output_type": "execute_result"
    }
   ],
   "source": [
    "y"
   ]
  },
  {
   "cell_type": "code",
   "execution_count": 43,
   "id": "5a58ecb3",
   "metadata": {},
   "outputs": [
    {
     "data": {
      "text/plain": [
       "float"
      ]
     },
     "execution_count": 43,
     "metadata": {},
     "output_type": "execute_result"
    }
   ],
   "source": [
    "### Check the type of y - It is of type float\n",
    "type(y)"
   ]
  },
  {
   "cell_type": "code",
   "execution_count": 45,
   "id": "cec851db",
   "metadata": {},
   "outputs": [
    {
     "data": {
      "text/plain": [
       "(3+2j)"
      ]
     },
     "execution_count": 45,
     "metadata": {},
     "output_type": "execute_result"
    }
   ],
   "source": [
    "### z is a variable and it is being assigned a complex numebr of 3+2j\n",
    "z = 3 + 2j\n",
    "z"
   ]
  },
  {
   "cell_type": "code",
   "execution_count": 47,
   "id": "98220889",
   "metadata": {},
   "outputs": [
    {
     "data": {
      "text/plain": [
       "complex"
      ]
     },
     "execution_count": 47,
     "metadata": {},
     "output_type": "execute_result"
    }
   ],
   "source": [
    "### Check the type of z it is of complex type.\n",
    "type(z)"
   ]
  },
  {
   "cell_type": "code",
   "execution_count": 50,
   "id": "a0fab417",
   "metadata": {},
   "outputs": [
    {
     "data": {
      "text/plain": [
       "3.0"
      ]
     },
     "execution_count": 50,
     "metadata": {},
     "output_type": "execute_result"
    }
   ],
   "source": [
    "### A comlpex number has two parts - real part and imaginary part\n",
    "### real part is got from z.real\n",
    "z.real"
   ]
  },
  {
   "cell_type": "code",
   "execution_count": 51,
   "id": "43f87d38",
   "metadata": {},
   "outputs": [
    {
     "data": {
      "text/plain": [
       "2.0"
      ]
     },
     "execution_count": 51,
     "metadata": {},
     "output_type": "execute_result"
    }
   ],
   "source": [
    "### A complex number has two parts   - real part and imaginary part\n",
    "### imaginary part is got from z.imag\n",
    "z.imag"
   ]
  },
  {
   "cell_type": "markdown",
   "id": "732517d4",
   "metadata": {},
   "source": [
    "* Exercise - Compute area of triangle with given base and height"
   ]
  },
  {
   "cell_type": "code",
   "execution_count": 4,
   "id": "7b1ba873",
   "metadata": {},
   "outputs": [
    {
     "name": "stdout",
     "output_type": "stream",
     "text": [
      "Area of trinagle is  150.0\n"
     ]
    }
   ],
   "source": [
    "### area of trainge is given using the formula 0.5*b*h\n",
    "base = 20\n",
    "height = 15\n",
    "area = 0.5 * base * height\n",
    "print(\"Area of trinagle is \", area)"
   ]
  },
  {
   "cell_type": "markdown",
   "id": "bae4594d",
   "metadata": {},
   "source": [
    "#### Let us see how strings can be formatted "
   ]
  },
  {
   "cell_type": "code",
   "execution_count": 7,
   "id": "a22f1723",
   "metadata": {},
   "outputs": [
    {
     "name": "stdout",
     "output_type": "stream",
     "text": [
      "hello \n",
      "ew world\n"
     ]
    }
   ],
   "source": [
    "### We want to print \\ within the enclosed single quotes. We can do as below\n",
    "### \\n stands for new line\n",
    "print('hello \\new world')"
   ]
  },
  {
   "cell_type": "markdown",
   "id": "690483fd",
   "metadata": {},
   "source": [
    "* Two ways to escape the string character as mentioned below"
   ]
  },
  {
   "cell_type": "code",
   "execution_count": 14,
   "id": "cdd3ed60",
   "metadata": {},
   "outputs": [
    {
     "name": "stdout",
     "output_type": "stream",
     "text": [
      "hello \\new world\n"
     ]
    }
   ],
   "source": [
    "### using the raw format of the string\n",
    "print(r'hello \\new world')"
   ]
  },
  {
   "cell_type": "code",
   "execution_count": 9,
   "id": "9d92c2c9",
   "metadata": {},
   "outputs": [
    {
     "name": "stdout",
     "output_type": "stream",
     "text": [
      "hello \\new world\n"
     ]
    }
   ],
   "source": [
    "### If we want to escape the \\ we use another \\ to escape it\n",
    "print('hello \\\\new world')"
   ]
  },
  {
   "cell_type": "markdown",
   "id": "8e6aa744",
   "metadata": {},
   "source": [
    "* to specify tab space in the string"
   ]
  },
  {
   "cell_type": "code",
   "execution_count": 10,
   "id": "fe011987",
   "metadata": {},
   "outputs": [
    {
     "name": "stdout",
     "output_type": "stream",
     "text": [
      "hello \t world\n"
     ]
    }
   ],
   "source": [
    "## If  use \\t then it used as tab \n",
    "print('hello \\t world')"
   ]
  },
  {
   "cell_type": "markdown",
   "id": "022fb2d7",
   "metadata": {},
   "source": [
    "* Specify the apostrophe and present it as an escape character"
   ]
  },
  {
   "cell_type": "code",
   "execution_count": 11,
   "id": "bb502d0e",
   "metadata": {},
   "outputs": [
    {
     "name": "stdout",
     "output_type": "stream",
     "text": [
      "it's a new world\n"
     ]
    }
   ],
   "source": [
    "### We want to include quote in the output of print statement.We can print the statement as follows\n",
    "print('it\\'s a new world')"
   ]
  },
  {
   "cell_type": "markdown",
   "id": "14e66e69",
   "metadata": {},
   "source": [
    "* Multi line statements in print statements"
   ]
  },
  {
   "cell_type": "code",
   "execution_count": 12,
   "id": "7a7eb92c",
   "metadata": {},
   "outputs": [
    {
     "name": "stdout",
     "output_type": "stream",
     "text": [
      "This is how first line\n",
      "second line \n",
      "third line are printed\n",
      "\n"
     ]
    }
   ],
   "source": [
    "### Multiple line can be used in the following way - Single quote\n",
    "print('''This is how first line\n",
    "second line \n",
    "third line are printed\n",
    "''')"
   ]
  },
  {
   "cell_type": "code",
   "execution_count": 13,
   "id": "adb06ce1",
   "metadata": {},
   "outputs": [
    {
     "name": "stdout",
     "output_type": "stream",
     "text": [
      "This is how first line\n",
      "second line \n",
      "third line are printed\n",
      "\n"
     ]
    }
   ],
   "source": [
    "### Multiple line can be used in the following way - Single quote\n",
    "print(\"\"\"This is how first line\n",
    "second line \n",
    "third line are printed\n",
    "\"\"\")"
   ]
  },
  {
   "cell_type": "markdown",
   "id": "a2003bf8",
   "metadata": {},
   "source": [
    "#### Formatting string values"
   ]
  },
  {
   "cell_type": "markdown",
   "id": "56563820",
   "metadata": {},
   "source": [
    "* Using index values within curly braces to print the output value"
   ]
  },
  {
   "cell_type": "code",
   "execution_count": 21,
   "id": "067f8af3",
   "metadata": {},
   "outputs": [
    {
     "name": "stdout",
     "output_type": "stream",
     "text": [
      "Product of 2 and 3 is 6\n"
     ]
    }
   ],
   "source": [
    "### Using format function on top of the stirng value to print the output as follows\n",
    "print('Product of 2 and 3 is {}'.format(2*3))"
   ]
  },
  {
   "cell_type": "code",
   "execution_count": 22,
   "id": "e45768a7",
   "metadata": {},
   "outputs": [
    {
     "name": "stdout",
     "output_type": "stream",
     "text": [
      "Product of 2 and 3 is 6 \n"
     ]
    }
   ],
   "source": [
    "### Let say we have more that 2 value and want to format in the string values it can be done \n",
    "### as following\n",
    "print('Product of {0} and {1} is {2} '.format(2,3,2*3))"
   ]
  },
  {
   "cell_type": "code",
   "execution_count": 28,
   "id": "15c2b257",
   "metadata": {},
   "outputs": [
    {
     "name": "stdout",
     "output_type": "stream",
     "text": [
      "How are you doing ?\n"
     ]
    }
   ],
   "source": [
    "### For string values it will be denoted as following\n",
    "print('{0} {1} {2} {3}'.format(\"How\",\"are\",\"you\",\"doing ?\"))"
   ]
  },
  {
   "cell_type": "markdown",
   "id": "b3372a71",
   "metadata": {},
   "source": [
    "* Expressing float values in print statements"
   ]
  },
  {
   "cell_type": "code",
   "execution_count": 26,
   "id": "da1e176b",
   "metadata": {},
   "outputs": [
    {
     "name": "stdout",
     "output_type": "stream",
     "text": [
      "Value of pi is 3.14\n"
     ]
    }
   ],
   "source": [
    "print('Value of pi is {}'.format(3.14))"
   ]
  },
  {
   "cell_type": "code",
   "execution_count": null,
   "id": "c2157769",
   "metadata": {},
   "outputs": [],
   "source": [
    "* Exercise using string foramtting print the area of triangle in a single line\n",
    "height = 50\n",
    "length = 10\n",
    "print() ## write code inside the print function"
   ]
  },
  {
   "cell_type": "markdown",
   "id": "b171214a",
   "metadata": {},
   "source": [
    "#### using varaibles in print statements"
   ]
  },
  {
   "cell_type": "markdown",
   "id": "fb237420",
   "metadata": {},
   "source": [
    "* integer and float variables in print statements"
   ]
  },
  {
   "cell_type": "code",
   "execution_count": 30,
   "id": "023978a4",
   "metadata": {},
   "outputs": [
    {
     "name": "stdout",
     "output_type": "stream",
     "text": [
      "Value is  10\n"
     ]
    }
   ],
   "source": [
    "x = 10\n",
    "print('Value is ' , x)"
   ]
  },
  {
   "cell_type": "code",
   "execution_count": 31,
   "id": "0071ee66",
   "metadata": {},
   "outputs": [
    {
     "ename": "TypeError",
     "evalue": "can only concatenate str (not \"int\") to str",
     "output_type": "error",
     "traceback": [
      "\u001b[1;31m---------------------------------------------------------------------------\u001b[0m",
      "\u001b[1;31mTypeError\u001b[0m                                 Traceback (most recent call last)",
      "Cell \u001b[1;32mIn[31], line 2\u001b[0m\n\u001b[0;32m      1\u001b[0m \u001b[38;5;66;03m## The below throws an error\u001b[39;00m\n\u001b[1;32m----> 2\u001b[0m \u001b[38;5;28mprint\u001b[39m(\u001b[38;5;124;43m'\u001b[39;49m\u001b[38;5;124;43mvalue is\u001b[39;49m\u001b[38;5;124;43m'\u001b[39;49m\u001b[43m \u001b[49m\u001b[38;5;241;43m+\u001b[39;49m\u001b[43m \u001b[49m\u001b[43mx\u001b[49m)\n",
      "\u001b[1;31mTypeError\u001b[0m: can only concatenate str (not \"int\") to str"
     ]
    }
   ],
   "source": [
    "## The below throws an error\n",
    "print('value is' + x)"
   ]
  },
  {
   "cell_type": "code",
   "execution_count": 32,
   "id": "5327ca0d",
   "metadata": {},
   "outputs": [
    {
     "name": "stdout",
     "output_type": "stream",
     "text": [
      "Value is 10\n"
     ]
    }
   ],
   "source": [
    "### To correct the above statement we shall do the following\n",
    "print('Value is ' + str(x))"
   ]
  },
  {
   "cell_type": "markdown",
   "id": "d4f25695",
   "metadata": {},
   "source": [
    "* We shall come back to print formatting later as we get into other data structures in python"
   ]
  },
  {
   "cell_type": "markdown",
   "id": "13a6fa77",
   "metadata": {},
   "source": [
    "#### Let us look at some other functions for integers, float and string\n",
    "\n"
   ]
  },
  {
   "cell_type": "code",
   "execution_count": 42,
   "id": "534292c9",
   "metadata": {},
   "outputs": [
    {
     "data": {
      "text/plain": [
       "'10'"
      ]
     },
     "execution_count": 42,
     "metadata": {},
     "output_type": "execute_result"
    }
   ],
   "source": [
    "### Integer or float value is given - we need to convert it to string. \n",
    "### The following we can perform it\n",
    "value = 10\n",
    "str(value)"
   ]
  },
  {
   "cell_type": "code",
   "execution_count": 43,
   "id": "966bf831",
   "metadata": {},
   "outputs": [
    {
     "data": {
      "text/plain": [
       "'30.5'"
      ]
     },
     "execution_count": 43,
     "metadata": {},
     "output_type": "execute_result"
    }
   ],
   "source": [
    "fl2 = 30.5\n",
    "str(fl2)"
   ]
  },
  {
   "cell_type": "code",
   "execution_count": 49,
   "id": "b2424790",
   "metadata": {},
   "outputs": [
    {
     "name": "stdout",
     "output_type": "stream",
     "text": [
      "10  <class 'str'>\n",
      "10  10 <class 'int'>\n"
     ]
    }
   ],
   "source": [
    "### Integer/float String value is given, we need to convert that into int or float value\n",
    "str1 = '10'\n",
    "print(str1 + ' ' , type(str1))\n",
    "print(str1 + ' ' , int(str1) , type(int(str1)))"
   ]
  },
  {
   "cell_type": "code",
   "execution_count": 51,
   "id": "440b9551",
   "metadata": {},
   "outputs": [
    {
     "name": "stdout",
     "output_type": "stream",
     "text": [
      "10.54  <class 'str'>\n",
      "10.54  10.54 <class 'float'>\n"
     ]
    }
   ],
   "source": [
    "str2 = '10.54'\n",
    "print(str2 + ' ' , type(str2))\n",
    "print(str2 + ' ', float(str2), type(float(str2)))"
   ]
  }
 ],
 "metadata": {
  "kernelspec": {
   "display_name": "Python 3 (ipykernel)",
   "language": "python",
   "name": "python3"
  },
  "language_info": {
   "codemirror_mode": {
    "name": "ipython",
    "version": 3
   },
   "file_extension": ".py",
   "mimetype": "text/x-python",
   "name": "python",
   "nbconvert_exporter": "python",
   "pygments_lexer": "ipython3",
   "version": "3.10.10"
  }
 },
 "nbformat": 4,
 "nbformat_minor": 5
}
