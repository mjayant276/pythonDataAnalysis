{
 "cells": [
  {
   "cell_type": "markdown",
   "id": "7aab704b",
   "metadata": {},
   "source": [
    "### Introduction to Python"
   ]
  },
  {
   "cell_type": "markdown",
   "id": "d52fce04",
   "metadata": {},
   "source": [
    "### In this notebook we shall learn about how to print statements to output and work with the examples.\n",
    "* Print Statements\n",
    "* Variables\n",
    "* Different Data-Types\n",
    "* String Formatting"
   ]
  },
  {
   "cell_type": "markdown",
   "id": "bf0440c7",
   "metadata": {},
   "source": [
    "#### Printing output - We shall use a string (sequence of words) to print the sentence to the output\n",
    "* We have an input cell and output cell in the notebook. \n",
    "* Passing a value to the print() function shall be used to print the output to the screen\n",
    "* In python, the sentences are stored in either ' quotes or \" quotes\n",
    "* We can use them to print the values in the following way "
   ]
  },
  {
   "cell_type": "code",
   "execution_count": 2,
   "id": "863a5ef4",
   "metadata": {},
   "outputs": [
    {
     "name": "stdout",
     "output_type": "stream",
     "text": [
      "Hello World\n"
     ]
    }
   ],
   "source": [
    "print('Hello World')"
   ]
  },
  {
   "cell_type": "code",
   "execution_count": 3,
   "id": "febca275",
   "metadata": {},
   "outputs": [
    {
     "name": "stdout",
     "output_type": "stream",
     "text": [
      "Hello World\n"
     ]
    }
   ],
   "source": [
    "print(\"Hello World\")"
   ]
  },
  {
   "cell_type": "markdown",
   "id": "7c6123ab",
   "metadata": {},
   "source": [
    "We have seen how the output is print using the print in-built function\n",
    "Now , we shall start with the basic values (Numeric/String)  in python\n",
    "* The numeric values that can be used in python are of three types\n",
    "    * Integer \n",
    "    * Float \n",
    "    * Complex Type"
   ]
  },
  {
   "cell_type": "markdown",
   "id": "39509364",
   "metadata": {},
   "source": [
    "* Integer type"
   ]
  },
  {
   "cell_type": "code",
   "execution_count": 4,
   "id": "92f7eefd",
   "metadata": {},
   "outputs": [
    {
     "data": {
      "text/plain": [
       "22"
      ]
     },
     "execution_count": 4,
     "metadata": {},
     "output_type": "execute_result"
    }
   ],
   "source": [
    "22"
   ]
  },
  {
   "cell_type": "markdown",
   "id": "aec338c1",
   "metadata": {},
   "source": [
    "* Floting type"
   ]
  },
  {
   "cell_type": "code",
   "execution_count": 5,
   "id": "73e6f1ac",
   "metadata": {},
   "outputs": [
    {
     "data": {
      "text/plain": [
       "22.32"
      ]
     },
     "execution_count": 5,
     "metadata": {},
     "output_type": "execute_result"
    }
   ],
   "source": [
    "22.32"
   ]
  },
  {
   "cell_type": "markdown",
   "id": "c6e51d44",
   "metadata": {},
   "source": [
    "* Complex Type"
   ]
  },
  {
   "cell_type": "code",
   "execution_count": 6,
   "id": "a0a02c55",
   "metadata": {},
   "outputs": [
    {
     "data": {
      "text/plain": [
       "(3+4j)"
      ]
     },
     "execution_count": 6,
     "metadata": {},
     "output_type": "execute_result"
    }
   ],
   "source": [
    "3+4j"
   ]
  },
  {
   "cell_type": "markdown",
   "id": "e1ef03da",
   "metadata": {},
   "source": [
    "#### Let us perform  some basic operations on the numbers\n",
    "* Addition\n",
    "* Subtraction\n",
    "* Multiplication\n",
    "* Division\n",
    "* exponent"
   ]
  },
  {
   "cell_type": "code",
   "execution_count": 8,
   "id": "d22d7c3b",
   "metadata": {},
   "outputs": [
    {
     "data": {
      "text/plain": [
       "7"
      ]
     },
     "execution_count": 8,
     "metadata": {},
     "output_type": "execute_result"
    }
   ],
   "source": [
    "## Addition\n",
    "3+4"
   ]
  },
  {
   "cell_type": "code",
   "execution_count": 9,
   "id": "66f69052",
   "metadata": {},
   "outputs": [
    {
     "data": {
      "text/plain": [
       "3"
      ]
     },
     "execution_count": 9,
     "metadata": {},
     "output_type": "execute_result"
    }
   ],
   "source": [
    "## Subtraction\n",
    "8-5"
   ]
  },
  {
   "cell_type": "code",
   "execution_count": 10,
   "id": "87af338f",
   "metadata": {},
   "outputs": [
    {
     "data": {
      "text/plain": [
       "15"
      ]
     },
     "execution_count": 10,
     "metadata": {},
     "output_type": "execute_result"
    }
   ],
   "source": [
    "### Multiplication\n",
    "3*5"
   ]
  },
  {
   "cell_type": "code",
   "execution_count": 11,
   "id": "bf369c8e",
   "metadata": {},
   "outputs": [
    {
     "data": {
      "text/plain": [
       "1.6666666666666667"
      ]
     },
     "execution_count": 11,
     "metadata": {},
     "output_type": "execute_result"
    }
   ],
   "source": [
    "### Division\n",
    "5/3"
   ]
  },
  {
   "cell_type": "code",
   "execution_count": 16,
   "id": "d27c8bb3",
   "metadata": {},
   "outputs": [
    {
     "data": {
      "text/plain": [
       "1"
      ]
     },
     "execution_count": 16,
     "metadata": {},
     "output_type": "execute_result"
    }
   ],
   "source": [
    "### Division with two front slashes provides the output as below - \n",
    "### it rounds off to the nearest integer.\n",
    "5//3"
   ]
  },
  {
   "cell_type": "code",
   "execution_count": 17,
   "id": "05885ecb",
   "metadata": {},
   "outputs": [
    {
     "data": {
      "text/plain": [
       "6.0"
      ]
     },
     "execution_count": 17,
     "metadata": {},
     "output_type": "execute_result"
    }
   ],
   "source": [
    "12/2"
   ]
  },
  {
   "cell_type": "code",
   "execution_count": 18,
   "id": "e41d4905",
   "metadata": {},
   "outputs": [
    {
     "data": {
      "text/plain": [
       "6"
      ]
     },
     "execution_count": 18,
     "metadata": {},
     "output_type": "execute_result"
    }
   ],
   "source": [
    "12//2"
   ]
  },
  {
   "cell_type": "code",
   "execution_count": 22,
   "id": "f2d23c67",
   "metadata": {},
   "outputs": [
    {
     "data": {
      "text/plain": [
       "8"
      ]
     },
     "execution_count": 22,
     "metadata": {},
     "output_type": "execute_result"
    }
   ],
   "source": [
    "## Exponent\n",
    "2**3"
   ]
  },
  {
   "cell_type": "code",
   "execution_count": 23,
   "id": "ae498447",
   "metadata": {},
   "outputs": [
    {
     "data": {
      "text/plain": [
       "16"
      ]
     },
     "execution_count": 23,
     "metadata": {},
     "output_type": "execute_result"
    }
   ],
   "source": [
    "## Exponent\n",
    "4**2"
   ]
  },
  {
   "cell_type": "markdown",
   "id": "59b590d9",
   "metadata": {},
   "source": [
    "#### Lets look at how to represent the string data type in Python\n",
    "#### When we say string - It is sequence of characters. \n",
    "* String are generally enclosed in single quotes or double quotes."
   ]
  },
  {
   "cell_type": "code",
   "execution_count": 28,
   "id": "16e182fa",
   "metadata": {},
   "outputs": [
    {
     "data": {
      "text/plain": [
       "'Hello World'"
      ]
     },
     "execution_count": 28,
     "metadata": {},
     "output_type": "execute_result"
    }
   ],
   "source": [
    "### Use quotes to represent the data\n",
    "'Hello World'"
   ]
  },
  {
   "cell_type": "code",
   "execution_count": 29,
   "id": "a00fd839",
   "metadata": {},
   "outputs": [
    {
     "name": "stdout",
     "output_type": "stream",
     "text": [
      "Hello World!\n"
     ]
    }
   ],
   "source": [
    "### Print 'Hello World!' to console\n",
    "print('Hello World!')"
   ]
  },
  {
   "cell_type": "code",
   "execution_count": 25,
   "id": "1272c0f5",
   "metadata": {},
   "outputs": [
    {
     "data": {
      "text/plain": [
       "'Hello World!'"
      ]
     },
     "execution_count": 25,
     "metadata": {},
     "output_type": "execute_result"
    }
   ],
   "source": [
    "\"Hello World!\""
   ]
  },
  {
   "cell_type": "code",
   "execution_count": 30,
   "id": "152f24cf",
   "metadata": {},
   "outputs": [
    {
     "name": "stdout",
     "output_type": "stream",
     "text": [
      "Hello World!\n"
     ]
    }
   ],
   "source": [
    "### Print \"Hello World!\" to console\n",
    "print(\"Hello World!\")"
   ]
  },
  {
   "cell_type": "code",
   "execution_count": 26,
   "id": "6fc01522",
   "metadata": {
    "scrolled": true
   },
   "outputs": [
    {
     "data": {
      "text/plain": [
       "'This is python '"
      ]
     },
     "execution_count": 26,
     "metadata": {},
     "output_type": "execute_result"
    }
   ],
   "source": [
    "### Represent 'This is python' in single quotes\n",
    "'This is python '"
   ]
  },
  {
   "cell_type": "code",
   "execution_count": 31,
   "id": "bcb1a908",
   "metadata": {},
   "outputs": [
    {
     "name": "stdout",
     "output_type": "stream",
     "text": [
      "This is python \n"
     ]
    }
   ],
   "source": [
    "#### Print 'This is python ' in single quotes and pass it to the print function\n",
    "print('This is python ')"
   ]
  },
  {
   "cell_type": "code",
   "execution_count": 27,
   "id": "0d9edc39",
   "metadata": {},
   "outputs": [
    {
     "data": {
      "text/plain": [
       "'This is Python'"
      ]
     },
     "execution_count": 27,
     "metadata": {},
     "output_type": "execute_result"
    }
   ],
   "source": [
    "#### Represent \"This is Python \" in double quotes\n",
    "\"This is Python\""
   ]
  },
  {
   "cell_type": "code",
   "execution_count": 32,
   "id": "32f73b2e",
   "metadata": {},
   "outputs": [
    {
     "name": "stdout",
     "output_type": "stream",
     "text": [
      "This is Python\n"
     ]
    }
   ],
   "source": [
    "### Print \"This is Python\" in double quotes and pass it to the print function\n",
    "print(\"This is Python\")"
   ]
  },
  {
   "cell_type": "markdown",
   "id": "8cd19b15",
   "metadata": {},
   "source": [
    "#### How to know which data type each value represents\n",
    "* Use the type function"
   ]
  },
  {
   "cell_type": "code",
   "execution_count": 33,
   "id": "c79fe889",
   "metadata": {},
   "outputs": [
    {
     "data": {
      "text/plain": [
       "int"
      ]
     },
     "execution_count": 33,
     "metadata": {},
     "output_type": "execute_result"
    }
   ],
   "source": [
    "type(20)"
   ]
  },
  {
   "cell_type": "code",
   "execution_count": 34,
   "id": "e6eaebf3",
   "metadata": {},
   "outputs": [
    {
     "data": {
      "text/plain": [
       "float"
      ]
     },
     "execution_count": 34,
     "metadata": {},
     "output_type": "execute_result"
    }
   ],
   "source": [
    "type(3.14)"
   ]
  },
  {
   "cell_type": "code",
   "execution_count": 35,
   "id": "a4e140bb",
   "metadata": {},
   "outputs": [
    {
     "data": {
      "text/plain": [
       "str"
      ]
     },
     "execution_count": 35,
     "metadata": {},
     "output_type": "execute_result"
    }
   ],
   "source": [
    "type('Hello')"
   ]
  },
  {
   "cell_type": "code",
   "execution_count": 36,
   "id": "2434fa45",
   "metadata": {},
   "outputs": [
    {
     "data": {
      "text/plain": [
       "complex"
      ]
     },
     "execution_count": 36,
     "metadata": {},
     "output_type": "execute_result"
    }
   ],
   "source": [
    "type(3+3j)"
   ]
  },
  {
   "cell_type": "markdown",
   "id": "694c5445",
   "metadata": {},
   "source": [
    "#### How to store values in Python - Use Variables\n",
    "* Use of variables in python\n",
    "* Python is a dynamically typed programming language\n",
    "  * Dynamically Typed programming language is one where reassigment of values for different datatypes is possible "
   ]
  },
  {
   "cell_type": "code",
   "execution_count": 37,
   "id": "f152131c",
   "metadata": {},
   "outputs": [],
   "source": [
    "# Below x is a variable and it is being assigned a integer value of 10\n",
    "x = 10"
   ]
  },
  {
   "cell_type": "code",
   "execution_count": 38,
   "id": "878fb9bd",
   "metadata": {},
   "outputs": [
    {
     "data": {
      "text/plain": [
       "10"
      ]
     },
     "execution_count": 38,
     "metadata": {},
     "output_type": "execute_result"
    }
   ],
   "source": [
    "x"
   ]
  },
  {
   "cell_type": "code",
   "execution_count": 42,
   "id": "bb6714f2",
   "metadata": {},
   "outputs": [
    {
     "data": {
      "text/plain": [
       "int"
      ]
     },
     "execution_count": 42,
     "metadata": {},
     "output_type": "execute_result"
    }
   ],
   "source": [
    "## check the type of x - It is of type integer.\n",
    "type(x)"
   ]
  },
  {
   "cell_type": "code",
   "execution_count": 40,
   "id": "419d44e4",
   "metadata": {},
   "outputs": [],
   "source": [
    "## Y is a variable and it is being assigned a float value of 20\n",
    "y = 20.33"
   ]
  },
  {
   "cell_type": "code",
   "execution_count": 41,
   "id": "f02cd54d",
   "metadata": {},
   "outputs": [
    {
     "data": {
      "text/plain": [
       "20.33"
      ]
     },
     "execution_count": 41,
     "metadata": {},
     "output_type": "execute_result"
    }
   ],
   "source": [
    "y"
   ]
  },
  {
   "cell_type": "code",
   "execution_count": 43,
   "id": "c581ce93",
   "metadata": {},
   "outputs": [
    {
     "data": {
      "text/plain": [
       "float"
      ]
     },
     "execution_count": 43,
     "metadata": {},
     "output_type": "execute_result"
    }
   ],
   "source": [
    "### Check the type of y - It is of type float\n",
    "type(y)"
   ]
  },
  {
   "cell_type": "code",
   "execution_count": 45,
   "id": "851dd7ae",
   "metadata": {},
   "outputs": [
    {
     "data": {
      "text/plain": [
       "(3+2j)"
      ]
     },
     "execution_count": 45,
     "metadata": {},
     "output_type": "execute_result"
    }
   ],
   "source": [
    "### z is a variable and it is being assigned a complex numebr of 3+2j\n",
    "z = 3 + 2j\n",
    "z"
   ]
  },
  {
   "cell_type": "code",
   "execution_count": 47,
   "id": "f81d21ee",
   "metadata": {},
   "outputs": [
    {
     "data": {
      "text/plain": [
       "complex"
      ]
     },
     "execution_count": 47,
     "metadata": {},
     "output_type": "execute_result"
    }
   ],
   "source": [
    "### Check the type of z it is of complex type.\n",
    "type(z)"
   ]
  },
  {
   "cell_type": "code",
   "execution_count": 50,
   "id": "94ec7499",
   "metadata": {},
   "outputs": [
    {
     "data": {
      "text/plain": [
       "3.0"
      ]
     },
     "execution_count": 50,
     "metadata": {},
     "output_type": "execute_result"
    }
   ],
   "source": [
    "### A comlpex number has two parts - real part and imaginary part\n",
    "### real part is got from z.real\n",
    "z.real"
   ]
  },
  {
   "cell_type": "code",
   "execution_count": 51,
   "id": "3fe3efb8",
   "metadata": {},
   "outputs": [
    {
     "data": {
      "text/plain": [
       "2.0"
      ]
     },
     "execution_count": 51,
     "metadata": {},
     "output_type": "execute_result"
    }
   ],
   "source": [
    "### A complex number has two parts   - real part and imaginary part\n",
    "### imaginary part is got from z.imag\n",
    "z.imag"
   ]
  },
  {
   "cell_type": "code",
   "execution_count": null,
   "id": "7aa6b81f",
   "metadata": {},
   "outputs": [],
   "source": []
  },
  {
   "cell_type": "code",
   "execution_count": null,
   "id": "8ded3fde",
   "metadata": {},
   "outputs": [],
   "source": []
  }
 ],
 "metadata": {
  "kernelspec": {
   "display_name": "Python 3 (ipykernel)",
   "language": "python",
   "name": "python3"
  },
  "language_info": {
   "codemirror_mode": {
    "name": "ipython",
    "version": 3
   },
   "file_extension": ".py",
   "mimetype": "text/x-python",
   "name": "python",
   "nbconvert_exporter": "python",
   "pygments_lexer": "ipython3",
   "version": "3.10.10"
  }
 },
 "nbformat": 4,
 "nbformat_minor": 5
}
