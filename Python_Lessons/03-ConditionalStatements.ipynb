{
 "cells": [
  {
   "cell_type": "markdown",
   "id": "cce4cfbc",
   "metadata": {},
   "source": [
    "###  Python-Lesson 03\n",
    "#### In this notebook, we shall cover the following concepts \n",
    "   - Bitwise operators\n",
    "   - Membership operators\n",
    "   - Identity Operators\n",
    "   - Conditional Statements\n",
    "   - Python Data Structures\n",
    "       - List\n",
    "       - Tuple\n",
    "       - Sets\n",
    "       - Dictionary\n",
    "       - Collections in Python"
   ]
  },
  {
   "cell_type": "markdown",
   "id": "6cf3bedc",
   "metadata": {},
   "source": [
    "* Bitwise Operators\n",
    "* Membership Operators\n",
    "* Identity Operators"
   ]
  },
  {
   "cell_type": "markdown",
   "id": "f332b3d0",
   "metadata": {},
   "source": [
    "<img src=\"truthTable.JPG\">"
   ]
  },
  {
   "cell_type": "markdown",
   "id": "b6fd7050",
   "metadata": {},
   "source": [
    "* Bitwise Operators"
   ]
  },
  {
   "cell_type": "markdown",
   "id": "7d4f3fbe",
   "metadata": {},
   "source": [
    "- Bitwise AND (&) Operator"
   ]
  },
  {
   "cell_type": "code",
   "execution_count": 6,
   "id": "cf85b0cb",
   "metadata": {},
   "outputs": [
    {
     "name": "stdout",
     "output_type": "stream",
     "text": [
      "0b11\n",
      "0b101\n"
     ]
    }
   ],
   "source": [
    "print(bin(3))\n",
    "print(bin(5)) # 011 & 101 --> 1 3&5"
   ]
  },
  {
   "cell_type": "code",
   "execution_count": 2,
   "id": "04b482e1",
   "metadata": {},
   "outputs": [
    {
     "data": {
      "text/plain": [
       "1"
      ]
     },
     "execution_count": 2,
     "metadata": {},
     "output_type": "execute_result"
    }
   ],
   "source": [
    "3&5 # 011\n",
    "    # 101\n",
    "    #------\n",
    "    #   001 "
   ]
  },
  {
   "cell_type": "markdown",
   "id": "55390f6a",
   "metadata": {},
   "source": [
    "- Bitwise OR (|) Operator"
   ]
  },
  {
   "cell_type": "code",
   "execution_count": null,
   "id": "9c9e4b5d",
   "metadata": {},
   "outputs": [],
   "source": [
    "# 0011 | 0101 -> 0111 (3|5)"
   ]
  },
  {
   "cell_type": "code",
   "execution_count": 3,
   "id": "b6ad32cd",
   "metadata": {
    "scrolled": true
   },
   "outputs": [
    {
     "name": "stdout",
     "output_type": "stream",
     "text": [
      "7\n"
     ]
    }
   ],
   "source": [
    "# 011\n",
    "# 101\n",
    "#------\n",
    "#  111 -> 2^0 + 2^1 + 2^2\n",
    "print(3|5)"
   ]
  },
  {
   "cell_type": "markdown",
   "id": "33eb17fe",
   "metadata": {},
   "source": [
    "* Bitwise XOR (^) Operator"
   ]
  },
  {
   "cell_type": "code",
   "execution_count": 4,
   "id": "48f2a8d3",
   "metadata": {},
   "outputs": [
    {
     "name": "stdout",
     "output_type": "stream",
     "text": [
      "7\n"
     ]
    }
   ],
   "source": [
    "# 1011 ^ 1100 -> 0111 (11^12 -> 7)\n",
    "#1011\n",
    "#1100\n",
    "#-----\n",
    "#0111 -> 2^0 + 2^1 + 2^2\n",
    "print(11^12)"
   ]
  },
  {
   "cell_type": "markdown",
   "id": "3a311686",
   "metadata": {},
   "source": [
    "* Bitwise << left shift operator - The left shift operator shifts the left bits operand towards left.\n",
    "- 1100 << 2 means that the two zeros are appended at the right side. 110000 is the output"
   ]
  },
  {
   "cell_type": "code",
   "execution_count": 5,
   "id": "798397e1",
   "metadata": {},
   "outputs": [
    {
     "data": {
      "text/plain": [
       "48"
      ]
     },
     "execution_count": 5,
     "metadata": {},
     "output_type": "execute_result"
    }
   ],
   "source": [
    "### input is 1100 --> 12 << 2 output is 110000 (48) is the output - 12 << 2 \n",
    "# 1100\n",
    "12 << 2 # -> 110000 -> 32 + 16 = 48"
   ]
  },
  {
   "cell_type": "markdown",
   "id": "632ecae0",
   "metadata": {},
   "source": [
    "* Bitwise >> right shift operator - The right shift operator shifts the right side bits. The rigt side bit are removed.\n",
    "- 110011 >> 2 means that the last two bits are removed from the right side. 1100 is the output."
   ]
  },
  {
   "cell_type": "code",
   "execution_count": 8,
   "id": "07206816",
   "metadata": {},
   "outputs": [
    {
     "data": {
      "text/plain": [
       "3"
      ]
     },
     "execution_count": 8,
     "metadata": {},
     "output_type": "execute_result"
    }
   ],
   "source": [
    "# 51 -> in binary is 110011 and when last two are removed we get 1100 (12) as the output - 51 >> 2\n",
    "#110011  (51) -> 1100 (1*2^2 + 1*2^3 = 12) 110 -> 11 \n",
    "51 >> 4"
   ]
  },
  {
   "cell_type": "markdown",
   "id": "0acc9c44",
   "metadata": {},
   "source": [
    "* Bitwise one's complement operator (~) x -> -(x+1) . This gives the complement of the binary number\n",
    "- ~10 (1010) -> -11 "
   ]
  },
  {
   "cell_type": "code",
   "execution_count": 9,
   "id": "59ff72a6",
   "metadata": {},
   "outputs": [
    {
     "data": {
      "text/plain": [
       "-11"
      ]
     },
     "execution_count": 9,
     "metadata": {},
     "output_type": "execute_result"
    }
   ],
   "source": [
    "~10 #(-(10+1)) # x = -(x+1) -x-1"
   ]
  },
  {
   "cell_type": "code",
   "execution_count": 10,
   "id": "fc91083f",
   "metadata": {},
   "outputs": [
    {
     "data": {
      "text/plain": [
       "9"
      ]
     },
     "execution_count": 10,
     "metadata": {},
     "output_type": "execute_result"
    }
   ],
   "source": [
    "~-10"
   ]
  },
  {
   "cell_type": "code",
   "execution_count": 26,
   "id": "71e660a7",
   "metadata": {},
   "outputs": [
    {
     "data": {
      "text/plain": [
       "True"
      ]
     },
     "execution_count": 26,
     "metadata": {},
     "output_type": "execute_result"
    }
   ],
   "source": [
    "#### Exercise - check if a number is even using bitwise & operato x = 11 x&1 == 1  # odd number  y = 12 y&1 == 0 # even number"
   ]
  },
  {
   "cell_type": "code",
   "execution_count": 13,
   "id": "466d35cd",
   "metadata": {},
   "outputs": [
    {
     "data": {
      "text/plain": [
       "(5, 1)"
      ]
     },
     "execution_count": 13,
     "metadata": {},
     "output_type": "execute_result"
    }
   ],
   "source": [
    "divmod(11,2)"
   ]
  },
  {
   "cell_type": "code",
   "execution_count": 15,
   "id": "ebf77539",
   "metadata": {},
   "outputs": [
    {
     "data": {
      "text/plain": [
       "0"
      ]
     },
     "execution_count": 15,
     "metadata": {},
     "output_type": "execute_result"
    }
   ],
   "source": [
    "divmod(12,2)\n",
    "12%2"
   ]
  },
  {
   "cell_type": "code",
   "execution_count": 11,
   "id": "b8588b78",
   "metadata": {
    "scrolled": true
   },
   "outputs": [
    {
     "data": {
      "text/plain": [
       "True"
      ]
     },
     "execution_count": 11,
     "metadata": {},
     "output_type": "execute_result"
    }
   ],
   "source": [
    "x = 11\n",
    "x&1 == 1"
   ]
  },
  {
   "cell_type": "code",
   "execution_count": 12,
   "id": "ec52eecd",
   "metadata": {},
   "outputs": [
    {
     "data": {
      "text/plain": [
       "True"
      ]
     },
     "execution_count": 12,
     "metadata": {},
     "output_type": "execute_result"
    }
   ],
   "source": [
    "x=12\n",
    "x&1 == 0"
   ]
  },
  {
   "cell_type": "markdown",
   "id": "9d78d195",
   "metadata": {},
   "source": [
    "* Membership Operators - in and not in"
   ]
  },
  {
   "cell_type": "code",
   "execution_count": 16,
   "id": "92b9639d",
   "metadata": {},
   "outputs": [
    {
     "data": {
      "text/plain": [
       "True"
      ]
     },
     "execution_count": 16,
     "metadata": {},
     "output_type": "execute_result"
    }
   ],
   "source": [
    "### We can check the if the values are available or not in the given string for operators\n",
    "## a='hello' in b='hello can i know the time please ?' check a in b\n",
    "a = 'hello'\n",
    "b = 'hello ! can i know the time please ?'\n",
    "a in b"
   ]
  },
  {
   "cell_type": "code",
   "execution_count": 17,
   "id": "2464e729",
   "metadata": {},
   "outputs": [
    {
     "data": {
      "text/plain": [
       "True"
      ]
     },
     "execution_count": 17,
     "metadata": {},
     "output_type": "execute_result"
    }
   ],
   "source": [
    "### We can check the if the values are available or not in the given string for operators\n",
    "## a='bell' in b='hello can i know the time please ?' check a not in b\n",
    "a = 'bell'\n",
    "b = 'hello ! can i know the time please ?'\n",
    "a not in b"
   ]
  },
  {
   "cell_type": "code",
   "execution_count": 18,
   "id": "6427a243",
   "metadata": {},
   "outputs": [
    {
     "data": {
      "text/plain": [
       "False"
      ]
     },
     "execution_count": 18,
     "metadata": {},
     "output_type": "execute_result"
    }
   ],
   "source": [
    "### We can check the if the values are available or not in the given string for operators\n",
    "## a='bell' in b='hello can i know the time please ?' check a  in b\n",
    "a = 'bell'\n",
    "b = 'hello ! can i know the time please ?'\n",
    "a in b"
   ]
  },
  {
   "cell_type": "markdown",
   "id": "71dddf13",
   "metadata": {},
   "source": [
    "* Identity Operators - is and is not"
   ]
  },
  {
   "cell_type": "code",
   "execution_count": 19,
   "id": "453cb107",
   "metadata": {},
   "outputs": [
    {
     "data": {
      "text/plain": [
       "True"
      ]
     },
     "execution_count": 19,
     "metadata": {},
     "output_type": "execute_result"
    }
   ],
   "source": [
    "### is or is not operators can be used to know if certain conditions are met are not a = 21\n",
    "# b = 33 c = b print(c is b)\n",
    "b = 33\n",
    "c = b\n",
    "b is c"
   ]
  },
  {
   "cell_type": "code",
   "execution_count": 20,
   "id": "cecd8ec9",
   "metadata": {},
   "outputs": [
    {
     "data": {
      "text/plain": [
       "False"
      ]
     },
     "execution_count": 20,
     "metadata": {},
     "output_type": "execute_result"
    }
   ],
   "source": [
    "# print(c is not b)\n",
    "c is not b"
   ]
  },
  {
   "cell_type": "markdown",
   "id": "75ec9e74",
   "metadata": {},
   "source": [
    "### Python Conditional Statements\n",
    "if expr: </br>\n",
    "    statement </br>\n",
    "elif expr:    </br>\n",
    "    statement </br>\n",
    "elif expr:    </br>\n",
    "    statement </br>\n",
    "elif expr:    </br>\n",
    "    statement </br>\n",
    ": </br>\n",
    ": </br>\n",
    ": </br>\n",
    "else:         \n",
    "    statement "
   ]
  },
  {
   "cell_type": "code",
   "execution_count": 9,
   "id": "6f2c98c8",
   "metadata": {},
   "outputs": [
    {
     "name": "stdout",
     "output_type": "stream",
     "text": [
      "Out of if condition\n"
     ]
    }
   ],
   "source": [
    "## if key weyword\n",
    "x = -54\n",
    "if x > 0:\n",
    "    print('The value is positive')\n",
    "    x = x + 1 # x += 1\n",
    "    print(x)\n",
    "print('Out of if condition')    "
   ]
  },
  {
   "cell_type": "code",
   "execution_count": null,
   "id": "47f6918a",
   "metadata": {},
   "outputs": [],
   "source": []
  },
  {
   "cell_type": "code",
   "execution_count": 11,
   "id": "34b8ed87",
   "metadata": {},
   "outputs": [
    {
     "name": "stdout",
     "output_type": "stream",
     "text": [
      "Y is greater\n"
     ]
    }
   ],
   "source": [
    "## Simple condition for two numbers\n",
    "x = 10\n",
    "y = 20\n",
    "if x > y:\n",
    "    print('x is greater')\n",
    "else:\n",
    "    print('Y is greater')"
   ]
  },
  {
   "cell_type": "code",
   "execution_count": 14,
   "id": "6d5ed1d7",
   "metadata": {},
   "outputs": [
    {
     "name": "stdout",
     "output_type": "stream",
     "text": [
      "Enter a nameMayank\n",
      "Name is Mayank\n",
      "Turn left from here\n"
     ]
    }
   ],
   "source": [
    "### Enter a name to Capture input from the command line and write conditions for it.\n",
    "name = input('Enter a name')\n",
    "print('Name is', name)\n",
    "if name == 'Jayant':\n",
    "    print('Please go straight')\n",
    "elif name == 'Mayank':\n",
    "    print('Turn left from here')\n",
    "elif name == 'Pramod':\n",
    "    print('Turn right from here')\n",
    "elif name == 'Vinod':\n",
    "    print('Turn backwards')\n",
    "else:\n",
    "    print('Name is not available in here')"
   ]
  },
  {
   "cell_type": "code",
   "execution_count": 16,
   "id": "11645491",
   "metadata": {},
   "outputs": [
    {
     "name": "stdout",
     "output_type": "stream",
     "text": [
      "Enter age of participant 12\n",
      "Please try basics of computer\n"
     ]
    }
   ],
   "source": [
    "### Writing a if else block of code to capture the statements such that \n",
    "## we print statements only for age group of 13\n",
    "age = input('Enter age of participant ')\n",
    "age = int(age)\n",
    "if age >= 13:\n",
    "    print('You can start coding')\n",
    "else:\n",
    "    print('Please try basics of computer')"
   ]
  },
  {
   "cell_type": "markdown",
   "id": "dea30581",
   "metadata": {},
   "source": [
    "**Hacker Rank** Questions"
   ]
  },
  {
   "cell_type": "raw",
   "id": "c2e3f1bb",
   "metadata": {},
   "source": [
    "### Hacker Rank Question \n",
    "Given an integer, perform the following conditional actions:\n",
    "If n is odd, print Weird\n",
    "If n is even and in the inclusive range of 2 to 5, print Not Weird\n",
    "If n is even and in the inclusive range of to 6 to 20, print Weird\n",
    "If n is even and greater than 20 , print Not Weird\n",
    "n >= 1 and n <= 100"
   ]
  },
  {
   "cell_type": "code",
   "execution_count": 21,
   "id": "507c99af",
   "metadata": {},
   "outputs": [
    {
     "name": "stdout",
     "output_type": "stream",
     "text": [
      "Enter a number starting from 1 and ending at 100 24\n",
      "Not weird\n"
     ]
    }
   ],
   "source": [
    "## Summary of above n --> weird ( odd , even and 6 to 20) Not weird (even and 2to 5 and > 20)\n",
    "n = int(input('Enter a number starting from 1 and ending at 100 '))\n",
    "if n%2 != 0:\n",
    "    print('Weird')\n",
    "elif n%2 == 0 and 2 <= n <= 5:\n",
    "    print('Not weird')\n",
    "elif n%2 == 0 and 6 <= n <= 20:\n",
    "    print('Weird')\n",
    "elif n %2 == 0 and n > 20: #else:\n",
    "    print('Not weird')"
   ]
  },
  {
   "cell_type": "code",
   "execution_count": null,
   "id": "6974f0ad",
   "metadata": {},
   "outputs": [],
   "source": []
  },
  {
   "cell_type": "markdown",
   "id": "f374feb7",
   "metadata": {},
   "source": [
    "### Loops in Python\n",
    "- while loop in python"
   ]
  },
  {
   "cell_type": "code",
   "execution_count": 23,
   "id": "8889938d",
   "metadata": {},
   "outputs": [
    {
     "ename": "SyntaxError",
     "evalue": "incomplete input (678963958.py, line 3)",
     "output_type": "error",
     "traceback": [
      "\u001b[1;36m  Cell \u001b[1;32mIn[23], line 3\u001b[1;36m\u001b[0m\n\u001b[1;33m    #\u001b[0m\n\u001b[1;37m     ^\u001b[0m\n\u001b[1;31mSyntaxError\u001b[0m\u001b[1;31m:\u001b[0m incomplete input\n"
     ]
    }
   ],
   "source": [
    "while True:\n",
    "    #\n",
    "    #"
   ]
  },
  {
   "cell_type": "code",
   "execution_count": null,
   "id": "483ebb21",
   "metadata": {},
   "outputs": [],
   "source": [
    "x = 0\n",
    "while x < 7:\n",
    "    print(x)\n",
    "    #\n",
    "x += 1  # <- line is never reached  "
   ]
  },
  {
   "cell_type": "code",
   "execution_count": 22,
   "id": "ef88dbae",
   "metadata": {},
   "outputs": [
    {
     "name": "stdout",
     "output_type": "stream",
     "text": [
      "0\n",
      "1\n",
      "2\n",
      "3\n",
      "4\n",
      "5\n",
      "6\n"
     ]
    }
   ],
   "source": [
    "### while loops in python x = 0  while x < 7:\n",
    "x = 0\n",
    "while x < 7:\n",
    "    print(x)\n",
    "    x += 1 # x = x + 1"
   ]
  },
  {
   "cell_type": "code",
   "execution_count": 24,
   "id": "64e8f8cc",
   "metadata": {},
   "outputs": [
    {
     "name": "stdout",
     "output_type": "stream",
     "text": [
      "5\n",
      "4\n",
      "3\n",
      "2\n",
      "1\n"
     ]
    }
   ],
   "source": [
    "### while loops in python decreasing x = 5 while x > 0: print(x) x -= 1\n",
    "x = 5\n",
    "while x > 0:\n",
    "    print(x)\n",
    "    x -= 1"
   ]
  },
  {
   "cell_type": "markdown",
   "id": "8700f27c",
   "metadata": {},
   "source": [
    "- for loop in python"
   ]
  },
  {
   "cell_type": "markdown",
   "id": "b9cc2547",
   "metadata": {},
   "source": [
    "* Range Object - A Range "
   ]
  },
  {
   "cell_type": "markdown",
   "id": "7fc1084b",
   "metadata": {},
   "source": [
    "If we want to generate numbers from 0 to n - then we can use range() \n",
    "   - Generate numbers using range object\n",
    "   - range()- A range object generates a sequence of numbers starting from 0 to n"
   ]
  },
  {
   "cell_type": "code",
   "execution_count": 26,
   "id": "db327b2f",
   "metadata": {},
   "outputs": [
    {
     "data": {
      "text/plain": [
       "range(0, 10)"
      ]
     },
     "execution_count": 26,
     "metadata": {},
     "output_type": "execute_result"
    }
   ],
   "source": [
    "range(10)"
   ]
  },
  {
   "cell_type": "code",
   "execution_count": 27,
   "id": "1fb72812",
   "metadata": {},
   "outputs": [
    {
     "data": {
      "text/plain": [
       "range(0, 10, 2)"
      ]
     },
     "execution_count": 27,
     "metadata": {},
     "output_type": "execute_result"
    }
   ],
   "source": [
    "range(0,10,2) # range(start,end,step) # range(100,0,-1)"
   ]
  },
  {
   "cell_type": "code",
   "execution_count": 25,
   "id": "b2c32dd9",
   "metadata": {
    "scrolled": true
   },
   "outputs": [
    {
     "data": {
      "text/plain": [
       "range(1, 10)"
      ]
     },
     "execution_count": 25,
     "metadata": {},
     "output_type": "execute_result"
    }
   ],
   "source": [
    "range(1,10) ## "
   ]
  },
  {
   "cell_type": "code",
   "execution_count": 28,
   "id": "461716cc",
   "metadata": {},
   "outputs": [
    {
     "name": "stdout",
     "output_type": "stream",
     "text": [
      "0\n",
      "1\n",
      "2\n",
      "3\n",
      "4\n",
      "5\n",
      "6\n",
      "7\n"
     ]
    }
   ],
   "source": [
    "#for loops in python using range object - Starting from 0 and ending until 3 for i in range(3): print(i)\n",
    "for i in range(8):\n",
    "    print(i)"
   ]
  },
  {
   "cell_type": "code",
   "execution_count": 29,
   "id": "71afd917",
   "metadata": {},
   "outputs": [
    {
     "name": "stdout",
     "output_type": "stream",
     "text": [
      "3\n",
      "5\n",
      "7\n",
      "9\n"
     ]
    }
   ],
   "source": [
    "# for loops in python using range object - Starting from a number 2 and ending until 10.\n",
    "# for i in range(2,10):   print(i)\n",
    "for i in range(3,10,2):\n",
    "    print(i)"
   ]
  },
  {
   "cell_type": "code",
   "execution_count": 32,
   "id": "64ae60b8",
   "metadata": {},
   "outputs": [
    {
     "name": "stdout",
     "output_type": "stream",
     "text": [
      "0\n",
      "1\n",
      "2\n"
     ]
    }
   ],
   "source": [
    "for i in range(3):\n",
    "    print(i)"
   ]
  },
  {
   "cell_type": "code",
   "execution_count": 31,
   "id": "67ee6602",
   "metadata": {},
   "outputs": [
    {
     "name": "stdout",
     "output_type": "stream",
     "text": [
      "5\n",
      "6\n",
      "7\n",
      "8\n",
      "9\n"
     ]
    }
   ],
   "source": [
    "# for loops in python using range object - Staring from a number and ending at a number with difference\n",
    "# for i in range(2,14,2): print(i)\n",
    "for i in range(5,10):\n",
    "    print(i)"
   ]
  },
  {
   "cell_type": "code",
   "execution_count": 33,
   "id": "f2388adb",
   "metadata": {
    "scrolled": true
   },
   "outputs": [
    {
     "name": "stdout",
     "output_type": "stream",
     "text": [
      "0\n",
      "2\n",
      "4\n",
      "6\n",
      "8\n",
      "10\n",
      "12\n",
      "14\n"
     ]
    }
   ],
   "source": [
    "for i in range(15):\n",
    "    if i%2 == 0:\n",
    "        print(i)"
   ]
  },
  {
   "cell_type": "code",
   "execution_count": 35,
   "id": "be329e23",
   "metadata": {},
   "outputs": [
    {
     "name": "stdout",
     "output_type": "stream",
     "text": [
      "Enter the value of n 10\n",
      "0\n",
      "2\n",
      "4\n",
      "6\n",
      "8\n"
     ]
    }
   ],
   "source": [
    "n = int(input('Enter the value of n '))\n",
    "for i in range(n):\n",
    "    if i%2 == 0:\n",
    "        print(i)"
   ]
  },
  {
   "cell_type": "markdown",
   "id": "0b04fa9a",
   "metadata": {},
   "source": [
    "#### Python Data Structures\n",
    "- List\n",
    "- Tuple\n",
    "- Sets\n",
    "- Dictioary \n",
    "- Collections in Python"
   ]
  },
  {
   "cell_type": "markdown",
   "id": "ab2f5516",
   "metadata": {},
   "source": [
    "* List - List of comma separated values (items) between square brackets </br>\n",
    "       - Lists can be heterogenous - can take different values. </br>\n",
    "       - Lists can be accessed based on indices. </br>\n",
    "       \n",
    "\n",
    "</br>\n",
    "<span style=\"color:red\">   |  0  |  1  |  2  |  3  |  4 |  </span> </br>\n",
    "<span style=\"color:green\">|  1  |  2  |  3  |  4 |  5 |  </span> </br>\n",
    "<span style=\"color:blue\">  | -5  | -4  | -3  | -2  | -1 |  </span> </br>\n",
    "   "
   ]
  },
  {
   "cell_type": "code",
   "execution_count": 36,
   "id": "e4fca5f6",
   "metadata": {},
   "outputs": [],
   "source": [
    "### Creating an empty list - [] numval = []\n",
    "names = []\n",
    "names1 = list()"
   ]
  },
  {
   "cell_type": "code",
   "execution_count": 37,
   "id": "30d4a00f",
   "metadata": {
    "scrolled": true
   },
   "outputs": [
    {
     "name": "stdout",
     "output_type": "stream",
     "text": [
      "[]\n",
      "[]\n"
     ]
    }
   ],
   "source": [
    "print(names)\n",
    "print(names1)"
   ]
  },
  {
   "cell_type": "code",
   "execution_count": 38,
   "id": "1f686227",
   "metadata": {},
   "outputs": [
    {
     "name": "stdout",
     "output_type": "stream",
     "text": [
      "<class 'list'>\n",
      "<class 'list'>\n"
     ]
    }
   ],
   "source": [
    "print(type(names))\n",
    "print(type(names1))"
   ]
  },
  {
   "cell_type": "code",
   "execution_count": 39,
   "id": "46ba72e1",
   "metadata": {},
   "outputs": [
    {
     "name": "stdout",
     "output_type": "stream",
     "text": [
      "[1, 2, 3, 4, 5]\n"
     ]
    }
   ],
   "source": [
    "# numbers = [1,2,3,4,5] numbers\n",
    "numbers = [1,2,3,4,5]\n",
    "print(numbers)"
   ]
  },
  {
   "cell_type": "code",
   "execution_count": 41,
   "id": "b36cf04a",
   "metadata": {},
   "outputs": [
    {
     "data": {
      "text/plain": [
       "2"
      ]
     },
     "execution_count": 41,
     "metadata": {},
     "output_type": "execute_result"
    }
   ],
   "source": [
    "#### finding the numbers with zeroth index - numbers[0] numbers[0]\n",
    "numbers[0]\n",
    "numbers[1]"
   ]
  },
  {
   "cell_type": "code",
   "execution_count": 42,
   "id": "ba78a80e",
   "metadata": {},
   "outputs": [
    {
     "data": {
      "text/plain": [
       "5"
      ]
     },
     "execution_count": 42,
     "metadata": {},
     "output_type": "execute_result"
    }
   ],
   "source": [
    "#### Finding the numbers from the last - numbers[-1] numbers[-1]\n",
    "numbers[-1]"
   ]
  },
  {
   "cell_type": "code",
   "execution_count": 43,
   "id": "62cf3ba4",
   "metadata": {},
   "outputs": [
    {
     "data": {
      "text/plain": [
       "[1, 2, 3, 4, 5]"
      ]
     },
     "execution_count": 43,
     "metadata": {},
     "output_type": "execute_result"
    }
   ],
   "source": [
    "numbers"
   ]
  },
  {
   "cell_type": "code",
   "execution_count": 44,
   "id": "d028f025",
   "metadata": {},
   "outputs": [
    {
     "data": {
      "text/plain": [
       "[1, 2, 3, 4, 5]"
      ]
     },
     "execution_count": 44,
     "metadata": {},
     "output_type": "execute_result"
    }
   ],
   "source": [
    "#### finding the number from first (0) to last- numbers[0:]\n",
    "numbers[0:]"
   ]
  },
  {
   "cell_type": "code",
   "execution_count": 46,
   "id": "f46674a5",
   "metadata": {},
   "outputs": [
    {
     "data": {
      "text/plain": [
       "[2, 3, 4, 5]"
      ]
     },
     "execution_count": 46,
     "metadata": {},
     "output_type": "execute_result"
    }
   ],
   "source": [
    "#### finding the numbers from first index (1) to (4) index - numbers[1:4]\n",
    "numbers[1:4]\n",
    "numbers[1:]"
   ]
  },
  {
   "cell_type": "code",
   "execution_count": 47,
   "id": "98e49b5d",
   "metadata": {},
   "outputs": [
    {
     "data": {
      "text/plain": [
       "[3, 4, 5]"
      ]
     },
     "execution_count": 47,
     "metadata": {},
     "output_type": "execute_result"
    }
   ],
   "source": [
    "#### finding the numbers from second index (2) to (5) index - numbers[2:5]\n",
    "numbers[2:]"
   ]
  },
  {
   "cell_type": "code",
   "execution_count": 48,
   "id": "db5f2147",
   "metadata": {},
   "outputs": [
    {
     "data": {
      "text/plain": [
       "[2, 3, 4, 5]"
      ]
     },
     "execution_count": 48,
     "metadata": {},
     "output_type": "execute_result"
    }
   ],
   "source": [
    "#### finding the numbers from last index -3 to to the zeroth index -numbers[-3:]\n",
    "numbers[-4:]"
   ]
  },
  {
   "cell_type": "markdown",
   "id": "7c087cdd",
   "metadata": {},
   "source": [
    "* Print all numbers"
   ]
  },
  {
   "cell_type": "code",
   "execution_count": 49,
   "id": "7f2a324f",
   "metadata": {},
   "outputs": [
    {
     "name": "stdout",
     "output_type": "stream",
     "text": [
      "[1, 2, 3, 4, 5]\n"
     ]
    }
   ],
   "source": [
    "### listing all the numbers from the list - numbers[:]\n",
    "numbers[:]\n",
    "print(numbers)"
   ]
  },
  {
   "cell_type": "markdown",
   "id": "9c19d9c5",
   "metadata": {},
   "source": [
    "* print length of numbers"
   ]
  },
  {
   "cell_type": "code",
   "execution_count": 50,
   "id": "24b19e8f",
   "metadata": {},
   "outputs": [
    {
     "data": {
      "text/plain": [
       "5"
      ]
     },
     "execution_count": 50,
     "metadata": {},
     "output_type": "execute_result"
    }
   ],
   "source": [
    "### length of the list can be found using - len(numbers)\n",
    "len(numbers)"
   ]
  },
  {
   "cell_type": "markdown",
   "id": "95209087",
   "metadata": {},
   "source": [
    "* Assign value to particular index"
   ]
  },
  {
   "cell_type": "code",
   "execution_count": 1,
   "id": "82da8640",
   "metadata": {},
   "outputs": [
    {
     "data": {
      "text/plain": [
       "7"
      ]
     },
     "execution_count": 1,
     "metadata": {},
     "output_type": "execute_result"
    }
   ],
   "source": [
    "numbers = [0,1,2,3,4,5,6]\n",
    "len(numbers)"
   ]
  },
  {
   "cell_type": "code",
   "execution_count": 2,
   "id": "0043f9ef",
   "metadata": {},
   "outputs": [],
   "source": [
    "#### We can reassign value to a index in a list - assign a new number to index 0\n",
    "numbers[0] = 11"
   ]
  },
  {
   "cell_type": "code",
   "execution_count": 3,
   "id": "30595ed7",
   "metadata": {},
   "outputs": [
    {
     "data": {
      "text/plain": [
       "[11, 1, 2, 3, 4, 5, 6]"
      ]
     },
     "execution_count": 3,
     "metadata": {},
     "output_type": "execute_result"
    }
   ],
   "source": [
    "numbers"
   ]
  },
  {
   "cell_type": "code",
   "execution_count": 4,
   "id": "436455a3",
   "metadata": {},
   "outputs": [
    {
     "data": {
      "text/plain": [
       "[11, 1, 2, 3, 4, 5, 6]"
      ]
     },
     "execution_count": 4,
     "metadata": {},
     "output_type": "execute_result"
    }
   ],
   "source": [
    "# Check if new value is entered in numbers\n",
    "numbers"
   ]
  },
  {
   "cell_type": "markdown",
   "id": "585d8270",
   "metadata": {},
   "source": [
    "* append() elements to a list"
   ]
  },
  {
   "cell_type": "code",
   "execution_count": 5,
   "id": "02dc9e5f",
   "metadata": {},
   "outputs": [],
   "source": [
    "#### List values can be appended at the end in a list - numbers.append() - numbers.append(6)\n",
    "numbers.append(22)"
   ]
  },
  {
   "cell_type": "code",
   "execution_count": 6,
   "id": "4ea421d3",
   "metadata": {},
   "outputs": [
    {
     "data": {
      "text/plain": [
       "[11, 1, 2, 3, 4, 5, 6, 22]"
      ]
     },
     "execution_count": 6,
     "metadata": {},
     "output_type": "execute_result"
    }
   ],
   "source": [
    "#### List of number after the append - numbers\n",
    "numbers"
   ]
  },
  {
   "cell_type": "markdown",
   "id": "520fff30",
   "metadata": {},
   "source": [
    "* To check the type of the list"
   ]
  },
  {
   "cell_type": "code",
   "execution_count": 7,
   "id": "8f5099c8",
   "metadata": {},
   "outputs": [
    {
     "data": {
      "text/plain": [
       "list"
      ]
     },
     "execution_count": 7,
     "metadata": {},
     "output_type": "execute_result"
    }
   ],
   "source": [
    "#### Check type of list  # type(numbers)\n",
    "type(numbers)"
   ]
  },
  {
   "cell_type": "markdown",
   "id": "53d2dd39",
   "metadata": {},
   "source": [
    "* Elements of list is heterogenous"
   ]
  },
  {
   "cell_type": "code",
   "execution_count": 9,
   "id": "695d7e8d",
   "metadata": {},
   "outputs": [
    {
     "name": "stdout",
     "output_type": "stream",
     "text": [
      "['Apple', 'Banana', 23, 24, 25, 26, 23.5]\n"
     ]
    }
   ],
   "source": [
    "#### Different types of values an be appended to a list #listValues = ['Apple','Banana',23,24,25,26] listValues\n",
    "heteroValues = ['Apple','Banana',23,24,25,26,23.5]\n",
    "print(heteroValues)"
   ]
  },
  {
   "cell_type": "markdown",
   "id": "2e617b1a",
   "metadata": {},
   "source": [
    "* Append elements to a list using append()"
   ]
  },
  {
   "cell_type": "code",
   "execution_count": 10,
   "id": "49619c7c",
   "metadata": {},
   "outputs": [
    {
     "data": {
      "text/plain": [
       "['Apple', 'Banana', 23, 24, 25, 26, 23.5, 'Mango']"
      ]
     },
     "execution_count": 10,
     "metadata": {},
     "output_type": "execute_result"
    }
   ],
   "source": [
    "#### List can also be appended with 'Mango' at the list #listValues.append('Mango')\n",
    "heteroValues.append('Mango')\n",
    "heteroValues"
   ]
  },
  {
   "cell_type": "code",
   "execution_count": 11,
   "id": "e0fade9f",
   "metadata": {},
   "outputs": [],
   "source": [
    "#### list value can also be appended with [33,45,56] listValues.append([33,45,56])\n",
    "heteroValues.append([33,34,'PineApple'])"
   ]
  },
  {
   "cell_type": "code",
   "execution_count": 13,
   "id": "ceb058df",
   "metadata": {},
   "outputs": [
    {
     "data": {
      "text/plain": [
       "['Apple', 'Banana', 23, 24, 25, 26, 23.5, 'Mango', [33, 34, 'PineApple']]"
      ]
     },
     "execution_count": 13,
     "metadata": {},
     "output_type": "execute_result"
    }
   ],
   "source": [
    "#listValues\n",
    "heteroValues"
   ]
  },
  {
   "cell_type": "code",
   "execution_count": 14,
   "id": "a2dd5305",
   "metadata": {},
   "outputs": [
    {
     "data": {
      "text/plain": [
       "list"
      ]
     },
     "execution_count": 14,
     "metadata": {},
     "output_type": "execute_result"
    }
   ],
   "source": [
    "type(heteroValues)"
   ]
  },
  {
   "cell_type": "markdown",
   "id": "90290cd8",
   "metadata": {},
   "source": [
    "* Create list using the timing values - ['1:30','2:30','3:30','4:30','5:30','6:30','7:30']"
   ]
  },
  {
   "cell_type": "code",
   "execution_count": 15,
   "id": "bbc1b47e",
   "metadata": {},
   "outputs": [
    {
     "data": {
      "text/plain": [
       "['Apple', 'Banana', 23, 24, 25, 26, 23.5, 'Mango', [33, 34, 'PineApple']]"
      ]
     },
     "execution_count": 15,
     "metadata": {},
     "output_type": "execute_result"
    }
   ],
   "source": [
    "heteroValues"
   ]
  },
  {
   "cell_type": "code",
   "execution_count": 16,
   "id": "fd1fb3e9",
   "metadata": {},
   "outputs": [
    {
     "data": {
      "text/plain": [
       "['Carrot', 'Spinach', 'Cabbage']"
      ]
     },
     "execution_count": 16,
     "metadata": {},
     "output_type": "execute_result"
    }
   ],
   "source": [
    "gList = ['Carrot','Spinach','Cabbage']\n",
    "gList"
   ]
  },
  {
   "cell_type": "code",
   "execution_count": 17,
   "id": "c4627f42",
   "metadata": {},
   "outputs": [],
   "source": [
    "heteroValues = heteroValues + gList"
   ]
  },
  {
   "cell_type": "code",
   "execution_count": 18,
   "id": "8f34d9d5",
   "metadata": {},
   "outputs": [
    {
     "data": {
      "text/plain": [
       "['Apple',\n",
       " 'Banana',\n",
       " 23,\n",
       " 24,\n",
       " 25,\n",
       " 26,\n",
       " 23.5,\n",
       " 'Mango',\n",
       " [33, 34, 'PineApple'],\n",
       " 'Carrot',\n",
       " 'Spinach',\n",
       " 'Cabbage']"
      ]
     },
     "execution_count": 18,
     "metadata": {},
     "output_type": "execute_result"
    }
   ],
   "source": [
    "heteroValues"
   ]
  },
  {
   "cell_type": "code",
   "execution_count": 19,
   "id": "26e0438f",
   "metadata": {},
   "outputs": [
    {
     "data": {
      "text/plain": [
       "['1:30', '2:30', '3:30', '4:30', '5:30', '6:30', '7:30']"
      ]
     },
     "execution_count": 19,
     "metadata": {},
     "output_type": "execute_result"
    }
   ],
   "source": [
    "### timings values are like this - timings = ['1:30','2:30','3:30','4:30','5:30','6:30','7:30']\n",
    "timings = ['1:30','2:30','3:30','4:30','5:30','6:30','7:30']\n",
    "timings"
   ]
  },
  {
   "cell_type": "code",
   "execution_count": 20,
   "id": "f4d0bb63",
   "metadata": {},
   "outputs": [
    {
     "data": {
      "text/plain": [
       "['1:30', '2:30', '3:30']"
      ]
     },
     "execution_count": 20,
     "metadata": {},
     "output_type": "execute_result"
    }
   ],
   "source": [
    "timings[0:3]"
   ]
  },
  {
   "cell_type": "code",
   "execution_count": 21,
   "id": "08b2790f",
   "metadata": {},
   "outputs": [
    {
     "data": {
      "text/plain": [
       "['3:30', '4:30', '5:30']"
      ]
     },
     "execution_count": 21,
     "metadata": {},
     "output_type": "execute_result"
    }
   ],
   "source": [
    "## Slice the list value from 2:5 \n",
    "timings[2:5]"
   ]
  },
  {
   "cell_type": "code",
   "execution_count": 22,
   "id": "5bab030d",
   "metadata": {},
   "outputs": [
    {
     "data": {
      "text/plain": [
       "['5:30', '6:30', '7:30']"
      ]
     },
     "execution_count": 22,
     "metadata": {},
     "output_type": "execute_result"
    }
   ],
   "source": [
    "## Slice the list value from 4:\n",
    "timings[4:]"
   ]
  },
  {
   "cell_type": "markdown",
   "id": "844edd22",
   "metadata": {},
   "source": [
    "* reverse() a list"
   ]
  },
  {
   "cell_type": "code",
   "execution_count": 25,
   "id": "c022d9a5",
   "metadata": {},
   "outputs": [
    {
     "data": {
      "text/plain": [
       "['7:30', '6:30', '5:30', '4:30', '3:30', '2:30', '1:30']"
      ]
     },
     "execution_count": 25,
     "metadata": {},
     "output_type": "execute_result"
    }
   ],
   "source": [
    "### To find the reverse of the list - list[::-1]\n",
    "timings1 = timings[::-1]\n",
    "timings1"
   ]
  },
  {
   "cell_type": "code",
   "execution_count": 24,
   "id": "4f7f7fa2",
   "metadata": {},
   "outputs": [
    {
     "data": {
      "text/plain": [
       "['1:30', '2:30', '3:30', '4:30', '5:30', '6:30', '7:30']"
      ]
     },
     "execution_count": 24,
     "metadata": {},
     "output_type": "execute_result"
    }
   ],
   "source": [
    "timings"
   ]
  },
  {
   "cell_type": "code",
   "execution_count": 30,
   "id": "34dde273",
   "metadata": {},
   "outputs": [
    {
     "data": {
      "text/plain": [
       "['7:30', '6:30', '5:30', '4:30', '3:30', '2:30', '1:30']"
      ]
     },
     "execution_count": 30,
     "metadata": {},
     "output_type": "execute_result"
    }
   ],
   "source": [
    "### Alternatively to reverse the list- use the timings.reverse()\n",
    "timings.reverse()\n",
    "timings"
   ]
  },
  {
   "cell_type": "markdown",
   "id": "000c999c",
   "metadata": {},
   "source": [
    "* index of a value in the list"
   ]
  },
  {
   "cell_type": "code",
   "execution_count": 31,
   "id": "b8e1c762",
   "metadata": {},
   "outputs": [
    {
     "data": {
      "text/plain": [
       "['7:30', '6:30', '5:30', '4:30', '3:30', '2:30', '1:30']"
      ]
     },
     "execution_count": 31,
     "metadata": {},
     "output_type": "execute_result"
    }
   ],
   "source": [
    "#### To get the index of the given element - timings.index('2:30')\n",
    "timings"
   ]
  },
  {
   "cell_type": "code",
   "execution_count": 34,
   "id": "d5e70820",
   "metadata": {},
   "outputs": [
    {
     "data": {
      "text/plain": [
       "1"
      ]
     },
     "execution_count": 34,
     "metadata": {},
     "output_type": "execute_result"
    }
   ],
   "source": [
    "timings.index('6:30')"
   ]
  },
  {
   "cell_type": "markdown",
   "id": "2c39dc25",
   "metadata": {},
   "source": [
    "* insert an element at a particular index"
   ]
  },
  {
   "cell_type": "code",
   "execution_count": 39,
   "id": "1145ff67",
   "metadata": {},
   "outputs": [],
   "source": [
    "### Insert the value 8 at the index 2 - timings.insert(2,8)\n",
    "timings.insert(1,'7:00')"
   ]
  },
  {
   "cell_type": "code",
   "execution_count": 40,
   "id": "9b779865",
   "metadata": {},
   "outputs": [
    {
     "data": {
      "text/plain": [
       "['7:30', '7:00', '6:30', '5:30', '4:30', '3:30', '2:30', '1:30']"
      ]
     },
     "execution_count": 40,
     "metadata": {},
     "output_type": "execute_result"
    }
   ],
   "source": [
    "timings"
   ]
  },
  {
   "cell_type": "markdown",
   "id": "4a95db7a",
   "metadata": {},
   "source": [
    "* remove a value from the list"
   ]
  },
  {
   "cell_type": "code",
   "execution_count": 41,
   "id": "35129559",
   "metadata": {},
   "outputs": [
    {
     "data": {
      "text/plain": [
       "['7:30', '6:30', '5:30', '4:30', '3:30', '2:30', '1:30']"
      ]
     },
     "execution_count": 41,
     "metadata": {},
     "output_type": "execute_result"
    }
   ],
   "source": [
    "### To remove an element from the list we can do this - timings timings.remove(8)\n",
    "timings.remove('7:00')\n",
    "timings"
   ]
  },
  {
   "cell_type": "markdown",
   "id": "50ef57be",
   "metadata": {},
   "source": [
    "* pop an element from the list"
   ]
  },
  {
   "cell_type": "code",
   "execution_count": 42,
   "id": "bb252307",
   "metadata": {},
   "outputs": [
    {
     "data": {
      "text/plain": [
       "'1:30'"
      ]
     },
     "execution_count": 42,
     "metadata": {},
     "output_type": "execute_result"
    }
   ],
   "source": [
    "### to remove the top most element from the list - timings - timings.pop()\n",
    "timings.pop()"
   ]
  },
  {
   "cell_type": "code",
   "execution_count": 43,
   "id": "1b975c72",
   "metadata": {},
   "outputs": [
    {
     "data": {
      "text/plain": [
       "['7:30', '6:30', '5:30', '4:30', '3:30', '2:30']"
      ]
     },
     "execution_count": 43,
     "metadata": {},
     "output_type": "execute_result"
    }
   ],
   "source": [
    "timings"
   ]
  },
  {
   "cell_type": "markdown",
   "id": "8e52d88e",
   "metadata": {},
   "source": [
    "* sort() an element from the list"
   ]
  },
  {
   "cell_type": "code",
   "execution_count": 44,
   "id": "83bd09a9",
   "metadata": {},
   "outputs": [],
   "source": [
    "### using the sort() list can be sorted - timings.sort()\n",
    "timings.sort()"
   ]
  },
  {
   "cell_type": "code",
   "execution_count": 45,
   "id": "7b85b9fc",
   "metadata": {},
   "outputs": [
    {
     "data": {
      "text/plain": [
       "['2:30', '3:30', '4:30', '5:30', '6:30', '7:30']"
      ]
     },
     "execution_count": 45,
     "metadata": {},
     "output_type": "execute_result"
    }
   ],
   "source": [
    "timings"
   ]
  },
  {
   "cell_type": "markdown",
   "id": "5bd9654b",
   "metadata": {},
   "source": [
    "* extend an element from the list"
   ]
  },
  {
   "cell_type": "code",
   "execution_count": 46,
   "id": "580e23a8",
   "metadata": {},
   "outputs": [],
   "source": [
    "## Extend the list by adding the elements - Elements shall be appended at the end of the list\n",
    "## extend - ['7:30','8:30','9:30'] # timings.extend(['7:30','8:30','9:30'])\n",
    "timings.extend(['8:30','9:30','10:30'])"
   ]
  },
  {
   "cell_type": "code",
   "execution_count": 47,
   "id": "63310d21",
   "metadata": {},
   "outputs": [
    {
     "data": {
      "text/plain": [
       "['2:30', '3:30', '4:30', '5:30', '6:30', '7:30', '8:30', '9:30', '10:30']"
      ]
     },
     "execution_count": 47,
     "metadata": {},
     "output_type": "execute_result"
    }
   ],
   "source": [
    "timings"
   ]
  },
  {
   "cell_type": "code",
   "execution_count": 48,
   "id": "ede06184",
   "metadata": {},
   "outputs": [
    {
     "data": {
      "text/plain": [
       "['2:30',\n",
       " '3:30',\n",
       " '4:30',\n",
       " '5:30',\n",
       " '6:30',\n",
       " '7:30',\n",
       " '8:30',\n",
       " '9:30',\n",
       " '10:30',\n",
       " '10:30',\n",
       " '11:30',\n",
       " '12:30']"
      ]
     },
     "execution_count": 48,
     "metadata": {},
     "output_type": "execute_result"
    }
   ],
   "source": [
    "midNightTimings = ['10:30','11:30','12:30']\n",
    "timings.extend(midNightTimings)\n",
    "timings"
   ]
  },
  {
   "cell_type": "markdown",
   "id": "2fda8118",
   "metadata": {},
   "source": [
    "* Iterate a list"
   ]
  },
  {
   "cell_type": "code",
   "execution_count": 49,
   "id": "4c4817fd",
   "metadata": {
    "scrolled": true
   },
   "outputs": [
    {
     "name": "stdout",
     "output_type": "stream",
     "text": [
      "The Time now is 2:30\n",
      "The Time now is 3:30\n",
      "The Time now is 4:30\n",
      "The Time now is 5:30\n",
      "The Time now is 6:30\n",
      "The Time now is 7:30\n",
      "The Time now is 8:30\n",
      "The Time now is 9:30\n",
      "The Time now is 10:30\n",
      "The Time now is 10:30\n",
      "The Time now is 11:30\n",
      "The Time now is 12:30\n"
     ]
    }
   ],
   "source": [
    "## for timing in timings: print(\"The time now is {}\".format(timing))\n",
    "# ['2:30', '3:30', '4:30', '5:30', '6:30', '7:30', '8:30', '9:30', '10:30']\n",
    "for timing in timings:\n",
    "    print('The Time now is {}'.format(timing))"
   ]
  },
  {
   "cell_type": "markdown",
   "id": "3a460dc4",
   "metadata": {},
   "source": [
    "* sum of elements in a list"
   ]
  },
  {
   "cell_type": "code",
   "execution_count": 53,
   "id": "99b56747",
   "metadata": {
    "scrolled": true
   },
   "outputs": [
    {
     "name": "stdout",
     "output_type": "stream",
     "text": [
      "The sum of numbers is 91.0\n"
     ]
    },
    {
     "data": {
      "text/plain": [
       "[10, 11, 12, 13, 14, 15, 16.0]"
      ]
     },
     "execution_count": 53,
     "metadata": {},
     "output_type": "execute_result"
    }
   ],
   "source": [
    "### Lets build a list using 10,11,12,13,14,15,16 - The sum of all the elements in the list can be computed\n",
    "### in two ways  - sum(intList) or using for loops\n",
    "numbers = [10,11,12,13,14,15,16.0]\n",
    "print('The sum of numbers is', sum(numbers)) \n",
    "numbers"
   ]
  },
  {
   "cell_type": "markdown",
   "id": "94520ee9",
   "metadata": {},
   "source": [
    "* sum of the elements using for loops"
   ]
  },
  {
   "cell_type": "code",
   "execution_count": 54,
   "id": "7dfd0ac3",
   "metadata": {},
   "outputs": [
    {
     "name": "stdout",
     "output_type": "stream",
     "text": [
      "The sum of list of numbers is 91\n"
     ]
    }
   ],
   "source": [
    "intList = [10,11,12,13,14,15,16]\n",
    "slist = 0\n",
    "for num in intList:\n",
    "    slist = slist + num # slist += num\n",
    "print('The sum of list of numbers is', slist)    "
   ]
  },
  {
   "cell_type": "markdown",
   "id": "85ddf2f1",
   "metadata": {},
   "source": [
    "* for comprehensions"
   ]
  },
  {
   "cell_type": "code",
   "execution_count": 55,
   "id": "e96e1eba",
   "metadata": {},
   "outputs": [
    {
     "name": "stdout",
     "output_type": "stream",
     "text": [
      "[1, 4, 9, 16, 25]\n"
     ]
    }
   ],
   "source": [
    "### Sqaure of first 5 numbers using a list \n",
    "sqList = []\n",
    "for i in range(1,6):\n",
    "    sqList.append(i*i)\n",
    "print(sqList)    "
   ]
  },
  {
   "cell_type": "markdown",
   "id": "dda6f6dd",
   "metadata": {},
   "source": [
    "* While loop for square of first 5 number using a list\n",
    "\n"
   ]
  },
  {
   "cell_type": "markdown",
   "id": "4ba932e2",
   "metadata": {},
   "source": [
    "For comprehension is a simple way of returning the value based on certain input"
   ]
  },
  {
   "cell_type": "code",
   "execution_count": 57,
   "id": "c031d34f",
   "metadata": {},
   "outputs": [
    {
     "data": {
      "text/plain": [
       "[1, 4, 9, 16, 25]"
      ]
     },
     "execution_count": 57,
     "metadata": {},
     "output_type": "execute_result"
    }
   ],
   "source": [
    "## Based on the range object lets find the square of each number y = [x**2 for x in range(5)]\n",
    "y = [x**2 for x in range(1,6)] # -> [1**2,2**2,3**2,4**2,5**2]\n",
    "y"
   ]
  },
  {
   "cell_type": "code",
   "execution_count": 63,
   "id": "1ae2645b",
   "metadata": {},
   "outputs": [
    {
     "data": {
      "text/plain": [
       "[0, 1, 4, 9, 16]"
      ]
     },
     "execution_count": 63,
     "metadata": {},
     "output_type": "execute_result"
    }
   ],
   "source": [
    "y"
   ]
  },
  {
   "cell_type": "code",
   "execution_count": 59,
   "id": "3b061ce1",
   "metadata": {},
   "outputs": [
    {
     "name": "stdout",
     "output_type": "stream",
     "text": [
      "2\n",
      "4\n",
      "6\n",
      "8\n",
      "10\n",
      "[4, 16, 36, 64, 100]\n"
     ]
    }
   ],
   "source": [
    "sqList = []\n",
    "for i in range(1,11):\n",
    "    if i % 2 == 0:\n",
    "        print(i)\n",
    "        sqList.append(i*i)\n",
    "print(sqList) "
   ]
  },
  {
   "cell_type": "code",
   "execution_count": 60,
   "id": "7d52867b",
   "metadata": {},
   "outputs": [
    {
     "data": {
      "text/plain": [
       "[4, 16, 36, 64, 100]"
      ]
     },
     "execution_count": 60,
     "metadata": {},
     "output_type": "execute_result"
    }
   ],
   "source": [
    "## We can also include condition within the for comrephension y = [x**2 for x in range(10) if x%2 == 0 ]\n",
    "y = [i**2 for i in range(1,11) if i%2 == 0]\n",
    "y"
   ]
  },
  {
   "cell_type": "code",
   "execution_count": 61,
   "id": "e59f64de",
   "metadata": {},
   "outputs": [],
   "source": [
    "### return if only list contains letters starting with s #names = ['sunday','super','semi-conductor','non-conductor','mango','apple'] y = [x for x in names if x.startswith('s')]\n",
    "## using for loop get values that with s - list of values with starting letter 's'\n",
    "names = ['sunday','super','semi-conductor','non-conductor','maggi','autonomous']\n",
    "y = [name for name in names if name.startswith('s')]"
   ]
  },
  {
   "cell_type": "code",
   "execution_count": 62,
   "id": "d536c17e",
   "metadata": {},
   "outputs": [
    {
     "data": {
      "text/plain": [
       "['sunday', 'super', 'semi-conductor']"
      ]
     },
     "execution_count": 62,
     "metadata": {},
     "output_type": "execute_result"
    }
   ],
   "source": [
    "y"
   ]
  },
  {
   "cell_type": "markdown",
   "id": "9df84a29",
   "metadata": {},
   "source": [
    "#### Tuples\n",
    " - Tuples are immutable objects that can be represented in ()\n",
    " - Tuples can be accessed using indices\n",
    " - Tuples are created by passing vlues to ()"
   ]
  },
  {
   "cell_type": "code",
   "execution_count": 63,
   "id": "b6d47c5e",
   "metadata": {},
   "outputs": [
    {
     "data": {
      "text/plain": [
       "(25, 'Mango', 'Rajesh', 40, 25, 24, 25)"
      ]
     },
     "execution_count": 63,
     "metadata": {},
     "output_type": "execute_result"
    }
   ],
   "source": [
    "#tup1 = (25,'Mango','Rajesh',40,25,24,25)\n",
    "tup1 = (25,'Mango','Rajesh',40,25,24,25)\n",
    "tup1"
   ]
  },
  {
   "cell_type": "code",
   "execution_count": 64,
   "id": "9144803e",
   "metadata": {},
   "outputs": [
    {
     "data": {
      "text/plain": [
       "'Mango'"
      ]
     },
     "execution_count": 64,
     "metadata": {},
     "output_type": "execute_result"
    }
   ],
   "source": [
    "tup1[1]"
   ]
  },
  {
   "cell_type": "code",
   "execution_count": 65,
   "id": "7777c0c5",
   "metadata": {},
   "outputs": [
    {
     "name": "stdout",
     "output_type": "stream",
     "text": [
      "25\n",
      "Mango\n",
      "Rajesh\n",
      "40\n",
      "25\n",
      "24\n",
      "25\n"
     ]
    }
   ],
   "source": [
    "### Tuples can be iterated over using for loop  for x in tup1:print(x)\n",
    "for x in tup1:\n",
    "    print(x)"
   ]
  },
  {
   "cell_type": "code",
   "execution_count": 66,
   "id": "59992e94",
   "metadata": {},
   "outputs": [
    {
     "ename": "TypeError",
     "evalue": "'tuple' object does not support item assignment",
     "output_type": "error",
     "traceback": [
      "\u001b[1;31m---------------------------------------------------------------------------\u001b[0m",
      "\u001b[1;31mTypeError\u001b[0m                                 Traceback (most recent call last)",
      "Cell \u001b[1;32mIn[66], line 2\u001b[0m\n\u001b[0;32m      1\u001b[0m \u001b[38;5;66;03m## Assigning a value to tuple shows error - tuple object does not support assignment tup1[0] = 35\u001b[39;00m\n\u001b[1;32m----> 2\u001b[0m tup1[\u001b[38;5;241m1\u001b[39m] \u001b[38;5;241m=\u001b[39m \u001b[38;5;241m45\u001b[39m\n",
      "\u001b[1;31mTypeError\u001b[0m: 'tuple' object does not support item assignment"
     ]
    }
   ],
   "source": [
    "## Assigning a value to tuple shows error - tuple object does not support assignment tup1[0] = 35\n",
    "tup1[1] = 45"
   ]
  },
  {
   "cell_type": "code",
   "execution_count": 67,
   "id": "28f8f213",
   "metadata": {},
   "outputs": [
    {
     "data": {
      "text/plain": [
       "3"
      ]
     },
     "execution_count": 67,
     "metadata": {},
     "output_type": "execute_result"
    }
   ],
   "source": [
    "## Count function gives the count of the element in the tuple tup1.count(25)\n",
    "tup1.count(25)"
   ]
  },
  {
   "cell_type": "code",
   "execution_count": 68,
   "id": "a4b5b112",
   "metadata": {},
   "outputs": [
    {
     "data": {
      "text/plain": [
       "1"
      ]
     },
     "execution_count": 68,
     "metadata": {},
     "output_type": "execute_result"
    }
   ],
   "source": [
    "tup1.count('Mango')"
   ]
  },
  {
   "cell_type": "code",
   "execution_count": 69,
   "id": "e5d75229",
   "metadata": {},
   "outputs": [
    {
     "data": {
      "text/plain": [
       "0"
      ]
     },
     "execution_count": 69,
     "metadata": {},
     "output_type": "execute_result"
    }
   ],
   "source": [
    "tup1.count(44)"
   ]
  },
  {
   "cell_type": "code",
   "execution_count": 70,
   "id": "bb30c31c",
   "metadata": {},
   "outputs": [
    {
     "data": {
      "text/plain": [
       "True"
      ]
     },
     "execution_count": 70,
     "metadata": {},
     "output_type": "execute_result"
    }
   ],
   "source": [
    "'Mango' in tup1"
   ]
  },
  {
   "cell_type": "code",
   "execution_count": null,
   "id": "b4fcde7c",
   "metadata": {},
   "outputs": [],
   "source": [
    "for x in a:\n",
    "    for y in b:"
   ]
  },
  {
   "cell_type": "code",
   "execution_count": 3,
   "id": "a48537f9",
   "metadata": {},
   "outputs": [],
   "source": [
    "### Exercise - There are two list [2,3,4] and [2,5,6] -Get a combination (x,y) \n",
    "## x is the element from first list, \n",
    "#output = [(a,b) for a in x for b in y if x!=y]\n",
    "## y is the element from second list - Get combinations (x,y) such that x is not equal to y\n",
    "a = [2,3,4,5]\n",
    "b = [4,5,6,7]\n",
    "outList = [(x,y) for x in a for y in b if x != y]"
   ]
  },
  {
   "cell_type": "code",
   "execution_count": 4,
   "id": "1f59fcd9",
   "metadata": {},
   "outputs": [
    {
     "data": {
      "text/plain": [
       "[(2, 4),\n",
       " (2, 5),\n",
       " (2, 6),\n",
       " (2, 7),\n",
       " (3, 4),\n",
       " (3, 5),\n",
       " (3, 6),\n",
       " (3, 7),\n",
       " (4, 5),\n",
       " (4, 6),\n",
       " (4, 7),\n",
       " (5, 4),\n",
       " (5, 6),\n",
       " (5, 7)]"
      ]
     },
     "execution_count": 4,
     "metadata": {},
     "output_type": "execute_result"
    }
   ],
   "source": [
    "outList"
   ]
  },
  {
   "cell_type": "markdown",
   "id": "c2f5ba84",
   "metadata": {},
   "source": [
    "* **Sets in Python**\n",
    "  - Sets contain unique elements  \n",
    "  - Sets are unordered sequence of elements\n",
    "  - They are represented using the {} (curly braces)"
   ]
  },
  {
   "cell_type": "code",
   "execution_count": 5,
   "id": "3142afcb",
   "metadata": {},
   "outputs": [],
   "source": [
    "s1 = set()"
   ]
  },
  {
   "cell_type": "code",
   "execution_count": 6,
   "id": "a3c1b306",
   "metadata": {},
   "outputs": [
    {
     "data": {
      "text/plain": [
       "set()"
      ]
     },
     "execution_count": 6,
     "metadata": {},
     "output_type": "execute_result"
    }
   ],
   "source": [
    "s1"
   ]
  },
  {
   "cell_type": "code",
   "execution_count": 7,
   "id": "b9dced9b",
   "metadata": {},
   "outputs": [
    {
     "data": {
      "text/plain": [
       "set"
      ]
     },
     "execution_count": 7,
     "metadata": {},
     "output_type": "execute_result"
    }
   ],
   "source": [
    "type(s1)"
   ]
  },
  {
   "cell_type": "code",
   "execution_count": null,
   "id": "1a4119c1",
   "metadata": {},
   "outputs": [],
   "source": []
  },
  {
   "cell_type": "code",
   "execution_count": 8,
   "id": "ad0088d6",
   "metadata": {},
   "outputs": [
    {
     "data": {
      "text/plain": [
       "{'Jignesh', 'Kiran', 'Mahesh', 'Suraj', 'Surya'}"
      ]
     },
     "execution_count": 8,
     "metadata": {},
     "output_type": "execute_result"
    }
   ],
   "source": [
    "# {'Mahesh','Mahesh','Suraj','Ravi','Kiran','Surya'}\n",
    "friends = {'Mahesh','Jignesh','Suraj','Kiran','Surya','Mahesh'}\n",
    "friends"
   ]
  },
  {
   "cell_type": "code",
   "execution_count": 9,
   "id": "117c1379",
   "metadata": {},
   "outputs": [
    {
     "data": {
      "text/plain": [
       "{'Jignesh', 'Kiran', 'Mahesh', 'Suraj', 'Surya'}"
      ]
     },
     "execution_count": 9,
     "metadata": {},
     "output_type": "execute_result"
    }
   ],
   "source": [
    "#### Sets can be constructed using the following set keyword and passing a list to it eles = set(['Mahesh','Mahesh','Suraj','Ravi','Kiran','Surya'])\n",
    "friendsList = set(['Mahesh','Jignesh','Suraj','Kiran','Surya','Mahesh'])\n",
    "friendsList"
   ]
  },
  {
   "cell_type": "markdown",
   "id": "188ae339",
   "metadata": {},
   "source": [
    "* Iteration over sets in python"
   ]
  },
  {
   "cell_type": "code",
   "execution_count": 11,
   "id": "de5db238",
   "metadata": {},
   "outputs": [
    {
     "name": "stdout",
     "output_type": "stream",
     "text": [
      "Surya\n",
      "Kiran\n",
      "Mahesh\n",
      "Jignesh\n",
      "Suraj\n"
     ]
    },
    {
     "data": {
      "text/plain": [
       "{'Jignesh', 'Kiran', 'Mahesh', 'Suraj', 'Surya'}"
      ]
     },
     "execution_count": 11,
     "metadata": {},
     "output_type": "execute_result"
    }
   ],
   "source": [
    "#elements\n",
    "for friend in friends:\n",
    "    print(friend)\n",
    "friends    "
   ]
  },
  {
   "cell_type": "code",
   "execution_count": 12,
   "id": "78dbe455",
   "metadata": {},
   "outputs": [
    {
     "name": "stdout",
     "output_type": "stream",
     "text": [
      "Surya\n",
      "Kiran\n",
      "Mahesh\n",
      "Jignesh\n",
      "Suraj\n"
     ]
    }
   ],
   "source": [
    "#for x in elements:   print(x)\n",
    "for friend in friends:\n",
    "    print(friend)"
   ]
  },
  {
   "cell_type": "code",
   "execution_count": 14,
   "id": "18e0583a",
   "metadata": {},
   "outputs": [
    {
     "data": {
      "text/plain": [
       "5"
      ]
     },
     "execution_count": 14,
     "metadata": {},
     "output_type": "execute_result"
    }
   ],
   "source": [
    "## The set elements are given below - We can represent the data as els = {'Mahesh','Mahesh','Suraj','Ravi','Kiran','Surya'}\n",
    "friends\n",
    "len(friends)"
   ]
  },
  {
   "cell_type": "markdown",
   "id": "51f0dd67",
   "metadata": {},
   "source": [
    "* Adding elements to set"
   ]
  },
  {
   "cell_type": "code",
   "execution_count": 87,
   "id": "78a66a25",
   "metadata": {},
   "outputs": [],
   "source": [
    "### Add the following element to the set elements 'Mitra' using add function els.add('Mitra')"
   ]
  },
  {
   "cell_type": "code",
   "execution_count": 15,
   "id": "7f6fc1d4",
   "metadata": {},
   "outputs": [],
   "source": [
    "friends.add('Mitra')\n",
    "friends.add('Ravi')"
   ]
  },
  {
   "cell_type": "code",
   "execution_count": 16,
   "id": "77b9d4d6",
   "metadata": {},
   "outputs": [
    {
     "data": {
      "text/plain": [
       "{'Jignesh', 'Kiran', 'Mahesh', 'Mitra', 'Ravi', 'Suraj', 'Surya'}"
      ]
     },
     "execution_count": 16,
     "metadata": {},
     "output_type": "execute_result"
    }
   ],
   "source": [
    "friends"
   ]
  },
  {
   "cell_type": "code",
   "execution_count": 17,
   "id": "3a1beff9",
   "metadata": {},
   "outputs": [],
   "source": [
    "friends.add('Mitra')\n",
    "friends.add('Ravi')"
   ]
  },
  {
   "cell_type": "code",
   "execution_count": 18,
   "id": "72584369",
   "metadata": {},
   "outputs": [
    {
     "data": {
      "text/plain": [
       "{'Jignesh', 'Kiran', 'Mahesh', 'Mitra', 'Ravi', 'Suraj', 'Surya'}"
      ]
     },
     "execution_count": 18,
     "metadata": {},
     "output_type": "execute_result"
    }
   ],
   "source": [
    "friends"
   ]
  },
  {
   "cell_type": "code",
   "execution_count": 19,
   "id": "53683c68",
   "metadata": {},
   "outputs": [
    {
     "data": {
      "text/plain": [
       "{'Kiran', 'Mahesh', 'Mitra'}"
      ]
     },
     "execution_count": 19,
     "metadata": {},
     "output_type": "execute_result"
    }
   ],
   "source": [
    "## Lets create one more set els2 = els2 = {'kiran','Mahesh', 'Mitra'}\n",
    "friends2 = {'Kiran','Mitra','Mahesh'}\n",
    "friends2"
   ]
  },
  {
   "cell_type": "markdown",
   "id": "82f4a2c7",
   "metadata": {},
   "source": [
    "* seta.difference(setb) - Difference gives the elements that are in seta"
   ]
  },
  {
   "cell_type": "code",
   "execution_count": 20,
   "id": "8a607137",
   "metadata": {},
   "outputs": [
    {
     "data": {
      "text/plain": [
       "{'Jignesh', 'Ravi', 'Suraj', 'Surya'}"
      ]
     },
     "execution_count": 20,
     "metadata": {},
     "output_type": "execute_result"
    }
   ],
   "source": [
    "# els.difference(els2)\n",
    "# A - {'Jignesh', 'Kiran', 'Mahesh', 'Mitra', 'Ravi', 'Suraj', 'Surya'}\n",
    "# B - {'Kiran', 'Mahesh', 'Mitra'}\n",
    "# A - B --> {'Jignesh', 'Ravi', 'Suraj', 'Surya'}\n",
    "friends.difference(friends2)"
   ]
  },
  {
   "cell_type": "markdown",
   "id": "4615eb13",
   "metadata": {},
   "source": [
    "* difference_update() - Removes the elements from the other set"
   ]
  },
  {
   "cell_type": "code",
   "execution_count": 21,
   "id": "ce5e11d9",
   "metadata": {},
   "outputs": [],
   "source": [
    "# els.difference_update(els2)\n",
    "friends.difference_update(friends2)"
   ]
  },
  {
   "cell_type": "code",
   "execution_count": 22,
   "id": "89de520a",
   "metadata": {},
   "outputs": [
    {
     "data": {
      "text/plain": [
       "{'Jignesh', 'Ravi', 'Suraj', 'Surya'}"
      ]
     },
     "execution_count": 22,
     "metadata": {},
     "output_type": "execute_result"
    }
   ],
   "source": [
    "friends"
   ]
  },
  {
   "cell_type": "code",
   "execution_count": 23,
   "id": "06ad7291",
   "metadata": {},
   "outputs": [
    {
     "data": {
      "text/plain": [
       "{'Kiran', 'Mahesh', 'Mitra'}"
      ]
     },
     "execution_count": 23,
     "metadata": {},
     "output_type": "execute_result"
    }
   ],
   "source": [
    "# els2\n",
    "friends2"
   ]
  },
  {
   "cell_type": "code",
   "execution_count": 24,
   "id": "696bdcc4",
   "metadata": {},
   "outputs": [
    {
     "data": {
      "text/plain": [
       "4"
      ]
     },
     "execution_count": 24,
     "metadata": {},
     "output_type": "execute_result"
    }
   ],
   "source": [
    "len(friends)"
   ]
  },
  {
   "cell_type": "code",
   "execution_count": 101,
   "id": "74eb9dcf",
   "metadata": {},
   "outputs": [
    {
     "data": {
      "text/plain": [
       "5"
      ]
     },
     "execution_count": 101,
     "metadata": {},
     "output_type": "execute_result"
    }
   ],
   "source": [
    "## Create the set and try to perform union on els and els2 els = {'Mahesh','Mahesh','Suraj','Ravi','Kiran','Surya'}len(els)"
   ]
  },
  {
   "cell_type": "markdown",
   "id": "78981837",
   "metadata": {},
   "source": [
    "* union combines both the sets with unique elements"
   ]
  },
  {
   "cell_type": "code",
   "execution_count": 25,
   "id": "cd23ad68",
   "metadata": {},
   "outputs": [
    {
     "name": "stdout",
     "output_type": "stream",
     "text": [
      "4\n",
      "3\n"
     ]
    }
   ],
   "source": [
    "print(len(friends))\n",
    "print(len(friends2))"
   ]
  },
  {
   "cell_type": "code",
   "execution_count": 28,
   "id": "da2a1d9c",
   "metadata": {},
   "outputs": [
    {
     "data": {
      "text/plain": [
       "{'Jignesh', 'Kiran', 'Mahesh', 'Mitra', 'Ravi', 'Suraj', 'Surya'}"
      ]
     },
     "execution_count": 28,
     "metadata": {},
     "output_type": "execute_result"
    }
   ],
   "source": [
    "# els.union(els2)\n",
    "fele = friends.union(friends2)\n",
    "fele"
   ]
  },
  {
   "cell_type": "code",
   "execution_count": 27,
   "id": "8a998ff0",
   "metadata": {},
   "outputs": [
    {
     "name": "stdout",
     "output_type": "stream",
     "text": [
      "4\n",
      "3\n"
     ]
    }
   ],
   "source": [
    "print(len(friends))\n",
    "print(len(friends2))"
   ]
  },
  {
   "cell_type": "markdown",
   "id": "368dbb95",
   "metadata": {},
   "source": [
    "* intersection provides the common elements between the sets"
   ]
  },
  {
   "cell_type": "code",
   "execution_count": 29,
   "id": "d9d89beb",
   "metadata": {
    "scrolled": true
   },
   "outputs": [
    {
     "data": {
      "text/plain": [
       "{'Kiran', 'Mahesh', 'Mitra'}"
      ]
     },
     "execution_count": 29,
     "metadata": {},
     "output_type": "execute_result"
    }
   ],
   "source": [
    "# els.intersection(els2)\n",
    "#{'Jignesh', 'Kiran', 'Mahesh', 'Mitra', 'Ravi', 'Suraj', 'Surya'}\n",
    "#{'Kiran', 'Mahesh', 'Mitra'}\n",
    "#intersection\n",
    "fele.intersection(friends2)"
   ]
  },
  {
   "cell_type": "code",
   "execution_count": 30,
   "id": "de4079ff",
   "metadata": {},
   "outputs": [
    {
     "name": "stdout",
     "output_type": "stream",
     "text": [
      "{'Surya', 'Kiran', 'Ravi', 'Mahesh', 'Mitra', 'Jignesh', 'Suraj'}\n",
      "{'Kiran', 'Mitra', 'Mahesh'}\n"
     ]
    }
   ],
   "source": [
    "# print(els)\n",
    "# print(els2)\n",
    "print(fele)\n",
    "print(friends2)"
   ]
  },
  {
   "cell_type": "markdown",
   "id": "3c2d4c05",
   "metadata": {},
   "source": [
    "* Symmetric difference gives the elements that are not common as one single set."
   ]
  },
  {
   "cell_type": "code",
   "execution_count": 31,
   "id": "93b8d9f4",
   "metadata": {},
   "outputs": [],
   "source": [
    "friends2.add('Myntra')"
   ]
  },
  {
   "cell_type": "code",
   "execution_count": 32,
   "id": "def0faf9",
   "metadata": {},
   "outputs": [
    {
     "data": {
      "text/plain": [
       "{'Kiran', 'Mahesh', 'Mitra', 'Myntra'}"
      ]
     },
     "execution_count": 32,
     "metadata": {},
     "output_type": "execute_result"
    }
   ],
   "source": [
    "friends2"
   ]
  },
  {
   "cell_type": "code",
   "execution_count": 35,
   "id": "993a93e3",
   "metadata": {},
   "outputs": [
    {
     "data": {
      "text/plain": [
       "{'Jignesh', 'Ravi', 'Suraj', 'Surya'}"
      ]
     },
     "execution_count": 35,
     "metadata": {},
     "output_type": "execute_result"
    }
   ],
   "source": [
    "fele.difference(friends2) #(A-B )"
   ]
  },
  {
   "cell_type": "code",
   "execution_count": 33,
   "id": "0b55f9d0",
   "metadata": {},
   "outputs": [
    {
     "data": {
      "text/plain": [
       "{'Jignesh', 'Myntra', 'Ravi', 'Suraj', 'Surya'}"
      ]
     },
     "execution_count": 33,
     "metadata": {},
     "output_type": "execute_result"
    }
   ],
   "source": [
    "fele.symmetric_difference(friends2)"
   ]
  },
  {
   "cell_type": "code",
   "execution_count": 108,
   "id": "16e072c2",
   "metadata": {
    "scrolled": false
   },
   "outputs": [
    {
     "data": {
      "text/plain": [
       "{'Kiran', 'Mitra', 'Ravi', 'Suraj', 'Surya', 'kiran'}"
      ]
     },
     "execution_count": 108,
     "metadata": {},
     "output_type": "execute_result"
    }
   ],
   "source": [
    "## els.symmetric_difference(els2) gives the common elements between both the sets. els.symmetric_difference(els2)"
   ]
  },
  {
   "cell_type": "markdown",
   "id": "fcfbdb5a",
   "metadata": {},
   "source": [
    "* Comprehension for set - Similar to for comprehension for Set\n",
    "    - return type is Set when set comprehension is perfromed"
   ]
  },
  {
   "cell_type": "code",
   "execution_count": 36,
   "id": "6bca7181",
   "metadata": {},
   "outputs": [
    {
     "data": {
      "text/plain": [
       "{'Jignesh', 'Kiran', 'Mahesh', 'Mitra', 'Ravi', 'Suraj', 'Surya', 'kiran'}"
      ]
     },
     "execution_count": 36,
     "metadata": {},
     "output_type": "execute_result"
    }
   ],
   "source": [
    "setList = {'Kiran', 'Mitra', 'Ravi', 'Suraj', 'Surya', 'kiran','Mahesh','Jignesh'}\n",
    "setList"
   ]
  },
  {
   "cell_type": "code",
   "execution_count": 39,
   "id": "36dbb899",
   "metadata": {},
   "outputs": [
    {
     "data": {
      "text/plain": [
       "{'Mahesh', 'Mitra'}"
      ]
     },
     "execution_count": 39,
     "metadata": {},
     "output_type": "execute_result"
    }
   ],
   "source": [
    "output = {x for x in setList if x.startswith('M')}\n",
    "output"
   ]
  },
  {
   "cell_type": "code",
   "execution_count": 8,
   "id": "3dfecec0",
   "metadata": {},
   "outputs": [
    {
     "data": {
      "text/plain": [
       "{'Kiran', 'Mahesh', 'Ravi', 'Suraj', 'Surya'}"
      ]
     },
     "execution_count": 8,
     "metadata": {},
     "output_type": "execute_result"
    }
   ],
   "source": [
    "# listVal = {'Mahesh','Mahesh','Suraj','Ravi','Kiran','Surya'} uniEle = {x for x in listVal} uniEle"
   ]
  },
  {
   "cell_type": "markdown",
   "id": "b9ad3017",
   "metadata": {},
   "source": [
    "* **Dictionary in Python** - Dictionaries in Python are basically key,value pairs. \n",
    "    - In a dictionary, key can be any unique object\n",
    "    - Keys are unique and non-duplicated\n",
    "    - Values can be duplicated\n",
    "    - Dictionaries can be constructed using the dict() or {:} "
   ]
  },
  {
   "cell_type": "markdown",
   "id": "e4743973",
   "metadata": {},
   "source": [
    "* Create Dictionary using the dict() keyword"
   ]
  },
  {
   "cell_type": "code",
   "execution_count": 41,
   "id": "29afa0f8",
   "metadata": {},
   "outputs": [
    {
     "name": "stdout",
     "output_type": "stream",
     "text": [
      "<class 'dict'>\n"
     ]
    }
   ],
   "source": [
    "d1 = dict()\n",
    "d1\n",
    "print(type(d1))\n",
    "#'101'='Suraj','102'='Mahesh','103'='Surya','104'='Kiran','105'='Ravi'"
   ]
  },
  {
   "cell_type": "code",
   "execution_count": 44,
   "id": "ea5fac46",
   "metadata": {},
   "outputs": [
    {
     "data": {
      "text/plain": [
       "{101: 'Suraj', 102: 'Mahesh', 103: 'Surya', 104: 'Kiran', 105: 'Ravi'}"
      ]
     },
     "execution_count": 44,
     "metadata": {},
     "output_type": "execute_result"
    }
   ],
   "source": [
    "# idName = dict() 101 = 'Suraj' 102 = 'Mahesh' 103 = 'Surya' 104 = 'Ravi' 105 = 'Kiran' 106 = 'Mitra' idName\n",
    "idName = dict()\n",
    "idName[101]='Suraj'\n",
    "idName[102]= 'Mahesh'\n",
    "idName[103]= 'Surya'\n",
    "idName[104]= 'Kiran'\n",
    "idName[105]= 'Ravi'\n",
    "idName"
   ]
  },
  {
   "cell_type": "code",
   "execution_count": 45,
   "id": "607847be",
   "metadata": {},
   "outputs": [
    {
     "data": {
      "text/plain": [
       "{101: 'Suraj', 102: 'Mahesh', 103: 'Surya', 104: 'Kiran', 105: 'Ravi'}"
      ]
     },
     "execution_count": 45,
     "metadata": {},
     "output_type": "execute_result"
    }
   ],
   "source": [
    "### Another way of creating the dictionary is the following idName = {101: 'Suraj',102: 'Mahesh',103: 'Surya', 104: 'Ravi', 105: 'Kiran', 106: 'Mitra'} idName\n",
    "idName1 = {101:'Suraj',102:'Mahesh',103:'Surya',104:'Kiran',105:'Ravi'}\n",
    "idName1"
   ]
  },
  {
   "cell_type": "markdown",
   "id": "ea86c4c3",
   "metadata": {},
   "source": [
    "* Retrieve the value of dictionary using key"
   ]
  },
  {
   "cell_type": "code",
   "execution_count": 47,
   "id": "9bcbf09e",
   "metadata": {},
   "outputs": [
    {
     "data": {
      "text/plain": [
       "'Suraj'"
      ]
     },
     "execution_count": 47,
     "metadata": {},
     "output_type": "execute_result"
    }
   ],
   "source": [
    "### The dictionary name and the id can be passed to get the value - idName[101]\n",
    "idName[101]"
   ]
  },
  {
   "cell_type": "code",
   "execution_count": 48,
   "id": "5b71c18c",
   "metadata": {},
   "outputs": [
    {
     "ename": "KeyError",
     "evalue": "107",
     "output_type": "error",
     "traceback": [
      "\u001b[1;31m---------------------------------------------------------------------------\u001b[0m",
      "\u001b[1;31mKeyError\u001b[0m                                  Traceback (most recent call last)",
      "Cell \u001b[1;32mIn[48], line 1\u001b[0m\n\u001b[1;32m----> 1\u001b[0m \u001b[43midName\u001b[49m\u001b[43m[\u001b[49m\u001b[38;5;241;43m107\u001b[39;49m\u001b[43m]\u001b[49m\n",
      "\u001b[1;31mKeyError\u001b[0m: 107"
     ]
    }
   ],
   "source": [
    "idName[107]"
   ]
  },
  {
   "cell_type": "markdown",
   "id": "d30d5d2c",
   "metadata": {},
   "source": [
    "* Check if the key is in the dictionary"
   ]
  },
  {
   "cell_type": "code",
   "execution_count": 49,
   "id": "c3884031",
   "metadata": {},
   "outputs": [
    {
     "data": {
      "text/plain": [
       "True"
      ]
     },
     "execution_count": 49,
     "metadata": {},
     "output_type": "execute_result"
    }
   ],
   "source": [
    "### Check if a particular key is available in the dictionary - 101 in idName\n",
    "101 in idName"
   ]
  },
  {
   "cell_type": "code",
   "execution_count": 50,
   "id": "1b649a07",
   "metadata": {},
   "outputs": [
    {
     "data": {
      "text/plain": [
       "False"
      ]
     },
     "execution_count": 50,
     "metadata": {},
     "output_type": "execute_result"
    }
   ],
   "source": [
    "107 in idName"
   ]
  },
  {
   "cell_type": "code",
   "execution_count": 52,
   "id": "df3f4c65",
   "metadata": {},
   "outputs": [
    {
     "name": "stdout",
     "output_type": "stream",
     "text": [
      "Suraj\n"
     ]
    }
   ],
   "source": [
    "key1 = 101\n",
    "if key1 in idName:\n",
    "    print(idName[key1])"
   ]
  },
  {
   "cell_type": "code",
   "execution_count": 24,
   "id": "0ec342d0",
   "metadata": {},
   "outputs": [
    {
     "name": "stdout",
     "output_type": "stream",
     "text": [
      "True\n",
      "False\n"
     ]
    }
   ],
   "source": [
    "### CHeck if a particular key is not available in the dictionary - 109 not in idName print(109 not in idName) print(110 in idName)"
   ]
  },
  {
   "cell_type": "markdown",
   "id": "41359bf0",
   "metadata": {},
   "source": [
    "* iterate over the dictionary using keys()"
   ]
  },
  {
   "cell_type": "code",
   "execution_count": 54,
   "id": "1e1055e2",
   "metadata": {},
   "outputs": [
    {
     "name": "stdout",
     "output_type": "stream",
     "text": [
      "dict_keys([101, 102, 103, 104, 105])\n"
     ]
    }
   ],
   "source": [
    "print(idName.keys())"
   ]
  },
  {
   "cell_type": "code",
   "execution_count": 55,
   "id": "ee64413c",
   "metadata": {},
   "outputs": [
    {
     "name": "stdout",
     "output_type": "stream",
     "text": [
      "key is 101\n",
      "key is 102\n",
      "key is 103\n",
      "key is 104\n",
      "key is 105\n"
     ]
    }
   ],
   "source": [
    "### We can iterate over the dictionary using the keys() function on the dictionary. for k in idName.keys(): print(f'Key is {k}')\n",
    "for k in idName.keys():\n",
    "    print(f'key is {k}')"
   ]
  },
  {
   "cell_type": "markdown",
   "id": "dc0e4695",
   "metadata": {},
   "source": [
    "* Values for the dictionary using values()"
   ]
  },
  {
   "cell_type": "code",
   "execution_count": 56,
   "id": "8c2eeb07",
   "metadata": {},
   "outputs": [
    {
     "data": {
      "text/plain": [
       "dict_values(['Suraj', 'Mahesh', 'Surya', 'Kiran', 'Ravi'])"
      ]
     },
     "execution_count": 56,
     "metadata": {},
     "output_type": "execute_result"
    }
   ],
   "source": [
    "idName.values()"
   ]
  },
  {
   "cell_type": "code",
   "execution_count": 57,
   "id": "b3dafc86",
   "metadata": {},
   "outputs": [
    {
     "name": "stdout",
     "output_type": "stream",
     "text": [
      "Value is Suraj\n",
      "Value is Mahesh\n",
      "Value is Surya\n",
      "Value is Kiran\n",
      "Value is Ravi\n"
     ]
    }
   ],
   "source": [
    "# for v in idName.values():    print(f'value is {v}')\n",
    "for v in idName.values():\n",
    "    print(f'Value is {v}')\n"
   ]
  },
  {
   "cell_type": "markdown",
   "id": "04aff8e2",
   "metadata": {},
   "source": [
    "* iterate over a dictionary using items()"
   ]
  },
  {
   "cell_type": "code",
   "execution_count": 60,
   "id": "03e6a999",
   "metadata": {},
   "outputs": [
    {
     "data": {
      "text/plain": [
       "tuple"
      ]
     },
     "execution_count": 60,
     "metadata": {},
     "output_type": "execute_result"
    }
   ],
   "source": [
    "a = (101, 'Suraj')\n",
    "type(a)"
   ]
  },
  {
   "cell_type": "code",
   "execution_count": 62,
   "id": "cb077d30",
   "metadata": {},
   "outputs": [
    {
     "name": "stdout",
     "output_type": "stream",
     "text": [
      "101\n",
      "Suraj\n",
      "CSE\n"
     ]
    }
   ],
   "source": [
    "id_st, name,dept = (101, 'Suraj','CSE')\n",
    "print(id_st)\n",
    "print(name)\n",
    "print(dept)"
   ]
  },
  {
   "cell_type": "code",
   "execution_count": 58,
   "id": "f0ce7a02",
   "metadata": {
    "scrolled": false
   },
   "outputs": [
    {
     "data": {
      "text/plain": [
       "dict_items([(101, 'Suraj'), (102, 'Mahesh'), (103, 'Surya'), (104, 'Kiran'), (105, 'Ravi')])"
      ]
     },
     "execution_count": 58,
     "metadata": {},
     "output_type": "execute_result"
    }
   ],
   "source": [
    "idName.items()"
   ]
  },
  {
   "cell_type": "code",
   "execution_count": 64,
   "id": "b64adf40",
   "metadata": {},
   "outputs": [
    {
     "name": "stdout",
     "output_type": "stream",
     "text": [
      "Id is 101,Name is Suraj\n",
      "Id is 102,Name is Mahesh\n",
      "Id is 103,Name is Surya\n",
      "Id is 104,Name is Kiran\n",
      "Id is 105,Name is Ravi\n"
     ]
    }
   ],
   "source": [
    "#for key,value in idName.items():   print(f'Id is {key}, Name is {value}')\n",
    "for k,v in idName.items():\n",
    "    print(f'Id is {k},Name is {v}')"
   ]
  },
  {
   "cell_type": "markdown",
   "id": "2392e7c9",
   "metadata": {},
   "source": [
    "* Iterate over a dictionary using the dictionary object "
   ]
  },
  {
   "cell_type": "code",
   "execution_count": 67,
   "id": "cd4dc9f6",
   "metadata": {},
   "outputs": [
    {
     "name": "stdout",
     "output_type": "stream",
     "text": [
      "101\n",
      "Suraj\n",
      "102\n",
      "Mahesh\n",
      "103\n",
      "Surya\n",
      "104\n",
      "Kiran\n",
      "105\n",
      "Ravi\n"
     ]
    }
   ],
   "source": [
    "### Using the dictionary object only the dictionary is used\n",
    "# for keyVal in idName:  print(keyVal)\n",
    "for k in idName:\n",
    "    print(k)\n",
    "    print(idName[k])"
   ]
  },
  {
   "cell_type": "markdown",
   "id": "09ca101d",
   "metadata": {},
   "source": [
    "* Delete a key in the dictionary using the del keyword"
   ]
  },
  {
   "cell_type": "code",
   "execution_count": 68,
   "id": "331e7f30",
   "metadata": {},
   "outputs": [],
   "source": [
    "## Delete the key value pair using the del idName[key] del idName[101]\n",
    "del idName[101]"
   ]
  },
  {
   "cell_type": "code",
   "execution_count": 69,
   "id": "3b5c48b5",
   "metadata": {},
   "outputs": [
    {
     "data": {
      "text/plain": [
       "{102: 'Mahesh', 103: 'Surya', 104: 'Kiran', 105: 'Ravi'}"
      ]
     },
     "execution_count": 69,
     "metadata": {},
     "output_type": "execute_result"
    }
   ],
   "source": [
    "# idName\n",
    "idName"
   ]
  },
  {
   "cell_type": "markdown",
   "id": "f82c53db",
   "metadata": {},
   "source": [
    "* To get a value from the dictionar using the get() function or the []"
   ]
  },
  {
   "cell_type": "code",
   "execution_count": 42,
   "id": "96dd336c",
   "metadata": {},
   "outputs": [
    {
     "data": {
      "text/plain": [
       "'Mahesh'"
      ]
     },
     "execution_count": 42,
     "metadata": {},
     "output_type": "execute_result"
    }
   ],
   "source": [
    "# idName[102]"
   ]
  },
  {
   "cell_type": "code",
   "execution_count": 43,
   "id": "4378f389",
   "metadata": {},
   "outputs": [
    {
     "data": {
      "text/plain": [
       "'Mahesh'"
      ]
     },
     "execution_count": 43,
     "metadata": {},
     "output_type": "execute_result"
    }
   ],
   "source": [
    "# idName.get(102)"
   ]
  },
  {
   "cell_type": "code",
   "execution_count": 1,
   "id": "27dd71b8",
   "metadata": {},
   "outputs": [],
   "source": [
    "# lets create a dictionary like this below\n",
    "idNames = {101:'Suraj',102: 'Mahesh', 103: 'Surya', 104: 'Ravi', 105: 'Kiran', 106: 'Mitra'}"
   ]
  },
  {
   "cell_type": "code",
   "execution_count": 2,
   "id": "0e3a9906",
   "metadata": {},
   "outputs": [
    {
     "data": {
      "text/plain": [
       "'Suraj'"
      ]
     },
     "execution_count": 2,
     "metadata": {},
     "output_type": "execute_result"
    }
   ],
   "source": [
    "idNames[101]"
   ]
  },
  {
   "cell_type": "code",
   "execution_count": 3,
   "id": "efd0dfa3",
   "metadata": {},
   "outputs": [
    {
     "data": {
      "text/plain": [
       "'Mahesh'"
      ]
     },
     "execution_count": 3,
     "metadata": {},
     "output_type": "execute_result"
    }
   ],
   "source": [
    "idNames.get(102)"
   ]
  },
  {
   "cell_type": "markdown",
   "id": "8bd8fb2f",
   "metadata": {},
   "source": [
    "* If the key is not in the dictionary using the get() method we can use the default value"
   ]
  },
  {
   "cell_type": "code",
   "execution_count": 4,
   "id": "f7aee52b",
   "metadata": {},
   "outputs": [
    {
     "ename": "KeyError",
     "evalue": "109",
     "output_type": "error",
     "traceback": [
      "\u001b[1;31m---------------------------------------------------------------------------\u001b[0m",
      "\u001b[1;31mKeyError\u001b[0m                                  Traceback (most recent call last)",
      "Cell \u001b[1;32mIn[4], line 2\u001b[0m\n\u001b[0;32m      1\u001b[0m \u001b[38;5;66;03m### Lets say we dont have the key/value pair in the dictionary it returns a key error idName[109]\u001b[39;00m\n\u001b[1;32m----> 2\u001b[0m \u001b[43midNames\u001b[49m\u001b[43m[\u001b[49m\u001b[38;5;241;43m109\u001b[39;49m\u001b[43m]\u001b[49m\n",
      "\u001b[1;31mKeyError\u001b[0m: 109"
     ]
    }
   ],
   "source": [
    "### Lets say we dont have the key/value pair in the dictionary it returns a key error idName[109]\n",
    "idNames[109]"
   ]
  },
  {
   "cell_type": "code",
   "execution_count": 5,
   "id": "3426f2e2",
   "metadata": {},
   "outputs": [
    {
     "data": {
      "text/plain": [
       "'Mahesh'"
      ]
     },
     "execution_count": 5,
     "metadata": {},
     "output_type": "execute_result"
    }
   ],
   "source": [
    "# If the key is available then it returns the value idName.get(102,\"Value is Not there\")\n",
    "idNames.get(102,'key is not present in the dictionary')"
   ]
  },
  {
   "cell_type": "code",
   "execution_count": 7,
   "id": "b7034835",
   "metadata": {
    "scrolled": true
   },
   "outputs": [
    {
     "data": {
      "text/plain": [
       "'key is not present in the dictionary'"
      ]
     },
     "execution_count": 7,
     "metadata": {},
     "output_type": "execute_result"
    }
   ],
   "source": [
    "# idName.get(109,\"Key/Value is Not there\")\n",
    "idNames.get(109,'key is not present in the dictionary')"
   ]
  },
  {
   "cell_type": "code",
   "execution_count": 55,
   "id": "d48e20b0",
   "metadata": {},
   "outputs": [],
   "source": [
    "### To get the keys in the reversed order we can use reversed on the dictionary"
   ]
  },
  {
   "cell_type": "code",
   "execution_count": 11,
   "id": "db278988",
   "metadata": {},
   "outputs": [
    {
     "name": "stdout",
     "output_type": "stream",
     "text": [
      "101\n",
      "102\n",
      "103\n",
      "104\n",
      "105\n"
     ]
    }
   ],
   "source": [
    "for i in idNames:\n",
    "    print(i)"
   ]
  },
  {
   "cell_type": "code",
   "execution_count": 8,
   "id": "947e1d3e",
   "metadata": {
    "scrolled": true
   },
   "outputs": [
    {
     "name": "stdout",
     "output_type": "stream",
     "text": [
      "106\n",
      "105\n",
      "104\n",
      "103\n",
      "102\n",
      "101\n"
     ]
    }
   ],
   "source": [
    "# for i in reversed(idName): print(i)\n",
    "for i in reversed(idNames):\n",
    "    print(i)"
   ]
  },
  {
   "cell_type": "code",
   "execution_count": 9,
   "id": "57591e16",
   "metadata": {},
   "outputs": [
    {
     "data": {
      "text/plain": [
       "[101, 102, 103, 104, 105, 106]"
      ]
     },
     "execution_count": 9,
     "metadata": {},
     "output_type": "execute_result"
    }
   ],
   "source": [
    "## Collecting the dictionary keys as list - list(idName) list(idName)\n",
    "list(idNames)"
   ]
  },
  {
   "cell_type": "markdown",
   "id": "11061155",
   "metadata": {},
   "source": [
    "* To remove one key,value pair from the dictionary - using popitem()"
   ]
  },
  {
   "cell_type": "code",
   "execution_count": 10,
   "id": "469088ac",
   "metadata": {},
   "outputs": [
    {
     "data": {
      "text/plain": [
       "(106, 'Mitra')"
      ]
     },
     "execution_count": 10,
     "metadata": {},
     "output_type": "execute_result"
    }
   ],
   "source": [
    "## idName.popitem() will remove one key value pair from the dictionary idName.popitem()\n",
    "idNames.popitem()"
   ]
  },
  {
   "cell_type": "markdown",
   "id": "6568354c",
   "metadata": {},
   "source": [
    "* To remove one key at a time from the dictionary - using pop()"
   ]
  },
  {
   "cell_type": "code",
   "execution_count": 12,
   "id": "c10def35",
   "metadata": {},
   "outputs": [
    {
     "data": {
      "text/plain": [
       "'Ravi'"
      ]
     },
     "execution_count": 12,
     "metadata": {},
     "output_type": "execute_result"
    }
   ],
   "source": [
    "### ## idName.pop(key) will pop one key value pair for the given key from the dictionary idName.pop(104)\n",
    "idNames.pop(104)"
   ]
  },
  {
   "cell_type": "code",
   "execution_count": 13,
   "id": "fa6681f0",
   "metadata": {},
   "outputs": [
    {
     "ename": "KeyError",
     "evalue": "111",
     "output_type": "error",
     "traceback": [
      "\u001b[1;31m---------------------------------------------------------------------------\u001b[0m",
      "\u001b[1;31mKeyError\u001b[0m                                  Traceback (most recent call last)",
      "Cell \u001b[1;32mIn[13], line 2\u001b[0m\n\u001b[0;32m      1\u001b[0m \u001b[38;5;66;03m### If the key is not available in the dictionary, pop() shall given an error on the dictionary idName.pop(105)\u001b[39;00m\n\u001b[1;32m----> 2\u001b[0m \u001b[43midNames\u001b[49m\u001b[38;5;241;43m.\u001b[39;49m\u001b[43mpop\u001b[49m\u001b[43m(\u001b[49m\u001b[38;5;241;43m111\u001b[39;49m\u001b[43m)\u001b[49m\n",
      "\u001b[1;31mKeyError\u001b[0m: 111"
     ]
    }
   ],
   "source": [
    "### If the key is not available in the dictionary, pop() shall given an error on the dictionary idName.pop(105)\n",
    "idNames.pop(111)"
   ]
  },
  {
   "cell_type": "markdown",
   "id": "0311af01",
   "metadata": {},
   "source": [
    "* length of the dictionary - len() function"
   ]
  },
  {
   "cell_type": "code",
   "execution_count": 14,
   "id": "23b833e4",
   "metadata": {},
   "outputs": [
    {
     "data": {
      "text/plain": [
       "4"
      ]
     },
     "execution_count": 14,
     "metadata": {},
     "output_type": "execute_result"
    }
   ],
   "source": [
    "# To get the length of the dictionary len(idName)\n",
    "len(idNames)"
   ]
  },
  {
   "cell_type": "code",
   "execution_count": 16,
   "id": "9450e122",
   "metadata": {},
   "outputs": [
    {
     "data": {
      "text/plain": [
       "{101: 'Suraj', 102: 'Mahesh', 103: 'Surya', 105: 'Kiran'}"
      ]
     },
     "execution_count": 16,
     "metadata": {},
     "output_type": "execute_result"
    }
   ],
   "source": [
    "idNames"
   ]
  },
  {
   "cell_type": "code",
   "execution_count": 20,
   "id": "31ad1b6d",
   "metadata": {},
   "outputs": [],
   "source": [
    "??dict"
   ]
  },
  {
   "cell_type": "markdown",
   "id": "0a65844f",
   "metadata": {},
   "source": [
    "* Lets say we want to get the key,value pairs using the dictionary using dictionary comprehension"
   ]
  },
  {
   "cell_type": "code",
   "execution_count": 21,
   "id": "0ebfa545",
   "metadata": {},
   "outputs": [
    {
     "data": {
      "text/plain": [
       "{102: 'Mahesh', 104: 'Ravi', 106: 'Mitra'}"
      ]
     },
     "execution_count": 21,
     "metadata": {},
     "output_type": "execute_result"
    }
   ],
   "source": [
    "### Dictionary comprehension can be perfromed using the following: \n",
    "\n",
    "\n",
    "idName = {101: 'Suraj',102: 'Mahesh',103: 'Surya', 104: 'Ravi', 105: 'Kiran', 106: 'Mitra'}\n",
    "\n",
    "# get only the even ids\n",
    "evenIdNames = {k:v for k,v in idName.items() if k%2 == 0}\n",
    "\n",
    "\n",
    "evenIdNames"
   ]
  },
  {
   "cell_type": "code",
   "execution_count": null,
   "id": "d53fd8a4",
   "metadata": {},
   "outputs": [],
   "source": []
  }
 ],
 "metadata": {
  "kernelspec": {
   "display_name": "Python 3 (ipykernel)",
   "language": "python",
   "name": "python3"
  },
  "language_info": {
   "codemirror_mode": {
    "name": "ipython",
    "version": 3
   },
   "file_extension": ".py",
   "mimetype": "text/x-python",
   "name": "python",
   "nbconvert_exporter": "python",
   "pygments_lexer": "ipython3",
   "version": "3.10.10"
  }
 },
 "nbformat": 4,
 "nbformat_minor": 5
}
