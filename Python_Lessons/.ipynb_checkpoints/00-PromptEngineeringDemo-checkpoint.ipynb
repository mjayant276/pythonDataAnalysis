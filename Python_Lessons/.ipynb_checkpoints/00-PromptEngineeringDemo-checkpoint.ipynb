{
 "cells": [
  {
   "cell_type": "code",
   "execution_count": 1,
   "id": "7d6769fa",
   "metadata": {},
   "outputs": [
    {
     "data": {
      "text/plain": [
       "'C:\\\\Users\\\\Jayanth\\\\Python_DataAnalysis\\\\Python_Lessons'"
      ]
     },
     "execution_count": 1,
     "metadata": {},
     "output_type": "execute_result"
    }
   ],
   "source": [
    "import os\n",
    "os.getcwd()"
   ]
  },
  {
   "cell_type": "code",
   "execution_count": 2,
   "id": "8a04e89c",
   "metadata": {},
   "outputs": [],
   "source": [
    "import openai\n",
    "import os\n",
    "\n",
    "from dotenv import load_dotenv, find_dotenv\n",
    "_ = load_dotenv(find_dotenv())\n",
    "\n",
    "openai.api_key  = os.getenv('OPENAI_API_KEY')"
   ]
  },
  {
   "cell_type": "code",
   "execution_count": 3,
   "id": "382f47c9",
   "metadata": {},
   "outputs": [],
   "source": [
    "def get_completion(prompt, model=\"gpt-3.5-turbo\"):\n",
    "    messages = [{\"role\": \"user\", \"content\": prompt}]\n",
    "    response = openai.ChatCompletion.create(\n",
    "        model=model,\n",
    "        messages=messages,\n",
    "        temperature=0, # this is the degree of randomness of the model's output\n",
    "    )\n",
    "    return response.choices[0].message[\"content\"]"
   ]
  },
  {
   "cell_type": "code",
   "execution_count": 4,
   "id": "066517b4",
   "metadata": {},
   "outputs": [
    {
     "name": "stdout",
     "output_type": "stream",
     "text": [
      "Ingredients:\n",
      "- 200g paneer\n",
      "- 2 tbsp butter\n",
      "- 1 onion, chopped\n",
      "- 2 tomatoes, chopped\n",
      "- 1 tsp ginger paste\n",
      "- 1 tsp garlic paste\n",
      "- 1 tsp red chili powder\n",
      "- 1 tsp coriander powder\n",
      "- 1/2 tsp turmeric powder\n",
      "- 1/2 tsp garam masala powder\n",
      "- 1/2 cup cream\n",
      "- Salt to taste\n",
      "- Coriander leaves for garnish\n",
      "\n",
      "Steps:\n",
      "1. Cut the paneer into small cubes and keep aside.\n",
      "2. Heat butter in a pan and add chopped onions. Saute until onions turn translucent.\n",
      "3. Add ginger and garlic paste and saute for a minute.\n",
      "4. Add chopped tomatoes and cook until they turn soft and mushy.\n",
      "5. Add red chili powder, coriander powder, turmeric powder, and garam masala powder. Mix well and cook for 2-3 minutes.\n",
      "6. Add cream and salt to taste. Mix well and cook for another 2-3 minutes.\n",
      "7. Add paneer cubes and mix gently. Cook for 2-3 minutes until the paneer is heated through.\n",
      "8. Garnish with coriander leaves and serve hot with naan or rice.\n"
     ]
    }
   ],
   "source": [
    "prompt = f\"\"\"\n",
    "Please provide recipe steps for preparing paneer butter masala\n",
    "\"\"\"\n",
    "response = get_completion(prompt)\n",
    "print(response)"
   ]
  },
  {
   "cell_type": "code",
   "execution_count": 5,
   "id": "c5d8efb7",
   "metadata": {},
   "outputs": [
    {
     "name": "stdout",
     "output_type": "stream",
     "text": [
      "As an AI language model, I cannot predict the future with certainty, but it is expected that AI will continue to advance and become more integrated into our daily lives. Some potential developments include:\n",
      "\n",
      "1. Increased automation: AI will continue to automate tasks and processes, leading to increased efficiency and productivity in various industries.\n",
      "\n",
      "2. Improved personalization: AI will be able to provide more personalized experiences for individuals, such as personalized recommendations and tailored content.\n",
      "\n",
      "3. Advancements in healthcare: AI will be used to improve medical diagnosis and treatment, leading to better patient outcomes.\n",
      "\n",
      "4. Enhanced cybersecurity: AI will be used to detect and prevent cyber attacks, making our digital lives more secure.\n",
      "\n",
      "5. Ethical considerations: As AI becomes more advanced, there will be a need to address ethical concerns such as bias and privacy.\n",
      "\n",
      "Overall, AI is expected to continue to evolve and have a significant impact on various aspects of our lives.\n"
     ]
    }
   ],
   "source": [
    "prompt = f\"\"\"\n",
    "What will happen to AI in the future, can you please let me know\n",
    "\"\"\"\n",
    "response = get_completion(prompt)\n",
    "print(response)"
   ]
  },
  {
   "cell_type": "code",
   "execution_count": 6,
   "id": "ef998edf",
   "metadata": {},
   "outputs": [
    {
     "name": "stdout",
     "output_type": "stream",
     "text": [
      "There are several programming languages that are commonly used for AI development, including:\n",
      "\n",
      "1. Python: Python is the most popular language for AI development due to its simplicity, readability, and vast libraries for machine learning and data analysis.\n",
      "\n",
      "2. Java: Java is a popular language for developing AI applications due to its scalability, performance, and cross-platform compatibility.\n",
      "\n",
      "3. C++: C++ is a high-performance language that is commonly used for developing AI applications that require fast processing and low-level control.\n",
      "\n",
      "4. R: R is a language that is specifically designed for statistical computing and data analysis, making it a popular choice for AI applications that require data analysis and visualization.\n",
      "\n",
      "5. Lisp: Lisp is a language that is commonly used for developing AI applications due to its ability to handle symbolic expressions and its support for functional programming.\n",
      "\n",
      "Ultimately, the choice of programming language for AI development depends on the specific requirements of the project and the expertise of the development team.\n"
     ]
    }
   ],
   "source": [
    "prompt = f\"\"\"\n",
    "Which programming languages are better for AI \n",
    "\"\"\"\n",
    "response = get_completion(prompt)\n",
    "print(response)"
   ]
  },
  {
   "cell_type": "code",
   "execution_count": null,
   "id": "78152d25",
   "metadata": {},
   "outputs": [],
   "source": []
  }
 ],
 "metadata": {
  "kernelspec": {
   "display_name": "Python 3 (ipykernel)",
   "language": "python",
   "name": "python3"
  },
  "language_info": {
   "codemirror_mode": {
    "name": "ipython",
    "version": 3
   },
   "file_extension": ".py",
   "mimetype": "text/x-python",
   "name": "python",
   "nbconvert_exporter": "python",
   "pygments_lexer": "ipython3",
   "version": "3.10.10"
  }
 },
 "nbformat": 4,
 "nbformat_minor": 5
}
