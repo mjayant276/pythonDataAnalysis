{
 "cells": [
  {
   "cell_type": "markdown",
   "id": "9727b005",
   "metadata": {},
   "source": [
    "#### Fucntion\n",
    " -  A function is a block of code that can take input and return ouput.\n",
    " - A Function can perform some logic for the given input to produce a given output\n",
    " - The function is defined using the keyword `def`\n",
    " - *syntax* is\n",
    "   \n",
    "   `def` `<functionName>`(optional args):</br>\n",
    "        &emsp;   &emsp;  body of the function </br>\n",
    "          &emsp;  &emsp;  return `<statement>` </br>\n",
    "                "
   ]
  },
  {
   "cell_type": "markdown",
   "id": "76895440",
   "metadata": {},
   "source": [
    "- `pass` keyword"
   ]
  },
  {
   "cell_type": "code",
   "execution_count": 29,
   "id": "8d75e9d6",
   "metadata": {},
   "outputs": [],
   "source": [
    "# Lets say we want to write a function and yet not sure of what the function needs to have logic \n",
    "# as then we can provide pass in the body\n",
    "# Function Name is computeValue\n",
    "# nmemonic - Good meaningful name to that \n",
    "def computeValue():\n",
    "    pass"
   ]
  },
  {
   "cell_type": "code",
   "execution_count": 32,
   "id": "61495541",
   "metadata": {},
   "outputs": [
    {
     "ename": "SyntaxError",
     "evalue": "incomplete input (444674411.py, line 4)",
     "output_type": "error",
     "traceback": [
      "\u001b[1;36m  Cell \u001b[1;32mIn[32], line 4\u001b[1;36m\u001b[0m\n\u001b[1;33m    \u001b[0m\n\u001b[1;37m    ^\u001b[0m\n\u001b[1;31mSyntaxError\u001b[0m\u001b[1;31m:\u001b[0m incomplete input\n"
     ]
    }
   ],
   "source": [
    "# If the body is empty and no pass keyword has been provided then it would throw an error\n",
    "# def computeValue():\n",
    "def computeValue():\n",
    "    pass"
   ]
  },
  {
   "cell_type": "markdown",
   "id": "810fcc51",
   "metadata": {},
   "source": [
    "* Write a function to print a value - No input parameters are passed"
   ]
  },
  {
   "cell_type": "code",
   "execution_count": 35,
   "id": "6a9429b3",
   "metadata": {},
   "outputs": [],
   "source": [
    "# Defining a function using the def keyword, name of the function is printValue, no inputs are taken\n",
    "# for this function\n",
    "def printValue():\n",
    "    print('Hello - .....')"
   ]
  },
  {
   "cell_type": "code",
   "execution_count": 36,
   "id": "3a61522d",
   "metadata": {},
   "outputs": [
    {
     "name": "stdout",
     "output_type": "stream",
     "text": [
      "Hello - .....\n"
     ]
    }
   ],
   "source": [
    "## We call the function as below\n",
    "printValue()"
   ]
  },
  {
   "cell_type": "markdown",
   "id": "6efb904d",
   "metadata": {},
   "source": [
    "* Passing a string value to a function"
   ]
  },
  {
   "cell_type": "code",
   "execution_count": null,
   "id": "e9a95d73",
   "metadata": {},
   "outputs": [],
   "source": []
  },
  {
   "cell_type": "code",
   "execution_count": 37,
   "id": "514c2c0a",
   "metadata": {},
   "outputs": [],
   "source": [
    "def printValue(name):\n",
    "    print(f'Hello value is {name}')"
   ]
  },
  {
   "cell_type": "code",
   "execution_count": 38,
   "id": "e703afd7",
   "metadata": {},
   "outputs": [
    {
     "name": "stdout",
     "output_type": "stream",
     "text": [
      "Hello value is Python\n"
     ]
    }
   ],
   "source": [
    "printValue('Python')"
   ]
  },
  {
   "cell_type": "markdown",
   "id": "8a8a2a7d",
   "metadata": {},
   "source": [
    "* Return type of the function"
   ]
  },
  {
   "cell_type": "code",
   "execution_count": 48,
   "id": "d946088c",
   "metadata": {},
   "outputs": [],
   "source": [
    "def sayhello(name):\n",
    "    msg = 'Welcome to Python and ChatGPT ' + name\n",
    "    print('End of the function')\n",
    "    return msg\n",
    "    "
   ]
  },
  {
   "cell_type": "code",
   "execution_count": 50,
   "id": "09446f4d",
   "metadata": {},
   "outputs": [
    {
     "name": "stdout",
     "output_type": "stream",
     "text": [
      "End of the function\n"
     ]
    }
   ],
   "source": [
    "msg1 = sayhello('Jignesh')"
   ]
  },
  {
   "cell_type": "code",
   "execution_count": 51,
   "id": "871b893b",
   "metadata": {},
   "outputs": [
    {
     "name": "stdout",
     "output_type": "stream",
     "text": [
      "Welcome to Python and ChatGPT Jignesh\n"
     ]
    }
   ],
   "source": [
    "print(msg1)"
   ]
  },
  {
   "cell_type": "code",
   "execution_count": 52,
   "id": "d464228e",
   "metadata": {},
   "outputs": [
    {
     "name": "stdout",
     "output_type": "stream",
     "text": [
      "End of the function\n",
      "Welcome to Python and ChatGPT Jignesh\n"
     ]
    }
   ],
   "source": [
    "print(sayhello('Jignesh'))"
   ]
  },
  {
   "cell_type": "markdown",
   "id": "f1bbd362",
   "metadata": {},
   "source": [
    "* Pass an integer"
   ]
  },
  {
   "cell_type": "code",
   "execution_count": 55,
   "id": "eb992dd0",
   "metadata": {},
   "outputs": [],
   "source": [
    "## Fibonacci series - 0,1,1,2,3,5,8,13,21,\n",
    "def fibonnaci(n):\n",
    "    a,b = 0,1 # a = 0 b=1\n",
    "    while a < n:\n",
    "        print(a, end = ' ')\n",
    "        a,b =  b, a+b\n",
    "    print()"
   ]
  },
  {
   "cell_type": "code",
   "execution_count": 57,
   "id": "08ad8baf",
   "metadata": {},
   "outputs": [
    {
     "name": "stdout",
     "output_type": "stream",
     "text": [
      "0 1 1 2 3 5 8 13 21 \n"
     ]
    }
   ],
   "source": [
    "fibonnaci(30)"
   ]
  },
  {
   "cell_type": "markdown",
   "id": "2695b16a",
   "metadata": {},
   "source": [
    "* Return a list"
   ]
  },
  {
   "cell_type": "code",
   "execution_count": 58,
   "id": "4577aac1",
   "metadata": {},
   "outputs": [],
   "source": [
    "def fibonnaci1(n):\n",
    "    result = [] # empty list\n",
    "    a,b = 0,1\n",
    "    while a < n:\n",
    "        result.append(a)\n",
    "        a,b =  b, a+b\n",
    "    return result    "
   ]
  },
  {
   "cell_type": "code",
   "execution_count": 61,
   "id": "4135fcd9",
   "metadata": {},
   "outputs": [
    {
     "data": {
      "text/plain": [
       "[0, 1, 1, 2, 3, 5, 8, 13, 21, 34]"
      ]
     },
     "execution_count": 61,
     "metadata": {},
     "output_type": "execute_result"
    }
   ],
   "source": [
    "fibonnaci1(38)"
   ]
  },
  {
   "cell_type": "markdown",
   "id": "a230cfba",
   "metadata": {},
   "source": [
    "* Return a tuple and unpack values"
   ]
  },
  {
   "cell_type": "code",
   "execution_count": 62,
   "id": "b945d3c8",
   "metadata": {},
   "outputs": [],
   "source": [
    "def fibonnaci1(n):\n",
    "    result = [] # empty list\n",
    "    a,b = 0,1\n",
    "    while a < n:\n",
    "        result.append(a)\n",
    "        a,b =  b, a+b\n",
    "    return (n,result)   "
   ]
  },
  {
   "cell_type": "code",
   "execution_count": 66,
   "id": "8ed10c1b",
   "metadata": {},
   "outputs": [
    {
     "name": "stdout",
     "output_type": "stream",
     "text": [
      "Fibonnaci for n is 30 and list of values are [0, 1, 1, 2, 3, 5, 8, 13, 21]\n"
     ]
    }
   ],
   "source": [
    "n, result = fibonnaci1(30)\n",
    "print(f'Fibonnaci for n is {n} and list of values are {result}')"
   ]
  },
  {
   "cell_type": "markdown",
   "id": "0c5a33b6",
   "metadata": {},
   "source": [
    "* Default Arguments example"
   ]
  },
  {
   "cell_type": "code",
   "execution_count": 67,
   "id": "d33ffb68",
   "metadata": {},
   "outputs": [],
   "source": [
    "def getPower(num, exponent=2):\n",
    "    return num**exponent"
   ]
  },
  {
   "cell_type": "code",
   "execution_count": 68,
   "id": "7f5cc3b8",
   "metadata": {},
   "outputs": [
    {
     "data": {
      "text/plain": [
       "4"
      ]
     },
     "execution_count": 68,
     "metadata": {},
     "output_type": "execute_result"
    }
   ],
   "source": [
    "getPower(2)"
   ]
  },
  {
   "cell_type": "code",
   "execution_count": 70,
   "id": "7c347099",
   "metadata": {
    "scrolled": true
   },
   "outputs": [
    {
     "data": {
      "text/plain": [
       "16"
      ]
     },
     "execution_count": 70,
     "metadata": {},
     "output_type": "execute_result"
    }
   ],
   "source": [
    "getPower(4)"
   ]
  },
  {
   "cell_type": "code",
   "execution_count": 71,
   "id": "caba9a2e",
   "metadata": {},
   "outputs": [
    {
     "data": {
      "text/plain": [
       "125"
      ]
     },
     "execution_count": 71,
     "metadata": {},
     "output_type": "execute_result"
    }
   ],
   "source": [
    "getPower(5,3) # positional"
   ]
  },
  {
   "cell_type": "code",
   "execution_count": 75,
   "id": "d4d5c11c",
   "metadata": {},
   "outputs": [
    {
     "data": {
      "text/plain": [
       "64"
      ]
     },
     "execution_count": 75,
     "metadata": {},
     "output_type": "execute_result"
    }
   ],
   "source": [
    "getPower(4,exponent=3) # 1 positional and 1 keyword"
   ]
  },
  {
   "cell_type": "code",
   "execution_count": null,
   "id": "54b443a0",
   "metadata": {},
   "outputs": [],
   "source": [
    "getPower(num=4,exponent=3) # 2 keyword"
   ]
  },
  {
   "cell_type": "markdown",
   "id": "ec31990b",
   "metadata": {},
   "source": [
    "* Positional & keywords arguments"
   ]
  },
  {
   "cell_type": "code",
   "execution_count": null,
   "id": "653402e1",
   "metadata": {},
   "outputs": [],
   "source": []
  },
  {
   "cell_type": "markdown",
   "id": "f6213ef3",
   "metadata": {},
   "source": [
    "* Caution - with list as keyword arguments"
   ]
  },
  {
   "cell_type": "code",
   "execution_count": null,
   "id": "f13ced75",
   "metadata": {},
   "outputs": [],
   "source": []
  },
  {
   "cell_type": "markdown",
   "id": "ab905363",
   "metadata": {},
   "source": [
    "* *args & **kwargs"
   ]
  },
  {
   "cell_type": "code",
   "execution_count": null,
   "id": "223ad216",
   "metadata": {},
   "outputs": [],
   "source": []
  }
 ],
 "metadata": {
  "kernelspec": {
   "display_name": "Python 3 (ipykernel)",
   "language": "python",
   "name": "python3"
  },
  "language_info": {
   "codemirror_mode": {
    "name": "ipython",
    "version": 3
   },
   "file_extension": ".py",
   "mimetype": "text/x-python",
   "name": "python",
   "nbconvert_exporter": "python",
   "pygments_lexer": "ipython3",
   "version": "3.10.10"
  }
 },
 "nbformat": 4,
 "nbformat_minor": 5
}
