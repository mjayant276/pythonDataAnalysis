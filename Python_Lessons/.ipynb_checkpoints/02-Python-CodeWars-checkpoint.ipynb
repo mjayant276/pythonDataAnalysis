{
 "cells": [
  {
   "cell_type": "markdown",
   "id": "eeae0430",
   "metadata": {},
   "source": [
    "**Q A Chain adding function** \n",
    "* We want to create a function that will add numbers together when called in succession.\n",
    "  add(1)(2) # equals 3\n",
    "  \n",
    "  We also want to be able to continue to add numbers to our chain.\n",
    "  \n",
    "  add(1)(2)(3) # 6 </br>\n",
    "  add(1)(2)(3)(4); # 10 </br>\n",
    "  add(1)(2)(3)(4)(5) # 15 </br>\n",
    "  \n",
    "  and so on.\n",
    "  \n"
   ]
  },
  {
   "cell_type": "code",
   "execution_count": 25,
   "id": "8fe39159",
   "metadata": {},
   "outputs": [],
   "source": [
    "class CustomInt(int):\n",
    "    def __call__(self,n):\n",
    "        return CustomInt(self + n)\n",
    "\n",
    "def add(n):\n",
    "    return CustomInt(n)\n",
    "    "
   ]
  },
  {
   "cell_type": "code",
   "execution_count": 28,
   "id": "ccf6d56b",
   "metadata": {},
   "outputs": [
    {
     "data": {
      "text/plain": [
       "12"
      ]
     },
     "execution_count": 28,
     "metadata": {},
     "output_type": "execute_result"
    }
   ],
   "source": [
    "add(3)(4)(5)"
   ]
  },
  {
   "cell_type": "code",
   "execution_count": 42,
   "id": "7d325884",
   "metadata": {},
   "outputs": [],
   "source": [
    "   \n",
    "class MyInt(object):\n",
    "    def __init__(self, n):\n",
    "        self.value = n\n",
    "\n",
    "    def __add__(self, n):\n",
    "        return MyInt(self.value + n)\n",
    "        \n",
    "    def __sub__(self, n):\n",
    "        return MyInt(self.value - n)\n",
    "        \n",
    "    def __call__(self, n):\n",
    "        return MyInt(self.value + n)\n",
    "        \n",
    "    def __eq__(self, other):\n",
    "        if isinstance(other, MyInt):\n",
    "            return self.value == other.value\n",
    "        else:\n",
    "            return self.value == other\n",
    "        \n",
    "def add(n):\n",
    "    return MyInt(n)    "
   ]
  },
  {
   "cell_type": "code",
   "execution_count": 49,
   "id": "32c28faa",
   "metadata": {},
   "outputs": [
    {
     "data": {
      "text/plain": [
       "12"
      ]
     },
     "execution_count": 49,
     "metadata": {},
     "output_type": "execute_result"
    }
   ],
   "source": [
    "add(3)(4)(5).value"
   ]
  },
  {
   "cell_type": "markdown",
   "id": "0e450ae3",
   "metadata": {},
   "source": [
    "**Q Scramblies**\n",
    "*  Complete the function scramble(str1, str2) that returns true if a portion of str1 characters can be \n",
    "   rearranged to match str2, otherwise returns false.\n",
    "\n",
    "    Notes:\n",
    "\n",
    "    Only lower case letters will be used (a-z). No punctuation or digits will be included.\n",
    "    Performance needs to be considered.\n"
   ]
  },
  {
   "cell_type": "code",
   "execution_count": null,
   "id": "a6d990b6",
   "metadata": {},
   "outputs": [],
   "source": [
    "## Perfromance \n",
    "def scramble(s1,s2):\n",
    "    for x in set(s2):\n",
    "        if s1.count(x) < s2.count(x):\n",
    "            return False\n",
    "    return True    "
   ]
  },
  {
   "cell_type": "code",
   "execution_count": 59,
   "id": "4feecfbf",
   "metadata": {},
   "outputs": [],
   "source": [
    "## Using lists - Slow performance\n",
    "def scramble(s1, s2):\n",
    "    s1 = [letter for letter in s1]\n",
    "    s2 = [letter for letter in s2]\n",
    "    s3 = [letter for letter in s1]\n",
    "    for x in s2:\n",
    "        if x in s1:\n",
    "            s3.remove(x)\n",
    "    diff = len(s1) - len(s2) \n",
    "    if diff == len(s3):\n",
    "        return True\n",
    "    return False"
   ]
  },
  {
   "cell_type": "markdown",
   "id": "b130e696",
   "metadata": {},
   "source": [
    "**Strip Comments**\n",
    "\n",
    "Complete the solution so that it strips all text that follows any of a set of comment markers passed in. \n",
    "Any whitespace at the end of the line should also be stripped out. "
   ]
  },
  {
   "cell_type": "code",
   "execution_count": 26,
   "id": "9d00fa8c",
   "metadata": {},
   "outputs": [],
   "source": [
    "def strip_comments(strng, markers):\n",
    "    for marker in markers:\n",
    "        if marker in strng:\n",
    "            ind1 = strng.index(marker)\n",
    "            ind2 = strng.find('\\n')\n",
    "            if ind1 <ind2:\n",
    "                strng = strng.replace(strng[ind1-1:ind2],'')\n",
    "            elif ind1 > ind2:\n",
    "                strng = strng.replace(strng[ind1-1:],'')\n",
    "    return strng.rstrip() "
   ]
  },
  {
   "cell_type": "code",
   "execution_count": 48,
   "id": "1fca5ff2",
   "metadata": {},
   "outputs": [],
   "source": [
    "def strip_comments(strng, markers):\n",
    "    lines = []\n",
    "    for line in strng.splitlines():\n",
    "        for marker in markers:\n",
    "            if marker in line:\n",
    "                ind1 = line.index(marker)\n",
    "                line = line.replace(line[ind1:],'')\n",
    "                line = line.rstrip()\n",
    "        lines.append(line)\n",
    "    return '\\n'.join(lines)"
   ]
  },
  {
   "cell_type": "code",
   "execution_count": 50,
   "id": "979ee28b",
   "metadata": {},
   "outputs": [],
   "source": [
    "## Above code can be written as following:\n",
    "def strip_comments(string,markers):\n",
    "    parts = string.split('\\n')\n",
    "    for s in markers:\n",
    "        parts = [v.split(s)[0].rstrip() for v in parts]\n",
    "    return '\\n'.join(parts)"
   ]
  },
  {
   "cell_type": "code",
   "execution_count": 51,
   "id": "f1552a16",
   "metadata": {
    "scrolled": true
   },
   "outputs": [
    {
     "name": "stdout",
     "output_type": "stream",
     "text": [
      "apples, pears\n",
      "grapes\n",
      "bananas\n"
     ]
    }
   ],
   "source": [
    "print(strip_comments('apples, pears # and bananas\\ngrapes\\nbananas !apples', ['#', '!']))"
   ]
  },
  {
   "cell_type": "raw",
   "id": "4a4ec61f",
   "metadata": {},
   "source": [
    "**Matrix Determinant**\n",
    "\n",
    "\n",
    "\"\"\"\n",
    "    https://www.codewars.com/kata/52a382ee44408cea2500074c\n",
    "    Write a function that accepts a square matrix (n x n 2D array) and returns the determinant of the matrix.\n",
    "    How to take the determinant of a matrix --\n",
    "    it is simplest to start with the smallest cases:\n",
    "    A 1x1 matrix |a| has determinant a. A 2x2 matrix [[a, b], [c, d]] or\n",
    "    |a b|\n",
    "    |c d|\n",
    "    has determinant ad - bc.\n",
    "    The determinant of an n x n sized matrix is calculated by\n",
    "    reducing the problem to the calculation of the determinants of\n",
    "    n n-1 x n-1 matrices. For the 3x3 case, [[a, b, c], [d, e, f], [g, h, i]] or\n",
    "    |a b c|\n",
    "    |d e f|\n",
    "    |g h i|\n",
    "    the determinant is: a * det(a_minor) - b * det(b_minor) + c * det(c_minor)\n",
    "    where det(a_minor) refers to taking the determinant of the 2x2 matrix\n",
    "    created by crossing out the row and column in which the element a occurs, or\n",
    "    |e f|\n",
    "    |h i|\n",
    "    Note the alternation of signs.\n",
    "    The determinant of larger matrices are calculated analogously,\n",
    "    e.g. if M is a 4x4 matrix with first row [a, b, c, d],\n",
    "    det(M) = a * det(a_minor) - b * det(b_minor) + c * det(c_minor) - d * det(d_minor)\n",
    "    \"\"\"\n",
    "\n",
    "* Description:\n",
    "\n",
    "  Write a function that accepts a square matrix (N x N 2D array) and returns the determinant of the matrix.\n",
    "\n",
    "  How to take the determinant of a matrix -- it is simplest to start with the smallest cases:\n",
    "\n",
    "  A 1x1 matrix |a| has determinant a.\n",
    "\n",
    "  A 2x2 matrix [ [a, b], [c, d] ] or has determinant: a*d - b*c.\n",
    "\n",
    "  The determinant of an n x n sized matrix is calculated by reducing the problem to the calculation of the determinants of \n",
    "   n matrices ofn-1 x n-1 size.\n",
    "\n",
    "  For the 3x3 case, [ [a, b, c], [d, e, f], [g, h, i] ] or the determinant is: \n",
    "  a * det(a_minor) - b * det(b_minor) + c * det(c_minor) where det(a_minor) refers to taking the determinant of the 2x2 \n",
    "  matrix created by crossing out the row and column in which the element a occurs:\n",
    "  Note the alternation of signs.\n",
    "\n",
    "  The determinant of larger matrices are calculated analogously, e.g. if M is a 4x4 matrix with first row [a, b, c, d], \n",
    "  then:\n",
    "\n",
    "  det(M) = a * det(a_minor) - b * det(b_minor) + c * det(c_minor) - d * det(d_minor)\n"
   ]
  },
  {
   "cell_type": "code",
   "execution_count": 57,
   "id": "e9182a91",
   "metadata": {},
   "outputs": [],
   "source": [
    "### Lets try for 2x2 determinant\n",
    "def det2by2(arr):\n",
    "    return ((arr[0][0] * arr[1][1]) - (arr[1][0]*arr[0][1]))"
   ]
  },
  {
   "cell_type": "code",
   "execution_count": 58,
   "id": "e748b453",
   "metadata": {},
   "outputs": [
    {
     "name": "stdout",
     "output_type": "stream",
     "text": [
      "0\n"
     ]
    }
   ],
   "source": [
    "print(det2by2([[1,1],[1,1]]))"
   ]
  },
  {
   "cell_type": "code",
   "execution_count": 33,
   "id": "396770b5",
   "metadata": {},
   "outputs": [],
   "source": [
    "def determinant(m):\n",
    "    ## check for lenght of the array\n",
    "    if(len(m)==1):\n",
    "        return m[0][0]\n",
    "    a=0\n",
    "    for n in range(len(m)):\n",
    "        a+=(1 if n%2==0 else -1)*m[0][n]* determinant([o[:n]+o[n+1:] for o in m[1:]])\n",
    "    return a    "
   ]
  },
  {
   "cell_type": "code",
   "execution_count": 28,
   "id": "12acc056",
   "metadata": {},
   "outputs": [],
   "source": [
    "from copy import deepcopy\n",
    "\n",
    "def smaller_matrix(o_matrix,row,column):\n",
    "    # the new matrix should not affect the original matrix\n",
    "    new_matrix = deepcopy(o_matrix)\n",
    "    ## the indices to do the removal depend on the original matrix.\n",
    "    new_matrix.remove(o_matrix[row])\n",
    "    for i in range(len(new_matrix)):\n",
    "        new_matrix[i].remove(new_matrix[i][column])\n",
    "    return new_matrix    \n",
    "    \n",
    "\n",
    "def determinant(matrix):\n",
    "    num_rows = len(matrix)\n",
    "    for row in matrix:\n",
    "        if len(row) != num_rows:\n",
    "            print(\"Not a sqaure matrix\")\n",
    "            return None\n",
    "    if len(matrix) == 2:\n",
    "        simple_determinant = (matrix[0][0] * matrix[1][1]) -  (matrix[1][0] * matrix[0][1])\n",
    "        return simple_determinant\n",
    "    else:\n",
    "        # cofactor expansion\n",
    "        answer = 0\n",
    "        num_columns = num_rows\n",
    "        for j in range(num_columns):\n",
    "            cofactor = (-1)**j * matrix[0][j] * determinant(smaller_matrix(matrix,0,j))  ## eliminate the zeroth row and jth column of the given matrix\n",
    "            answer += cofactor\n",
    "        return answer\n",
    "        "
   ]
  },
  {
   "cell_type": "code",
   "execution_count": 34,
   "id": "5be9af7a",
   "metadata": {},
   "outputs": [
    {
     "name": "stdout",
     "output_type": "stream",
     "text": [
      "10\n",
      "-19\n",
      "681\n"
     ]
    }
   ],
   "source": [
    "m5 = [[2,4,2],[3,1,1],[1,2,0]]\n",
    "m2 = [[2,3],[7,1]]\n",
    "m4 = [[2,3,7,1],[7,1,9,8],[8,6,1,4],[0,1,4,2]]\n",
    "print(determinant(m5))\n",
    "print(determinant(m2))\n",
    "print(determinant(m4))"
   ]
  },
  {
   "cell_type": "markdown",
   "id": "7ed98a09",
   "metadata": {},
   "source": [
    "**Check for a perfect square**"
   ]
  },
  {
   "cell_type": "code",
   "execution_count": 4,
   "id": "61f69cb8",
   "metadata": {},
   "outputs": [
    {
     "name": "stdout",
     "output_type": "stream",
     "text": [
      "Enter a number: 125\n",
      "It is NOT a perfect square.\n"
     ]
    }
   ],
   "source": [
    "import math\n",
    "\n",
    "def is_perfect_square(x):\n",
    "    \n",
    "    sqrt_value = math.sqrt(x)\n",
    "    #math.ceil,math.floor, round... work too\n",
    "    return int(sqrt_value)**2 == x\n",
    "\n",
    "number = int(input(\"Enter a number: \"))\n",
    "if is_perfect_square(number):\n",
    "    print(\"It is a perfect square\")\n",
    "else:\n",
    "    print(\"It is NOT a perfect square.\")"
   ]
  },
  {
   "cell_type": "markdown",
   "id": "c71236fa",
   "metadata": {},
   "source": [
    "**Common Denominators**"
   ]
  },
  {
   "cell_type": "code",
   "execution_count": null,
   "id": "f8be379f",
   "metadata": {},
   "outputs": [],
   "source": [
    "def convert_fracts(lst):\n",
    "    denom = []\n",
    "    for i in lst:\n",
    "        denom.append(i[1])\n",
    "        "
   ]
  }
 ],
 "metadata": {
  "kernelspec": {
   "display_name": "Python 3 (ipykernel)",
   "language": "python",
   "name": "python3"
  },
  "language_info": {
   "codemirror_mode": {
    "name": "ipython",
    "version": 3
   },
   "file_extension": ".py",
   "mimetype": "text/x-python",
   "name": "python",
   "nbconvert_exporter": "python",
   "pygments_lexer": "ipython3",
   "version": "3.10.10"
  }
 },
 "nbformat": 4,
 "nbformat_minor": 5
}
