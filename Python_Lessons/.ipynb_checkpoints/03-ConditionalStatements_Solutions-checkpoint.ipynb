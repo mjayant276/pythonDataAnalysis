{
 "cells": [
  {
   "cell_type": "markdown",
   "id": "cce4cfbc",
   "metadata": {},
   "source": [
    "###  Python-Lesson 03\n",
    "#### In this notebook, we shall cover the following concepts \n",
    "   - Bitwise operators\n",
    "   - Membership operators\n",
    "   - Identity Operators\n",
    "   - Conditional Statements\n",
    "   - Python Data Structures\n",
    "       - List\n",
    "       - Tuple\n",
    "       - Sets\n",
    "       - Dictionary\n",
    "       - Collections in Python"
   ]
  },
  {
   "cell_type": "markdown",
   "id": "6cf3bedc",
   "metadata": {},
   "source": [
    "* Bitwise Operators\n",
    "* Membership Operators\n",
    "* Identity Operators"
   ]
  },
  {
   "cell_type": "markdown",
   "id": "f332b3d0",
   "metadata": {},
   "source": [
    "<img src=\"truthTable.JPG\">"
   ]
  },
  {
   "cell_type": "markdown",
   "id": "b6fd7050",
   "metadata": {},
   "source": [
    "* Bitwise Operators"
   ]
  },
  {
   "cell_type": "markdown",
   "id": "7d4f3fbe",
   "metadata": {},
   "source": [
    "- Bitwise AND (&) Operator"
   ]
  },
  {
   "cell_type": "code",
   "execution_count": 6,
   "id": "cf85b0cb",
   "metadata": {},
   "outputs": [
    {
     "name": "stdout",
     "output_type": "stream",
     "text": [
      "0b11\n",
      "0b101\n"
     ]
    }
   ],
   "source": [
    "print(bin(3))\n",
    "print(bin(5)) # 011 & 101 --> 1"
   ]
  },
  {
   "cell_type": "code",
   "execution_count": 7,
   "id": "04b482e1",
   "metadata": {},
   "outputs": [
    {
     "data": {
      "text/plain": [
       "1"
      ]
     },
     "execution_count": 7,
     "metadata": {},
     "output_type": "execute_result"
    }
   ],
   "source": [
    "3&5"
   ]
  },
  {
   "cell_type": "markdown",
   "id": "55390f6a",
   "metadata": {},
   "source": [
    "- Bitwise OR (|) Operator"
   ]
  },
  {
   "cell_type": "code",
   "execution_count": null,
   "id": "9c9e4b5d",
   "metadata": {},
   "outputs": [],
   "source": [
    "# 0011 | 0101 -> 0111"
   ]
  },
  {
   "cell_type": "code",
   "execution_count": 9,
   "id": "b6ad32cd",
   "metadata": {
    "scrolled": true
   },
   "outputs": [
    {
     "name": "stdout",
     "output_type": "stream",
     "text": [
      "7\n"
     ]
    }
   ],
   "source": [
    "print(3|5)"
   ]
  },
  {
   "cell_type": "markdown",
   "id": "33eb17fe",
   "metadata": {},
   "source": [
    "* Bitwise XOR (^) Operator"
   ]
  },
  {
   "cell_type": "code",
   "execution_count": 1,
   "id": "48f2a8d3",
   "metadata": {},
   "outputs": [
    {
     "name": "stdout",
     "output_type": "stream",
     "text": [
      "7\n"
     ]
    }
   ],
   "source": [
    "# 1011 ^ 1100 -> 0111 (11^12 -> 7)\n",
    "print(11^12)"
   ]
  },
  {
   "cell_type": "markdown",
   "id": "3a311686",
   "metadata": {},
   "source": [
    "* Bitwise << left shift operator - The left shift operator shifts the left bits operand towards left.\n",
    "- 1100 << 2 means that the two zeros are appended at the right side. 110000 is the output"
   ]
  },
  {
   "cell_type": "code",
   "execution_count": 14,
   "id": "798397e1",
   "metadata": {},
   "outputs": [
    {
     "data": {
      "text/plain": [
       "48"
      ]
     },
     "execution_count": 14,
     "metadata": {},
     "output_type": "execute_result"
    }
   ],
   "source": [
    "### input is 1100 --> 12 << 2 output is 110000 (48) is the output\n",
    "12 << 2 "
   ]
  },
  {
   "cell_type": "markdown",
   "id": "632ecae0",
   "metadata": {},
   "source": [
    "* Bitwise >> right shift operator - The right shift operator shifts the right side bits. The rigt side bit are removed.\n",
    "- 110011 >> 2 means that the last two bits are removed from the right side. 1100 is the output."
   ]
  },
  {
   "cell_type": "code",
   "execution_count": 21,
   "id": "07206816",
   "metadata": {},
   "outputs": [
    {
     "data": {
      "text/plain": [
       "12"
      ]
     },
     "execution_count": 21,
     "metadata": {},
     "output_type": "execute_result"
    }
   ],
   "source": [
    "# 51 -> in binary is 110011 and when last two are removed we get 1100 (12) as the output\n",
    "51 >> 2"
   ]
  },
  {
   "cell_type": "markdown",
   "id": "0acc9c44",
   "metadata": {},
   "source": [
    "* Bitwise one's complement operator (~) x -> -(x+1) . This gives the complement of the binary number\n",
    "- ~10 (1010) -> -11 "
   ]
  },
  {
   "cell_type": "code",
   "execution_count": 22,
   "id": "59ff72a6",
   "metadata": {},
   "outputs": [
    {
     "data": {
      "text/plain": [
       "-11"
      ]
     },
     "execution_count": 22,
     "metadata": {},
     "output_type": "execute_result"
    }
   ],
   "source": [
    "~10"
   ]
  },
  {
   "cell_type": "code",
   "execution_count": 24,
   "id": "fc91083f",
   "metadata": {},
   "outputs": [
    {
     "data": {
      "text/plain": [
       "9"
      ]
     },
     "execution_count": 24,
     "metadata": {},
     "output_type": "execute_result"
    }
   ],
   "source": [
    "~-10"
   ]
  },
  {
   "cell_type": "code",
   "execution_count": 26,
   "id": "71e660a7",
   "metadata": {},
   "outputs": [
    {
     "data": {
      "text/plain": [
       "True"
      ]
     },
     "execution_count": 26,
     "metadata": {},
     "output_type": "execute_result"
    }
   ],
   "source": [
    "#### Exercise - check if a number is even using bitwise & operator\n",
    "x = 11\n",
    "x&1 == 1  # odd number "
   ]
  },
  {
   "cell_type": "code",
   "execution_count": 28,
   "id": "ec52eecd",
   "metadata": {},
   "outputs": [
    {
     "data": {
      "text/plain": [
       "True"
      ]
     },
     "execution_count": 28,
     "metadata": {},
     "output_type": "execute_result"
    }
   ],
   "source": [
    "y = 12\n",
    "y&1 == 0 # even number"
   ]
  },
  {
   "cell_type": "markdown",
   "id": "9d78d195",
   "metadata": {},
   "source": [
    "* Membership Operators - in and not in"
   ]
  },
  {
   "cell_type": "code",
   "execution_count": 35,
   "id": "92b9639d",
   "metadata": {},
   "outputs": [
    {
     "data": {
      "text/plain": [
       "True"
      ]
     },
     "execution_count": 35,
     "metadata": {},
     "output_type": "execute_result"
    }
   ],
   "source": [
    "### We can check the if the values are available or not in the given string for operators\n",
    "## a='hello' in b='hello can i know the time please ?' check a in b\n",
    "a = 'hello'\n",
    "b = 'hello can i know the time please ?'\n",
    "a in b"
   ]
  },
  {
   "cell_type": "code",
   "execution_count": 33,
   "id": "2464e729",
   "metadata": {},
   "outputs": [
    {
     "data": {
      "text/plain": [
       "True"
      ]
     },
     "execution_count": 33,
     "metadata": {},
     "output_type": "execute_result"
    }
   ],
   "source": [
    "### We can check the if the values are available or not in the given string for operators\n",
    "## a='bell' in b='hello can i know the time please ?' check a not in b\n",
    "a = 'bell'\n",
    "b = 'hello can i know the time please ?'\n",
    "a not in b"
   ]
  },
  {
   "cell_type": "code",
   "execution_count": 34,
   "id": "6427a243",
   "metadata": {},
   "outputs": [
    {
     "data": {
      "text/plain": [
       "False"
      ]
     },
     "execution_count": 34,
     "metadata": {},
     "output_type": "execute_result"
    }
   ],
   "source": [
    "### We can check the if the values are available or not in the given string for operators\n",
    "## a='bell' in b='hello can i know the time please ?' check a  in b\n",
    "a = 'bell'\n",
    "b = 'hello can i know the time please ?'\n",
    "a in b"
   ]
  },
  {
   "cell_type": "markdown",
   "id": "71dddf13",
   "metadata": {},
   "source": [
    "* Identity Operators - is and is not"
   ]
  },
  {
   "cell_type": "code",
   "execution_count": 36,
   "id": "453cb107",
   "metadata": {},
   "outputs": [
    {
     "data": {
      "text/plain": [
       "True"
      ]
     },
     "execution_count": 36,
     "metadata": {},
     "output_type": "execute_result"
    }
   ],
   "source": [
    "### is or is not operators can be used to know if certain conditions are met are not\n",
    "a = 21\n",
    "b = 33\n",
    "c = b\n",
    "print(c is b)"
   ]
  },
  {
   "cell_type": "code",
   "execution_count": 37,
   "id": "cecd8ec9",
   "metadata": {},
   "outputs": [
    {
     "name": "stdout",
     "output_type": "stream",
     "text": [
      "False\n"
     ]
    }
   ],
   "source": [
    "print(c is not b)"
   ]
  },
  {
   "cell_type": "markdown",
   "id": "75ec9e74",
   "metadata": {},
   "source": [
    "### Python Conditional Statements\n",
    "if expr: </br>\n",
    "    statement </br>\n",
    "elif expr:    </br>\n",
    "    statement </br>\n",
    "elif expr:    </br>\n",
    "    statement </br>\n",
    "elif expr:    </br>\n",
    "    statement </br>\n",
    ": </br>\n",
    ": </br>\n",
    ": </br>\n",
    "else:         \n",
    "    statement "
   ]
  },
  {
   "cell_type": "code",
   "execution_count": 58,
   "id": "34b8ed87",
   "metadata": {},
   "outputs": [
    {
     "name": "stdout",
     "output_type": "stream",
     "text": [
      "Y is greater\n"
     ]
    }
   ],
   "source": [
    "## Simple condition for two numbers\n",
    "x = 10\n",
    "y = 20\n",
    "if y > x:\n",
    "    print('Y is greater')\n",
    "else:     \n",
    "    print('X is greater')"
   ]
  },
  {
   "cell_type": "code",
   "execution_count": 43,
   "id": "6d5ed1d7",
   "metadata": {},
   "outputs": [
    {
     "name": "stdout",
     "output_type": "stream",
     "text": [
      "Enter name Hari\n",
      "Not in the name\n"
     ]
    }
   ],
   "source": [
    "### Enter a name to Capture input from the command line and write conditions for it.\n",
    "name = input('Enter name ')\n",
    "if name == 'Jayant' :\n",
    "    print('Please start')\n",
    "elif name == 'Vamshi':\n",
    "    print('Please turn around')\n",
    "elif name == 'Mayank':\n",
    "    print('Please be seated')\n",
    "else:\n",
    "    print('Not in the name')"
   ]
  },
  {
   "cell_type": "code",
   "execution_count": 45,
   "id": "11645491",
   "metadata": {},
   "outputs": [
    {
     "name": "stdout",
     "output_type": "stream",
     "text": [
      "Enter age of participant15\n",
      "You can start coding\n"
     ]
    }
   ],
   "source": [
    "### Writing a if else block of code to capture the statements such that \n",
    "## we print statements only for age group of 13\n",
    "age = input('Enter age of participant')\n",
    "age = int(age)\n",
    "if age >= 13:\n",
    "    print('You can start coding')\n",
    "else: \n",
    "    print('Please learn basics of scartch')"
   ]
  },
  {
   "cell_type": "markdown",
   "id": "dea30581",
   "metadata": {},
   "source": [
    "**Hacker Rank** Questions"
   ]
  },
  {
   "cell_type": "raw",
   "id": "c2e3f1bb",
   "metadata": {},
   "source": [
    "### Hacker Rank Question \n",
    "Given an integer, perform the following conditional actions:\n",
    "If n is odd, print Weird\n",
    "If n is even and in the inclusive range of 2 to 5, print Not Weird\n",
    "If n is even and in the inclusive range of to 6 to 20, print Weird\n",
    "If n is even and greater than 20 , print Not Weird\n",
    "n >= 1 and n <= 100"
   ]
  },
  {
   "cell_type": "code",
   "execution_count": 57,
   "id": "507c99af",
   "metadata": {},
   "outputs": [
    {
     "name": "stdout",
     "output_type": "stream",
     "text": [
      "Enter a number 1 to 100 4\n",
      "Not weird\n"
     ]
    }
   ],
   "source": []
  },
  {
   "cell_type": "markdown",
   "id": "f3fa0f66",
   "metadata": {},
   "source": []
  },
  {
   "cell_type": "code",
   "execution_count": null,
   "id": "6974f0ad",
   "metadata": {},
   "outputs": [],
   "source": []
  },
  {
   "cell_type": "code",
   "execution_count": null,
   "id": "ac2425e2",
   "metadata": {},
   "outputs": [],
   "source": []
  },
  {
   "cell_type": "code",
   "execution_count": null,
   "id": "ced85b05",
   "metadata": {},
   "outputs": [],
   "source": [
    "## Summary of above n --> weird ( odd , even and 6 to 20) Not weird (even and 2to 5 and > 20)\n",
    "n = input('Enter a number 1 to 100 ')\n",
    "n = int(n)\n",
    "if n % 2 != 0 and n <= 20:\n",
    "    print('Weird')\n",
    "elif n%2 == 0 and 2<=n <= 5:\n",
    "    print('Not weird')\n",
    "elif n%2 == 0 and 6<=n<=20:\n",
    "    print('Weird')\n",
    "else:\n",
    "    print('Not weird')"
   ]
  },
  {
   "cell_type": "markdown",
   "id": "f374feb7",
   "metadata": {},
   "source": [
    "### Loops in Python\n",
    "- while loop in python"
   ]
  },
  {
   "cell_type": "code",
   "execution_count": null,
   "id": "3a47d82e",
   "metadata": {},
   "outputs": [],
   "source": []
  },
  {
   "cell_type": "code",
   "execution_count": 35,
   "id": "ef88dbae",
   "metadata": {},
   "outputs": [
    {
     "name": "stdout",
     "output_type": "stream",
     "text": [
      "0\n",
      "1\n",
      "2\n",
      "3\n",
      "4\n",
      "5\n",
      "6\n"
     ]
    }
   ],
   "source": [
    "### while loops in python\n",
    "x = 0 \n",
    "while x < 7:\n",
    "    print(x)\n",
    "    x += 1\n",
    "    "
   ]
  },
  {
   "cell_type": "code",
   "execution_count": 36,
   "id": "64e8f8cc",
   "metadata": {},
   "outputs": [
    {
     "name": "stdout",
     "output_type": "stream",
     "text": [
      "5\n",
      "4\n",
      "3\n",
      "2\n",
      "1\n"
     ]
    }
   ],
   "source": [
    "### while loops in python\n",
    "x = 5\n",
    "while x > 0:\n",
    "    print(x)\n",
    "    x -= 1"
   ]
  },
  {
   "cell_type": "markdown",
   "id": "8700f27c",
   "metadata": {},
   "source": [
    "- for loop in python"
   ]
  },
  {
   "cell_type": "markdown",
   "id": "b9cc2547",
   "metadata": {},
   "source": [
    "* Range Object - A Range "
   ]
  },
  {
   "cell_type": "markdown",
   "id": "7fc1084b",
   "metadata": {},
   "source": [
    "If we want to generate numbers from 0 to n - then we can use range() \n",
    "   - Generate numbers using range object\n",
    "   - range()- A range object generates a sequence of numbers starting from 0 to n"
   ]
  },
  {
   "cell_type": "code",
   "execution_count": 41,
   "id": "461716cc",
   "metadata": {},
   "outputs": [
    {
     "name": "stdout",
     "output_type": "stream",
     "text": [
      "0\n",
      "1\n",
      "2\n"
     ]
    }
   ],
   "source": [
    "#for loops in python using range object - Starting from 0 and ending until 3\n",
    "for i in range(3):\n",
    "    print(i)"
   ]
  },
  {
   "cell_type": "code",
   "execution_count": 42,
   "id": "71afd917",
   "metadata": {},
   "outputs": [
    {
     "name": "stdout",
     "output_type": "stream",
     "text": [
      "2\n",
      "3\n",
      "4\n",
      "5\n",
      "6\n",
      "7\n",
      "8\n",
      "9\n"
     ]
    }
   ],
   "source": [
    "# for loops in python using range object - Starting from a number 2 and ending until 10.\n",
    "for i in range(2,10):\n",
    "    print(i)"
   ]
  },
  {
   "cell_type": "code",
   "execution_count": 43,
   "id": "67ee6602",
   "metadata": {},
   "outputs": [
    {
     "name": "stdout",
     "output_type": "stream",
     "text": [
      "2\n",
      "4\n",
      "6\n",
      "8\n",
      "10\n",
      "12\n"
     ]
    }
   ],
   "source": [
    "# for loops in python using range object - Staring from a number and ending at a number with difference\n",
    "for i in range(2,14,2):\n",
    "    print(i)"
   ]
  },
  {
   "cell_type": "markdown",
   "id": "0b04fa9a",
   "metadata": {},
   "source": [
    "#### Python Data Structures\n",
    "- List\n",
    "- Tuple\n",
    "- Sets\n",
    "- Dictioary \n",
    "- Collections in Python"
   ]
  },
  {
   "cell_type": "markdown",
   "id": "ab2f5516",
   "metadata": {},
   "source": [
    "* List - List of comma separated values (items) between square brackets </br>\n",
    "       - Lists can be heterogenous - can take different values. </br>\n",
    "       - Lists can be accessed based on indices. </br>\n",
    "       \n",
    "\n",
    "</br>\n",
    "<span style=\"color:red\">   |  0  |  1  |  2  |  3  |  4 |  </span> </br>\n",
    "<span style=\"color:green\">|  1  |  2  |  3  |  4 |  5 |  </span> </br>\n",
    "<span style=\"color:blue\">  | -5  | -4  | -3  | -2  | -1 |  </span> </br>\n",
    "   "
   ]
  },
  {
   "cell_type": "code",
   "execution_count": 10,
   "id": "e4fca5f6",
   "metadata": {},
   "outputs": [],
   "source": [
    "### Creating an empty list - []\n",
    "numval = []"
   ]
  },
  {
   "cell_type": "code",
   "execution_count": 1,
   "id": "46ba72e1",
   "metadata": {},
   "outputs": [
    {
     "data": {
      "text/plain": [
       "[1, 2, 3, 4, 5]"
      ]
     },
     "execution_count": 1,
     "metadata": {},
     "output_type": "execute_result"
    }
   ],
   "source": [
    "numbers = [1,2,3,4,5]\n",
    "numbers"
   ]
  },
  {
   "cell_type": "code",
   "execution_count": 2,
   "id": "b36cf04a",
   "metadata": {},
   "outputs": [
    {
     "data": {
      "text/plain": [
       "1"
      ]
     },
     "execution_count": 2,
     "metadata": {},
     "output_type": "execute_result"
    }
   ],
   "source": [
    "#### finding the numbers with zeroth index - numbers[0]\n",
    "numbers[0]"
   ]
  },
  {
   "cell_type": "code",
   "execution_count": 4,
   "id": "ba78a80e",
   "metadata": {},
   "outputs": [
    {
     "data": {
      "text/plain": [
       "5"
      ]
     },
     "execution_count": 4,
     "metadata": {},
     "output_type": "execute_result"
    }
   ],
   "source": [
    "#### Finding the numbers from the last - numbers[-1]\n",
    "numbers[-1]"
   ]
  },
  {
   "cell_type": "code",
   "execution_count": 5,
   "id": "d028f025",
   "metadata": {},
   "outputs": [
    {
     "data": {
      "text/plain": [
       "[1, 2, 3, 4, 5]"
      ]
     },
     "execution_count": 5,
     "metadata": {},
     "output_type": "execute_result"
    }
   ],
   "source": [
    "#### finding the number from first (0) to last- numbers[0:]\n",
    "numbers[0:]"
   ]
  },
  {
   "cell_type": "code",
   "execution_count": 6,
   "id": "f46674a5",
   "metadata": {},
   "outputs": [
    {
     "data": {
      "text/plain": [
       "[2, 3, 4]"
      ]
     },
     "execution_count": 6,
     "metadata": {},
     "output_type": "execute_result"
    }
   ],
   "source": [
    "#### finding the numbers from first index (1) to (4) index - numbers[1:4]\n",
    "numbers[1:4]"
   ]
  },
  {
   "cell_type": "code",
   "execution_count": 7,
   "id": "98e49b5d",
   "metadata": {},
   "outputs": [
    {
     "data": {
      "text/plain": [
       "[3, 4, 5]"
      ]
     },
     "execution_count": 7,
     "metadata": {},
     "output_type": "execute_result"
    }
   ],
   "source": [
    "#### finding the numbers from second index (2) to (5) index - numbers[2:5]\n",
    "numbers[2:5]"
   ]
  },
  {
   "cell_type": "code",
   "execution_count": 8,
   "id": "db5f2147",
   "metadata": {},
   "outputs": [
    {
     "data": {
      "text/plain": [
       "[3, 4, 5]"
      ]
     },
     "execution_count": 8,
     "metadata": {},
     "output_type": "execute_result"
    }
   ],
   "source": [
    "#### finding the numbers from last index -3 to to the zeroth index -numbers[-3:]\n",
    "numbers[-3:]"
   ]
  },
  {
   "cell_type": "markdown",
   "id": "7c087cdd",
   "metadata": {},
   "source": [
    "* Print all numbers"
   ]
  },
  {
   "cell_type": "code",
   "execution_count": 9,
   "id": "7f2a324f",
   "metadata": {},
   "outputs": [
    {
     "data": {
      "text/plain": [
       "[1, 2, 3, 4, 5]"
      ]
     },
     "execution_count": 9,
     "metadata": {},
     "output_type": "execute_result"
    }
   ],
   "source": [
    "### listing all the numbers from the list - numbers[:]\n",
    "numbers[:]"
   ]
  },
  {
   "cell_type": "markdown",
   "id": "9c19d9c5",
   "metadata": {},
   "source": [
    "* print length of numbers"
   ]
  },
  {
   "cell_type": "code",
   "execution_count": 11,
   "id": "24b19e8f",
   "metadata": {},
   "outputs": [
    {
     "data": {
      "text/plain": [
       "5"
      ]
     },
     "execution_count": 11,
     "metadata": {},
     "output_type": "execute_result"
    }
   ],
   "source": [
    "### length of the list can be found using - len(numbers)\n",
    "len(numbers)"
   ]
  },
  {
   "cell_type": "markdown",
   "id": "95209087",
   "metadata": {},
   "source": [
    "* Assign value to particular index"
   ]
  },
  {
   "cell_type": "code",
   "execution_count": 14,
   "id": "0043f9ef",
   "metadata": {},
   "outputs": [],
   "source": [
    "#### We can reassign value to a index in a list - assign a new number to index 0\n",
    "numbers[0] = 11"
   ]
  },
  {
   "cell_type": "code",
   "execution_count": 15,
   "id": "436455a3",
   "metadata": {},
   "outputs": [
    {
     "data": {
      "text/plain": [
       "[11, 2, 3, 4, 5]"
      ]
     },
     "execution_count": 15,
     "metadata": {},
     "output_type": "execute_result"
    }
   ],
   "source": [
    "numbers"
   ]
  },
  {
   "cell_type": "markdown",
   "id": "585d8270",
   "metadata": {},
   "source": [
    "* append() elements to a list"
   ]
  },
  {
   "cell_type": "code",
   "execution_count": 16,
   "id": "02dc9e5f",
   "metadata": {},
   "outputs": [],
   "source": [
    "#### List values can be appended at the end in a list - numbers.append() - numbers.append(6)\n"
   ]
  },
  {
   "cell_type": "code",
   "execution_count": 17,
   "id": "4ea421d3",
   "metadata": {},
   "outputs": [
    {
     "data": {
      "text/plain": [
       "[11, 2, 3, 4, 5, 6]"
      ]
     },
     "execution_count": 17,
     "metadata": {},
     "output_type": "execute_result"
    }
   ],
   "source": [
    "#### List of number after the append - numbers"
   ]
  },
  {
   "cell_type": "markdown",
   "id": "520fff30",
   "metadata": {},
   "source": [
    "* To check the type of the list"
   ]
  },
  {
   "cell_type": "code",
   "execution_count": 18,
   "id": "8f5099c8",
   "metadata": {},
   "outputs": [
    {
     "data": {
      "text/plain": [
       "list"
      ]
     },
     "execution_count": 18,
     "metadata": {},
     "output_type": "execute_result"
    }
   ],
   "source": [
    "#### Check type of list \n",
    "type(numbers)"
   ]
  },
  {
   "cell_type": "markdown",
   "id": "53d2dd39",
   "metadata": {},
   "source": [
    "* Elements of list is heterogenous"
   ]
  },
  {
   "cell_type": "code",
   "execution_count": 19,
   "id": "695d7e8d",
   "metadata": {},
   "outputs": [
    {
     "data": {
      "text/plain": [
       "['Apple', 'Banana', 23, 24, 25, 26]"
      ]
     },
     "execution_count": 19,
     "metadata": {},
     "output_type": "execute_result"
    }
   ],
   "source": [
    "#### Different types of values an be appended to a list\n",
    "listValues = ['Apple','Banana',23,24,25,26]\n",
    "listValues"
   ]
  },
  {
   "cell_type": "markdown",
   "id": "2e617b1a",
   "metadata": {},
   "source": [
    "* Append elements to a list using append()"
   ]
  },
  {
   "cell_type": "code",
   "execution_count": 20,
   "id": "49619c7c",
   "metadata": {},
   "outputs": [],
   "source": [
    "#### List can also be appended with 'Mango' at the list\n",
    "listValues.append('Mango')"
   ]
  },
  {
   "cell_type": "code",
   "execution_count": 21,
   "id": "e0fade9f",
   "metadata": {},
   "outputs": [],
   "source": [
    "#### list value can also be appended with [33,45,56]\n",
    "listValues.append([33,45,56])"
   ]
  },
  {
   "cell_type": "code",
   "execution_count": 22,
   "id": "ceb058df",
   "metadata": {},
   "outputs": [
    {
     "data": {
      "text/plain": [
       "['Apple', 'Banana', 23, 24, 25, 26, 'Mango', [33, 45, 56]]"
      ]
     },
     "execution_count": 22,
     "metadata": {},
     "output_type": "execute_result"
    }
   ],
   "source": [
    "listValues"
   ]
  },
  {
   "cell_type": "markdown",
   "id": "90290cd8",
   "metadata": {},
   "source": [
    "* Create list using the timing values - ['1:30','2:30','3:30','4:30','5:30','6:30','7:30']"
   ]
  },
  {
   "cell_type": "code",
   "execution_count": 30,
   "id": "26e0438f",
   "metadata": {},
   "outputs": [
    {
     "data": {
      "text/plain": [
       "['1:30', '2:30', '3:30']"
      ]
     },
     "execution_count": 30,
     "metadata": {},
     "output_type": "execute_result"
    }
   ],
   "source": [
    "### timings values are like this - timings = ['1:30','2:30','3:30','4:30','5:30','6:30','7:30']\n",
    "timings = ['1:30','2:30','3:30','4:30','5:30','6:30','7:30']\n",
    "timings[0:3]"
   ]
  },
  {
   "cell_type": "code",
   "execution_count": 31,
   "id": "08b2790f",
   "metadata": {},
   "outputs": [
    {
     "data": {
      "text/plain": [
       "['3:30', '4:30', '5:30']"
      ]
     },
     "execution_count": 31,
     "metadata": {},
     "output_type": "execute_result"
    }
   ],
   "source": [
    "## Slice the list value from 2:5 \n",
    "timings[2:5]"
   ]
  },
  {
   "cell_type": "code",
   "execution_count": 32,
   "id": "5bab030d",
   "metadata": {},
   "outputs": [
    {
     "data": {
      "text/plain": [
       "['5:30', '6:30', '7:30']"
      ]
     },
     "execution_count": 32,
     "metadata": {},
     "output_type": "execute_result"
    }
   ],
   "source": [
    "## Slice the list value from 4:\n",
    "timings[4:]"
   ]
  },
  {
   "cell_type": "markdown",
   "id": "844edd22",
   "metadata": {},
   "source": [
    "* reverse() a list"
   ]
  },
  {
   "cell_type": "code",
   "execution_count": 33,
   "id": "c022d9a5",
   "metadata": {},
   "outputs": [
    {
     "data": {
      "text/plain": [
       "['7:30', '6:30', '5:30', '4:30', '3:30', '2:30', '1:30']"
      ]
     },
     "execution_count": 33,
     "metadata": {},
     "output_type": "execute_result"
    }
   ],
   "source": [
    "### To find the reverse of the list - list[::-1]\n",
    "timings[::-1]"
   ]
  },
  {
   "cell_type": "code",
   "execution_count": 46,
   "id": "34dde273",
   "metadata": {},
   "outputs": [
    {
     "data": {
      "text/plain": [
       "['1:30', '2:30', '3:30', '4:30', '5:30', '6:30', '7:30']"
      ]
     },
     "execution_count": 46,
     "metadata": {},
     "output_type": "execute_result"
    }
   ],
   "source": [
    "### Alternatively to reverse the list- use the timings.reverse()\n",
    "timings.reverse()\n",
    "timings"
   ]
  },
  {
   "cell_type": "markdown",
   "id": "000c999c",
   "metadata": {},
   "source": [
    "* index of a value in the list"
   ]
  },
  {
   "cell_type": "code",
   "execution_count": 47,
   "id": "b8e1c762",
   "metadata": {},
   "outputs": [
    {
     "data": {
      "text/plain": [
       "1"
      ]
     },
     "execution_count": 47,
     "metadata": {},
     "output_type": "execute_result"
    }
   ],
   "source": [
    "#### To get the index of the given element - timings.index('2:30')\n",
    "timings.index('2:30')"
   ]
  },
  {
   "cell_type": "markdown",
   "id": "2c39dc25",
   "metadata": {},
   "source": [
    "* insert an element at a particular index"
   ]
  },
  {
   "cell_type": "code",
   "execution_count": 49,
   "id": "1145ff67",
   "metadata": {},
   "outputs": [],
   "source": [
    "### Insert the value 8 at the index 2 - timings.insert(2,8)\n"
   ]
  },
  {
   "cell_type": "code",
   "execution_count": 50,
   "id": "9b779865",
   "metadata": {},
   "outputs": [
    {
     "data": {
      "text/plain": [
       "['1:30', '2:30', 8, '3:30', '4:30', '5:30', '6:30', '7:30']"
      ]
     },
     "execution_count": 50,
     "metadata": {},
     "output_type": "execute_result"
    }
   ],
   "source": []
  },
  {
   "cell_type": "markdown",
   "id": "4a95db7a",
   "metadata": {},
   "source": [
    "* remove a value from the list"
   ]
  },
  {
   "cell_type": "code",
   "execution_count": 51,
   "id": "35129559",
   "metadata": {},
   "outputs": [
    {
     "data": {
      "text/plain": [
       "['1:30', '2:30', '3:30', '4:30', '5:30', '6:30', '7:30']"
      ]
     },
     "execution_count": 51,
     "metadata": {},
     "output_type": "execute_result"
    }
   ],
   "source": [
    "### To remove an element from the list we can do this - timings\n",
    "timings.remove(8)\n",
    "timings"
   ]
  },
  {
   "cell_type": "markdown",
   "id": "50ef57be",
   "metadata": {},
   "source": [
    "* pop an element from the list"
   ]
  },
  {
   "cell_type": "code",
   "execution_count": 52,
   "id": "bb252307",
   "metadata": {},
   "outputs": [
    {
     "data": {
      "text/plain": [
       "'7:30'"
      ]
     },
     "execution_count": 52,
     "metadata": {},
     "output_type": "execute_result"
    }
   ],
   "source": [
    "### to remove the top most element from the list - timings - timings.pop()\n",
    "timings.pop()"
   ]
  },
  {
   "cell_type": "markdown",
   "id": "8e52d88e",
   "metadata": {},
   "source": [
    "* sort() an element from the list"
   ]
  },
  {
   "cell_type": "code",
   "execution_count": 56,
   "id": "83bd09a9",
   "metadata": {},
   "outputs": [],
   "source": [
    "### using the sort() list can be sorted - timings.sort()\n",
    "timings.sort()"
   ]
  },
  {
   "cell_type": "code",
   "execution_count": 57,
   "id": "7b85b9fc",
   "metadata": {},
   "outputs": [
    {
     "data": {
      "text/plain": [
       "['1:30', '2:30', '3:30', '4:30', '5:30', '6:30']"
      ]
     },
     "execution_count": 57,
     "metadata": {},
     "output_type": "execute_result"
    }
   ],
   "source": [
    "timings"
   ]
  },
  {
   "cell_type": "markdown",
   "id": "5bd9654b",
   "metadata": {},
   "source": [
    "* extend an element from the list"
   ]
  },
  {
   "cell_type": "code",
   "execution_count": 58,
   "id": "580e23a8",
   "metadata": {},
   "outputs": [],
   "source": [
    "## Extend the list by adding the elements - Elements shall be appended at the end of the list\n",
    "## extend - ['7:30','8:30','9:30']\n",
    "timings.extend(['7:30','8:30','9:30'])"
   ]
  },
  {
   "cell_type": "code",
   "execution_count": 59,
   "id": "63310d21",
   "metadata": {},
   "outputs": [
    {
     "data": {
      "text/plain": [
       "['1:30', '2:30', '3:30', '4:30', '5:30', '6:30', '7:30', '8:30', '9:30']"
      ]
     },
     "execution_count": 59,
     "metadata": {},
     "output_type": "execute_result"
    }
   ],
   "source": [
    "timings"
   ]
  },
  {
   "cell_type": "markdown",
   "id": "2fda8118",
   "metadata": {},
   "source": [
    "* Iterate a list"
   ]
  },
  {
   "cell_type": "code",
   "execution_count": 61,
   "id": "4c4817fd",
   "metadata": {},
   "outputs": [
    {
     "name": "stdout",
     "output_type": "stream",
     "text": [
      "The time now is 1:30\n",
      "The time now is 2:30\n",
      "The time now is 3:30\n",
      "The time now is 4:30\n",
      "The time now is 5:30\n",
      "The time now is 6:30\n",
      "The time now is 7:30\n",
      "The time now is 8:30\n",
      "The time now is 9:30\n"
     ]
    }
   ],
   "source": [
    "for timing in timings:\n",
    "    print(\"The time now is {}\".format(timing))"
   ]
  },
  {
   "cell_type": "markdown",
   "id": "3a460dc4",
   "metadata": {},
   "source": [
    "* sum of elements in a list"
   ]
  },
  {
   "cell_type": "code",
   "execution_count": 3,
   "id": "99b56747",
   "metadata": {
    "scrolled": true
   },
   "outputs": [
    {
     "name": "stdout",
     "output_type": "stream",
     "text": [
      "Sum of the list of elements 91\n",
      "[10, 11, 12, 13, 14, 15, 16]\n"
     ]
    }
   ],
   "source": [
    "### Lets build a list using 10,11,12,13,14,15,16 - The sum of all the elements in the list can be computed\n",
    "### in two ways  - sum(intList) or using for loops\n",
    "\n",
    "print('Sum of the list of elements',sum(intList))\n",
    "print(intList)"
   ]
  },
  {
   "cell_type": "markdown",
   "id": "94520ee9",
   "metadata": {},
   "source": [
    "* sum of the elements using for loops"
   ]
  },
  {
   "cell_type": "code",
   "execution_count": 4,
   "id": "7dfd0ac3",
   "metadata": {},
   "outputs": [
    {
     "name": "stdout",
     "output_type": "stream",
     "text": [
      "91\n"
     ]
    }
   ],
   "source": [
    "intList = 10,11,12,13,14,15,16\n",
    "slist = 0\n",
    "for i in intList:\n",
    "    slist += i\n",
    "print(slist)    "
   ]
  },
  {
   "cell_type": "markdown",
   "id": "85ddf2f1",
   "metadata": {},
   "source": [
    "* for comprehensions"
   ]
  },
  {
   "cell_type": "markdown",
   "id": "54a9ef5a",
   "metadata": {},
   "source": [
    "For comprehension is a simple way of returning the value based on certain input"
   ]
  },
  {
   "cell_type": "code",
   "execution_count": 62,
   "id": "c031d34f",
   "metadata": {},
   "outputs": [],
   "source": [
    "## Based on the range object lets find the square of each number\n",
    "y = [x**2 for x in range(5)]"
   ]
  },
  {
   "cell_type": "code",
   "execution_count": 63,
   "id": "1ae2645b",
   "metadata": {},
   "outputs": [
    {
     "data": {
      "text/plain": [
       "[0, 1, 4, 9, 16]"
      ]
     },
     "execution_count": 63,
     "metadata": {},
     "output_type": "execute_result"
    }
   ],
   "source": [
    "y"
   ]
  },
  {
   "cell_type": "code",
   "execution_count": 65,
   "id": "7d52867b",
   "metadata": {},
   "outputs": [
    {
     "name": "stdout",
     "output_type": "stream",
     "text": [
      "[0, 4, 16, 36, 64]\n"
     ]
    }
   ],
   "source": [
    "## We can also include condition within the for comrephension\n",
    "y = [x**2 for x in range(10) if x%2 == 0 ]\n",
    "print(y)"
   ]
  },
  {
   "cell_type": "code",
   "execution_count": 66,
   "id": "e59f64de",
   "metadata": {},
   "outputs": [],
   "source": [
    "### return if only list contains letters starting with s\n",
    "names = ['sunday','super','semi-conductor','non-conductor','mango','apple']\n",
    "y = [x for x in names if x.startswith('s')]"
   ]
  },
  {
   "cell_type": "code",
   "execution_count": 67,
   "id": "d536c17e",
   "metadata": {},
   "outputs": [
    {
     "data": {
      "text/plain": [
       "['sunday', 'super', 'semi-conductor']"
      ]
     },
     "execution_count": 67,
     "metadata": {},
     "output_type": "execute_result"
    }
   ],
   "source": [
    "y"
   ]
  },
  {
   "cell_type": "markdown",
   "id": "9df84a29",
   "metadata": {},
   "source": [
    "\n",
    "#### Tuples\n",
    " - Tuples are immutable objects that can be represented in ()\n",
    " - Tuples can be accessed using indices\n",
    " - Tuples are created by passing vlues to ()"
   ]
  },
  {
   "cell_type": "code",
   "execution_count": 76,
   "id": "b6d47c5e",
   "metadata": {},
   "outputs": [
    {
     "data": {
      "text/plain": [
       "'Mango'"
      ]
     },
     "execution_count": 76,
     "metadata": {},
     "output_type": "execute_result"
    }
   ],
   "source": [
    "tup1 = (25,'Mango','Rajesh',40,25,24,25)\n",
    "tup1[1]"
   ]
  },
  {
   "cell_type": "code",
   "execution_count": 77,
   "id": "9144803e",
   "metadata": {},
   "outputs": [
    {
     "data": {
      "text/plain": [
       "40"
      ]
     },
     "execution_count": 77,
     "metadata": {},
     "output_type": "execute_result"
    }
   ],
   "source": [
    "tup1[3]"
   ]
  },
  {
   "cell_type": "code",
   "execution_count": 78,
   "id": "7777c0c5",
   "metadata": {},
   "outputs": [
    {
     "name": "stdout",
     "output_type": "stream",
     "text": [
      "25\n",
      "Mango\n",
      "Rajesh\n",
      "40\n",
      "25\n",
      "24\n",
      "25\n"
     ]
    }
   ],
   "source": [
    "### Tuples can be iterated over using for loop \n",
    "for x in tup1:\n",
    "    print(x)"
   ]
  },
  {
   "cell_type": "code",
   "execution_count": 75,
   "id": "59992e94",
   "metadata": {},
   "outputs": [
    {
     "ename": "TypeError",
     "evalue": "'tuple' object does not support item assignment",
     "output_type": "error",
     "traceback": [
      "\u001b[1;31m---------------------------------------------------------------------------\u001b[0m",
      "\u001b[1;31mTypeError\u001b[0m                                 Traceback (most recent call last)",
      "Cell \u001b[1;32mIn[75], line 2\u001b[0m\n\u001b[0;32m      1\u001b[0m \u001b[38;5;66;03m## Assigning a value to tuple shows error - tuple object does not support assignment\u001b[39;00m\n\u001b[1;32m----> 2\u001b[0m tup1[\u001b[38;5;241m0\u001b[39m] \u001b[38;5;241m=\u001b[39m \u001b[38;5;241m35\u001b[39m\n",
      "\u001b[1;31mTypeError\u001b[0m: 'tuple' object does not support item assignment"
     ]
    }
   ],
   "source": [
    "## Assigning a value to tuple shows error - tuple object does not support assignment\n",
    "tup1[0] = 35"
   ]
  },
  {
   "cell_type": "code",
   "execution_count": 79,
   "id": "28f8f213",
   "metadata": {},
   "outputs": [
    {
     "data": {
      "text/plain": [
       "3"
      ]
     },
     "execution_count": 79,
     "metadata": {},
     "output_type": "execute_result"
    }
   ],
   "source": [
    "## Count function gives the count of the element in the tuple\n",
    "tup1.count(25)"
   ]
  },
  {
   "cell_type": "code",
   "execution_count": 68,
   "id": "a48537f9",
   "metadata": {},
   "outputs": [
    {
     "name": "stdout",
     "output_type": "stream",
     "text": [
      "[(2, 2), (2, 5), (2, 6), (3, 2), (3, 5), (3, 6), (4, 2), (4, 5), (4, 6)]\n"
     ]
    }
   ],
   "source": [
    "### Exercise - There are two list [2,3,4] and [2,5,6] -Get a combination (x,y) \n",
    "## x is the element from first list, \n",
    "## y is the element from second list - Get combinations (x,y) such that x is not equal to y\n",
    "\n",
    "x = [2,3,4]\n",
    "y = [2,5,6]\n",
    "output = [(a,b) for a in x for b in y if x!=y]\n",
    "print(output)"
   ]
  },
  {
   "cell_type": "markdown",
   "id": "c2f5ba84",
   "metadata": {},
   "source": [
    "* **Sets in Python**\n",
    "  - Sets contain unique elements  \n",
    "  - Sets are unordered sequence of elements\n",
    "  - They are represented using the {} (curly braces)"
   ]
  },
  {
   "cell_type": "code",
   "execution_count": 80,
   "id": "ad0088d6",
   "metadata": {},
   "outputs": [
    {
     "data": {
      "text/plain": [
       "{'Kiran', 'Mahesh', 'Ravi', 'Suraj', 'Surya'}"
      ]
     },
     "execution_count": 80,
     "metadata": {},
     "output_type": "execute_result"
    }
   ],
   "source": [
    "elements = {'Mahesh','Mahesh','Suraj','Ravi','Kiran','Surya'}\n",
    "elements"
   ]
  },
  {
   "cell_type": "code",
   "execution_count": 6,
   "id": "117c1379",
   "metadata": {},
   "outputs": [
    {
     "data": {
      "text/plain": [
       "{'Kiran', 'Mahesh', 'Ravi', 'Suraj', 'Surya'}"
      ]
     },
     "execution_count": 6,
     "metadata": {},
     "output_type": "execute_result"
    }
   ],
   "source": [
    "#### Sets can be constructed using the following set keyword and passing a list to it\n",
    "eles = set(['Mahesh','Mahesh','Suraj','Ravi','Kiran','Surya'])\n",
    "eles"
   ]
  },
  {
   "cell_type": "markdown",
   "id": "188ae339",
   "metadata": {},
   "source": [
    "* Iteration over sets in python"
   ]
  },
  {
   "cell_type": "code",
   "execution_count": 83,
   "id": "de5db238",
   "metadata": {},
   "outputs": [
    {
     "data": {
      "text/plain": [
       "{'Kiran', 'Mahesh', 'Ravi', 'Suraj', 'Surya'}"
      ]
     },
     "execution_count": 83,
     "metadata": {},
     "output_type": "execute_result"
    }
   ],
   "source": [
    "elements"
   ]
  },
  {
   "cell_type": "code",
   "execution_count": 84,
   "id": "78dbe455",
   "metadata": {},
   "outputs": [
    {
     "name": "stdout",
     "output_type": "stream",
     "text": [
      "Suraj\n",
      "Surya\n",
      "Ravi\n",
      "Mahesh\n",
      "Kiran\n"
     ]
    }
   ],
   "source": [
    "for x in elements:\n",
    "    print(x)"
   ]
  },
  {
   "cell_type": "code",
   "execution_count": 86,
   "id": "18e0583a",
   "metadata": {},
   "outputs": [
    {
     "data": {
      "text/plain": [
       "5"
      ]
     },
     "execution_count": 86,
     "metadata": {},
     "output_type": "execute_result"
    }
   ],
   "source": [
    "## The set elements are given below - We can represent the data as els = {'Mahesh','Mahesh','Suraj','Ravi','Kiran','Surya'}\n",
    "els = {'Mahesh','Mahesh','Suraj','Ravi','Kiran','Surya'}\n",
    "len(els)"
   ]
  },
  {
   "cell_type": "markdown",
   "id": "51f0dd67",
   "metadata": {},
   "source": [
    "* Adding elements to set"
   ]
  },
  {
   "cell_type": "code",
   "execution_count": 87,
   "id": "78a66a25",
   "metadata": {},
   "outputs": [],
   "source": [
    "### Add the following element to the set elements 'Mitra' using add function\n",
    "els.add('Mitra')"
   ]
  },
  {
   "cell_type": "code",
   "execution_count": 88,
   "id": "7f6fc1d4",
   "metadata": {},
   "outputs": [
    {
     "data": {
      "text/plain": [
       "{'Kiran', 'Mahesh', 'Mitra', 'Ravi', 'Suraj', 'Surya'}"
      ]
     },
     "execution_count": 88,
     "metadata": {},
     "output_type": "execute_result"
    }
   ],
   "source": [
    "els"
   ]
  },
  {
   "cell_type": "code",
   "execution_count": 91,
   "id": "53683c68",
   "metadata": {},
   "outputs": [],
   "source": [
    "## Lets create one more set els2 = els2 = {'kiran','Mahesh', 'Mitra'}\n",
    "els2 = {'kiran','Mahesh', 'Mitra'}\n"
   ]
  },
  {
   "cell_type": "markdown",
   "id": "82f4a2c7",
   "metadata": {},
   "source": [
    "* seta.difference(setb) - Difference gives the elements that are in seta"
   ]
  },
  {
   "cell_type": "code",
   "execution_count": 93,
   "id": "8a607137",
   "metadata": {},
   "outputs": [
    {
     "data": {
      "text/plain": [
       "{'Kiran', 'Ravi', 'Suraj', 'Surya'}"
      ]
     },
     "execution_count": 93,
     "metadata": {},
     "output_type": "execute_result"
    }
   ],
   "source": [
    "els.difference(els2)"
   ]
  },
  {
   "cell_type": "markdown",
   "id": "4615eb13",
   "metadata": {},
   "source": [
    "* difference_update() - Removes the elements from the other set"
   ]
  },
  {
   "cell_type": "code",
   "execution_count": 98,
   "id": "ce5e11d9",
   "metadata": {},
   "outputs": [],
   "source": [
    "els.difference_update(els2)"
   ]
  },
  {
   "cell_type": "code",
   "execution_count": 99,
   "id": "89de520a",
   "metadata": {},
   "outputs": [
    {
     "data": {
      "text/plain": [
       "{'Kiran', 'Ravi', 'Suraj', 'Surya'}"
      ]
     },
     "execution_count": 99,
     "metadata": {},
     "output_type": "execute_result"
    }
   ],
   "source": [
    "els"
   ]
  },
  {
   "cell_type": "code",
   "execution_count": 100,
   "id": "06ad7291",
   "metadata": {},
   "outputs": [
    {
     "data": {
      "text/plain": [
       "{'Mahesh', 'Mitra', 'kiran'}"
      ]
     },
     "execution_count": 100,
     "metadata": {},
     "output_type": "execute_result"
    }
   ],
   "source": [
    "els2"
   ]
  },
  {
   "cell_type": "code",
   "execution_count": 101,
   "id": "74eb9dcf",
   "metadata": {},
   "outputs": [
    {
     "data": {
      "text/plain": [
       "5"
      ]
     },
     "execution_count": 101,
     "metadata": {},
     "output_type": "execute_result"
    }
   ],
   "source": [
    "## Create the set and try to perform union on els and els2\n",
    "els = {'Mahesh','Mahesh','Suraj','Ravi','Kiran','Surya'}\n",
    "len(els)"
   ]
  },
  {
   "cell_type": "markdown",
   "id": "78981837",
   "metadata": {},
   "source": [
    "* union combines both the sets with unique elements"
   ]
  },
  {
   "cell_type": "code",
   "execution_count": 103,
   "id": "da2a1d9c",
   "metadata": {},
   "outputs": [
    {
     "data": {
      "text/plain": [
       "{'Kiran', 'Mahesh', 'Mitra', 'Ravi', 'Suraj', 'Surya', 'kiran'}"
      ]
     },
     "execution_count": 103,
     "metadata": {},
     "output_type": "execute_result"
    }
   ],
   "source": [
    "els.union(els2)"
   ]
  },
  {
   "cell_type": "markdown",
   "id": "368dbb95",
   "metadata": {},
   "source": [
    "* intersection provides the common elements between the sets"
   ]
  },
  {
   "cell_type": "code",
   "execution_count": 105,
   "id": "d9d89beb",
   "metadata": {
    "scrolled": true
   },
   "outputs": [
    {
     "data": {
      "text/plain": [
       "{'Mahesh'}"
      ]
     },
     "execution_count": 105,
     "metadata": {},
     "output_type": "execute_result"
    }
   ],
   "source": [
    "els.intersection(els2)"
   ]
  },
  {
   "cell_type": "code",
   "execution_count": 106,
   "id": "de4079ff",
   "metadata": {},
   "outputs": [
    {
     "name": "stdout",
     "output_type": "stream",
     "text": [
      "{'Suraj', 'Surya', 'Ravi', 'Mahesh', 'Kiran'}\n",
      "{'Mitra', 'Mahesh', 'kiran'}\n"
     ]
    }
   ],
   "source": [
    "print(els)\n",
    "print(els2)"
   ]
  },
  {
   "cell_type": "markdown",
   "id": "3c2d4c05",
   "metadata": {},
   "source": [
    "* Symmetric difference gives the elements that are not common as one single set."
   ]
  },
  {
   "cell_type": "code",
   "execution_count": 108,
   "id": "16e072c2",
   "metadata": {
    "scrolled": true
   },
   "outputs": [
    {
     "data": {
      "text/plain": [
       "{'Kiran', 'Mitra', 'Ravi', 'Suraj', 'Surya', 'kiran'}"
      ]
     },
     "execution_count": 108,
     "metadata": {},
     "output_type": "execute_result"
    }
   ],
   "source": [
    "## els.symmetric_difference(els2) gives the common elements between both the sets.\n",
    "els.symmetric_difference(els2)"
   ]
  },
  {
   "cell_type": "markdown",
   "id": "fcfbdb5a",
   "metadata": {},
   "source": [
    "* Comprehension for set - Similar to for comprehension for Set\n",
    "    - return type is Set when set comprehension is perfromed"
   ]
  },
  {
   "cell_type": "code",
   "execution_count": 8,
   "id": "3dfecec0",
   "metadata": {},
   "outputs": [
    {
     "data": {
      "text/plain": [
       "{'Kiran', 'Mahesh', 'Ravi', 'Suraj', 'Surya'}"
      ]
     },
     "execution_count": 8,
     "metadata": {},
     "output_type": "execute_result"
    }
   ],
   "source": [
    "listVal = {'Mahesh','Mahesh','Suraj','Ravi','Kiran','Surya'}\n",
    "uniEle = {x for x in listVal}\n",
    "uniEle"
   ]
  },
  {
   "cell_type": "markdown",
   "id": "b9ad3017",
   "metadata": {},
   "source": [
    "* **Dictionary in Python** - Dictionaries in Python are basically key,value pairs. \n",
    "    - In a dictionary, key can be any unique object\n",
    "    - Keys are unique and non-duplicated\n",
    "    - Values can be duplicated\n",
    "    - Dictionaries can be constructed using the dict() or {:} "
   ]
  },
  {
   "cell_type": "markdown",
   "id": "e4743973",
   "metadata": {},
   "source": [
    "* Create Dictionary using the dict() keyword"
   ]
  },
  {
   "cell_type": "code",
   "execution_count": 13,
   "id": "ea5fac46",
   "metadata": {},
   "outputs": [
    {
     "data": {
      "text/plain": [
       "{101: 'Suraj',\n",
       " 102: 'Mahesh',\n",
       " 103: 'Surya',\n",
       " 104: 'Ravi',\n",
       " 105: 'Kiran',\n",
       " 106: 'Mitra'}"
      ]
     },
     "execution_count": 13,
     "metadata": {},
     "output_type": "execute_result"
    }
   ],
   "source": [
    "idName = dict()\n",
    "idName[101] = 'Suraj'\n",
    "idName[102] = 'Mahesh'\n",
    "idName[103] = 'Surya'\n",
    "idName[104] = 'Ravi'\n",
    "idName[105] = 'Kiran'\n",
    "idName[106] = 'Mitra'\n",
    "idName"
   ]
  },
  {
   "cell_type": "code",
   "execution_count": 37,
   "id": "607847be",
   "metadata": {},
   "outputs": [
    {
     "data": {
      "text/plain": [
       "{101: 'Suraj',\n",
       " 102: 'Mahesh',\n",
       " 103: 'Surya',\n",
       " 104: 'Ravi',\n",
       " 105: 'Kiran',\n",
       " 106: 'Mitra'}"
      ]
     },
     "execution_count": 37,
     "metadata": {},
     "output_type": "execute_result"
    }
   ],
   "source": [
    "### Another way of creating the dictionary is the following\n",
    "idName = {101: 'Suraj',102: 'Mahesh',103: 'Surya', 104: 'Ravi', 105: 'Kiran', 106: 'Mitra'}\n",
    "idName"
   ]
  },
  {
   "cell_type": "markdown",
   "id": "ea86c4c3",
   "metadata": {},
   "source": [
    "* Retrieve the value of dictionary using key"
   ]
  },
  {
   "cell_type": "code",
   "execution_count": 17,
   "id": "9bcbf09e",
   "metadata": {},
   "outputs": [],
   "source": [
    "### The dictionary name and the id can be passed to get the value - idName[101]"
   ]
  },
  {
   "cell_type": "markdown",
   "id": "d30d5d2c",
   "metadata": {},
   "source": [
    "* Check if the key is in the dictionary"
   ]
  },
  {
   "cell_type": "code",
   "execution_count": 21,
   "id": "c3884031",
   "metadata": {},
   "outputs": [
    {
     "data": {
      "text/plain": [
       "True"
      ]
     },
     "execution_count": 21,
     "metadata": {},
     "output_type": "execute_result"
    }
   ],
   "source": [
    "### Check if a particular key is available in the dictionary - 101 in idName\n",
    "101 in idName"
   ]
  },
  {
   "cell_type": "code",
   "execution_count": 24,
   "id": "0ec342d0",
   "metadata": {},
   "outputs": [
    {
     "name": "stdout",
     "output_type": "stream",
     "text": [
      "True\n",
      "False\n"
     ]
    }
   ],
   "source": [
    "### CHeck if a particular key is not available in the dictionary - 109 not in idName\n",
    "print(109 not in idName)\n",
    "print(110 in idName)"
   ]
  },
  {
   "cell_type": "markdown",
   "id": "41359bf0",
   "metadata": {},
   "source": [
    "* iterate over the dictionary using keys()"
   ]
  },
  {
   "cell_type": "code",
   "execution_count": 34,
   "id": "ee64413c",
   "metadata": {},
   "outputs": [
    {
     "name": "stdout",
     "output_type": "stream",
     "text": [
      "Key is 101\n",
      "Key is 102\n",
      "Key is 103\n",
      "Key is 104\n",
      "Key is 105\n",
      "Key is 106\n"
     ]
    }
   ],
   "source": [
    "### We can iterate over the dictionary using the keys() function on the dictionary.\n",
    "for k in idName.keys():\n",
    "    print(f'Key is {k}')"
   ]
  },
  {
   "cell_type": "markdown",
   "id": "dc0e4695",
   "metadata": {},
   "source": [
    "* Values for the dictionary using values()"
   ]
  },
  {
   "cell_type": "code",
   "execution_count": 36,
   "id": "b3dafc86",
   "metadata": {},
   "outputs": [
    {
     "name": "stdout",
     "output_type": "stream",
     "text": [
      "value is Suraj\n",
      "value is Mahesh\n",
      "value is Surya\n",
      "value is Ravi\n",
      "value is Kiran\n",
      "value is Mitra\n"
     ]
    }
   ],
   "source": [
    "for v in idName.values():\n",
    "    print(f'value is {v}')"
   ]
  },
  {
   "cell_type": "markdown",
   "id": "04aff8e2",
   "metadata": {},
   "source": [
    "* iterate over a dictionary using items()"
   ]
  },
  {
   "cell_type": "code",
   "execution_count": 33,
   "id": "b64adf40",
   "metadata": {},
   "outputs": [
    {
     "name": "stdout",
     "output_type": "stream",
     "text": [
      "Id is 101, Name is Suraj\n",
      "Id is 102, Name is Mahesh\n",
      "Id is 103, Name is Surya\n",
      "Id is 104, Name is Ravi\n",
      "Id is 105, Name is Kiran\n",
      "Id is 106, Name is Mitra\n"
     ]
    }
   ],
   "source": [
    "for key,value in idName.items():\n",
    "    print(f'Id is {key}, Name is {value}')"
   ]
  },
  {
   "cell_type": "markdown",
   "id": "2392e7c9",
   "metadata": {},
   "source": [
    "* Iterate over a dictionary using the dictionary object "
   ]
  },
  {
   "cell_type": "code",
   "execution_count": 39,
   "id": "cd4dc9f6",
   "metadata": {},
   "outputs": [
    {
     "name": "stdout",
     "output_type": "stream",
     "text": [
      "101\n",
      "102\n",
      "103\n",
      "104\n",
      "105\n",
      "106\n"
     ]
    }
   ],
   "source": [
    "### Using the dictionary object only the dictionary is used\n",
    "for keyVal in idName:\n",
    "    print(keyVal)"
   ]
  },
  {
   "cell_type": "markdown",
   "id": "09ca101d",
   "metadata": {},
   "source": [
    "* Delete a key in the dictionary using the del keyword"
   ]
  },
  {
   "cell_type": "code",
   "execution_count": 40,
   "id": "331e7f30",
   "metadata": {},
   "outputs": [],
   "source": [
    "## Delete the key value pair using the idName[key]\n",
    "del idName[101]"
   ]
  },
  {
   "cell_type": "code",
   "execution_count": 41,
   "id": "3b5c48b5",
   "metadata": {},
   "outputs": [
    {
     "data": {
      "text/plain": [
       "{102: 'Mahesh', 103: 'Surya', 104: 'Ravi', 105: 'Kiran', 106: 'Mitra'}"
      ]
     },
     "execution_count": 41,
     "metadata": {},
     "output_type": "execute_result"
    }
   ],
   "source": [
    "idName"
   ]
  },
  {
   "cell_type": "markdown",
   "id": "f82c53db",
   "metadata": {},
   "source": [
    "* To get a value from the dictionar using the get() function or the []"
   ]
  },
  {
   "cell_type": "code",
   "execution_count": 42,
   "id": "96dd336c",
   "metadata": {},
   "outputs": [
    {
     "data": {
      "text/plain": [
       "'Mahesh'"
      ]
     },
     "execution_count": 42,
     "metadata": {},
     "output_type": "execute_result"
    }
   ],
   "source": [
    "idName[102]"
   ]
  },
  {
   "cell_type": "code",
   "execution_count": 43,
   "id": "4378f389",
   "metadata": {},
   "outputs": [
    {
     "data": {
      "text/plain": [
       "'Mahesh'"
      ]
     },
     "execution_count": 43,
     "metadata": {},
     "output_type": "execute_result"
    }
   ],
   "source": [
    "idName.get(102)"
   ]
  },
  {
   "cell_type": "markdown",
   "id": "8bd8fb2f",
   "metadata": {},
   "source": [
    "* If the key is not in the dictionary using the get() method we can use the default value"
   ]
  },
  {
   "cell_type": "code",
   "execution_count": 49,
   "id": "f7aee52b",
   "metadata": {},
   "outputs": [
    {
     "ename": "KeyError",
     "evalue": "109",
     "output_type": "error",
     "traceback": [
      "\u001b[1;31m---------------------------------------------------------------------------\u001b[0m",
      "\u001b[1;31mKeyError\u001b[0m                                  Traceback (most recent call last)",
      "Cell \u001b[1;32mIn[49], line 2\u001b[0m\n\u001b[0;32m      1\u001b[0m \u001b[38;5;66;03m### Lets say we dont have the key/value pair in the dictionary\u001b[39;00m\n\u001b[1;32m----> 2\u001b[0m \u001b[43midName\u001b[49m\u001b[43m[\u001b[49m\u001b[38;5;241;43m109\u001b[39;49m\u001b[43m]\u001b[49m\n",
      "\u001b[1;31mKeyError\u001b[0m: 109"
     ]
    }
   ],
   "source": [
    "### Lets say we dont have the key/value pair in the dictionary it returns a key erro\n",
    "idName[109]"
   ]
  },
  {
   "cell_type": "code",
   "execution_count": 51,
   "id": "3426f2e2",
   "metadata": {},
   "outputs": [
    {
     "data": {
      "text/plain": [
       "'Mahesh'"
      ]
     },
     "execution_count": 51,
     "metadata": {},
     "output_type": "execute_result"
    }
   ],
   "source": [
    "# If the key is available then it returns the value\n",
    "idName.get(102,\"Value is Not there\")"
   ]
  },
  {
   "cell_type": "code",
   "execution_count": 46,
   "id": "b7034835",
   "metadata": {
    "scrolled": true
   },
   "outputs": [
    {
     "data": {
      "text/plain": [
       "'Key/Value is Not there'"
      ]
     },
     "execution_count": 46,
     "metadata": {},
     "output_type": "execute_result"
    }
   ],
   "source": [
    "idName.get(109,\"Key/Value is Not there\")"
   ]
  },
  {
   "cell_type": "code",
   "execution_count": 55,
   "id": "d48e20b0",
   "metadata": {},
   "outputs": [],
   "source": [
    "### To get the keys in the reversed order we can use reversed on the dictionary"
   ]
  },
  {
   "cell_type": "code",
   "execution_count": 54,
   "id": "947e1d3e",
   "metadata": {},
   "outputs": [
    {
     "name": "stdout",
     "output_type": "stream",
     "text": [
      "106\n",
      "105\n",
      "104\n",
      "103\n",
      "102\n"
     ]
    }
   ],
   "source": [
    "for i in reversed(idName):\n",
    "    print(i)"
   ]
  },
  {
   "cell_type": "code",
   "execution_count": 58,
   "id": "57591e16",
   "metadata": {},
   "outputs": [
    {
     "data": {
      "text/plain": [
       "[102, 103, 104, 105, 106]"
      ]
     },
     "execution_count": 58,
     "metadata": {},
     "output_type": "execute_result"
    }
   ],
   "source": [
    "## Collecting the dictionary keys as list - list(idName)\n",
    "list(idName)"
   ]
  },
  {
   "cell_type": "markdown",
   "id": "11061155",
   "metadata": {},
   "source": [
    "* To remove one key,value pair from the dictionary - using popitem()"
   ]
  },
  {
   "cell_type": "code",
   "execution_count": 59,
   "id": "469088ac",
   "metadata": {},
   "outputs": [
    {
     "data": {
      "text/plain": [
       "(106, 'Mitra')"
      ]
     },
     "execution_count": 59,
     "metadata": {},
     "output_type": "execute_result"
    }
   ],
   "source": [
    "## idName.popitem() will remove one key value pair from the dictionary\n",
    "idName.popitem()"
   ]
  },
  {
   "cell_type": "markdown",
   "id": "6568354c",
   "metadata": {},
   "source": [
    "* To remove one key at a time from the dictionary - using pop()"
   ]
  },
  {
   "cell_type": "code",
   "execution_count": 64,
   "id": "c10def35",
   "metadata": {},
   "outputs": [
    {
     "data": {
      "text/plain": [
       "'Ravi'"
      ]
     },
     "execution_count": 64,
     "metadata": {},
     "output_type": "execute_result"
    }
   ],
   "source": [
    "### ## idName.pop(key) will pop one key value pair for the given key from the dictionary\n",
    "idName.pop(104)"
   ]
  },
  {
   "cell_type": "code",
   "execution_count": 65,
   "id": "fa6681f0",
   "metadata": {},
   "outputs": [
    {
     "ename": "KeyError",
     "evalue": "105",
     "output_type": "error",
     "traceback": [
      "\u001b[1;31m---------------------------------------------------------------------------\u001b[0m",
      "\u001b[1;31mKeyError\u001b[0m                                  Traceback (most recent call last)",
      "Cell \u001b[1;32mIn[65], line 2\u001b[0m\n\u001b[0;32m      1\u001b[0m \u001b[38;5;66;03m### If the key is not available in the dictionary, pop() shall given an error on the dictionary\u001b[39;00m\n\u001b[1;32m----> 2\u001b[0m \u001b[43midName\u001b[49m\u001b[38;5;241;43m.\u001b[39;49m\u001b[43mpop\u001b[49m\u001b[43m(\u001b[49m\u001b[38;5;241;43m105\u001b[39;49m\u001b[43m)\u001b[49m\n",
      "\u001b[1;31mKeyError\u001b[0m: 105"
     ]
    }
   ],
   "source": [
    "### If the key is not available in the dictionary, pop() shall given an error on the dictionary\n",
    "idName.pop(105)"
   ]
  },
  {
   "cell_type": "markdown",
   "id": "0311af01",
   "metadata": {},
   "source": [
    "* length of the dictionary - len() function"
   ]
  },
  {
   "cell_type": "code",
   "execution_count": 67,
   "id": "23b833e4",
   "metadata": {},
   "outputs": [
    {
     "data": {
      "text/plain": [
       "2"
      ]
     },
     "execution_count": 67,
     "metadata": {},
     "output_type": "execute_result"
    }
   ],
   "source": [
    "# To get the length of the dictionary\n",
    "len(idName)"
   ]
  },
  {
   "cell_type": "markdown",
   "id": "0a65844f",
   "metadata": {},
   "source": [
    "* Lets say we want to get the key,value pairs using the dictionary using dictionary comprehension"
   ]
  },
  {
   "cell_type": "code",
   "execution_count": 71,
   "id": "0ebfa545",
   "metadata": {},
   "outputs": [
    {
     "data": {
      "text/plain": [
       "{102: 'Mahesh', 104: 'Ravi', 106: 'Mitra'}"
      ]
     },
     "execution_count": 71,
     "metadata": {},
     "output_type": "execute_result"
    }
   ],
   "source": [
    "### Dictionary comprehension can be perfromed using the following: \n",
    "idName = idName = {101: 'Suraj',102: 'Mahesh',103: 'Surya', 104: 'Ravi', 105: 'Kiran', 106: 'Mitra'}\n",
    "\n",
    "# get only the even ids\n",
    "\n",
    "evenIdName = {k:v for (k,v) in idName.items() if k%2 ==0 }\n",
    "evenIdName\n"
   ]
  },
  {
   "cell_type": "code",
   "execution_count": null,
   "id": "d53fd8a4",
   "metadata": {},
   "outputs": [],
   "source": []
  }
 ],
 "metadata": {
  "kernelspec": {
   "display_name": "Python 3 (ipykernel)",
   "language": "python",
   "name": "python3"
  },
  "language_info": {
   "codemirror_mode": {
    "name": "ipython",
    "version": 3
   },
   "file_extension": ".py",
   "mimetype": "text/x-python",
   "name": "python",
   "nbconvert_exporter": "python",
   "pygments_lexer": "ipython3",
   "version": "3.10.10"
  }
 },
 "nbformat": 4,
 "nbformat_minor": 5
}
