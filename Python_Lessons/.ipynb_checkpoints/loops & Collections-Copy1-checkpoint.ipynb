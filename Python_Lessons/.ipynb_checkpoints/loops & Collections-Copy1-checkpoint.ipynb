{
 "cells": [
  {
   "cell_type": "markdown",
   "id": "a69789b4",
   "metadata": {},
   "source": [
    "* break statement in Python\n",
    "    - The break statement breaks out the loop while performing the operations"
   ]
  },
  {
   "cell_type": "code",
   "execution_count": 20,
   "id": "41b4112b",
   "metadata": {},
   "outputs": [
    {
     "name": "stdout",
     "output_type": "stream",
     "text": [
      "Name is  Amrit\n",
      "Name is  Bahubali\n",
      "The loop is gone with Chandra\n"
     ]
    }
   ],
   "source": [
    "## Lets try with few names with the break statement. We break from the loop if the name is chandra\n",
    "friends = ['Amrit','Bahubali','Chandra','Dabesh','Elangovan','Ganesh']\n"
   ]
  },
  {
   "cell_type": "code",
   "execution_count": 9,
   "id": "793b9c81",
   "metadata": {},
   "outputs": [
    {
     "name": "stdout",
     "output_type": "stream",
     "text": [
      "The first multiple of 3 is  6\n"
     ]
    }
   ],
   "source": [
    "## Find the second multiple of a number - lets say 3 - We shall use break to come out of loop\n",
    "number = 3\n",
    "for num in range(number,10):\n",
    "    pass\n"
   ]
  },
  {
   "cell_type": "markdown",
   "id": "fe1d6254",
   "metadata": {},
   "source": [
    "* break and else statement"
   ]
  },
  {
   "cell_type": "code",
   "execution_count": null,
   "id": "113d6ead",
   "metadata": {},
   "outputs": [],
   "source": [
    "### Find the prime numbers from 2 to 20 using for loops for n in range(2,20): for x in range(2,n):\n",
    "        "
   ]
  },
  {
   "cell_type": "markdown",
   "id": "e66d1beb",
   "metadata": {},
   "source": [
    "* break statement in while loop\n",
    "\n",
    "\n"
   ]
  },
  {
   "cell_type": "code",
   "execution_count": 16,
   "id": "8ade11a0",
   "metadata": {},
   "outputs": [
    {
     "name": "stdout",
     "output_type": "stream",
     "text": [
      "Value of n is 2\n",
      "Name is Chandra\n"
     ]
    }
   ],
   "source": [
    "### Name of friends - and we want to loop using while and break if name is chandra\n",
    "friends = ['Amrit','Bahubali','Chandra','Dabesh','Elangovan','Ganesh']\n",
    "flen = len(friends)\n",
    "n = 0\n"
   ]
  },
  {
   "cell_type": "markdown",
   "id": "504ab1c9",
   "metadata": {},
   "source": [
    "* **break** statement and else in while loop"
   ]
  },
  {
   "cell_type": "code",
   "execution_count": 17,
   "id": "a08969c2",
   "metadata": {},
   "outputs": [
    {
     "name": "stdout",
     "output_type": "stream",
     "text": [
      "Mayank has not been found in the list\n"
     ]
    }
   ],
   "source": [
    "### While and else loop - search for condition if name matches Mayank - else condition after while\n",
    "friends = ['Amrit','Bahubali','Chandra','Dabesh','Elangovan','Ganesh']\n",
    "flen = len(friends)\n",
    "n = 0\n"
   ]
  },
  {
   "cell_type": "markdown",
   "id": "927c1d98",
   "metadata": {},
   "source": [
    "* **Continue** - It has been borrowed from C programming language.\n",
    "Unlinke, break, continue just iterates over the loop. It continues"
   ]
  },
  {
   "cell_type": "code",
   "execution_count": 19,
   "id": "cb30426a",
   "metadata": {},
   "outputs": [
    {
     "name": "stdout",
     "output_type": "stream",
     "text": [
      "Name is  Amrit\n",
      "Name is  Bahubali\n",
      "Name is  Dabesh\n",
      "Name is  Elangovan\n",
      "Name is  Ganesh\n"
     ]
    }
   ],
   "source": [
    "## Iterate over the list friends and see if the name matches Chandra and put continue\n",
    "friends = ['Amrit','Bahubali','Chandra','Dabesh','Elangovan','Ganesh']\n",
    "for name in friends:\n",
    "    pass  "
   ]
  },
  {
   "cell_type": "markdown",
   "id": "8a18825d",
   "metadata": {},
   "source": [
    "* **continue** with while loop"
   ]
  },
  {
   "cell_type": "code",
   "execution_count": 23,
   "id": "07a08213",
   "metadata": {},
   "outputs": [
    {
     "name": "stdout",
     "output_type": "stream",
     "text": [
      "Name is  Amrit\n",
      "Name is  Bahubali\n",
      "Name is  Dabesh\n",
      "Name is  Elangovan\n",
      "Name is  Ganesh\n"
     ]
    }
   ],
   "source": [
    "## Iterate over the list friends and see if the name matches Chandra and put continue\n",
    "friends = ['Amrit','Bahubali','Chandra','Dabesh','Elangovan','Ganesh']\n",
    "flen = len(friends)\n",
    "n = 0\n"
   ]
  },
  {
   "cell_type": "markdown",
   "id": "b65586b2",
   "metadata": {},
   "source": [
    "* **Collections in Python**\n",
    "    - collections are in-built module in python that can be used as alternatives to the built-in types like list,dict,set and tuple\n",
    "    - These are specialized type of containers that can hold multiple objects.\n",
    "    - Various types of collections are :\n",
    "        - namedtuple\n",
    "        - deque\n",
    "        - ChainMap\n",
    "        - Counter\n",
    "        - OrderedDict\n",
    "        - defaultDict"
   ]
  },
  {
   "cell_type": "markdown",
   "id": "3ce72e66",
   "metadata": {},
   "source": [
    "* namedtuple\n",
    "    - can be used wherever tuples are used. \n",
    "    - Additional ability for fields - fields can be accessed by using names instead of position index"
   ]
  },
  {
   "cell_type": "code",
   "execution_count": 1,
   "id": "9aeb898c",
   "metadata": {},
   "outputs": [],
   "source": [
    "### Lets start with namedtuple - Instead of accessing the position based on index \n",
    "### we can access using the name. - Import the namedtuple module using collections\n",
    "#from collections import namedtuple\n",
    "#Student = namedtuple('Student','name,age,department,year')"
   ]
  },
  {
   "cell_type": "code",
   "execution_count": 2,
   "id": "79101226",
   "metadata": {},
   "outputs": [],
   "source": [
    "## Based on the position the values are assigned st1 = Student('Rajesh',19,'CSE','IInd')"
   ]
  },
  {
   "cell_type": "code",
   "execution_count": 3,
   "id": "0d7e7c74",
   "metadata": {},
   "outputs": [
    {
     "data": {
      "text/plain": [
       "__main__.Student"
      ]
     },
     "execution_count": 3,
     "metadata": {},
     "output_type": "execute_result"
    }
   ],
   "source": [
    "# check the type of student\n",
    "#type(st1)"
   ]
  },
  {
   "cell_type": "code",
   "execution_count": 4,
   "id": "a8131310",
   "metadata": {},
   "outputs": [
    {
     "name": "stdout",
     "output_type": "stream",
     "text": [
      "19\n"
     ]
    }
   ],
   "source": [
    "# Print the age of the student using dot operator"
   ]
  },
  {
   "cell_type": "code",
   "execution_count": 5,
   "id": "c05a4ba7",
   "metadata": {},
   "outputs": [],
   "source": [
    "### Lets say we want to unpack all the values of Tuple to variables then we can have name,age,department, year = st1"
   ]
  },
  {
   "cell_type": "code",
   "execution_count": 6,
   "id": "7645445f",
   "metadata": {},
   "outputs": [
    {
     "name": "stdout",
     "output_type": "stream",
     "text": [
      "Rajesh\n"
     ]
    }
   ],
   "source": [
    "# Print the name from above unpacked variables. - print(name)"
   ]
  },
  {
   "cell_type": "code",
   "execution_count": 7,
   "id": "b17744fa",
   "metadata": {},
   "outputs": [
    {
     "data": {
      "text/plain": [
       "Student(name='Rajesh', age=19, department='CSE', year='IInd')"
      ]
     },
     "execution_count": 7,
     "metadata": {},
     "output_type": "execute_result"
    }
   ],
   "source": [
    "## View how the values of st1 are constructed in st1 st1"
   ]
  },
  {
   "cell_type": "code",
   "execution_count": 8,
   "id": "28c8ec16",
   "metadata": {},
   "outputs": [
    {
     "name": "stdout",
     "output_type": "stream",
     "text": [
      "Name, Age, deparment, year are Rajesh 19 CSE IInd\n",
      "Using Index - Name:Rajesh , Age:19 , deparment:CSE , year:IInd \n"
     ]
    }
   ],
   "source": [
    "# namedtuple can be accessed using the index or based on the name print('Name, Age, deparment, year are {} {} {} {}'.format(st1.name,st1.age,st1.department,st1.year))\n",
    "# print('Using Index - Name:{} , Age:{} , deparment:{} , year:{} '.format(st1[0],st1[1],st1[2],st1[3]))"
   ]
  },
  {
   "cell_type": "code",
   "execution_count": 9,
   "id": "43c2a401",
   "metadata": {},
   "outputs": [],
   "source": [
    "## We can also assign based on the names st2 = Student(name='Srilakshmi',department='IT',age=19,year='IInd')"
   ]
  },
  {
   "cell_type": "code",
   "execution_count": 10,
   "id": "026c7de5",
   "metadata": {},
   "outputs": [
    {
     "name": "stdout",
     "output_type": "stream",
     "text": [
      "Using Index - Name:Srilakshmi , Age:19 , deparment:CSE , year:IInd \n"
     ]
    }
   ],
   "source": [
    "# print('Using Index - Name:{} , Age:{} , deparment:{} , year:{} '.format(st2[0],st1[1],st1[2],st1[3]))"
   ]
  },
  {
   "cell_type": "markdown",
   "id": "5b9c071e",
   "metadata": {},
   "source": [
    "* _make() "
   ]
  },
  {
   "cell_type": "code",
   "execution_count": 15,
   "id": "7853a082",
   "metadata": {},
   "outputs": [
    {
     "data": {
      "text/plain": [
       "Student(name='Kailsh', age=18, department='Humanities', year='Ist')"
      ]
     },
     "execution_count": 15,
     "metadata": {},
     "output_type": "execute_result"
    }
   ],
   "source": [
    "# _make() can be used to create a new namedtuple   data = ['Kailsh',18,'Humanities','Ist']  st3 = Student._make(data) \n"
   ]
  },
  {
   "cell_type": "markdown",
   "id": "b636cc75",
   "metadata": {},
   "source": [
    "* _asdict()"
   ]
  },
  {
   "cell_type": "code",
   "execution_count": 16,
   "id": "28746085",
   "metadata": {},
   "outputs": [
    {
     "data": {
      "text/plain": [
       "{'name': 'Kailsh', 'age': 18, 'department': 'Humanities', 'year': 'Ist'}"
      ]
     },
     "execution_count": 16,
     "metadata": {},
     "output_type": "execute_result"
    }
   ],
   "source": [
    "# _asdict() converts the namedtuple to a dictionary. st3._asdict()"
   ]
  },
  {
   "cell_type": "markdown",
   "id": "31e55d3a",
   "metadata": {},
   "source": [
    "* _fields - Returns fields names as tuples "
   ]
  },
  {
   "cell_type": "code",
   "execution_count": 17,
   "id": "17363f9b",
   "metadata": {},
   "outputs": [
    {
     "data": {
      "text/plain": [
       "('name', 'age', 'department', 'year')"
      ]
     },
     "execution_count": 17,
     "metadata": {},
     "output_type": "execute_result"
    }
   ],
   "source": [
    "# st3._fields"
   ]
  },
  {
   "cell_type": "markdown",
   "id": "7961e437",
   "metadata": {},
   "source": [
    "#### deque "
   ]
  },
  {
   "cell_type": "markdown",
   "id": "3e0ee04e",
   "metadata": {},
   "source": [
    "* deque (double ended queue) - Pronounced as deck\n",
    "   - Stands for double ended queue\n",
    "   - It is used both as stack and queue"
   ]
  },
  {
   "cell_type": "markdown",
   "id": "582e0ff0",
   "metadata": {},
   "source": [
    "<img src='dequeue.JPG'/>"
   ]
  },
  {
   "cell_type": "code",
   "execution_count": 15,
   "id": "e7126d55",
   "metadata": {},
   "outputs": [],
   "source": [
    "## To use deque \n",
    "from collections import deque #d1 = deque()"
   ]
  },
  {
   "cell_type": "markdown",
   "id": "65ee624a",
   "metadata": {},
   "source": [
    "* append()"
   ]
  },
  {
   "cell_type": "code",
   "execution_count": 28,
   "id": "31c17121",
   "metadata": {},
   "outputs": [],
   "source": [
    "# Use d1.append() to append names"
   ]
  },
  {
   "cell_type": "code",
   "execution_count": 17,
   "id": "2c439816",
   "metadata": {},
   "outputs": [],
   "source": [
    "# Use d1.appendleft() to append to left of deque"
   ]
  },
  {
   "cell_type": "code",
   "execution_count": 18,
   "id": "2dfc3959",
   "metadata": {},
   "outputs": [
    {
     "data": {
      "text/plain": [
       "deque(['Ch', 'Abhay', 'Akhil', 'Ashutosh', 'Bimal', 'Bhanu', 'Chirag'])"
      ]
     },
     "execution_count": 18,
     "metadata": {},
     "output_type": "execute_result"
    }
   ],
   "source": [
    "d1"
   ]
  },
  {
   "cell_type": "markdown",
   "id": "871290ce",
   "metadata": {},
   "source": [
    "* .copy() on d1 makes a shallow copy of deque "
   ]
  },
  {
   "cell_type": "code",
   "execution_count": null,
   "id": "1e0ce676",
   "metadata": {},
   "outputs": [],
   "source": [
    "# d2 = d1.copy()"
   ]
  },
  {
   "cell_type": "code",
   "execution_count": 20,
   "id": "05f1fdfa",
   "metadata": {},
   "outputs": [
    {
     "data": {
      "text/plain": [
       "deque(['Ch', 'Abhay', 'Akhil', 'Ashutosh', 'Bimal', 'Bhanu', 'Chirag'])"
      ]
     },
     "execution_count": 20,
     "metadata": {},
     "output_type": "execute_result"
    }
   ],
   "source": []
  },
  {
   "cell_type": "markdown",
   "id": "b45a1be9",
   "metadata": {},
   "source": [
    "* extend()"
   ]
  },
  {
   "cell_type": "code",
   "execution_count": 21,
   "id": "7d4251f8",
   "metadata": {},
   "outputs": [],
   "source": [
    "#d1.extend(['Daman'])"
   ]
  },
  {
   "cell_type": "code",
   "execution_count": 22,
   "id": "b6e20bab",
   "metadata": {},
   "outputs": [
    {
     "data": {
      "text/plain": [
       "deque(['Ch',\n",
       "       'Abhay',\n",
       "       'Akhil',\n",
       "       'Ashutosh',\n",
       "       'Bimal',\n",
       "       'Bhanu',\n",
       "       'Chirag',\n",
       "       'Daman'])"
      ]
     },
     "execution_count": 22,
     "metadata": {},
     "output_type": "execute_result"
    }
   ],
   "source": []
  },
  {
   "cell_type": "code",
   "execution_count": 23,
   "id": "fb48b6f4",
   "metadata": {},
   "outputs": [
    {
     "data": {
      "text/plain": [
       "deque(['Ch', 'Abhay', 'Akhil', 'Ashutosh', 'Bimal', 'Bhanu', 'Chirag'])"
      ]
     },
     "execution_count": 23,
     "metadata": {},
     "output_type": "execute_result"
    }
   ],
   "source": []
  },
  {
   "cell_type": "markdown",
   "id": "e82dbfc7",
   "metadata": {},
   "source": [
    "* pop()"
   ]
  },
  {
   "cell_type": "code",
   "execution_count": 24,
   "id": "90d0882b",
   "metadata": {
    "scrolled": true
   },
   "outputs": [
    {
     "data": {
      "text/plain": [
       "'Chirag'"
      ]
     },
     "execution_count": 24,
     "metadata": {},
     "output_type": "execute_result"
    }
   ],
   "source": [
    "# call .pop() on d2"
   ]
  },
  {
   "cell_type": "code",
   "execution_count": 26,
   "id": "415f29a4",
   "metadata": {},
   "outputs": [
    {
     "data": {
      "text/plain": [
       "'Daman'"
      ]
     },
     "execution_count": 26,
     "metadata": {},
     "output_type": "execute_result"
    }
   ],
   "source": [
    "# pop() on d1\n"
   ]
  },
  {
   "cell_type": "markdown",
   "id": "ae5870f6",
   "metadata": {},
   "source": [
    "* insert()"
   ]
  },
  {
   "cell_type": "code",
   "execution_count": 30,
   "id": "f6fa8138",
   "metadata": {},
   "outputs": [],
   "source": [
    "# Insert a value at a index"
   ]
  },
  {
   "cell_type": "code",
   "execution_count": 31,
   "id": "d5a4a6a2",
   "metadata": {},
   "outputs": [
    {
     "data": {
      "text/plain": [
       "deque(['Ch',\n",
       "       'Abhay',\n",
       "       'Mayank',\n",
       "       'Akhil',\n",
       "       'Ashutosh',\n",
       "       'Bimal',\n",
       "       'Bhanu',\n",
       "       'Chirag',\n",
       "       'Abhay',\n",
       "       'Akhil',\n",
       "       'Ashutosh',\n",
       "       'Bimal',\n",
       "       'Bhanu',\n",
       "       'Chirag'])"
      ]
     },
     "execution_count": 31,
     "metadata": {},
     "output_type": "execute_result"
    }
   ],
   "source": []
  },
  {
   "cell_type": "code",
   "execution_count": 32,
   "id": "920c306f",
   "metadata": {},
   "outputs": [],
   "source": [
    "# Insert multiple values at a particular index."
   ]
  },
  {
   "cell_type": "code",
   "execution_count": 33,
   "id": "f7b67245",
   "metadata": {},
   "outputs": [
    {
     "data": {
      "text/plain": [
       "deque(['Ch',\n",
       "       'Abhay',\n",
       "       'Mayank',\n",
       "       'Akhil',\n",
       "       ['Narang', 'Berang'],\n",
       "       'Ashutosh',\n",
       "       'Bimal',\n",
       "       'Bhanu',\n",
       "       'Chirag',\n",
       "       'Abhay',\n",
       "       'Akhil',\n",
       "       'Ashutosh',\n",
       "       'Bimal',\n",
       "       'Bhanu',\n",
       "       'Chirag'])"
      ]
     },
     "execution_count": 33,
     "metadata": {},
     "output_type": "execute_result"
    }
   ],
   "source": [
    "#"
   ]
  },
  {
   "cell_type": "markdown",
   "id": "0632bf1d",
   "metadata": {},
   "source": [
    "* len()\n",
    "\n"
   ]
  },
  {
   "cell_type": "code",
   "execution_count": 34,
   "id": "57ad4eb5",
   "metadata": {},
   "outputs": [
    {
     "data": {
      "text/plain": [
       "15"
      ]
     },
     "execution_count": 34,
     "metadata": {},
     "output_type": "execute_result"
    }
   ],
   "source": [
    "## Length of deque\n"
   ]
  },
  {
   "cell_type": "markdown",
   "id": "a6f438d1",
   "metadata": {},
   "source": [
    "* remvoe()"
   ]
  },
  {
   "cell_type": "code",
   "execution_count": 35,
   "id": "e1ec706b",
   "metadata": {},
   "outputs": [],
   "source": [
    "## remove elements from the deque using the following"
   ]
  },
  {
   "cell_type": "code",
   "execution_count": 36,
   "id": "51a049bc",
   "metadata": {},
   "outputs": [
    {
     "data": {
      "text/plain": [
       "deque(['Ch',\n",
       "       'Abhay',\n",
       "       'Mayank',\n",
       "       'Akhil',\n",
       "       'Ashutosh',\n",
       "       'Bimal',\n",
       "       'Bhanu',\n",
       "       'Chirag',\n",
       "       'Abhay',\n",
       "       'Akhil',\n",
       "       'Ashutosh',\n",
       "       'Bimal',\n",
       "       'Bhanu',\n",
       "       'Chirag'])"
      ]
     },
     "execution_count": 36,
     "metadata": {},
     "output_type": "execute_result"
    }
   ],
   "source": [
    "d1"
   ]
  },
  {
   "cell_type": "markdown",
   "id": "477516f3",
   "metadata": {},
   "source": [
    "#### ChainMap -\n",
    "    * ChainMap groups multiple dictionaries to create a single view\n",
    "    * If we have multiple dictionaries and we want to update the dictionary then a chainMap is a better option"
   ]
  },
  {
   "cell_type": "code",
   "execution_count": 1,
   "id": "f03e299b",
   "metadata": {},
   "outputs": [],
   "source": [
    "from collections import ChainMap"
   ]
  },
  {
   "cell_type": "code",
   "execution_count": 2,
   "id": "c68d8673",
   "metadata": {},
   "outputs": [],
   "source": [
    "#### We create three ChainMaps for three teams for three years ipl - iplCMap  = ChainMap(players_ipl1,players_ipl2,players_ipl3)   \n",
    "\n",
    " "
   ]
  },
  {
   "cell_type": "code",
   "execution_count": 3,
   "id": "2ffc88ec",
   "metadata": {},
   "outputs": [
    {
     "data": {
      "text/plain": [
       "ChainMap({'ShubmanGill': 'kkr', 'MSDhoni': 'CSK', 'HardikPandya': 'GT'}, {'ShubmanGill': 'Punjab', 'MohitSharma': 'CSK', 'ViratKohli': 'RCB'}, {'ShubmanGill': 'GT', 'MohitSharma': 'GT', 'DevonConway': 'CSK'})"
      ]
     },
     "execution_count": 3,
     "metadata": {},
     "output_type": "execute_result"
    }
   ],
   "source": []
  },
  {
   "cell_type": "code",
   "execution_count": 17,
   "id": "b33d662d",
   "metadata": {},
   "outputs": [],
   "source": []
  },
  {
   "cell_type": "code",
   "execution_count": 18,
   "id": "f728db97",
   "metadata": {},
   "outputs": [
    {
     "data": {
      "text/plain": [
       "ChainMap({'ShubmanGill': 'kkr', 'MSDhoni': 'CSK', 'HardikPandya': 'GT'}, {'ShubmanGill': 'Punjab', 'MohitSharma': 'CSK', 'ViratKohli': 'RCB', 'RavinderJadeja': 'CSK'}, {'ShubmanGill': 'GT', 'MohitSharma': 'GT', 'DevonConway': 'CSK'})"
      ]
     },
     "execution_count": 18,
     "metadata": {},
     "output_type": "execute_result"
    }
   ],
   "source": []
  },
  {
   "cell_type": "markdown",
   "id": "5c60dafc",
   "metadata": {},
   "source": [
    "* maps on ChainMap"
   ]
  },
  {
   "cell_type": "code",
   "execution_count": 2,
   "id": "99068580",
   "metadata": {
    "scrolled": false
   },
   "outputs": [],
   "source": [
    "# Call maps on the chainmap created and iterate it over the chainMap\n"
   ]
  },
  {
   "cell_type": "markdown",
   "id": "2251de45",
   "metadata": {},
   "source": [
    "* parents on ChainMap"
   ]
  },
  {
   "cell_type": "code",
   "execution_count": 3,
   "id": "3297eb11",
   "metadata": {
    "scrolled": false
   },
   "outputs": [],
   "source": [
    "# iplCMap.parents"
   ]
  },
  {
   "cell_type": "markdown",
   "id": "f4bc9651",
   "metadata": {},
   "source": [
    "* new_child on ChainMap"
   ]
  },
  {
   "cell_type": "code",
   "execution_count": 5,
   "id": "0401a8bf",
   "metadata": {},
   "outputs": [],
   "source": [
    "## Add new key value pair to the chainMap and assign it to a variable "
   ]
  },
  {
   "cell_type": "code",
   "execution_count": null,
   "id": "166d7e5b",
   "metadata": {},
   "outputs": [],
   "source": []
  },
  {
   "cell_type": "markdown",
   "id": "10502396",
   "metadata": {},
   "source": [
    "#### Counter"
   ]
  },
  {
   "cell_type": "code",
   "execution_count": 32,
   "id": "430865f4",
   "metadata": {},
   "outputs": [],
   "source": [
    "from collections import Counter"
   ]
  },
  {
   "cell_type": "code",
   "execution_count": 6,
   "id": "ca8e4881",
   "metadata": {},
   "outputs": [],
   "source": [
    "# Creating an empty counter cntr = Counter()\n"
   ]
  },
  {
   "cell_type": "code",
   "execution_count": 35,
   "id": "34d1b7fa",
   "metadata": {},
   "outputs": [],
   "source": [
    "words = \"\"\"In computer programming, a string is \n",
    "traditionally a sequence of characters, either as \n",
    "a literal constant or as some kind of variable. The \n",
    "latter may allow its elements to be mutated and the \n",
    "length changed, or it may be fixed (after creation). \n",
    "A string is generally considered as a data type and \n",
    "is often implemented as an array data structure of \n",
    "bytes (or words) that stores a sequence of elements, \n",
    "typically characters, using some character encoding. \n",
    "String may also denote more general arrays or other \n",
    "sequence (or list) data types and structures.\"\"\"\n",
    "### Split the sentences above to get the words "
   ]
  },
  {
   "cell_type": "markdown",
   "id": "299bc718",
   "metadata": {},
   "source": [
    "* most_common on Counter"
   ]
  },
  {
   "cell_type": "code",
   "execution_count": 7,
   "id": "a69f16da",
   "metadata": {},
   "outputs": [],
   "source": [
    "## pass words to counter and call most_common() to get the occurrences of each word in the data"
   ]
  },
  {
   "cell_type": "markdown",
   "id": "c861b781",
   "metadata": {},
   "source": [
    "* elements() - Returns an iterable , on which we can find the elements for this"
   ]
  },
  {
   "cell_type": "code",
   "execution_count": 58,
   "id": "ef1b5e98",
   "metadata": {},
   "outputs": [
    {
     "data": {
      "text/plain": [
       "<itertools.chain at 0x1bb7eb10490>"
      ]
     },
     "execution_count": 58,
     "metadata": {},
     "output_type": "execute_result"
    }
   ],
   "source": [
    "#words_count = Counter(words) words_count.elements() # It is a iterable object"
   ]
  },
  {
   "cell_type": "code",
   "execution_count": null,
   "id": "513c1f39",
   "metadata": {},
   "outputs": [],
   "source": [
    "\n"
   ]
  },
  {
   "cell_type": "markdown",
   "id": "6d6b2ec8",
   "metadata": {},
   "source": [
    "* total() on Counter object gives the total count of the elements"
   ]
  },
  {
   "cell_type": "code",
   "execution_count": 40,
   "id": "4b7d18b0",
   "metadata": {},
   "outputs": [
    {
     "data": {
      "text/plain": [
       "92"
      ]
     },
     "execution_count": 40,
     "metadata": {},
     "output_type": "execute_result"
    }
   ],
   "source": []
  },
  {
   "cell_type": "markdown",
   "id": "f49ae8a2",
   "metadata": {},
   "source": [
    "* subtract() on two counter objects"
   ]
  },
  {
   "cell_type": "code",
   "execution_count": 62,
   "id": "eb4722a8",
   "metadata": {},
   "outputs": [],
   "source": [
    "## S p1 = Counter(Choclates=5,Biscuits=8,Oranges=3) p2 = Counter(Choclates=7,Biscuits=9,Oranges=2)\n"
   ]
  },
  {
   "cell_type": "code",
   "execution_count": null,
   "id": "e5a7ffc7",
   "metadata": {},
   "outputs": [],
   "source": []
  },
  {
   "cell_type": "code",
   "execution_count": 8,
   "id": "7f418ad9",
   "metadata": {},
   "outputs": [],
   "source": [
    "## Print the total for two p1 and p2\n"
   ]
  },
  {
   "cell_type": "markdown",
   "id": "fdd47c4a",
   "metadata": {},
   "source": [
    "* convert counter to list "
   ]
  },
  {
   "cell_type": "code",
   "execution_count": 9,
   "id": "84f6614f",
   "metadata": {},
   "outputs": [],
   "source": [
    "## using list() convert p1 to list"
   ]
  },
  {
   "cell_type": "markdown",
   "id": "e1dd6c81",
   "metadata": {},
   "source": [
    "* Convert counter to set"
   ]
  },
  {
   "cell_type": "code",
   "execution_count": 10,
   "id": "1f0979f3",
   "metadata": {},
   "outputs": [],
   "source": [
    "## Using set() convert p1 to set\n"
   ]
  },
  {
   "cell_type": "markdown",
   "id": "3b5e1e0e",
   "metadata": {},
   "source": [
    "* Convert counter to dict"
   ]
  },
  {
   "cell_type": "code",
   "execution_count": 11,
   "id": "a0db973b",
   "metadata": {},
   "outputs": [],
   "source": [
    "## using dict() convert p1 to dict"
   ]
  },
  {
   "cell_type": "markdown",
   "id": "df1ce724",
   "metadata": {},
   "source": [
    "### OrderedDict\n",
    "    * Insertion Order is better in the OrderDict than the dict \n",
    "    * OrderedDict can handle reordering of elements better than dict\n",
    "    * has additional methods like move_to_end method to efficiently reposition on the element\n",
    " "
   ]
  },
  {
   "cell_type": "code",
   "execution_count": 73,
   "id": "0efb520e",
   "metadata": {},
   "outputs": [],
   "source": [
    "from collections import OrderedDict"
   ]
  },
  {
   "cell_type": "code",
   "execution_count": 74,
   "id": "860e6f67",
   "metadata": {},
   "outputs": [],
   "source": [
    "od1 = OrderedDict()"
   ]
  },
  {
   "cell_type": "code",
   "execution_count": 89,
   "id": "b26cc401",
   "metadata": {},
   "outputs": [],
   "source": [
    "od1['Ravi'] = 'IT'\n",
    "od1['Surya'] = 'CSE'\n",
    "od1['Kiran'] = 'IT'"
   ]
  },
  {
   "cell_type": "code",
   "execution_count": 76,
   "id": "04e348fc",
   "metadata": {},
   "outputs": [
    {
     "data": {
      "text/plain": [
       "OrderedDict([('Ravi', 'IT'), ('Surya', 'CSE'), ('Kiran', 'IT')])"
      ]
     },
     "execution_count": 76,
     "metadata": {},
     "output_type": "execute_result"
    }
   ],
   "source": [
    "od1"
   ]
  },
  {
   "cell_type": "markdown",
   "id": "e1dd1bbd",
   "metadata": {},
   "source": [
    "* sorted method on ordered dict shall returns list of keys in sorted order"
   ]
  },
  {
   "cell_type": "code",
   "execution_count": 80,
   "id": "ce6f348e",
   "metadata": {},
   "outputs": [
    {
     "data": {
      "text/plain": [
       "['Kiran', 'Ravi', 'Surya']"
      ]
     },
     "execution_count": 80,
     "metadata": {},
     "output_type": "execute_result"
    }
   ],
   "source": [
    "sorted(od1)"
   ]
  },
  {
   "cell_type": "markdown",
   "id": "62199a6a",
   "metadata": {},
   "source": [
    "* keys()"
   ]
  },
  {
   "cell_type": "code",
   "execution_count": 82,
   "id": "7830899b",
   "metadata": {},
   "outputs": [
    {
     "name": "stdout",
     "output_type": "stream",
     "text": [
      "Ravi\n",
      "Surya\n",
      "Kiran\n"
     ]
    }
   ],
   "source": [
    "for i in od1.keys():\n",
    "    print(i)"
   ]
  },
  {
   "cell_type": "markdown",
   "id": "123cef1e",
   "metadata": {},
   "source": [
    "* values()"
   ]
  },
  {
   "cell_type": "code",
   "execution_count": 83,
   "id": "98dc1421",
   "metadata": {},
   "outputs": [
    {
     "name": "stdout",
     "output_type": "stream",
     "text": [
      "IT\n",
      "CSE\n",
      "IT\n"
     ]
    }
   ],
   "source": [
    "for i in od1.values():\n",
    "    print(i)"
   ]
  },
  {
   "cell_type": "markdown",
   "id": "b74804d1",
   "metadata": {},
   "source": [
    "* items()\n"
   ]
  },
  {
   "cell_type": "code",
   "execution_count": 86,
   "id": "58156c21",
   "metadata": {},
   "outputs": [
    {
     "name": "stdout",
     "output_type": "stream",
     "text": [
      "Key is Ravi and value is IT\n",
      "Key is Surya and value is CSE\n",
      "Key is Kiran and value is IT\n"
     ]
    }
   ],
   "source": [
    "for k,v in od1.items():\n",
    "    print(f'Key is {k} and value is {v}')"
   ]
  },
  {
   "cell_type": "markdown",
   "id": "3d33e264",
   "metadata": {},
   "source": [
    "* popitem() returns the items in the order LIFO (Last in First Out).\n",
    "    * if last=False then FIFO is used"
   ]
  },
  {
   "cell_type": "code",
   "execution_count": 87,
   "id": "6de206f4",
   "metadata": {},
   "outputs": [
    {
     "data": {
      "text/plain": [
       "('Kiran', 'IT')"
      ]
     },
     "execution_count": 87,
     "metadata": {},
     "output_type": "execute_result"
    }
   ],
   "source": [
    "od1.popitem()"
   ]
  },
  {
   "cell_type": "code",
   "execution_count": 90,
   "id": "5793da85",
   "metadata": {},
   "outputs": [
    {
     "data": {
      "text/plain": [
       "('Ravi', 'IT')"
      ]
     },
     "execution_count": 90,
     "metadata": {},
     "output_type": "execute_result"
    }
   ],
   "source": [
    "od1.popitem(last=False)"
   ]
  },
  {
   "cell_type": "code",
   "execution_count": 91,
   "id": "1a98cbbd",
   "metadata": {},
   "outputs": [
    {
     "data": {
      "text/plain": [
       "OrderedDict([('Surya', 'CSE'), ('Kiran', 'IT')])"
      ]
     },
     "execution_count": 91,
     "metadata": {},
     "output_type": "execute_result"
    }
   ],
   "source": [
    "od1"
   ]
  },
  {
   "cell_type": "code",
   "execution_count": 92,
   "id": "592da8a3",
   "metadata": {},
   "outputs": [
    {
     "data": {
      "text/plain": [
       "OrderedDict([('Surya', 'CSE'), ('Kiran', 'IT'), ('Ravi', 'IT')])"
      ]
     },
     "execution_count": 92,
     "metadata": {},
     "output_type": "execute_result"
    }
   ],
   "source": [
    "## Add the key again to the orderedDict\n",
    "od1['Ravi'] = 'IT'\n",
    "od1"
   ]
  },
  {
   "cell_type": "markdown",
   "id": "dc7b423e",
   "metadata": {},
   "source": [
    "* move_to_end() moves the key to end of the ordered Dictionary"
   ]
  },
  {
   "cell_type": "code",
   "execution_count": 93,
   "id": "be9509e9",
   "metadata": {},
   "outputs": [],
   "source": [
    "od1.move_to_end('Surya')"
   ]
  },
  {
   "cell_type": "code",
   "execution_count": 94,
   "id": "1e29308a",
   "metadata": {},
   "outputs": [
    {
     "data": {
      "text/plain": [
       "OrderedDict([('Kiran', 'IT'), ('Ravi', 'IT'), ('Surya', 'CSE')])"
      ]
     },
     "execution_count": 94,
     "metadata": {},
     "output_type": "execute_result"
    }
   ],
   "source": [
    "od1"
   ]
  },
  {
   "cell_type": "markdown",
   "id": "36c30d6b",
   "metadata": {},
   "source": [
    "####  Defaultdict\n",
    "* Whenever missing keys/values are encountered then no error can be thrown with Defaultdict. It takes a deafult factory such that when key is not present it returns that object"
   ]
  },
  {
   "cell_type": "code",
   "execution_count": 97,
   "id": "48e2a569",
   "metadata": {},
   "outputs": [],
   "source": [
    "## How to use it \n",
    "from collections import defaultdict"
   ]
  },
  {
   "cell_type": "code",
   "execution_count": 98,
   "id": "5663439f",
   "metadata": {},
   "outputs": [],
   "source": [
    "dd1 = defaultdict(str)"
   ]
  },
  {
   "cell_type": "code",
   "execution_count": 101,
   "id": "9046be9f",
   "metadata": {},
   "outputs": [
    {
     "name": "stdout",
     "output_type": "stream",
     "text": [
      "Student name is Kiran and dept name is IT\n",
      "Student name is Ravi and dept name is IT\n",
      "Student name is Surya and dept name is CSE\n",
      "Student name is Mitra and dept name is IT\n"
     ]
    }
   ],
   "source": [
    "stdDepts  = [('Kiran', 'IT'), ('Ravi', 'IT'), ('Surya', 'CSE'),('Mitra','IT')]\n",
    "for student,dept in stdDepts:\n",
    "    print(f'Student name is {student} and dept name is {dept}')\n",
    "    dd1[student]=dept"
   ]
  },
  {
   "cell_type": "code",
   "execution_count": 102,
   "id": "6fa121e8",
   "metadata": {},
   "outputs": [
    {
     "data": {
      "text/plain": [
       "defaultdict(str, {'Kiran': 'IT', 'Ravi': 'IT', 'Surya': 'CSE', 'Mitra': 'IT'})"
      ]
     },
     "execution_count": 102,
     "metadata": {},
     "output_type": "execute_result"
    }
   ],
   "source": [
    "dd1"
   ]
  },
  {
   "cell_type": "markdown",
   "id": "ff50660e",
   "metadata": {},
   "source": [
    "Lets try to retrieve the values from the dictionary - if the key is not present it returns a defualt string value\n",
    "\n"
   ]
  },
  {
   "cell_type": "code",
   "execution_count": 106,
   "id": "f92b72c2",
   "metadata": {},
   "outputs": [
    {
     "data": {
      "text/plain": [
       "'IT'"
      ]
     },
     "execution_count": 106,
     "metadata": {},
     "output_type": "execute_result"
    }
   ],
   "source": [
    "dd1.get('Kiran')"
   ]
  },
  {
   "cell_type": "code",
   "execution_count": 107,
   "id": "ee007ebc",
   "metadata": {},
   "outputs": [
    {
     "data": {
      "text/plain": [
       "''"
      ]
     },
     "execution_count": 107,
     "metadata": {},
     "output_type": "execute_result"
    }
   ],
   "source": [
    "# If the value is not present it returns a empty string value\n",
    "dd1['Mayanak']"
   ]
  },
  {
   "cell_type": "code",
   "execution_count": null,
   "id": "e73d62b9",
   "metadata": {},
   "outputs": [],
   "source": []
  }
 ],
 "metadata": {
  "kernelspec": {
   "display_name": "Python 3 (ipykernel)",
   "language": "python",
   "name": "python3"
  },
  "language_info": {
   "codemirror_mode": {
    "name": "ipython",
    "version": 3
   },
   "file_extension": ".py",
   "mimetype": "text/x-python",
   "name": "python",
   "nbconvert_exporter": "python",
   "pygments_lexer": "ipython3",
   "version": "3.10.10"
  }
 },
 "nbformat": 4,
 "nbformat_minor": 5
}
