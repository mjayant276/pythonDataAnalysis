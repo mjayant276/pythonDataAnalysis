{
 "cells": [
  {
   "cell_type": "markdown",
   "id": "954186ff",
   "metadata": {},
   "source": [
    "**Q** Find the sum of all multiples of 3 or 5 below the the given input. If the input given is negative it should output zero. </br>\n",
    "  - Example :\n",
    "    - Given input is 10 - multiples of 3 or 5 below 10 are 3,5,6,9 and sum - 23 </br>\n",
    "    - Given input is 35 - output is 0 </br>"
   ]
  },
  {
   "cell_type": "code",
   "execution_count": null,
   "id": "dab7c7c9",
   "metadata": {},
   "outputs": [],
   "source": []
  },
  {
   "cell_type": "markdown",
   "id": "23fba2fc",
   "metadata": {},
   "source": [
    "**Q** Write a function that break came case and adds space in between </br>\n",
    "- Example:\n",
    "  - helloWorld -> hello World\n",
    "  - camelCase  -> camel Case  "
   ]
  },
  {
   "cell_type": "code",
   "execution_count": null,
   "id": "4ae9f7de",
   "metadata": {},
   "outputs": [],
   "source": []
  },
  {
   "cell_type": "markdown",
   "id": "9cfa1cb0",
   "metadata": {},
   "source": [
    "**Q** Write a function that takes an list and moves all of the zeros to the end, preserving the order of the other element\n",
    "- Example:\n",
    "    - [1, 0, 1, 2, 0, 1, 3] -> [1,1,2,1,3,0,0]"
   ]
  },
  {
   "cell_type": "code",
   "execution_count": null,
   "id": "4fd131bb",
   "metadata": {},
   "outputs": [],
   "source": []
  },
  {
   "cell_type": "code",
   "execution_count": null,
   "id": "e7ef70d3",
   "metadata": {},
   "outputs": [],
   "source": []
  }
 ],
 "metadata": {
  "kernelspec": {
   "display_name": "Python 3 (ipykernel)",
   "language": "python",
   "name": "python3"
  },
  "language_info": {
   "codemirror_mode": {
    "name": "ipython",
    "version": 3
   },
   "file_extension": ".py",
   "mimetype": "text/x-python",
   "name": "python",
   "nbconvert_exporter": "python",
   "pygments_lexer": "ipython3",
   "version": "3.10.10"
  }
 },
 "nbformat": 4,
 "nbformat_minor": 5
}
