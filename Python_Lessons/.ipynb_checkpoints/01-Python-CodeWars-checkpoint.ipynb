{
 "cells": [
  {
   "cell_type": "markdown",
   "id": "66741b7d",
   "metadata": {},
   "source": [
    "**Q Binary Number** </br>\n",
    " * Write a function that takes an integer as input, and returns the number of bits that are equal to one in \n",
    "   the binary representation of that number. You can guarantee that input is non-negative.\n",
    "\n",
    "   Example: The binary representation of 1234 is 10011010010, so the function should return 5 in this case"
   ]
  },
  {
   "cell_type": "code",
   "execution_count": 13,
   "id": "36a89eab",
   "metadata": {},
   "outputs": [
    {
     "name": "stdout",
     "output_type": "stream",
     "text": [
      "0\n",
      "617\n",
      "1\n",
      "308\n",
      "3\n",
      "1\n",
      "1\n",
      "0b10011010010\n"
     ]
    }
   ],
   "source": [
    "print(1234%2)\n",
    "print(1234//2)\n",
    "print(617%2)\n",
    "print(617//2)\n",
    "print(7//2)\n",
    "print(3//2)\n",
    "print(1%2)\n"
   ]
  },
  {
   "cell_type": "code",
   "execution_count": 23,
   "id": "35b1591f",
   "metadata": {},
   "outputs": [],
   "source": [
    "def count_bits(n):\n",
    "    if n == 1:\n",
    "        return 1\n",
    "    count = 0\n",
    "    while(n >= 1):\n",
    "        rem = n%2\n",
    "        n = n//2\n",
    "        if rem == 1 :\n",
    "            count +=1\n",
    "    return count      "
   ]
  },
  {
   "cell_type": "code",
   "execution_count": 28,
   "id": "e6c4f890",
   "metadata": {},
   "outputs": [],
   "source": [
    "assert count_bits(1234) == 5\n",
    "assert count_bits(0) == 0\n",
    "assert count_bits(4) == 1\n",
    "assert count_bits(7) == 3\n",
    "assert count_bits(9) == 2\n",
    "assert count_bits(10) == 2"
   ]
  },
  {
   "cell_type": "code",
   "execution_count": 29,
   "id": "a861aec7",
   "metadata": {},
   "outputs": [],
   "source": [
    "## alternative way using bin() method\n",
    "def countBits(n):\n",
    "    return bin(n).count(\"1\")"
   ]
  },
  {
   "cell_type": "code",
   "execution_count": 34,
   "id": "8c5ffb32",
   "metadata": {},
   "outputs": [],
   "source": [
    "assert countBits(1234) == 5\n",
    "assert countBits(0)    == 0\n",
    "assert countBits(4)    == 1\n",
    "assert countBits(7)    == 3\n",
    "assert countBits(9)    == 2\n",
    "assert countBits(10)   == 2"
   ]
  },
  {
   "cell_type": "code",
   "execution_count": 35,
   "id": "cba32ed4",
   "metadata": {},
   "outputs": [],
   "source": [
    "def countBits(n):\n",
    "    \"\"\" count_bits == PEP8, forced camelCase by CodeWars \"\"\"\n",
    "    return '{:b}'.format(n).count('1')"
   ]
  },
  {
   "cell_type": "code",
   "execution_count": 36,
   "id": "7a30530c",
   "metadata": {},
   "outputs": [],
   "source": [
    "assert countBits(1234) == 5\n",
    "assert countBits(0)    == 0\n",
    "assert countBits(4)    == 1\n",
    "assert countBits(7)    == 3\n",
    "assert countBits(9)    == 2\n",
    "assert countBits(10)   == 2"
   ]
  },
  {
   "cell_type": "code",
   "execution_count": 37,
   "id": "1c0d8314",
   "metadata": {},
   "outputs": [],
   "source": [
    "def countBits(n):\n",
    "    return bin(n)[2:].count('1')"
   ]
  },
  {
   "cell_type": "code",
   "execution_count": 38,
   "id": "75291bad",
   "metadata": {},
   "outputs": [],
   "source": [
    "def countBits(n):\n",
    "    ret = 0\n",
    "    while n:\n",
    "        ret += n & 1\n",
    "        n >>= 1\n",
    "    return ret\n"
   ]
  },
  {
   "cell_type": "markdown",
   "id": "62e49f2a",
   "metadata": {},
   "source": [
    "**Q Morse Code Basic**\n",
    "* In this kata you have to write a simple Morse code decoder. While the Morse code is \n",
    "  now mostly superseded by voice and digital data communication channels, it still has \n",
    "  its use in some applications around the world.\n",
    "\n",
    "  The Morse code encodes every character as a sequence of \"dots\" and \"dashes\". For example, \n",
    "  the letter A is coded as ·−, letter Q is coded as −−·−, and digit 1 is coded as ·−−−−. \n",
    "  The Morse code is case-insensitive, traditionally capital letters are used. \n",
    "  When the message is written in Morse code, a single space is used to separate the \n",
    "  character codes and 3 spaces are used to separate words. For example, \n",
    "  the message HEY JUDE in Morse code is ···· · −·−−   ·−−− ··− −·· ·.\n",
    "\n",
    "  NOTE: Extra spaces before or after the code have no meaning and should be ignored.\n",
    "\n",
    "  In addition to letters, digits and some punctuation, there are some special service codes, \n",
    "  the most notorious of those is the international distress signal SOS (that was first issued by Titanic), \n",
    "  that is coded as ···−−−···. These special codes are treated as single special characters, \n",
    "  and usually are transmitted as separate words.\n",
    "\n",
    "  Your task is to implement a function that would take the morse code as input and return a decoded human-readable string."
   ]
  },
  {
   "cell_type": "code",
   "execution_count": 39,
   "id": "e7472abf",
   "metadata": {},
   "outputs": [],
   "source": [
    "MORSE_CODE = {\n",
    "    '.-': 'A', '-...': 'B', '-.-.': 'C', '-..': 'D', '.': 'E', '..-.': 'F',\n",
    "    '--.': 'G', '....': 'H', '..': 'I', '.---': 'J', '-.-': 'K', '.-..': 'L',\n",
    "    '--': 'M', '-.': 'N', '---': 'O', '.--.': 'P', '--.-': 'Q', '.-.': 'R',\n",
    "    '...': 'S', '-': 'T', '..-': 'U', '...-': 'V', '.--': 'W', '-..-': 'X',\n",
    "    '-.--': 'Y', '--..': 'Z',\n",
    "\n",
    "    '-----': '0', '.----': '1', '..---': '2', '...--': '3', '....-': '4',\n",
    "    '.....': '5', '-....': '6', '--...': '7', '---..': '8', '----.': '9',\n",
    "\n",
    "    '.-.-.-': '.', '--..--': ',', '..--..': '?', '.----.': \"'\", '-.-.--': '!',\n",
    "    '-..-.': '/', '-.--.': '(', '-.--.-': ')', '.-...': '&', '---...': ':',\n",
    "    '-.-.-.': ';', '-...-': '=', '.-.-.': '+', '-....-': '-', '..--.-': '_',\n",
    "    '.-..-.': '\"', '...-..-': '$', '.--.-.': '@',\n",
    "\n",
    "    '...---...': 'SOS'\n",
    "}\n",
    "\n",
    "\n",
    "def decodeMorse(morse_code):\n",
    "    return ' '.join(\n",
    "        [''.join([MORSE_CODE[letter] for letter in word.split(' ')])\n",
    "         for word in morse_code.strip().split('   ')])"
   ]
  },
  {
   "cell_type": "markdown",
   "id": "8e7d4feb",
   "metadata": {},
   "source": [
    "**Q Moving Bus in the City**\n",
    "\n",
    "*  Description:\n",
    "\n",
    "   There is a bus moving in the city, and it takes and drop some people in each bus stop.\n",
    "\n",
    "   You are provided with a list (or array) of integer pairs. Elements of each pair represent number of people get into bus\n",
    "   (The first item) and number of people get off the bus (The second item) in a bus stop.\n",
    "\n",
    "   Your task is to return number of people who are still in the bus after the last bus station (after the last array).\n",
    "   Even though it is the last bus stop, the bus is not empty and some people are still in the bus, and they are probably \n",
    "   sleeping there :D\n",
    "\n",
    "   Take a look on the test cases.\n",
    "\n",
    "   Please keep in mind that the test cases ensure that the number of people in the bus is always >= 0. So the return \n",
    "   integer can't be negative.\n",
    "\n",
    "   The second value in the first integer array is 0, since the bus is empty in the first bus stop.\n",
    "\n"
   ]
  },
  {
   "cell_type": "code",
   "execution_count": 40,
   "id": "b95c252f",
   "metadata": {},
   "outputs": [],
   "source": [
    "def number(bus_stops):\n",
    "    return sum([stop[0] - stop[1] for stop in bus_stops])\n",
    "        "
   ]
  },
  {
   "cell_type": "markdown",
   "id": "f430b299",
   "metadata": {},
   "source": [
    "**Q Ones and Zeros**\n",
    "* Description:\n",
    "\n",
    "  Given an array of ones and zeroes, convert the equivalent binary value to an integer.\n",
    "\n",
    "  Eg: [0, 0, 0, 1] is treated as 0001 which is the binary representation of 1."
   ]
  },
  {
   "cell_type": "code",
   "execution_count": 50,
   "id": "4db00fdd",
   "metadata": {},
   "outputs": [],
   "source": [
    "def binary_array_to_number(arr):\n",
    "    return sum([pow(2,(len(arr)-1 - ind))*num for ind,num in enumerate(arr)]) "
   ]
  },
  {
   "cell_type": "code",
   "execution_count": 51,
   "id": "aabc6425",
   "metadata": {},
   "outputs": [],
   "source": [
    "assert binary_array_to_number([0,0,0,1]) == 1\n",
    "assert binary_array_to_number([0,0,1,0]) == 2\n",
    "assert binary_array_to_number([1,1,1,1]) == 15\n",
    "assert binary_array_to_number([0,1,1,0]) == 6"
   ]
  },
  {
   "cell_type": "code",
   "execution_count": 59,
   "id": "ec7c7f27",
   "metadata": {},
   "outputs": [],
   "source": [
    "## Alternate solution \n",
    "def binary_array_to_number(arr):\n",
    "    return int(\"\".join(map(str,arr)),2)"
   ]
  },
  {
   "cell_type": "code",
   "execution_count": 61,
   "id": "632d5a2b",
   "metadata": {},
   "outputs": [],
   "source": [
    "assert binary_array_to_number([0,0,0,1]) == 1\n",
    "assert binary_array_to_number([0,0,1,0]) == 2\n",
    "assert binary_array_to_number([1,1,1,1]) == 15\n",
    "assert binary_array_to_number([0,1,1,0]) == 6"
   ]
  },
  {
   "cell_type": "markdown",
   "id": "34959b53",
   "metadata": {},
   "source": [
    "**Q Multiples of 3 or 5**\n",
    "* Description:\n",
    "\n",
    "  If we list all the natural numbers below 10 that are multiples of 3 or 5, we get 3, 5, 6 and 9. The sum of thesemultiples is 23.\n",
    "\n",
    "  Finish the solution so that it returns the sum of all the multiples of 3 or 5 below the number passed in. Additionally, if the number is negative, return 0 (for languages that do have them).\n",
    "\n",
    "  Note: If the number is a multiple of both 3 and 5, only count it once."
   ]
  },
  {
   "cell_type": "code",
   "execution_count": 65,
   "id": "e2041704",
   "metadata": {},
   "outputs": [],
   "source": [
    "def solution(number):\n",
    "    if number < 0:\n",
    "        return 0\n",
    "    return sum([num for num in range(number) if (num%3 == 0 or num%5 == 0)])    "
   ]
  },
  {
   "cell_type": "code",
   "execution_count": 68,
   "id": "a66bf0b1",
   "metadata": {},
   "outputs": [],
   "source": [
    "assert solution(15) == 45\n",
    "assert solution(-1) == 0\n",
    "assert solution(10) == 23"
   ]
  },
  {
   "cell_type": "markdown",
   "id": "14566c4e",
   "metadata": {},
   "source": [
    "**Q Break camelCase** \n",
    " * Description:\n",
    "\n",
    "   Complete the solution so that the function will break up camel casing, using a space between words."
   ]
  },
  {
   "cell_type": "code",
   "execution_count": 75,
   "id": "9f0ef7ad",
   "metadata": {},
   "outputs": [],
   "source": [
    "def solution(s):\n",
    "    return \"\".join([\" \"+i if i.isupper() else i for i in s ])"
   ]
  },
  {
   "cell_type": "code",
   "execution_count": 77,
   "id": "0d456d06",
   "metadata": {},
   "outputs": [],
   "source": [
    "solution('helloWorld')\n",
    "assert solution(\"helloWorld\") == \"hello World\"\n",
    "assert solution(\"camelCase\")  == \"camel Case\"\n",
    "assert solution(\"breakCamelCase\") == \"break Camel Case\""
   ]
  },
  {
   "cell_type": "markdown",
   "id": "e4e4a5ff",
   "metadata": {},
   "source": [
    "**Q Moving Zeros to the end**\n",
    "\n",
    "* Description:\n",
    "\n",
    "  Write an algorithm that takes an array and moves all of the zeros to the end, preserving the order of the other elements.\n",
    "\n",
    "  move_zeros([1, 0, 1, 2, 0, 1, 3])"
   ]
  },
  {
   "cell_type": "code",
   "execution_count": 78,
   "id": "9396ce1e",
   "metadata": {},
   "outputs": [],
   "source": [
    "def move_zeros(lst):\n",
    "    for i in lst:\n",
    "        if 0 == i:\n",
    "            lst.remove(i)\n",
    "            lst.append(0)\n",
    "        \n",
    "    return lst"
   ]
  },
  {
   "cell_type": "code",
   "execution_count": 80,
   "id": "c8ce8161",
   "metadata": {},
   "outputs": [
    {
     "name": "stdout",
     "output_type": "stream",
     "text": [
      "[1, 2, 1, 1, 3, 1, 0, 0, 0, 0]\n",
      "[1, 2, 1, 1, 3, 1, 0, 0, 0, 0]\n",
      "[9, 9, 1, 2, 1, 1, 3, 1, 9, 9, 0, 0, 0, 0, 0, 0, 0, 0, 0, 0]\n",
      "[9, 9, 1, 2, 1, 1, 3, 1, 9, 9, 0, 0, 0, 0, 0, 0, 0, 0, 0, 0]\n"
     ]
    }
   ],
   "source": [
    "print(move_zeros([1, 2, 0, 1, 0, 1, 0, 3, 0, 1]))\n",
    "print(move_zeros([1, 2, 1, 1, 3, 1, 0, 0, 0, 0]))\n",
    "print(move_zeros([9, 0, 0, 9, 1, 2, 0, 1, 0, 1, 0, 3, 0, 1, 9, 0, 0, 0, 0, 9]))\n",
    "print(move_zeros([9, 9, 1, 2, 1, 1, 3, 1, 9, 9, 0, 0, 0, 0, 0, 0, 0, 0, 0, 0]))"
   ]
  },
  {
   "cell_type": "code",
   "execution_count": 81,
   "id": "7f4f69d5",
   "metadata": {},
   "outputs": [],
   "source": [
    "def move_zeros(lst):\n",
    "    l = [i for i in arr if isinstance(i,bool) or i!= 0]\n",
    "    return l+[0]*(len(arr)-len(l))"
   ]
  },
  {
   "cell_type": "markdown",
   "id": "5b306dd3",
   "metadata": {},
   "source": [
    "**Q Build Tower**\n",
    " \n",
    " * Description:\n",
    "\n",
    "   Build Tower\n",
    "\n",
    "   Build a pyramid-shaped tower, as an array/list of strings, given a positive integer \n",
    "   number of floors. A tower block is represented with \"*\" character.\n",
    "   \n",
    "  [\n",
    "  \"  *  \",\n",
    "  \" *** \", \n",
    "  \"*****\"\n",
    " ]"
   ]
  },
  {
   "cell_type": "code",
   "execution_count": 153,
   "id": "4f1e745c",
   "metadata": {},
   "outputs": [
    {
     "data": {
      "text/plain": [
       "0"
      ]
     },
     "execution_count": 153,
     "metadata": {},
     "output_type": "execute_result"
    }
   ],
   "source": [
    "(5-5)//2"
   ]
  },
  {
   "cell_type": "code",
   "execution_count": 165,
   "id": "2e615793",
   "metadata": {},
   "outputs": [],
   "source": [
    "def tower_builder(n_floors):\n",
    "    ls = []\n",
    "    if n_floors > 0:\n",
    "        tlen = 2*n_floors + 1\n",
    "        for i in range(1,tlen,2):\n",
    "            spaces = ((tlen-2) - i)//2\n",
    "            str1 = spaces*' ' +'*'*i + spaces*' '\n",
    "            ls.append(str1)\n",
    "    return ls        "
   ]
  },
  {
   "cell_type": "code",
   "execution_count": 166,
   "id": "1fa142bf",
   "metadata": {},
   "outputs": [],
   "source": [
    "assert tower_builder(2) == [' * ', '***']\n",
    "assert tower_builder(3) == ['  *  ', ' *** ', '*****']"
   ]
  },
  {
   "cell_type": "code",
   "execution_count": 167,
   "id": "e0cf9af7",
   "metadata": {},
   "outputs": [],
   "source": [
    "## Alternatively \n",
    "def tower_builder(n):\n",
    "    return [\" \" * (n - i - 1) + \"*\" * (2*i + 1) + \" \" * (n - i - 1) for i in range(n)]"
   ]
  },
  {
   "cell_type": "markdown",
   "id": "eadf7bf8",
   "metadata": {},
   "source": [
    "**Q Extract the domain name from a URL**\n",
    "* Description:\n",
    "\n",
    "  Write a function that when given a URL as a string, parses out just the domain name and returns it as a string. For \n",
    "  example:"
   ]
  },
  {
   "cell_type": "code",
   "execution_count": null,
   "id": "31d51f1f",
   "metadata": {},
   "outputs": [],
   "source": [
    "## --> 'http://google.com'\n",
    "## --> 'http://google.co.in'\n",
    "## --> 'www.xakep.ru'\n",
    "## --> 'https://youtube.com' \n"
   ]
  },
  {
   "cell_type": "code",
   "execution_count": 1,
   "id": "87334768",
   "metadata": {},
   "outputs": [],
   "source": [
    "import re\n",
    "def domain_name(url):\n",
    "    return re.search('(https?://)?(www\\d?\\.)?(?P<name>[\\w-]+)\\.', url).group('name')"
   ]
  },
  {
   "cell_type": "code",
   "execution_count": 2,
   "id": "06288f1d",
   "metadata": {},
   "outputs": [],
   "source": [
    "assert domain_name(\"http://google.com\") == \"google\"\n",
    "assert domain_name(\"http://google.co.jp\") == \"google\"\n",
    "assert domain_name(\"www.xakep.ru\") == \"xakep\"\n",
    "assert domain_name(\"https://youtube.com\") == \"youtube\""
   ]
  },
  {
   "cell_type": "markdown",
   "id": "e114774a",
   "metadata": {},
   "source": [
    "**Q Convert string to camel case**\n",
    "* Complete the method/function so that it converts dash/underscore delimited words into camel casing. \n",
    "  The first word within the output should be capitalized only if the original word was capitalized \n",
    "  (known as Upper Camel Case, also often referred to as Pascal case). \n",
    "  The next words should be always capitalized."
   ]
  },
  {
   "cell_type": "code",
   "execution_count": 13,
   "id": "e59abad2",
   "metadata": {},
   "outputs": [],
   "source": [
    "import re\n",
    "def to_camel_case(text):\n",
    "    res = re.split('_|-', text)\n",
    "    for i in range(len(res)):\n",
    "        if i != 0:\n",
    "            text += res[i][:1].upper() + res[i][1:]\n",
    "        else:\n",
    "            text = res[i]\n",
    "    return text"
   ]
  },
  {
   "cell_type": "code",
   "execution_count": 14,
   "id": "4ec56932",
   "metadata": {},
   "outputs": [
    {
     "name": "stdout",
     "output_type": "stream",
     "text": [
      "theStealthWarrior\n",
      "ABC\n"
     ]
    }
   ],
   "source": [
    "print(to_camel_case(\"the_stealth_warrior\"))\n",
    "print(to_camel_case(\"A-B-C\"))"
   ]
  },
  {
   "cell_type": "code",
   "execution_count": 15,
   "id": "d1b6f5fe",
   "metadata": {},
   "outputs": [],
   "source": [
    "def to_camel_case(text):\n",
    "    removed = text.replace('-', ' ').replace('_', ' ').split()\n",
    "    if len(removed) == 0:\n",
    "        return ''\n",
    "    return removed[0]+ ''.join([x.capitalize() for x in removed[1:]])"
   ]
  },
  {
   "cell_type": "code",
   "execution_count": null,
   "id": "bcca5066",
   "metadata": {},
   "outputs": [],
   "source": [
    "to_camel_case()"
   ]
  },
  {
   "cell_type": "markdown",
   "id": "2881ff70",
   "metadata": {},
   "source": [
    "**Q Maximum subarray sum** (kadanes Algorithm)\n",
    "* Description:\n",
    "\n",
    "  The maximum sum subarray problem consists in finding the maximum sum of a contiguous subsequence in an array or list of integers:"
   ]
  },
  {
   "cell_type": "code",
   "execution_count": 22,
   "id": "61c3fc69",
   "metadata": {},
   "outputs": [],
   "source": [
    "import math\n",
    "def max_sequence(arr):\n",
    "    if len(arr) == 0:\n",
    "        return 0\n",
    "    if max(arr) < 0:\n",
    "        return 0\n",
    "    maxSum = -math.inf\n",
    "    max_ = 0\n",
    "    startInd,stopInd = 0,0\n",
    "    for index, i in enumerate(arr):\n",
    "        max_ += i\n",
    "        if max_ < 0:\n",
    "            max_ = 0\n",
    "            startInd = index + 1\n",
    "        else:\n",
    "            if maxSum > max_:\n",
    "                continue\n",
    "            else:\n",
    "                maxSum = max_\n",
    "                stopInd = index\n",
    "    return maxSum"
   ]
  },
  {
   "cell_type": "code",
   "execution_count": 28,
   "id": "a20bcad6",
   "metadata": {},
   "outputs": [],
   "source": [
    "### Alternate Solution\n",
    "def max_sequence(arr):\n",
    "    subarrSum = 0\n",
    "    totalSum = 0\n",
    "    for i in range(len(arr)):\n",
    "        totalSum = max(0,totalSum + arr[i])\n",
    "        subarrSum = max(totalSum, subarrSum)\n",
    "    return subarrSum    "
   ]
  },
  {
   "cell_type": "code",
   "execution_count": 29,
   "id": "b23626be",
   "metadata": {},
   "outputs": [
    {
     "data": {
      "text/plain": [
       "6"
      ]
     },
     "execution_count": 29,
     "metadata": {},
     "output_type": "execute_result"
    }
   ],
   "source": [
    "max_sequence([-2, 1, -3, 4, -1, 2, 1, -5, 4])"
   ]
  },
  {
   "cell_type": "code",
   "execution_count": 33,
   "id": "4785af50",
   "metadata": {},
   "outputs": [],
   "source": [
    "### Alternate Solution:\n",
    "def max_sequence(arr):\n",
    "    maxSum,currSum=0,0\n",
    "    for n in arr:\n",
    "        currSum +=n\n",
    "        if currSum<0:\n",
    "            currSum =0\n",
    "        if currSum >maxSum:\n",
    "            maxSum=currSum \n",
    "    return maxSum"
   ]
  },
  {
   "cell_type": "code",
   "execution_count": 34,
   "id": "cf6ccfea",
   "metadata": {},
   "outputs": [
    {
     "data": {
      "text/plain": [
       "6"
      ]
     },
     "execution_count": 34,
     "metadata": {},
     "output_type": "execute_result"
    }
   ],
   "source": [
    "max_sequence([-2, 1, -3, 4, -1, 2, 1, -5, 4])"
   ]
  },
  {
   "cell_type": "markdown",
   "id": "10606169",
   "metadata": {},
   "source": [
    "**The Supermarket Queue** \n",
    "* Description </br>\n",
    "  There is a queue for the self-checkout tills at the supermarket. Your task is write a function to calculate the total \n",
    "  time required for all the customers to check out!\n",
    "  \n",
    "  input\n",
    "\n",
    "  customers: an array of positive integers representing the queue. Each integer represents a customer, and its value is \n",
    "  the amount of time they require to check out.\n",
    "  \n",
    "  n: a positive integer, the number of checkout tills.\n",
    "\n",
    "  output\n",
    "\n",
    "  The function should return an integer, the total time required"
   ]
  },
  {
   "cell_type": "code",
   "execution_count": 41,
   "id": "0376b15e",
   "metadata": {},
   "outputs": [],
   "source": [
    "def queue_time(customers, n):\n",
    "    # TODO\n",
    "    timeArr = [0]*n    \n",
    "    for cust in customers:\n",
    "        minValu = min(timeArr)\n",
    "        minInd = timeArr.index(minValu)\n",
    "        timeArr[minInd] += cust\n",
    "    return max(timeArr)      "
   ]
  },
  {
   "cell_type": "code",
   "execution_count": 42,
   "id": "8e13ed1f",
   "metadata": {},
   "outputs": [
    {
     "name": "stdout",
     "output_type": "stream",
     "text": [
      "15\n",
      "5\n",
      "9\n"
     ]
    }
   ],
   "source": [
    "print(queue_time([1,2,3,4,5], 1))\n",
    "print(queue_time([1,2,3,4,5], 100))\n",
    "print(queue_time([2,2,3,3,4,4], 2))"
   ]
  },
  {
   "cell_type": "code",
   "execution_count": 44,
   "id": "f385d5f7",
   "metadata": {},
   "outputs": [],
   "source": [
    "## same written in a short code\n",
    "def queue_time(customers, n):\n",
    "    timeArr = [0]*n    \n",
    "    for cust in customers:\n",
    "        timeArr[timeArr.index(min(timeArr))] += cust\n",
    "    return max(timeArr) "
   ]
  },
  {
   "cell_type": "markdown",
   "id": "15107a9b",
   "metadata": {},
   "source": [
    "**Q Memoized Fibonacci** </br>\n",
    " * The Fibonacci sequence is traditionally used to explain tree recursion.\n",
    "    def fibonacci(n):\n",
    "        if n in [0, 1]:\n",
    "            return n\n",
    "        return fibonacci(n - 1) + fibonacci(n - 2)\n",
    "    This algorithm serves welll its educative purpose but it's tremendously inefficient,\n",
    "    not only because of recursion, but because we invoke the fibonacci function twice,\n",
    "    and the right branch of recursion (i.e. fibonacci(n-2))\n",
    "    recalculates all the Fibonacci numbers already calculated by\n",
    "    the left branch (i.e. fibonacci(n-1)).\n",
    "    This algorithm is so inefficient that the time to calculate\n",
    "    any Fibonacci number over 50 is simply too much.\n",
    "    You may go for a cup of coffee or go take a nap while you wait for the answer.\n",
    "    But if you try it here in Code Wars you will most likely get a code timeout before any answers\n",
    "    \n",
    "    For this particular Kata we want to implement the memoization solution.\n",
    "    This will be cool because it will let us keep using the tree recursion algorithm\n",
    "    while still keeping it sufficiently optimized to get an answer very rapidly.\n",
    "    The trick of the memoized version is that we will keep a cache data structure\n",
    "    (most likely an associative array) where we will store\n",
    "    the Fibonacci numbers as we calculate them.\n",
    "    When a Fibonacci number is calculated, we first look it up in the cache,\n",
    "    if it's not there, we calculate it and put it in the cache,\n",
    "    otherwise we returned the cached number.\n",
    "    Refactor the function into a recursive Fibonacci function\n",
    "    that using a memoized data structure avoids the deficiencies of tree recursion\n",
    "    Can you make it so the memoization cache is private to this function?"
   ]
  },
  {
   "cell_type": "code",
   "execution_count": 32,
   "id": "c0b98039",
   "metadata": {},
   "outputs": [],
   "source": [
    "from functools import lru_cache\n",
    "@lru_cache(maxsize=None)\n",
    "def fibonacci(n):\n",
    "    if n in [0, 1]:\n",
    "            return n\n",
    "    return fibonacci(n - 1) + fibonacci(n - 2)"
   ]
  },
  {
   "cell_type": "code",
   "execution_count": 33,
   "id": "3ad730ab",
   "metadata": {},
   "outputs": [],
   "source": [
    "from functools import lru_cache\n",
    "@lru_cache(maxsize=None)\n",
    "def fibonacci(n):\n",
    "    arr = [None]*(n+1)\n",
    "    arr[0]=0\n",
    "    arr[1]=1\n",
    "    for i in range(2,n+1):\n",
    "        arr[i] = arr[i - 1] + arr[i - 2]\n",
    "    return arr[n] "
   ]
  },
  {
   "cell_type": "code",
   "execution_count": 34,
   "id": "345a680f",
   "metadata": {},
   "outputs": [
    {
     "data": {
      "text/plain": [
       "55"
      ]
     },
     "execution_count": 34,
     "metadata": {},
     "output_type": "execute_result"
    }
   ],
   "source": [
    "fibonacci(10)"
   ]
  },
  {
   "cell_type": "code",
   "execution_count": 35,
   "id": "c0791d55",
   "metadata": {},
   "outputs": [],
   "source": [
    "def fibonacci(n):\n",
    "    if n == 0:\n",
    "        return 0\n",
    "\n",
    "    fib1, fib2 = 0, 1\n",
    "    for i in range(2, n + 1):\n",
    "        fib1, fib2 = fib2, fib1 + fib2\n",
    "\n",
    "    return fib2 "
   ]
  },
  {
   "cell_type": "code",
   "execution_count": 36,
   "id": "0312f5f7",
   "metadata": {},
   "outputs": [],
   "source": [
    "from functools import lru_cache\n",
    "@lru_cache(maxsize=None)\n",
    "def fibonacci_03(n):\n",
    "        \"\"\"\n",
    "        for-loop, list to memorize\n",
    "        \"\"\"\n",
    "        cache = [0, 1]\n",
    "\n",
    "        for i in range(2, n + 1):\n",
    "            cache.append(cache[i - 1] + cache[i - 2])\n",
    "\n",
    "        return cache[n]"
   ]
  },
  {
   "cell_type": "code",
   "execution_count": 37,
   "id": "ca7f52b3",
   "metadata": {},
   "outputs": [
    {
     "data": {
      "text/plain": [
       "55"
      ]
     },
     "execution_count": 37,
     "metadata": {},
     "output_type": "execute_result"
    }
   ],
   "source": [
    "fibonacci_03(10)"
   ]
  },
  {
   "cell_type": "markdown",
   "id": "ffe8336e",
   "metadata": {},
   "source": [
    "**Q First non-repeating character**\n",
    "\n",
    "* Description:\n",
    "\n",
    "  Write a function named first_non_repeating_letter that takes a string input, and returns the first character that is not \n",
    "  repeated anywhere in the string.\n",
    "\n",
    "  For example, if given the input 'stress', the function should return 't', since the letter t only occurs once in the \n",
    "  string, and occurs first in the string.\n",
    "\n",
    "  As an added challenge, upper- and lowercase letters are considered the same character, but the function should return the \n",
    "  correct case for the initial letter. For example, the input 'sTreSS' should return 'T'.\n",
    "\n",
    "  If a string contains all repeating characters, it should return an empty string (\"\") or None -- see sample tests."
   ]
  },
  {
   "cell_type": "code",
   "execution_count": 93,
   "id": "95b5266f",
   "metadata": {},
   "outputs": [],
   "source": [
    "from collections import OrderedDict\n",
    "def first_non_repeating_letter(string):\n",
    "    countKey = OrderedDict()\n",
    "    for letter in string.lower():\n",
    "        countKey[letter] = countKey.get(letter,0) + 1\n",
    "    for key,value in countKey.items():\n",
    "        if value == 1:\n",
    "            if key in string:\n",
    "                return key\n",
    "            else:\n",
    "                return key.upper()\n",
    "    return ''    "
   ]
  },
  {
   "cell_type": "code",
   "execution_count": null,
   "id": "5c7eb11a",
   "metadata": {},
   "outputs": [],
   "source": []
  },
  {
   "cell_type": "code",
   "execution_count": 94,
   "id": "666cd69c",
   "metadata": {},
   "outputs": [
    {
     "data": {
      "text/plain": [
       "'a'"
      ]
     },
     "execution_count": 94,
     "metadata": {},
     "output_type": "execute_result"
    }
   ],
   "source": [
    "first_non_repeating_letter('a')"
   ]
  },
  {
   "cell_type": "code",
   "execution_count": 95,
   "id": "163adfee",
   "metadata": {},
   "outputs": [
    {
     "data": {
      "text/plain": [
       "'t'"
      ]
     },
     "execution_count": 95,
     "metadata": {},
     "output_type": "execute_result"
    }
   ],
   "source": [
    "first_non_repeating_letter('stress')"
   ]
  },
  {
   "cell_type": "code",
   "execution_count": 96,
   "id": "f696cb5a",
   "metadata": {},
   "outputs": [
    {
     "data": {
      "text/plain": [
       "'e'"
      ]
     },
     "execution_count": 96,
     "metadata": {},
     "output_type": "execute_result"
    }
   ],
   "source": [
    "first_non_repeating_letter('moonmen')"
   ]
  },
  {
   "cell_type": "code",
   "execution_count": 97,
   "id": "f4fb292c",
   "metadata": {},
   "outputs": [
    {
     "data": {
      "text/plain": [
       "''"
      ]
     },
     "execution_count": 97,
     "metadata": {},
     "output_type": "execute_result"
    }
   ],
   "source": [
    "first_non_repeating_letter('')"
   ]
  },
  {
   "cell_type": "code",
   "execution_count": 98,
   "id": "7d824564",
   "metadata": {},
   "outputs": [
    {
     "data": {
      "text/plain": [
       "''"
      ]
     },
     "execution_count": 98,
     "metadata": {},
     "output_type": "execute_result"
    }
   ],
   "source": [
    "first_non_repeating_letter('abba')"
   ]
  },
  {
   "cell_type": "code",
   "execution_count": 99,
   "id": "15f4fa3d",
   "metadata": {},
   "outputs": [
    {
     "data": {
      "text/plain": [
       "''"
      ]
     },
     "execution_count": 99,
     "metadata": {},
     "output_type": "execute_result"
    }
   ],
   "source": [
    "first_non_repeating_letter('aa')"
   ]
  },
  {
   "cell_type": "code",
   "execution_count": 100,
   "id": "a0d4b3d5",
   "metadata": {},
   "outputs": [
    {
     "data": {
      "text/plain": [
       "'#'"
      ]
     },
     "execution_count": 100,
     "metadata": {},
     "output_type": "execute_result"
    }
   ],
   "source": [
    "first_non_repeating_letter('~><#~><')"
   ]
  },
  {
   "cell_type": "code",
   "execution_count": 101,
   "id": "e8597268",
   "metadata": {},
   "outputs": [
    {
     "data": {
      "text/plain": [
       "'w'"
      ]
     },
     "execution_count": 101,
     "metadata": {},
     "output_type": "execute_result"
    }
   ],
   "source": [
    "first_non_repeating_letter('hello world, eh?')"
   ]
  },
  {
   "cell_type": "code",
   "execution_count": 102,
   "id": "53f59453",
   "metadata": {},
   "outputs": [
    {
     "data": {
      "text/plain": [
       "'T'"
      ]
     },
     "execution_count": 102,
     "metadata": {},
     "output_type": "execute_result"
    }
   ],
   "source": [
    "first_non_repeating_letter('sTreSS')"
   ]
  },
  {
   "cell_type": "code",
   "execution_count": 103,
   "id": "5481971a",
   "metadata": {},
   "outputs": [
    {
     "data": {
      "text/plain": [
       "','"
      ]
     },
     "execution_count": 103,
     "metadata": {},
     "output_type": "execute_result"
    }
   ],
   "source": [
    "first_non_repeating_letter('Go hang a salami, I\\'m a lasagna hog!')"
   ]
  },
  {
   "cell_type": "code",
   "execution_count": 104,
   "id": "7342cad7",
   "metadata": {},
   "outputs": [],
   "source": [
    "### Alternative solution\n",
    "def first_non_repeating_letter(string):\n",
    "    string_lower = string.lower()\n",
    "    for ind,letter in enumerate(string_lower):\n",
    "        if string_lower.count(letter) == 1:\n",
    "            return string[ind]\n",
    "    return ''    "
   ]
  },
  {
   "cell_type": "code",
   "execution_count": 105,
   "id": "5f730423",
   "metadata": {},
   "outputs": [
    {
     "data": {
      "text/plain": [
       "'T'"
      ]
     },
     "execution_count": 105,
     "metadata": {},
     "output_type": "execute_result"
    }
   ],
   "source": [
    "first_non_repeating_letter('sTreSS')"
   ]
  },
  {
   "cell_type": "code",
   "execution_count": 106,
   "id": "bc2570e2",
   "metadata": {},
   "outputs": [],
   "source": [
    "assert first_non_repeating_letter('Go hang a salami, I\\'m a lasagna hog!') == ','\n",
    "assert first_non_repeating_letter('sTreSS') == 'T'"
   ]
  },
  {
   "cell_type": "code",
   "execution_count": 107,
   "id": "258be443",
   "metadata": {},
   "outputs": [],
   "source": [
    "from collections import Counter\n",
    "def first_non_repeating_letter(string):\n",
    "    cnt = Counter(string.lower())\n",
    "    for letter in string:\n",
    "        if cnt[letter.lower()] == 1:\n",
    "            return letter\n",
    "    return ''"
   ]
  },
  {
   "cell_type": "code",
   "execution_count": 108,
   "id": "6230954a",
   "metadata": {},
   "outputs": [],
   "source": [
    "assert first_non_repeating_letter('Go hang a salami, I\\'m a lasagna hog!') == ','\n",
    "assert first_non_repeating_letter('sTreSS') == 'T'"
   ]
  },
  {
   "cell_type": "markdown",
   "id": "b7556d96",
   "metadata": {},
   "source": [
    "**Q Primes in numbers** </br>\n",
    "* Description: </br>\n",
    "  Given a positive number n > 1 find the prime factor decomposition of n. \n",
    "  The result will be a string with the following form :"
   ]
  },
  {
   "cell_type": "code",
   "execution_count": 109,
   "id": "cd546e59",
   "metadata": {},
   "outputs": [],
   "source": [
    "def primeFactors(n):\n",
    "    i, j, p = 2, 0, []\n",
    "    while n > 1:\n",
    "        while n % i == 0: n, j = n / i, j + 1\n",
    "        if j > 0: p.append([i,j])\n",
    "        i, j = i + 1, 0\n",
    "    return ''.join('(%d' %q[0] + ('**%d' %q[1]) * (q[1] > 1) + ')' for q in p)"
   ]
  },
  {
   "cell_type": "code",
   "execution_count": 115,
   "id": "f1fabd58",
   "metadata": {},
   "outputs": [
    {
     "name": "stdout",
     "output_type": "stream",
     "text": [
      "(2**2)(3**3)(5)(7)(11**2)(17)\n",
      "(7919)\n"
     ]
    }
   ],
   "source": [
    "print(primeFactors(7775460))\n",
    "print(primeFactors(7919))"
   ]
  },
  {
   "cell_type": "code",
   "execution_count": 110,
   "id": "ccc2d076",
   "metadata": {},
   "outputs": [],
   "source": [
    "def primeFactors(n):\n",
    "    i = 2\n",
    "    r = ''\n",
    "    while n != 1:\n",
    "        k = 0\n",
    "        while n%i == 0:\n",
    "            n = n / i\n",
    "            k += 1\n",
    "        if k == 1:\n",
    "            r = r + '(' + str(i) + ')'\n",
    "        elif k == 0: pass\n",
    "        else:\n",
    "            r = r + '(' + str(i) + '**' + str(k) + ')'\n",
    "        i += 1\n",
    "        \n",
    "    return r\n",
    "        \n",
    "        "
   ]
  },
  {
   "cell_type": "code",
   "execution_count": 114,
   "id": "7e2e2d41",
   "metadata": {},
   "outputs": [
    {
     "name": "stdout",
     "output_type": "stream",
     "text": [
      "(2**2)(3**3)(5)(7)(11**2)(17)\n",
      "(7919)\n"
     ]
    }
   ],
   "source": [
    "print(primeFactors(7775460))\n",
    "print(primeFactors(7919))"
   ]
  },
  {
   "cell_type": "markdown",
   "id": "1a59624c",
   "metadata": {},
   "source": [
    "**Q Calculating with Functions**\n",
    "* This time we want to write calculations using functions and get the results. Let's have a look at some examples:\n",
    "\n",
    "  seven(times(five())) # must return 35\n",
    "  four(plus(nine())) # must return 13\n",
    "  eight(minus(three())) # must return 5\n",
    "  six(divided_by(two())) # must return 3\n",
    "\n",
    "  Requirements:\n",
    "\n",
    "    There must be a function for each number from 0 (\"zero\") to 9 (\"nine\")\n",
    "    There must be a function for each of the following mathematical operations: plus, minus, times, divided_by\n",
    "    Each calculation consist of exactly one operation and two numbers\n",
    "    The most outer function represents the left operand, the most inner function represents the right operand\n",
    "    Division should be integer division. For example, this should return 2, not 2.666666...:\n"
   ]
  },
  {
   "cell_type": "code",
   "execution_count": 133,
   "id": "bcc27131",
   "metadata": {},
   "outputs": [],
   "source": [
    "def zero(f=None): #your code here\n",
    "    return 0 if f is None else int(f(0))\n",
    "    \n",
    "def one(f=None): #your code here\n",
    "    return 1 if f is None else int(f(1))\n",
    "    \n",
    "def two(f=None): #your code here\n",
    "    return 2 if f is None else int(f(2))\n",
    "    \n",
    "def three(f=None): #your code here\n",
    "    return 3 if f is None else int(f(3))\n",
    "    \n",
    "def four(f=None): #your code here\n",
    "    return 4 if f is None else int(f(4))\n",
    "\n",
    "def five(f=None): #your code here\n",
    "    return 5 if f is None else int(f(5))\n",
    "    \n",
    "def six(f=None): #your code here\n",
    "    return 6 if f is None else int(f(6))\n",
    "    \n",
    "def seven(f=None): #your code here\n",
    "    return 7 if f is None else int(f(7))\n",
    "def eight(f=None): #your code here\n",
    "    return 8 if f is None else int(f(8))\n",
    "    \n",
    "def nine(f=None): #your code here\n",
    "    return 9 if f is None else int(f(9))\n",
    "    \n",
    "\n",
    "def plus(right:int): #your code here\n",
    "    return lambda left : left + right\n",
    "def minus(right:int): #your code here\n",
    "    return lambda left : left - right\n",
    "def times(right:int): #your code here\n",
    "    return lambda left : left * right\n",
    "def divided_by(right:int): #your code here\n",
    "    return lambda left : left // right"
   ]
  },
  {
   "cell_type": "code",
   "execution_count": 134,
   "id": "87eb318e",
   "metadata": {},
   "outputs": [],
   "source": [
    "assert seven(times(five())) == 35\n",
    "assert four(plus(nine())) == 13\n",
    "assert eight(minus(three())) == 5\n",
    "assert six(divided_by(two())) == 3"
   ]
  },
  {
   "cell_type": "code",
   "execution_count": 135,
   "id": "ab2d91cb",
   "metadata": {},
   "outputs": [],
   "source": [
    "def identity(a): return a\n",
    "\n",
    "def zero(f=identity): return f(0)\n",
    "def one(f=identity): return f(1)\n",
    "def two(f=identity): return f(2)\n",
    "def three(f=identity): return f(3)\n",
    "def four(f=identity): return f(4)\n",
    "def five(f=identity): return f(5)\n",
    "def six(f=identity): return f(6)\n",
    "def seven(f=identity): return f(7)\n",
    "def eight(f=identity): return f(8)\n",
    "def nine(f=identity): return f(9)\n",
    "\n",
    "def plus(b): return lambda a: a + b\n",
    "def minus(b): return lambda a: a - b\n",
    "def times(b): return lambda a: a * b\n",
    "def divided_by(b): return lambda a: a // b"
   ]
  },
  {
   "cell_type": "code",
   "execution_count": 136,
   "id": "2dffab83",
   "metadata": {},
   "outputs": [],
   "source": [
    "##Alternative Solutions\n",
    "id_ = lambda x: x\n",
    "number = lambda x: lambda f=id_: f(x)\n",
    "zero, one, two, three, four, five, six, seven, eight, nine = map(number, range(10))\n",
    "plus = lambda x: lambda y: y + x\n",
    "minus = lambda x: lambda y: y - x\n",
    "times = lambda x: lambda y: y * x\n",
    "divided_by = lambda x: lambda y: y / x"
   ]
  },
  {
   "cell_type": "code",
   "execution_count": 137,
   "id": "926f5276",
   "metadata": {},
   "outputs": [],
   "source": [
    "### Alternative Solutions\n",
    "def zero(arg=\"\"):  return eval(\"0\" + arg)\n",
    "def one(arg=\"\"):   return eval(\"1\" + arg)\n",
    "def two(arg=\"\"):   return eval(\"2\" + arg)\n",
    "def three(arg=\"\"): return eval(\"3\" + arg)\n",
    "def four(arg=\"\"):  return eval(\"4\" + arg)\n",
    "def five(arg=\"\"):  return eval(\"5\" + arg)\n",
    "def six(arg=\"\"):   return eval(\"6\" + arg)\n",
    "def seven(arg=\"\"): return eval(\"7\" + arg)\n",
    "def eight(arg=\"\"): return eval(\"8\" + arg)\n",
    "def nine(arg=\"\"):  return eval(\"9\" + arg)\n",
    "\n",
    "def plus(n):       return \"+%s\" % n\n",
    "def minus(n):      return \"-%s\" % n\n",
    "def times(n):      return \"*%s\" % n\n",
    "def divided_by(n): return \"/%s\" % n"
   ]
  },
  {
   "cell_type": "code",
   "execution_count": 138,
   "id": "cde7d17f",
   "metadata": {},
   "outputs": [],
   "source": [
    "assert seven(times(five())) == 35\n",
    "assert four(plus(nine())) == 13\n",
    "assert eight(minus(three())) == 5\n",
    "assert six(divided_by(two())) == 3"
   ]
  },
  {
   "cell_type": "markdown",
   "id": "f73ff8e7",
   "metadata": {},
   "source": [
    "**The observed PIN**\n",
    "* Alright, detective, one of our colleagues successfully observed our target person, Robby the robber. We followed him to a\n",
    "  secret warehouse, where we assume to find all the stolen stuff. The door to this warehouse is secured by an electronic \n",
    "  combination lock. Unfortunately our spy isn't sure about the PIN he saw, when Robby entered it.\n",
    "\n",
    "  The keypad has the following layout:\n",
    "  \n",
    "  He noted the PIN 1357, but he also said, it is possible that each of the digits he saw could actually be another adjacent\n",
    "  digit (horizontally or vertically, but not diagonally). E.g. instead of the 1 it could also be the 2 or 4. And instead of \n",
    "  the 5 it could also be the 2, 4, 6 or 8.\n",
    "\n",
    "   He also mentioned, he knows this kind of locks. You can enter an unlimited amount of wrong PINs, they never finally lock \n",
    "   the system or sound the alarm. That's why we can try out all possible (*) variations.\n",
    "\n",
    "   possible in sense of: the observed PIN itself and all variations considering the adjacent digits\n",
    "\n",
    "    Can you help us to find all those variations? It would be nice to have a function, that returns an array (or a list in \n",
    "    Java/Kotlin and C#) of all variations for an observed PIN with a length of 1 to 8 digits. We could name the function \n",
    "    getPINs (get_pins in python, GetPINs in C#). But please note that all PINs, the observed one and also the results, must \n",
    "    be strings, because of potentially leading '0's. We already prepared some test cases for you.\n",
    "\n",
    "    Detective, we are counting on you!"
   ]
  },
  {
   "cell_type": "code",
   "execution_count": 2,
   "id": "5db44afe",
   "metadata": {},
   "outputs": [
    {
     "data": {
      "text/plain": [
       "True"
      ]
     },
     "execution_count": 2,
     "metadata": {},
     "output_type": "execute_result"
    }
   ],
   "source": [
    "'369' in [\"339\",\"366\",\"399\",\"658\",\"636\",\"258\",\"268\",\"669\",\"668\",\"266\",\"369\",\"398\",\"256\",\"296\",\"259\",\"368\",\"638\",\"396\",\"238\",\"356\",\"659\",\"639\",\"666\",\"359\",\"336\",\"299\",\"338\",\"696\",\"269\",\"358\",\"656\",\"698\",\"699\",\"298\",\"236\",\"239\"]"
   ]
  },
  {
   "cell_type": "code",
   "execution_count": 6,
   "id": "f7145634",
   "metadata": {},
   "outputs": [
    {
     "name": "stdout",
     "output_type": "stream",
     "text": [
      "8\n",
      "11\n",
      "369\n"
     ]
    }
   ],
   "source": [
    "expectations = [('8', ['5','7','8','9','0']),\n",
    "                ('11',[\"11\", \"22\", \"44\", \"12\", \"21\", \"14\", \"41\", \"24\", \"42\"]),\n",
    "                ('369', [\"339\",\"366\",\"399\",\"658\",\"636\",\"258\",\"268\",\"669\",\"668\",\"266\",\"369\",\"398\",\"256\",\"296\",\"259\",\"368\",\"638\",\"396\",\"238\",\"356\",\"659\",\"639\",\"666\",\"359\",\"336\",\"299\",\"338\",\"696\",\"269\",\"358\",\"656\",\"698\",\"699\",\"298\",\"236\",\"239\"])]\n",
    "for tup in expectations:\n",
    "    print(tup[0])"
   ]
  },
  {
   "cell_type": "code",
   "execution_count": 21,
   "id": "4825515a",
   "metadata": {},
   "outputs": [],
   "source": [
    "def get_pins(observed):\n",
    "    \"\"\" Find the observed PINS\"\"\"\n",
    "    \n",
    "    keys = {'1':['2','4'],'2':['1','3','5'],'3':['2','6'],\n",
    "           '4':['1','5','7'],'5':['2','4','6','8'],\n",
    "            '6':['3','5','9'],'7':['4','8'],'8':['5','7','9','0'],\n",
    "            '9':['6','8'],'0':['8']}\n",
    "    \n",
    "    obserList = [[i] + keys[i] for i in observed] \n",
    "    \n",
    "        \n",
    "    "
   ]
  },
  {
   "cell_type": "code",
   "execution_count": null,
   "id": "034575a0",
   "metadata": {},
   "outputs": [],
   "source": []
  },
  {
   "cell_type": "code",
   "execution_count": null,
   "id": "7ffe139e",
   "metadata": {},
   "outputs": [],
   "source": []
  }
 ],
 "metadata": {
  "kernelspec": {
   "display_name": "Python 3 (ipykernel)",
   "language": "python",
   "name": "python3"
  },
  "language_info": {
   "codemirror_mode": {
    "name": "ipython",
    "version": 3
   },
   "file_extension": ".py",
   "mimetype": "text/x-python",
   "name": "python",
   "nbconvert_exporter": "python",
   "pygments_lexer": "ipython3",
   "version": "3.10.10"
  }
 },
 "nbformat": 4,
 "nbformat_minor": 5
}
