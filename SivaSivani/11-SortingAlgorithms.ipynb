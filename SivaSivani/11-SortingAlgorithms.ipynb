{
 "cells": [
  {
   "cell_type": "markdown",
   "id": "303a1eae",
   "metadata": {},
   "source": [
    "**Bubble Sort** : \n",
    "   - Bigger number bubbles up to the last. \n",
    "   - Bubble sort is a simple sorting algorithm that repeatedly iterates through the list, compares adjacent elements, and swaps them if they are in the wrong order"
   ]
  },
  {
   "cell_type": "markdown",
   "id": "7b66b2e9",
   "metadata": {},
   "source": [
    "* Approach 1 of Bubble Sort"
   ]
  },
  {
   "cell_type": "code",
   "execution_count": 1,
   "id": "d9dbbcf4",
   "metadata": {},
   "outputs": [],
   "source": [
    "def bubbleSort(alist):\n",
    "    for i in range(len(alist)-1,0,-1):\n",
    "        for j in range(i):\n",
    "            if alist[j] > alist[j+1]:\n",
    "                temp = alist[j]\n",
    "                alist[j] = alist[j+1]\n",
    "                alist[j+1] = temp\n",
    "    return alist           "
   ]
  },
  {
   "cell_type": "code",
   "execution_count": 2,
   "id": "4a82c13b",
   "metadata": {},
   "outputs": [
    {
     "data": {
      "text/plain": [
       "[1, 2, 3, 4, 5, 6, 7]"
      ]
     },
     "execution_count": 2,
     "metadata": {},
     "output_type": "execute_result"
    }
   ],
   "source": [
    "numlist = [2,4,3,1,5,6,7]\n",
    "bubbleSort(numlist)"
   ]
  },
  {
   "cell_type": "markdown",
   "id": "9b9ef538",
   "metadata": {},
   "source": [
    "* Approach 2 of Bubble Sort"
   ]
  },
  {
   "cell_type": "code",
   "execution_count": 3,
   "id": "4e2bb754",
   "metadata": {},
   "outputs": [],
   "source": [
    "def bubbleSort2(alist):\n",
    "    for i in range(len(alist)-1,0,-1):\n",
    "        for j in range(i):\n",
    "            if alist[j] > alist[j+1]:\n",
    "                alist[j],alist[j+1] = alist[j+1],alist[j]\n",
    "    return alist   "
   ]
  },
  {
   "cell_type": "code",
   "execution_count": 6,
   "id": "99c9ddd3",
   "metadata": {},
   "outputs": [
    {
     "data": {
      "text/plain": [
       "[1, 2, 3, 4, 5, 6, 7, 8, 9, 10, 11]"
      ]
     },
     "execution_count": 6,
     "metadata": {},
     "output_type": "execute_result"
    }
   ],
   "source": [
    "numlist2 = [2,3,7,8,10,9,4,5,1,11,6]\n",
    "bubbleSort2(numlist2)"
   ]
  },
  {
   "cell_type": "code",
   "execution_count": null,
   "id": "8c13ce20",
   "metadata": {},
   "outputs": [],
   "source": []
  }
 ],
 "metadata": {
  "kernelspec": {
   "display_name": "Python 3 (ipykernel)",
   "language": "python",
   "name": "python3"
  },
  "language_info": {
   "codemirror_mode": {
    "name": "ipython",
    "version": 3
   },
   "file_extension": ".py",
   "mimetype": "text/x-python",
   "name": "python",
   "nbconvert_exporter": "python",
   "pygments_lexer": "ipython3",
   "version": "3.10.10"
  }
 },
 "nbformat": 4,
 "nbformat_minor": 5
}
