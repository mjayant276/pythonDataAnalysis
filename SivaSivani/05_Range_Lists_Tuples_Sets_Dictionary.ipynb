{
 "cells": [
  {
   "cell_type": "markdown",
   "id": "6bc3bbfc",
   "metadata": {},
   "source": [
    "#### Range Function - range()"
   ]
  },
  {
   "cell_type": "markdown",
   "id": "b686d939",
   "metadata": {},
   "source": [
    "* Range Function is a built function\n",
    "* Range function can be used for creating sequence of integer values\n",
    "* The Range function can be iterated over\n",
    "* It can also be used to create other data structures like List and Tuples"
   ]
  },
  {
   "cell_type": "code",
   "execution_count": 1,
   "id": "b008648f",
   "metadata": {},
   "outputs": [
    {
     "data": {
      "text/plain": [
       "range(0, 10)"
      ]
     },
     "execution_count": 1,
     "metadata": {},
     "output_type": "execute_result"
    }
   ],
   "source": [
    "range(10)"
   ]
  },
  {
   "cell_type": "markdown",
   "id": "712b7a5c",
   "metadata": {},
   "source": [
    "* Range function can be iterated using the for loop\n",
    "* In the code below, we shall user the 'for' keyword and the 'in' keyword and iterate over the range by passing a value. Alos please note that within the 'print' function we can use the 'end' to iterate over the value\n"
   ]
  },
  {
   "cell_type": "code",
   "execution_count": 3,
   "id": "385b09cc",
   "metadata": {},
   "outputs": [
    {
     "name": "stdout",
     "output_type": "stream",
     "text": [
      "0 1 2 3 4 5 6 7 8 9 "
     ]
    }
   ],
   "source": [
    "# Example  - Iterating over the range function \n",
    "for i in range(10):\n",
    "    print(i, end=' ')  # Here, in the print function we can use the end as the \n",
    "                       #separator to print the output in one single line"
   ]
  },
  {
   "cell_type": "markdown",
   "id": "81a2eecd",
   "metadata": {},
   "source": [
    "* Range function has other paramenters - we can understand the parameters as something below :\n",
    "  startIndex, endIndex and stepSize </br>\n",
    "  Let us look at an example below - </br>\n",
    "  The start value/index is given as 2 </br>\n",
    "  The end value/index is given as 10 </br>\n",
    "  the step/value index is given as 5 </br>"
   ]
  },
  {
   "cell_type": "code",
   "execution_count": 2,
   "id": "f6480951",
   "metadata": {},
   "outputs": [
    {
     "name": "stdout",
     "output_type": "stream",
     "text": [
      "4 6 8 10 12 14 16 "
     ]
    }
   ],
   "source": [
    "# start - 4\n",
    "# end - 18\n",
    "# step - 2\n",
    "\n",
    "rng1 = range(4,18,2) # Every alternate number would be printed with the difference in the numbers as 2\n",
    "for i in rng1:\n",
    "    print(i , end=' ')"
   ]
  },
  {
   "cell_type": "markdown",
   "id": "fd74ebe9",
   "metadata": {},
   "source": [
    "* Creating a range and adding it to list\n",
    "  - In this method we shall create a list outside the range object and then iterate over the range and then add it to list"
   ]
  },
  {
   "cell_type": "code",
   "execution_count": 3,
   "id": "5d3dba3d",
   "metadata": {},
   "outputs": [
    {
     "name": "stdout",
     "output_type": "stream",
     "text": [
      "[4, 6, 8, 10, 12, 14, 16]\n",
      "range(4, 18, 2)\n"
     ]
    }
   ],
   "source": [
    "\n",
    "l1 = []\n",
    "r1 = range(4,18,2)\n",
    "for i in r1:\n",
    "    l1.append(i)\n",
    "print(l1)        \n",
    "print(r1)"
   ]
  },
  {
   "cell_type": "markdown",
   "id": "6c80d014",
   "metadata": {},
   "source": [
    "* Creating the range object and adding it to the list object using list()"
   ]
  },
  {
   "cell_type": "code",
   "execution_count": 4,
   "id": "8bae52ec",
   "metadata": {},
   "outputs": [],
   "source": [
    "r1 = range(4,18,2)\n",
    "l2  = list(r1)"
   ]
  },
  {
   "cell_type": "code",
   "execution_count": 5,
   "id": "c0481013",
   "metadata": {},
   "outputs": [
    {
     "data": {
      "text/plain": [
       "[4, 6, 8, 10, 12, 14, 16]"
      ]
     },
     "execution_count": 5,
     "metadata": {},
     "output_type": "execute_result"
    }
   ],
   "source": [
    "l2"
   ]
  },
  {
   "cell_type": "markdown",
   "id": "bbcaacdd",
   "metadata": {},
   "source": [
    "### Lists \n",
    "* Lists are the objects that are ordered sequentially \n",
    "* Lists start from index 0 \n",
    "* Lists are iterable objects \n",
    "* Lists can be iterated over using the for loop\n",
    "* Lists can be sliced that is they can be indexed over\n",
    "* Lists can be iterated\n",
    "* Lists are mutable \n",
    "* Addition and deletion of elements/values are possible in List.\n",
    "* We represent lists using the [] - Square brackets."
   ]
  },
  {
   "cell_type": "code",
   "execution_count": 6,
   "id": "e5181247",
   "metadata": {},
   "outputs": [],
   "source": [
    "r3 = range(4,18,2)\n",
    "l3 = list(r3)"
   ]
  },
  {
   "cell_type": "code",
   "execution_count": 7,
   "id": "b7e97f4d",
   "metadata": {},
   "outputs": [
    {
     "data": {
      "text/plain": [
       "[4, 6, 8, 10, 12, 14, 16]"
      ]
     },
     "execution_count": 7,
     "metadata": {},
     "output_type": "execute_result"
    }
   ],
   "source": [
    "l3"
   ]
  },
  {
   "cell_type": "markdown",
   "id": "47341904",
   "metadata": {},
   "source": []
  },
  {
   "cell_type": "markdown",
   "id": "3474c9d3",
   "metadata": {},
   "source": [
    "* Iterating over lists\n",
    "  - Using for loop we can iterate over the list\n",
    "   We create a range object and then create a list object. We iterate over the list object using the for loop"
   ]
  },
  {
   "cell_type": "code",
   "execution_count": 10,
   "id": "ee236c48",
   "metadata": {},
   "outputs": [
    {
     "name": "stdout",
     "output_type": "stream",
     "text": [
      "4 6 8 10 12 14 16 20 24 28 32 "
     ]
    }
   ],
   "source": [
    "r3 = range(4,18,2) \n",
    "l3 = list(r3)\n",
    "for i in l3 :\n",
    "    if i > 34:\n",
    "        break\n",
    "    doublei = i*2\n",
    "    if doublei not in l3:\n",
    "        l3.append(doublei)\n",
    "    print(i, end=' ')"
   ]
  },
  {
   "cell_type": "markdown",
   "id": "2d0b64a4",
   "metadata": {},
   "source": [
    "* Slicing the list - we use the ':' and '[]' to slice the list objects\n"
   ]
  },
  {
   "cell_type": "markdown",
   "id": "9ec4289b",
   "metadata": {},
   "source": [
    "* In the example below, we shall build the list using the range object"
   ]
  },
  {
   "cell_type": "code",
   "execution_count": 11,
   "id": "c7d15950",
   "metadata": {},
   "outputs": [
    {
     "data": {
      "text/plain": [
       "[0, 1, 2, 3, 4, 5, 6, 7, 8, 9, 10, 11, 12, 13, 14]"
      ]
     },
     "execution_count": 11,
     "metadata": {},
     "output_type": "execute_result"
    }
   ],
   "source": [
    "slicList = list(range(15))\n",
    "slicList[:]"
   ]
  },
  {
   "cell_type": "markdown",
   "id": "d551ad70",
   "metadata": {},
   "source": [
    "* Slice the l4 list object using the indices from 0 to 5"
   ]
  },
  {
   "cell_type": "code",
   "execution_count": 12,
   "id": "11d99fbd",
   "metadata": {},
   "outputs": [
    {
     "data": {
      "text/plain": [
       "[0, 1, 2, 3, 4]"
      ]
     },
     "execution_count": 12,
     "metadata": {},
     "output_type": "execute_result"
    }
   ],
   "source": [
    "slicList[0:5]"
   ]
  },
  {
   "cell_type": "markdown",
   "id": "2d0b1dbe",
   "metadata": {},
   "source": [
    "* To reveres the list objects in the following format -\n",
    "  - This will reverse the elements in the reverse format alternate numbers"
   ]
  },
  {
   "cell_type": "code",
   "execution_count": 18,
   "id": "69dd8e3f",
   "metadata": {},
   "outputs": [
    {
     "data": {
      "text/plain": [
       "[14, 13, 12, 11, 10, 9, 8, 7, 6, 5, 4, 3, 2, 1, 0]"
      ]
     },
     "execution_count": 18,
     "metadata": {},
     "output_type": "execute_result"
    }
   ],
   "source": [
    "slicList[::-1]"
   ]
  },
  {
   "cell_type": "code",
   "execution_count": 19,
   "id": "8966affb",
   "metadata": {},
   "outputs": [
    {
     "data": {
      "text/plain": [
       "[14, 12, 10, 8, 6, 4, 2, 0]"
      ]
     },
     "execution_count": 19,
     "metadata": {},
     "output_type": "execute_result"
    }
   ],
   "source": [
    "slicList[::-2]"
   ]
  },
  {
   "cell_type": "markdown",
   "id": "a0b22831",
   "metadata": {},
   "source": [
    "* Can also add step size for the list \n",
    "   - Step value is how much needs to be added to the previous element to get the next elements in the list"
   ]
  },
  {
   "cell_type": "code",
   "execution_count": 22,
   "id": "05378594",
   "metadata": {},
   "outputs": [
    {
     "data": {
      "text/plain": [
       "[1, 3, 5]"
      ]
     },
     "execution_count": 22,
     "metadata": {},
     "output_type": "execute_result"
    }
   ],
   "source": [
    "slicList[1:7:2]"
   ]
  },
  {
   "cell_type": "markdown",
   "id": "3b94d081",
   "metadata": {},
   "source": [
    "* Slicing of String values in the list"
   ]
  },
  {
   "cell_type": "code",
   "execution_count": 13,
   "id": "afde93eb",
   "metadata": {},
   "outputs": [
    {
     "data": {
      "text/plain": [
       "['Abhilash', 'Bharat', 'Chandra', 'Dinesh', 'Elangovan', 'Freddy', 'Girish']"
      ]
     },
     "execution_count": 13,
     "metadata": {},
     "output_type": "execute_result"
    }
   ],
   "source": [
    "names = ['Abhilash','Bharat','Chandra','Dinesh','Elangovan','Freddy','Girish']\n",
    "names[:]"
   ]
  },
  {
   "cell_type": "markdown",
   "id": "84b2b717",
   "metadata": {},
   "source": [
    "* using the index on the names list - to get the values from 1st index and 2nd index"
   ]
  },
  {
   "cell_type": "code",
   "execution_count": 26,
   "id": "f632e778",
   "metadata": {},
   "outputs": [
    {
     "data": {
      "text/plain": [
       "['Bharat', 'Chandra']"
      ]
     },
     "execution_count": 26,
     "metadata": {},
     "output_type": "execute_result"
    }
   ],
   "source": [
    "names[1:3]"
   ]
  },
  {
   "cell_type": "code",
   "execution_count": 27,
   "id": "b09da565",
   "metadata": {},
   "outputs": [
    {
     "data": {
      "text/plain": [
       "['Bharat', 'Chandra', 'Dinesh', 'Elangovan']"
      ]
     },
     "execution_count": 27,
     "metadata": {},
     "output_type": "execute_result"
    }
   ],
   "source": [
    "names[1:5]"
   ]
  },
  {
   "cell_type": "markdown",
   "id": "7bfa2097",
   "metadata": {},
   "source": [
    "* Reversing the list "
   ]
  },
  {
   "cell_type": "code",
   "execution_count": 28,
   "id": "5064949e",
   "metadata": {
    "scrolled": true
   },
   "outputs": [
    {
     "data": {
      "text/plain": [
       "['Girish', 'Freddy', 'Elangovan', 'Dinesh', 'Chandra', 'Bharat', 'Abhilash']"
      ]
     },
     "execution_count": 28,
     "metadata": {},
     "output_type": "execute_result"
    }
   ],
   "source": [
    "names[::-1]"
   ]
  },
  {
   "cell_type": "markdown",
   "id": "470ee8e9",
   "metadata": {},
   "source": [
    "* Check the list now and we shall remove and retrieve the elements using pop\n",
    "  - pop() returns the element and removes the element from the list"
   ]
  },
  {
   "cell_type": "code",
   "execution_count": 29,
   "id": "83f72389",
   "metadata": {
    "scrolled": true
   },
   "outputs": [
    {
     "data": {
      "text/plain": [
       "'Girish'"
      ]
     },
     "execution_count": 29,
     "metadata": {},
     "output_type": "execute_result"
    }
   ],
   "source": [
    "names.pop()"
   ]
  },
  {
   "cell_type": "code",
   "execution_count": 32,
   "id": "5e3f5030",
   "metadata": {},
   "outputs": [
    {
     "data": {
      "text/plain": [
       "['Abhilash', 'Bharat', 'Chandra', 'Dinesh', 'Elangovan', 'Freddy']"
      ]
     },
     "execution_count": 32,
     "metadata": {},
     "output_type": "execute_result"
    }
   ],
   "source": [
    "## As we see in the list below once 'girish' is popped, there is no 'girish' element at the end.\n",
    "names"
   ]
  },
  {
   "cell_type": "markdown",
   "id": "f44b0c00",
   "metadata": {},
   "source": [
    "* find the length of the list using the len() function"
   ]
  },
  {
   "cell_type": "code",
   "execution_count": 33,
   "id": "38677b0c",
   "metadata": {},
   "outputs": [
    {
     "data": {
      "text/plain": [
       "6"
      ]
     },
     "execution_count": 33,
     "metadata": {},
     "output_type": "execute_result"
    }
   ],
   "source": [
    "len(names)"
   ]
  },
  {
   "cell_type": "markdown",
   "id": "ef42bd27",
   "metadata": {},
   "source": [
    "* remove() - Using the remove function on the list removes the element from the list\n",
    "  - Lets say if we had two values then it removes only first occurrence from the list"
   ]
  },
  {
   "cell_type": "code",
   "execution_count": 34,
   "id": "4e72dc8b",
   "metadata": {},
   "outputs": [],
   "source": [
    "names.remove('Freddy')"
   ]
  },
  {
   "cell_type": "code",
   "execution_count": 35,
   "id": "376f3f6b",
   "metadata": {},
   "outputs": [
    {
     "data": {
      "text/plain": [
       "['Abhilash', 'Bharat', 'Chandra', 'Dinesh', 'Elangovan']"
      ]
     },
     "execution_count": 35,
     "metadata": {},
     "output_type": "execute_result"
    }
   ],
   "source": [
    "## Check the names function and we see that Freddy is no longer available in the names list\n",
    "names"
   ]
  },
  {
   "cell_type": "markdown",
   "id": "483113f1",
   "metadata": {},
   "source": [
    "* Let us add two values to the list and then apply remove - \n",
    "  - Farhan is added twice using the append() funciton"
   ]
  },
  {
   "cell_type": "code",
   "execution_count": 36,
   "id": "3556b4b8",
   "metadata": {},
   "outputs": [],
   "source": [
    "names.append('Farhan')\n",
    "names.append('Farhan')"
   ]
  },
  {
   "cell_type": "code",
   "execution_count": 38,
   "id": "4c79b0be",
   "metadata": {},
   "outputs": [
    {
     "data": {
      "text/plain": [
       "['Abhilash', 'Bharat', 'Chandra', 'Dinesh', 'Elangovan', 'Farhan', 'Farhan']"
      ]
     },
     "execution_count": 38,
     "metadata": {},
     "output_type": "execute_result"
    }
   ],
   "source": [
    "## As we see there are two values with the name 'Farhan'\n",
    "names"
   ]
  },
  {
   "cell_type": "markdown",
   "id": "d32a307b",
   "metadata": {},
   "source": [
    "* use remove() on the names list and check the output"
   ]
  },
  {
   "cell_type": "code",
   "execution_count": 39,
   "id": "d4d61f77",
   "metadata": {},
   "outputs": [
    {
     "data": {
      "text/plain": [
       "['Abhilash', 'Bharat', 'Chandra', 'Dinesh', 'Elangovan', 'Farhan']"
      ]
     },
     "execution_count": 39,
     "metadata": {},
     "output_type": "execute_result"
    }
   ],
   "source": [
    "names.remove('Farhan')\n",
    "names ## There is only one value of 'Farhan' in the list"
   ]
  },
  {
   "cell_type": "markdown",
   "id": "15805bba",
   "metadata": {},
   "source": [
    "* extend() can add multiple elements to the list "
   ]
  },
  {
   "cell_type": "code",
   "execution_count": 14,
   "id": "00cae3f2",
   "metadata": {},
   "outputs": [],
   "source": [
    "names.extend(['Giridhar','Hema','Jishnu'])"
   ]
  },
  {
   "cell_type": "code",
   "execution_count": 15,
   "id": "e89caec9",
   "metadata": {},
   "outputs": [
    {
     "data": {
      "text/plain": [
       "['Abhilash',\n",
       " 'Bharat',\n",
       " 'Chandra',\n",
       " 'Dinesh',\n",
       " 'Elangovan',\n",
       " 'Freddy',\n",
       " 'Girish',\n",
       " 'Giridhar',\n",
       " 'Hema',\n",
       " 'Jishnu']"
      ]
     },
     "execution_count": 15,
     "metadata": {},
     "output_type": "execute_result"
    }
   ],
   "source": [
    "## Display the elements with the latest names added to the list\n",
    "names"
   ]
  },
  {
   "cell_type": "markdown",
   "id": "30650c32",
   "metadata": {},
   "source": [
    "* Reverse the original list using reverse() function on the list\n",
    "  - reverse() function reverses the list and generates the output"
   ]
  },
  {
   "cell_type": "code",
   "execution_count": 16,
   "id": "659a2e21",
   "metadata": {},
   "outputs": [],
   "source": [
    "names.reverse()"
   ]
  },
  {
   "cell_type": "code",
   "execution_count": 17,
   "id": "68ad69c9",
   "metadata": {},
   "outputs": [
    {
     "data": {
      "text/plain": [
       "['Jishnu',\n",
       " 'Hema',\n",
       " 'Giridhar',\n",
       " 'Girish',\n",
       " 'Freddy',\n",
       " 'Elangovan',\n",
       " 'Dinesh',\n",
       " 'Chandra',\n",
       " 'Bharat',\n",
       " 'Abhilash']"
      ]
     },
     "execution_count": 17,
     "metadata": {},
     "output_type": "execute_result"
    }
   ],
   "source": [
    "names # The list has been reversed and stores the values in the list in reverse order"
   ]
  },
  {
   "cell_type": "markdown",
   "id": "5b6026e8",
   "metadata": {},
   "source": [
    "* clear() method is used to empty the lists"
   ]
  },
  {
   "cell_type": "code",
   "execution_count": 18,
   "id": "f5825719",
   "metadata": {},
   "outputs": [],
   "source": [
    "names.clear()"
   ]
  },
  {
   "cell_type": "code",
   "execution_count": 19,
   "id": "60a34c55",
   "metadata": {},
   "outputs": [
    {
     "data": {
      "text/plain": [
       "[]"
      ]
     },
     "execution_count": 19,
     "metadata": {},
     "output_type": "execute_result"
    }
   ],
   "source": [
    "names ## In the above cell , clear() was used to clear the list and now we have no values in the list"
   ]
  },
  {
   "cell_type": "markdown",
   "id": "0be2ff8b",
   "metadata": {},
   "source": [
    "* Iterating over the lists using for loop"
   ]
  },
  {
   "cell_type": "code",
   "execution_count": 50,
   "id": "c11eea3d",
   "metadata": {},
   "outputs": [],
   "source": [
    "### Lets us add the friends to the names list"
   ]
  },
  {
   "cell_type": "code",
   "execution_count": 20,
   "id": "da3cede9",
   "metadata": {},
   "outputs": [],
   "source": [
    "names = ['Abhilash','Bharat','Chandra','Dinesh','Elangovan','Freddy','Girish']"
   ]
  },
  {
   "cell_type": "code",
   "execution_count": 21,
   "id": "bcd17da2",
   "metadata": {},
   "outputs": [
    {
     "name": "stdout",
     "output_type": "stream",
     "text": [
      "Abhilash,Bharat,Chandra,Dinesh,Elangovan,Freddy,Girish,"
     ]
    }
   ],
   "source": [
    "for friend in names:\n",
    "    print(friend, end =',') ## We can print the value as show in this"
   ]
  },
  {
   "cell_type": "markdown",
   "id": "64cf3eb3",
   "metadata": {},
   "source": [
    "* Exercise - Add names from the input prompt and store the values in the list"
   ]
  },
  {
   "cell_type": "code",
   "execution_count": 3,
   "id": "c49797a5",
   "metadata": {},
   "outputs": [
    {
     "name": "stdout",
     "output_type": "stream",
     "text": [
      " Would you like to add a name ? Type yes/y or no/n : What\n",
      "Wrong Input -- Can accept only yes/y or no/n .. Exiting....\n"
     ]
    }
   ],
   "source": [
    "frNames= [] \n",
    "while True: \n",
    "    addName = input(' Would you like to add a name ? Type yes/y or no/n : ')\n",
    "    addName = addName.lower()\n",
    "    if addName == 'yes' or  addName == 'y' :\n",
    "        name = input('Enter the name of the friend :  ')\n",
    "        frNames.append(name)\n",
    "    elif addName == 'no' or addName == 'n':\n",
    "        print('No more names are added -- Good bye !!')\n",
    "        print('The friends list are {}'.format(frNames))\n",
    "        break\n",
    "    else:\n",
    "        print('Wrong Input -- Can accept only yes/y or no/n .. Exiting....')\n",
    "        break"
   ]
  },
  {
   "cell_type": "markdown",
   "id": "740b5a78",
   "metadata": {},
   "source": [
    "* Elements of the list can be sorted using sort() function"
   ]
  },
  {
   "cell_type": "code",
   "execution_count": 58,
   "id": "734deb27",
   "metadata": {},
   "outputs": [],
   "source": [
    "frNames.sort()"
   ]
  },
  {
   "cell_type": "code",
   "execution_count": 60,
   "id": "63e8b133",
   "metadata": {},
   "outputs": [
    {
     "data": {
      "text/plain": [
       "['Bindu', 'Chandra', 'abhishek']"
      ]
     },
     "execution_count": 60,
     "metadata": {},
     "output_type": "execute_result"
    }
   ],
   "source": [
    "frNames"
   ]
  },
  {
   "cell_type": "markdown",
   "id": "63908f67",
   "metadata": {},
   "source": [
    "* geting the index of a 'Chandra' from the list using index()"
   ]
  },
  {
   "cell_type": "code",
   "execution_count": 62,
   "id": "07c05c44",
   "metadata": {},
   "outputs": [
    {
     "data": {
      "text/plain": [
       "1"
      ]
     },
     "execution_count": 62,
     "metadata": {},
     "output_type": "execute_result"
    }
   ],
   "source": [
    "frNames.index('Chandra')"
   ]
  },
  {
   "cell_type": "markdown",
   "id": "76e4f030",
   "metadata": {},
   "source": [
    "* sum() function on the list object\n",
    "- sum() function is used to calculate the sum of the iterable objects\n",
    "- In the below example, we pass list to sum function \n",
    "- len() function gives the length of the iterable or the list\n",
    "- Average/mean can be computed using the sum() and len() function"
   ]
  },
  {
   "cell_type": "code",
   "execution_count": 3,
   "id": "d3f9dd60",
   "metadata": {},
   "outputs": [
    {
     "name": "stdout",
     "output_type": "stream",
     "text": [
      "Sum of the list of elements 92\n",
      "[10, 11, 12, 13, 14, 15, 17]\n",
      "13.142857142857142\n"
     ]
    }
   ],
   "source": [
    "## Lets build a list using 10,11,12,13,14,15,16 - The sum of all the elements in the list can be computed\n",
    "### in two ways  - sum(intList) or using for loops\n",
    "intList = [10,11,12,13,14,15,17]\n",
    "print('Sum of the list of elements',sum(intList))\n",
    "print(intList)\n",
    "numOfEle = len(intList)\n",
    "meanIntLIst = sum(intList)/numOfEle\n",
    "print(meanIntLIst)"
   ]
  },
  {
   "cell_type": "markdown",
   "id": "851081be",
   "metadata": {},
   "source": [
    "* sum of the elements using the for loop"
   ]
  },
  {
   "cell_type": "code",
   "execution_count": 64,
   "id": "e3981340",
   "metadata": {},
   "outputs": [
    {
     "name": "stdout",
     "output_type": "stream",
     "text": [
      "91\n"
     ]
    }
   ],
   "source": [
    "intList = 10,11,12,13,14,15,16\n",
    "slist = 0\n",
    "for i in intList:\n",
    "    slist += i\n",
    "print(slist) "
   ]
  },
  {
   "cell_type": "markdown",
   "id": "7cdf30df",
   "metadata": {},
   "source": [
    "* list comprehensions are writing simple code in a single line"
   ]
  },
  {
   "cell_type": "code",
   "execution_count": 65,
   "id": "02f9558f",
   "metadata": {},
   "outputs": [],
   "source": [
    "## Based on the range object lets find the square of each number\n",
    "y = [x**2 for x in range(5)]"
   ]
  },
  {
   "cell_type": "code",
   "execution_count": 66,
   "id": "f0566a47",
   "metadata": {},
   "outputs": [
    {
     "data": {
      "text/plain": [
       "[0, 1, 4, 9, 16]"
      ]
     },
     "execution_count": 66,
     "metadata": {},
     "output_type": "execute_result"
    }
   ],
   "source": [
    "y"
   ]
  },
  {
   "cell_type": "markdown",
   "id": "9a5cdb97",
   "metadata": {},
   "source": [
    "* Condition in the List Comprehension"
   ]
  },
  {
   "cell_type": "code",
   "execution_count": 67,
   "id": "9b147d19",
   "metadata": {},
   "outputs": [
    {
     "name": "stdout",
     "output_type": "stream",
     "text": [
      "[0, 4, 16, 36, 64]\n"
     ]
    }
   ],
   "source": [
    "## We can also include condition within the for comrephension\n",
    "y = [x**2 for x in range(10) if x%2 == 0 ]\n",
    "print(y)"
   ]
  },
  {
   "cell_type": "markdown",
   "id": "3ccdedbe",
   "metadata": {},
   "source": [
    "* Condition with the string values/list"
   ]
  },
  {
   "cell_type": "code",
   "execution_count": 6,
   "id": "ea44ca07",
   "metadata": {},
   "outputs": [],
   "source": [
    "### return if only list contains letters starting with s\n",
    "names = ['sunday','super','semi-conductor','non-conductor','mango','apple']\n",
    "y = [x for x in names if x.startswith('s')]"
   ]
  },
  {
   "cell_type": "code",
   "execution_count": 7,
   "id": "36cfa8f0",
   "metadata": {},
   "outputs": [
    {
     "data": {
      "text/plain": [
       "['sunday', 'super', 'semi-conductor']"
      ]
     },
     "execution_count": 7,
     "metadata": {},
     "output_type": "execute_result"
    }
   ],
   "source": [
    "y"
   ]
  },
  {
   "cell_type": "code",
   "execution_count": 8,
   "id": "c4a58bf9",
   "metadata": {},
   "outputs": [],
   "source": [
    "del y[0]"
   ]
  },
  {
   "cell_type": "code",
   "execution_count": 9,
   "id": "ef6f46b2",
   "metadata": {},
   "outputs": [
    {
     "data": {
      "text/plain": [
       "['super', 'semi-conductor']"
      ]
     },
     "execution_count": 9,
     "metadata": {},
     "output_type": "execute_result"
    }
   ],
   "source": [
    "y"
   ]
  },
  {
   "cell_type": "markdown",
   "id": "98868e1b",
   "metadata": {},
   "source": [
    "### Tuples\n",
    " * ` Tuples` are immutable objects that can be represented in ()\n",
    "   - We cannot add,modify or remove elements from Tuples\n",
    " - Tuples can be accessed using indices\n",
    " - Tuples are created by passing values to ()\n",
    " - Tuples can iterated using for loop\n",
    " - Tuple values can be assigned to multiple variables in a single line"
   ]
  },
  {
   "cell_type": "code",
   "execution_count": 12,
   "id": "5be7f796",
   "metadata": {},
   "outputs": [
    {
     "data": {
      "text/plain": [
       "'Mango'"
      ]
     },
     "execution_count": 12,
     "metadata": {},
     "output_type": "execute_result"
    }
   ],
   "source": [
    "tup1 = (25,'Mango','Rajesh',40,25,24,25)\n",
    "tup1[1]"
   ]
  },
  {
   "cell_type": "code",
   "execution_count": 13,
   "id": "8397545c",
   "metadata": {},
   "outputs": [
    {
     "data": {
      "text/plain": [
       "40"
      ]
     },
     "execution_count": 13,
     "metadata": {},
     "output_type": "execute_result"
    }
   ],
   "source": [
    "tup1[3]"
   ]
  },
  {
   "cell_type": "code",
   "execution_count": 72,
   "id": "ec5c03e0",
   "metadata": {},
   "outputs": [
    {
     "name": "stdout",
     "output_type": "stream",
     "text": [
      "25\n",
      "Mango\n",
      "Rajesh\n",
      "40\n",
      "25\n",
      "24\n",
      "25\n"
     ]
    }
   ],
   "source": [
    "### Tuples can be iterated over using for loop \n",
    "for x in tup1:\n",
    "    print(x)"
   ]
  },
  {
   "cell_type": "code",
   "execution_count": 73,
   "id": "ce124e4e",
   "metadata": {},
   "outputs": [
    {
     "ename": "TypeError",
     "evalue": "'tuple' object does not support item assignment",
     "output_type": "error",
     "traceback": [
      "\u001b[1;31m---------------------------------------------------------------------------\u001b[0m",
      "\u001b[1;31mTypeError\u001b[0m                                 Traceback (most recent call last)",
      "Cell \u001b[1;32mIn[73], line 2\u001b[0m\n\u001b[0;32m      1\u001b[0m \u001b[38;5;66;03m## Assigning a value to tuple shows error - tuple object does not support assignment\u001b[39;00m\n\u001b[1;32m----> 2\u001b[0m tup1[\u001b[38;5;241m0\u001b[39m] \u001b[38;5;241m=\u001b[39m \u001b[38;5;241m35\u001b[39m\n",
      "\u001b[1;31mTypeError\u001b[0m: 'tuple' object does not support item assignment"
     ]
    }
   ],
   "source": [
    "## Assigning a value to tuple shows error - tuple object does not support assignment\n",
    "tup1[0] = 35"
   ]
  },
  {
   "cell_type": "code",
   "execution_count": 14,
   "id": "bbbf1336",
   "metadata": {},
   "outputs": [
    {
     "data": {
      "text/plain": [
       "3"
      ]
     },
     "execution_count": 14,
     "metadata": {},
     "output_type": "execute_result"
    }
   ],
   "source": [
    "## Count function gives the count of the element in the tuple\n",
    "tup1.count(25)"
   ]
  },
  {
   "cell_type": "markdown",
   "id": "cdb7704d",
   "metadata": {},
   "source": [
    "* A negative index starts from the end of the tuple. It starts at -1"
   ]
  },
  {
   "cell_type": "code",
   "execution_count": 15,
   "id": "e7228b6b",
   "metadata": {
    "scrolled": true
   },
   "outputs": [
    {
     "data": {
      "text/plain": [
       "25"
      ]
     },
     "execution_count": 15,
     "metadata": {},
     "output_type": "execute_result"
    }
   ],
   "source": [
    "tup1[-1]"
   ]
  },
  {
   "cell_type": "markdown",
   "id": "f643c1d0",
   "metadata": {},
   "source": [
    "* len() function on the tuple. when applied on tuple gives the length of the tuple"
   ]
  },
  {
   "cell_type": "code",
   "execution_count": 78,
   "id": "0f035223",
   "metadata": {},
   "outputs": [
    {
     "data": {
      "text/plain": [
       "7"
      ]
     },
     "execution_count": 78,
     "metadata": {},
     "output_type": "execute_result"
    }
   ],
   "source": [
    "len(tup1)"
   ]
  },
  {
   "cell_type": "markdown",
   "id": "72e5278e",
   "metadata": {},
   "source": [
    "* Accessing last element using the len() function "
   ]
  },
  {
   "cell_type": "code",
   "execution_count": 79,
   "id": "8186dd45",
   "metadata": {},
   "outputs": [
    {
     "data": {
      "text/plain": [
       "25"
      ]
     },
     "execution_count": 79,
     "metadata": {},
     "output_type": "execute_result"
    }
   ],
   "source": [
    "tup1[len(tup1) - 1]"
   ]
  },
  {
   "cell_type": "markdown",
   "id": "1d56324f",
   "metadata": {},
   "source": [
    "* As the tuples are immutable we cannot add, modify , remove or replace the elements in tuples\n",
    "* If the tuples contain mutable datastructures however we can modify the elements within them </br>\n",
    "Let us look at the example below for more details"
   ]
  },
  {
   "cell_type": "code",
   "execution_count": 80,
   "id": "2ac878d0",
   "metadata": {},
   "outputs": [],
   "source": [
    "names = (['Rajesh','Mukesh'],['Sangeeta','Rithika'])"
   ]
  },
  {
   "cell_type": "code",
   "execution_count": 84,
   "id": "966bd725",
   "metadata": {},
   "outputs": [
    {
     "data": {
      "text/plain": [
       "['Rajesh', 'Mukesh']"
      ]
     },
     "execution_count": 84,
     "metadata": {},
     "output_type": "execute_result"
    }
   ],
   "source": [
    "names[0]"
   ]
  },
  {
   "cell_type": "code",
   "execution_count": 85,
   "id": "79df528c",
   "metadata": {},
   "outputs": [
    {
     "data": {
      "text/plain": [
       "['Sangeeta', 'Rithika']"
      ]
     },
     "execution_count": 85,
     "metadata": {},
     "output_type": "execute_result"
    }
   ],
   "source": [
    "names[1]"
   ]
  },
  {
   "cell_type": "code",
   "execution_count": 82,
   "id": "20869495",
   "metadata": {},
   "outputs": [
    {
     "ename": "TypeError",
     "evalue": "'tuple' object does not support item assignment",
     "output_type": "error",
     "traceback": [
      "\u001b[1;31m---------------------------------------------------------------------------\u001b[0m",
      "\u001b[1;31mTypeError\u001b[0m                                 Traceback (most recent call last)",
      "Cell \u001b[1;32mIn[82], line 3\u001b[0m\n\u001b[0;32m      1\u001b[0m \u001b[38;5;66;03m# This kind of direct assignment to the tuple is not possible ,\u001b[39;00m\n\u001b[0;32m      2\u001b[0m \u001b[38;5;66;03m# where we are assigning the list elements directly to the tuples first value\u001b[39;00m\n\u001b[1;32m----> 3\u001b[0m names[\u001b[38;5;241m0\u001b[39m] \u001b[38;5;241m=\u001b[39m [\u001b[38;5;124m'\u001b[39m\u001b[38;5;124mAbhishek\u001b[39m\u001b[38;5;124m'\u001b[39m,\u001b[38;5;124m'\u001b[39m\u001b[38;5;124mBrijesh\u001b[39m\u001b[38;5;124m'\u001b[39m]\n",
      "\u001b[1;31mTypeError\u001b[0m: 'tuple' object does not support item assignment"
     ]
    }
   ],
   "source": [
    "# This kind of direct assignment to the tuple is not possible ,\n",
    "# where we are assigning the list elements directly to the tuples first value\n",
    "names[0] = ['Abhishek','Brijesh']"
   ]
  },
  {
   "cell_type": "markdown",
   "id": "cdad630d",
   "metadata": {},
   "source": [
    "* To access list inside tuple we shall use two indices like the ones used in matrices\n",
    "- please note that the lists are mutable objects , whereas tuples are not mutable"
   ]
  },
  {
   "cell_type": "code",
   "execution_count": 87,
   "id": "3973fa26",
   "metadata": {},
   "outputs": [],
   "source": [
    "## We access the inside elements using the syntax below\n",
    "names[0][0] = 'Abhishek Bachan'"
   ]
  },
  {
   "cell_type": "code",
   "execution_count": 88,
   "id": "b80721f7",
   "metadata": {},
   "outputs": [
    {
     "data": {
      "text/plain": [
       "(['Abhishek Bachan', 'Mukesh'], ['Sangeeta', 'Rithika'])"
      ]
     },
     "execution_count": 88,
     "metadata": {},
     "output_type": "execute_result"
    }
   ],
   "source": [
    "names"
   ]
  },
  {
   "cell_type": "code",
   "execution_count": 89,
   "id": "c7e4296c",
   "metadata": {},
   "outputs": [],
   "source": [
    "names[0][1] = 'Mukesh Khanna'"
   ]
  },
  {
   "cell_type": "code",
   "execution_count": 90,
   "id": "7d79ab08",
   "metadata": {},
   "outputs": [
    {
     "data": {
      "text/plain": [
       "(['Abhishek Bachan', 'Mukesh Khanna'], ['Sangeeta', 'Rithika'])"
      ]
     },
     "execution_count": 90,
     "metadata": {},
     "output_type": "execute_result"
    }
   ],
   "source": [
    "names"
   ]
  },
  {
   "cell_type": "markdown",
   "id": "8f5d6710",
   "metadata": {},
   "source": [
    "* Earlier we have seen the assignment of multilpe values in a single line\n",
    "* Lets us assign multiple values to a single variable and see how the value is assigned"
   ]
  },
  {
   "cell_type": "code",
   "execution_count": 16,
   "id": "8b772e4d",
   "metadata": {},
   "outputs": [],
   "source": [
    "a,b = 10,20"
   ]
  },
  {
   "cell_type": "code",
   "execution_count": 17,
   "id": "7a9c915c",
   "metadata": {},
   "outputs": [],
   "source": [
    "val1 = a,b,a+b"
   ]
  },
  {
   "cell_type": "code",
   "execution_count": 18,
   "id": "019f0691",
   "metadata": {
    "scrolled": true
   },
   "outputs": [
    {
     "data": {
      "text/plain": [
       "(10, 20, 30)"
      ]
     },
     "execution_count": 18,
     "metadata": {},
     "output_type": "execute_result"
    }
   ],
   "source": [
    "## We see the value assigned is a tuple\n",
    "val1"
   ]
  },
  {
   "cell_type": "markdown",
   "id": "2af68227",
   "metadata": {},
   "source": [
    "* A tuple is returned from a functon from where it is called if the function returns multiple values"
   ]
  },
  {
   "cell_type": "code",
   "execution_count": 94,
   "id": "0d7b87e6",
   "metadata": {},
   "outputs": [],
   "source": [
    "def studentDetails():\n",
    "    name = 'Ajay'\n",
    "    subject = 'Python'\n",
    "    course = 'BBA'\n",
    "    return name,subject, course"
   ]
  },
  {
   "cell_type": "code",
   "execution_count": 95,
   "id": "a69202f5",
   "metadata": {},
   "outputs": [],
   "source": [
    "details = studentDetails()"
   ]
  },
  {
   "cell_type": "code",
   "execution_count": 96,
   "id": "d969aec0",
   "metadata": {},
   "outputs": [
    {
     "data": {
      "text/plain": [
       "('Ajay', 'Python', 'BBA')"
      ]
     },
     "execution_count": 96,
     "metadata": {},
     "output_type": "execute_result"
    }
   ],
   "source": [
    "details"
   ]
  },
  {
   "cell_type": "markdown",
   "id": "5f82157d",
   "metadata": {},
   "source": [
    "* In order to hold values in  different variables from a tuple"
   ]
  },
  {
   "cell_type": "code",
   "execution_count": 19,
   "id": "eaa4e534",
   "metadata": {},
   "outputs": [],
   "source": [
    "a,b ,c = (10,20,30)"
   ]
  },
  {
   "cell_type": "code",
   "execution_count": 20,
   "id": "ffbd3bcb",
   "metadata": {},
   "outputs": [
    {
     "name": "stdout",
     "output_type": "stream",
     "text": [
      "Values are 10 , 20 , 30\n"
     ]
    }
   ],
   "source": [
    "print('Values are {} , {} , {}'.format(a,b,c))"
   ]
  },
  {
   "cell_type": "markdown",
   "id": "c5f3f97f",
   "metadata": {},
   "source": [
    "* type and len functions on tuple"
   ]
  },
  {
   "cell_type": "code",
   "execution_count": 99,
   "id": "412c5477",
   "metadata": {},
   "outputs": [],
   "source": [
    "t1 = (10,'Chocolate',20,'Amul')"
   ]
  },
  {
   "cell_type": "code",
   "execution_count": 100,
   "id": "7e0f106b",
   "metadata": {},
   "outputs": [
    {
     "data": {
      "text/plain": [
       "(10, 'Chocolate', 20, 'Amul')"
      ]
     },
     "execution_count": 100,
     "metadata": {},
     "output_type": "execute_result"
    }
   ],
   "source": [
    "t1"
   ]
  },
  {
   "cell_type": "code",
   "execution_count": 101,
   "id": "eecb03dc",
   "metadata": {},
   "outputs": [
    {
     "data": {
      "text/plain": [
       "tuple"
      ]
     },
     "execution_count": 101,
     "metadata": {},
     "output_type": "execute_result"
    }
   ],
   "source": [
    "type(t1)"
   ]
  },
  {
   "cell_type": "code",
   "execution_count": 102,
   "id": "4b6782ab",
   "metadata": {},
   "outputs": [
    {
     "data": {
      "text/plain": [
       "4"
      ]
     },
     "execution_count": 102,
     "metadata": {},
     "output_type": "execute_result"
    }
   ],
   "source": [
    "len(t1)"
   ]
  },
  {
   "cell_type": "code",
   "execution_count": 103,
   "id": "56c6b760",
   "metadata": {},
   "outputs": [
    {
     "data": {
      "text/plain": [
       "(tuple, 4)"
      ]
     },
     "execution_count": 103,
     "metadata": {},
     "output_type": "execute_result"
    }
   ],
   "source": [
    "type(t1),len(t1)"
   ]
  },
  {
   "cell_type": "markdown",
   "id": "3eb643b0",
   "metadata": {},
   "source": [
    "* Converting tuples to list and back to tuples"
   ]
  },
  {
   "cell_type": "code",
   "execution_count": 104,
   "id": "33e4a942",
   "metadata": {},
   "outputs": [
    {
     "data": {
      "text/plain": [
       "(10, 'Chocolate', 20, 'Amul')"
      ]
     },
     "execution_count": 104,
     "metadata": {},
     "output_type": "execute_result"
    }
   ],
   "source": [
    "t1"
   ]
  },
  {
   "cell_type": "code",
   "execution_count": 105,
   "id": "579da1cc",
   "metadata": {},
   "outputs": [],
   "source": [
    "l1 = list(t1)"
   ]
  },
  {
   "cell_type": "code",
   "execution_count": 106,
   "id": "d355adba",
   "metadata": {},
   "outputs": [
    {
     "data": {
      "text/plain": [
       "[10, 'Chocolate', 20, 'Amul']"
      ]
     },
     "execution_count": 106,
     "metadata": {},
     "output_type": "execute_result"
    }
   ],
   "source": [
    "l1"
   ]
  },
  {
   "cell_type": "code",
   "execution_count": 107,
   "id": "107c07d2",
   "metadata": {},
   "outputs": [],
   "source": [
    "l1[1] = 'Butter Scotch'"
   ]
  },
  {
   "cell_type": "code",
   "execution_count": 108,
   "id": "4ec1d799",
   "metadata": {},
   "outputs": [
    {
     "data": {
      "text/plain": [
       "[10, 'Butter Scotch', 20, 'Amul']"
      ]
     },
     "execution_count": 108,
     "metadata": {},
     "output_type": "execute_result"
    }
   ],
   "source": [
    "l1"
   ]
  },
  {
   "cell_type": "code",
   "execution_count": 109,
   "id": "9e4086f8",
   "metadata": {},
   "outputs": [
    {
     "data": {
      "text/plain": [
       "list"
      ]
     },
     "execution_count": 109,
     "metadata": {},
     "output_type": "execute_result"
    }
   ],
   "source": [
    "type(l1)"
   ]
  },
  {
   "cell_type": "markdown",
   "id": "ffe21b28",
   "metadata": {},
   "source": [
    "* Converting the list back to tuple"
   ]
  },
  {
   "cell_type": "code",
   "execution_count": 110,
   "id": "87853139",
   "metadata": {},
   "outputs": [],
   "source": [
    "t2 = tuple(l1)"
   ]
  },
  {
   "cell_type": "code",
   "execution_count": 111,
   "id": "64788685",
   "metadata": {},
   "outputs": [
    {
     "data": {
      "text/plain": [
       "(10, 'Butter Scotch', 20, 'Amul')"
      ]
     },
     "execution_count": 111,
     "metadata": {},
     "output_type": "execute_result"
    }
   ],
   "source": [
    "t2"
   ]
  },
  {
   "cell_type": "markdown",
   "id": "5c798847",
   "metadata": {},
   "source": [
    "**Exercise**"
   ]
  },
  {
   "cell_type": "code",
   "execution_count": 1,
   "id": "45ebb3e6",
   "metadata": {},
   "outputs": [
    {
     "name": "stdout",
     "output_type": "stream",
     "text": [
      "[(2, 5), (2, 6), (3, 2), (3, 5), (3, 6), (4, 2), (4, 5), (4, 6)]\n"
     ]
    }
   ],
   "source": [
    "## Exercise - There are two list [2,3,4] and [2,5,6] \n",
    "## -Get a combination (x,y) \n",
    "## x is the element from first list, \n",
    "## y is the element from second list - Get combinations (x,y) \n",
    "## such that x is not equal to y\n",
    "\n",
    "x = [2,3,4]\n",
    "y = [2,5,6]\n",
    "output = [(a,b) for a in x for b in y if a!=b]\n",
    "print(output)"
   ]
  },
  {
   "cell_type": "markdown",
   "id": "445400fe",
   "metadata": {},
   "source": [
    "* **Sets in Python**\n",
    "  - Sets contain unique elements  \n",
    "  - Sets are unordered sequence of elements\n",
    "  - They are represented using the {} (curly braces)"
   ]
  },
  {
   "cell_type": "code",
   "execution_count": 113,
   "id": "65816d79",
   "metadata": {},
   "outputs": [
    {
     "data": {
      "text/plain": [
       "{'Kiran', 'Mahesh', 'Ravi', 'Suraj', 'Surya'}"
      ]
     },
     "execution_count": 113,
     "metadata": {},
     "output_type": "execute_result"
    }
   ],
   "source": [
    "elements = {'Mahesh','Mahesh','Suraj','Ravi','Kiran','Surya'}\n",
    "elements"
   ]
  },
  {
   "cell_type": "code",
   "execution_count": 5,
   "id": "f749dda1",
   "metadata": {},
   "outputs": [
    {
     "data": {
      "text/plain": [
       "{'A', 'Kiran', 'Mahesh', 'Ravi', 'Suraj', 'Surya', 'Z'}"
      ]
     },
     "execution_count": 5,
     "metadata": {},
     "output_type": "execute_result"
    }
   ],
   "source": [
    "#### Sets can be constructed using the following set keyword and passing a list to it\n",
    "eles = set(['Z','A','A','Mahesh','Mahesh','Suraj','Ravi','Kiran','Surya'])\n",
    "eles"
   ]
  },
  {
   "cell_type": "code",
   "execution_count": 3,
   "id": "1573d409",
   "metadata": {},
   "outputs": [
    {
     "ename": "TypeError",
     "evalue": "'set' object is not subscriptable",
     "output_type": "error",
     "traceback": [
      "\u001b[1;31m---------------------------------------------------------------------------\u001b[0m",
      "\u001b[1;31mTypeError\u001b[0m                                 Traceback (most recent call last)",
      "Cell \u001b[1;32mIn[3], line 1\u001b[0m\n\u001b[1;32m----> 1\u001b[0m \u001b[43meles\u001b[49m\u001b[43m[\u001b[49m\u001b[38;5;241;43m0\u001b[39;49m\u001b[43m]\u001b[49m\n",
      "\u001b[1;31mTypeError\u001b[0m: 'set' object is not subscriptable"
     ]
    }
   ],
   "source": [
    "eles[0]"
   ]
  },
  {
   "cell_type": "markdown",
   "id": "7d9e1b94",
   "metadata": {},
   "source": [
    "* Iteration over sets in python"
   ]
  },
  {
   "cell_type": "code",
   "execution_count": 115,
   "id": "0b20d711",
   "metadata": {},
   "outputs": [
    {
     "data": {
      "text/plain": [
       "{'Kiran', 'Mahesh', 'Ravi', 'Suraj', 'Surya'}"
      ]
     },
     "execution_count": 115,
     "metadata": {},
     "output_type": "execute_result"
    }
   ],
   "source": [
    "elements"
   ]
  },
  {
   "cell_type": "code",
   "execution_count": 116,
   "id": "0a80d2ee",
   "metadata": {},
   "outputs": [
    {
     "name": "stdout",
     "output_type": "stream",
     "text": [
      "Kiran\n",
      "Suraj\n",
      "Mahesh\n",
      "Ravi\n",
      "Surya\n"
     ]
    }
   ],
   "source": [
    "for x in elements:\n",
    "    print(x)"
   ]
  },
  {
   "cell_type": "code",
   "execution_count": 9,
   "id": "c3fa7e5d",
   "metadata": {},
   "outputs": [
    {
     "data": {
      "text/plain": [
       "5"
      ]
     },
     "execution_count": 9,
     "metadata": {},
     "output_type": "execute_result"
    }
   ],
   "source": [
    "## The set elements are given below - We can represent the data as \n",
    "# els = {'Mahesh','Mahesh','Suraj','Ravi','Kiran','Surya'}\n",
    "els = {'Mahesh','Mahesh','Suraj','Ravi','Kiran','Surya'}\n",
    "len(els)"
   ]
  },
  {
   "cell_type": "code",
   "execution_count": 10,
   "id": "8d8ac7fa",
   "metadata": {},
   "outputs": [],
   "source": [
    "### Add the following element to the set elements 'Mitra' using add function\n",
    "els.add('Mitra')"
   ]
  },
  {
   "cell_type": "code",
   "execution_count": 11,
   "id": "34da0341",
   "metadata": {},
   "outputs": [
    {
     "data": {
      "text/plain": [
       "{'Kiran', 'Mahesh', 'Mitra', 'Ravi', 'Suraj', 'Surya'}"
      ]
     },
     "execution_count": 11,
     "metadata": {},
     "output_type": "execute_result"
    }
   ],
   "source": [
    "els"
   ]
  },
  {
   "cell_type": "code",
   "execution_count": 7,
   "id": "87b471a6",
   "metadata": {},
   "outputs": [],
   "source": [
    "## Lets create one more set els2 = els2 = {'kiran','Mahesh', 'Mitra'}\n",
    "els2 = {'kiran','Mahesh', 'Mitra'}"
   ]
  },
  {
   "cell_type": "markdown",
   "id": "6fa43a8f",
   "metadata": {},
   "source": [
    "* seta.difference(setb) - Difference gives the elements that are in sets"
   ]
  },
  {
   "cell_type": "code",
   "execution_count": null,
   "id": "bc75603d",
   "metadata": {},
   "outputs": [],
   "source": [
    "{'Kiran', 'Mahesh', 'Mitra', 'Ravi', 'Suraj', 'Surya'}\n",
    "{'kiran','Mahesh', 'Mitra'}"
   ]
  },
  {
   "cell_type": "code",
   "execution_count": 11,
   "id": "c0cbe5a2",
   "metadata": {},
   "outputs": [
    {
     "data": {
      "text/plain": [
       "{'Kiran', 'Ravi', 'Suraj', 'Surya'}"
      ]
     },
     "execution_count": 11,
     "metadata": {},
     "output_type": "execute_result"
    }
   ],
   "source": [
    "els.difference(els2)"
   ]
  },
  {
   "cell_type": "code",
   "execution_count": 12,
   "id": "f7661158",
   "metadata": {},
   "outputs": [
    {
     "data": {
      "text/plain": [
       "{'kiran'}"
      ]
     },
     "execution_count": 12,
     "metadata": {},
     "output_type": "execute_result"
    }
   ],
   "source": [
    "els2.difference(els)"
   ]
  },
  {
   "cell_type": "markdown",
   "id": "a51d23a0",
   "metadata": {},
   "source": [
    "* difference_update() - Removes the elements from the other set"
   ]
  },
  {
   "cell_type": "code",
   "execution_count": 12,
   "id": "68432963",
   "metadata": {},
   "outputs": [],
   "source": [
    "els.difference_update(els2)"
   ]
  },
  {
   "cell_type": "code",
   "execution_count": 13,
   "id": "5e729ce8",
   "metadata": {},
   "outputs": [
    {
     "data": {
      "text/plain": [
       "{'Kiran', 'Ravi', 'Suraj', 'Surya'}"
      ]
     },
     "execution_count": 13,
     "metadata": {},
     "output_type": "execute_result"
    }
   ],
   "source": [
    "els"
   ]
  },
  {
   "cell_type": "code",
   "execution_count": 14,
   "id": "5bb196bd",
   "metadata": {},
   "outputs": [
    {
     "data": {
      "text/plain": [
       "{'Mahesh', 'Mitra', 'kiran'}"
      ]
     },
     "execution_count": 14,
     "metadata": {},
     "output_type": "execute_result"
    }
   ],
   "source": [
    "els2"
   ]
  },
  {
   "cell_type": "code",
   "execution_count": 18,
   "id": "24135a88",
   "metadata": {},
   "outputs": [
    {
     "data": {
      "text/plain": [
       "6"
      ]
     },
     "execution_count": 18,
     "metadata": {},
     "output_type": "execute_result"
    }
   ],
   "source": [
    "## Create the set and try to perform union on els and els2\n",
    "els = {'Mahesh','Mahesh','Mitra','Suraj','Ravi','Kiran','Surya'}\n",
    "len(els)"
   ]
  },
  {
   "cell_type": "markdown",
   "id": "76d9f799",
   "metadata": {},
   "source": [
    "* union combines both the sets with unique elements"
   ]
  },
  {
   "cell_type": "code",
   "execution_count": 19,
   "id": "1d64b186",
   "metadata": {},
   "outputs": [
    {
     "data": {
      "text/plain": [
       "{'Kiran', 'Mahesh', 'Mitra', 'Ravi', 'Suraj', 'Surya', 'kiran'}"
      ]
     },
     "execution_count": 19,
     "metadata": {},
     "output_type": "execute_result"
    }
   ],
   "source": [
    "els.union(els2)"
   ]
  },
  {
   "cell_type": "markdown",
   "id": "43d19f1b",
   "metadata": {},
   "source": [
    "* intersection provides the common elements between the sets"
   ]
  },
  {
   "cell_type": "code",
   "execution_count": 20,
   "id": "afa4a84f",
   "metadata": {},
   "outputs": [
    {
     "data": {
      "text/plain": [
       "{'Mahesh', 'Mitra'}"
      ]
     },
     "execution_count": 20,
     "metadata": {},
     "output_type": "execute_result"
    }
   ],
   "source": [
    "els.intersection(els2)"
   ]
  },
  {
   "cell_type": "code",
   "execution_count": 21,
   "id": "5615a216",
   "metadata": {},
   "outputs": [
    {
     "name": "stdout",
     "output_type": "stream",
     "text": [
      "{'Ravi', 'Kiran', 'Mahesh', 'Suraj', 'Mitra', 'Surya'}\n",
      "{'kiran', 'Mahesh', 'Mitra'}\n"
     ]
    }
   ],
   "source": [
    "print(els)\n",
    "print(els2)"
   ]
  },
  {
   "cell_type": "markdown",
   "id": "20a23b82",
   "metadata": {},
   "source": [
    "* Symmetric difference gives the elements that are not common as one single set."
   ]
  },
  {
   "cell_type": "code",
   "execution_count": 22,
   "id": "a9eeec4f",
   "metadata": {},
   "outputs": [
    {
     "data": {
      "text/plain": [
       "{'Kiran', 'Ravi', 'Suraj', 'Surya', 'kiran'}"
      ]
     },
     "execution_count": 22,
     "metadata": {},
     "output_type": "execute_result"
    }
   ],
   "source": [
    "## els.symmetric_difference(els2) gives the common elements between both the sets.\n",
    "els.symmetric_difference(els2)"
   ]
  },
  {
   "cell_type": "markdown",
   "id": "daa3ace1",
   "metadata": {},
   "source": [
    "* Comprehension for set - Similar to for comprehension for List\n",
    "    - return type is Set when set comprehension is perfromed\n",
    "   - Writing the iteration of the set in a single line "
   ]
  },
  {
   "cell_type": "code",
   "execution_count": 13,
   "id": "14c463b4",
   "metadata": {},
   "outputs": [
    {
     "name": "stdout",
     "output_type": "stream",
     "text": [
      "{'Mr Mahesh', 'Mr Suraj', 'Mr Ravi', 'Mr Surya', 'Mr Kiran'}\n"
     ]
    }
   ],
   "source": [
    "listVal =  {'Mahesh','Mahesh','Suraj','Ravi','Kiran','Surya'}\n",
    "uniEle = set()\n",
    "for name in listVal:\n",
    "    name = 'Mr ' + name\n",
    "    uniEle.add(name)\n",
    "print(uniEle)"
   ]
  },
  {
   "cell_type": "code",
   "execution_count": 14,
   "id": "ec0fd2cf",
   "metadata": {},
   "outputs": [
    {
     "data": {
      "text/plain": [
       "{'Mr Kiran', 'Mr Mahesh', 'Mr Ravi', 'Mr Suraj', 'Mr Surya'}"
      ]
     },
     "execution_count": 14,
     "metadata": {},
     "output_type": "execute_result"
    }
   ],
   "source": [
    "listVal = {'Mahesh','Mahesh','Suraj','Ravi','Kiran','Surya'}\n",
    "uniEle = {'Mr ' + x for x in listVal}\n",
    "uniEle"
   ]
  },
  {
   "cell_type": "markdown",
   "id": "730fa0bd",
   "metadata": {},
   "source": [
    "* list can be created using [] or list()\n",
    "* tuple can be created using () or tuple()\n",
    "* Dictionary can be created using {:} or dict()\n",
    "* sets can be created using {} or set()"
   ]
  },
  {
   "cell_type": "code",
   "execution_count": null,
   "id": "ca9b6584",
   "metadata": {},
   "outputs": [],
   "source": [
    "a = 10\n",
    "b = 20\n",
    "word = 'Hello'"
   ]
  },
  {
   "cell_type": "markdown",
   "id": "c586a5bf",
   "metadata": {},
   "source": [
    "#### Why are we using data strcutures \n",
    " - We want to store multiple values\n",
    " - List  : Ordered set of values and we want to iterate over the values\n",
    "           Index based accessing\n",
    " - Set : Store only unique elements then we shall go for set or we do not want to allow duplicate elements\n",
    " - Tuple : We do not want to modify the values while storage and no modification of values \n",
    " - Dictionary : We want identifiers for values or key/value pairs"
   ]
  },
  {
   "cell_type": "markdown",
   "id": "350e6fa0",
   "metadata": {},
   "source": [
    "* **Dictionary in Python** - Dictionaries in Python are basically key,value pairs. \n",
    "    - In a dictionary, key can be any unique object\n",
    "    - Keys are unique and non-duplicated\n",
    "    - Values can be duplicated\n",
    "    - Dictionaries can be constructed using the dict() or {:} "
   ]
  },
  {
   "cell_type": "markdown",
   "id": "db07e2a8",
   "metadata": {},
   "source": [
    "* Create Dictionary using the dict() keyword"
   ]
  },
  {
   "cell_type": "code",
   "execution_count": 16,
   "id": "1744a2da",
   "metadata": {},
   "outputs": [
    {
     "name": "stdout",
     "output_type": "stream",
     "text": [
      "{101: 'Suraj', 102: 'Mahesh', 103: 'Surya', 104: 'Ravi', 105: 'Kiran', 106: 'Mitra', 107: 'Mahesh B'}\n"
     ]
    }
   ],
   "source": [
    "idName = dict()\n",
    "idName[101] = 'Suraj'\n",
    "idName[102] = 'Mahesh'\n",
    "idName[103] = 'Surya'\n",
    "idName[104] = 'Ravi'\n",
    "idName[105] = 'Kiran'\n",
    "idName[106] = 'Mitra'\n",
    "idName[107] = 'Mahesh B'\n",
    "print(idName)"
   ]
  },
  {
   "cell_type": "code",
   "execution_count": 17,
   "id": "ba3b940a",
   "metadata": {},
   "outputs": [
    {
     "name": "stdout",
     "output_type": "stream",
     "text": [
      "{101: 'Suraj', 102: 'Mahesh', 103: 'Surya', 104: 'Ravi', 105: 'Kiran', 106: 'Mitra', 109: 'Akhilesh'}\n"
     ]
    }
   ],
   "source": [
    "### Another way of creating the dictionary is the following\n",
    "idName = {101: 'Suraj',102: 'Mahesh',103: 'Surya', \n",
    "          104: 'Ravi', 105: 'Kiran', 106: 'Mitra',\n",
    "          109:'Akhilesh'}\n",
    "print(idName)"
   ]
  },
  {
   "cell_type": "markdown",
   "id": "6044dbb9",
   "metadata": {},
   "source": [
    "* Retrieve the value in the dictionary using key"
   ]
  },
  {
   "cell_type": "code",
   "execution_count": 32,
   "id": "e8ccc130",
   "metadata": {},
   "outputs": [
    {
     "data": {
      "text/plain": [
       "'Suraj'"
      ]
     },
     "execution_count": 32,
     "metadata": {},
     "output_type": "execute_result"
    }
   ],
   "source": [
    "### The dictionary name and the id can be passed to get the value - idName[101]\n",
    "### dictionaryName[keyValue]\n",
    "idName[101]"
   ]
  },
  {
   "cell_type": "markdown",
   "id": "c833ec8b",
   "metadata": {},
   "source": [
    "* Check if the key is in the dictionary"
   ]
  },
  {
   "cell_type": "code",
   "execution_count": 33,
   "id": "780aa5ce",
   "metadata": {},
   "outputs": [
    {
     "data": {
      "text/plain": [
       "True"
      ]
     },
     "execution_count": 33,
     "metadata": {},
     "output_type": "execute_result"
    }
   ],
   "source": [
    "### Check if a particular key is available in the dictionary - 101 in idName\n",
    "101 in idName"
   ]
  },
  {
   "cell_type": "code",
   "execution_count": 18,
   "id": "e990d936",
   "metadata": {},
   "outputs": [
    {
     "name": "stdout",
     "output_type": "stream",
     "text": [
      "False\n",
      "False\n"
     ]
    }
   ],
   "source": [
    "### CHeck if a particular key is not available in the dictionary - 109 not in idName\n",
    "print(109 not in idName)\n",
    "print(110 in idName)"
   ]
  },
  {
   "cell_type": "markdown",
   "id": "7e3f2d56",
   "metadata": {},
   "source": [
    "* iterate over the dictionary using keys()"
   ]
  },
  {
   "cell_type": "code",
   "execution_count": 36,
   "id": "d5f10613",
   "metadata": {},
   "outputs": [
    {
     "data": {
      "text/plain": [
       "dict_keys([101, 102, 103, 104, 105, 106, 109])"
      ]
     },
     "execution_count": 36,
     "metadata": {},
     "output_type": "execute_result"
    }
   ],
   "source": [
    "idName.keys()"
   ]
  },
  {
   "cell_type": "code",
   "execution_count": 35,
   "id": "75c2104e",
   "metadata": {},
   "outputs": [
    {
     "name": "stdout",
     "output_type": "stream",
     "text": [
      "Key is 101\n",
      "Key is 102\n",
      "Key is 103\n",
      "Key is 104\n",
      "Key is 105\n",
      "Key is 106\n",
      "Key is 109\n"
     ]
    }
   ],
   "source": [
    "### We can iterate over the dictionary using the keys() function on the dictionary.\n",
    "for k in idName.keys():\n",
    "    print(f'Key is {k}')"
   ]
  },
  {
   "cell_type": "markdown",
   "id": "ceda5c5e",
   "metadata": {},
   "source": [
    "* Values for the dictionary using values()"
   ]
  },
  {
   "cell_type": "code",
   "execution_count": 139,
   "id": "fb71af25",
   "metadata": {},
   "outputs": [
    {
     "name": "stdout",
     "output_type": "stream",
     "text": [
      "value is Suraj\n",
      "value is Mahesh\n",
      "value is Surya\n",
      "value is Ravi\n",
      "value is Kiran\n",
      "value is Mitra\n"
     ]
    }
   ],
   "source": [
    "for v in idName.values():\n",
    "    print(f'value is {v}')"
   ]
  },
  {
   "cell_type": "markdown",
   "id": "fd76901d",
   "metadata": {},
   "source": [
    "* iterate over a dictionary using items()"
   ]
  },
  {
   "cell_type": "code",
   "execution_count": 22,
   "id": "87ef429f",
   "metadata": {},
   "outputs": [
    {
     "name": "stdout",
     "output_type": "stream",
     "text": [
      "Id is 101, Name is Suraj\n",
      "101 Suraj\n",
      "Id is 102, Name is Mahesh\n",
      "102 Mahesh\n",
      "Id is 103, Name is Surya\n",
      "103 Surya\n",
      "Id is 104, Name is Ravi\n",
      "104 Ravi\n",
      "Id is 105, Name is Kiran\n",
      "105 Kiran\n",
      "Id is 106, Name is Mitra\n",
      "106 Mitra\n",
      "Id is 109, Name is Akhilesh\n",
      "109 Akhilesh\n"
     ]
    }
   ],
   "source": [
    "for key,value in idName.items():\n",
    "    print(f'Id is {key}, Name is {value}')\n",
    "    print('Id is {} , Name is {}'.format(key,value))"
   ]
  },
  {
   "cell_type": "markdown",
   "id": "d0449463",
   "metadata": {},
   "source": [
    "* Iterate over a dictionary using the dictionary object "
   ]
  },
  {
   "cell_type": "code",
   "execution_count": 141,
   "id": "4c40bf35",
   "metadata": {},
   "outputs": [
    {
     "name": "stdout",
     "output_type": "stream",
     "text": [
      "101\n",
      "102\n",
      "103\n",
      "104\n",
      "105\n",
      "106\n"
     ]
    }
   ],
   "source": [
    "### Using the dictionary object only the dictionary is used\n",
    "for keyVal in idName:\n",
    "    print(keyVal)"
   ]
  },
  {
   "cell_type": "markdown",
   "id": "f5e88d97",
   "metadata": {},
   "source": [
    "* Delete a key in the dictionary using the del keyword"
   ]
  },
  {
   "cell_type": "code",
   "execution_count": 142,
   "id": "b6f76319",
   "metadata": {},
   "outputs": [],
   "source": [
    "## Delete the key value pair using the idName[key]\n",
    "del idName[101]"
   ]
  },
  {
   "cell_type": "code",
   "execution_count": 143,
   "id": "9780c699",
   "metadata": {},
   "outputs": [
    {
     "data": {
      "text/plain": [
       "{102: 'Mahesh', 103: 'Surya', 104: 'Ravi', 105: 'Kiran', 106: 'Mitra'}"
      ]
     },
     "execution_count": 143,
     "metadata": {},
     "output_type": "execute_result"
    }
   ],
   "source": [
    "idName"
   ]
  },
  {
   "cell_type": "markdown",
   "id": "425dac07",
   "metadata": {},
   "source": [
    "* To get a value from the dictionar using the get() function or the []"
   ]
  },
  {
   "cell_type": "code",
   "execution_count": 144,
   "id": "0c70a777",
   "metadata": {},
   "outputs": [
    {
     "data": {
      "text/plain": [
       "'Mahesh'"
      ]
     },
     "execution_count": 144,
     "metadata": {},
     "output_type": "execute_result"
    }
   ],
   "source": [
    "idName[102]"
   ]
  },
  {
   "cell_type": "code",
   "execution_count": 145,
   "id": "f3ffeb9e",
   "metadata": {},
   "outputs": [
    {
     "data": {
      "text/plain": [
       "'Mahesh'"
      ]
     },
     "execution_count": 145,
     "metadata": {},
     "output_type": "execute_result"
    }
   ],
   "source": [
    "idName.get(102)"
   ]
  },
  {
   "cell_type": "markdown",
   "id": "ce692f20",
   "metadata": {},
   "source": [
    "* If the key is not in the dictionary using the get() method we can use the default value"
   ]
  },
  {
   "cell_type": "code",
   "execution_count": 37,
   "id": "e198e6ca",
   "metadata": {},
   "outputs": [
    {
     "ename": "KeyError",
     "evalue": "110",
     "output_type": "error",
     "traceback": [
      "\u001b[1;31m---------------------------------------------------------------------------\u001b[0m",
      "\u001b[1;31mKeyError\u001b[0m                                  Traceback (most recent call last)",
      "Cell \u001b[1;32mIn[37], line 2\u001b[0m\n\u001b[0;32m      1\u001b[0m \u001b[38;5;66;03m### Lets say we dont have the key/value pair in the dictionary it returns a key erro\u001b[39;00m\n\u001b[1;32m----> 2\u001b[0m \u001b[43midName\u001b[49m\u001b[43m[\u001b[49m\u001b[38;5;241;43m110\u001b[39;49m\u001b[43m]\u001b[49m\n",
      "\u001b[1;31mKeyError\u001b[0m: 110"
     ]
    }
   ],
   "source": [
    "### Lets say we dont have the key/value pair in the dictionary it returns a key erro\n",
    "idName[110]"
   ]
  },
  {
   "cell_type": "code",
   "execution_count": 147,
   "id": "c9b764f2",
   "metadata": {},
   "outputs": [
    {
     "data": {
      "text/plain": [
       "'Mahesh'"
      ]
     },
     "execution_count": 147,
     "metadata": {},
     "output_type": "execute_result"
    }
   ],
   "source": [
    "# If the key is available then it returns the value\n",
    "idName.get(102,\"Value is Not there\")"
   ]
  },
  {
   "cell_type": "code",
   "execution_count": 39,
   "id": "85fecdb3",
   "metadata": {},
   "outputs": [
    {
     "data": {
      "text/plain": [
       "'Key/Value is Not there'"
      ]
     },
     "execution_count": 39,
     "metadata": {},
     "output_type": "execute_result"
    }
   ],
   "source": [
    "idName.get(110,\"Key/Value is Not there\")"
   ]
  },
  {
   "cell_type": "code",
   "execution_count": 149,
   "id": "2e77cd39",
   "metadata": {},
   "outputs": [],
   "source": [
    "### To get the keys in the reversed order we can use reversed on the dictionary"
   ]
  },
  {
   "cell_type": "code",
   "execution_count": 40,
   "id": "d44b0367",
   "metadata": {},
   "outputs": [
    {
     "name": "stdout",
     "output_type": "stream",
     "text": [
      "109\n",
      "106\n",
      "105\n",
      "104\n",
      "103\n",
      "102\n",
      "101\n"
     ]
    }
   ],
   "source": [
    "for i in reversed(idName):\n",
    "    print(i)"
   ]
  },
  {
   "cell_type": "code",
   "execution_count": 151,
   "id": "6da77f5e",
   "metadata": {},
   "outputs": [
    {
     "data": {
      "text/plain": [
       "[102, 103, 104, 105, 106]"
      ]
     },
     "execution_count": 151,
     "metadata": {},
     "output_type": "execute_result"
    }
   ],
   "source": [
    "## Collecting the dictionary keys as list - list(idName)\n",
    "list(idName)"
   ]
  },
  {
   "cell_type": "markdown",
   "id": "ad30bedd",
   "metadata": {},
   "source": [
    "* To remove one key,value pair from the dictionary - using popitem()"
   ]
  },
  {
   "cell_type": "code",
   "execution_count": 41,
   "id": "571732b5",
   "metadata": {},
   "outputs": [
    {
     "data": {
      "text/plain": [
       "(109, 'Akhilesh')"
      ]
     },
     "execution_count": 41,
     "metadata": {},
     "output_type": "execute_result"
    }
   ],
   "source": [
    "## idName.popitem() will remove one key value pair from the dictionary\n",
    "idName.popitem()"
   ]
  },
  {
   "cell_type": "markdown",
   "id": "47ef7457",
   "metadata": {},
   "source": [
    "* To remove one key at a time from the dictionary - using pop()"
   ]
  },
  {
   "cell_type": "code",
   "execution_count": 42,
   "id": "15b7414a",
   "metadata": {},
   "outputs": [
    {
     "data": {
      "text/plain": [
       "'Ravi'"
      ]
     },
     "execution_count": 42,
     "metadata": {},
     "output_type": "execute_result"
    }
   ],
   "source": [
    "### ## idName.pop(key) will pop one key value pair for the given key from the dictionary\n",
    "idName.pop(104)"
   ]
  },
  {
   "cell_type": "code",
   "execution_count": 44,
   "id": "dbc78b1f",
   "metadata": {},
   "outputs": [
    {
     "ename": "KeyError",
     "evalue": "105",
     "output_type": "error",
     "traceback": [
      "\u001b[1;31m---------------------------------------------------------------------------\u001b[0m",
      "\u001b[1;31mKeyError\u001b[0m                                  Traceback (most recent call last)",
      "Cell \u001b[1;32mIn[44], line 2\u001b[0m\n\u001b[0;32m      1\u001b[0m \u001b[38;5;66;03m### If the key is not available in the dictionary, pop() shall given an error on the dictionary\u001b[39;00m\n\u001b[1;32m----> 2\u001b[0m \u001b[43midName\u001b[49m\u001b[38;5;241;43m.\u001b[39;49m\u001b[43mpop\u001b[49m\u001b[43m(\u001b[49m\u001b[38;5;241;43m105\u001b[39;49m\u001b[43m)\u001b[49m\n",
      "\u001b[1;31mKeyError\u001b[0m: 105"
     ]
    }
   ],
   "source": [
    "### If the key is not available in the dictionary, pop() shall given an error on the dictionary\n",
    "idName.pop(105)"
   ]
  },
  {
   "cell_type": "code",
   "execution_count": 43,
   "id": "234b2ec4",
   "metadata": {},
   "outputs": [
    {
     "data": {
      "text/plain": [
       "'Kiran'"
      ]
     },
     "execution_count": 43,
     "metadata": {},
     "output_type": "execute_result"
    }
   ],
   "source": [
    "### If the key is not available in the dictionary, \n",
    "## pop() shall given an error on the dictionary\n"
   ]
  },
  {
   "cell_type": "markdown",
   "id": "33c704df",
   "metadata": {},
   "source": [
    "* length of the dictionary - len() function"
   ]
  },
  {
   "cell_type": "code",
   "execution_count": 156,
   "id": "3f9708dd",
   "metadata": {},
   "outputs": [
    {
     "data": {
      "text/plain": [
       "2"
      ]
     },
     "execution_count": 156,
     "metadata": {},
     "output_type": "execute_result"
    }
   ],
   "source": [
    "# To get the length of the dictionary\n",
    "len(idName)"
   ]
  },
  {
   "cell_type": "markdown",
   "id": "7c26a9f0",
   "metadata": {},
   "source": [
    "* Lets say we want to get the key,value pairs using the dictionary using dictionary comprehension"
   ]
  },
  {
   "cell_type": "code",
   "execution_count": 157,
   "id": "00e79beb",
   "metadata": {},
   "outputs": [
    {
     "data": {
      "text/plain": [
       "{102: 'Mahesh', 104: 'Ravi', 106: 'Mitra'}"
      ]
     },
     "execution_count": 157,
     "metadata": {},
     "output_type": "execute_result"
    }
   ],
   "source": [
    "### Dictionary comprehension can be perfromed using the following: \n",
    "idName = {101: 'Suraj',102: 'Mahesh',103: 'Surya', 104: 'Ravi', 105: 'Kiran', 106: 'Mitra'}\n",
    "# get only the even ids\n",
    "evenIdName = {k:v for (k,v) in idName.items() if k%2 ==0 }\n",
    "evenIdName"
   ]
  },
  {
   "cell_type": "code",
   "execution_count": 158,
   "id": "2d4b444d",
   "metadata": {},
   "outputs": [
    {
     "data": {
      "text/plain": [
       "{'__name__': '__main__',\n",
       " '__doc__': 'Automatically created module for IPython interactive environment',\n",
       " '__package__': None,\n",
       " '__loader__': None,\n",
       " '__spec__': None,\n",
       " '__builtin__': <module 'builtins' (built-in)>,\n",
       " '__builtins__': <module 'builtins' (built-in)>,\n",
       " '_ih': ['',\n",
       "  '<img src=\"truthTable.JPG\">',\n",
       "  '* Bitwise Operators\\n- Bitwise AND (&) Operator',\n",
       "  'print(bin(3))\\nprint(bin(5)) # 011 & 101 --> 1',\n",
       "  '3&5',\n",
       "  'print(3|5)',\n",
       "  '# 0011 | 0101 -> 0111',\n",
       "  '# 1011 ^ 1100 -> 0111 (11^12 -> 7)\\nprint(11^12)',\n",
       "  'l4 = list(range(15))\\nl4[:]',\n",
       "  'l4[0:5]',\n",
       "  '* Slice the l4 list object using the indices from 0 to 5',\n",
       "  'l4[0:5]',\n",
       "  'l4[::-1]',\n",
       "  'l4[::-2]',\n",
       "  'l4[::-1]',\n",
       "  'l4[::-2]',\n",
       "  'slicList = list(range(15))\\nslicList[:]',\n",
       "  'slicList[0:5]',\n",
       "  'slicList[::-1]',\n",
       "  'slicList[::-2]',\n",
       "  '* Can also add step size for the listm',\n",
       "  'slicList[1:7:2]',\n",
       "  'slicList[1:7:2]',\n",
       "  \"listStr = ['Abhilash','Bharat','Chandra','Dinesh','Elangovan','Freddy','Girish']\\nlistStr[:]\",\n",
       "  \"names = ['Abhilash','Bharat','Chandra','Dinesh','Elangovan','Freddy','Girish']\\nnames[:]\",\n",
       "  'names[1:3]',\n",
       "  'names[1:3]',\n",
       "  'names[1:5]',\n",
       "  'names[::-1]',\n",
       "  'names.pop()',\n",
       "  'names',\n",
       "  \"## As we see in the list below once 'girish' is popped, there is no element at the end.\\nnames\",\n",
       "  \"## As we see in the list below once 'girish' is popped, there is no 'girish' element at the end.\\nnames\",\n",
       "  'len(names)',\n",
       "  \"names.remove('Freddy')\",\n",
       "  '## Check the names function and we see that Freddy is no longer available in the names list\\nnames',\n",
       "  \"names.append('Farhan')\\nnames.append('Farhan')\",\n",
       "  'names',\n",
       "  \"## As we see there are two values with the name 'Farhan'\\nnames\",\n",
       "  \"names.remove('Farhan')\\nnames\",\n",
       "  \"names.extend(['Giridhar','Hema','Jishnu'])\",\n",
       "  'names',\n",
       "  '## Display the elements with the latest names added to the list\\nnames',\n",
       "  'names.reverse()',\n",
       "  'names # The list has been reversed and stores the values in the list in reverse order',\n",
       "  'names.clear()',\n",
       "  'names',\n",
       "  'names ## In the above cell , clear() was used to clear the list and now we have no values in the list',\n",
       "  \"for friend in names:\\n    print(friend, end = ',')\",\n",
       "  \"for friend in names:\\n    print(friend, end =',')\",\n",
       "  '### Lets us add the friends to the names list',\n",
       "  \"names = ['Abhilash','Bharat','Chandra','Dinesh','Elangovan','Freddy','Girish']\",\n",
       "  \"for friend in names:\\n    print(friend, end =',')\",\n",
       "  \"for friend in names:\\n    print(friend, end =',') ## We can print the value as show in this\",\n",
       "  \"frNames= [] \\nwhile True: \\n    addName = input(' Would you like to add a name ? Type yes/y or no/n : ')\\n    addName = addName.lower()\\n    if addName == 'yes' or 'y' :\\n        name = input('Enter the name of the friend :  ')\\n        frNames.append(name)\\n    elif addName == 'no' or 'n':\\n        print('No more names are added -- Good bye !!')\\n        print('The friends list are {}'.format(names))\\n        break\",\n",
       "  \"frNames= [] \\nwhile True: \\n    addName = input(' Would you like to add a name ? Type yes/y or no/n : ')\\n    addName = addName.lower()\\n    if addName == 'yes' or  addName == 'y' :\\n        name = input('Enter the name of the friend :  ')\\n        frNames.append(name)\\n    elif addName == 'no' or addName == 'n':\\n        print('No more names are added -- Good bye !!')\\n        print('The friends list are {}'.format(names))\\n        break\\n    else:\\n        print('Wrong Input -- Can accept only yes/y or no/n .. Exiting....')\\n        break\",\n",
       "  \"frNames= [] \\nwhile True: \\n    addName = input(' Would you like to add a name ? Type yes/y or no/n : ')\\n    addName = addName.lower()\\n    if addName == 'yes' or  addName == 'y' :\\n        name = input('Enter the name of the friend :  ')\\n        frNames.append(name)\\n    elif addName == 'no' or addName == 'n':\\n        print('No more names are added -- Good bye !!')\\n        print('The friends list are {}'.format(names))\\n        break\\n    else:\\n        print('Wrong Input -- Can accept only yes/y or no/n .. Exiting....')\\n        break\",\n",
       "  \"frNames= [] \\nwhile True: \\n    addName = input(' Would you like to add a name ? Type yes/y or no/n : ')\\n    addName = addName.lower()\\n    if addName == 'yes' or  addName == 'y' :\\n        name = input('Enter the name of the friend :  ')\\n        frNames.append(name)\\n    elif addName == 'no' or addName == 'n':\\n        print('No more names are added -- Good bye !!')\\n        print('The friends list are {}'.format(frNames))\\n        break\\n    else:\\n        print('Wrong Input -- Can accept only yes/y or no/n .. Exiting....')\\n        break\",\n",
       "  'frNames.sort()',\n",
       "  'frNames',\n",
       "  'frNames',\n",
       "  \"timings = ['1:30','2:30','3:30','4:30','5:30','6:30','7:30']\\ntimings\",\n",
       "  \"frNames.index('Chandra')\",\n",
       "  \"## Lets build a list using 10,11,12,13,14,15,16 - The sum of all the elements in the list can be computed\\n### in two ways  - sum(intList) or using for loops\\nintList = [10,11,12,13,14,15,16]\\nprint('Sum of the list of elements',sum(intList))\\nprint(intList)\",\n",
       "  'intList = 10,11,12,13,14,15,16\\nslist = 0\\nfor i in intList:\\n    slist += i\\nprint(slist) ',\n",
       "  '## Based on the range object lets find the square of each number\\ny = [x**2 for x in range(5)]',\n",
       "  'y',\n",
       "  '## We can also include condition within the for comrephension\\ny = [x**2 for x in range(10) if x%2 == 0 ]\\nprint(y)',\n",
       "  \"### return if only list contains letters starting with s\\nnames = ['sunday','super','semi-conductor','non-conductor','mango','apple']\\ny = [x for x in names if x.startswith('s')]\",\n",
       "  'y',\n",
       "  \"tup1 = (25,'Mango','Rajesh',40,25,24,25)\\ntup1[1]\",\n",
       "  'tup1[3]',\n",
       "  '### Tuples can be iterated over using for loop \\nfor x in tup1:\\n    print(x)',\n",
       "  '## Assigning a value to tuple shows error - tuple object does not support assignment\\ntup1[0] = 35',\n",
       "  '## Count function gives the count of the element in the tuple\\ntup1.count(25)',\n",
       "  'tup1[-1]',\n",
       "  'tup1[-1]',\n",
       "  '* len() function on the tuple. when applied on tuple gives the length of the tuple',\n",
       "  'len(tup1)',\n",
       "  'tup1[len(tup1) - 1]',\n",
       "  \"names = (['Rajesh','Mukesh'],['Sangeeta','Rithika'])\",\n",
       "  \"names[0] = ['Abhishek','Brijesh']\",\n",
       "  \"# This kind of direct assignment to the tuple is not possible ,\\n# where we are assigning the list elements directly to the tuples first value\\nnames[0] = ['Abhishek','Brijesh']\",\n",
       "  '* To access list inside tuple we shall use two indices like the ones used in matrices',\n",
       "  'names[0]',\n",
       "  'names[1]',\n",
       "  \"names[0][0] = 'Abhishek Bachan'\",\n",
       "  \"## We access the inside elements using the syntax below\\nnames[0][0] = 'Abhishek Bachan'\",\n",
       "  'names',\n",
       "  \"names[0][1] = 'Mukesh Khanna'\",\n",
       "  'names',\n",
       "  'a,b = 10,20',\n",
       "  'val1 = a,b,a+b',\n",
       "  'val1',\n",
       "  \"def studentDetails():\\n    name = 'Ajay'\\n    subject = 'Python'\\n    course = 'BBA'\\n    return name,subject, course\",\n",
       "  'details = studentDetails()',\n",
       "  'details',\n",
       "  'a,b ,c = (10,20,30)',\n",
       "  \"print('Values are {} , {} , {}'.format(a,b,c))\",\n",
       "  \"t1 = (10,'Chocolate',20,'Amul')\",\n",
       "  't1',\n",
       "  'type(t1)',\n",
       "  'len(t1)',\n",
       "  'type(t1),len(t1)',\n",
       "  't1',\n",
       "  'l1 = list(t1)',\n",
       "  'l1',\n",
       "  \"l1[1] = 'Butter Scotch'\",\n",
       "  'l1',\n",
       "  'type(l1)',\n",
       "  't2 = tuple(l1)',\n",
       "  't2',\n",
       "  '* **Sets in Python**\\n  - Sets contain unique elements  \\n  - Sets are unordered sequence of elements\\n  - They are represented using the {} (curly braces)',\n",
       "  \"elements = {'Mahesh','Mahesh','Suraj','Ravi','Kiran','Surya'}\\nelements\",\n",
       "  \"#### Sets can be constructed using the following set keyword and passing a list to it\\neles = set(['Mahesh','Mahesh','Suraj','Ravi','Kiran','Surya'])\\neles\",\n",
       "  'elements',\n",
       "  'for x in elements:\\n    print(x)',\n",
       "  \"## The set elements are given below - We can represent the data as els = {'Mahesh','Mahesh','Suraj','Ravi','Kiran','Surya'}\\nels = {'Mahesh','Mahesh','Suraj','Ravi','Kiran','Surya'}\\nlen(els)\",\n",
       "  \"### Add the following element to the set elements 'Mitra' using add function\\nels.add('Mitra')\",\n",
       "  'els',\n",
       "  \"## Lets create one more set els2 = els2 = {'kiran','Mahesh', 'Mitra'}\\nels2 = {'kiran','Mahesh', 'Mitra'}\",\n",
       "  'els.difference(els2)',\n",
       "  '* difference_update() - Removes the elements from the other set',\n",
       "  'els.difference_update(els2)',\n",
       "  'els',\n",
       "  'els2',\n",
       "  \"## Create the set and try to perform union on els and els2\\nels = {'Mahesh','Mahesh','Suraj','Ravi','Kiran','Surya'}\\nlen(els)\",\n",
       "  'els.union(els2)',\n",
       "  'els.intersection(els2)',\n",
       "  'print(els)\\nprint(els2)',\n",
       "  '## els.symmetric_difference(els2) gives the common elements between both the sets.\\nels.symmetric_difference(els2)',\n",
       "  \"listVal = {'Mahesh','Mahesh','Suraj','Ravi','Kiran','Surya'}\\nuniEle = {x for x in listVal}\\nuniEle\",\n",
       "  \"idName = dict()\\nidName[101] = 'Suraj'\\nidName[102] = 'Mahesh'\\nidName[103] = 'Surya'\\nidName[104] = 'Ravi'\\nidName[105] = 'Kiran'\\nidName[106] = 'Mitra'\\nidName\",\n",
       "  \"### Another way of creating the dictionary is the following\\nidName = {101: 'Suraj',102: 'Mahesh',103: 'Surya', 104: 'Ravi', 105: 'Kiran', 106: 'Mitra'}\\nidName\",\n",
       "  '### The dictionary name and the id can be passed to get the value - idName[101]\\nidName{101}',\n",
       "  '### The dictionary name and the id can be passed to get the value - idName[101]\\nidName[101]',\n",
       "  '### Check if a particular key is available in the dictionary - 101 in idName\\n101 in idName',\n",
       "  '### CHeck if a particular key is not available in the dictionary - 109 not in idName\\nprint(109 not in idName)\\nprint(110 in idName)',\n",
       "  \"### We can iterate over the dictionary using the keys() function on the dictionary.\\nfor k in idName.keys():\\n    print(f'Key is {k}')\",\n",
       "  \"for v in idName.values():\\n    print(f'value is {v}')\",\n",
       "  \"for key,value in idName.items():\\n    print(f'Id is {key}, Name is {value}')\",\n",
       "  '### Using the dictionary object only the dictionary is used\\nfor keyVal in idName:\\n    print(keyVal)',\n",
       "  '## Delete the key value pair using the idName[key]\\ndel idName[101]',\n",
       "  'idName',\n",
       "  'idName[102]',\n",
       "  'idName.get(102)',\n",
       "  '### Lets say we dont have the key/value pair in the dictionary it returns a key erro\\nidName[109]',\n",
       "  '# If the key is available then it returns the value\\nidName.get(102,\"Value is Not there\")',\n",
       "  'idName.get(109,\"Key/Value is Not there\")',\n",
       "  '### To get the keys in the reversed order we can use reversed on the dictionary',\n",
       "  'for i in reversed(idName):\\n    print(i)',\n",
       "  '## Collecting the dictionary keys as list - list(idName)\\nlist(idName)',\n",
       "  '## idName.popitem() will remove one key value pair from the dictionary\\nidName.popitem()',\n",
       "  '### ## idName.pop(key) will pop one key value pair for the given key from the dictionary\\nidName.pop(104)',\n",
       "  '### If the key is not available in the dictionary, pop() shall given an error on the dictionary\\nidName.pop(105)',\n",
       "  '### If the key is not available in the dictionary, pop() shall given an error on the dictionary\\nidName.pop(105)',\n",
       "  '# To get the length of the dictionary\\nlen(idName)',\n",
       "  \"### Dictionary comprehension can be perfromed using the following: \\nidName = idName = {101: 'Suraj',102: 'Mahesh',103: 'Surya', 104: 'Ravi', 105: 'Kiran', 106: 'Mitra'}\\n\\n# get only the even ids\\n\\nevenIdName = {k:v for (k,v) in idName.items() if k%2 ==0 }\\nevenIdName\",\n",
       "  'globals()'],\n",
       " '_oh': {4: 1,\n",
       "  8: [0, 1, 2, 3, 4, 5, 6, 7, 8, 9, 10, 11, 12, 13, 14],\n",
       "  9: [0, 1, 2, 3, 4],\n",
       "  11: [0, 1, 2, 3, 4],\n",
       "  12: [14, 13, 12, 11, 10, 9, 8, 7, 6, 5, 4, 3, 2, 1, 0],\n",
       "  13: [14, 12, 10, 8, 6, 4, 2, 0],\n",
       "  14: [14, 13, 12, 11, 10, 9, 8, 7, 6, 5, 4, 3, 2, 1, 0],\n",
       "  15: [14, 12, 10, 8, 6, 4, 2, 0],\n",
       "  16: [0, 1, 2, 3, 4, 5, 6, 7, 8, 9, 10, 11, 12, 13, 14],\n",
       "  17: [0, 1, 2, 3, 4],\n",
       "  18: [14, 13, 12, 11, 10, 9, 8, 7, 6, 5, 4, 3, 2, 1, 0],\n",
       "  19: [14, 12, 10, 8, 6, 4, 2, 0],\n",
       "  21: [1, 3, 5],\n",
       "  22: [1, 3, 5],\n",
       "  23: ['Abhilash',\n",
       "   'Bharat',\n",
       "   'Chandra',\n",
       "   'Dinesh',\n",
       "   'Elangovan',\n",
       "   'Freddy',\n",
       "   'Girish'],\n",
       "  24: ['Abhilash',\n",
       "   'Bharat',\n",
       "   'Chandra',\n",
       "   'Dinesh',\n",
       "   'Elangovan',\n",
       "   'Freddy',\n",
       "   'Girish'],\n",
       "  25: ['Bharat', 'Chandra'],\n",
       "  26: ['Bharat', 'Chandra'],\n",
       "  27: ['Bharat', 'Chandra', 'Dinesh', 'Elangovan'],\n",
       "  28: ['Girish',\n",
       "   'Freddy',\n",
       "   'Elangovan',\n",
       "   'Dinesh',\n",
       "   'Chandra',\n",
       "   'Bharat',\n",
       "   'Abhilash'],\n",
       "  29: 'Girish',\n",
       "  30: [],\n",
       "  31: [],\n",
       "  32: [],\n",
       "  33: 6,\n",
       "  35: [],\n",
       "  37: [],\n",
       "  38: [],\n",
       "  39: [],\n",
       "  41: [],\n",
       "  42: [],\n",
       "  44: [],\n",
       "  46: [],\n",
       "  47: [],\n",
       "  59: ['Bindu', 'Chandra', 'abhishek'],\n",
       "  60: ['Bindu', 'Chandra', 'abhishek'],\n",
       "  61: ['1:30', '2:30', '3:30', '4:30', '5:30', '6:30', '7:30'],\n",
       "  62: 1,\n",
       "  66: [0, 1, 4, 9, 16],\n",
       "  69: ['sunday', 'super', 'semi-conductor'],\n",
       "  70: 'Mango',\n",
       "  71: 40,\n",
       "  74: 3,\n",
       "  75: 25,\n",
       "  76: 25,\n",
       "  78: 7,\n",
       "  79: 25,\n",
       "  84: ['Abhishek Bachan', 'Mukesh Khanna'],\n",
       "  85: ['Sangeeta', 'Rithika'],\n",
       "  88: (['Abhishek Bachan', 'Mukesh Khanna'], ['Sangeeta', 'Rithika']),\n",
       "  90: (['Abhishek Bachan', 'Mukesh Khanna'], ['Sangeeta', 'Rithika']),\n",
       "  93: (10, 20, 30),\n",
       "  96: ('Ajay', 'Python', 'BBA'),\n",
       "  100: (10, 'Chocolate', 20, 'Amul'),\n",
       "  101: tuple,\n",
       "  102: 4,\n",
       "  103: (tuple, 4),\n",
       "  104: (10, 'Chocolate', 20, 'Amul'),\n",
       "  106: [10, 'Butter Scotch', 20, 'Amul'],\n",
       "  108: [10, 'Butter Scotch', 20, 'Amul'],\n",
       "  109: list,\n",
       "  111: (10, 'Butter Scotch', 20, 'Amul'),\n",
       "  113: {'Kiran', 'Mahesh', 'Ravi', 'Suraj', 'Surya'},\n",
       "  114: {'Kiran', 'Mahesh', 'Ravi', 'Suraj', 'Surya'},\n",
       "  115: {'Kiran', 'Mahesh', 'Ravi', 'Suraj', 'Surya'},\n",
       "  117: 5,\n",
       "  119: {'Kiran', 'Ravi', 'Suraj', 'Surya'},\n",
       "  121: {'Kiran', 'Ravi', 'Suraj', 'Surya'},\n",
       "  124: {'Kiran', 'Ravi', 'Suraj', 'Surya'},\n",
       "  125: {'Mahesh', 'Mitra', 'kiran'},\n",
       "  126: 5,\n",
       "  127: {'Kiran', 'Mahesh', 'Mitra', 'Ravi', 'Suraj', 'Surya', 'kiran'},\n",
       "  128: {'Mahesh'},\n",
       "  130: {'Kiran', 'Mitra', 'Ravi', 'Suraj', 'Surya', 'kiran'},\n",
       "  131: {'Kiran', 'Mahesh', 'Ravi', 'Suraj', 'Surya'},\n",
       "  132: {101: 'Suraj',\n",
       "   102: 'Mahesh',\n",
       "   103: 'Surya',\n",
       "   104: 'Ravi',\n",
       "   105: 'Kiran',\n",
       "   106: 'Mitra'},\n",
       "  133: {102: 'Mahesh', 103: 'Surya'},\n",
       "  135: 'Suraj',\n",
       "  136: True,\n",
       "  143: {102: 'Mahesh', 103: 'Surya'},\n",
       "  144: 'Mahesh',\n",
       "  145: 'Mahesh',\n",
       "  147: 'Mahesh',\n",
       "  148: 'Key/Value is Not there',\n",
       "  151: [102, 103, 104, 105, 106],\n",
       "  152: (106, 'Mitra'),\n",
       "  153: 'Ravi',\n",
       "  154: 'Kiran',\n",
       "  156: 2,\n",
       "  157: {102: 'Mahesh', 104: 'Ravi', 106: 'Mitra'}},\n",
       " '_dh': [WindowsPath('C:/Users/Jayanth/Python_DataAnalysis/SivaSivani')],\n",
       " 'In': ['',\n",
       "  '<img src=\"truthTable.JPG\">',\n",
       "  '* Bitwise Operators\\n- Bitwise AND (&) Operator',\n",
       "  'print(bin(3))\\nprint(bin(5)) # 011 & 101 --> 1',\n",
       "  '3&5',\n",
       "  'print(3|5)',\n",
       "  '# 0011 | 0101 -> 0111',\n",
       "  '# 1011 ^ 1100 -> 0111 (11^12 -> 7)\\nprint(11^12)',\n",
       "  'l4 = list(range(15))\\nl4[:]',\n",
       "  'l4[0:5]',\n",
       "  '* Slice the l4 list object using the indices from 0 to 5',\n",
       "  'l4[0:5]',\n",
       "  'l4[::-1]',\n",
       "  'l4[::-2]',\n",
       "  'l4[::-1]',\n",
       "  'l4[::-2]',\n",
       "  'slicList = list(range(15))\\nslicList[:]',\n",
       "  'slicList[0:5]',\n",
       "  'slicList[::-1]',\n",
       "  'slicList[::-2]',\n",
       "  '* Can also add step size for the listm',\n",
       "  'slicList[1:7:2]',\n",
       "  'slicList[1:7:2]',\n",
       "  \"listStr = ['Abhilash','Bharat','Chandra','Dinesh','Elangovan','Freddy','Girish']\\nlistStr[:]\",\n",
       "  \"names = ['Abhilash','Bharat','Chandra','Dinesh','Elangovan','Freddy','Girish']\\nnames[:]\",\n",
       "  'names[1:3]',\n",
       "  'names[1:3]',\n",
       "  'names[1:5]',\n",
       "  'names[::-1]',\n",
       "  'names.pop()',\n",
       "  'names',\n",
       "  \"## As we see in the list below once 'girish' is popped, there is no element at the end.\\nnames\",\n",
       "  \"## As we see in the list below once 'girish' is popped, there is no 'girish' element at the end.\\nnames\",\n",
       "  'len(names)',\n",
       "  \"names.remove('Freddy')\",\n",
       "  '## Check the names function and we see that Freddy is no longer available in the names list\\nnames',\n",
       "  \"names.append('Farhan')\\nnames.append('Farhan')\",\n",
       "  'names',\n",
       "  \"## As we see there are two values with the name 'Farhan'\\nnames\",\n",
       "  \"names.remove('Farhan')\\nnames\",\n",
       "  \"names.extend(['Giridhar','Hema','Jishnu'])\",\n",
       "  'names',\n",
       "  '## Display the elements with the latest names added to the list\\nnames',\n",
       "  'names.reverse()',\n",
       "  'names # The list has been reversed and stores the values in the list in reverse order',\n",
       "  'names.clear()',\n",
       "  'names',\n",
       "  'names ## In the above cell , clear() was used to clear the list and now we have no values in the list',\n",
       "  \"for friend in names:\\n    print(friend, end = ',')\",\n",
       "  \"for friend in names:\\n    print(friend, end =',')\",\n",
       "  '### Lets us add the friends to the names list',\n",
       "  \"names = ['Abhilash','Bharat','Chandra','Dinesh','Elangovan','Freddy','Girish']\",\n",
       "  \"for friend in names:\\n    print(friend, end =',')\",\n",
       "  \"for friend in names:\\n    print(friend, end =',') ## We can print the value as show in this\",\n",
       "  \"frNames= [] \\nwhile True: \\n    addName = input(' Would you like to add a name ? Type yes/y or no/n : ')\\n    addName = addName.lower()\\n    if addName == 'yes' or 'y' :\\n        name = input('Enter the name of the friend :  ')\\n        frNames.append(name)\\n    elif addName == 'no' or 'n':\\n        print('No more names are added -- Good bye !!')\\n        print('The friends list are {}'.format(names))\\n        break\",\n",
       "  \"frNames= [] \\nwhile True: \\n    addName = input(' Would you like to add a name ? Type yes/y or no/n : ')\\n    addName = addName.lower()\\n    if addName == 'yes' or  addName == 'y' :\\n        name = input('Enter the name of the friend :  ')\\n        frNames.append(name)\\n    elif addName == 'no' or addName == 'n':\\n        print('No more names are added -- Good bye !!')\\n        print('The friends list are {}'.format(names))\\n        break\\n    else:\\n        print('Wrong Input -- Can accept only yes/y or no/n .. Exiting....')\\n        break\",\n",
       "  \"frNames= [] \\nwhile True: \\n    addName = input(' Would you like to add a name ? Type yes/y or no/n : ')\\n    addName = addName.lower()\\n    if addName == 'yes' or  addName == 'y' :\\n        name = input('Enter the name of the friend :  ')\\n        frNames.append(name)\\n    elif addName == 'no' or addName == 'n':\\n        print('No more names are added -- Good bye !!')\\n        print('The friends list are {}'.format(names))\\n        break\\n    else:\\n        print('Wrong Input -- Can accept only yes/y or no/n .. Exiting....')\\n        break\",\n",
       "  \"frNames= [] \\nwhile True: \\n    addName = input(' Would you like to add a name ? Type yes/y or no/n : ')\\n    addName = addName.lower()\\n    if addName == 'yes' or  addName == 'y' :\\n        name = input('Enter the name of the friend :  ')\\n        frNames.append(name)\\n    elif addName == 'no' or addName == 'n':\\n        print('No more names are added -- Good bye !!')\\n        print('The friends list are {}'.format(frNames))\\n        break\\n    else:\\n        print('Wrong Input -- Can accept only yes/y or no/n .. Exiting....')\\n        break\",\n",
       "  'frNames.sort()',\n",
       "  'frNames',\n",
       "  'frNames',\n",
       "  \"timings = ['1:30','2:30','3:30','4:30','5:30','6:30','7:30']\\ntimings\",\n",
       "  \"frNames.index('Chandra')\",\n",
       "  \"## Lets build a list using 10,11,12,13,14,15,16 - The sum of all the elements in the list can be computed\\n### in two ways  - sum(intList) or using for loops\\nintList = [10,11,12,13,14,15,16]\\nprint('Sum of the list of elements',sum(intList))\\nprint(intList)\",\n",
       "  'intList = 10,11,12,13,14,15,16\\nslist = 0\\nfor i in intList:\\n    slist += i\\nprint(slist) ',\n",
       "  '## Based on the range object lets find the square of each number\\ny = [x**2 for x in range(5)]',\n",
       "  'y',\n",
       "  '## We can also include condition within the for comrephension\\ny = [x**2 for x in range(10) if x%2 == 0 ]\\nprint(y)',\n",
       "  \"### return if only list contains letters starting with s\\nnames = ['sunday','super','semi-conductor','non-conductor','mango','apple']\\ny = [x for x in names if x.startswith('s')]\",\n",
       "  'y',\n",
       "  \"tup1 = (25,'Mango','Rajesh',40,25,24,25)\\ntup1[1]\",\n",
       "  'tup1[3]',\n",
       "  '### Tuples can be iterated over using for loop \\nfor x in tup1:\\n    print(x)',\n",
       "  '## Assigning a value to tuple shows error - tuple object does not support assignment\\ntup1[0] = 35',\n",
       "  '## Count function gives the count of the element in the tuple\\ntup1.count(25)',\n",
       "  'tup1[-1]',\n",
       "  'tup1[-1]',\n",
       "  '* len() function on the tuple. when applied on tuple gives the length of the tuple',\n",
       "  'len(tup1)',\n",
       "  'tup1[len(tup1) - 1]',\n",
       "  \"names = (['Rajesh','Mukesh'],['Sangeeta','Rithika'])\",\n",
       "  \"names[0] = ['Abhishek','Brijesh']\",\n",
       "  \"# This kind of direct assignment to the tuple is not possible ,\\n# where we are assigning the list elements directly to the tuples first value\\nnames[0] = ['Abhishek','Brijesh']\",\n",
       "  '* To access list inside tuple we shall use two indices like the ones used in matrices',\n",
       "  'names[0]',\n",
       "  'names[1]',\n",
       "  \"names[0][0] = 'Abhishek Bachan'\",\n",
       "  \"## We access the inside elements using the syntax below\\nnames[0][0] = 'Abhishek Bachan'\",\n",
       "  'names',\n",
       "  \"names[0][1] = 'Mukesh Khanna'\",\n",
       "  'names',\n",
       "  'a,b = 10,20',\n",
       "  'val1 = a,b,a+b',\n",
       "  'val1',\n",
       "  \"def studentDetails():\\n    name = 'Ajay'\\n    subject = 'Python'\\n    course = 'BBA'\\n    return name,subject, course\",\n",
       "  'details = studentDetails()',\n",
       "  'details',\n",
       "  'a,b ,c = (10,20,30)',\n",
       "  \"print('Values are {} , {} , {}'.format(a,b,c))\",\n",
       "  \"t1 = (10,'Chocolate',20,'Amul')\",\n",
       "  't1',\n",
       "  'type(t1)',\n",
       "  'len(t1)',\n",
       "  'type(t1),len(t1)',\n",
       "  't1',\n",
       "  'l1 = list(t1)',\n",
       "  'l1',\n",
       "  \"l1[1] = 'Butter Scotch'\",\n",
       "  'l1',\n",
       "  'type(l1)',\n",
       "  't2 = tuple(l1)',\n",
       "  't2',\n",
       "  '* **Sets in Python**\\n  - Sets contain unique elements  \\n  - Sets are unordered sequence of elements\\n  - They are represented using the {} (curly braces)',\n",
       "  \"elements = {'Mahesh','Mahesh','Suraj','Ravi','Kiran','Surya'}\\nelements\",\n",
       "  \"#### Sets can be constructed using the following set keyword and passing a list to it\\neles = set(['Mahesh','Mahesh','Suraj','Ravi','Kiran','Surya'])\\neles\",\n",
       "  'elements',\n",
       "  'for x in elements:\\n    print(x)',\n",
       "  \"## The set elements are given below - We can represent the data as els = {'Mahesh','Mahesh','Suraj','Ravi','Kiran','Surya'}\\nels = {'Mahesh','Mahesh','Suraj','Ravi','Kiran','Surya'}\\nlen(els)\",\n",
       "  \"### Add the following element to the set elements 'Mitra' using add function\\nels.add('Mitra')\",\n",
       "  'els',\n",
       "  \"## Lets create one more set els2 = els2 = {'kiran','Mahesh', 'Mitra'}\\nels2 = {'kiran','Mahesh', 'Mitra'}\",\n",
       "  'els.difference(els2)',\n",
       "  '* difference_update() - Removes the elements from the other set',\n",
       "  'els.difference_update(els2)',\n",
       "  'els',\n",
       "  'els2',\n",
       "  \"## Create the set and try to perform union on els and els2\\nels = {'Mahesh','Mahesh','Suraj','Ravi','Kiran','Surya'}\\nlen(els)\",\n",
       "  'els.union(els2)',\n",
       "  'els.intersection(els2)',\n",
       "  'print(els)\\nprint(els2)',\n",
       "  '## els.symmetric_difference(els2) gives the common elements between both the sets.\\nels.symmetric_difference(els2)',\n",
       "  \"listVal = {'Mahesh','Mahesh','Suraj','Ravi','Kiran','Surya'}\\nuniEle = {x for x in listVal}\\nuniEle\",\n",
       "  \"idName = dict()\\nidName[101] = 'Suraj'\\nidName[102] = 'Mahesh'\\nidName[103] = 'Surya'\\nidName[104] = 'Ravi'\\nidName[105] = 'Kiran'\\nidName[106] = 'Mitra'\\nidName\",\n",
       "  \"### Another way of creating the dictionary is the following\\nidName = {101: 'Suraj',102: 'Mahesh',103: 'Surya', 104: 'Ravi', 105: 'Kiran', 106: 'Mitra'}\\nidName\",\n",
       "  '### The dictionary name and the id can be passed to get the value - idName[101]\\nidName{101}',\n",
       "  '### The dictionary name and the id can be passed to get the value - idName[101]\\nidName[101]',\n",
       "  '### Check if a particular key is available in the dictionary - 101 in idName\\n101 in idName',\n",
       "  '### CHeck if a particular key is not available in the dictionary - 109 not in idName\\nprint(109 not in idName)\\nprint(110 in idName)',\n",
       "  \"### We can iterate over the dictionary using the keys() function on the dictionary.\\nfor k in idName.keys():\\n    print(f'Key is {k}')\",\n",
       "  \"for v in idName.values():\\n    print(f'value is {v}')\",\n",
       "  \"for key,value in idName.items():\\n    print(f'Id is {key}, Name is {value}')\",\n",
       "  '### Using the dictionary object only the dictionary is used\\nfor keyVal in idName:\\n    print(keyVal)',\n",
       "  '## Delete the key value pair using the idName[key]\\ndel idName[101]',\n",
       "  'idName',\n",
       "  'idName[102]',\n",
       "  'idName.get(102)',\n",
       "  '### Lets say we dont have the key/value pair in the dictionary it returns a key erro\\nidName[109]',\n",
       "  '# If the key is available then it returns the value\\nidName.get(102,\"Value is Not there\")',\n",
       "  'idName.get(109,\"Key/Value is Not there\")',\n",
       "  '### To get the keys in the reversed order we can use reversed on the dictionary',\n",
       "  'for i in reversed(idName):\\n    print(i)',\n",
       "  '## Collecting the dictionary keys as list - list(idName)\\nlist(idName)',\n",
       "  '## idName.popitem() will remove one key value pair from the dictionary\\nidName.popitem()',\n",
       "  '### ## idName.pop(key) will pop one key value pair for the given key from the dictionary\\nidName.pop(104)',\n",
       "  '### If the key is not available in the dictionary, pop() shall given an error on the dictionary\\nidName.pop(105)',\n",
       "  '### If the key is not available in the dictionary, pop() shall given an error on the dictionary\\nidName.pop(105)',\n",
       "  '# To get the length of the dictionary\\nlen(idName)',\n",
       "  \"### Dictionary comprehension can be perfromed using the following: \\nidName = idName = {101: 'Suraj',102: 'Mahesh',103: 'Surya', 104: 'Ravi', 105: 'Kiran', 106: 'Mitra'}\\n\\n# get only the even ids\\n\\nevenIdName = {k:v for (k,v) in idName.items() if k%2 ==0 }\\nevenIdName\",\n",
       "  'globals()'],\n",
       " 'Out': {4: 1,\n",
       "  8: [0, 1, 2, 3, 4, 5, 6, 7, 8, 9, 10, 11, 12, 13, 14],\n",
       "  9: [0, 1, 2, 3, 4],\n",
       "  11: [0, 1, 2, 3, 4],\n",
       "  12: [14, 13, 12, 11, 10, 9, 8, 7, 6, 5, 4, 3, 2, 1, 0],\n",
       "  13: [14, 12, 10, 8, 6, 4, 2, 0],\n",
       "  14: [14, 13, 12, 11, 10, 9, 8, 7, 6, 5, 4, 3, 2, 1, 0],\n",
       "  15: [14, 12, 10, 8, 6, 4, 2, 0],\n",
       "  16: [0, 1, 2, 3, 4, 5, 6, 7, 8, 9, 10, 11, 12, 13, 14],\n",
       "  17: [0, 1, 2, 3, 4],\n",
       "  18: [14, 13, 12, 11, 10, 9, 8, 7, 6, 5, 4, 3, 2, 1, 0],\n",
       "  19: [14, 12, 10, 8, 6, 4, 2, 0],\n",
       "  21: [1, 3, 5],\n",
       "  22: [1, 3, 5],\n",
       "  23: ['Abhilash',\n",
       "   'Bharat',\n",
       "   'Chandra',\n",
       "   'Dinesh',\n",
       "   'Elangovan',\n",
       "   'Freddy',\n",
       "   'Girish'],\n",
       "  24: ['Abhilash',\n",
       "   'Bharat',\n",
       "   'Chandra',\n",
       "   'Dinesh',\n",
       "   'Elangovan',\n",
       "   'Freddy',\n",
       "   'Girish'],\n",
       "  25: ['Bharat', 'Chandra'],\n",
       "  26: ['Bharat', 'Chandra'],\n",
       "  27: ['Bharat', 'Chandra', 'Dinesh', 'Elangovan'],\n",
       "  28: ['Girish',\n",
       "   'Freddy',\n",
       "   'Elangovan',\n",
       "   'Dinesh',\n",
       "   'Chandra',\n",
       "   'Bharat',\n",
       "   'Abhilash'],\n",
       "  29: 'Girish',\n",
       "  30: [],\n",
       "  31: [],\n",
       "  32: [],\n",
       "  33: 6,\n",
       "  35: [],\n",
       "  37: [],\n",
       "  38: [],\n",
       "  39: [],\n",
       "  41: [],\n",
       "  42: [],\n",
       "  44: [],\n",
       "  46: [],\n",
       "  47: [],\n",
       "  59: ['Bindu', 'Chandra', 'abhishek'],\n",
       "  60: ['Bindu', 'Chandra', 'abhishek'],\n",
       "  61: ['1:30', '2:30', '3:30', '4:30', '5:30', '6:30', '7:30'],\n",
       "  62: 1,\n",
       "  66: [0, 1, 4, 9, 16],\n",
       "  69: ['sunday', 'super', 'semi-conductor'],\n",
       "  70: 'Mango',\n",
       "  71: 40,\n",
       "  74: 3,\n",
       "  75: 25,\n",
       "  76: 25,\n",
       "  78: 7,\n",
       "  79: 25,\n",
       "  84: ['Abhishek Bachan', 'Mukesh Khanna'],\n",
       "  85: ['Sangeeta', 'Rithika'],\n",
       "  88: (['Abhishek Bachan', 'Mukesh Khanna'], ['Sangeeta', 'Rithika']),\n",
       "  90: (['Abhishek Bachan', 'Mukesh Khanna'], ['Sangeeta', 'Rithika']),\n",
       "  93: (10, 20, 30),\n",
       "  96: ('Ajay', 'Python', 'BBA'),\n",
       "  100: (10, 'Chocolate', 20, 'Amul'),\n",
       "  101: tuple,\n",
       "  102: 4,\n",
       "  103: (tuple, 4),\n",
       "  104: (10, 'Chocolate', 20, 'Amul'),\n",
       "  106: [10, 'Butter Scotch', 20, 'Amul'],\n",
       "  108: [10, 'Butter Scotch', 20, 'Amul'],\n",
       "  109: list,\n",
       "  111: (10, 'Butter Scotch', 20, 'Amul'),\n",
       "  113: {'Kiran', 'Mahesh', 'Ravi', 'Suraj', 'Surya'},\n",
       "  114: {'Kiran', 'Mahesh', 'Ravi', 'Suraj', 'Surya'},\n",
       "  115: {'Kiran', 'Mahesh', 'Ravi', 'Suraj', 'Surya'},\n",
       "  117: 5,\n",
       "  119: {'Kiran', 'Ravi', 'Suraj', 'Surya'},\n",
       "  121: {'Kiran', 'Ravi', 'Suraj', 'Surya'},\n",
       "  124: {'Kiran', 'Ravi', 'Suraj', 'Surya'},\n",
       "  125: {'Mahesh', 'Mitra', 'kiran'},\n",
       "  126: 5,\n",
       "  127: {'Kiran', 'Mahesh', 'Mitra', 'Ravi', 'Suraj', 'Surya', 'kiran'},\n",
       "  128: {'Mahesh'},\n",
       "  130: {'Kiran', 'Mitra', 'Ravi', 'Suraj', 'Surya', 'kiran'},\n",
       "  131: {'Kiran', 'Mahesh', 'Ravi', 'Suraj', 'Surya'},\n",
       "  132: {101: 'Suraj',\n",
       "   102: 'Mahesh',\n",
       "   103: 'Surya',\n",
       "   104: 'Ravi',\n",
       "   105: 'Kiran',\n",
       "   106: 'Mitra'},\n",
       "  133: {102: 'Mahesh', 103: 'Surya'},\n",
       "  135: 'Suraj',\n",
       "  136: True,\n",
       "  143: {102: 'Mahesh', 103: 'Surya'},\n",
       "  144: 'Mahesh',\n",
       "  145: 'Mahesh',\n",
       "  147: 'Mahesh',\n",
       "  148: 'Key/Value is Not there',\n",
       "  151: [102, 103, 104, 105, 106],\n",
       "  152: (106, 'Mitra'),\n",
       "  153: 'Ravi',\n",
       "  154: 'Kiran',\n",
       "  156: 2,\n",
       "  157: {102: 'Mahesh', 104: 'Ravi', 106: 'Mitra'}},\n",
       " 'get_ipython': <bound method InteractiveShell.get_ipython of <ipykernel.zmqshell.ZMQInteractiveShell object at 0x000001FBCF268FD0>>,\n",
       " 'exit': <IPython.core.autocall.ZMQExitAutocall at 0x1fbcf26a7d0>,\n",
       " 'quit': <IPython.core.autocall.ZMQExitAutocall at 0x1fbcf26a7d0>,\n",
       " 'open': <function io.open(file, mode='r', buffering=-1, encoding=None, errors=None, newline=None, closefd=True, opener=None)>,\n",
       " '_': {102: 'Mahesh', 104: 'Ravi', 106: 'Mitra'},\n",
       " '__': 2,\n",
       " '___': 'Kiran',\n",
       " '_i': \"### Dictionary comprehension can be perfromed using the following: \\nidName = idName = {101: 'Suraj',102: 'Mahesh',103: 'Surya', 104: 'Ravi', 105: 'Kiran', 106: 'Mitra'}\\n\\n# get only the even ids\\n\\nevenIdName = {k:v for (k,v) in idName.items() if k%2 ==0 }\\nevenIdName\",\n",
       " '_ii': '# To get the length of the dictionary\\nlen(idName)',\n",
       " '_iii': '### If the key is not available in the dictionary, pop() shall given an error on the dictionary\\nidName.pop(105)',\n",
       " '_i1': '<img src=\"truthTable.JPG\">',\n",
       " '_i2': '* Bitwise Operators\\n- Bitwise AND (&) Operator',\n",
       " '_i3': 'print(bin(3))\\nprint(bin(5)) # 011 & 101 --> 1',\n",
       " '_i4': '3&5',\n",
       " '_4': 1,\n",
       " '_i5': 'print(3|5)',\n",
       " '_i6': '# 0011 | 0101 -> 0111',\n",
       " '_i7': '# 1011 ^ 1100 -> 0111 (11^12 -> 7)\\nprint(11^12)',\n",
       " '_i8': 'l4 = list(range(15))\\nl4[:]',\n",
       " 'l4': [0, 1, 2, 3, 4, 5, 6, 7, 8, 9, 10, 11, 12, 13, 14],\n",
       " '_8': [0, 1, 2, 3, 4, 5, 6, 7, 8, 9, 10, 11, 12, 13, 14],\n",
       " '_i9': 'l4[0:5]',\n",
       " '_9': [0, 1, 2, 3, 4],\n",
       " '_i10': '* Slice the l4 list object using the indices from 0 to 5',\n",
       " '_i11': 'l4[0:5]',\n",
       " '_11': [0, 1, 2, 3, 4],\n",
       " '_i12': 'l4[::-1]',\n",
       " '_12': [14, 13, 12, 11, 10, 9, 8, 7, 6, 5, 4, 3, 2, 1, 0],\n",
       " '_i13': 'l4[::-2]',\n",
       " '_13': [14, 12, 10, 8, 6, 4, 2, 0],\n",
       " '_i14': 'l4[::-1]',\n",
       " '_14': [14, 13, 12, 11, 10, 9, 8, 7, 6, 5, 4, 3, 2, 1, 0],\n",
       " '_i15': 'l4[::-2]',\n",
       " '_15': [14, 12, 10, 8, 6, 4, 2, 0],\n",
       " '_i16': 'slicList = list(range(15))\\nslicList[:]',\n",
       " 'slicList': [0, 1, 2, 3, 4, 5, 6, 7, 8, 9, 10, 11, 12, 13, 14],\n",
       " '_16': [0, 1, 2, 3, 4, 5, 6, 7, 8, 9, 10, 11, 12, 13, 14],\n",
       " '_i17': 'slicList[0:5]',\n",
       " '_17': [0, 1, 2, 3, 4],\n",
       " '_i18': 'slicList[::-1]',\n",
       " '_18': [14, 13, 12, 11, 10, 9, 8, 7, 6, 5, 4, 3, 2, 1, 0],\n",
       " '_i19': 'slicList[::-2]',\n",
       " '_19': [14, 12, 10, 8, 6, 4, 2, 0],\n",
       " '_i20': '* Can also add step size for the listm',\n",
       " '_i21': 'slicList[1:7:2]',\n",
       " '_21': [1, 3, 5],\n",
       " '_i22': 'slicList[1:7:2]',\n",
       " '_22': [1, 3, 5],\n",
       " '_i23': \"listStr = ['Abhilash','Bharat','Chandra','Dinesh','Elangovan','Freddy','Girish']\\nlistStr[:]\",\n",
       " 'listStr': ['Abhilash',\n",
       "  'Bharat',\n",
       "  'Chandra',\n",
       "  'Dinesh',\n",
       "  'Elangovan',\n",
       "  'Freddy',\n",
       "  'Girish'],\n",
       " '_23': ['Abhilash',\n",
       "  'Bharat',\n",
       "  'Chandra',\n",
       "  'Dinesh',\n",
       "  'Elangovan',\n",
       "  'Freddy',\n",
       "  'Girish'],\n",
       " '_i24': \"names = ['Abhilash','Bharat','Chandra','Dinesh','Elangovan','Freddy','Girish']\\nnames[:]\",\n",
       " 'names': (['Abhishek Bachan', 'Mukesh Khanna'], ['Sangeeta', 'Rithika']),\n",
       " '_24': ['Abhilash',\n",
       "  'Bharat',\n",
       "  'Chandra',\n",
       "  'Dinesh',\n",
       "  'Elangovan',\n",
       "  'Freddy',\n",
       "  'Girish'],\n",
       " '_i25': 'names[1:3]',\n",
       " '_25': ['Bharat', 'Chandra'],\n",
       " '_i26': 'names[1:3]',\n",
       " '_26': ['Bharat', 'Chandra'],\n",
       " '_i27': 'names[1:5]',\n",
       " '_27': ['Bharat', 'Chandra', 'Dinesh', 'Elangovan'],\n",
       " '_i28': 'names[::-1]',\n",
       " '_28': ['Girish',\n",
       "  'Freddy',\n",
       "  'Elangovan',\n",
       "  'Dinesh',\n",
       "  'Chandra',\n",
       "  'Bharat',\n",
       "  'Abhilash'],\n",
       " '_i29': 'names.pop()',\n",
       " '_29': 'Girish',\n",
       " '_i30': 'names',\n",
       " '_30': [],\n",
       " '_i31': \"## As we see in the list below once 'girish' is popped, there is no element at the end.\\nnames\",\n",
       " '_31': [],\n",
       " '_i32': \"## As we see in the list below once 'girish' is popped, there is no 'girish' element at the end.\\nnames\",\n",
       " '_32': [],\n",
       " '_i33': 'len(names)',\n",
       " '_33': 6,\n",
       " '_i34': \"names.remove('Freddy')\",\n",
       " '_i35': '## Check the names function and we see that Freddy is no longer available in the names list\\nnames',\n",
       " '_35': [],\n",
       " '_i36': \"names.append('Farhan')\\nnames.append('Farhan')\",\n",
       " '_i37': 'names',\n",
       " '_37': [],\n",
       " '_i38': \"## As we see there are two values with the name 'Farhan'\\nnames\",\n",
       " '_38': [],\n",
       " '_i39': \"names.remove('Farhan')\\nnames\",\n",
       " '_39': [],\n",
       " '_i40': \"names.extend(['Giridhar','Hema','Jishnu'])\",\n",
       " '_i41': 'names',\n",
       " '_41': [],\n",
       " '_i42': '## Display the elements with the latest names added to the list\\nnames',\n",
       " '_42': [],\n",
       " '_i43': 'names.reverse()',\n",
       " '_i44': 'names # The list has been reversed and stores the values in the list in reverse order',\n",
       " '_44': [],\n",
       " '_i45': 'names.clear()',\n",
       " '_i46': 'names',\n",
       " '_46': [],\n",
       " '_i47': 'names ## In the above cell , clear() was used to clear the list and now we have no values in the list',\n",
       " '_47': [],\n",
       " '_i48': \"for friend in names:\\n    print(friend, end = ',')\",\n",
       " '_i49': \"for friend in names:\\n    print(friend, end =',')\",\n",
       " '_i50': '### Lets us add the friends to the names list',\n",
       " '_i51': \"names = ['Abhilash','Bharat','Chandra','Dinesh','Elangovan','Freddy','Girish']\",\n",
       " '_i52': \"for friend in names:\\n    print(friend, end =',')\",\n",
       " 'friend': 'Girish',\n",
       " '_i53': \"for friend in names:\\n    print(friend, end =',') ## We can print the value as show in this\",\n",
       " '_i54': \"frNames= [] \\nwhile True: \\n    addName = input(' Would you like to add a name ? Type yes/y or no/n : ')\\n    addName = addName.lower()\\n    if addName == 'yes' or 'y' :\\n        name = input('Enter the name of the friend :  ')\\n        frNames.append(name)\\n    elif addName == 'no' or 'n':\\n        print('No more names are added -- Good bye !!')\\n        print('The friends list are {}'.format(names))\\n        break\",\n",
       " 'frNames': ['Bindu', 'Chandra', 'abhishek'],\n",
       " 'addName': 'n',\n",
       " 'name': 'Chandra',\n",
       " '_i55': \"frNames= [] \\nwhile True: \\n    addName = input(' Would you like to add a name ? Type yes/y or no/n : ')\\n    addName = addName.lower()\\n    if addName == 'yes' or  addName == 'y' :\\n        name = input('Enter the name of the friend :  ')\\n        frNames.append(name)\\n    elif addName == 'no' or addName == 'n':\\n        print('No more names are added -- Good bye !!')\\n        print('The friends list are {}'.format(names))\\n        break\\n    else:\\n        print('Wrong Input -- Can accept only yes/y or no/n .. Exiting....')\\n        break\",\n",
       " '_i56': \"frNames= [] \\nwhile True: \\n    addName = input(' Would you like to add a name ? Type yes/y or no/n : ')\\n    addName = addName.lower()\\n    if addName == 'yes' or  addName == 'y' :\\n        name = input('Enter the name of the friend :  ')\\n        frNames.append(name)\\n    elif addName == 'no' or addName == 'n':\\n        print('No more names are added -- Good bye !!')\\n        print('The friends list are {}'.format(names))\\n        break\\n    else:\\n        print('Wrong Input -- Can accept only yes/y or no/n .. Exiting....')\\n        break\",\n",
       " '_i57': \"frNames= [] \\nwhile True: \\n    addName = input(' Would you like to add a name ? Type yes/y or no/n : ')\\n    addName = addName.lower()\\n    if addName == 'yes' or  addName == 'y' :\\n        name = input('Enter the name of the friend :  ')\\n        frNames.append(name)\\n    elif addName == 'no' or addName == 'n':\\n        print('No more names are added -- Good bye !!')\\n        print('The friends list are {}'.format(frNames))\\n        break\\n    else:\\n        print('Wrong Input -- Can accept only yes/y or no/n .. Exiting....')\\n        break\",\n",
       " '_i58': 'frNames.sort()',\n",
       " '_i59': 'frNames',\n",
       " '_59': ['Bindu', 'Chandra', 'abhishek'],\n",
       " '_i60': 'frNames',\n",
       " '_60': ['Bindu', 'Chandra', 'abhishek'],\n",
       " '_i61': \"timings = ['1:30','2:30','3:30','4:30','5:30','6:30','7:30']\\ntimings\",\n",
       " 'timings': ['1:30', '2:30', '3:30', '4:30', '5:30', '6:30', '7:30'],\n",
       " '_61': ['1:30', '2:30', '3:30', '4:30', '5:30', '6:30', '7:30'],\n",
       " '_i62': \"frNames.index('Chandra')\",\n",
       " '_62': 1,\n",
       " '_i63': \"## Lets build a list using 10,11,12,13,14,15,16 - The sum of all the elements in the list can be computed\\n### in two ways  - sum(intList) or using for loops\\nintList = [10,11,12,13,14,15,16]\\nprint('Sum of the list of elements',sum(intList))\\nprint(intList)\",\n",
       " 'intList': (10, 11, 12, 13, 14, 15, 16),\n",
       " '_i64': 'intList = 10,11,12,13,14,15,16\\nslist = 0\\nfor i in intList:\\n    slist += i\\nprint(slist) ',\n",
       " 'slist': 91,\n",
       " 'i': 102,\n",
       " '_i65': '## Based on the range object lets find the square of each number\\ny = [x**2 for x in range(5)]',\n",
       " 'y': ['sunday', 'super', 'semi-conductor'],\n",
       " '_i66': 'y',\n",
       " '_66': [0, 1, 4, 9, 16],\n",
       " '_i67': '## We can also include condition within the for comrephension\\ny = [x**2 for x in range(10) if x%2 == 0 ]\\nprint(y)',\n",
       " '_i68': \"### return if only list contains letters starting with s\\nnames = ['sunday','super','semi-conductor','non-conductor','mango','apple']\\ny = [x for x in names if x.startswith('s')]\",\n",
       " '_i69': 'y',\n",
       " '_69': ['sunday', 'super', 'semi-conductor'],\n",
       " '_i70': \"tup1 = (25,'Mango','Rajesh',40,25,24,25)\\ntup1[1]\",\n",
       " 'tup1': (25, 'Mango', 'Rajesh', 40, 25, 24, 25),\n",
       " '_70': 'Mango',\n",
       " '_i71': 'tup1[3]',\n",
       " '_71': 40,\n",
       " '_i72': '### Tuples can be iterated over using for loop \\nfor x in tup1:\\n    print(x)',\n",
       " 'x': 'Surya',\n",
       " '_i73': '## Assigning a value to tuple shows error - tuple object does not support assignment\\ntup1[0] = 35',\n",
       " '_i74': '## Count function gives the count of the element in the tuple\\ntup1.count(25)',\n",
       " '_74': 3,\n",
       " '_i75': 'tup1[-1]',\n",
       " '_75': 25,\n",
       " '_i76': 'tup1[-1]',\n",
       " '_76': 25,\n",
       " '_i77': '* len() function on the tuple. when applied on tuple gives the length of the tuple',\n",
       " '_i78': 'len(tup1)',\n",
       " '_78': 7,\n",
       " '_i79': 'tup1[len(tup1) - 1]',\n",
       " '_79': 25,\n",
       " '_i80': \"names = (['Rajesh','Mukesh'],['Sangeeta','Rithika'])\",\n",
       " '_i81': \"names[0] = ['Abhishek','Brijesh']\",\n",
       " '_i82': \"# This kind of direct assignment to the tuple is not possible ,\\n# where we are assigning the list elements directly to the tuples first value\\nnames[0] = ['Abhishek','Brijesh']\",\n",
       " '_i83': '* To access list inside tuple we shall use two indices like the ones used in matrices',\n",
       " '_i84': 'names[0]',\n",
       " '_84': ['Abhishek Bachan', 'Mukesh Khanna'],\n",
       " '_i85': 'names[1]',\n",
       " '_85': ['Sangeeta', 'Rithika'],\n",
       " '_i86': \"names[0][0] = 'Abhishek Bachan'\",\n",
       " '_i87': \"## We access the inside elements using the syntax below\\nnames[0][0] = 'Abhishek Bachan'\",\n",
       " '_i88': 'names',\n",
       " '_88': (['Abhishek Bachan', 'Mukesh Khanna'], ['Sangeeta', 'Rithika']),\n",
       " '_i89': \"names[0][1] = 'Mukesh Khanna'\",\n",
       " '_i90': 'names',\n",
       " '_90': (['Abhishek Bachan', 'Mukesh Khanna'], ['Sangeeta', 'Rithika']),\n",
       " '_i91': 'a,b = 10,20',\n",
       " 'a': 10,\n",
       " 'b': 20,\n",
       " '_i92': 'val1 = a,b,a+b',\n",
       " 'val1': (10, 20, 30),\n",
       " '_i93': 'val1',\n",
       " '_93': (10, 20, 30),\n",
       " '_i94': \"def studentDetails():\\n    name = 'Ajay'\\n    subject = 'Python'\\n    course = 'BBA'\\n    return name,subject, course\",\n",
       " 'studentDetails': <function __main__.studentDetails()>,\n",
       " '_i95': 'details = studentDetails()',\n",
       " 'details': ('Ajay', 'Python', 'BBA'),\n",
       " '_i96': 'details',\n",
       " '_96': ('Ajay', 'Python', 'BBA'),\n",
       " '_i97': 'a,b ,c = (10,20,30)',\n",
       " 'c': 30,\n",
       " '_i98': \"print('Values are {} , {} , {}'.format(a,b,c))\",\n",
       " '_i99': \"t1 = (10,'Chocolate',20,'Amul')\",\n",
       " 't1': (10, 'Chocolate', 20, 'Amul'),\n",
       " '_i100': 't1',\n",
       " '_100': (10, 'Chocolate', 20, 'Amul'),\n",
       " '_i101': 'type(t1)',\n",
       " '_101': tuple,\n",
       " '_i102': 'len(t1)',\n",
       " '_102': 4,\n",
       " '_i103': 'type(t1),len(t1)',\n",
       " '_103': (tuple, 4),\n",
       " '_i104': 't1',\n",
       " '_104': (10, 'Chocolate', 20, 'Amul'),\n",
       " '_i105': 'l1 = list(t1)',\n",
       " 'l1': [10, 'Butter Scotch', 20, 'Amul'],\n",
       " '_i106': 'l1',\n",
       " '_106': [10, 'Butter Scotch', 20, 'Amul'],\n",
       " '_i107': \"l1[1] = 'Butter Scotch'\",\n",
       " '_i108': 'l1',\n",
       " '_108': [10, 'Butter Scotch', 20, 'Amul'],\n",
       " '_i109': 'type(l1)',\n",
       " '_109': list,\n",
       " '_i110': 't2 = tuple(l1)',\n",
       " 't2': (10, 'Butter Scotch', 20, 'Amul'),\n",
       " '_i111': 't2',\n",
       " '_111': (10, 'Butter Scotch', 20, 'Amul'),\n",
       " '_i112': '* **Sets in Python**\\n  - Sets contain unique elements  \\n  - Sets are unordered sequence of elements\\n  - They are represented using the {} (curly braces)',\n",
       " '_i113': \"elements = {'Mahesh','Mahesh','Suraj','Ravi','Kiran','Surya'}\\nelements\",\n",
       " 'elements': {'Kiran', 'Mahesh', 'Ravi', 'Suraj', 'Surya'},\n",
       " '_113': {'Kiran', 'Mahesh', 'Ravi', 'Suraj', 'Surya'},\n",
       " '_i114': \"#### Sets can be constructed using the following set keyword and passing a list to it\\neles = set(['Mahesh','Mahesh','Suraj','Ravi','Kiran','Surya'])\\neles\",\n",
       " 'eles': {'Kiran', 'Mahesh', 'Ravi', 'Suraj', 'Surya'},\n",
       " '_114': {'Kiran', 'Mahesh', 'Ravi', 'Suraj', 'Surya'},\n",
       " '_i115': 'elements',\n",
       " '_115': {'Kiran', 'Mahesh', 'Ravi', 'Suraj', 'Surya'},\n",
       " '_i116': 'for x in elements:\\n    print(x)',\n",
       " '_i117': \"## The set elements are given below - We can represent the data as els = {'Mahesh','Mahesh','Suraj','Ravi','Kiran','Surya'}\\nels = {'Mahesh','Mahesh','Suraj','Ravi','Kiran','Surya'}\\nlen(els)\",\n",
       " 'els': {'Kiran', 'Mahesh', 'Ravi', 'Suraj', 'Surya'},\n",
       " '_117': 5,\n",
       " '_i118': \"### Add the following element to the set elements 'Mitra' using add function\\nels.add('Mitra')\",\n",
       " '_i119': 'els',\n",
       " '_119': {'Kiran', 'Ravi', 'Suraj', 'Surya'},\n",
       " '_i120': \"## Lets create one more set els2 = els2 = {'kiran','Mahesh', 'Mitra'}\\nels2 = {'kiran','Mahesh', 'Mitra'}\",\n",
       " 'els2': {'Mahesh', 'Mitra', 'kiran'},\n",
       " '_i121': 'els.difference(els2)',\n",
       " '_121': {'Kiran', 'Ravi', 'Suraj', 'Surya'},\n",
       " '_i122': '* difference_update() - Removes the elements from the other set',\n",
       " '_i123': 'els.difference_update(els2)',\n",
       " '_i124': 'els',\n",
       " '_124': {'Kiran', 'Ravi', 'Suraj', 'Surya'},\n",
       " '_i125': 'els2',\n",
       " '_125': {'Mahesh', 'Mitra', 'kiran'},\n",
       " '_i126': \"## Create the set and try to perform union on els and els2\\nels = {'Mahesh','Mahesh','Suraj','Ravi','Kiran','Surya'}\\nlen(els)\",\n",
       " '_126': 5,\n",
       " '_i127': 'els.union(els2)',\n",
       " '_127': {'Kiran', 'Mahesh', 'Mitra', 'Ravi', 'Suraj', 'Surya', 'kiran'},\n",
       " '_i128': 'els.intersection(els2)',\n",
       " '_128': {'Mahesh'},\n",
       " '_i129': 'print(els)\\nprint(els2)',\n",
       " '_i130': '## els.symmetric_difference(els2) gives the common elements between both the sets.\\nels.symmetric_difference(els2)',\n",
       " '_130': {'Kiran', 'Mitra', 'Ravi', 'Suraj', 'Surya', 'kiran'},\n",
       " '_i131': \"listVal = {'Mahesh','Mahesh','Suraj','Ravi','Kiran','Surya'}\\nuniEle = {x for x in listVal}\\nuniEle\",\n",
       " 'listVal': {'Kiran', 'Mahesh', 'Ravi', 'Suraj', 'Surya'},\n",
       " 'uniEle': {'Kiran', 'Mahesh', 'Ravi', 'Suraj', 'Surya'},\n",
       " '_131': {'Kiran', 'Mahesh', 'Ravi', 'Suraj', 'Surya'},\n",
       " '_i132': \"idName = dict()\\nidName[101] = 'Suraj'\\nidName[102] = 'Mahesh'\\nidName[103] = 'Surya'\\nidName[104] = 'Ravi'\\nidName[105] = 'Kiran'\\nidName[106] = 'Mitra'\\nidName\",\n",
       " 'idName': {101: 'Suraj',\n",
       "  102: 'Mahesh',\n",
       "  103: 'Surya',\n",
       "  104: 'Ravi',\n",
       "  105: 'Kiran',\n",
       "  106: 'Mitra'},\n",
       " '_132': {101: 'Suraj',\n",
       "  102: 'Mahesh',\n",
       "  103: 'Surya',\n",
       "  104: 'Ravi',\n",
       "  105: 'Kiran',\n",
       "  106: 'Mitra'},\n",
       " '_i133': \"### Another way of creating the dictionary is the following\\nidName = {101: 'Suraj',102: 'Mahesh',103: 'Surya', 104: 'Ravi', 105: 'Kiran', 106: 'Mitra'}\\nidName\",\n",
       " '_133': {102: 'Mahesh', 103: 'Surya'},\n",
       " '_i134': '### The dictionary name and the id can be passed to get the value - idName[101]\\nidName{101}',\n",
       " '_i135': '### The dictionary name and the id can be passed to get the value - idName[101]\\nidName[101]',\n",
       " '_135': 'Suraj',\n",
       " '_i136': '### Check if a particular key is available in the dictionary - 101 in idName\\n101 in idName',\n",
       " '_136': True,\n",
       " '_i137': '### CHeck if a particular key is not available in the dictionary - 109 not in idName\\nprint(109 not in idName)\\nprint(110 in idName)',\n",
       " '_i138': \"### We can iterate over the dictionary using the keys() function on the dictionary.\\nfor k in idName.keys():\\n    print(f'Key is {k}')\",\n",
       " 'k': 106,\n",
       " '_i139': \"for v in idName.values():\\n    print(f'value is {v}')\",\n",
       " 'v': 'Mitra',\n",
       " '_i140': \"for key,value in idName.items():\\n    print(f'Id is {key}, Name is {value}')\",\n",
       " 'key': 106,\n",
       " 'value': 'Mitra',\n",
       " '_i141': '### Using the dictionary object only the dictionary is used\\nfor keyVal in idName:\\n    print(keyVal)',\n",
       " 'keyVal': 106,\n",
       " '_i142': '## Delete the key value pair using the idName[key]\\ndel idName[101]',\n",
       " '_i143': 'idName',\n",
       " '_143': {102: 'Mahesh', 103: 'Surya'},\n",
       " '_i144': 'idName[102]',\n",
       " '_144': 'Mahesh',\n",
       " '_i145': 'idName.get(102)',\n",
       " '_145': 'Mahesh',\n",
       " '_i146': '### Lets say we dont have the key/value pair in the dictionary it returns a key erro\\nidName[109]',\n",
       " '_i147': '# If the key is available then it returns the value\\nidName.get(102,\"Value is Not there\")',\n",
       " '_147': 'Mahesh',\n",
       " '_i148': 'idName.get(109,\"Key/Value is Not there\")',\n",
       " '_148': 'Key/Value is Not there',\n",
       " '_i149': '### To get the keys in the reversed order we can use reversed on the dictionary',\n",
       " '_i150': 'for i in reversed(idName):\\n    print(i)',\n",
       " '_i151': '## Collecting the dictionary keys as list - list(idName)\\nlist(idName)',\n",
       " '_151': [102, 103, 104, 105, 106],\n",
       " '_i152': '## idName.popitem() will remove one key value pair from the dictionary\\nidName.popitem()',\n",
       " '_152': (106, 'Mitra'),\n",
       " '_i153': '### ## idName.pop(key) will pop one key value pair for the given key from the dictionary\\nidName.pop(104)',\n",
       " '_153': 'Ravi',\n",
       " '_i154': '### If the key is not available in the dictionary, pop() shall given an error on the dictionary\\nidName.pop(105)',\n",
       " '_154': 'Kiran',\n",
       " '_i155': '### If the key is not available in the dictionary, pop() shall given an error on the dictionary\\nidName.pop(105)',\n",
       " '_i156': '# To get the length of the dictionary\\nlen(idName)',\n",
       " '_156': 2,\n",
       " '_i157': \"### Dictionary comprehension can be perfromed using the following: \\nidName = idName = {101: 'Suraj',102: 'Mahesh',103: 'Surya', 104: 'Ravi', 105: 'Kiran', 106: 'Mitra'}\\n\\n# get only the even ids\\n\\nevenIdName = {k:v for (k,v) in idName.items() if k%2 ==0 }\\nevenIdName\",\n",
       " 'evenIdName': {102: 'Mahesh', 104: 'Ravi', 106: 'Mitra'},\n",
       " '_157': {102: 'Mahesh', 104: 'Ravi', 106: 'Mitra'},\n",
       " '_i158': 'globals()'}"
      ]
     },
     "execution_count": 158,
     "metadata": {},
     "output_type": "execute_result"
    }
   ],
   "source": [
    "globals()"
   ]
  },
  {
   "cell_type": "code",
   "execution_count": null,
   "id": "8f3e8b8f",
   "metadata": {},
   "outputs": [],
   "source": []
  }
 ],
 "metadata": {
  "kernelspec": {
   "display_name": "Python 3 (ipykernel)",
   "language": "python",
   "name": "python3"
  },
  "language_info": {
   "codemirror_mode": {
    "name": "ipython",
    "version": 3
   },
   "file_extension": ".py",
   "mimetype": "text/x-python",
   "name": "python",
   "nbconvert_exporter": "python",
   "pygments_lexer": "ipython3",
   "version": "3.10.10"
  }
 },
 "nbformat": 4,
 "nbformat_minor": 5
}
