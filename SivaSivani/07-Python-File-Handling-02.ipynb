{
 "cells": [
  {
   "cell_type": "markdown",
   "id": "c66c50ab",
   "metadata": {},
   "source": [
    "CSV data is essentially a representation of \n",
    "tabular data - rows (records) and columns (fields).\n",
    "In the previous exercise we had seen how to read data from various files.\n",
    "In this section we shall see how to read CSV file and also using the csv module"
   ]
  },
  {
   "cell_type": "markdown",
   "id": "9ea81f0c",
   "metadata": {},
   "source": [
    "* CSV means Comma separated values - In these files, the values are separated\n",
    "by comma. Text fields may be delimited using the double quotes or single quotes '' ,\" \""
   ]
  },
  {
   "cell_type": "markdown",
   "id": "3cd044e9",
   "metadata": {},
   "source": [
    "* CSV files can be opened using with open \n",
    "  - Alternatively we can also read the csv files using with open "
   ]
  },
  {
   "cell_type": "code",
   "execution_count": 1,
   "id": "47aae6f8",
   "metadata": {},
   "outputs": [
    {
     "name": "stdout",
     "output_type": "stream",
     "text": [
      "studentName,age,department,year\n",
      "\n",
      "Akhil,20,'CSE',II\n",
      "\n",
      "Abhay,21,'BBA',III\n",
      "\n",
      "Arjun,21,\"'BBA-BA'\",II\n"
     ]
    }
   ],
   "source": [
    "with open('students.csv') as f:\n",
    "    for row in f:\n",
    "        print(row)"
   ]
  },
  {
   "cell_type": "markdown",
   "id": "83695c6a",
   "metadata": {},
   "source": [
    "* Another way to open the csv file is to\n",
    "  - strip the spaces \n",
    "  - split the data based on the comma"
   ]
  },
  {
   "cell_type": "code",
   "execution_count": 5,
   "id": "80016967",
   "metadata": {},
   "outputs": [
    {
     "name": "stdout",
     "output_type": "stream",
     "text": [
      "['studentName', 'age', 'department', 'year']\n",
      "['Akhil', '20', \"'CSE'\", 'II']\n",
      "['Abhay', '21', \"'BBA'\", 'III']\n",
      "['Arjun', '21', '\"\\'BBA-BA\\'\"', 'II']\n"
     ]
    }
   ],
   "source": [
    "with open('students.csv') as f:\n",
    "    for row in f:\n",
    "        row = row.strip() # strip removes the spaces from the line\n",
    "        fields = row.split(',') # split helps in separating each field \n",
    "                                # and constructs as a list\n",
    "        print(fields)"
   ]
  },
  {
   "cell_type": "markdown",
   "id": "99fe74ea",
   "metadata": {},
   "source": [
    "As we see in the above cases we need to deal with the separators in order to \n",
    "read the data. <br/>\n",
    "In python we can read such CSV file using the `csv` module <br/>\n",
    "In the `csv` module we shall use the reader function to read the data."
   ]
  },
  {
   "cell_type": "markdown",
   "id": "d45a2aba",
   "metadata": {},
   "source": [
    "In order to provide content to the reader , we shall use the following.\n",
    "-  open file to use\n",
    "- provide the `delimiter` that is to be used\n",
    "- Which character is used as quotes (`quotechar`) is used for delimiting text fields when necessary"
   ]
  },
  {
   "cell_type": "code",
   "execution_count": 9,
   "id": "3b39c9fb",
   "metadata": {},
   "outputs": [],
   "source": [
    "import csv"
   ]
  },
  {
   "cell_type": "code",
   "execution_count": 14,
   "id": "c57be847",
   "metadata": {},
   "outputs": [
    {
     "name": "stdout",
     "output_type": "stream",
     "text": [
      "['studentName', 'age', 'department', 'year']\n",
      "['Akhil', '20', \"'CSE'\", 'II']\n",
      "['Abhay', '21', \"'BBA'\", 'III']\n",
      "['Arjun', '21', \"'BBA-BA'\", 'II']\n"
     ]
    }
   ],
   "source": [
    "with open('students.csv') as f: # Open the file\n",
    "    reader = csv.reader(f, delimiter=',', quotechar='\"') # Provide delimiter and quotes character\n",
    "    for row in reader: # Iterate over the reader and get the row\n",
    "        print(row)"
   ]
  },
  {
   "cell_type": "markdown",
   "id": "0a7d6c79",
   "metadata": {},
   "source": [
    "#### Writing the CSV files"
   ]
  },
  {
   "cell_type": "markdown",
   "id": "3fcc66f0",
   "metadata": {},
   "source": [
    "- The csv module offers functionality to write the CSV files \n",
    "- csv.writer can be used to write the files.\n",
    "- writer function can be used to write the files as output.\n"
   ]
  },
  {
   "cell_type": "code",
   "execution_count": 2,
   "id": "20b1b76e",
   "metadata": {},
   "outputs": [],
   "source": [
    "data = [\n",
    "['studentName', 'age', 'department', 'year'],\n",
    "['Akhil', '20', \"'CSE'\", 'II'],\n",
    "['Abhay', '21', \"'BBA'\", 'III'],\n",
    "['Arjun', '21', \"'BBA-BA'\", 'II']\n",
    "]"
   ]
  },
  {
   "cell_type": "code",
   "execution_count": 3,
   "id": "1d1e46b4",
   "metadata": {},
   "outputs": [],
   "source": [
    "import csv"
   ]
  },
  {
   "cell_type": "code",
   "execution_count": 4,
   "id": "8637de0b",
   "metadata": {},
   "outputs": [],
   "source": [
    "with open('datastudents.csv', 'w') as f:\n",
    "    writer = csv.writer(f)\n",
    "    for row in data:\n",
    "        writer.writerow(row)"
   ]
  },
  {
   "cell_type": "markdown",
   "id": "e0c1bcd9",
   "metadata": {},
   "source": [
    "- Check what has been written to the output"
   ]
  },
  {
   "cell_type": "code",
   "execution_count": 19,
   "id": "b5a7044f",
   "metadata": {},
   "outputs": [
    {
     "name": "stdout",
     "output_type": "stream",
     "text": [
      "studentName,age,department,year\n",
      "\n",
      "Akhil,20,'CSE',II\n",
      "\n",
      "Abhay,21,'BBA',III\n",
      "\n",
      "Arjun,21,'BBA-BA',II\n",
      "\n"
     ]
    }
   ],
   "source": [
    "with open('datastudents1.csv') as f:\n",
    "    for row in f:\n",
    "        print(row, end='')"
   ]
  },
  {
   "cell_type": "code",
   "execution_count": null,
   "id": "dd0feac4",
   "metadata": {},
   "outputs": [],
   "source": []
  }
 ],
 "metadata": {
  "kernelspec": {
   "display_name": "Python 3 (ipykernel)",
   "language": "python",
   "name": "python3"
  },
  "language_info": {
   "codemirror_mode": {
    "name": "ipython",
    "version": 3
   },
   "file_extension": ".py",
   "mimetype": "text/x-python",
   "name": "python",
   "nbconvert_exporter": "python",
   "pygments_lexer": "ipython3",
   "version": "3.10.10"
  }
 },
 "nbformat": 4,
 "nbformat_minor": 5
}
