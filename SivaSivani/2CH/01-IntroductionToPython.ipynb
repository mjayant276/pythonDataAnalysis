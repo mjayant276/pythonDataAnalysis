{
 "cells": [
  {
   "cell_type": "code",
   "execution_count": 1,
   "id": "3c2e8f5b",
   "metadata": {},
   "outputs": [
    {
     "data": {
      "text/plain": [
       "'helloworld'"
      ]
     },
     "execution_count": 1,
     "metadata": {},
     "output_type": "execute_result"
    }
   ],
   "source": [
    "'helloworld'"
   ]
  },
  {
   "cell_type": "markdown",
   "id": "380cc2af",
   "metadata": {},
   "source": [
    "#### formatting of strings"
   ]
  },
  {
   "cell_type": "code",
   "execution_count": 1,
   "id": "cd596b9d",
   "metadata": {},
   "outputs": [
    {
     "data": {
      "text/plain": [
       "'Name is Jayant'"
      ]
     },
     "execution_count": 1,
     "metadata": {},
     "output_type": "execute_result"
    }
   ],
   "source": [
    "'Name is {}'.format('Jayant')"
   ]
  },
  {
   "cell_type": "code",
   "execution_count": 2,
   "id": "9889c385",
   "metadata": {},
   "outputs": [
    {
     "name": "stdout",
     "output_type": "stream",
     "text": [
      "Enter your name Shashank\n",
      "Enter your class Name BBA II CH\n",
      "Enter the subject Python and Data Analytics\n",
      "Name of the student is Shashank Class is BBA II CH Subject is Python and Data Analytics\n"
     ]
    }
   ],
   "source": [
    "name = input('Enter your name ')\n",
    "classYear = input('Enter your class Name ')\n",
    "subject = input('Enter the subject ')\n",
    "print('Name of the student is {} Class is {} Subject is {}'.format(name,classYear,subject))"
   ]
  },
  {
   "cell_type": "code",
   "execution_count": 3,
   "id": "c082688d",
   "metadata": {},
   "outputs": [
    {
     "name": "stdout",
     "output_type": "stream",
     "text": [
      "Name of the student is ShashankClass isBBA II CH Subject is Python and Data Analytics\n"
     ]
    }
   ],
   "source": [
    "print('Name of the student is ' + name +  'Class is' + classYear +  ' Subject is ' + subject)"
   ]
  },
  {
   "cell_type": "code",
   "execution_count": 4,
   "id": "4b471d2a",
   "metadata": {},
   "outputs": [
    {
     "name": "stdout",
     "output_type": "stream",
     "text": [
      "Name of the student is Shashank Class is BBA II CH Subject is Python and Data Analytics\n"
     ]
    }
   ],
   "source": [
    "print('Name of the student is {} Class is {} Subject is {}'.format(name,classYear,subject))"
   ]
  },
  {
   "cell_type": "code",
   "execution_count": 5,
   "id": "fae6f670",
   "metadata": {},
   "outputs": [
    {
     "name": "stdout",
     "output_type": "stream",
     "text": [
      "Name of the student is BBA II CH Class is Shashank Subject is Python and Data Analytics\n"
     ]
    }
   ],
   "source": [
    "print('Name of the student is {1} Class is {0} Subject is {2}'.format(name,classYear,subject))"
   ]
  },
  {
   "cell_type": "raw",
   "id": "9a618448",
   "metadata": {},
   "source": [
    "inbuilt - functions : print, format , type, int and float - functionName(parameters)"
   ]
  },
  {
   "cell_type": "markdown",
   "id": "18041733",
   "metadata": {},
   "source": [
    "### Function"
   ]
  },
  {
   "cell_type": "markdown",
   "id": "3ef97eae",
   "metadata": {},
   "source": [
    "A function is block of code that takes optionally an input and generates option output - User Defined functions"
   ]
  },
  {
   "cell_type": "code",
   "execution_count": 10,
   "id": "9de41dc4",
   "metadata": {},
   "outputs": [
    {
     "name": "stdout",
     "output_type": "stream",
     "text": [
      "This is python introduction\n"
     ]
    }
   ],
   "source": [
    "## Syntax is def functionName(parameters):\n",
    "#                 return <returnValue>\n",
    "## Python \n",
    "def printAll():\n",
    "    pass\n",
    "print('This is python introduction')"
   ]
  },
  {
   "cell_type": "code",
   "execution_count": 11,
   "id": "7574b1e0",
   "metadata": {},
   "outputs": [],
   "source": [
    "printAll()"
   ]
  },
  {
   "cell_type": "code",
   "execution_count": 12,
   "id": "151e6b64",
   "metadata": {},
   "outputs": [],
   "source": [
    "def printAllNew():\n",
    "    print('This is python introduction - From printAllNew')"
   ]
  },
  {
   "cell_type": "code",
   "execution_count": 13,
   "id": "ddce6829",
   "metadata": {},
   "outputs": [
    {
     "name": "stdout",
     "output_type": "stream",
     "text": [
      "This is python introduction - From printAllNew\n"
     ]
    }
   ],
   "source": [
    "printAllNew()"
   ]
  },
  {
   "cell_type": "code",
   "execution_count": 14,
   "id": "759467e1",
   "metadata": {},
   "outputs": [],
   "source": [
    "## passing the parameter as input to the function\n",
    "def greeting(name):\n",
    "    print('Welcome to the class {} !'.format(name))"
   ]
  },
  {
   "cell_type": "code",
   "execution_count": 15,
   "id": "346f0bca",
   "metadata": {},
   "outputs": [
    {
     "name": "stdout",
     "output_type": "stream",
     "text": [
      "Welcome to the class Shashank !\n"
     ]
    }
   ],
   "source": [
    "greeting('Shashank')"
   ]
  },
  {
   "cell_type": "code",
   "execution_count": 16,
   "id": "60546527",
   "metadata": {},
   "outputs": [
    {
     "name": "stdout",
     "output_type": "stream",
     "text": [
      "Enter your name Shashank Kumar\n",
      "Welcome to the class Shashank Kumar !\n"
     ]
    }
   ],
   "source": [
    "inputName = input('Enter your name ')\n",
    "greeting(inputName)"
   ]
  },
  {
   "cell_type": "code",
   "execution_count": 17,
   "id": "22a5ebad",
   "metadata": {},
   "outputs": [
    {
     "name": "stdout",
     "output_type": "stream",
     "text": [
      "Enter your name Shashank Kumar\n",
      "Marks are 98\n",
      "Name of the student is Shashank Kumar and marks are 98.0\n"
     ]
    }
   ],
   "source": [
    "def getMarksForStudent(name, marks):\n",
    "    print('Name of the student is {} and marks are {}'.format(name,marks))\n",
    "    \n",
    "inputName = input('Enter your name ')\n",
    "marks = float(input('Marks are '))\n",
    "getMarksForStudent(inputName,marks)    "
   ]
  },
  {
   "cell_type": "markdown",
   "id": "591f91a4",
   "metadata": {},
   "source": [
    "### Conditional Statements"
   ]
  },
  {
   "cell_type": "code",
   "execution_count": 18,
   "id": "46672525",
   "metadata": {},
   "outputs": [
    {
     "name": "stdout",
     "output_type": "stream",
     "text": [
      "Number is positive\n"
     ]
    }
   ],
   "source": [
    "x = 10\n",
    "if x > 0:\n",
    "    print(\"Number is positive\")\n",
    "else:\n",
    "    print(\"Number is negative\")"
   ]
  },
  {
   "cell_type": "code",
   "execution_count": 19,
   "id": "cb0a631d",
   "metadata": {},
   "outputs": [
    {
     "name": "stdout",
     "output_type": "stream",
     "text": [
      "second slab\n"
     ]
    }
   ],
   "source": [
    "slabrate = 10\n",
    "if slabrate < 10:\n",
    "    print('First Slab')\n",
    "elif slabrate >= 10 and slabrate <20:\n",
    "    print('second slab')\n",
    "elif slabrate >= 20 and slabrate <30:     \n",
    "    print('Third slab')\n",
    "else:\n",
    "    print('Special Slab')"
   ]
  },
  {
   "cell_type": "code",
   "execution_count": 20,
   "id": "d222003d",
   "metadata": {},
   "outputs": [],
   "source": [
    "def calculateTaxSlab(slabrate):\n",
    "    if slabrate < 10:\n",
    "        print('First Slab')\n",
    "    elif slabrate >= 10 and slabrate <20:\n",
    "        print('second slab')\n",
    "    elif slabrate >= 20 and slabrate <30:     \n",
    "        print('Third slab')\n",
    "    else:\n",
    "        print('Special Slab')    "
   ]
  },
  {
   "cell_type": "code",
   "execution_count": 23,
   "id": "d555b354",
   "metadata": {},
   "outputs": [
    {
     "name": "stdout",
     "output_type": "stream",
     "text": [
      "Enter the slab rate20.56\n",
      "Third slab\n"
     ]
    }
   ],
   "source": [
    "slabrate = input('Enter the slab rate')\n",
    "slabrate = float(slabrate)\n",
    "calculateTaxSlab(slabrate)"
   ]
  },
  {
   "cell_type": "code",
   "execution_count": 27,
   "id": "1f65ccd5",
   "metadata": {},
   "outputs": [
    {
     "name": "stdout",
     "output_type": "stream",
     "text": [
      "10\n",
      "11\n",
      "12\n",
      "13\n",
      "14\n"
     ]
    }
   ],
   "source": [
    "x = 10\n",
    "while x <15:\n",
    "    print(x)\n",
    "    x = x+1"
   ]
  },
  {
   "cell_type": "code",
   "execution_count": 28,
   "id": "f45433f2",
   "metadata": {},
   "outputs": [],
   "source": [
    "def amount(price):\n",
    "    price = price -  price * 0.1\n",
    "    return price"
   ]
  },
  {
   "cell_type": "code",
   "execution_count": 30,
   "id": "3db7cf03",
   "metadata": {},
   "outputs": [],
   "source": [
    "claPrice = amount(100.0)"
   ]
  },
  {
   "cell_type": "code",
   "execution_count": 31,
   "id": "75c29f5c",
   "metadata": {},
   "outputs": [
    {
     "name": "stdout",
     "output_type": "stream",
     "text": [
      "90.0\n"
     ]
    }
   ],
   "source": [
    "print(claPrice)"
   ]
  },
  {
   "cell_type": "raw",
   "id": "7a460a2f",
   "metadata": {},
   "source": [
    "Reserved Words in Python are \n",
    "1. False 2. class 3. finally 4. is 5. return 6. None 7. continue 8.for 9. lambda 10.try\n",
    "11. True 12. def 13. from 14.nonlocal 15. while 16. and 17.del 18. global 19. not 20. with\n",
    "21. as 22. elif 23. if 24.or 25.yield 26. assert 27. import 28. pass 29. break 30. except 31. in 32. raise"
   ]
  },
  {
   "cell_type": "code",
   "execution_count": 32,
   "id": "41e541a5",
   "metadata": {},
   "outputs": [
    {
     "data": {
      "text/plain": [
       "'This is intorduction to python'"
      ]
     },
     "execution_count": 32,
     "metadata": {},
     "output_type": "execute_result"
    }
   ],
   "source": [
    "val1 = 'this is intorduction to python'\n",
    "val1.capitalize()"
   ]
  },
  {
   "cell_type": "code",
   "execution_count": 33,
   "id": "ed91363e",
   "metadata": {},
   "outputs": [
    {
     "data": {
      "text/plain": [
       "'THIS IS INTORDUCTION TO PYTHON'"
      ]
     },
     "execution_count": 33,
     "metadata": {},
     "output_type": "execute_result"
    }
   ],
   "source": [
    "val1.upper()"
   ]
  },
  {
   "cell_type": "code",
   "execution_count": 34,
   "id": "f4b1c4ff",
   "metadata": {},
   "outputs": [
    {
     "data": {
      "text/plain": [
       "'this is intorduction to python'"
      ]
     },
     "execution_count": 34,
     "metadata": {},
     "output_type": "execute_result"
    }
   ],
   "source": [
    "val1.lower()"
   ]
  },
  {
   "cell_type": "code",
   "execution_count": 35,
   "id": "189bfdde",
   "metadata": {},
   "outputs": [
    {
     "data": {
      "text/plain": [
       "False"
      ]
     },
     "execution_count": 35,
     "metadata": {},
     "output_type": "execute_result"
    }
   ],
   "source": [
    "val1.isupper()"
   ]
  },
  {
   "cell_type": "code",
   "execution_count": 36,
   "id": "81133191",
   "metadata": {},
   "outputs": [
    {
     "data": {
      "text/plain": [
       "True"
      ]
     },
     "execution_count": 36,
     "metadata": {},
     "output_type": "execute_result"
    }
   ],
   "source": [
    "val2 = 'THIS IS INTORDUCTION TO PYTHON'\n",
    "val2.isupper()"
   ]
  },
  {
   "cell_type": "code",
   "execution_count": 37,
   "id": "c55ab7d2",
   "metadata": {},
   "outputs": [
    {
     "data": {
      "text/plain": [
       "False"
      ]
     },
     "execution_count": 37,
     "metadata": {},
     "output_type": "execute_result"
    }
   ],
   "source": [
    "val2.islower()"
   ]
  },
  {
   "cell_type": "code",
   "execution_count": 38,
   "id": "75a52aeb",
   "metadata": {},
   "outputs": [
    {
     "data": {
      "text/plain": [
       "False"
      ]
     },
     "execution_count": 38,
     "metadata": {},
     "output_type": "execute_result"
    }
   ],
   "source": [
    "val2.islower()"
   ]
  },
  {
   "cell_type": "code",
   "execution_count": 39,
   "id": "04547ca0",
   "metadata": {},
   "outputs": [
    {
     "data": {
      "text/plain": [
       "True"
      ]
     },
     "execution_count": 39,
     "metadata": {},
     "output_type": "execute_result"
    }
   ],
   "source": [
    "val2.isupper()"
   ]
  },
  {
   "cell_type": "code",
   "execution_count": null,
   "id": "45629370",
   "metadata": {},
   "outputs": [],
   "source": []
  }
 ],
 "metadata": {
  "kernelspec": {
   "display_name": "Python 3 (ipykernel)",
   "language": "python",
   "name": "python3"
  },
  "language_info": {
   "codemirror_mode": {
    "name": "ipython",
    "version": 3
   },
   "file_extension": ".py",
   "mimetype": "text/x-python",
   "name": "python",
   "nbconvert_exporter": "python",
   "pygments_lexer": "ipython3",
   "version": "3.9.12"
  }
 },
 "nbformat": 4,
 "nbformat_minor": 5
}
