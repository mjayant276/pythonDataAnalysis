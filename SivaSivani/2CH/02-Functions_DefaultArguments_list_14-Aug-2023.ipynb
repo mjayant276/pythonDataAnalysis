{
 "cells": [
  {
   "cell_type": "markdown",
   "id": "40639c65",
   "metadata": {},
   "source": [
    "* Functions are blocks of code that can be executed multiple times.\n",
    "* Use def keyword to create a function\n",
    "* Parameters can be passed to the functin as input.\n",
    "* A function can also return output.\n",
    "* When there is no return statement in the function, it returns None value.\n",
    "* Input parameters of two types - Positional and Default argument\n",
    "    * if positional argument value is not passed error occurs\n",
    "    * If default argument value is not passed, default value is considered"
   ]
  },
  {
   "cell_type": "code",
   "execution_count": null,
   "id": "b5edddff",
   "metadata": {},
   "outputs": [],
   "source": [
    "a,b,c = 10,20,30\n"
   ]
  },
  {
   "cell_type": "code",
   "execution_count": 13,
   "id": "68880433",
   "metadata": {},
   "outputs": [],
   "source": [
    "def computeSum(a1,b1):\n",
    "    addNum = a1 + b1\n",
    "    subNum = a1 - b1\n",
    "    prodNum = a1 * b1\n",
    "    print('Sum is {0} , difference is {1}, product is  {2}  '.format(addNum,subNum, prodNum))\n",
    "    return addNum, subNum , prodNum"
   ]
  },
  {
   "cell_type": "code",
   "execution_count": 15,
   "id": "fcca4502",
   "metadata": {},
   "outputs": [
    {
     "name": "stdout",
     "output_type": "stream",
     "text": [
      "Sum is 30 , difference is -10, product is  200  \n",
      "30 -10 200\n"
     ]
    }
   ],
   "source": [
    "result1,result2, result3 = computeSum(10,20)\n",
    "print(result1,result2, result3)"
   ]
  },
  {
   "cell_type": "markdown",
   "id": "a97897be",
   "metadata": {},
   "source": [
    "### Default Arguments"
   ]
  },
  {
   "cell_type": "code",
   "execution_count": 22,
   "id": "163f5127",
   "metadata": {},
   "outputs": [],
   "source": [
    "def helloIndia(name, profession='N/A'):\n",
    "    print('Welcome to India - Happy Independenc Day, My name is {} and my profession is {}'.format(name,profession))\n",
    "    print('Jai Hind')"
   ]
  },
  {
   "cell_type": "code",
   "execution_count": 24,
   "id": "dfefe6cf",
   "metadata": {},
   "outputs": [
    {
     "name": "stdout",
     "output_type": "stream",
     "text": [
      "Welcome to India - Happy Independenc Day, My name is Jishnu and my profession is Manager\n",
      "Jai Hind\n"
     ]
    }
   ],
   "source": [
    "helloIndia('Jishnu','Manager')"
   ]
  },
  {
   "cell_type": "code",
   "execution_count": 25,
   "id": "6e79b38d",
   "metadata": {},
   "outputs": [
    {
     "name": "stdout",
     "output_type": "stream",
     "text": [
      "Welcome to India - Happy Independenc Day, My name is Jishnu and my profession is Manager\n",
      "Jai Hind\n"
     ]
    }
   ],
   "source": [
    "helloIndia(profession='Manager',name='Jishnu')"
   ]
  },
  {
   "cell_type": "markdown",
   "id": "4597e9f7",
   "metadata": {},
   "source": [
    "#### While loop"
   ]
  },
  {
   "cell_type": "code",
   "execution_count": 29,
   "id": "0f088c04",
   "metadata": {},
   "outputs": [
    {
     "name": "stdout",
     "output_type": "stream",
     "text": [
      "10\n",
      "11\n"
     ]
    }
   ],
   "source": [
    "x=10\n",
    "# syntax \n",
    "# while condition:\n",
    "# Code Example\n",
    "while x < 15:\n",
    "    print(x)\n",
    "    x = x +1\n",
    "    if x == 12:\n",
    "        break\n"
   ]
  },
  {
   "cell_type": "code",
   "execution_count": 30,
   "id": "90bc2a4a",
   "metadata": {},
   "outputs": [],
   "source": [
    "def fibonacci(number):\n",
    "    a,b = 0,1\n",
    "    while a < number:\n",
    "        print(a, end = ' ')\n",
    "        a, b = b, a+b"
   ]
  },
  {
   "cell_type": "code",
   "execution_count": 31,
   "id": "27e45e00",
   "metadata": {},
   "outputs": [
    {
     "name": "stdout",
     "output_type": "stream",
     "text": [
      "0 1 1 2 3 5 8 13 21 "
     ]
    }
   ],
   "source": [
    "fibonacci(30)"
   ]
  },
  {
   "cell_type": "code",
   "execution_count": 43,
   "id": "7150e8ae",
   "metadata": {},
   "outputs": [],
   "source": [
    "def guessNumber():\n",
    "    tries = 5\n",
    "    while tries > 0:\n",
    "        inputNum = input('Guess the number : ')\n",
    "        inputNum = int(inputNum)\n",
    "        tries = tries-1  \n",
    "        if inputNum == 19 or inputNum == 81:\n",
    "            print('Your guess is correct....')\n",
    "            break\n",
    "        elif tries == 0:\n",
    "            print('Better luck next time, please play again')        \n",
    "          "
   ]
  },
  {
   "cell_type": "code",
   "execution_count": 44,
   "id": "ad095ef3",
   "metadata": {},
   "outputs": [
    {
     "name": "stdout",
     "output_type": "stream",
     "text": [
      "Guess the number : 1\n",
      "Guess the number : 29\n",
      "Guess the number : 7\n",
      "Guess the number : 5\n",
      "Guess the number : 18\n",
      "Better luck next time, please play again\n"
     ]
    }
   ],
   "source": [
    "guessNumber()"
   ]
  },
  {
   "cell_type": "markdown",
   "id": "c6e19240",
   "metadata": {},
   "source": [
    "### Lists in Python\n",
    "* Lists ordered sequence of elements in python\n",
    "* Can store heterogeneous values \n",
    "* Lists start with index 0 - similar to arrays \n",
    "* Slicing of lists is possible\n",
    "* Lists can be iterated\n",
    "* Lists are mutable \n",
    "* Addition and deletion of elements/values are possible in List.\n",
    "* We represent lists using the [] - Square brackets."
   ]
  },
  {
   "cell_type": "code",
   "execution_count": 46,
   "id": "176d0f03",
   "metadata": {},
   "outputs": [],
   "source": [
    "names = ['Abhilash','Bindu','Chandika','Dinesh','Freddy','Mukesh']"
   ]
  },
  {
   "cell_type": "code",
   "execution_count": 47,
   "id": "ea8da4d3",
   "metadata": {},
   "outputs": [
    {
     "data": {
      "text/plain": [
       "['Abhilash', 'Bindu', 'Chandika', 'Dinesh', 'Freddy', 'Mukesh']"
      ]
     },
     "execution_count": 47,
     "metadata": {},
     "output_type": "execute_result"
    }
   ],
   "source": [
    "names"
   ]
  },
  {
   "cell_type": "code",
   "execution_count": 49,
   "id": "4fa42bd4",
   "metadata": {},
   "outputs": [
    {
     "name": "stdout",
     "output_type": "stream",
     "text": [
      "Abhilash  BBA\n",
      "Bindu  BBA\n",
      "Chandika  BBA\n",
      "Dinesh  BBA\n",
      "Freddy  BBA\n",
      "Mukesh  BBA\n"
     ]
    }
   ],
   "source": [
    "for name in names:\n",
    "    print(name , ' BBA')"
   ]
  },
  {
   "cell_type": "code",
   "execution_count": 50,
   "id": "ef340a14",
   "metadata": {},
   "outputs": [
    {
     "data": {
      "text/plain": [
       "['Abhilash', 'Bindu', 'Chandika', 'Dinesh', 'Freddy', 'Mukesh']"
      ]
     },
     "execution_count": 50,
     "metadata": {},
     "output_type": "execute_result"
    }
   ],
   "source": [
    "names"
   ]
  },
  {
   "cell_type": "code",
   "execution_count": 51,
   "id": "3f989117",
   "metadata": {},
   "outputs": [],
   "source": [
    "names[0] = 'Abhilash Kumar'"
   ]
  },
  {
   "cell_type": "code",
   "execution_count": 52,
   "id": "ace664f6",
   "metadata": {},
   "outputs": [
    {
     "data": {
      "text/plain": [
       "['Abhilash Kumar', 'Bindu', 'Chandika', 'Dinesh', 'Freddy', 'Mukesh']"
      ]
     },
     "execution_count": 52,
     "metadata": {},
     "output_type": "execute_result"
    }
   ],
   "source": [
    "names"
   ]
  },
  {
   "cell_type": "code",
   "execution_count": 53,
   "id": "a46e0f8a",
   "metadata": {},
   "outputs": [],
   "source": [
    "names[1] = 'Bindu Verma BBA'"
   ]
  },
  {
   "cell_type": "code",
   "execution_count": 54,
   "id": "ccc49f7c",
   "metadata": {},
   "outputs": [
    {
     "data": {
      "text/plain": [
       "['Abhilash Kumar', 'Bindu Verma BBA', 'Chandika', 'Dinesh', 'Freddy', 'Mukesh']"
      ]
     },
     "execution_count": 54,
     "metadata": {},
     "output_type": "execute_result"
    }
   ],
   "source": [
    "names"
   ]
  },
  {
   "cell_type": "code",
   "execution_count": 55,
   "id": "82ebcf10",
   "metadata": {},
   "outputs": [],
   "source": [
    "names[1] = 'Bindua'"
   ]
  },
  {
   "cell_type": "code",
   "execution_count": 56,
   "id": "75b2983d",
   "metadata": {},
   "outputs": [
    {
     "data": {
      "text/plain": [
       "['Abhilash Kumar', 'Bindua', 'Chandika', 'Dinesh', 'Freddy', 'Mukesh']"
      ]
     },
     "execution_count": 56,
     "metadata": {},
     "output_type": "execute_result"
    }
   ],
   "source": [
    "names"
   ]
  },
  {
   "cell_type": "code",
   "execution_count": 57,
   "id": "35803ed7",
   "metadata": {},
   "outputs": [
    {
     "data": {
      "text/plain": [
       "['Abhilash Kumar', 'Bindua', 'Chandika', 'Dinesh', 'Freddy', 'Mukesh']"
      ]
     },
     "execution_count": 57,
     "metadata": {},
     "output_type": "execute_result"
    }
   ],
   "source": [
    "## Slice the list values\n",
    "## Syntax : listName[startIndex:endIndex:stepSize]\n",
    "names[0:]"
   ]
  },
  {
   "cell_type": "code",
   "execution_count": 58,
   "id": "78696814",
   "metadata": {},
   "outputs": [
    {
     "data": {
      "text/plain": [
       "['Abhilash Kumar', 'Bindua', 'Chandika', 'Dinesh', 'Freddy', 'Mukesh']"
      ]
     },
     "execution_count": 58,
     "metadata": {},
     "output_type": "execute_result"
    }
   ],
   "source": [
    "names[:]"
   ]
  },
  {
   "cell_type": "code",
   "execution_count": 60,
   "id": "7d2177cb",
   "metadata": {},
   "outputs": [
    {
     "data": {
      "text/plain": [
       "['Bindua', 'Chandika', 'Dinesh']"
      ]
     },
     "execution_count": 60,
     "metadata": {},
     "output_type": "execute_result"
    }
   ],
   "source": [
    "names[1:4]"
   ]
  },
  {
   "cell_type": "code",
   "execution_count": 61,
   "id": "87a23e47",
   "metadata": {},
   "outputs": [
    {
     "data": {
      "text/plain": [
       "['Mukesh', 'Freddy', 'Dinesh', 'Chandika', 'Bindua', 'Abhilash Kumar']"
      ]
     },
     "execution_count": 61,
     "metadata": {},
     "output_type": "execute_result"
    }
   ],
   "source": [
    "names[::-1]"
   ]
  },
  {
   "cell_type": "code",
   "execution_count": 62,
   "id": "26a5b4c4",
   "metadata": {},
   "outputs": [
    {
     "data": {
      "text/plain": [
       "'Mukesh'"
      ]
     },
     "execution_count": 62,
     "metadata": {},
     "output_type": "execute_result"
    }
   ],
   "source": [
    "names[-1]"
   ]
  },
  {
   "cell_type": "code",
   "execution_count": 63,
   "id": "979d115d",
   "metadata": {},
   "outputs": [
    {
     "data": {
      "text/plain": [
       "'Freddy'"
      ]
     },
     "execution_count": 63,
     "metadata": {},
     "output_type": "execute_result"
    }
   ],
   "source": [
    "names[-2]"
   ]
  },
  {
   "cell_type": "code",
   "execution_count": 64,
   "id": "10515c9b",
   "metadata": {},
   "outputs": [
    {
     "data": {
      "text/plain": [
       "['Bindua', 'Chandika', 'Dinesh', 'Freddy']"
      ]
     },
     "execution_count": 64,
     "metadata": {},
     "output_type": "execute_result"
    }
   ],
   "source": [
    "names[-5:-1]"
   ]
  },
  {
   "cell_type": "code",
   "execution_count": 65,
   "id": "e108472a",
   "metadata": {},
   "outputs": [
    {
     "data": {
      "text/plain": [
       "['Abhilash Kumar', 'Chandika', 'Freddy']"
      ]
     },
     "execution_count": 65,
     "metadata": {},
     "output_type": "execute_result"
    }
   ],
   "source": [
    "names[::2]"
   ]
  },
  {
   "cell_type": "code",
   "execution_count": 66,
   "id": "5d7ed76c",
   "metadata": {},
   "outputs": [
    {
     "data": {
      "text/plain": [
       "['Bindua', 'Dinesh', 'Mukesh']"
      ]
     },
     "execution_count": 66,
     "metadata": {},
     "output_type": "execute_result"
    }
   ],
   "source": [
    "names[1::2]"
   ]
  },
  {
   "cell_type": "code",
   "execution_count": null,
   "id": "090fd51e",
   "metadata": {},
   "outputs": [],
   "source": []
  }
 ],
 "metadata": {
  "kernelspec": {
   "display_name": "Python 3 (ipykernel)",
   "language": "python",
   "name": "python3"
  },
  "language_info": {
   "codemirror_mode": {
    "name": "ipython",
    "version": 3
   },
   "file_extension": ".py",
   "mimetype": "text/x-python",
   "name": "python",
   "nbconvert_exporter": "python",
   "pygments_lexer": "ipython3",
   "version": "3.10.10"
  }
 },
 "nbformat": 4,
 "nbformat_minor": 5
}
