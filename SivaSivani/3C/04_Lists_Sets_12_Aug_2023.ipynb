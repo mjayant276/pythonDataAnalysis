{
 "cells": [
  {
   "cell_type": "markdown",
   "id": "95b84e54",
   "metadata": {},
   "source": [
    "* If we are using '*' as the parameters inside the function then multiple values can be passed\n",
    "* We can pass multiple values or list to the paramenter that is marked as '*'\n",
    "* These parameters can be iterated over using for loop"
   ]
  },
  {
   "cell_type": "code",
   "execution_count": 4,
   "id": "8825e1f1",
   "metadata": {},
   "outputs": [],
   "source": [
    "def printStudentDetails(courseName, *grades):\n",
    "    print(f'Course Name is {courseName} and grades are {grades}')\n",
    "    for grade in grades:\n",
    "        print(grade)"
   ]
  },
  {
   "cell_type": "code",
   "execution_count": 3,
   "id": "429797d4",
   "metadata": {},
   "outputs": [
    {
     "name": "stdout",
     "output_type": "stream",
     "text": [
      "Course Name is BSC CSE and grades are (['A', 'B', 'A+', 'B+'],)\n"
     ]
    }
   ],
   "source": [
    "printStudentDetails('BSC CSE',['A','B','A+','B+'])"
   ]
  },
  {
   "cell_type": "code",
   "execution_count": 5,
   "id": "be2f61d8",
   "metadata": {},
   "outputs": [
    {
     "name": "stdout",
     "output_type": "stream",
     "text": [
      "Course Name is BSC CSE and grades are ('A', 'B', 'A+', 'B+')\n",
      "A\n",
      "B\n",
      "A+\n",
      "B+\n"
     ]
    }
   ],
   "source": [
    "printStudentDetails('BSC CSE','A','B','A+','B+')"
   ]
  },
  {
   "cell_type": "code",
   "execution_count": 7,
   "id": "5252b463",
   "metadata": {},
   "outputs": [
    {
     "name": "stdout",
     "output_type": "stream",
     "text": [
      "Course Name is BSC CSE and grades are (['A', 'B', 'A+', 'B+'], ['A', 'B', 'B+', 'A+'])\n",
      "['A', 'B', 'A+', 'B+']\n",
      "['A', 'B', 'B+', 'A+']\n"
     ]
    }
   ],
   "source": [
    "printStudentDetails('BSC CSE',['A','B','A+','B+'],['A','B','B+','A+'])"
   ]
  },
  {
   "cell_type": "code",
   "execution_count": 9,
   "id": "137bbd23",
   "metadata": {},
   "outputs": [
    {
     "ename": "TypeError",
     "evalue": "printStudentDetails() missing 1 required positional argument: 'courseName'",
     "output_type": "error",
     "traceback": [
      "\u001b[1;31m---------------------------------------------------------------------------\u001b[0m",
      "\u001b[1;31mTypeError\u001b[0m                                 Traceback (most recent call last)",
      "Cell \u001b[1;32mIn[9], line 1\u001b[0m\n\u001b[1;32m----> 1\u001b[0m \u001b[43mprintStudentDetails\u001b[49m\u001b[43m(\u001b[49m\u001b[43m)\u001b[49m\n",
      "\u001b[1;31mTypeError\u001b[0m: printStudentDetails() missing 1 required positional argument: 'courseName'"
     ]
    }
   ],
   "source": [
    "printStudentDetails('BSC CSE')"
   ]
  },
  {
   "cell_type": "markdown",
   "id": "06df8daf",
   "metadata": {},
   "source": [
    "#### Range\n",
    "* Range is an object that can generate sequence of numbers\n",
    "* the syntax for range is range(start,end,step) \n",
    "    * start is the starting number\n",
    "    * end is the ending number \n",
    "    * step is the step size of the range object - How many values need to be skipped\n",
    "* Range object can be iterated over using the for loop"
   ]
  },
  {
   "cell_type": "code",
   "execution_count": 11,
   "id": "7295504c",
   "metadata": {},
   "outputs": [
    {
     "name": "stdout",
     "output_type": "stream",
     "text": [
      "range(0, 10)\n"
     ]
    }
   ],
   "source": [
    "print(range(10))"
   ]
  },
  {
   "cell_type": "code",
   "execution_count": 13,
   "id": "b6e32573",
   "metadata": {},
   "outputs": [
    {
     "name": "stdout",
     "output_type": "stream",
     "text": [
      "0 1 2 3 4 5 6 7 8 9 "
     ]
    }
   ],
   "source": [
    "for i in range(10):\n",
    "    print(i, end=' ')"
   ]
  },
  {
   "cell_type": "code",
   "execution_count": 24,
   "id": "9d1d6cfe",
   "metadata": {},
   "outputs": [
    {
     "name": "stdout",
     "output_type": "stream",
     "text": [
      "1 2 3 4 5 6 7 8 9 10 11 12 13 14 15 "
     ]
    }
   ],
   "source": [
    "y = range(1,16,1)\n",
    "for num in y:\n",
    "    print(num, end = ' ')"
   ]
  },
  {
   "cell_type": "code",
   "execution_count": 23,
   "id": "d2030197",
   "metadata": {},
   "outputs": [
    {
     "name": "stdout",
     "output_type": "stream",
     "text": [
      "1 3 5 7 9 11 13 15 "
     ]
    }
   ],
   "source": [
    "y = range(1,16,2)\n",
    "for num in y:\n",
    "    print(num, end = ' ')"
   ]
  },
  {
   "cell_type": "code",
   "execution_count": 15,
   "id": "4aeb961e",
   "metadata": {},
   "outputs": [],
   "source": [
    "l0 = []\n",
    "l0.append(1)"
   ]
  },
  {
   "cell_type": "code",
   "execution_count": 16,
   "id": "b100ccbd",
   "metadata": {},
   "outputs": [
    {
     "data": {
      "text/plain": [
       "[1]"
      ]
     },
     "execution_count": 16,
     "metadata": {},
     "output_type": "execute_result"
    }
   ],
   "source": [
    "l0"
   ]
  },
  {
   "cell_type": "code",
   "execution_count": 14,
   "id": "8807eaec",
   "metadata": {
    "scrolled": true
   },
   "outputs": [
    {
     "data": {
      "text/plain": [
       "[0, 1, 2, 3, 4, 5, 6, 7, 8, 9]"
      ]
     },
     "execution_count": 14,
     "metadata": {},
     "output_type": "execute_result"
    }
   ],
   "source": [
    "#### Create a list object from range\n",
    "l1 = list(range(10))\n",
    "l1"
   ]
  },
  {
   "cell_type": "code",
   "execution_count": 17,
   "id": "e6987bf3",
   "metadata": {},
   "outputs": [
    {
     "name": "stdout",
     "output_type": "stream",
     "text": [
      "[0, 1, 2, 3, 4, 5, 6, 7, 8, 9]\n"
     ]
    }
   ],
   "source": [
    "l2 = []\n",
    "for i in range(10):\n",
    "    l2.append(i)\n",
    "print(l2)    "
   ]
  },
  {
   "cell_type": "markdown",
   "id": "9bc530b9",
   "metadata": {},
   "source": [
    "#### List Comprehensions\n",
    "* Writing and returning a list in a single line\n",
    "* We generally iterate over a sequence or list and then perform some operations/specify a condition and then return the value of the specified operation\n",
    "* Multiple lines of code can be reduced to single line using list comprehension"
   ]
  },
  {
   "cell_type": "code",
   "execution_count": 25,
   "id": "ab41c2bf",
   "metadata": {},
   "outputs": [],
   "source": [
    "l1 = []\n",
    "for i in range(10):\n",
    "    l1.append(pow(i,2))"
   ]
  },
  {
   "cell_type": "code",
   "execution_count": 26,
   "id": "0d3ad6a4",
   "metadata": {},
   "outputs": [
    {
     "data": {
      "text/plain": [
       "[0, 1, 4, 9, 16, 25, 36, 49, 64, 81]"
      ]
     },
     "execution_count": 26,
     "metadata": {},
     "output_type": "execute_result"
    }
   ],
   "source": [
    "l1"
   ]
  },
  {
   "cell_type": "code",
   "execution_count": 27,
   "id": "99ef386d",
   "metadata": {},
   "outputs": [
    {
     "data": {
      "text/plain": [
       "[0, 1, 4, 9, 16, 25, 36, 49, 64, 81]"
      ]
     },
     "execution_count": 27,
     "metadata": {},
     "output_type": "execute_result"
    }
   ],
   "source": [
    "l2 = [pow(i,2) for i in range(10)]\n",
    "l2"
   ]
  },
  {
   "cell_type": "code",
   "execution_count": 28,
   "id": "37b99308",
   "metadata": {},
   "outputs": [],
   "source": [
    "l3 = [pow(i,2) for i in range(10) if i > 3]"
   ]
  },
  {
   "cell_type": "code",
   "execution_count": 29,
   "id": "a28286b7",
   "metadata": {},
   "outputs": [
    {
     "data": {
      "text/plain": [
       "[16, 25, 36, 49, 64, 81]"
      ]
     },
     "execution_count": 29,
     "metadata": {},
     "output_type": "execute_result"
    }
   ],
   "source": [
    "l3"
   ]
  },
  {
   "cell_type": "markdown",
   "id": "41bf1357",
   "metadata": {},
   "source": [
    "#### Sets in python"
   ]
  },
  {
   "cell_type": "markdown",
   "id": "c4e5cf7e",
   "metadata": {},
   "source": [
    "* Sets are data structures in python\n",
    "* Sets allows only unique values, that is they donot allow duplicate values\n",
    "* Sets can be constructured using {} braces\n",
    "* Sets can be iterated over\n",
    "* Empty set can be created using set() or {}\n",
    "* Multiple set operations can be performed using Python sets\n",
    "* In sets, the order of the elements is not maintained"
   ]
  },
  {
   "cell_type": "code",
   "execution_count": 32,
   "id": "9314e67a",
   "metadata": {},
   "outputs": [
    {
     "name": "stdout",
     "output_type": "stream",
     "text": [
      "{'105', '104', '101', '102', '107', '106', '103'}\n"
     ]
    }
   ],
   "source": [
    "s1 = {'101','102','103','102','104','105','106','107','107'}\n",
    "print(s1)"
   ]
  },
  {
   "cell_type": "code",
   "execution_count": 34,
   "id": "ee186101",
   "metadata": {},
   "outputs": [
    {
     "data": {
      "text/plain": [
       "['105', '104', '101', '102', '107', '106', '103']"
      ]
     },
     "execution_count": 34,
     "metadata": {},
     "output_type": "execute_result"
    }
   ],
   "source": [
    "list(s1)"
   ]
  },
  {
   "cell_type": "code",
   "execution_count": 35,
   "id": "7fb78eb2",
   "metadata": {},
   "outputs": [],
   "source": [
    "fruits = ['Apple','Mango','Mango','Grapes','Orange','Grapes','Orange']"
   ]
  },
  {
   "cell_type": "code",
   "execution_count": 36,
   "id": "310194a0",
   "metadata": {},
   "outputs": [
    {
     "data": {
      "text/plain": [
       "['Apple', 'Mango', 'Mango', 'Grapes', 'Orange', 'Grapes', 'Orange']"
      ]
     },
     "execution_count": 36,
     "metadata": {},
     "output_type": "execute_result"
    }
   ],
   "source": [
    "fruits"
   ]
  },
  {
   "cell_type": "code",
   "execution_count": 37,
   "id": "ad9ed868",
   "metadata": {},
   "outputs": [],
   "source": [
    "fset = set()"
   ]
  },
  {
   "cell_type": "code",
   "execution_count": 38,
   "id": "860b249a",
   "metadata": {},
   "outputs": [],
   "source": [
    "fset = set(fruits)"
   ]
  },
  {
   "cell_type": "code",
   "execution_count": 39,
   "id": "c85f9d74",
   "metadata": {},
   "outputs": [
    {
     "data": {
      "text/plain": [
       "{'Apple', 'Grapes', 'Mango', 'Orange'}"
      ]
     },
     "execution_count": 39,
     "metadata": {},
     "output_type": "execute_result"
    }
   ],
   "source": [
    "fset "
   ]
  },
  {
   "cell_type": "code",
   "execution_count": 42,
   "id": "0b6d7b38",
   "metadata": {},
   "outputs": [],
   "source": [
    "flist = list(fset)"
   ]
  },
  {
   "cell_type": "code",
   "execution_count": 43,
   "id": "3c9bd83f",
   "metadata": {},
   "outputs": [
    {
     "data": {
      "text/plain": [
       "['Grapes', 'Mango', 'Orange', 'Apple']"
      ]
     },
     "execution_count": 43,
     "metadata": {},
     "output_type": "execute_result"
    }
   ],
   "source": [
    "flist"
   ]
  },
  {
   "cell_type": "code",
   "execution_count": 44,
   "id": "2cbdaab0",
   "metadata": {},
   "outputs": [],
   "source": [
    "flist.sort()"
   ]
  },
  {
   "cell_type": "code",
   "execution_count": 45,
   "id": "7465627b",
   "metadata": {},
   "outputs": [
    {
     "data": {
      "text/plain": [
       "['Apple', 'Grapes', 'Mango', 'Orange']"
      ]
     },
     "execution_count": 45,
     "metadata": {},
     "output_type": "execute_result"
    }
   ],
   "source": [
    "flist"
   ]
  },
  {
   "cell_type": "code",
   "execution_count": 46,
   "id": "9eefd273",
   "metadata": {},
   "outputs": [],
   "source": [
    "flist = sorted(flist)"
   ]
  },
  {
   "cell_type": "code",
   "execution_count": 47,
   "id": "bfbe146f",
   "metadata": {},
   "outputs": [
    {
     "data": {
      "text/plain": [
       "['Apple', 'Grapes', 'Mango', 'Orange']"
      ]
     },
     "execution_count": 47,
     "metadata": {},
     "output_type": "execute_result"
    }
   ],
   "source": [
    "flist"
   ]
  },
  {
   "cell_type": "code",
   "execution_count": 48,
   "id": "d6fe837e",
   "metadata": {},
   "outputs": [],
   "source": [
    "set1 = {'A','B','C','D'}\n",
    "set2 = {'A','C','E','F'}"
   ]
  },
  {
   "cell_type": "code",
   "execution_count": 49,
   "id": "98d480ca",
   "metadata": {},
   "outputs": [
    {
     "data": {
      "text/plain": [
       "{'A', 'B', 'C', 'D', 'E', 'F'}"
      ]
     },
     "execution_count": 49,
     "metadata": {},
     "output_type": "execute_result"
    }
   ],
   "source": [
    "set1.union(set2)"
   ]
  },
  {
   "cell_type": "code",
   "execution_count": 52,
   "id": "17f16219",
   "metadata": {},
   "outputs": [
    {
     "data": {
      "text/plain": [
       "{'A', 'C'}"
      ]
     },
     "execution_count": 52,
     "metadata": {},
     "output_type": "execute_result"
    }
   ],
   "source": [
    "set1.intersection(set2)"
   ]
  },
  {
   "cell_type": "code",
   "execution_count": 53,
   "id": "f04b09d7",
   "metadata": {},
   "outputs": [
    {
     "data": {
      "text/plain": [
       "{'B', 'D'}"
      ]
     },
     "execution_count": 53,
     "metadata": {},
     "output_type": "execute_result"
    }
   ],
   "source": [
    "set1.difference(set2)"
   ]
  },
  {
   "cell_type": "code",
   "execution_count": 54,
   "id": "96ede4ba",
   "metadata": {},
   "outputs": [
    {
     "data": {
      "text/plain": [
       "{'E', 'F'}"
      ]
     },
     "execution_count": 54,
     "metadata": {},
     "output_type": "execute_result"
    }
   ],
   "source": [
    "set2.difference(set1)"
   ]
  },
  {
   "cell_type": "code",
   "execution_count": 56,
   "id": "307f6f25",
   "metadata": {},
   "outputs": [
    {
     "data": {
      "text/plain": [
       "{'B', 'D', 'E', 'F'}"
      ]
     },
     "execution_count": 56,
     "metadata": {},
     "output_type": "execute_result"
    }
   ],
   "source": [
    "set1.symmetric_difference(set2)"
   ]
  },
  {
   "cell_type": "code",
   "execution_count": 57,
   "id": "d6881bd3",
   "metadata": {},
   "outputs": [
    {
     "data": {
      "text/plain": [
       "{'B', 'D', 'E', 'F'}"
      ]
     },
     "execution_count": 57,
     "metadata": {},
     "output_type": "execute_result"
    }
   ],
   "source": [
    "set2.symmetric_difference(set1)"
   ]
  },
  {
   "cell_type": "code",
   "execution_count": 58,
   "id": "850d3257",
   "metadata": {},
   "outputs": [
    {
     "data": {
      "text/plain": [
       "{'A', 'B', 'C', 'D'}"
      ]
     },
     "execution_count": 58,
     "metadata": {},
     "output_type": "execute_result"
    }
   ],
   "source": [
    "set1"
   ]
  },
  {
   "cell_type": "code",
   "execution_count": 59,
   "id": "76d1aa6a",
   "metadata": {},
   "outputs": [
    {
     "data": {
      "text/plain": [
       "'A'"
      ]
     },
     "execution_count": 59,
     "metadata": {},
     "output_type": "execute_result"
    }
   ],
   "source": [
    "set1.pop()"
   ]
  },
  {
   "cell_type": "code",
   "execution_count": 60,
   "id": "727c6239",
   "metadata": {},
   "outputs": [
    {
     "data": {
      "text/plain": [
       "{'B', 'C', 'D'}"
      ]
     },
     "execution_count": 60,
     "metadata": {},
     "output_type": "execute_result"
    }
   ],
   "source": [
    "set1"
   ]
  },
  {
   "cell_type": "code",
   "execution_count": 61,
   "id": "2a6c9600",
   "metadata": {},
   "outputs": [
    {
     "data": {
      "text/plain": [
       "'B'"
      ]
     },
     "execution_count": 61,
     "metadata": {},
     "output_type": "execute_result"
    }
   ],
   "source": [
    "set1.pop()"
   ]
  },
  {
   "cell_type": "code",
   "execution_count": 62,
   "id": "70dd2526",
   "metadata": {},
   "outputs": [
    {
     "data": {
      "text/plain": [
       "'C'"
      ]
     },
     "execution_count": 62,
     "metadata": {},
     "output_type": "execute_result"
    }
   ],
   "source": [
    "set1.pop()"
   ]
  },
  {
   "cell_type": "code",
   "execution_count": 63,
   "id": "e3f5a441",
   "metadata": {},
   "outputs": [
    {
     "data": {
      "text/plain": [
       "'D'"
      ]
     },
     "execution_count": 63,
     "metadata": {},
     "output_type": "execute_result"
    }
   ],
   "source": [
    "set1.pop()"
   ]
  },
  {
   "cell_type": "code",
   "execution_count": 64,
   "id": "7a29e176",
   "metadata": {},
   "outputs": [
    {
     "data": {
      "text/plain": [
       "set()"
      ]
     },
     "execution_count": 64,
     "metadata": {},
     "output_type": "execute_result"
    }
   ],
   "source": [
    "set1"
   ]
  },
  {
   "cell_type": "code",
   "execution_count": null,
   "id": "df49e012",
   "metadata": {},
   "outputs": [],
   "source": []
  }
 ],
 "metadata": {
  "kernelspec": {
   "display_name": "Python 3 (ipykernel)",
   "language": "python",
   "name": "python3"
  },
  "language_info": {
   "codemirror_mode": {
    "name": "ipython",
    "version": 3
   },
   "file_extension": ".py",
   "mimetype": "text/x-python",
   "name": "python",
   "nbconvert_exporter": "python",
   "pygments_lexer": "ipython3",
   "version": "3.10.10"
  }
 },
 "nbformat": 4,
 "nbformat_minor": 5
}
