{
 "cells": [
  {
   "cell_type": "code",
   "execution_count": 7,
   "id": "e642f40c",
   "metadata": {},
   "outputs": [
    {
     "name": "stdout",
     "output_type": "stream",
     "text": [
      "Happy Birthday to you !\n",
      "Happy Birthday to you !\n",
      "Happy Birthday to Kittu !\n",
      "Happy Birthday to you....\n"
     ]
    }
   ],
   "source": [
    "def sayHappyBirthday():\n",
    "    pass\n",
    "\n",
    "print('Happy Birthday to you !')\n",
    "print('Happy Birthday to you !')\n",
    "print('Happy Birthday to Kittu !')\n",
    "print('Happy Birthday to you....')    "
   ]
  },
  {
   "cell_type": "code",
   "execution_count": 8,
   "id": "82cd5cd6",
   "metadata": {},
   "outputs": [],
   "source": [
    "sayHappyBirthday()"
   ]
  },
  {
   "cell_type": "code",
   "execution_count": 11,
   "id": "cb599c9d",
   "metadata": {},
   "outputs": [],
   "source": [
    "# Step 0 \" Write a function with name sayHappyBirthday and input variable as namePerson\"\n",
    "def sayHappyBirthday(namePerson):\n",
    "    print('Happy Birthday to you !')\n",
    "    print('Happy Birthday to you !')\n",
    "    print('Happy Birthday to {} !'.format(namePerson))\n",
    "    print('Happy Birthday to you....')  "
   ]
  },
  {
   "cell_type": "code",
   "execution_count": 13,
   "id": "6f948ac7",
   "metadata": {},
   "outputs": [
    {
     "name": "stdout",
     "output_type": "stream",
     "text": [
      "Happy Birthday to you !\n",
      "Happy Birthday to you !\n",
      "Happy Birthday to Archana !\n",
      "Happy Birthday to you....\n"
     ]
    }
   ],
   "source": [
    "sayHappyBirthday('Archana')"
   ]
  },
  {
   "cell_type": "code",
   "execution_count": 14,
   "id": "fc352a03",
   "metadata": {},
   "outputs": [
    {
     "name": "stdout",
     "output_type": "stream",
     "text": [
      "Enter the birthday persons  name ..Vishal\n"
     ]
    }
   ],
   "source": [
    "bdayName = input('Enter the birthday persons  name ..')"
   ]
  },
  {
   "cell_type": "code",
   "execution_count": 15,
   "id": "6e7db108",
   "metadata": {},
   "outputs": [
    {
     "data": {
      "text/plain": [
       "'Vishal'"
      ]
     },
     "execution_count": 15,
     "metadata": {},
     "output_type": "execute_result"
    }
   ],
   "source": [
    "bdayName"
   ]
  },
  {
   "cell_type": "code",
   "execution_count": 16,
   "id": "81bc41a5",
   "metadata": {},
   "outputs": [
    {
     "name": "stdout",
     "output_type": "stream",
     "text": [
      "Happy Birthday to you !\n",
      "Happy Birthday to you !\n",
      "Happy Birthday to Vishal !\n",
      "Happy Birthday to you....\n"
     ]
    }
   ],
   "source": [
    "sayHappyBirthday(bdayName)"
   ]
  },
  {
   "cell_type": "code",
   "execution_count": null,
   "id": "a69ddd36",
   "metadata": {},
   "outputs": [],
   "source": [
    "# Step 0 \" Write a function with name sayHappyBirthday and input variable as namePerson\"\n",
    "# Step 1 : get the input from the command line - using input function\n",
    "# Step2 : Pass the bdayname variable to the sayHappyBirthday function"
   ]
  },
  {
   "cell_type": "code",
   "execution_count": 19,
   "id": "e3cf2fca",
   "metadata": {},
   "outputs": [
    {
     "name": "stdout",
     "output_type": "stream",
     "text": [
      "Enter the birthday persons  name ..Nikhil\n",
      "Happy Birthday to you !\n",
      "Happy Birthday to you !\n",
      "Happy Birthday to Nikhil !\n",
      "Happy Birthday to you....\n"
     ]
    }
   ],
   "source": [
    "# Step 1 : get the input from the command line - using input function\n",
    "bdayName = input('Enter the birthday persons  name ..')\n",
    "# Step2 : Pass the bdayname variable to the sayHappyBirthday function\n",
    "sayHappyBirthday(bdayName)"
   ]
  },
  {
   "cell_type": "code",
   "execution_count": null,
   "id": "277a6553",
   "metadata": {},
   "outputs": [],
   "source": [
    "# Step 0 : Write a function to compute the operations on two inputs x and y\n",
    "# step 1 : Compute the operations on the two values passed\n",
    "# step 2 : Return the computed values for addition, multiplication and subtraction"
   ]
  },
  {
   "cell_type": "code",
   "execution_count": 28,
   "id": "a3433ab0",
   "metadata": {},
   "outputs": [],
   "source": [
    "a,b,c,d = 3,4,5,'hello'"
   ]
  },
  {
   "cell_type": "code",
   "execution_count": 30,
   "id": "fef0f22a",
   "metadata": {},
   "outputs": [
    {
     "name": "stdout",
     "output_type": "stream",
     "text": [
      "3\n",
      "4\n",
      "5\n",
      "hello\n"
     ]
    }
   ],
   "source": [
    "print(a)\n",
    "print(b)\n",
    "print(c)\n",
    "print(d)"
   ]
  },
  {
   "cell_type": "code",
   "execution_count": 31,
   "id": "dd346514",
   "metadata": {},
   "outputs": [],
   "source": [
    "def compute(x,y):\n",
    "    addition = x + y\n",
    "    multiplication = x*y\n",
    "    subtraction = x - y\n",
    "    return addition,multiplication,subtraction"
   ]
  },
  {
   "cell_type": "code",
   "execution_count": 46,
   "id": "043af351",
   "metadata": {},
   "outputs": [
    {
     "ename": "ValueError",
     "evalue": "invalid literal for int() with base 10: '10.5'",
     "output_type": "error",
     "traceback": [
      "\u001b[1;31m---------------------------------------------------------------------------\u001b[0m",
      "\u001b[1;31mValueError\u001b[0m                                Traceback (most recent call last)",
      "Cell \u001b[1;32mIn[46], line 1\u001b[0m\n\u001b[1;32m----> 1\u001b[0m \u001b[38;5;28;43mint\u001b[39;49m\u001b[43m(\u001b[49m\u001b[38;5;124;43m'\u001b[39;49m\u001b[38;5;124;43m10.5\u001b[39;49m\u001b[38;5;124;43m'\u001b[39;49m\u001b[43m)\u001b[49m\n",
      "\u001b[1;31mValueError\u001b[0m: invalid literal for int() with base 10: '10.5'"
     ]
    }
   ],
   "source": [
    "int(10.5)"
   ]
  },
  {
   "cell_type": "code",
   "execution_count": 45,
   "id": "43bff59f",
   "metadata": {},
   "outputs": [
    {
     "data": {
      "text/plain": [
       "20"
      ]
     },
     "execution_count": 45,
     "metadata": {},
     "output_type": "execute_result"
    }
   ],
   "source": [
    "int(20.5)"
   ]
  },
  {
   "cell_type": "code",
   "execution_count": null,
   "id": "6bdec06d",
   "metadata": {},
   "outputs": [],
   "source": [
    "102 = 10**0 * 2 + 10**1*0 + 10**2*1"
   ]
  },
  {
   "cell_type": "code",
   "execution_count": 51,
   "id": "fa1f76f4",
   "metadata": {},
   "outputs": [
    {
     "data": {
      "text/plain": [
       "102"
      ]
     },
     "execution_count": 51,
     "metadata": {},
     "output_type": "execute_result"
    }
   ],
   "source": [
    "int('102')"
   ]
  },
  {
   "cell_type": "code",
   "execution_count": 56,
   "id": "e35f6849",
   "metadata": {},
   "outputs": [
    {
     "data": {
      "text/plain": [
       "57"
      ]
     },
     "execution_count": 56,
     "metadata": {},
     "output_type": "execute_result"
    }
   ],
   "source": [
    "int('111001',base=2)"
   ]
  },
  {
   "cell_type": "code",
   "execution_count": 57,
   "id": "a537e197",
   "metadata": {},
   "outputs": [
    {
     "data": {
      "text/plain": [
       "702348"
      ]
     },
     "execution_count": 57,
     "metadata": {},
     "output_type": "execute_result"
    }
   ],
   "source": [
    "int('AB78C',base=16)"
   ]
  },
  {
   "cell_type": "code",
   "execution_count": 49,
   "id": "51d80e0c",
   "metadata": {},
   "outputs": [
    {
     "name": "stdout",
     "output_type": "stream",
     "text": [
      "Enter the first value : 10.5\n",
      "Enter the second value : 20.5\n"
     ]
    }
   ],
   "source": [
    "x = input('Enter the first value : ')\n",
    "y = input('Enter the second value : ')\n",
    "x = float(x)\n",
    "y = float(y)\n",
    "addxy,multiplyxy,subxy = compute(x,y)"
   ]
  },
  {
   "cell_type": "code",
   "execution_count": 50,
   "id": "32924059",
   "metadata": {},
   "outputs": [
    {
     "name": "stdout",
     "output_type": "stream",
     "text": [
      "31.0\n",
      "215.25\n",
      "-10.0\n"
     ]
    }
   ],
   "source": [
    "print(addxy)\n",
    "print(multiplyxy)\n",
    "print(subxy)"
   ]
  },
  {
   "cell_type": "markdown",
   "id": "03afd7ca",
   "metadata": {},
   "source": [
    "### Conditional Statements"
   ]
  },
  {
   "cell_type": "code",
   "execution_count": 58,
   "id": "f857e549",
   "metadata": {},
   "outputs": [
    {
     "name": "stdout",
     "output_type": "stream",
     "text": [
      "Child\n"
     ]
    }
   ],
   "source": [
    "## if, elif and else\n",
    "age = 10 \n",
    "if age <= 10:\n",
    "    print('Child')\n",
    "elif age > 10 and age <= 16:\n",
    "    print('Teenager')\n",
    "elif age > 16 and age <= 22:\n",
    "    print('Youth')\n",
    "elif age > 22 and age <= 40:\n",
    "    print('Youth++')\n",
    "elif age > 40 and age <= 60:\n",
    "    print('Old people')\n",
    "elif age > 60:\n",
    "    print('Senior Citizen')\n",
    "else:\n",
    "    print('Age group general')\n",
    "    "
   ]
  },
  {
   "cell_type": "code",
   "execution_count": 59,
   "id": "009aa91b",
   "metadata": {},
   "outputs": [],
   "source": [
    "def groupAge(age):\n",
    "    if age <= 10:\n",
    "        print('Child')\n",
    "    elif age > 10 and age <= 16:\n",
    "        print('Teenager')\n",
    "    elif age > 16 and age <= 22:\n",
    "        print('Youth')\n",
    "    elif age > 22 and age <= 40:\n",
    "        print('Youth++')\n",
    "    elif age > 40 and age <= 60:\n",
    "        print('Old people')\n",
    "    elif age > 60:\n",
    "        print('Senior Citizen')\n",
    "    else:\n",
    "        print('Age group general')"
   ]
  },
  {
   "cell_type": "code",
   "execution_count": 61,
   "id": "82d444f7",
   "metadata": {},
   "outputs": [
    {
     "name": "stdout",
     "output_type": "stream",
     "text": [
      "Please enter the age 55\n"
     ]
    }
   ],
   "source": [
    "inputAge = input('Please enter the age ')\n",
    "inputAge = int(inputAge)"
   ]
  },
  {
   "cell_type": "code",
   "execution_count": 62,
   "id": "3344c6f0",
   "metadata": {},
   "outputs": [
    {
     "data": {
      "text/plain": [
       "55"
      ]
     },
     "execution_count": 62,
     "metadata": {},
     "output_type": "execute_result"
    }
   ],
   "source": [
    "inputAge"
   ]
  },
  {
   "cell_type": "code",
   "execution_count": 63,
   "id": "63112c1e",
   "metadata": {},
   "outputs": [
    {
     "name": "stdout",
     "output_type": "stream",
     "text": [
      "Old people\n"
     ]
    }
   ],
   "source": [
    "groupAge(inputAge)"
   ]
  },
  {
   "cell_type": "markdown",
   "id": "b9f797a0",
   "metadata": {},
   "source": [
    "while Statement"
   ]
  },
  {
   "cell_type": "code",
   "execution_count": 66,
   "id": "ce82b0b3",
   "metadata": {},
   "outputs": [
    {
     "name": "stdout",
     "output_type": "stream",
     "text": [
      "11\n",
      "12\n",
      "13\n",
      "14\n"
     ]
    }
   ],
   "source": [
    "x = 11\n",
    "while x < 15:\n",
    "    print(x)\n",
    "    x = x + 1"
   ]
  },
  {
   "cell_type": "code",
   "execution_count": 67,
   "id": "73dddf5a",
   "metadata": {},
   "outputs": [],
   "source": [
    "## infinite loop\n",
    "#while True:\n",
    "# print()"
   ]
  },
  {
   "cell_type": "raw",
   "id": "963fa3de",
   "metadata": {},
   "source": [
    "## keywords or reserved words in python\n",
    "1. False 2.class 3. finally 4.is 5.return 6. None 7. continue 8.for\n",
    "9. lambda 10.try 11.True 12.def 13.from 14.nonlocal 15. while 16.and\n",
    "17. del 18.global 19.not 20.with 21.as 22.elif 23.if 24.or 25. yield\n",
    "26. assert 27. else 28. import 29. pass 30. break 31. except 32. in 33. raise"
   ]
  },
  {
   "cell_type": "code",
   "execution_count": null,
   "id": "d44fdefd",
   "metadata": {},
   "outputs": [],
   "source": []
  }
 ],
 "metadata": {
  "kernelspec": {
   "display_name": "Python 3 (ipykernel)",
   "language": "python",
   "name": "python3"
  },
  "language_info": {
   "codemirror_mode": {
    "name": "ipython",
    "version": 3
   },
   "file_extension": ".py",
   "mimetype": "text/x-python",
   "name": "python",
   "nbconvert_exporter": "python",
   "pygments_lexer": "ipython3",
   "version": "3.10.10"
  }
 },
 "nbformat": 4,
 "nbformat_minor": 5
}
