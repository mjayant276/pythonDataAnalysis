{
 "cells": [
  {
   "cell_type": "markdown",
   "id": "8f2d920d",
   "metadata": {},
   "source": [
    "* If we are using '*' as the parameters inside the function then multiple values can be passed\n",
    "* We can pass multiple values or list to the paramenter that is marked as '*'\n",
    "* These parameters can be iterated over using for loop"
   ]
  },
  {
   "cell_type": "code",
   "execution_count": 4,
   "id": "f2c9037f",
   "metadata": {},
   "outputs": [],
   "source": [
    "def printStudentDetails(courseName, *grades):\n",
    "    print(f'Course Name is {courseName} and grades are {grades}')\n",
    "    for grade in grades:\n",
    "        print(grade)"
   ]
  },
  {
   "cell_type": "code",
   "execution_count": 3,
   "id": "dd87fd73",
   "metadata": {},
   "outputs": [
    {
     "name": "stdout",
     "output_type": "stream",
     "text": [
      "Course Name is BSC CSE and grades are (['A', 'B', 'A+', 'B+'],)\n"
     ]
    }
   ],
   "source": [
    "printStudentDetails('BSC CSE',['A','B','A+','B+'])"
   ]
  },
  {
   "cell_type": "code",
   "execution_count": 5,
   "id": "dfa74f09",
   "metadata": {},
   "outputs": [
    {
     "name": "stdout",
     "output_type": "stream",
     "text": [
      "Course Name is BSC CSE and grades are ('A', 'B', 'A+', 'B+')\n",
      "A\n",
      "B\n",
      "A+\n",
      "B+\n"
     ]
    }
   ],
   "source": [
    "printStudentDetails('BSC CSE','A','B','A+','B+')"
   ]
  },
  {
   "cell_type": "code",
   "execution_count": 7,
   "id": "741d1a51",
   "metadata": {},
   "outputs": [
    {
     "name": "stdout",
     "output_type": "stream",
     "text": [
      "Course Name is BSC CSE and grades are (['A', 'B', 'A+', 'B+'], ['A', 'B', 'B+', 'A+'])\n",
      "['A', 'B', 'A+', 'B+']\n",
      "['A', 'B', 'B+', 'A+']\n"
     ]
    }
   ],
   "source": [
    "printStudentDetails('BSC CSE',['A','B','A+','B+'],['A','B','B+','A+'])"
   ]
  },
  {
   "cell_type": "code",
   "execution_count": 9,
   "id": "6203975a",
   "metadata": {},
   "outputs": [
    {
     "ename": "TypeError",
     "evalue": "printStudentDetails() missing 1 required positional argument: 'courseName'",
     "output_type": "error",
     "traceback": [
      "\u001b[1;31m---------------------------------------------------------------------------\u001b[0m",
      "\u001b[1;31mTypeError\u001b[0m                                 Traceback (most recent call last)",
      "Cell \u001b[1;32mIn[9], line 1\u001b[0m\n\u001b[1;32m----> 1\u001b[0m \u001b[43mprintStudentDetails\u001b[49m\u001b[43m(\u001b[49m\u001b[43m)\u001b[49m\n",
      "\u001b[1;31mTypeError\u001b[0m: printStudentDetails() missing 1 required positional argument: 'courseName'"
     ]
    }
   ],
   "source": [
    "printStudentDetails('BSC CSE')"
   ]
  },
  {
   "cell_type": "markdown",
   "id": "edd0dc16",
   "metadata": {},
   "source": [
    "#### Range\n",
    "* Range is an object that can generate sequence of numbers\n",
    "* the syntax for range is range(start,end,step) \n",
    "    * start is the starting number\n",
    "    * end is the ending number \n",
    "    * step is the step size of the range object - How many values need to be skipped\n",
    "* Range object can be iterated over using the for loop"
   ]
  },
  {
   "cell_type": "code",
   "execution_count": 11,
   "id": "2ffe769a",
   "metadata": {},
   "outputs": [
    {
     "name": "stdout",
     "output_type": "stream",
     "text": [
      "range(0, 10)\n"
     ]
    }
   ],
   "source": [
    "print(range(10))"
   ]
  },
  {
   "cell_type": "code",
   "execution_count": 13,
   "id": "169082d5",
   "metadata": {},
   "outputs": [
    {
     "name": "stdout",
     "output_type": "stream",
     "text": [
      "0 1 2 3 4 5 6 7 8 9 "
     ]
    }
   ],
   "source": [
    "for i in range(10):\n",
    "    print(i, end=' ')"
   ]
  },
  {
   "cell_type": "code",
   "execution_count": 24,
   "id": "000e0cc9",
   "metadata": {},
   "outputs": [
    {
     "name": "stdout",
     "output_type": "stream",
     "text": [
      "1 2 3 4 5 6 7 8 9 10 11 12 13 14 15 "
     ]
    }
   ],
   "source": [
    "y = range(1,16,1)\n",
    "for num in y:\n",
    "    print(num, end = ' ')"
   ]
  },
  {
   "cell_type": "code",
   "execution_count": 23,
   "id": "fd8313d1",
   "metadata": {},
   "outputs": [
    {
     "name": "stdout",
     "output_type": "stream",
     "text": [
      "1 3 5 7 9 11 13 15 "
     ]
    }
   ],
   "source": [
    "y = range(1,16,2)\n",
    "for num in y:\n",
    "    print(num, end = ' ')"
   ]
  },
  {
   "cell_type": "code",
   "execution_count": 15,
   "id": "a62d97f0",
   "metadata": {},
   "outputs": [],
   "source": [
    "l0 = []\n",
    "l0.append(1)"
   ]
  },
  {
   "cell_type": "code",
   "execution_count": 16,
   "id": "af7084c7",
   "metadata": {},
   "outputs": [
    {
     "data": {
      "text/plain": [
       "[1]"
      ]
     },
     "execution_count": 16,
     "metadata": {},
     "output_type": "execute_result"
    }
   ],
   "source": [
    "l0"
   ]
  },
  {
   "cell_type": "code",
   "execution_count": 14,
   "id": "768ec352",
   "metadata": {
    "scrolled": true
   },
   "outputs": [
    {
     "data": {
      "text/plain": [
       "[0, 1, 2, 3, 4, 5, 6, 7, 8, 9]"
      ]
     },
     "execution_count": 14,
     "metadata": {},
     "output_type": "execute_result"
    }
   ],
   "source": [
    "#### Create a list object from range\n",
    "l1 = list(range(10))\n",
    "l1"
   ]
  },
  {
   "cell_type": "code",
   "execution_count": 17,
   "id": "c325d1be",
   "metadata": {},
   "outputs": [
    {
     "name": "stdout",
     "output_type": "stream",
     "text": [
      "[0, 1, 2, 3, 4, 5, 6, 7, 8, 9]\n"
     ]
    }
   ],
   "source": [
    "l2 = []\n",
    "for i in range(10):\n",
    "    l2.append(i)\n",
    "print(l2)    "
   ]
  },
  {
   "cell_type": "markdown",
   "id": "4a0d29d1",
   "metadata": {},
   "source": [
    "#### List Comprehensions\n",
    "* Writing and returning a list in a single line\n",
    "* We generally iterate over a sequence or list and then perform some operations/specify a condition and then return the value of the specified operation\n",
    "* Multiple lines of code can be reduced to single line using list comprehension"
   ]
  },
  {
   "cell_type": "code",
   "execution_count": 25,
   "id": "b8ea711d",
   "metadata": {},
   "outputs": [],
   "source": [
    "l1 = []\n",
    "for i in range(10):\n",
    "    l1.append(pow(i,2))"
   ]
  },
  {
   "cell_type": "code",
   "execution_count": 26,
   "id": "bb638610",
   "metadata": {},
   "outputs": [
    {
     "data": {
      "text/plain": [
       "[0, 1, 4, 9, 16, 25, 36, 49, 64, 81]"
      ]
     },
     "execution_count": 26,
     "metadata": {},
     "output_type": "execute_result"
    }
   ],
   "source": [
    "l1"
   ]
  },
  {
   "cell_type": "code",
   "execution_count": 27,
   "id": "f4575bf8",
   "metadata": {},
   "outputs": [
    {
     "data": {
      "text/plain": [
       "[0, 1, 4, 9, 16, 25, 36, 49, 64, 81]"
      ]
     },
     "execution_count": 27,
     "metadata": {},
     "output_type": "execute_result"
    }
   ],
   "source": [
    "l2 = [pow(i,2) for i in range(10)]\n",
    "l2"
   ]
  },
  {
   "cell_type": "code",
   "execution_count": 28,
   "id": "abdfb7a7",
   "metadata": {},
   "outputs": [],
   "source": [
    "l3 = [pow(i,2) for i in range(10) if i > 3]"
   ]
  },
  {
   "cell_type": "code",
   "execution_count": 29,
   "id": "075e7e00",
   "metadata": {},
   "outputs": [
    {
     "data": {
      "text/plain": [
       "[16, 25, 36, 49, 64, 81]"
      ]
     },
     "execution_count": 29,
     "metadata": {},
     "output_type": "execute_result"
    }
   ],
   "source": [
    "l3"
   ]
  },
  {
   "cell_type": "markdown",
   "id": "ca36c36b",
   "metadata": {},
   "source": [
    "#### Sets in python"
   ]
  },
  {
   "cell_type": "markdown",
   "id": "820cf4e5",
   "metadata": {},
   "source": [
    "* Sets are data structures in python\n",
    "* Sets allows only unique values, that is they donot allow duplicate values\n",
    "* Sets can be constructured using {} braces\n",
    "* Sets can be iterated over\n",
    "* Empty set can be created using set() or {}\n",
    "* Multiple set operations can be performed using Python sets"
   ]
  },
  {
   "cell_type": "code",
   "execution_count": null,
   "id": "9344a869",
   "metadata": {},
   "outputs": [],
   "source": []
  }
 ],
 "metadata": {
  "kernelspec": {
   "display_name": "Python 3 (ipykernel)",
   "language": "python",
   "name": "python3"
  },
  "language_info": {
   "codemirror_mode": {
    "name": "ipython",
    "version": 3
   },
   "file_extension": ".py",
   "mimetype": "text/x-python",
   "name": "python",
   "nbconvert_exporter": "python",
   "pygments_lexer": "ipython3",
   "version": "3.10.10"
  }
 },
 "nbformat": 4,
 "nbformat_minor": 5
}
