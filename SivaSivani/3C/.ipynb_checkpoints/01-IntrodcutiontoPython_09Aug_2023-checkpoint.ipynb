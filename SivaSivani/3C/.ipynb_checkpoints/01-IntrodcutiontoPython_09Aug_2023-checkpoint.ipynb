{
 "cells": [
  {
   "cell_type": "code",
   "execution_count": 1,
   "id": "9e615497",
   "metadata": {},
   "outputs": [
    {
     "data": {
      "text/plain": [
       "'HelloWorld'"
      ]
     },
     "execution_count": 1,
     "metadata": {},
     "output_type": "execute_result"
    }
   ],
   "source": [
    "'HelloWorld'"
   ]
  },
  {
   "cell_type": "code",
   "execution_count": 5,
   "id": "c1f1416b",
   "metadata": {},
   "outputs": [
    {
     "name": "stdout",
     "output_type": "stream",
     "text": [
      "HelloWorld\n"
     ]
    }
   ],
   "source": [
    "print('HelloWorld')"
   ]
  },
  {
   "cell_type": "markdown",
   "id": "67fed4b5",
   "metadata": {},
   "source": [
    "#### Data Types"
   ]
  },
  {
   "cell_type": "markdown",
   "id": "dedfe443",
   "metadata": {},
   "source": [
    "##### Python Introduction Concepts"
   ]
  },
  {
   "cell_type": "code",
   "execution_count": 6,
   "id": "c001a079",
   "metadata": {},
   "outputs": [
    {
     "data": {
      "text/plain": [
       "'Anil Khanna'"
      ]
     },
     "execution_count": 6,
     "metadata": {},
     "output_type": "execute_result"
    }
   ],
   "source": [
    "'Anil Khanna'"
   ]
  },
  {
   "cell_type": "code",
   "execution_count": 7,
   "id": "d132d0c7",
   "metadata": {},
   "outputs": [
    {
     "data": {
      "text/plain": [
       "'Anil Khanna'"
      ]
     },
     "execution_count": 7,
     "metadata": {},
     "output_type": "execute_result"
    }
   ],
   "source": [
    "\"Anil Khanna\""
   ]
  },
  {
   "cell_type": "code",
   "execution_count": 8,
   "id": "1fb187e7",
   "metadata": {},
   "outputs": [
    {
     "name": "stdout",
     "output_type": "stream",
     "text": [
      "Anil Khanna\n"
     ]
    }
   ],
   "source": [
    "print('Anil Khanna')"
   ]
  },
  {
   "cell_type": "code",
   "execution_count": 9,
   "id": "57897929",
   "metadata": {},
   "outputs": [
    {
     "name": "stdout",
     "output_type": "stream",
     "text": [
      "Anil Khanna\n"
     ]
    }
   ],
   "source": [
    "print(\"Anil Khanna\")"
   ]
  },
  {
   "cell_type": "code",
   "execution_count": 11,
   "id": "6277e210",
   "metadata": {},
   "outputs": [],
   "source": [
    "x = 3"
   ]
  },
  {
   "cell_type": "code",
   "execution_count": 12,
   "id": "f95e0713",
   "metadata": {},
   "outputs": [
    {
     "data": {
      "text/plain": [
       "3"
      ]
     },
     "execution_count": 12,
     "metadata": {},
     "output_type": "execute_result"
    }
   ],
   "source": [
    "x"
   ]
  },
  {
   "cell_type": "code",
   "execution_count": 13,
   "id": "18fb79ae",
   "metadata": {},
   "outputs": [
    {
     "data": {
      "text/plain": [
       "int"
      ]
     },
     "execution_count": 13,
     "metadata": {},
     "output_type": "execute_result"
    }
   ],
   "source": [
    "type(x)"
   ]
  },
  {
   "cell_type": "code",
   "execution_count": 14,
   "id": "d9742dd5",
   "metadata": {},
   "outputs": [],
   "source": [
    "name = 'Anil Khanna'"
   ]
  },
  {
   "cell_type": "code",
   "execution_count": 15,
   "id": "9c63448e",
   "metadata": {},
   "outputs": [
    {
     "data": {
      "text/plain": [
       "'Anil Khanna'"
      ]
     },
     "execution_count": 15,
     "metadata": {},
     "output_type": "execute_result"
    }
   ],
   "source": [
    "name"
   ]
  },
  {
   "cell_type": "code",
   "execution_count": 16,
   "id": "f1daf759",
   "metadata": {},
   "outputs": [
    {
     "data": {
      "text/plain": [
       "str"
      ]
     },
     "execution_count": 16,
     "metadata": {},
     "output_type": "execute_result"
    }
   ],
   "source": [
    "type(name)"
   ]
  },
  {
   "cell_type": "code",
   "execution_count": 17,
   "id": "b0c73213",
   "metadata": {},
   "outputs": [],
   "source": [
    "x = 3"
   ]
  },
  {
   "cell_type": "code",
   "execution_count": 18,
   "id": "d2ceaedc",
   "metadata": {},
   "outputs": [
    {
     "data": {
      "text/plain": [
       "int"
      ]
     },
     "execution_count": 18,
     "metadata": {},
     "output_type": "execute_result"
    }
   ],
   "source": [
    "type(x)"
   ]
  },
  {
   "cell_type": "code",
   "execution_count": 19,
   "id": "a01aa8a7",
   "metadata": {},
   "outputs": [
    {
     "data": {
      "text/plain": [
       "int"
      ]
     },
     "execution_count": 19,
     "metadata": {},
     "output_type": "execute_result"
    }
   ],
   "source": [
    "type(3)"
   ]
  },
  {
   "cell_type": "code",
   "execution_count": 20,
   "id": "65f15295",
   "metadata": {},
   "outputs": [
    {
     "data": {
      "text/plain": [
       "float"
      ]
     },
     "execution_count": 20,
     "metadata": {},
     "output_type": "execute_result"
    }
   ],
   "source": [
    "type(3.4)"
   ]
  },
  {
   "cell_type": "code",
   "execution_count": 21,
   "id": "21a16940",
   "metadata": {},
   "outputs": [],
   "source": [
    "y = 3.4"
   ]
  },
  {
   "cell_type": "code",
   "execution_count": 22,
   "id": "a12978f1",
   "metadata": {},
   "outputs": [
    {
     "data": {
      "text/plain": [
       "float"
      ]
     },
     "execution_count": 22,
     "metadata": {},
     "output_type": "execute_result"
    }
   ],
   "source": [
    "type(y)"
   ]
  },
  {
   "cell_type": "code",
   "execution_count": 23,
   "id": "434155b8",
   "metadata": {},
   "outputs": [
    {
     "data": {
      "text/plain": [
       "float"
      ]
     },
     "execution_count": 23,
     "metadata": {},
     "output_type": "execute_result"
    }
   ],
   "source": [
    "type(3.4)"
   ]
  },
  {
   "cell_type": "code",
   "execution_count": 24,
   "id": "aa620a1e",
   "metadata": {},
   "outputs": [
    {
     "data": {
      "text/plain": [
       "str"
      ]
     },
     "execution_count": 24,
     "metadata": {},
     "output_type": "execute_result"
    }
   ],
   "source": [
    "type('Anil')"
   ]
  },
  {
   "cell_type": "code",
   "execution_count": 25,
   "id": "ec0a42c0",
   "metadata": {},
   "outputs": [],
   "source": [
    "name = 'Anil'"
   ]
  },
  {
   "cell_type": "code",
   "execution_count": 26,
   "id": "b5c58470",
   "metadata": {},
   "outputs": [
    {
     "data": {
      "text/plain": [
       "str"
      ]
     },
     "execution_count": 26,
     "metadata": {},
     "output_type": "execute_result"
    }
   ],
   "source": [
    "type(name)"
   ]
  },
  {
   "cell_type": "code",
   "execution_count": 1,
   "id": "24a4636a",
   "metadata": {},
   "outputs": [],
   "source": [
    "val1 = True"
   ]
  },
  {
   "cell_type": "code",
   "execution_count": 2,
   "id": "b0540a4b",
   "metadata": {},
   "outputs": [],
   "source": [
    "val2 = False"
   ]
  },
  {
   "cell_type": "code",
   "execution_count": 3,
   "id": "bde4f446",
   "metadata": {},
   "outputs": [
    {
     "data": {
      "text/plain": [
       "True"
      ]
     },
     "execution_count": 3,
     "metadata": {},
     "output_type": "execute_result"
    }
   ],
   "source": [
    "val1"
   ]
  },
  {
   "cell_type": "code",
   "execution_count": 4,
   "id": "a9bf54af",
   "metadata": {},
   "outputs": [
    {
     "data": {
      "text/plain": [
       "False"
      ]
     },
     "execution_count": 4,
     "metadata": {},
     "output_type": "execute_result"
    }
   ],
   "source": [
    "val2"
   ]
  },
  {
   "cell_type": "markdown",
   "id": "91acad2b",
   "metadata": {},
   "source": [
    "### list "
   ]
  },
  {
   "cell_type": "code",
   "execution_count": 6,
   "id": "2b1a2a62",
   "metadata": {},
   "outputs": [],
   "source": [
    "names = ['Anil','Bharat','Chandra','Dinaesh','Elangovan']"
   ]
  },
  {
   "cell_type": "code",
   "execution_count": 7,
   "id": "00806133",
   "metadata": {},
   "outputs": [
    {
     "data": {
      "text/plain": [
       "['Anil', 'Bharat', 'Chandra', 'Dinaesh', 'Elangovan']"
      ]
     },
     "execution_count": 7,
     "metadata": {},
     "output_type": "execute_result"
    }
   ],
   "source": [
    "names"
   ]
  },
  {
   "cell_type": "code",
   "execution_count": 8,
   "id": "4ac8ade8",
   "metadata": {},
   "outputs": [
    {
     "data": {
      "text/plain": [
       "'Anil'"
      ]
     },
     "execution_count": 8,
     "metadata": {},
     "output_type": "execute_result"
    }
   ],
   "source": [
    "names[0]"
   ]
  },
  {
   "cell_type": "code",
   "execution_count": 9,
   "id": "95f6e1b2",
   "metadata": {},
   "outputs": [
    {
     "data": {
      "text/plain": [
       "'Bharat'"
      ]
     },
     "execution_count": 9,
     "metadata": {},
     "output_type": "execute_result"
    }
   ],
   "source": [
    "names[1]"
   ]
  },
  {
   "cell_type": "markdown",
   "id": "74f3557a",
   "metadata": {},
   "source": [
    "dictionary"
   ]
  },
  {
   "cell_type": "code",
   "execution_count": 10,
   "id": "9adbc91d",
   "metadata": {},
   "outputs": [],
   "source": [
    "students = {101:'Anil',102:'Bharat',103:'Chandra',104:'Dinaesh',105:'Elangovan'}"
   ]
  },
  {
   "cell_type": "code",
   "execution_count": 11,
   "id": "6fb21ab6",
   "metadata": {},
   "outputs": [
    {
     "data": {
      "text/plain": [
       "{101: 'Anil', 102: 'Bharat', 103: 'Chandra', 104: 'Dinaesh', 105: 'Elangovan'}"
      ]
     },
     "execution_count": 11,
     "metadata": {},
     "output_type": "execute_result"
    }
   ],
   "source": [
    "students"
   ]
  },
  {
   "cell_type": "code",
   "execution_count": 16,
   "id": "7d0797a7",
   "metadata": {},
   "outputs": [],
   "source": [
    "flavours = {'Chocolate','Vanilla','Vanilla','Strawberry','Strawberry','ButterScotch','ButterScotch'}"
   ]
  },
  {
   "cell_type": "code",
   "execution_count": 17,
   "id": "6ab8a905",
   "metadata": {},
   "outputs": [
    {
     "data": {
      "text/plain": [
       "{'ButterScotch', 'Chocolate', 'Strawberry', 'Vanilla'}"
      ]
     },
     "execution_count": 17,
     "metadata": {},
     "output_type": "execute_result"
    }
   ],
   "source": [
    "flavours"
   ]
  },
  {
   "cell_type": "code",
   "execution_count": 18,
   "id": "4794c430",
   "metadata": {},
   "outputs": [
    {
     "data": {
      "text/plain": [
       "'This is an introduction to Python'"
      ]
     },
     "execution_count": 18,
     "metadata": {},
     "output_type": "execute_result"
    }
   ],
   "source": [
    "words = 'This is an introduction to Python'\n",
    "words"
   ]
  },
  {
   "cell_type": "code",
   "execution_count": 19,
   "id": "e8bb032f",
   "metadata": {},
   "outputs": [
    {
     "data": {
      "text/plain": [
       "'T'"
      ]
     },
     "execution_count": 19,
     "metadata": {},
     "output_type": "execute_result"
    }
   ],
   "source": [
    "words[0]"
   ]
  },
  {
   "cell_type": "code",
   "execution_count": 20,
   "id": "7a1b1875",
   "metadata": {},
   "outputs": [
    {
     "data": {
      "text/plain": [
       "'This '"
      ]
     },
     "execution_count": 20,
     "metadata": {},
     "output_type": "execute_result"
    }
   ],
   "source": [
    "words[0:5]"
   ]
  },
  {
   "cell_type": "code",
   "execution_count": 21,
   "id": "58581a78",
   "metadata": {},
   "outputs": [
    {
     "data": {
      "text/plain": [
       "'This'"
      ]
     },
     "execution_count": 21,
     "metadata": {},
     "output_type": "execute_result"
    }
   ],
   "source": [
    "words[0:4]"
   ]
  },
  {
   "cell_type": "raw",
   "id": "0e8fa547",
   "metadata": {},
   "source": [
    "words[startIndex:endIndex:stepSize]"
   ]
  },
  {
   "cell_type": "code",
   "execution_count": 29,
   "id": "fbe56e00",
   "metadata": {},
   "outputs": [
    {
     "data": {
      "text/plain": [
       "'Ti sa nr'"
      ]
     },
     "execution_count": 29,
     "metadata": {},
     "output_type": "execute_result"
    }
   ],
   "source": [
    "words[:15:2]"
   ]
  },
  {
   "cell_type": "code",
   "execution_count": 30,
   "id": "898bab8d",
   "metadata": {},
   "outputs": [
    {
     "data": {
      "text/plain": [
       "'nohtyP ot noitcudortni na si sihT'"
      ]
     },
     "execution_count": 30,
     "metadata": {},
     "output_type": "execute_result"
    }
   ],
   "source": [
    "words[::-1]"
   ]
  },
  {
   "cell_type": "code",
   "execution_count": 34,
   "id": "8082791e",
   "metadata": {},
   "outputs": [
    {
     "data": {
      "text/plain": [
       "'nohtyP ot noitcudortni na si sihT'"
      ]
     },
     "execution_count": 34,
     "metadata": {},
     "output_type": "execute_result"
    }
   ],
   "source": [
    "words[::-1]"
   ]
  },
  {
   "cell_type": "code",
   "execution_count": 35,
   "id": "3ea28d4f",
   "metadata": {},
   "outputs": [],
   "source": [
    "val1 = '10'"
   ]
  },
  {
   "cell_type": "code",
   "execution_count": 36,
   "id": "cbeca1e4",
   "metadata": {},
   "outputs": [
    {
     "data": {
      "text/plain": [
       "str"
      ]
     },
     "execution_count": 36,
     "metadata": {},
     "output_type": "execute_result"
    }
   ],
   "source": [
    "type(val1)"
   ]
  },
  {
   "cell_type": "code",
   "execution_count": 37,
   "id": "1ab52004",
   "metadata": {},
   "outputs": [],
   "source": [
    "val2 = \"10.5\""
   ]
  },
  {
   "cell_type": "code",
   "execution_count": 38,
   "id": "f9224907",
   "metadata": {},
   "outputs": [
    {
     "data": {
      "text/plain": [
       "str"
      ]
     },
     "execution_count": 38,
     "metadata": {},
     "output_type": "execute_result"
    }
   ],
   "source": [
    "type(val2)"
   ]
  },
  {
   "cell_type": "code",
   "execution_count": 39,
   "id": "1b87761c",
   "metadata": {},
   "outputs": [
    {
     "name": "stdout",
     "output_type": "stream",
     "text": [
      "10\n"
     ]
    }
   ],
   "source": [
    "val1 = '10'\n",
    "val1 = int(val1)\n",
    "print(val1)"
   ]
  },
  {
   "cell_type": "code",
   "execution_count": 40,
   "id": "9e834502",
   "metadata": {},
   "outputs": [
    {
     "data": {
      "text/plain": [
       "int"
      ]
     },
     "execution_count": 40,
     "metadata": {},
     "output_type": "execute_result"
    }
   ],
   "source": [
    "type(val1)"
   ]
  },
  {
   "cell_type": "code",
   "execution_count": 42,
   "id": "d8301d18",
   "metadata": {},
   "outputs": [
    {
     "name": "stdout",
     "output_type": "stream",
     "text": [
      "<class 'float'>\n"
     ]
    }
   ],
   "source": [
    "val2 = '10.5'\n",
    "val2 = float(val2)\n",
    "print(type(val2))"
   ]
  },
  {
   "cell_type": "markdown",
   "id": "5def98b7",
   "metadata": {},
   "source": [
    "### input from the commandline"
   ]
  },
  {
   "cell_type": "code",
   "execution_count": 43,
   "id": "3576e6b2",
   "metadata": {},
   "outputs": [
    {
     "name": "stdout",
     "output_type": "stream",
     "text": [
      "Enter the nameJayant\n"
     ]
    }
   ],
   "source": [
    "val = input('Enter the name')"
   ]
  },
  {
   "cell_type": "code",
   "execution_count": 44,
   "id": "4d2399a1",
   "metadata": {},
   "outputs": [
    {
     "data": {
      "text/plain": [
       "'Jayant'"
      ]
     },
     "execution_count": 44,
     "metadata": {},
     "output_type": "execute_result"
    }
   ],
   "source": [
    "val"
   ]
  },
  {
   "cell_type": "code",
   "execution_count": 45,
   "id": "7528bd63",
   "metadata": {},
   "outputs": [
    {
     "name": "stdout",
     "output_type": "stream",
     "text": [
      "Number of students 55\n"
     ]
    }
   ],
   "source": [
    "numStunders = input('Number of students ')"
   ]
  },
  {
   "cell_type": "code",
   "execution_count": 46,
   "id": "b1ca05ef",
   "metadata": {},
   "outputs": [
    {
     "data": {
      "text/plain": [
       "'55'"
      ]
     },
     "execution_count": 46,
     "metadata": {},
     "output_type": "execute_result"
    }
   ],
   "source": [
    "numStunders"
   ]
  },
  {
   "cell_type": "code",
   "execution_count": 50,
   "id": "c3bde2b9",
   "metadata": {},
   "outputs": [],
   "source": [
    "numStunders = int(numStunders)"
   ]
  },
  {
   "cell_type": "code",
   "execution_count": 52,
   "id": "0fd258b0",
   "metadata": {},
   "outputs": [
    {
     "data": {
      "text/plain": [
       "55"
      ]
     },
     "execution_count": 52,
     "metadata": {},
     "output_type": "execute_result"
    }
   ],
   "source": [
    "numStunders"
   ]
  },
  {
   "cell_type": "code",
   "execution_count": 53,
   "id": "563db9b4",
   "metadata": {},
   "outputs": [
    {
     "name": "stdout",
     "output_type": "stream",
     "text": [
      "Enter the length10\n",
      "Enter the breadth 5\n",
      "<class 'str'>\n",
      "<class 'str'>\n"
     ]
    }
   ],
   "source": [
    "length = input('Enter the length')\n",
    "breadth = input('Enter the breadth ')\n",
    "print(type(length))\n",
    "print(type(breadth))"
   ]
  },
  {
   "cell_type": "code",
   "execution_count": 54,
   "id": "3b6dd1d5",
   "metadata": {},
   "outputs": [
    {
     "name": "stdout",
     "output_type": "stream",
     "text": [
      "<class 'int'>\n",
      "50\n"
     ]
    }
   ],
   "source": [
    "length = int(length)\n",
    "breadth = int(breadth)\n",
    "areaRect = length * breadth\n",
    "print(type(areaRect))\n",
    "print(areaRect)"
   ]
  },
  {
   "cell_type": "code",
   "execution_count": 55,
   "id": "2b55f084",
   "metadata": {},
   "outputs": [
    {
     "name": "stdout",
     "output_type": "stream",
     "text": [
      "Enter the amount100.5\n",
      "Enter the discount0.02\n"
     ]
    }
   ],
   "source": [
    "amount = input('Enter the amount')\n",
    "discount = input('Enter the discount')\n",
    "amount = float(amount)\n",
    "discount = float(discount)"
   ]
  },
  {
   "cell_type": "code",
   "execution_count": 56,
   "id": "4bf3bb31",
   "metadata": {},
   "outputs": [
    {
     "name": "stdout",
     "output_type": "stream",
     "text": [
      "<class 'float'>\n",
      "<class 'float'>\n"
     ]
    }
   ],
   "source": [
    "print(type(amount))\n",
    "print(type(discount))"
   ]
  },
  {
   "cell_type": "code",
   "execution_count": 57,
   "id": "58a00894",
   "metadata": {},
   "outputs": [],
   "source": [
    "computedValue = amount - (amount*discount)"
   ]
  },
  {
   "cell_type": "code",
   "execution_count": 58,
   "id": "e8fd6346",
   "metadata": {},
   "outputs": [
    {
     "data": {
      "text/plain": [
       "98.49"
      ]
     },
     "execution_count": 58,
     "metadata": {},
     "output_type": "execute_result"
    }
   ],
   "source": [
    "computedValue"
   ]
  },
  {
   "cell_type": "code",
   "execution_count": 59,
   "id": "2dca6993",
   "metadata": {},
   "outputs": [
    {
     "name": "stdout",
     "output_type": "stream",
     "text": [
      "98.49\n"
     ]
    }
   ],
   "source": [
    "print(computedValue)"
   ]
  },
  {
   "cell_type": "code",
   "execution_count": 60,
   "id": "24c7fb7b",
   "metadata": {},
   "outputs": [
    {
     "ename": "TypeError",
     "evalue": "can only concatenate str (not \"float\") to str",
     "output_type": "error",
     "traceback": [
      "\u001b[1;31m---------------------------------------------------------------------------\u001b[0m",
      "\u001b[1;31mTypeError\u001b[0m                                 Traceback (most recent call last)",
      "Cell \u001b[1;32mIn[60], line 1\u001b[0m\n\u001b[1;32m----> 1\u001b[0m \u001b[38;5;28mprint\u001b[39m(\u001b[38;5;124;43m'\u001b[39;49m\u001b[38;5;124;43mComputed Value is \u001b[39;49m\u001b[38;5;124;43m'\u001b[39;49m\u001b[43m \u001b[49m\u001b[38;5;241;43m+\u001b[39;49m\u001b[43m \u001b[49m\u001b[43mcomputedValue\u001b[49m)\n",
      "\u001b[1;31mTypeError\u001b[0m: can only concatenate str (not \"float\") to str"
     ]
    }
   ],
   "source": [
    "print('Computed Value is ' + computedValue)"
   ]
  },
  {
   "cell_type": "code",
   "execution_count": 62,
   "id": "4491341f",
   "metadata": {},
   "outputs": [
    {
     "data": {
      "text/plain": [
       "'Rahul Dravid'"
      ]
     },
     "execution_count": 62,
     "metadata": {},
     "output_type": "execute_result"
    }
   ],
   "source": [
    "firstName = 'Rahul'\n",
    "LastName = 'Dravid'\n",
    "firstName + ' ' + LastName"
   ]
  },
  {
   "cell_type": "code",
   "execution_count": 63,
   "id": "968d6079",
   "metadata": {},
   "outputs": [
    {
     "name": "stdout",
     "output_type": "stream",
     "text": [
      "Rahul Dravid\n"
     ]
    }
   ],
   "source": [
    "print(firstName + ' ' + LastName)"
   ]
  },
  {
   "cell_type": "code",
   "execution_count": 66,
   "id": "aeeb5c52",
   "metadata": {},
   "outputs": [
    {
     "name": "stdout",
     "output_type": "stream",
     "text": [
      "First Name is  Rahul\n",
      "Last Name is  Dravid\n"
     ]
    }
   ],
   "source": [
    "print('First Name is ', firstName)\n",
    "print('Last Name is ', LastName)"
   ]
  },
  {
   "cell_type": "code",
   "execution_count": 69,
   "id": "55fa12a5",
   "metadata": {},
   "outputs": [],
   "source": [
    "profession = 'Cricketer'"
   ]
  },
  {
   "cell_type": "code",
   "execution_count": 74,
   "id": "951c4405",
   "metadata": {},
   "outputs": [
    {
     "name": "stdout",
     "output_type": "stream",
     "text": [
      "First Name is Rahul and Last Name is Dravid and Profession is Cricketer\n"
     ]
    }
   ],
   "source": [
    "print('First Name is {} and Last Name is {} and Profession is {}'.format(firstName,LastName,profession))"
   ]
  },
  {
   "cell_type": "code",
   "execution_count": 75,
   "id": "903e69b9",
   "metadata": {},
   "outputs": [
    {
     "name": "stdout",
     "output_type": "stream",
     "text": [
      "First Name is Rahul Last Name is Dravid Profession is Cricketer\n"
     ]
    }
   ],
   "source": [
    "print('First Name is ' + firstName + ' Last Name is ' + LastName + ' Profession is ' + profession)"
   ]
  },
  {
   "cell_type": "code",
   "execution_count": 81,
   "id": "04298b97",
   "metadata": {},
   "outputs": [
    {
     "ename": "IndentationError",
     "evalue": "expected an indented block after function definition on line 1 (1438438643.py, line 3)",
     "output_type": "error",
     "traceback": [
      "\u001b[1;36m  Cell \u001b[1;32mIn[81], line 3\u001b[1;36m\u001b[0m\n\u001b[1;33m    print('This is Python')\u001b[0m\n\u001b[1;37m    ^\u001b[0m\n\u001b[1;31mIndentationError\u001b[0m\u001b[1;31m:\u001b[0m expected an indented block after function definition on line 1\n"
     ]
    }
   ],
   "source": [
    "def printall():\n",
    "     \n",
    "print('This is Python')\n",
    "print('Value is defined')\n",
    "    "
   ]
  },
  {
   "cell_type": "code",
   "execution_count": 77,
   "id": "6fc5a590",
   "metadata": {},
   "outputs": [
    {
     "name": "stdout",
     "output_type": "stream",
     "text": [
      "This is Python\n",
      "Value is defined\n"
     ]
    }
   ],
   "source": [
    "printall()"
   ]
  },
  {
   "cell_type": "code",
   "execution_count": null,
   "id": "f6d821a4",
   "metadata": {},
   "outputs": [],
   "source": []
  }
 ],
 "metadata": {
  "kernelspec": {
   "display_name": "Python 3 (ipykernel)",
   "language": "python",
   "name": "python3"
  },
  "language_info": {
   "codemirror_mode": {
    "name": "ipython",
    "version": 3
   },
   "file_extension": ".py",
   "mimetype": "text/x-python",
   "name": "python",
   "nbconvert_exporter": "python",
   "pygments_lexer": "ipython3",
   "version": "3.10.10"
  }
 },
 "nbformat": 4,
 "nbformat_minor": 5
}
