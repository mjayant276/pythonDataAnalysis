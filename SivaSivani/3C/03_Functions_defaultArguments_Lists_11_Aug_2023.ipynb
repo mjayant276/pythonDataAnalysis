{
 "cells": [
  {
   "cell_type": "code",
   "execution_count": 15,
   "id": "c6525c3b",
   "metadata": {},
   "outputs": [],
   "source": [
    "def getStudentDetails(name,age,course='n/a'):\n",
    "    print('Name of the student {}'.format(name))\n",
    "    print('age of the student {}'.format(age))\n",
    "    print('Student\\'s Course name is  {}'.format(course))"
   ]
  },
  {
   "cell_type": "code",
   "execution_count": 16,
   "id": "70bfa9e2",
   "metadata": {},
   "outputs": [
    {
     "name": "stdout",
     "output_type": "stream",
     "text": [
      "Name of the student Abhilash\n",
      "age of the student 23\n",
      "Student's Course name is  Bcom-II\n"
     ]
    }
   ],
   "source": [
    "getStudentDetails('Abhilash',23,'Bcom-II')"
   ]
  },
  {
   "cell_type": "code",
   "execution_count": 18,
   "id": "034249ab",
   "metadata": {},
   "outputs": [],
   "source": [
    "def getStudentdetails_def(name='N/A',age='N/A',course='n/a'):\n",
    "    print('Name of the student {}'.format(name))\n",
    "    print('age of the student {}'.format(age))\n",
    "    print('Student\\'s Course name is  {}'.format(course))"
   ]
  },
  {
   "cell_type": "code",
   "execution_count": 26,
   "id": "2bbedbb0",
   "metadata": {},
   "outputs": [
    {
     "name": "stdout",
     "output_type": "stream",
     "text": [
      "Name of the student BCom-II\n",
      "age of the student 22\n",
      "Student's Course name is  Abhilash\n"
     ]
    }
   ],
   "source": [
    "getStudentdetails_def(course='BCom-II',age=22,name='Abhilash')"
   ]
  },
  {
   "cell_type": "code",
   "execution_count": 42,
   "id": "11040f69",
   "metadata": {},
   "outputs": [],
   "source": [
    "def guessNumber():\n",
    "    count = 0\n",
    "    while True:\n",
    "        number = input('Guess a number from 1 - 100 ')\n",
    "        count = count+1\n",
    "        if number == '19' or number == '61':\n",
    "            print('You won, the guess is right')\n",
    "            break\n",
    "        elif count >= 5:\n",
    "            print('Your chances have expired... Please start over !! ')\n",
    "            break\n",
    "        else:\n",
    "            print('Try Again for new chance !!!')    "
   ]
  },
  {
   "cell_type": "code",
   "execution_count": 44,
   "id": "90a09803",
   "metadata": {},
   "outputs": [
    {
     "name": "stdout",
     "output_type": "stream",
     "text": [
      "Guess a number from 1 - 100 6\n",
      "Try Again for new chance !!!\n",
      "Guess a number from 1 - 100 68\n",
      "Try Again for new chance !!!\n",
      "Guess a number from 1 - 100 81\n",
      "Try Again for new chance !!!\n",
      "Guess a number from 1 - 100 28\n",
      "Try Again for new chance !!!\n",
      "Guess a number from 1 - 100 7\n",
      "Try Again for new chance !!!\n",
      "Guess a number from 1 - 100 32\n",
      "Your chances have expired... Please start over !! \n"
     ]
    }
   ],
   "source": [
    "guessNumber()"
   ]
  },
  {
   "cell_type": "code",
   "execution_count": null,
   "id": "568dda24",
   "metadata": {},
   "outputs": [],
   "source": [
    "## Fibonacci Series - Sequence of numbers in the following way\n",
    "0,1,1,2,3,5,8,13,21,34,55 ...."
   ]
  },
  {
   "cell_type": "code",
   "execution_count": 55,
   "id": "a5cfc5a0",
   "metadata": {},
   "outputs": [],
   "source": [
    "def fibonacci(number):\n",
    "    '''  Fibonacci series in python - '''\n",
    "    a,b = 0,1\n",
    "    while a < number: \n",
    "        print(a, end=' ' )\n",
    "        a,b = b, a+b\n",
    "    print()    "
   ]
  },
  {
   "cell_type": "code",
   "execution_count": 56,
   "id": "ca284dca",
   "metadata": {},
   "outputs": [
    {
     "name": "stdout",
     "output_type": "stream",
     "text": [
      "0 1 1 2 3 5 8 13 21 34 55 89 \n"
     ]
    }
   ],
   "source": [
    "fibonacci(100)"
   ]
  },
  {
   "cell_type": "markdown",
   "id": "bed0f5ff",
   "metadata": {},
   "source": [
    "#### lists - Lists are orderd sequence of elements , values \n",
    " * They can accept heterogenous values\n",
    " * They are index based - index starts from zero\n",
    " * Functions of lists can be called using a dot operator on the list\n",
    " * Lists are iterable and can be iterated over\n",
    " * size of the list can be retrieved using the len function"
   ]
  },
  {
   "cell_type": "code",
   "execution_count": 60,
   "id": "15ce123c",
   "metadata": {},
   "outputs": [
    {
     "data": {
      "text/plain": [
       "['Abhilash', 'Brijesh', 'Chandrika', 'Dinesh', 'Elangovan', 'Freddy', 'Girish']"
      ]
     },
     "execution_count": 60,
     "metadata": {},
     "output_type": "execute_result"
    }
   ],
   "source": [
    "friendNames = ['Abhilash','Brijesh','Chandrika','Dinesh','Elangovan'\n",
    "               ,'Freddy','Girish']\n",
    "friendNames"
   ]
  },
  {
   "cell_type": "code",
   "execution_count": 61,
   "id": "beda300d",
   "metadata": {},
   "outputs": [
    {
     "data": {
      "text/plain": [
       "7"
      ]
     },
     "execution_count": 61,
     "metadata": {},
     "output_type": "execute_result"
    }
   ],
   "source": [
    "# Length of the list\n",
    "len(friendNames)"
   ]
  },
  {
   "cell_type": "code",
   "execution_count": 62,
   "id": "a94a24fb",
   "metadata": {},
   "outputs": [],
   "source": [
    "friendNames.append('Hamsika')"
   ]
  },
  {
   "cell_type": "code",
   "execution_count": 63,
   "id": "41421d4f",
   "metadata": {},
   "outputs": [
    {
     "data": {
      "text/plain": [
       "['Abhilash',\n",
       " 'Brijesh',\n",
       " 'Chandrika',\n",
       " 'Dinesh',\n",
       " 'Elangovan',\n",
       " 'Freddy',\n",
       " 'Girish',\n",
       " 'Hamsika']"
      ]
     },
     "execution_count": 63,
     "metadata": {},
     "output_type": "execute_result"
    }
   ],
   "source": [
    "friendNames"
   ]
  },
  {
   "cell_type": "code",
   "execution_count": 64,
   "id": "efbdcbe2",
   "metadata": {},
   "outputs": [],
   "source": [
    "friendNames.append('Girija')"
   ]
  },
  {
   "cell_type": "code",
   "execution_count": 65,
   "id": "e5b85e88",
   "metadata": {},
   "outputs": [
    {
     "data": {
      "text/plain": [
       "['Abhilash',\n",
       " 'Brijesh',\n",
       " 'Chandrika',\n",
       " 'Dinesh',\n",
       " 'Elangovan',\n",
       " 'Freddy',\n",
       " 'Girish',\n",
       " 'Hamsika',\n",
       " 'Girija']"
      ]
     },
     "execution_count": 65,
     "metadata": {},
     "output_type": "execute_result"
    }
   ],
   "source": [
    "friendNames"
   ]
  },
  {
   "cell_type": "code",
   "execution_count": 66,
   "id": "19747c37",
   "metadata": {},
   "outputs": [
    {
     "data": {
      "text/plain": [
       "9"
      ]
     },
     "execution_count": 66,
     "metadata": {},
     "output_type": "execute_result"
    }
   ],
   "source": [
    "len(friendNames)"
   ]
  },
  {
   "cell_type": "code",
   "execution_count": 67,
   "id": "4d5c6a2a",
   "metadata": {},
   "outputs": [],
   "source": [
    "# remove an element - remove\n",
    "friendNames.remove('Hamsika')"
   ]
  },
  {
   "cell_type": "code",
   "execution_count": 68,
   "id": "40cd3706",
   "metadata": {},
   "outputs": [
    {
     "data": {
      "text/plain": [
       "['Abhilash',\n",
       " 'Brijesh',\n",
       " 'Chandrika',\n",
       " 'Dinesh',\n",
       " 'Elangovan',\n",
       " 'Freddy',\n",
       " 'Girish',\n",
       " 'Girija']"
      ]
     },
     "execution_count": 68,
     "metadata": {},
     "output_type": "execute_result"
    }
   ],
   "source": [
    "friendNames"
   ]
  },
  {
   "cell_type": "code",
   "execution_count": 69,
   "id": "54a8d74b",
   "metadata": {},
   "outputs": [],
   "source": [
    "friendNames.insert(1,'Akilesh')"
   ]
  },
  {
   "cell_type": "code",
   "execution_count": 70,
   "id": "f789e663",
   "metadata": {},
   "outputs": [
    {
     "data": {
      "text/plain": [
       "['Abhilash',\n",
       " 'Akilesh',\n",
       " 'Brijesh',\n",
       " 'Chandrika',\n",
       " 'Dinesh',\n",
       " 'Elangovan',\n",
       " 'Freddy',\n",
       " 'Girish',\n",
       " 'Girija']"
      ]
     },
     "execution_count": 70,
     "metadata": {},
     "output_type": "execute_result"
    }
   ],
   "source": [
    "friendNames"
   ]
  },
  {
   "cell_type": "code",
   "execution_count": 71,
   "id": "85ea3472",
   "metadata": {},
   "outputs": [
    {
     "data": {
      "text/plain": [
       "'Abhilash'"
      ]
     },
     "execution_count": 71,
     "metadata": {},
     "output_type": "execute_result"
    }
   ],
   "source": [
    "friendNames[0]"
   ]
  },
  {
   "cell_type": "code",
   "execution_count": 72,
   "id": "9a8dbfaf",
   "metadata": {},
   "outputs": [
    {
     "data": {
      "text/plain": [
       "'Akilesh'"
      ]
     },
     "execution_count": 72,
     "metadata": {},
     "output_type": "execute_result"
    }
   ],
   "source": [
    "friendNames[1]"
   ]
  },
  {
   "cell_type": "code",
   "execution_count": 73,
   "id": "858b8c6d",
   "metadata": {},
   "outputs": [
    {
     "data": {
      "text/plain": [
       "'Brijesh'"
      ]
     },
     "execution_count": 73,
     "metadata": {},
     "output_type": "execute_result"
    }
   ],
   "source": [
    "friendNames[2]"
   ]
  },
  {
   "cell_type": "code",
   "execution_count": 75,
   "id": "575c3b16",
   "metadata": {},
   "outputs": [],
   "source": [
    "friendNames.insert(0,'Aadesh')"
   ]
  },
  {
   "cell_type": "code",
   "execution_count": 76,
   "id": "a3832a87",
   "metadata": {},
   "outputs": [
    {
     "data": {
      "text/plain": [
       "['Aadesh',\n",
       " 'Abhilash',\n",
       " 'Aarya',\n",
       " 'Akilesh',\n",
       " 'Brijesh',\n",
       " 'Chandrika',\n",
       " 'Dinesh',\n",
       " 'Elangovan',\n",
       " 'Freddy',\n",
       " 'Girish',\n",
       " 'Girija']"
      ]
     },
     "execution_count": 76,
     "metadata": {},
     "output_type": "execute_result"
    }
   ],
   "source": [
    "friendNames"
   ]
  },
  {
   "cell_type": "code",
   "execution_count": 77,
   "id": "0b68a0fa",
   "metadata": {},
   "outputs": [
    {
     "data": {
      "text/plain": [
       "'Aadesh'"
      ]
     },
     "execution_count": 77,
     "metadata": {},
     "output_type": "execute_result"
    }
   ],
   "source": [
    "friendNames[0]"
   ]
  },
  {
   "cell_type": "code",
   "execution_count": 78,
   "id": "028e2b79",
   "metadata": {},
   "outputs": [
    {
     "data": {
      "text/plain": [
       "'Abhilash'"
      ]
     },
     "execution_count": 78,
     "metadata": {},
     "output_type": "execute_result"
    }
   ],
   "source": [
    "friendNames[1]"
   ]
  },
  {
   "cell_type": "code",
   "execution_count": 79,
   "id": "f69df1b7",
   "metadata": {},
   "outputs": [
    {
     "data": {
      "text/plain": [
       "['Aadesh',\n",
       " 'Abhilash',\n",
       " 'Aarya',\n",
       " 'Akilesh',\n",
       " 'Brijesh',\n",
       " 'Chandrika',\n",
       " 'Dinesh',\n",
       " 'Elangovan',\n",
       " 'Freddy',\n",
       " 'Girish',\n",
       " 'Girija']"
      ]
     },
     "execution_count": 79,
     "metadata": {},
     "output_type": "execute_result"
    }
   ],
   "source": [
    "friendNames[:]"
   ]
  },
  {
   "cell_type": "code",
   "execution_count": 82,
   "id": "affe1e58",
   "metadata": {},
   "outputs": [],
   "source": [
    "friendNames.append('\\\"Lavnaya\\\"')"
   ]
  },
  {
   "cell_type": "code",
   "execution_count": 83,
   "id": "34440270",
   "metadata": {},
   "outputs": [
    {
     "data": {
      "text/plain": [
       "['Aadesh',\n",
       " 'Abhilash',\n",
       " 'Aarya',\n",
       " 'Akilesh',\n",
       " 'Brijesh',\n",
       " 'Chandrika',\n",
       " 'Dinesh',\n",
       " 'Elangovan',\n",
       " 'Freddy',\n",
       " 'Girish',\n",
       " 'Girija',\n",
       " 'Lavnaya',\n",
       " '\"Lavnaya\"']"
      ]
     },
     "execution_count": 83,
     "metadata": {},
     "output_type": "execute_result"
    }
   ],
   "source": [
    "friendNames"
   ]
  },
  {
   "cell_type": "code",
   "execution_count": 84,
   "id": "7fc7566e",
   "metadata": {},
   "outputs": [
    {
     "data": {
      "text/plain": [
       "['Aadesh',\n",
       " 'Abhilash',\n",
       " 'Aarya',\n",
       " 'Akilesh',\n",
       " 'Brijesh',\n",
       " 'Chandrika',\n",
       " 'Dinesh',\n",
       " 'Elangovan',\n",
       " 'Freddy',\n",
       " 'Girish',\n",
       " 'Girija',\n",
       " 'Lavnaya',\n",
       " '\"Lavnaya\"']"
      ]
     },
     "execution_count": 84,
     "metadata": {},
     "output_type": "execute_result"
    }
   ],
   "source": [
    "friendNames[:]"
   ]
  },
  {
   "cell_type": "code",
   "execution_count": 85,
   "id": "55bd3697",
   "metadata": {},
   "outputs": [
    {
     "data": {
      "text/plain": [
       "['Aadesh', 'Abhilash', 'Aarya', 'Akilesh']"
      ]
     },
     "execution_count": 85,
     "metadata": {},
     "output_type": "execute_result"
    }
   ],
   "source": [
    "friendNames[0:4]"
   ]
  },
  {
   "cell_type": "code",
   "execution_count": 86,
   "id": "9b78c91d",
   "metadata": {},
   "outputs": [
    {
     "data": {
      "text/plain": [
       "['Aadesh', 'Abhilash', 'Aarya', 'Akilesh', 'Brijesh']"
      ]
     },
     "execution_count": 86,
     "metadata": {},
     "output_type": "execute_result"
    }
   ],
   "source": [
    "friendNames[0:5]"
   ]
  },
  {
   "cell_type": "code",
   "execution_count": 87,
   "id": "b7a58170",
   "metadata": {},
   "outputs": [
    {
     "data": {
      "text/plain": [
       "'\"Lavnaya\"'"
      ]
     },
     "execution_count": 87,
     "metadata": {},
     "output_type": "execute_result"
    }
   ],
   "source": [
    "friendNames[-1]"
   ]
  },
  {
   "cell_type": "code",
   "execution_count": 88,
   "id": "a5dfda07",
   "metadata": {},
   "outputs": [
    {
     "data": {
      "text/plain": [
       "'Lavnaya'"
      ]
     },
     "execution_count": 88,
     "metadata": {},
     "output_type": "execute_result"
    }
   ],
   "source": [
    "friendNames[-2]"
   ]
  },
  {
   "cell_type": "code",
   "execution_count": 89,
   "id": "bfa32070",
   "metadata": {},
   "outputs": [
    {
     "data": {
      "text/plain": [
       "['Akilesh', 'Brijesh', 'Chandrika', 'Dinesh']"
      ]
     },
     "execution_count": 89,
     "metadata": {},
     "output_type": "execute_result"
    }
   ],
   "source": [
    "friendNames[3:7]"
   ]
  },
  {
   "cell_type": "raw",
   "id": "e2b60752",
   "metadata": {},
   "source": [
    "# list generic notation - It uses start index, end index and the step size\n",
    "friendName[startInd:endInd:stepsize]"
   ]
  },
  {
   "cell_type": "code",
   "execution_count": 91,
   "id": "98fa2719",
   "metadata": {},
   "outputs": [
    {
     "data": {
      "text/plain": [
       "'\"Lavnaya\"'"
      ]
     },
     "execution_count": 91,
     "metadata": {},
     "output_type": "execute_result"
    }
   ],
   "source": [
    "friendNames[-1]"
   ]
  },
  {
   "cell_type": "code",
   "execution_count": 90,
   "id": "05c2e0b6",
   "metadata": {},
   "outputs": [
    {
     "data": {
      "text/plain": [
       "['\"Lavnaya\"',\n",
       " 'Lavnaya',\n",
       " 'Girija',\n",
       " 'Girish',\n",
       " 'Freddy',\n",
       " 'Elangovan',\n",
       " 'Dinesh',\n",
       " 'Chandrika',\n",
       " 'Brijesh',\n",
       " 'Akilesh',\n",
       " 'Aarya',\n",
       " 'Abhilash',\n",
       " 'Aadesh']"
      ]
     },
     "execution_count": 90,
     "metadata": {},
     "output_type": "execute_result"
    }
   ],
   "source": [
    "friendNames[::-1]"
   ]
  },
  {
   "cell_type": "code",
   "execution_count": 92,
   "id": "43cc5a52",
   "metadata": {},
   "outputs": [
    {
     "data": {
      "text/plain": [
       "['Aadesh',\n",
       " 'Abhilash',\n",
       " 'Aarya',\n",
       " 'Akilesh',\n",
       " 'Brijesh',\n",
       " 'Chandrika',\n",
       " 'Dinesh',\n",
       " 'Elangovan',\n",
       " 'Freddy',\n",
       " 'Girish',\n",
       " 'Girija',\n",
       " 'Lavnaya',\n",
       " '\"Lavnaya\"']"
      ]
     },
     "execution_count": 92,
     "metadata": {},
     "output_type": "execute_result"
    }
   ],
   "source": [
    "friendNames"
   ]
  },
  {
   "cell_type": "code",
   "execution_count": 93,
   "id": "487f5c97",
   "metadata": {},
   "outputs": [],
   "source": [
    "friendNames.reverse()"
   ]
  },
  {
   "cell_type": "code",
   "execution_count": 94,
   "id": "7a37d456",
   "metadata": {},
   "outputs": [
    {
     "data": {
      "text/plain": [
       "['\"Lavnaya\"',\n",
       " 'Lavnaya',\n",
       " 'Girija',\n",
       " 'Girish',\n",
       " 'Freddy',\n",
       " 'Elangovan',\n",
       " 'Dinesh',\n",
       " 'Chandrika',\n",
       " 'Brijesh',\n",
       " 'Akilesh',\n",
       " 'Aarya',\n",
       " 'Abhilash',\n",
       " 'Aadesh']"
      ]
     },
     "execution_count": 94,
     "metadata": {},
     "output_type": "execute_result"
    }
   ],
   "source": [
    "friendNames"
   ]
  },
  {
   "cell_type": "code",
   "execution_count": 95,
   "id": "b17683ab",
   "metadata": {},
   "outputs": [],
   "source": [
    "friendNames.extend(['Akash','Bindu','Chanukya'])"
   ]
  },
  {
   "cell_type": "code",
   "execution_count": 96,
   "id": "5d846da4",
   "metadata": {},
   "outputs": [
    {
     "data": {
      "text/plain": [
       "['\"Lavnaya\"',\n",
       " 'Lavnaya',\n",
       " 'Girija',\n",
       " 'Girish',\n",
       " 'Freddy',\n",
       " 'Elangovan',\n",
       " 'Dinesh',\n",
       " 'Chandrika',\n",
       " 'Brijesh',\n",
       " 'Akilesh',\n",
       " 'Aarya',\n",
       " 'Abhilash',\n",
       " 'Aadesh',\n",
       " 'Akash',\n",
       " 'Bindu',\n",
       " 'Chanukya']"
      ]
     },
     "execution_count": 96,
     "metadata": {},
     "output_type": "execute_result"
    }
   ],
   "source": [
    "friendNames"
   ]
  },
  {
   "cell_type": "code",
   "execution_count": 98,
   "id": "aae02ceb",
   "metadata": {},
   "outputs": [
    {
     "name": "stdout",
     "output_type": "stream",
     "text": [
      "\"Lavnaya\"\n",
      "Lavnaya\n",
      "Girija\n",
      "Girish\n",
      "Freddy\n"
     ]
    }
   ],
   "source": [
    "for friend in friendNames:\n",
    "    print(friend)\n",
    "    if friend == 'Freddy':\n",
    "        break"
   ]
  },
  {
   "cell_type": "code",
   "execution_count": 99,
   "id": "ea0ffb9a",
   "metadata": {},
   "outputs": [],
   "source": [
    "friendNames[0] = 'Sirisha'"
   ]
  },
  {
   "cell_type": "code",
   "execution_count": 100,
   "id": "166216ae",
   "metadata": {},
   "outputs": [
    {
     "data": {
      "text/plain": [
       "['Sirisha',\n",
       " 'Lavnaya',\n",
       " 'Girija',\n",
       " 'Girish',\n",
       " 'Freddy',\n",
       " 'Elangovan',\n",
       " 'Dinesh',\n",
       " 'Chandrika',\n",
       " 'Brijesh',\n",
       " 'Akilesh',\n",
       " 'Aarya',\n",
       " 'Abhilash',\n",
       " 'Aadesh',\n",
       " 'Akash',\n",
       " 'Bindu',\n",
       " 'Chanukya']"
      ]
     },
     "execution_count": 100,
     "metadata": {},
     "output_type": "execute_result"
    }
   ],
   "source": [
    "friendNames"
   ]
  },
  {
   "cell_type": "code",
   "execution_count": 101,
   "id": "d1534431",
   "metadata": {},
   "outputs": [],
   "source": [
    "friendNames[1] = 'Preeti'"
   ]
  },
  {
   "cell_type": "code",
   "execution_count": 102,
   "id": "bbba65bf",
   "metadata": {},
   "outputs": [
    {
     "data": {
      "text/plain": [
       "['Sirisha',\n",
       " 'Preeti',\n",
       " 'Girija',\n",
       " 'Girish',\n",
       " 'Freddy',\n",
       " 'Elangovan',\n",
       " 'Dinesh',\n",
       " 'Chandrika',\n",
       " 'Brijesh',\n",
       " 'Akilesh',\n",
       " 'Aarya',\n",
       " 'Abhilash',\n",
       " 'Aadesh',\n",
       " 'Akash',\n",
       " 'Bindu',\n",
       " 'Chanukya']"
      ]
     },
     "execution_count": 102,
     "metadata": {},
     "output_type": "execute_result"
    }
   ],
   "source": [
    "friendNames"
   ]
  },
  {
   "cell_type": "code",
   "execution_count": null,
   "id": "92f0ac39",
   "metadata": {},
   "outputs": [],
   "source": []
  }
 ],
 "metadata": {
  "kernelspec": {
   "display_name": "Python 3 (ipykernel)",
   "language": "python",
   "name": "python3"
  },
  "language_info": {
   "codemirror_mode": {
    "name": "ipython",
    "version": 3
   },
   "file_extension": ".py",
   "mimetype": "text/x-python",
   "name": "python",
   "nbconvert_exporter": "python",
   "pygments_lexer": "ipython3",
   "version": "3.10.10"
  }
 },
 "nbformat": 4,
 "nbformat_minor": 5
}
