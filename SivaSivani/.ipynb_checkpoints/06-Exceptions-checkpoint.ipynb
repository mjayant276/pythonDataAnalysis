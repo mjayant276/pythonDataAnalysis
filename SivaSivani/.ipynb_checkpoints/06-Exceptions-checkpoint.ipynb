{
 "cells": [
  {
   "cell_type": "markdown",
   "id": "6aa6a520",
   "metadata": {},
   "source": [
    "## Exception Handling"
   ]
  },
  {
   "cell_type": "markdown",
   "id": "d5f1aadc",
   "metadata": {},
   "source": [
    "**Sytax Error : Syntax is wrong - An Error occurs**\n",
    "* We want to write a if condition and then check if the value is greater than a particular value</br>\n",
    "  We see that the colon is missing and this is syntactically wrong, i.e., the syntax for this </br>\n",
    "  is not correct and python doesnot execute the logic and says the way the code is written cannot </br>\n",
    "  be executed. </br>\n",
    "  In the below code, the python parser also displays the location at which the error is occurring\n",
    "  - We notice that the ':' is missing and the next one is that the ':' it is missing on line 2"
   ]
  },
  {
   "cell_type": "code",
   "execution_count": null,
   "id": "88e4e5fd",
   "metadata": {},
   "outputs": [],
   "source": [
    "Stack Trace\n",
    "Syntax  - Syntactic Errors\n",
    "Meaning - Smenatic Errors\n",
    "Exception occur during the execution of the code "
   ]
  },
  {
   "cell_type": "code",
   "execution_count": 1,
   "id": "20b0566c",
   "metadata": {},
   "outputs": [
    {
     "ename": "SyntaxError",
     "evalue": "expected ':' (1166347271.py, line 2)",
     "output_type": "error",
     "traceback": [
      "\u001b[1;36m  Cell \u001b[1;32mIn[1], line 2\u001b[1;36m\u001b[0m\n\u001b[1;33m    if x > 9\u001b[0m\n\u001b[1;37m             ^\u001b[0m\n\u001b[1;31mSyntaxError\u001b[0m\u001b[1;31m:\u001b[0m expected ':'\n"
     ]
    }
   ],
   "source": [
    "x = 13\n",
    "if x > 9 \n",
    "    print('Number is a two digit number') "
   ]
  },
  {
   "cell_type": "markdown",
   "id": "3858b5e2",
   "metadata": {},
   "source": [
    "**What is an Exception ?** \n",
    "* The error that occurs not because of syntax being wrong.\n",
    "* While executing the code, there are chances that the code has correct syntax<br/>\n",
    "  The logic or the programming steps may not be correct. In such a case, an error is caused <br/>\n",
    "  we call these erorrs during execution as an exception.\n",
    "* Many of the exceptions are not handled in the program or code and <br/>\n",
    "  are printed out as errors of the last line of the code.\n",
    "* In Python all exceptions are instances of the a class that is derived <br/>  \n",
    "  from `BaseException`\n",
    "* The built-in exception classes can be subclassed to define new exceptions. <br/>\n",
    "  It is encouraged or recommended to derive new exceptions from the `Exception` <br/>\n",
    "  class or one of its subclasses, and not from `BaseException` <br/> \n",
    "* In programming Python, whenever an exception has occurred then we call<br/>\n",
    "  that an exception has been raised <br/>"
   ]
  },
  {
   "cell_type": "markdown",
   "id": "aeeb04f7",
   "metadata": {},
   "source": [
    "Examples of Exceptions\n"
   ]
  },
  {
   "cell_type": "markdown",
   "id": "cfabaf07",
   "metadata": {},
   "source": [
    "1. ZeroDivisionError"
   ]
  },
  {
   "cell_type": "code",
   "execution_count": 3,
   "id": "5c1f2976",
   "metadata": {},
   "outputs": [
    {
     "name": "stdout",
     "output_type": "stream",
     "text": [
      "Enter a numerator10\n",
      "Enter a denominator0\n"
     ]
    },
    {
     "ename": "ZeroDivisionError",
     "evalue": "division by zero",
     "output_type": "error",
     "traceback": [
      "\u001b[1;31m---------------------------------------------------------------------------\u001b[0m",
      "\u001b[1;31mZeroDivisionError\u001b[0m                         Traceback (most recent call last)",
      "Cell \u001b[1;32mIn[3], line 5\u001b[0m\n\u001b[0;32m      3\u001b[0m x \u001b[38;5;241m=\u001b[39m \u001b[38;5;28mint\u001b[39m(x)\n\u001b[0;32m      4\u001b[0m y \u001b[38;5;241m=\u001b[39m \u001b[38;5;28mint\u001b[39m(y)\n\u001b[1;32m----> 5\u001b[0m \u001b[38;5;28mprint\u001b[39m(\u001b[43mx\u001b[49m\u001b[38;5;241;43m/\u001b[39;49m\u001b[43my\u001b[49m)\n",
      "\u001b[1;31mZeroDivisionError\u001b[0m: division by zero"
     ]
    }
   ],
   "source": [
    "x = input('Enter a numerator')\n",
    "y = input('Enter a denominator')\n",
    "x = int(x)\n",
    "y = int(y)\n",
    "print(x/y)"
   ]
  },
  {
   "cell_type": "code",
   "execution_count": 11,
   "id": "fd65db6b",
   "metadata": {
    "scrolled": false
   },
   "outputs": [
    {
     "ename": "ZeroDivisionError",
     "evalue": "division by zero",
     "output_type": "error",
     "traceback": [
      "\u001b[1;31m---------------------------------------------------------------------------\u001b[0m",
      "\u001b[1;31mZeroDivisionError\u001b[0m                         Traceback (most recent call last)",
      "Cell \u001b[1;32mIn[11], line 1\u001b[0m\n\u001b[1;32m----> 1\u001b[0m (\u001b[38;5;241;43m23\u001b[39;49m\u001b[38;5;241;43m/\u001b[39;49m\u001b[38;5;241;43m0\u001b[39;49m)\n",
      "\u001b[1;31mZeroDivisionError\u001b[0m: division by zero"
     ]
    }
   ],
   "source": [
    "(23/0)"
   ]
  },
  {
   "cell_type": "markdown",
   "id": "09993da3",
   "metadata": {},
   "source": [
    "2. TypeError"
   ]
  },
  {
   "cell_type": "code",
   "execution_count": 13,
   "id": "7613da0d",
   "metadata": {},
   "outputs": [
    {
     "ename": "TypeError",
     "evalue": "'tuple' object does not support item assignment",
     "output_type": "error",
     "traceback": [
      "\u001b[1;31m---------------------------------------------------------------------------\u001b[0m",
      "\u001b[1;31mTypeError\u001b[0m                                 Traceback (most recent call last)",
      "Cell \u001b[1;32mIn[13], line 2\u001b[0m\n\u001b[0;32m      1\u001b[0m tup1 \u001b[38;5;241m=\u001b[39m (\u001b[38;5;241m20\u001b[39m,\u001b[38;5;124m'\u001b[39m\u001b[38;5;124mMango\u001b[39m\u001b[38;5;124m'\u001b[39m,\u001b[38;5;124m'\u001b[39m\u001b[38;5;124mChocolate\u001b[39m\u001b[38;5;124m'\u001b[39m,\u001b[38;5;241m25\u001b[39m,\u001b[38;5;241m40\u001b[39m,\u001b[38;5;241m25\u001b[39m)\n\u001b[1;32m----> 2\u001b[0m tup1[\u001b[38;5;241m1\u001b[39m] \u001b[38;5;241m=\u001b[39m \u001b[38;5;124m'\u001b[39m\u001b[38;5;124mButter Scotch\u001b[39m\u001b[38;5;124m'\u001b[39m\n",
      "\u001b[1;31mTypeError\u001b[0m: 'tuple' object does not support item assignment"
     ]
    }
   ],
   "source": [
    "tup1 = (20,'Mango','Chocolate',25,40,25)\n",
    "tup1[1] = 'Butter Scotch'"
   ]
  },
  {
   "cell_type": "markdown",
   "id": "a636c8c6",
   "metadata": {},
   "source": [
    "3. NameError"
   ]
  },
  {
   "cell_type": "code",
   "execution_count": 21,
   "id": "c49459b5",
   "metadata": {},
   "outputs": [
    {
     "ename": "NameError",
     "evalue": "name 't' is not defined",
     "output_type": "error",
     "traceback": [
      "\u001b[1;31m---------------------------------------------------------------------------\u001b[0m",
      "\u001b[1;31mNameError\u001b[0m                                 Traceback (most recent call last)",
      "Cell \u001b[1;32mIn[21], line 2\u001b[0m\n\u001b[0;32m      1\u001b[0m x \u001b[38;5;241m=\u001b[39m \u001b[38;5;241m10\u001b[39m \n\u001b[1;32m----> 2\u001b[0m z \u001b[38;5;241m=\u001b[39m \u001b[43mt\u001b[49m \u001b[38;5;241m+\u001b[39m \u001b[38;5;241m3\u001b[39m\n",
      "\u001b[1;31mNameError\u001b[0m: name 't' is not defined"
     ]
    }
   ],
   "source": [
    "x = 10 \n",
    "z = t + 3"
   ]
  },
  {
   "cell_type": "markdown",
   "id": "8c09750c",
   "metadata": {},
   "source": [
    "**There are different kinds of Exceptions** <br/><br/>"
   ]
  },
  {
   "cell_type": "markdown",
   "id": "5b9604c6",
   "metadata": {},
   "source": [
    "\n",
    "<img src='exceptions01.PNG'/>\n",
    "<img src='exceptions02.PNG'/>\n",
    "<img src='exceptions03.PNG'/>"
   ]
  },
  {
   "cell_type": "markdown",
   "id": "7f142587",
   "metadata": {},
   "source": [
    "**Try,Except**\n",
    "* In order to handle exception without an exception being raised we use the `try` and `except` block\n",
    "* The possibility of exception where it occurs it is written in the `try` block\n",
    "* The exception is caught in the `except` block\n",
    "* The try statement works as follows.\n",
    "\n",
    "  -  the try block of code is executed.\n",
    "\n",
    "   - If there is no exception, the except block of code is skipped and execution of the try statement is completed.\n",
    "\n",
    "   - If an exception occurs during execution of the try clause, the rest of the try clause is not executed. Then, if its type matches the exception named after the except keyword, the except clause is executed, and then execution continues after the try/except block.\n",
    "    - If an exception occurs which does not match the exception named in the except clause, it is passed on to outer try statements; if no handler is found, it is an unhandled exception and execution stops with a message as shown above.\n"
   ]
  },
  {
   "cell_type": "markdown",
   "id": "9a0d13fd",
   "metadata": {},
   "source": [
    "<u>Example 01</u>- try and except"
   ]
  },
  {
   "cell_type": "code",
   "execution_count": 4,
   "id": "5181be12",
   "metadata": {},
   "outputs": [
    {
     "name": "stdout",
     "output_type": "stream",
     "text": [
      "Now in except\n"
     ]
    }
   ],
   "source": [
    "try:\n",
    "    (23 / 0)\n",
    "    tupe1 = (10,20)\n",
    "    tupe1[1] = 30\n",
    "    print('not getting executed')\n",
    "except ZeroDivisionError:\n",
    "    print('Now in except')\n",
    "except TypeError:\n",
    "     print('Tuple eror')\n",
    "    \n",
    "\n"
   ]
  },
  {
   "cell_type": "code",
   "execution_count": 6,
   "id": "2b471b9c",
   "metadata": {},
   "outputs": [
    {
     "name": "stdout",
     "output_type": "stream",
     "text": [
      "Exception occured: <class 'ZeroDivisionError'>, division by zero\n",
      "\n",
      "Outside the try-except block\n"
     ]
    }
   ],
   "source": [
    "try:\n",
    "    (23 / 0)\n",
    "    print('The block of code in try')  # <---- This part of the code is not executed only the above part is executed\n",
    "except ZeroDivisionError as ex:\n",
    "    print(f'Exception occured: {type(ex)}, {ex}')\n",
    "    print()\n",
    "print('Outside the try-except block')"
   ]
  },
  {
   "cell_type": "markdown",
   "id": "e0338418",
   "metadata": {},
   "source": [
    "<u>Example 02</u> - try and except"
   ]
  },
  {
   "cell_type": "code",
   "execution_count": 2,
   "id": "f029b236",
   "metadata": {},
   "outputs": [
    {
     "name": "stdout",
     "output_type": "stream",
     "text": [
      "Please enter a number : hello\n"
     ]
    },
    {
     "ename": "ValueError",
     "evalue": "invalid literal for int() with base 10: 'hello'",
     "output_type": "error",
     "traceback": [
      "\u001b[1;31m---------------------------------------------------------------------------\u001b[0m",
      "\u001b[1;31mValueError\u001b[0m                                Traceback (most recent call last)",
      "Cell \u001b[1;32mIn[2], line 1\u001b[0m\n\u001b[1;32m----> 1\u001b[0m x \u001b[38;5;241m=\u001b[39m \u001b[38;5;28;43mint\u001b[39;49m\u001b[43m(\u001b[49m\u001b[38;5;28;43minput\u001b[39;49m\u001b[43m(\u001b[49m\u001b[38;5;124;43m\"\u001b[39;49m\u001b[38;5;124;43mPlease enter a number : \u001b[39;49m\u001b[38;5;124;43m\"\u001b[39;49m\u001b[43m)\u001b[49m\u001b[43m)\u001b[49m   \n\u001b[0;32m      2\u001b[0m \u001b[38;5;28mprint\u001b[39m(\u001b[38;5;124m'\u001b[39m\u001b[38;5;124mThe value of x is \u001b[39m\u001b[38;5;124m'\u001b[39m, x)\n",
      "\u001b[1;31mValueError\u001b[0m: invalid literal for int() with base 10: 'hello'"
     ]
    }
   ],
   "source": [
    "x = int(input(\"Please enter a number : \"))   \n",
    "print('The value of x is ', x)"
   ]
  },
  {
   "cell_type": "code",
   "execution_count": 4,
   "id": "63876422",
   "metadata": {},
   "outputs": [
    {
     "name": "stdout",
     "output_type": "stream",
     "text": [
      "Please enter a number : hello\n",
      "The input entered was a invalid number...\n"
     ]
    }
   ],
   "source": [
    "try:\n",
    "    x = int(input(\"Please enter a number : \"))   \n",
    "    print('The value of x is ', x)\n",
    "except ValueError:\n",
    "    print(\"The input entered was a invalid number...\")"
   ]
  },
  {
   "cell_type": "markdown",
   "id": "b53f211d",
   "metadata": {},
   "source": [
    "<u>Example 03</u> - try and except"
   ]
  },
  {
   "cell_type": "markdown",
   "id": "14251bdc",
   "metadata": {},
   "source": [
    "Create a list using the range object and then iterate over the values using while loop"
   ]
  },
  {
   "cell_type": "code",
   "execution_count": 12,
   "id": "6ff6890e",
   "metadata": {},
   "outputs": [
    {
     "name": "stdout",
     "output_type": "stream",
     "text": [
      "6 5 4 3 2 1 0 \n",
      "Completed Iteration\n"
     ]
    }
   ],
   "source": [
    "numbers = list(range(7))\n",
    "lenNum = len(numbers)\n",
    "while len(numbers) > 0:\n",
    "    print(numbers.pop(), end=' ')\n",
    "print()    \n",
    "print('Completed Iteration')    "
   ]
  },
  {
   "cell_type": "markdown",
   "id": "37794cc7",
   "metadata": {},
   "source": [
    "- Create a while loop and then iterate using condition as True\n",
    "  - In this case, an error is thrown after the iteration is completed"
   ]
  },
  {
   "cell_type": "code",
   "execution_count": 18,
   "id": "290976ae",
   "metadata": {},
   "outputs": [
    {
     "name": "stdout",
     "output_type": "stream",
     "text": [
      "6 5 4 3 2 1 0 "
     ]
    },
    {
     "ename": "IndexError",
     "evalue": "pop from empty list",
     "output_type": "error",
     "traceback": [
      "\u001b[1;31m---------------------------------------------------------------------------\u001b[0m",
      "\u001b[1;31mIndexError\u001b[0m                                Traceback (most recent call last)",
      "Cell \u001b[1;32mIn[18], line 4\u001b[0m\n\u001b[0;32m      2\u001b[0m lenNum \u001b[38;5;241m=\u001b[39m \u001b[38;5;28mlen\u001b[39m(numbers)\n\u001b[0;32m      3\u001b[0m \u001b[38;5;28;01mwhile\u001b[39;00m \u001b[38;5;28;01mTrue\u001b[39;00m:\n\u001b[1;32m----> 4\u001b[0m     \u001b[38;5;28mprint\u001b[39m(\u001b[43mnumbers\u001b[49m\u001b[38;5;241;43m.\u001b[39;49m\u001b[43mpop\u001b[49m\u001b[43m(\u001b[49m\u001b[43m)\u001b[49m, end\u001b[38;5;241m=\u001b[39m\u001b[38;5;124m'\u001b[39m\u001b[38;5;124m \u001b[39m\u001b[38;5;124m'\u001b[39m)\n\u001b[0;32m      5\u001b[0m \u001b[38;5;28mprint\u001b[39m()    \n\u001b[0;32m      6\u001b[0m \u001b[38;5;28mprint\u001b[39m(\u001b[38;5;124m'\u001b[39m\u001b[38;5;124mWhile True - Completed Iteration\u001b[39m\u001b[38;5;124m'\u001b[39m)\n",
      "\u001b[1;31mIndexError\u001b[0m: pop from empty list"
     ]
    }
   ],
   "source": [
    "numbers = list(range(7))\n",
    "lenNum = len(numbers)\n",
    "while True:\n",
    "    print(numbers.pop(), end=' ')\n",
    "print()    \n",
    "print('While True - Completed Iteration')    "
   ]
  },
  {
   "cell_type": "markdown",
   "id": "3bb68ead",
   "metadata": {},
   "source": [
    "* In the above execution an `IndexError` is raised. The `indexError` can be handled using <br/>\n",
    "  the try and except code block <br/>\n",
    "  Since the exception is occuring in when the `pop()` method is called, it is enclosed in `try` block <br/>\n",
    "  In the `except` block, print function shall be enclosed <br/>"
   ]
  },
  {
   "cell_type": "code",
   "execution_count": 12,
   "id": "b340945d",
   "metadata": {},
   "outputs": [
    {
     "name": "stdout",
     "output_type": "stream",
     "text": [
      "6 5 4 3 2 1 0 \n",
      "While True - Completed Iteration 7\n"
     ]
    }
   ],
   "source": [
    "numbers = list(range(7))\n",
    "lenNum = len(numbers)\n",
    "try:\n",
    "    while True:\n",
    "        print(numbers.pop(), end=' ')\n",
    "except IndexError as ie:    \n",
    "    print()    \n",
    "    print(f'While True - Completed Iteration {lenNum}')    "
   ]
  },
  {
   "cell_type": "markdown",
   "id": "0155c036",
   "metadata": {},
   "source": [
    "- Instead of writing the specific exception, the base class exception <br/>\n",
    "  can be written in the except block <br/>"
   ]
  },
  {
   "cell_type": "code",
   "execution_count": 22,
   "id": "8e53f182",
   "metadata": {},
   "outputs": [
    {
     "name": "stdout",
     "output_type": "stream",
     "text": [
      "6 5 4 3 2 1 0 \n",
      "While True - Completed Iteration\n"
     ]
    }
   ],
   "source": [
    "numbers = list(range(7))\n",
    "lenNum = len(numbers)\n",
    "try:\n",
    "    while True:\n",
    "        print(numbers.pop(), end=' ')\n",
    "except Exception:    \n",
    "    print()    \n",
    "    print('While True - Completed Iteration')"
   ]
  },
  {
   "cell_type": "markdown",
   "id": "94d87c16",
   "metadata": {},
   "source": [
    "* **try, except & finally**"
   ]
  },
  {
   "cell_type": "markdown",
   "id": "c27b83a6",
   "metadata": {},
   "source": [
    "Compute the mean of the numbers "
   ]
  },
  {
   "cell_type": "code",
   "execution_count": 5,
   "id": "876c0640",
   "metadata": {},
   "outputs": [
    {
     "name": "stdout",
     "output_type": "stream",
     "text": [
      " Sum is 45 for the list [1, 2, 3, 4, 5, 6, 7, 8, 9] \n",
      " \n",
      "  and Mean of the list [1, 2, 3, 4, 5, 6, 7, 8, 9] is 5.0 \n"
     ]
    }
   ],
   "source": [
    "numList = list(range(1,10))\n",
    "sumList = sum(numList)\n",
    "lenList= len(numList)\n",
    "meanList = sumList/lenList\n",
    "print(f''' Sum is {sumList} for the list {numList} \\n \n",
    "  and Mean of the list {numList} is {meanList} ''')"
   ]
  },
  {
   "cell_type": "markdown",
   "id": "f893456a",
   "metadata": {},
   "source": [
    "Compute the sum of teh numbers for the list with a string value"
   ]
  },
  {
   "cell_type": "code",
   "execution_count": 37,
   "id": "080e2856",
   "metadata": {
    "scrolled": true
   },
   "outputs": [
    {
     "ename": "TypeError",
     "evalue": "unsupported operand type(s) for +: 'int' and 'str'",
     "output_type": "error",
     "traceback": [
      "\u001b[1;31m---------------------------------------------------------------------------\u001b[0m",
      "\u001b[1;31mTypeError\u001b[0m                                 Traceback (most recent call last)",
      "Cell \u001b[1;32mIn[37], line 2\u001b[0m\n\u001b[0;32m      1\u001b[0m numList \u001b[38;5;241m=\u001b[39m [\u001b[38;5;241m1\u001b[39m,\u001b[38;5;241m2\u001b[39m,\u001b[38;5;241m3\u001b[39m,\u001b[38;5;241m4\u001b[39m,\u001b[38;5;241m5\u001b[39m,\u001b[38;5;241m6\u001b[39m,\u001b[38;5;241m7\u001b[39m,\u001b[38;5;241m8\u001b[39m,\u001b[38;5;241m9\u001b[39m,\u001b[38;5;124m'\u001b[39m\u001b[38;5;124m10\u001b[39m\u001b[38;5;124m'\u001b[39m]\n\u001b[1;32m----> 2\u001b[0m \u001b[38;5;28;43msum\u001b[39;49m\u001b[43m(\u001b[49m\u001b[43mnumList\u001b[49m\u001b[43m)\u001b[49m\n",
      "\u001b[1;31mTypeError\u001b[0m: unsupported operand type(s) for +: 'int' and 'str'"
     ]
    }
   ],
   "source": [
    "numList = [1,2,3,4,5,6,7,8,9,'10']\n",
    "sum(numList)"
   ]
  },
  {
   "cell_type": "markdown",
   "id": "c34d0be4",
   "metadata": {},
   "source": [
    "Modifying the code above using try and except , the following can be done"
   ]
  },
  {
   "cell_type": "code",
   "execution_count": 41,
   "id": "1ce2d408",
   "metadata": {},
   "outputs": [
    {
     "name": "stdout",
     "output_type": "stream",
     "text": [
      "The list of numbers contain some \n",
      "    other type of value...\n"
     ]
    }
   ],
   "source": [
    "numList = [1,2,3,4,5,6,7,8,9,'10']\n",
    "try : \n",
    "    sum(numList)\n",
    "    print('This is executed... reached here') # <- This line of code is not executed\n",
    "except TypeError:\n",
    "    print(f'''The list of numbers contain some \n",
    "    other type of value...''')"
   ]
  },
  {
   "cell_type": "markdown",
   "id": "fe770ba0",
   "metadata": {},
   "source": [
    "* Adding the string value of 10 to the list - This throws an error\n",
    "  - The error can be captures using an alias name as mentioned below"
   ]
  },
  {
   "cell_type": "code",
   "execution_count": 59,
   "id": "4e9b9951",
   "metadata": {},
   "outputs": [
    {
     "name": "stdout",
     "output_type": "stream",
     "text": [
      "The list of numbers contain non-integers\n",
      "The error message is unsupported operand type(s) for +: 'int' and 'str'\n"
     ]
    }
   ],
   "source": [
    "numList = [1,2,3,4,5,6,7,8,9,'10']\n",
    "try : \n",
    "    sum(numList)\n",
    "    print('This is executed... reached here') # <- This line of code is not executed\n",
    "except TypeError as ex:\n",
    "    print('The list of numbers contain non-integers')\n",
    "    print(f'The error message is {ex}')      "
   ]
  },
  {
   "cell_type": "markdown",
   "id": "b31de8df",
   "metadata": {},
   "source": [
    "* Modified code can be written as below"
   ]
  },
  {
   "cell_type": "code",
   "execution_count": 2,
   "id": "12fd7e81",
   "metadata": {},
   "outputs": [
    {
     "ename": "ValueError",
     "evalue": "invalid literal for int() with base 10: 'python'",
     "output_type": "error",
     "traceback": [
      "\u001b[1;31m---------------------------------------------------------------------------\u001b[0m",
      "\u001b[1;31mValueError\u001b[0m                                Traceback (most recent call last)",
      "Cell \u001b[1;32mIn[2], line 5\u001b[0m\n\u001b[0;32m      3\u001b[0m \u001b[38;5;28;01mfor\u001b[39;00m i,j \u001b[38;5;129;01min\u001b[39;00m \u001b[38;5;28menumerate\u001b[39m(numList): \u001b[38;5;66;03m# i is the index and j is the element\u001b[39;00m\n\u001b[0;32m      4\u001b[0m     \u001b[38;5;28;01mif\u001b[39;00m \u001b[38;5;28mtype\u001b[39m(j) \u001b[38;5;129;01mis\u001b[39;00m \u001b[38;5;28mstr\u001b[39m:\n\u001b[1;32m----> 5\u001b[0m         numList[i] \u001b[38;5;241m=\u001b[39m \u001b[38;5;28;43mint\u001b[39;49m\u001b[43m(\u001b[49m\u001b[43mj\u001b[49m\u001b[43m)\u001b[49m\n\u001b[0;32m      6\u001b[0m \u001b[38;5;28msum\u001b[39m(numList)\n\u001b[0;32m      7\u001b[0m \u001b[38;5;28mprint\u001b[39m(\u001b[38;5;124m'\u001b[39m\u001b[38;5;124mThis is executed... reached here\u001b[39m\u001b[38;5;124m'\u001b[39m) \u001b[38;5;66;03m# <- This line of code is not executed\u001b[39;00m\n",
      "\u001b[1;31mValueError\u001b[0m: invalid literal for int() with base 10: 'python'"
     ]
    }
   ],
   "source": [
    "numList = [1,2,3,4,5,6,7,8,9,'10']\n",
    "try : \n",
    "    for i,j in enumerate(numList): # i is the index and j is the element\n",
    "        if type(j) is str:\n",
    "            numList[i] = int(j)\n",
    "    sum(numList)\n",
    "    print('This is executed... reached here') # <- This line of code is not \n",
    "                                                #executed\n",
    "except TypeError as ex:\n",
    "    print('The list of numbers contain non-integers')\n",
    "    print(f'The error message is {ex}') "
   ]
  },
  {
   "cell_type": "markdown",
   "id": "f04c11c7",
   "metadata": {},
   "source": [
    "* Modify the code add finally block and compute mean\n",
    "  - If only exception is used for all types of exceptions then <br/>\n",
    "    it would be difficult to know which type of exception was raised.\n",
    "* finally is the block of code that is executed after try or except <br/>\n",
    "  It gets executed irrespective of there is an exception or not"
   ]
  },
  {
   "cell_type": "code",
   "execution_count": 2,
   "id": "9cb368c8",
   "metadata": {},
   "outputs": [
    {
     "name": "stdout",
     "output_type": "stream",
     "text": [
      "Mean of the numbers is 5.5\n"
     ]
    }
   ],
   "source": [
    "numList = [1,2,3,4,5,6,7,8,9,'10']\n",
    "lenNum = 0 # intialize the size of lenNum\n",
    "meanList = 0\n",
    "try : \n",
    "    for i,j in enumerate(numList):\n",
    "        if type(j) is str:\n",
    "            numList[i] = int(j)\n",
    "    sumList = sum(numList)\n",
    "    lenNum = len(numList)\n",
    "    meanList = sumList/lenNum \n",
    "except Exception as ex:\n",
    "    print('Type error has occurred')\n",
    "    print('Division by zero has occurred')\n",
    "    print(f'Exception has occurred {ex}')\n",
    "finally:\n",
    "    print(f'Mean of the numbers is {meanList}')"
   ]
  },
  {
   "cell_type": "code",
   "execution_count": 66,
   "id": "645ab3ce",
   "metadata": {},
   "outputs": [
    {
     "name": "stdout",
     "output_type": "stream",
     "text": [
      "Division with zero\n",
      "Message is division by zero\n",
      "Mean of the numbers is 0\n"
     ]
    }
   ],
   "source": [
    "numList = [1,2,3,4,5,6,7,8,9,'10']\n",
    "lenNum = 0 # intialize the size of lenNum\n",
    "meanList = 0\n",
    "try : \n",
    "    for i,j in enumerate(numList):\n",
    "        if type(j) is str:\n",
    "            numList[i] = int(j)\n",
    "    sumList = sum(numList)\n",
    "    meanList = sumList/lenNum \n",
    "except TypeError as ex:\n",
    "    print('The list of numbers contain non-integers')\n",
    "    print(f'The error message is {ex}') \n",
    "except ZeroDivisionError as dvex:\n",
    "    print('Division with zero')\n",
    "    print(f'Message is {dvex}')\n",
    "finally:\n",
    "    print(f'Exception or No-Exception - Mean of the numbers is {meanList}')"
   ]
  },
  {
   "cell_type": "code",
   "execution_count": 70,
   "id": "f83d7dc5",
   "metadata": {},
   "outputs": [
    {
     "name": "stdout",
     "output_type": "stream",
     "text": [
      "Mean of the numbers is 5.5\n"
     ]
    }
   ],
   "source": [
    "numList = [1,2,3,4,5,6,7,8,9,'10']\n",
    "lenNum = 0 # intialize the size of lenNum\n",
    "meanList = 0\n",
    "try : \n",
    "    for i,j in enumerate(numList):\n",
    "        if type(j) is str:\n",
    "            numList[i] = int(j)\n",
    "    sumList = sum(numList)\n",
    "    lenNum = len(numList)   # <---- Code was modified here.\n",
    "    meanList = sumList/lenNum \n",
    "except TypeError as ex:\n",
    "    print('The list of numbers contain non-integers')\n",
    "    print(f'The error message is {ex}') \n",
    "except ZeroDivisionError as dvex:\n",
    "    print('Division with zero')\n",
    "    print(f'Message is {dvex}')\n",
    "finally:\n",
    "    print(f'Exception or No-Exception - Mean of the numbers is {meanList}')"
   ]
  },
  {
   "cell_type": "markdown",
   "id": "ad3f9b2b",
   "metadata": {},
   "source": [
    "**raise** in python"
   ]
  },
  {
   "cell_type": "markdown",
   "id": "6178bb4b",
   "metadata": {},
   "source": [
    "- In the example below, the input is converted to int \n",
    " - If the entered value is not integer and some string value and \n",
    "   if the value is danger then we `raise` an exception manually"
   ]
  },
  {
   "cell_type": "code",
   "execution_count": 3,
   "id": "333879b9",
   "metadata": {},
   "outputs": [
    {
     "name": "stdout",
     "output_type": "stream",
     "text": [
      "Entering the try ...\n",
      "An error has occurred ....\n"
     ]
    }
   ],
   "source": [
    "try:\n",
    "    print('Entering the try ...')\n",
    "    raise\n",
    "    print('Reached here')\n",
    "except:\n",
    "    print('An error has occurred ....')"
   ]
  },
  {
   "cell_type": "markdown",
   "id": "84198e2e",
   "metadata": {},
   "source": [
    "**raise** an ValueError in python"
   ]
  },
  {
   "cell_type": "code",
   "execution_count": 2,
   "id": "4884d0ea",
   "metadata": {},
   "outputs": [
    {
     "name": "stdout",
     "output_type": "stream",
     "text": [
      "Enter the integer value : danger\n",
      "An error occurred ....  invalid literal for int() with base 10: 'danger'\n",
      "Closed the connection\n"
     ]
    },
    {
     "ename": "NameError",
     "evalue": "name 'raiX' is not defined",
     "output_type": "error",
     "traceback": [
      "\u001b[1;31m---------------------------------------------------------------------------\u001b[0m",
      "\u001b[1;31mValueError\u001b[0m                                Traceback (most recent call last)",
      "Cell \u001b[1;32mIn[2], line 2\u001b[0m\n\u001b[0;32m      1\u001b[0m \u001b[38;5;28;01mtry\u001b[39;00m:\n\u001b[1;32m----> 2\u001b[0m     raiX \u001b[38;5;241m=\u001b[39m \u001b[38;5;28;43mint\u001b[39;49m\u001b[43m(\u001b[49m\u001b[38;5;28;43minput\u001b[39;49m\u001b[43m(\u001b[49m\u001b[38;5;124;43m'\u001b[39;49m\u001b[38;5;124;43mEnter the integer value : \u001b[39;49m\u001b[38;5;124;43m'\u001b[39;49m\u001b[43m)\u001b[49m\u001b[43m)\u001b[49m\n\u001b[0;32m      3\u001b[0m \u001b[38;5;28;01mexcept\u001b[39;00m \u001b[38;5;167;01mValueError\u001b[39;00m \u001b[38;5;28;01mas\u001b[39;00m ex:\n",
      "\u001b[1;31mValueError\u001b[0m: invalid literal for int() with base 10: 'danger'",
      "\nDuring handling of the above exception, another exception occurred:\n",
      "\u001b[1;31mNameError\u001b[0m                                 Traceback (most recent call last)",
      "Cell \u001b[1;32mIn[2], line 5\u001b[0m\n\u001b[0;32m      3\u001b[0m \u001b[38;5;28;01mexcept\u001b[39;00m \u001b[38;5;167;01mValueError\u001b[39;00m \u001b[38;5;28;01mas\u001b[39;00m ex:\n\u001b[0;32m      4\u001b[0m     \u001b[38;5;28mprint\u001b[39m(\u001b[38;5;124m'\u001b[39m\u001b[38;5;124mAn error occurred .... \u001b[39m\u001b[38;5;124m'\u001b[39m,ex)\n\u001b[1;32m----> 5\u001b[0m     \u001b[38;5;28;01mif\u001b[39;00m \u001b[43mraiX\u001b[49m \u001b[38;5;241m==\u001b[39m \u001b[38;5;124m'\u001b[39m\u001b[38;5;124mdanger\u001b[39m\u001b[38;5;124m'\u001b[39m:\n\u001b[0;32m      6\u001b[0m         \u001b[38;5;28;01mraise\u001b[39;00m \u001b[38;5;167;01mValueError\u001b[39;00m(\u001b[38;5;124m'\u001b[39m\u001b[38;5;124mThere was keyword .. raising an error\u001b[39m\u001b[38;5;124m'\u001b[39m)\n\u001b[0;32m      7\u001b[0m \u001b[38;5;28;01mfinally\u001b[39;00m:\n",
      "\u001b[1;31mNameError\u001b[0m: name 'raiX' is not defined"
     ]
    }
   ],
   "source": [
    "try:\n",
    "    raiX = int(input('Enter the integer value : '))\n",
    "except ValueError as ex:\n",
    "    print('An error occurred .... ',ex)\n",
    "    if raiX == 'danger':\n",
    "        raise ValueError('There was keyword .. raising an error')\n",
    "finally:\n",
    "    print('Closed the connection')"
   ]
  },
  {
   "cell_type": "code",
   "execution_count": 14,
   "id": "fd3dee22",
   "metadata": {},
   "outputs": [
    {
     "name": "stdout",
     "output_type": "stream",
     "text": [
      "Enter the integer value : danger\n",
      "An error occurred ....  10\n",
      "Closed the connection\n"
     ]
    }
   ],
   "source": [
    "try:\n",
    "    x = int(input('Enter the integer value : '))\n",
    "except ValueError:\n",
    "    print('An error occurred .... ',x)\n",
    "    if x == 'danger':\n",
    "        raise ValueError('There was keyword .. raising an error')\n",
    "finally:\n",
    "    print('Closed the connection')"
   ]
  },
  {
   "cell_type": "code",
   "execution_count": 4,
   "id": "d5c7a0af",
   "metadata": {},
   "outputs": [
    {
     "name": "stdout",
     "output_type": "stream",
     "text": [
      "Marks : 58\n",
      "Age: 50\n",
      "Course Completed : Python\n"
     ]
    },
    {
     "ename": "ValueError",
     "evalue": "Marks are less than 60",
     "output_type": "error",
     "traceback": [
      "\u001b[1;31m---------------------------------------------------------------------------\u001b[0m",
      "\u001b[1;31mValueError\u001b[0m                                Traceback (most recent call last)",
      "Cell \u001b[1;32mIn[4], line 14\u001b[0m\n\u001b[0;32m     12\u001b[0m age \u001b[38;5;241m=\u001b[39m \u001b[38;5;28mint\u001b[39m(\u001b[38;5;28minput\u001b[39m(\u001b[38;5;124m\"\u001b[39m\u001b[38;5;124mAge: \u001b[39m\u001b[38;5;124m\"\u001b[39m))\n\u001b[0;32m     13\u001b[0m courseCompleted \u001b[38;5;241m=\u001b[39m \u001b[38;5;28minput\u001b[39m(\u001b[38;5;124m'\u001b[39m\u001b[38;5;124mCourse Completed : \u001b[39m\u001b[38;5;124m'\u001b[39m)\n\u001b[1;32m---> 14\u001b[0m \u001b[38;5;28mprint\u001b[39m(\u001b[43mcompute_grade\u001b[49m\u001b[43m(\u001b[49m\u001b[43mmarks\u001b[49m\u001b[43m,\u001b[49m\u001b[43mage\u001b[49m\u001b[43m,\u001b[49m\u001b[43mcourseCompleted\u001b[49m\u001b[43m)\u001b[49m)\n",
      "Cell \u001b[1;32mIn[4], line 3\u001b[0m, in \u001b[0;36mcompute_grade\u001b[1;34m(marks, age, courseCompleted)\u001b[0m\n\u001b[0;32m      1\u001b[0m \u001b[38;5;28;01mdef\u001b[39;00m \u001b[38;5;21mcompute_grade\u001b[39m(marks, age, courseCompleted):\n\u001b[0;32m      2\u001b[0m     \u001b[38;5;28;01mif\u001b[39;00m (marks \u001b[38;5;241m<\u001b[39m \u001b[38;5;241m60\u001b[39m):\n\u001b[1;32m----> 3\u001b[0m         \u001b[38;5;28;01mraise\u001b[39;00m \u001b[38;5;167;01mValueError\u001b[39;00m(\u001b[38;5;124m'\u001b[39m\u001b[38;5;124mMarks are less than 60\u001b[39m\u001b[38;5;124m'\u001b[39m)\n\u001b[0;32m      4\u001b[0m     \u001b[38;5;28;01melif\u001b[39;00m (age \u001b[38;5;241m<\u001b[39m \u001b[38;5;241m18\u001b[39m) \u001b[38;5;129;01mor\u001b[39;00m (age \u001b[38;5;241m>\u001b[39m \u001b[38;5;241m60\u001b[39m):\n\u001b[0;32m      5\u001b[0m         \u001b[38;5;28;01mraise\u001b[39;00m \u001b[38;5;167;01mValueError\u001b[39;00m(\u001b[38;5;124m'\u001b[39m\u001b[38;5;124mAge is not in between 18 and 60\u001b[39m\u001b[38;5;124m'\u001b[39m)\n",
      "\u001b[1;31mValueError\u001b[0m: Marks are less than 60"
     ]
    }
   ],
   "source": [
    "def compute_grade(marks, age, courseCompleted):\n",
    "    if (marks < 60):\n",
    "        raise ValueError('Marks are less than 60')\n",
    "    elif (age < 18) or (age > 60):\n",
    "        raise ValueError('Age is not in between 18 and 60')\n",
    "    elif courseCompleted not in ['Python','BCom']:\n",
    "        raise ValueError('Mandatory Course Not Completed')\n",
    "    else:\n",
    "        return 'Completed Course with passing marks'\n",
    "    \n",
    "marks = float(input(\"Marks : \"))\n",
    "age = int(input(\"Age: \"))\n",
    "courseCompleted = input('Course Completed : ')\n",
    "print(compute_grade(marks,age,courseCompleted))"
   ]
  },
  {
   "cell_type": "code",
   "execution_count": null,
   "id": "6fd763d5",
   "metadata": {},
   "outputs": [],
   "source": []
  }
 ],
 "metadata": {
  "kernelspec": {
   "display_name": "Python 3 (ipykernel)",
   "language": "python",
   "name": "python3"
  },
  "language_info": {
   "codemirror_mode": {
    "name": "ipython",
    "version": 3
   },
   "file_extension": ".py",
   "mimetype": "text/x-python",
   "name": "python",
   "nbconvert_exporter": "python",
   "pygments_lexer": "ipython3",
   "version": "3.10.10"
  }
 },
 "nbformat": 4,
 "nbformat_minor": 5
}
