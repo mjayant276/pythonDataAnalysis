{
 "cells": [
  {
   "cell_type": "markdown",
   "id": "2fedbf8e",
   "metadata": {},
   "source": [
    "#### Iterator Objects in Python"
   ]
  },
  {
   "cell_type": "markdown",
   "id": "ce1feaee",
   "metadata": {},
   "source": [
    "Iterables are objects in python that implement the `__iter__` method\n",
    "that takes no arguments and always returns the next element.</br> \n",
    "Iterator objects have two methods : </br>\n",
    "    `__iter__` </br>\n",
    "    `__next__`\n",
    "  * . An object is called iterable if you can get an iterator for it.  "
   ]
  },
  {
   "cell_type": "code",
   "execution_count": 1,
   "id": "67ab0fd0",
   "metadata": {},
   "outputs": [],
   "source": [
    "l = [1, 2, 3]"
   ]
  },
  {
   "cell_type": "code",
   "execution_count": 5,
   "id": "0dfcbe0d",
   "metadata": {},
   "outputs": [],
   "source": [
    "itl = iter(l)"
   ]
  },
  {
   "cell_type": "code",
   "execution_count": 6,
   "id": "6df7d9c9",
   "metadata": {},
   "outputs": [
    {
     "data": {
      "text/plain": [
       "list_iterator"
      ]
     },
     "execution_count": 6,
     "metadata": {},
     "output_type": "execute_result"
    }
   ],
   "source": [
    "type(itl)"
   ]
  },
  {
   "cell_type": "markdown",
   "id": "c2a7edcc",
   "metadata": {},
   "source": [
    "Once the iterator is available , `__next__` function can be used to iterate over"
   ]
  },
  {
   "cell_type": "code",
   "execution_count": 7,
   "id": "23a60021",
   "metadata": {},
   "outputs": [
    {
     "data": {
      "text/plain": [
       "1"
      ]
     },
     "execution_count": 7,
     "metadata": {},
     "output_type": "execute_result"
    }
   ],
   "source": [
    "itl.__next__()"
   ]
  },
  {
   "cell_type": "code",
   "execution_count": 8,
   "id": "fa9fced5",
   "metadata": {},
   "outputs": [
    {
     "data": {
      "text/plain": [
       "2"
      ]
     },
     "execution_count": 8,
     "metadata": {},
     "output_type": "execute_result"
    }
   ],
   "source": [
    "next(itl)"
   ]
  },
  {
   "cell_type": "code",
   "execution_count": 9,
   "id": "8aa21376",
   "metadata": {},
   "outputs": [
    {
     "data": {
      "text/plain": [
       "3"
      ]
     },
     "execution_count": 9,
     "metadata": {},
     "output_type": "execute_result"
    }
   ],
   "source": [
    "next(itl)"
   ]
  },
  {
   "cell_type": "markdown",
   "id": "5cf6a065",
   "metadata": {},
   "source": [
    "If there are no more elements in the iterable, `next()` raises the `StopIteration` exception"
   ]
  },
  {
   "cell_type": "code",
   "execution_count": 10,
   "id": "b2660c8d",
   "metadata": {},
   "outputs": [
    {
     "ename": "StopIteration",
     "evalue": "",
     "output_type": "error",
     "traceback": [
      "\u001b[1;31m---------------------------------------------------------------------------\u001b[0m",
      "\u001b[1;31mStopIteration\u001b[0m                             Traceback (most recent call last)",
      "Cell \u001b[1;32mIn[10], line 1\u001b[0m\n\u001b[1;32m----> 1\u001b[0m \u001b[38;5;28;43mnext\u001b[39;49m\u001b[43m(\u001b[49m\u001b[43mitl\u001b[49m\u001b[43m)\u001b[49m\n",
      "\u001b[1;31mStopIteration\u001b[0m: "
     ]
    }
   ],
   "source": [
    "next(itl)"
   ]
  },
  {
   "cell_type": "markdown",
   "id": "da89fe70",
   "metadata": {},
   "source": [
    "* If the iteration needs to be performed again, then iterator has to be used again"
   ]
  },
  {
   "cell_type": "code",
   "execution_count": 14,
   "id": "e782d499",
   "metadata": {},
   "outputs": [],
   "source": [
    "nlist = [2,3,4,5,6]"
   ]
  },
  {
   "cell_type": "code",
   "execution_count": 17,
   "id": "2b9434ae",
   "metadata": {},
   "outputs": [],
   "source": [
    "itNew = iter(nlist)"
   ]
  },
  {
   "cell_type": "markdown",
   "id": "94608fc9",
   "metadata": {},
   "source": [
    "the `__next__()` function can be used on the iterable using `'.'` (dot) operator or `next()` function can be used directly"
   ]
  },
  {
   "cell_type": "code",
   "execution_count": 18,
   "id": "5913de99",
   "metadata": {},
   "outputs": [
    {
     "data": {
      "text/plain": [
       "2"
      ]
     },
     "execution_count": 18,
     "metadata": {},
     "output_type": "execute_result"
    }
   ],
   "source": [
    "itNew.__next__()"
   ]
  },
  {
   "cell_type": "code",
   "execution_count": 19,
   "id": "47ed7d50",
   "metadata": {},
   "outputs": [
    {
     "data": {
      "text/plain": [
       "3"
      ]
     },
     "execution_count": 19,
     "metadata": {},
     "output_type": "execute_result"
    }
   ],
   "source": [
    "next(itNew)"
   ]
  },
  {
   "cell_type": "code",
   "execution_count": 20,
   "id": "dacc37c3",
   "metadata": {},
   "outputs": [
    {
     "data": {
      "text/plain": [
       "4"
      ]
     },
     "execution_count": 20,
     "metadata": {},
     "output_type": "execute_result"
    }
   ],
   "source": [
    "next(itNew)"
   ]
  },
  {
   "cell_type": "code",
   "execution_count": 21,
   "id": "c145d506",
   "metadata": {},
   "outputs": [
    {
     "data": {
      "text/plain": [
       "5"
      ]
     },
     "execution_count": 21,
     "metadata": {},
     "output_type": "execute_result"
    }
   ],
   "source": [
    "next(itNew)"
   ]
  },
  {
   "cell_type": "code",
   "execution_count": 27,
   "id": "e56ed340",
   "metadata": {},
   "outputs": [
    {
     "name": "stdout",
     "output_type": "stream",
     "text": [
      "2\n",
      "3\n",
      "4\n",
      "5\n",
      "6\n",
      "-----\n",
      "2\n",
      "3\n",
      "4\n",
      "5\n",
      "6\n"
     ]
    }
   ],
   "source": [
    "for ele in iter(nlist):\n",
    "    print(ele)\n",
    "\n",
    "print('-----')\n",
    "\n",
    "for ele in nlist:\n",
    "    print(ele)"
   ]
  },
  {
   "cell_type": "markdown",
   "id": "cf89d9f0",
   "metadata": {},
   "source": [
    "##### Using the while loop also iteration can be performed on the list as below"
   ]
  },
  {
   "cell_type": "code",
   "execution_count": 29,
   "id": "1127d4d4",
   "metadata": {},
   "outputs": [
    {
     "name": "stdout",
     "output_type": "stream",
     "text": [
      "0\n",
      "1\n",
      "2\n",
      "3\n",
      "4\n"
     ]
    }
   ],
   "source": [
    "nlist = list(range(5))\n",
    "itrObj = iter(nlist)\n",
    "\n",
    "try:\n",
    "    while True:\n",
    "        element = next(itrObj)\n",
    "        print(element)\n",
    "except StopIteration:\n",
    "    pass #print('Iteration Stopped ')"
   ]
  },
  {
   "cell_type": "markdown",
   "id": "780cf719",
   "metadata": {},
   "source": [
    "In Python,we see that many of the functions are not iterables, but just iterators."
   ]
  },
  {
   "cell_type": "markdown",
   "id": "6eda37bb",
   "metadata": {},
   "source": [
    "These iterators are not re-usable - in the sense that they become exhausted, and we cannot re-use them to iterate from the beginning."
   ]
  },
  {
   "cell_type": "markdown",
   "id": "fe60b4b9",
   "metadata": {},
   "source": [
    "**Using range function to iterate using iterator"
   ]
  },
  {
   "cell_type": "code",
   "execution_count": 1,
   "id": "865b521f",
   "metadata": {},
   "outputs": [],
   "source": [
    "r = range(10)"
   ]
  },
  {
   "cell_type": "markdown",
   "id": "b0c3be3e",
   "metadata": {},
   "source": [
    "To see what is in that range object, we can iterate through it using an iterator:"
   ]
  },
  {
   "cell_type": "code",
   "execution_count": 2,
   "id": "6cbb15bd",
   "metadata": {},
   "outputs": [],
   "source": [
    "r_iter = iter(r)"
   ]
  },
  {
   "cell_type": "code",
   "execution_count": 3,
   "id": "0f52ba28",
   "metadata": {},
   "outputs": [
    {
     "data": {
      "text/plain": [
       "0"
      ]
     },
     "execution_count": 3,
     "metadata": {},
     "output_type": "execute_result"
    }
   ],
   "source": [
    "next(r_iter)"
   ]
  },
  {
   "cell_type": "code",
   "execution_count": 4,
   "id": "f418c1ac",
   "metadata": {},
   "outputs": [
    {
     "data": {
      "text/plain": [
       "1"
      ]
     },
     "execution_count": 4,
     "metadata": {},
     "output_type": "execute_result"
    }
   ],
   "source": [
    "next(r_iter)"
   ]
  },
  {
   "cell_type": "markdown",
   "id": "e7a52915",
   "metadata": {},
   "source": [
    "We can even call the `list()` function, passing it the iterator - this function will iterate over each element and create a list from that:"
   ]
  },
  {
   "cell_type": "code",
   "execution_count": 17,
   "id": "454b2a70",
   "metadata": {},
   "outputs": [
    {
     "data": {
      "text/plain": [
       "[2, 3, 4, 5, 6, 7, 8, 9]"
      ]
     },
     "execution_count": 17,
     "metadata": {},
     "output_type": "execute_result"
    }
   ],
   "source": [
    "list(r_iter)"
   ]
  },
  {
   "cell_type": "markdown",
   "id": "7509bec9",
   "metadata": {},
   "source": [
    "But as you can see, it's missing the first two elements (`0` and `1`)."
   ]
  },
  {
   "cell_type": "markdown",
   "id": "a77df790",
   "metadata": {},
   "source": [
    "The advantage of this approach, is that when we write something like this:"
   ]
  },
  {
   "cell_type": "code",
   "execution_count": 18,
   "id": "70e9e400",
   "metadata": {},
   "outputs": [],
   "source": [
    "r = range(100_000_000)"
   ]
  },
  {
   "cell_type": "markdown",
   "id": "4e2e7c12",
   "metadata": {},
   "source": [
    "The object is created almost instantly, with very little memory overhead!"
   ]
  },
  {
   "cell_type": "markdown",
   "id": "642b14b3",
   "metadata": {},
   "source": [
    "We save on memory space, as well as possibly uncessary computations:"
   ]
  },
  {
   "cell_type": "code",
   "execution_count": 19,
   "id": "e52d713a",
   "metadata": {},
   "outputs": [
    {
     "name": "stdout",
     "output_type": "stream",
     "text": [
      "0\n",
      "1\n",
      "2\n",
      "3\n",
      "4\n",
      "5\n"
     ]
    }
   ],
   "source": [
    "for i in range(100_000_000):\n",
    "    print(i)\n",
    "    if i > 4:\n",
    "        break"
   ]
  },
  {
   "cell_type": "markdown",
   "id": "59fc768e",
   "metadata": {},
   "source": [
    "**Using Enumeration"
   ]
  },
  {
   "cell_type": "code",
   "execution_count": 5,
   "id": "ea235021",
   "metadata": {},
   "outputs": [
    {
     "data": {
      "text/plain": [
       "[(0, 'a'), (1, 'b'), (2, 'c')]"
      ]
     },
     "execution_count": 5,
     "metadata": {},
     "output_type": "execute_result"
    }
   ],
   "source": [
    "list(enumerate('abc'))"
   ]
  },
  {
   "cell_type": "markdown",
   "id": "5ace2f1f",
   "metadata": {},
   "source": [
    "Iterators support both the `iter()` and `next()` functions, as we can see with `enumerate`:"
   ]
  },
  {
   "cell_type": "code",
   "execution_count": 28,
   "id": "59d9c606",
   "metadata": {},
   "outputs": [],
   "source": [
    "enum = enumerate('abc')"
   ]
  },
  {
   "cell_type": "code",
   "execution_count": 29,
   "id": "db72500b",
   "metadata": {},
   "outputs": [
    {
     "data": {
      "text/plain": [
       "True"
      ]
     },
     "execution_count": 29,
     "metadata": {},
     "output_type": "execute_result"
    }
   ],
   "source": [
    "iter(enum) is enum"
   ]
  },
  {
   "cell_type": "markdown",
   "id": "db195bce",
   "metadata": {},
   "source": [
    "It also suports the `next()` function, and raises a `StopIteration` exception once all elements have been iterated over:"
   ]
  },
  {
   "cell_type": "code",
   "execution_count": 30,
   "id": "a4f4cfa8",
   "metadata": {},
   "outputs": [
    {
     "data": {
      "text/plain": [
       "(0, 'a')"
      ]
     },
     "execution_count": 30,
     "metadata": {},
     "output_type": "execute_result"
    }
   ],
   "source": [
    "next(enum)"
   ]
  },
  {
   "cell_type": "code",
   "execution_count": 31,
   "id": "162bac3f",
   "metadata": {},
   "outputs": [
    {
     "data": {
      "text/plain": [
       "(1, 'b')"
      ]
     },
     "execution_count": 31,
     "metadata": {},
     "output_type": "execute_result"
    }
   ],
   "source": [
    "next(enum)"
   ]
  },
  {
   "cell_type": "code",
   "execution_count": 32,
   "id": "35851746",
   "metadata": {},
   "outputs": [
    {
     "data": {
      "text/plain": [
       "(2, 'c')"
      ]
     },
     "execution_count": 32,
     "metadata": {},
     "output_type": "execute_result"
    }
   ],
   "source": [
    "next(enum)"
   ]
  },
  {
   "cell_type": "code",
   "execution_count": 33,
   "id": "e6648250",
   "metadata": {},
   "outputs": [
    {
     "ename": "StopIteration",
     "evalue": "",
     "output_type": "error",
     "traceback": [
      "\u001b[0;31m---------------------------------------------------------------------------\u001b[0m",
      "\u001b[0;31mStopIteration\u001b[0m                             Traceback (most recent call last)",
      "\u001b[0;32m<ipython-input-33-017bd57c1dc1>\u001b[0m in \u001b[0;36m<module>\u001b[0;34m\u001b[0m\n\u001b[0;32m----> 1\u001b[0;31m \u001b[0mnext\u001b[0m\u001b[0;34m(\u001b[0m\u001b[0menum\u001b[0m\u001b[0;34m)\u001b[0m\u001b[0;34m\u001b[0m\u001b[0;34m\u001b[0m\u001b[0m\n\u001b[0m",
      "\u001b[0;31mStopIteration\u001b[0m: "
     ]
    }
   ],
   "source": [
    "next(enum)"
   ]
  },
  {
   "cell_type": "markdown",
   "id": "568b1137",
   "metadata": {},
   "source": [
    "#### Generators"
   ]
  },
  {
   "cell_type": "markdown",
   "id": "20ef914b",
   "metadata": {},
   "source": [
    "Generators are also iterators - they have an `__iter__` method and a `__next__` method tp get the next element while iterating. Generators raise a `StopIteration` when the end of the iteration is reached."
   ]
  },
  {
   "cell_type": "code",
   "execution_count": 6,
   "id": "ad626987",
   "metadata": {},
   "outputs": [],
   "source": [
    "squares = (i ** 2 for i in range(5))"
   ]
  },
  {
   "cell_type": "markdown",
   "id": "d5fcdd43",
   "metadata": {},
   "source": [
    "And, just like iterators, they are one-time use only:"
   ]
  },
  {
   "cell_type": "code",
   "execution_count": 7,
   "id": "914b14f7",
   "metadata": {},
   "outputs": [
    {
     "name": "stdout",
     "output_type": "stream",
     "text": [
      "0\n",
      "1\n",
      "4\n",
      "9\n",
      "16\n"
     ]
    }
   ],
   "source": [
    "for i in squares:\n",
    "    print(i)"
   ]
  },
  {
   "cell_type": "markdown",
   "id": "d0ac9475",
   "metadata": {},
   "source": [
    "And `squares` is now an exhausted iterator:"
   ]
  },
  {
   "cell_type": "code",
   "execution_count": 8,
   "id": "3b6cb1e1",
   "metadata": {},
   "outputs": [],
   "source": [
    "for i in squares:\n",
    "    print('iterating again...')"
   ]
  },
  {
   "cell_type": "markdown",
   "id": "5c8216b4",
   "metadata": {},
   "source": [
    "This is contrast to what happens with a list comprehension:"
   ]
  },
  {
   "cell_type": "code",
   "execution_count": 4,
   "id": "e47f66ea",
   "metadata": {},
   "outputs": [],
   "source": [
    "l = [i ** 2 for i in range(5)]"
   ]
  },
  {
   "cell_type": "code",
   "execution_count": 5,
   "id": "137caa2a",
   "metadata": {},
   "outputs": [
    {
     "name": "stdout",
     "output_type": "stream",
     "text": [
      "0\n",
      "1\n",
      "4\n",
      "9\n",
      "16\n"
     ]
    }
   ],
   "source": [
    "for i in l:\n",
    "    print(i)"
   ]
  },
  {
   "cell_type": "code",
   "execution_count": 6,
   "id": "81863e3e",
   "metadata": {},
   "outputs": [
    {
     "name": "stdout",
     "output_type": "stream",
     "text": [
      "0\n",
      "1\n",
      "4\n",
      "9\n",
      "16\n"
     ]
    }
   ],
   "source": [
    "for i in l:\n",
    "    print(i)"
   ]
  },
  {
   "cell_type": "markdown",
   "id": "7f01faac",
   "metadata": {},
   "source": [
    "**Generators get exhausted once they are used"
   ]
  },
  {
   "cell_type": "code",
   "execution_count": 8,
   "id": "07237798",
   "metadata": {},
   "outputs": [],
   "source": [
    "squares = (i ** 2 for i in range(5))"
   ]
  },
  {
   "cell_type": "code",
   "execution_count": 9,
   "id": "8db32f15",
   "metadata": {},
   "outputs": [
    {
     "data": {
      "text/plain": [
       "[0, 1, 4, 9, 16]"
      ]
     },
     "execution_count": 9,
     "metadata": {},
     "output_type": "execute_result"
    }
   ],
   "source": [
    "list(squares)"
   ]
  },
  {
   "cell_type": "code",
   "execution_count": 10,
   "id": "dab84bc3",
   "metadata": {},
   "outputs": [
    {
     "data": {
      "text/plain": [
       "[]"
      ]
     },
     "execution_count": 10,
     "metadata": {},
     "output_type": "execute_result"
    }
   ],
   "source": [
    "list(squares)"
   ]
  },
  {
   "cell_type": "markdown",
   "id": "7adec49b",
   "metadata": {},
   "source": [
    "**Iterating using the while loop"
   ]
  },
  {
   "cell_type": "code",
   "execution_count": 16,
   "id": "9d6b6ea8",
   "metadata": {},
   "outputs": [],
   "source": [
    "squares = (i ** 2 for i in range(5))"
   ]
  },
  {
   "cell_type": "code",
   "execution_count": 17,
   "id": "ae408bfe",
   "metadata": {},
   "outputs": [
    {
     "data": {
      "text/plain": [
       "True"
      ]
     },
     "execution_count": 17,
     "metadata": {},
     "output_type": "execute_result"
    }
   ],
   "source": [
    "iter(squares) is squares"
   ]
  },
  {
   "cell_type": "code",
   "execution_count": 19,
   "id": "9a6b8d64",
   "metadata": {},
   "outputs": [
    {
     "name": "stdout",
     "output_type": "stream",
     "text": [
      "0\n",
      "1\n",
      "4\n",
      "9\n",
      "16\n",
      "Completed iterating\n"
     ]
    }
   ],
   "source": [
    "try:\n",
    "    while True:\n",
    "        print(next(squares))\n",
    "except StopIteration:\n",
    "    print('Completed iterating')"
   ]
  },
  {
   "cell_type": "code",
   "execution_count": 20,
   "id": "8df1605d",
   "metadata": {},
   "outputs": [
    {
     "name": "stdout",
     "output_type": "stream",
     "text": [
      "no more!\n"
     ]
    }
   ],
   "source": [
    "try:\n",
    "    next(squares)\n",
    "except StopIteration:\n",
    "    print('no more!')"
   ]
  },
  {
   "cell_type": "code",
   "execution_count": null,
   "id": "23021184",
   "metadata": {},
   "outputs": [],
   "source": []
  }
 ],
 "metadata": {
  "kernelspec": {
   "display_name": "Python 3 (ipykernel)",
   "language": "python",
   "name": "python3"
  },
  "language_info": {
   "codemirror_mode": {
    "name": "ipython",
    "version": 3
   },
   "file_extension": ".py",
   "mimetype": "text/x-python",
   "name": "python",
   "nbconvert_exporter": "python",
   "pygments_lexer": "ipython3",
   "version": "3.10.10"
  }
 },
 "nbformat": 4,
 "nbformat_minor": 5
}
