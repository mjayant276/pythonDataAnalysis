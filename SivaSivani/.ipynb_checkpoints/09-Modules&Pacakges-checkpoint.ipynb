{
 "cells": [
  {
   "cell_type": "markdown",
   "id": "beb8cc49",
   "metadata": {},
   "source": [
    "<img src='package_modules_2.PNG'/>"
   ]
  },
  {
   "cell_type": "markdown",
   "id": "d73a9ff4",
   "metadata": {},
   "source": [
    "- **A module is a file containing Python definitions and statements.**\n",
    "- Python puts the definitions in a file and can used them in a script.Such a file is called a module.\n",
    "- A module is a file containing Python definitions and statements. The file name is the module name with the suffix .py appended"
   ]
  },
  {
   "cell_type": "markdown",
   "id": "77315755",
   "metadata": {},
   "source": [
    "In the example below `string` is the module name"
   ]
  },
  {
   "cell_type": "code",
   "execution_count": 1,
   "id": "506d9a2e",
   "metadata": {},
   "outputs": [],
   "source": [
    "import string"
   ]
  },
  {
   "cell_type": "code",
   "execution_count": 2,
   "id": "7047624f",
   "metadata": {},
   "outputs": [
    {
     "data": {
      "text/plain": [
       "'abcdefghijklmnopqrstuvwxyzABCDEFGHIJKLMNOPQRSTUVWXYZ'"
      ]
     },
     "execution_count": 2,
     "metadata": {},
     "output_type": "execute_result"
    }
   ],
   "source": [
    "string.ascii_letters"
   ]
  },
  {
   "cell_type": "code",
   "execution_count": 3,
   "id": "0b17cc00",
   "metadata": {},
   "outputs": [
    {
     "data": {
      "text/plain": [
       "'abcdefghijklmnopqrstuvwxyz'"
      ]
     },
     "execution_count": 3,
     "metadata": {},
     "output_type": "execute_result"
    }
   ],
   "source": [
    "string.ascii_lowercase"
   ]
  },
  {
   "cell_type": "code",
   "execution_count": 4,
   "id": "94d434ae",
   "metadata": {},
   "outputs": [
    {
     "data": {
      "text/plain": [
       "'ABCDEFGHIJKLMNOPQRSTUVWXYZ'"
      ]
     },
     "execution_count": 4,
     "metadata": {},
     "output_type": "execute_result"
    }
   ],
   "source": [
    "string.ascii_uppercase"
   ]
  },
  {
   "cell_type": "code",
   "execution_count": 5,
   "id": "7cb6f09a",
   "metadata": {},
   "outputs": [
    {
     "data": {
      "text/plain": [
       "'0123456789'"
      ]
     },
     "execution_count": 5,
     "metadata": {},
     "output_type": "execute_result"
    }
   ],
   "source": [
    "string.digits"
   ]
  },
  {
   "cell_type": "code",
   "execution_count": 6,
   "id": "5202d97f",
   "metadata": {},
   "outputs": [
    {
     "data": {
      "text/plain": [
       "'0123456789abcdefABCDEF'"
      ]
     },
     "execution_count": 6,
     "metadata": {},
     "output_type": "execute_result"
    }
   ],
   "source": [
    "string.hexdigits"
   ]
  },
  {
   "cell_type": "markdown",
   "id": "2c089870",
   "metadata": {},
   "source": [
    "#### Creating a module in python"
   ]
  },
  {
   "cell_type": "markdown",
   "id": "5988c8ac",
   "metadata": {},
   "source": [
    "* To create a module in python - first create the file and write the definitions\n",
    "  - Inside the definitions write the doc string\n",
    "  - Once the doc string has written then the file has been be created  \n",
    "\n"
   ]
  },
  {
   "cell_type": "code",
   "execution_count": 1,
   "id": "aab6700b",
   "metadata": {},
   "outputs": [],
   "source": [
    "import ssdcpython1 as spy"
   ]
  },
  {
   "cell_type": "code",
   "execution_count": 2,
   "id": "560b0dc0",
   "metadata": {},
   "outputs": [
    {
     "name": "stdout",
     "output_type": "stream",
     "text": [
      "Welcome to SSDC - This is python programming\n"
     ]
    }
   ],
   "source": [
    "spy.welcomeGreeting()"
   ]
  },
  {
   "cell_type": "code",
   "execution_count": 12,
   "id": "c95860ec",
   "metadata": {},
   "outputs": [
    {
     "name": "stdout",
     "output_type": "stream",
     "text": [
      "Yes, Python module has been created by BBA\n"
     ]
    }
   ],
   "source": [
    "spy.learningPython('BBA')"
   ]
  },
  {
   "cell_type": "markdown",
   "id": "96ea8b30",
   "metadata": {},
   "source": [
    "* Importing only that is needed <br/>\n",
    "  - If we wish to import functions from the modules then the following can be done </br>\n",
    "\n",
    "  - from `<module_name>` import `<name(s)>` </br>\n"
   ]
  },
  {
   "cell_type": "code",
   "execution_count": 17,
   "id": "b201bfc2",
   "metadata": {},
   "outputs": [],
   "source": []
  },
  {
   "cell_type": "code",
   "execution_count": null,
   "id": "244941dc",
   "metadata": {},
   "outputs": [],
   "source": [
    "# Import all the functions or any other object using the module\n",
    "from ssdcpython1 import *"
   ]
  },
  {
   "cell_type": "code",
   "execution_count": null,
   "id": "93af3561",
   "metadata": {},
   "outputs": [],
   "source": [
    "# Importing only welcomeGreeting or learingPython"
   ]
  },
  {
   "cell_type": "code",
   "execution_count": 3,
   "id": "d44823b8",
   "metadata": {},
   "outputs": [],
   "source": [
    "from ssdcpython1 import welcomeGreeting,learningPython"
   ]
  },
  {
   "cell_type": "code",
   "execution_count": 4,
   "id": "f68a379a",
   "metadata": {},
   "outputs": [
    {
     "name": "stdout",
     "output_type": "stream",
     "text": [
      "Welcome to SSDC - This is python programming\n"
     ]
    }
   ],
   "source": [
    "welcomeGreeting()"
   ]
  },
  {
   "cell_type": "code",
   "execution_count": 15,
   "id": "f7370743",
   "metadata": {},
   "outputs": [],
   "source": [
    "from ssdcpython1 import learningPython"
   ]
  },
  {
   "cell_type": "code",
   "execution_count": 16,
   "id": "110262dc",
   "metadata": {},
   "outputs": [
    {
     "name": "stdout",
     "output_type": "stream",
     "text": [
      "Yes, Python module has been created by BBA\n"
     ]
    }
   ],
   "source": [
    "learningPython('BBA')"
   ]
  },
  {
   "cell_type": "markdown",
   "id": "f9e165d0",
   "metadata": {},
   "source": [
    "**Packages** \n",
    "* Packages are organization of files in different folders and sub-folders\n",
    "* A top level folder is treated as a package and sub-level folder as sub-package\n",
    "* In every package and sub-package, `__init__.py` file is added"
   ]
  },
  {
   "cell_type": "markdown",
   "id": "34073095",
   "metadata": {},
   "source": [
    "<img src='packages_2.PNG'/>"
   ]
  },
  {
   "cell_type": "markdown",
   "id": "3df4744c",
   "metadata": {},
   "source": [
    "* In the sub-package bba there are two files\n",
    "  - coresubjects.py\n",
    "  - location.py  "
   ]
  },
  {
   "cell_type": "code",
   "execution_count": 5,
   "id": "13a5baaa",
   "metadata": {},
   "outputs": [],
   "source": [
    "## We import the coresubjects file using the pacakage.subpackage\n",
    "from studentssdc.bba import coresubjects as cs"
   ]
  },
  {
   "cell_type": "code",
   "execution_count": 6,
   "id": "5eb705f9",
   "metadata": {},
   "outputs": [
    {
     "name": "stdout",
     "output_type": "stream",
     "text": [
      "These are the subjects that are available\n",
      "             1. Management\n",
      "             2. Communication Skills\n",
      "             3. Information Technology\n",
      "             4. Business Analytics\n",
      "        \n"
     ]
    }
   ],
   "source": [
    "cs.getsubjects()"
   ]
  },
  {
   "cell_type": "code",
   "execution_count": 7,
   "id": "c69b0dc2",
   "metadata": {},
   "outputs": [
    {
     "name": "stdout",
     "output_type": "stream",
     "text": [
      "\n",
      "           Duration of the subjects are \n",
      "           1. Management - 20 \n",
      "           2. Communication Skills - 25\n",
      "           3. Information Technology - 30\n",
      "           4. Business Analytics - 30\n",
      "          \n"
     ]
    },
    {
     "data": {
      "text/plain": [
       "''"
      ]
     },
     "execution_count": 7,
     "metadata": {},
     "output_type": "execute_result"
    }
   ],
   "source": [
    "cs.duration()"
   ]
  },
  {
   "cell_type": "markdown",
   "id": "ab73f320",
   "metadata": {},
   "source": [
    "from the bcom package import both the names and evaluation modules."
   ]
  },
  {
   "cell_type": "code",
   "execution_count": 30,
   "id": "1563578a",
   "metadata": {},
   "outputs": [],
   "source": [
    "\n",
    "from studentssdc.bcom import names,evaluation"
   ]
  },
  {
   "cell_type": "code",
   "execution_count": 31,
   "id": "eced7602",
   "metadata": {},
   "outputs": [
    {
     "name": "stdout",
     "output_type": "stream",
     "text": [
      "The names of the exam names are written\n"
     ]
    }
   ],
   "source": [
    "names.examnames()"
   ]
  },
  {
   "cell_type": "code",
   "execution_count": 33,
   "id": "3ed15f3d",
   "metadata": {},
   "outputs": [
    {
     "name": "stdout",
     "output_type": "stream",
     "text": [
      "The names of the subject names are written\n"
     ]
    }
   ],
   "source": [
    "names.subjectnames()"
   ]
  },
  {
   "cell_type": "code",
   "execution_count": 34,
   "id": "0d9ee647",
   "metadata": {},
   "outputs": [
    {
     "name": "stdout",
     "output_type": "stream",
     "text": [
      "Marks of the evaluation of the given set\n"
     ]
    }
   ],
   "source": [
    "evaluation.marks()"
   ]
  },
  {
   "cell_type": "code",
   "execution_count": 35,
   "id": "86346821",
   "metadata": {},
   "outputs": [
    {
     "name": "stdout",
     "output_type": "stream",
     "text": [
      "Evaluating the data for the given set\n"
     ]
    }
   ],
   "source": [
    "evaluation.evaluate()"
   ]
  },
  {
   "cell_type": "markdown",
   "id": "3bffca87",
   "metadata": {},
   "source": [
    "from the cse package import both the algosds and datavalidation modules."
   ]
  },
  {
   "cell_type": "code",
   "execution_count": 36,
   "id": "7ae1ffec",
   "metadata": {},
   "outputs": [],
   "source": [
    "from studentssdc.cse import datavalidation,algosds"
   ]
  },
  {
   "cell_type": "code",
   "execution_count": 37,
   "id": "1f41e03b",
   "metadata": {},
   "outputs": [
    {
     "name": "stdout",
     "output_type": "stream",
     "text": [
      " Standardize the data for the process \n"
     ]
    }
   ],
   "source": [
    "datavalidation.standardize()"
   ]
  },
  {
   "cell_type": "code",
   "execution_count": 38,
   "id": "f31b8354",
   "metadata": {},
   "outputs": [
    {
     "name": "stdout",
     "output_type": "stream",
     "text": [
      "Clean the data for data cleansing\n"
     ]
    }
   ],
   "source": [
    "datavalidation.clean()"
   ]
  },
  {
   "cell_type": "code",
   "execution_count": 39,
   "id": "fd16a552",
   "metadata": {},
   "outputs": [
    {
     "name": "stdout",
     "output_type": "stream",
     "text": [
      "The algos are the program to run continuously\n"
     ]
    }
   ],
   "source": [
    "algosds.algos()"
   ]
  },
  {
   "cell_type": "code",
   "execution_count": 40,
   "id": "e7483d12",
   "metadata": {},
   "outputs": [
    {
     "name": "stdout",
     "output_type": "stream",
     "text": [
      "The data structures are evaluate continuously\n"
     ]
    }
   ],
   "source": [
    "algosds.datastructures()"
   ]
  },
  {
   "cell_type": "code",
   "execution_count": null,
   "id": "7fe03e49",
   "metadata": {},
   "outputs": [],
   "source": []
  }
 ],
 "metadata": {
  "kernelspec": {
   "display_name": "Python 3 (ipykernel)",
   "language": "python",
   "name": "python3"
  },
  "language_info": {
   "codemirror_mode": {
    "name": "ipython",
    "version": 3
   },
   "file_extension": ".py",
   "mimetype": "text/x-python",
   "name": "python",
   "nbconvert_exporter": "python",
   "pygments_lexer": "ipython3",
   "version": "3.10.10"
  }
 },
 "nbformat": 4,
 "nbformat_minor": 5
}
