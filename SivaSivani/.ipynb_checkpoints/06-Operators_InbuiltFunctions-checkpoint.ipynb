{
 "cells": [
  {
   "cell_type": "markdown",
   "id": "f9c3f138",
   "metadata": {},
   "source": [
    "### Operators in Python"
   ]
  },
  {
   "cell_type": "markdown",
   "id": "3becdf48",
   "metadata": {},
   "source": [
    "* Bitwise Operators\n",
    "* Membership Operators\n",
    "* Identity Operators"
   ]
  },
  {
   "cell_type": "markdown",
   "id": "1320dc9a",
   "metadata": {},
   "source": [
    "<img src=\"truthTable.JPG\">"
   ]
  },
  {
   "cell_type": "markdown",
   "id": "a6b4c57b",
   "metadata": {},
   "source": [
    "* Bitwise Operators\n",
    "- Bitwise AND (&) Operator"
   ]
  },
  {
   "cell_type": "code",
   "execution_count": 3,
   "id": "e8d2acac",
   "metadata": {},
   "outputs": [
    {
     "name": "stdout",
     "output_type": "stream",
     "text": [
      "0b11\n",
      "0b101\n"
     ]
    }
   ],
   "source": [
    "print(bin(3))\n",
    "print(bin(5)) # 011 & 101 --> 001\n",
    "\n",
    "#011\n",
    "#101\n",
    "-----\n",
    "#001 "
   ]
  },
  {
   "cell_type": "code",
   "execution_count": 1,
   "id": "29992e45",
   "metadata": {},
   "outputs": [
    {
     "name": "stdout",
     "output_type": "stream",
     "text": [
      "1\n"
     ]
    }
   ],
   "source": [
    "print(3&5)"
   ]
  },
  {
   "cell_type": "code",
   "execution_count": 1,
   "id": "98587283",
   "metadata": {},
   "outputs": [
    {
     "data": {
      "text/plain": [
       "0"
      ]
     },
     "execution_count": 1,
     "metadata": {},
     "output_type": "execute_result"
    }
   ],
   "source": [
    "2&4"
   ]
  },
  {
   "cell_type": "code",
   "execution_count": 4,
   "id": "5bed1896",
   "metadata": {
    "scrolled": true
   },
   "outputs": [
    {
     "data": {
      "text/plain": [
       "1"
      ]
     },
     "execution_count": 4,
     "metadata": {},
     "output_type": "execute_result"
    }
   ],
   "source": [
    "3&5"
   ]
  },
  {
   "cell_type": "markdown",
   "id": "a6d977d7",
   "metadata": {},
   "source": [
    "- Bitwise OR (|) Operator"
   ]
  },
  {
   "cell_type": "code",
   "execution_count": 6,
   "id": "232cf801",
   "metadata": {},
   "outputs": [],
   "source": [
    "# 0011 | 0101 -> 0111\n",
    "# 011\n",
    "# 101\n",
    "#-----\n",
    "# 111"
   ]
  },
  {
   "cell_type": "code",
   "execution_count": 5,
   "id": "ecefb722",
   "metadata": {
    "scrolled": true
   },
   "outputs": [
    {
     "name": "stdout",
     "output_type": "stream",
     "text": [
      "7\n"
     ]
    }
   ],
   "source": [
    "print(3|5)"
   ]
  },
  {
   "cell_type": "markdown",
   "id": "cb9c1da0",
   "metadata": {},
   "source": [
    "* Bitwise XOR (^) Operator"
   ]
  },
  {
   "cell_type": "code",
   "execution_count": 7,
   "id": "8a98ce3c",
   "metadata": {},
   "outputs": [
    {
     "name": "stdout",
     "output_type": "stream",
     "text": [
      "7\n"
     ]
    }
   ],
   "source": [
    "# 1011 ^ 1100 -> 0111 (11^12 -> 7)\n",
    "\n",
    "# 1011\n",
    "# 1100\n",
    "#------\n",
    "# 0111\n",
    "print(11^12)"
   ]
  },
  {
   "cell_type": "markdown",
   "id": "e495b52c",
   "metadata": {},
   "source": [
    "* Bitwise << left shift operator - The left shift operator shifts the left bits operand towards left.\n",
    "- 1100 << 2 means that the two zeros are appended at the right side. 110000 is the output"
   ]
  },
  {
   "cell_type": "code",
   "execution_count": 2,
   "id": "7d427afd",
   "metadata": {},
   "outputs": [
    {
     "data": {
      "text/plain": [
       "4400"
      ]
     },
     "execution_count": 2,
     "metadata": {},
     "output_type": "execute_result"
    }
   ],
   "source": [
    "1100 << 2 ## 1100 -> 110000"
   ]
  },
  {
   "cell_type": "markdown",
   "id": "f04574f8",
   "metadata": {},
   "source": [
    "\n",
    "* Other in-built functions\n",
    "* Capture input from the command line\n",
    "* Operators and Operands in Python"
   ]
  },
  {
   "cell_type": "markdown",
   "id": "aea2faae",
   "metadata": {},
   "source": [
    "* divmod() function returns a pair of numbers consisting of quotient and remainder"
   ]
  },
  {
   "cell_type": "code",
   "execution_count": 2,
   "id": "edbae7f8",
   "metadata": {},
   "outputs": [
    {
     "name": "stdout",
     "output_type": "stream",
     "text": [
      "(1, 2)\n",
      "(3, 0)\n"
     ]
    }
   ],
   "source": [
    "### We pass two numbers to divmod - 5,3 : div(5,3) - \n",
    "# It returns the quotient of the division between two numbers\n",
    "# and remainder of the division\n",
    "print(divmod(5,3) )\n",
    "print(divmod(12,4))"
   ]
  },
  {
   "cell_type": "markdown",
   "id": "9ff0356d",
   "metadata": {},
   "source": [
    "* ord() function return point value representation of a character"
   ]
  },
  {
   "cell_type": "code",
   "execution_count": 2,
   "id": "0674c378",
   "metadata": {},
   "outputs": [
    {
     "data": {
      "text/plain": [
       "72"
      ]
     },
     "execution_count": 2,
     "metadata": {},
     "output_type": "execute_result"
    }
   ],
   "source": [
    "#### Finding the unicode point value of a character 'H' \n",
    "### - pass 'H' to the ord() function\n",
    "ord('H')"
   ]
  },
  {
   "cell_type": "code",
   "execution_count": 3,
   "id": "cf40fabc",
   "metadata": {},
   "outputs": [
    {
     "data": {
      "text/plain": [
       "97"
      ]
     },
     "execution_count": 3,
     "metadata": {},
     "output_type": "execute_result"
    }
   ],
   "source": [
    "#### Finding the unicode point value of a character 'a' \n",
    "#### - pass 'a' to the ord() function\n",
    "ord('a')"
   ]
  },
  {
   "cell_type": "code",
   "execution_count": 4,
   "id": "8a636588",
   "metadata": {},
   "outputs": [
    {
     "data": {
      "text/plain": [
       "65"
      ]
     },
     "execution_count": 4,
     "metadata": {},
     "output_type": "execute_result"
    }
   ],
   "source": [
    "#### Finding unicode point value of a character 'A' \n",
    "#### - pass 'A' to the ord() function\n",
    "ord('A')"
   ]
  },
  {
   "cell_type": "code",
   "execution_count": 22,
   "id": "c2dc9e04",
   "metadata": {},
   "outputs": [
    {
     "data": {
      "text/plain": [
       "10"
      ]
     },
     "execution_count": 22,
     "metadata": {},
     "output_type": "execute_result"
    }
   ],
   "source": [
    "### Finding unicode point value of a character '\\n'- pass '\\n' to \n",
    "## the ord() function\n",
    "ord('\\n')"
   ]
  },
  {
   "cell_type": "markdown",
   "id": "605fbee3",
   "metadata": {},
   "source": [
    "* chr() function is the inverse of ord() - It gives the value of the give integer"
   ]
  },
  {
   "cell_type": "code",
   "execution_count": 21,
   "id": "a7073df2",
   "metadata": {},
   "outputs": [
    {
     "data": {
      "text/plain": [
       "'\\n'"
      ]
     },
     "execution_count": 21,
     "metadata": {},
     "output_type": "execute_result"
    }
   ],
   "source": [
    "### chr function that takes input as 10 would return the output as '\\n'\n",
    "chr(10)"
   ]
  },
  {
   "cell_type": "code",
   "execution_count": 25,
   "id": "de48dee5",
   "metadata": {},
   "outputs": [
    {
     "data": {
      "text/plain": [
       "'a'"
      ]
     },
     "execution_count": 25,
     "metadata": {},
     "output_type": "execute_result"
    }
   ],
   "source": [
    "### chr function that takes input as 97 would return the output as 'a'\n",
    "chr(97)"
   ]
  },
  {
   "cell_type": "code",
   "execution_count": 26,
   "id": "fda4c39c",
   "metadata": {},
   "outputs": [
    {
     "data": {
      "text/plain": [
       "'A'"
      ]
     },
     "execution_count": 26,
     "metadata": {},
     "output_type": "execute_result"
    }
   ],
   "source": [
    "### chr function that takes input as 97 would return the output as 'A'\n",
    "chr(65)"
   ]
  },
  {
   "cell_type": "code",
   "execution_count": 1,
   "id": "a36f2d86",
   "metadata": {},
   "outputs": [
    {
     "data": {
      "text/plain": [
       "'⅝'"
      ]
     },
     "execution_count": 1,
     "metadata": {},
     "output_type": "execute_result"
    }
   ],
   "source": [
    "### chr function that takes input as 8641 would return the output as %'\n",
    "chr(8541)"
   ]
  },
  {
   "cell_type": "markdown",
   "id": "c5db9607",
   "metadata": {},
   "source": [
    "* id() function gives the Cpython address location of the object"
   ]
  },
  {
   "cell_type": "code",
   "execution_count": 12,
   "id": "37a58304",
   "metadata": {},
   "outputs": [
    {
     "data": {
      "text/plain": [
       "1455356117520"
      ]
     },
     "execution_count": 12,
     "metadata": {},
     "output_type": "execute_result"
    }
   ],
   "source": [
    "### We want to get the address of a python object \n",
    "## id() function provides the address of that variable\n",
    "x = 10\n",
    "id(x)"
   ]
  },
  {
   "cell_type": "code",
   "execution_count": 13,
   "id": "0c1fdf6c",
   "metadata": {},
   "outputs": [
    {
     "data": {
      "text/plain": [
       "1455436509232"
      ]
     },
     "execution_count": 13,
     "metadata": {},
     "output_type": "execute_result"
    }
   ],
   "source": [
    "#### finding the memory location address of a floating \n",
    "## value passed to id function\n",
    "y = 20.5\n",
    "id(y)"
   ]
  },
  {
   "cell_type": "markdown",
   "id": "5c0a2485",
   "metadata": {},
   "source": [
    "* bin() function - This will provide the binary value of the given input"
   ]
  },
  {
   "cell_type": "code",
   "execution_count": 28,
   "id": "fd989a28",
   "metadata": {},
   "outputs": [
    {
     "data": {
      "text/plain": [
       "'0b1010'"
      ]
     },
     "execution_count": 28,
     "metadata": {},
     "output_type": "execute_result"
    }
   ],
   "source": [
    "### pass value 10 to the bin() function and \n",
    "## it returns binary representation of the passed value\n",
    "## The binary representation is prefixed with 0b\n",
    "bin(10)"
   ]
  },
  {
   "cell_type": "code",
   "execution_count": 29,
   "id": "da2b24e5",
   "metadata": {},
   "outputs": [
    {
     "data": {
      "text/plain": [
       "'-0b1010'"
      ]
     },
     "execution_count": 29,
     "metadata": {},
     "output_type": "execute_result"
    }
   ],
   "source": [
    "### pass value -10 to the bin() function and it returns \n",
    "### binary representation of the passed value\n",
    "##  The binary representation is prefixed with -0b\n",
    "bin(-10)"
   ]
  },
  {
   "cell_type": "markdown",
   "id": "79c1a7a6",
   "metadata": {},
   "source": [
    "* hex() function - Converts the number from string to hexadecimal representation"
   ]
  },
  {
   "cell_type": "code",
   "execution_count": 31,
   "id": "6b5b7dfb",
   "metadata": {},
   "outputs": [
    {
     "data": {
      "text/plain": [
       "'0xa'"
      ]
     },
     "execution_count": 31,
     "metadata": {},
     "output_type": "execute_result"
    }
   ],
   "source": [
    "### pass value 10 to the hex() function and \n",
    "### it returns the hexadecimal representation of the passed value\n",
    "### output would 0xa\n",
    "hex(10)"
   ]
  },
  {
   "cell_type": "code",
   "execution_count": 9,
   "id": "fc001681",
   "metadata": {
    "scrolled": true
   },
   "outputs": [
    {
     "data": {
      "text/plain": [
       "'0x17'"
      ]
     },
     "execution_count": 9,
     "metadata": {},
     "output_type": "execute_result"
    }
   ],
   "source": [
    "### pass value 8 to the hex() function and \n",
    "## it returns the hexadecimal representation of the passed value\n",
    "## output would 0x8\n",
    "hex(23)"
   ]
  },
  {
   "cell_type": "code",
   "execution_count": 33,
   "id": "995bcf73",
   "metadata": {},
   "outputs": [
    {
     "data": {
      "text/plain": [
       "'0x11'"
      ]
     },
     "execution_count": 33,
     "metadata": {},
     "output_type": "execute_result"
    }
   ],
   "source": [
    "### pass value 17 to the hex() function \n",
    "### and it returns the hexadecimal representation of the passed value\n",
    "### output would 0x8\n",
    "hex(17)"
   ]
  },
  {
   "cell_type": "markdown",
   "id": "fe6178c1",
   "metadata": {},
   "source": [
    "* oct function - Coverts the number from String representation to octal representation\n"
   ]
  },
  {
   "cell_type": "code",
   "execution_count": 35,
   "id": "9187369c",
   "metadata": {},
   "outputs": [
    {
     "data": {
      "text/plain": [
       "'0o12'"
      ]
     },
     "execution_count": 35,
     "metadata": {},
     "output_type": "execute_result"
    }
   ],
   "source": [
    "### pass value 10 to the oct() function and \n",
    "### it returns the octal representation of the passed value\n",
    "### output would 0o12 - Prefix is 0o\n",
    "oct(10)"
   ]
  },
  {
   "cell_type": "code",
   "execution_count": 1,
   "id": "da576876",
   "metadata": {},
   "outputs": [
    {
     "data": {
      "text/plain": [
       "'0o17'"
      ]
     },
     "execution_count": 1,
     "metadata": {},
     "output_type": "execute_result"
    }
   ],
   "source": [
    "### pass value 15 to the oct() function and \n",
    "### it returns the octal representation of the passed value\n",
    "### output would 0o17 - Prefix is 0o\n",
    "oct(15)"
   ]
  },
  {
   "cell_type": "code",
   "execution_count": 2,
   "id": "9e99b1b2",
   "metadata": {},
   "outputs": [
    {
     "data": {
      "text/plain": [
       "'0o15'"
      ]
     },
     "execution_count": 2,
     "metadata": {},
     "output_type": "execute_result"
    }
   ],
   "source": [
    "### pass value 13 to the oct() function \n",
    "### and it returns the octal representation of the passed value\n",
    "### output would 0o15 - Prefix is 0o\n",
    "oct(13)"
   ]
  },
  {
   "cell_type": "markdown",
   "id": "5883873c",
   "metadata": {},
   "source": [
    "* int() function - Integer values with other bases"
   ]
  },
  {
   "cell_type": "code",
   "execution_count": 14,
   "id": "aa65f782",
   "metadata": {},
   "outputs": [
    {
     "data": {
      "text/plain": [
       "10"
      ]
     },
     "execution_count": 14,
     "metadata": {},
     "output_type": "execute_result"
    }
   ],
   "source": [
    "### default base value of an integer\n",
    "int(10)"
   ]
  },
  {
   "cell_type": "code",
   "execution_count": 16,
   "id": "74914251",
   "metadata": {},
   "outputs": [
    {
     "data": {
      "text/plain": [
       "2"
      ]
     },
     "execution_count": 16,
     "metadata": {},
     "output_type": "execute_result"
    }
   ],
   "source": [
    "### Passing a string value '10' for base 2\n",
    "int('10',base=2)"
   ]
  },
  {
   "cell_type": "code",
   "execution_count": 17,
   "id": "f4c20f36",
   "metadata": {},
   "outputs": [
    {
     "data": {
      "text/plain": [
       "17"
      ]
     },
     "execution_count": 17,
     "metadata": {},
     "output_type": "execute_result"
    }
   ],
   "source": [
    "### Passing a string value '10001' for base 2 - \n",
    "### That is the representation is 10001 in base 2\n",
    "### This number is converted to base 10.\n",
    "int('10001',base=2)"
   ]
  },
  {
   "cell_type": "code",
   "execution_count": 8,
   "id": "2c3870b6",
   "metadata": {},
   "outputs": [
    {
     "data": {
      "text/plain": [
       "10"
      ]
     },
     "execution_count": 8,
     "metadata": {},
     "output_type": "execute_result"
    }
   ],
   "source": [
    "### Passing a string value '0xa' for base 6 - \n",
    "### that is the representation is 0xa in base 16\n",
    "### The number is 10 in base 10 \n",
    "int('0xa',base=16)"
   ]
  },
  {
   "cell_type": "code",
   "execution_count": 5,
   "id": "53525842",
   "metadata": {},
   "outputs": [
    {
     "data": {
      "text/plain": [
       "13"
      ]
     },
     "execution_count": 5,
     "metadata": {},
     "output_type": "execute_result"
    }
   ],
   "source": [
    "### Covnverts the number from base 8 to base 10\n",
    "int('0o15', base=8)"
   ]
  },
  {
   "cell_type": "code",
   "execution_count": 10,
   "id": "dc586c09",
   "metadata": {},
   "outputs": [
    {
     "data": {
      "text/plain": [
       "23"
      ]
     },
     "execution_count": 10,
     "metadata": {},
     "output_type": "execute_result"
    }
   ],
   "source": [
    "### converts the number from base 16 to base 10 - \n",
    "### that is the representation is 0x17 in base 16\n",
    "### The number is 23 in base 10\n",
    "int('0x17',base=16)"
   ]
  },
  {
   "cell_type": "markdown",
   "id": "24f848a9",
   "metadata": {},
   "source": [
    "* abs() function returns the absolute value. Indicating that it returns the positive value"
   ]
  },
  {
   "cell_type": "code",
   "execution_count": 11,
   "id": "0433b896",
   "metadata": {},
   "outputs": [
    {
     "data": {
      "text/plain": [
       "10"
      ]
     },
     "execution_count": 11,
     "metadata": {},
     "output_type": "execute_result"
    }
   ],
   "source": [
    "### pass 10.2 value to abs function - \n",
    "### it generated the absolute value of the argument\n",
    "abs(-10)"
   ]
  },
  {
   "cell_type": "code",
   "execution_count": 12,
   "id": "faf6c63a",
   "metadata": {},
   "outputs": [
    {
     "data": {
      "text/plain": [
       "20.5"
      ]
     },
     "execution_count": 12,
     "metadata": {},
     "output_type": "execute_result"
    }
   ],
   "source": [
    "### pass 20.5 value to abs function - \n",
    "### it generated the absolute value of the argument\n",
    "abs(-20.5)"
   ]
  },
  {
   "cell_type": "markdown",
   "id": "36bd6ef4",
   "metadata": {},
   "source": [
    "* pow() function returns the number for this formula - base** exponent\n",
    "\n",
    "* base of the number and the exponent it is raised to\n"
   ]
  },
  {
   "cell_type": "code",
   "execution_count": 3,
   "id": "3f66f86c",
   "metadata": {},
   "outputs": [
    {
     "data": {
      "text/plain": [
       "8"
      ]
     },
     "execution_count": 3,
     "metadata": {},
     "output_type": "execute_result"
    }
   ],
   "source": [
    "### pass 2 as the base followed by 3 as the exponent - 2**3 - pow(2,3)\n",
    "pow(2,3)"
   ]
  },
  {
   "cell_type": "code",
   "execution_count": 4,
   "id": "8496de07",
   "metadata": {},
   "outputs": [
    {
     "data": {
      "text/plain": [
       "9"
      ]
     },
     "execution_count": 4,
     "metadata": {},
     "output_type": "execute_result"
    }
   ],
   "source": [
    "### pass 3 as the base followed by 2 as the exponent - 3**2 - pow(3,2)\n",
    "pow(3,2)"
   ]
  },
  {
   "cell_type": "markdown",
   "id": "317c33a4",
   "metadata": {},
   "source": [
    "* min() function returns the minimum of two or more values"
   ]
  },
  {
   "cell_type": "code",
   "execution_count": 12,
   "id": "31accd63",
   "metadata": {},
   "outputs": [
    {
     "data": {
      "text/plain": [
       "-5"
      ]
     },
     "execution_count": 12,
     "metadata": {},
     "output_type": "execute_result"
    }
   ],
   "source": [
    "### Pass the values as -5, 10, 30 to \n",
    "### the minimuum function and check the output - min(-5,10.30)\n",
    "min(-5,10,30)"
   ]
  },
  {
   "cell_type": "code",
   "execution_count": 13,
   "id": "e2c7d820",
   "metadata": {},
   "outputs": [
    {
     "data": {
      "text/plain": [
       "1"
      ]
     },
     "execution_count": 13,
     "metadata": {},
     "output_type": "execute_result"
    }
   ],
   "source": [
    "### Pass the value as 1,2,3 to the \n",
    "### minimum function and check the output - min(1,2,3)\n",
    "min(1,2,3)"
   ]
  },
  {
   "cell_type": "code",
   "execution_count": 14,
   "id": "583c3780",
   "metadata": {},
   "outputs": [
    {
     "ename": "TypeError",
     "evalue": "'int' object is not iterable",
     "output_type": "error",
     "traceback": [
      "\u001b[1;31m---------------------------------------------------------------------------\u001b[0m",
      "\u001b[1;31mTypeError\u001b[0m                                 Traceback (most recent call last)",
      "Cell \u001b[1;32mIn[14], line 1\u001b[0m\n\u001b[1;32m----> 1\u001b[0m \u001b[38;5;28;43mmin\u001b[39;49m\u001b[43m(\u001b[49m\u001b[38;5;241;43m1\u001b[39;49m\u001b[43m)\u001b[49m\n",
      "\u001b[1;31mTypeError\u001b[0m: 'int' object is not iterable"
     ]
    }
   ],
   "source": [
    "### If we pass only one value in \n",
    "### the minimum function - then we get an error\n",
    "min(1)"
   ]
  },
  {
   "cell_type": "markdown",
   "id": "245cbd5b",
   "metadata": {},
   "source": [
    "* max() function returns the maximum of two or more values"
   ]
  },
  {
   "cell_type": "code",
   "execution_count": 15,
   "id": "42c344ae",
   "metadata": {},
   "outputs": [
    {
     "data": {
      "text/plain": [
       "30"
      ]
     },
     "execution_count": 15,
     "metadata": {},
     "output_type": "execute_result"
    }
   ],
   "source": [
    "### Pass the values as -5, 10, 30 to the maximum function \n",
    "### and check the output - max(-5,10.30)\n",
    "max(-5,10,30) "
   ]
  },
  {
   "cell_type": "code",
   "execution_count": 16,
   "id": "6542832a",
   "metadata": {},
   "outputs": [
    {
     "data": {
      "text/plain": [
       "3"
      ]
     },
     "execution_count": 16,
     "metadata": {},
     "output_type": "execute_result"
    }
   ],
   "source": [
    "### Pass the value as 1,2,3 to the maximum function \n",
    "### and check the output - max(1,2,3)\n",
    "max(1,2,3)"
   ]
  },
  {
   "cell_type": "markdown",
   "id": "8e59a7f1",
   "metadata": {},
   "source": [
    "* len() function gives us the length of the given string - We cannot pass integer or floating point valie"
   ]
  },
  {
   "cell_type": "code",
   "execution_count": 5,
   "id": "ed538587",
   "metadata": {},
   "outputs": [
    {
     "data": {
      "text/plain": [
       "6"
      ]
     },
     "execution_count": 5,
     "metadata": {},
     "output_type": "execute_result"
    }
   ],
   "source": [
    "### Let us pass string values to the len() function to \n",
    "### check its length - 'Python' returns length of 6\n",
    "len('Python')"
   ]
  },
  {
   "cell_type": "code",
   "execution_count": 6,
   "id": "351450ff",
   "metadata": {},
   "outputs": [
    {
     "data": {
      "text/plain": [
       "12"
      ]
     },
     "execution_count": 6,
     "metadata": {},
     "output_type": "execute_result"
    }
   ],
   "source": [
    "### Let us pass string value to len() \n",
    "### function to check its length - 'Hello World!' return the length of 12\n",
    "len('Hello World!')"
   ]
  },
  {
   "cell_type": "markdown",
   "id": "b3a5c3b3",
   "metadata": {},
   "source": [
    "* repr() function gives back the printable representation of the object"
   ]
  },
  {
   "cell_type": "code",
   "execution_count": 11,
   "id": "48bd2e55",
   "metadata": {},
   "outputs": [
    {
     "data": {
      "text/plain": [
       "\"'Monday'\""
      ]
     },
     "execution_count": 11,
     "metadata": {},
     "output_type": "execute_result"
    }
   ],
   "source": [
    "### Pass 'monday' as input to repr. \n",
    "### repr('Monday') -- The resultant output is 'Monday'\n",
    "repr('Monday')"
   ]
  },
  {
   "cell_type": "code",
   "execution_count": 9,
   "id": "a6fba39f",
   "metadata": {},
   "outputs": [
    {
     "name": "stdout",
     "output_type": "stream",
     "text": [
      "'Monday'\n"
     ]
    }
   ],
   "source": [
    "### Pass repr('monday') as input to print. \n",
    "### print(repr('Monday')) -- The resultant output is 'Monday'\n",
    "print(repr('Monday'))"
   ]
  },
  {
   "cell_type": "markdown",
   "id": "414e9ecb",
   "metadata": {},
   "source": [
    "#### String Operations\n",
    "*  Text sequences - String \n",
    "*  String are sequences of text. String sequences are immutable."
   ]
  },
  {
   "cell_type": "code",
   "execution_count": 16,
   "id": "4947b033",
   "metadata": {},
   "outputs": [
    {
     "data": {
      "text/plain": [
       "'abcdefghijklmnopqrstuvwxyzABCDEFGHIJKLMNOPQRSTUVWXYZ'"
      ]
     },
     "execution_count": 16,
     "metadata": {},
     "output_type": "execute_result"
    }
   ],
   "source": [
    "### We import the string module and use ascii_letters on string. \n",
    "### The output is english alphabets in lower case \n",
    "### and upper case.\n",
    "import string\n",
    "string.ascii_letters"
   ]
  },
  {
   "cell_type": "code",
   "execution_count": 17,
   "id": "52a7c314",
   "metadata": {},
   "outputs": [
    {
     "data": {
      "text/plain": [
       "'abcdefghijklmnopqrstuvwxyz'"
      ]
     },
     "execution_count": 17,
     "metadata": {},
     "output_type": "execute_result"
    }
   ],
   "source": [
    "### The ascii_lowercase shall return \n",
    "### the lower case letters on string. The output is english \n",
    "### alphabets in lower case\n",
    "string.ascii_lowercase"
   ]
  },
  {
   "cell_type": "code",
   "execution_count": 18,
   "id": "f0cb2e2e",
   "metadata": {},
   "outputs": [
    {
     "data": {
      "text/plain": [
       "'ABCDEFGHIJKLMNOPQRSTUVWXYZ'"
      ]
     },
     "execution_count": 18,
     "metadata": {},
     "output_type": "execute_result"
    }
   ],
   "source": [
    "#### the ascii_upppercase shall return \n",
    "#### the upper case letters as string. the output is english alphabets in \n",
    "#### upper case\n",
    "string.ascii_uppercase"
   ]
  },
  {
   "cell_type": "code",
   "execution_count": 19,
   "id": "4818104c",
   "metadata": {},
   "outputs": [
    {
     "data": {
      "text/plain": [
       "'0123456789'"
      ]
     },
     "execution_count": 19,
     "metadata": {},
     "output_type": "execute_result"
    }
   ],
   "source": [
    "#### The digits shall return the digits as string. \n",
    "### The ouput is '0123456789'\n",
    "string.digits"
   ]
  },
  {
   "cell_type": "code",
   "execution_count": 20,
   "id": "90d00b8d",
   "metadata": {},
   "outputs": [
    {
     "data": {
      "text/plain": [
       "'0123456789abcdefABCDEF'"
      ]
     },
     "execution_count": 20,
     "metadata": {},
     "output_type": "execute_result"
    }
   ],
   "source": [
    "#### The digits shall return hexadecimal digits as string . \n",
    "### The output is '0123456789abcdefABCDEF'\n",
    "string.hexdigits"
   ]
  },
  {
   "cell_type": "code",
   "execution_count": 21,
   "id": "dc99674b",
   "metadata": {},
   "outputs": [
    {
     "data": {
      "text/plain": [
       "'01234567'"
      ]
     },
     "execution_count": 21,
     "metadata": {},
     "output_type": "execute_result"
    }
   ],
   "source": [
    "#### The digits shall return octal digits as string. \n",
    "### The output is '01234567'\n",
    "string.octdigits"
   ]
  },
  {
   "cell_type": "code",
   "execution_count": 22,
   "id": "a526232d",
   "metadata": {},
   "outputs": [
    {
     "data": {
      "text/plain": [
       "'!\"#$%&\\'()*+,-./:;<=>?@[\\\\]^_`{|}~'"
      ]
     },
     "execution_count": 22,
     "metadata": {},
     "output_type": "execute_result"
    }
   ],
   "source": [
    "#### The digits shall return punctutation marks as string. \n",
    "### The output is '!\"#$%&\\'()*+,-./:;<=>?@[\\\\]^_`{|}~'\n",
    "string.punctuation"
   ]
  },
  {
   "cell_type": "markdown",
   "id": "e1e276ae",
   "metadata": {},
   "source": [
    "* The Stirng value can be stored in\n",
    "   three ways\n",
    "    * In single quotes\n",
    "    * In double quotes\n",
    "    * In triple quotes"
   ]
  },
  {
   "cell_type": "code",
   "execution_count": 2,
   "id": "89697a1a",
   "metadata": {},
   "outputs": [
    {
     "data": {
      "text/plain": [
       "'Tuticorn has two words tuti and corn'"
      ]
     },
     "execution_count": 2,
     "metadata": {},
     "output_type": "execute_result"
    }
   ],
   "source": [
    "### Textutal data can be put in single quotes. \n",
    "### for example text_s_quote = 'Tuticorn has two words tuti and corn'\n",
    "text_s_quote = 'Tuticorn has two words tuti and corn'\n",
    "text_s_quote"
   ]
  },
  {
   "cell_type": "code",
   "execution_count": 4,
   "id": "fd1f7ae5",
   "metadata": {},
   "outputs": [
    {
     "data": {
      "text/plain": [
       "'Tuticorn has two words  tuti and corn'"
      ]
     },
     "execution_count": 4,
     "metadata": {},
     "output_type": "execute_result"
    }
   ],
   "source": [
    "#### Textual data can be put in double quotes. \n",
    "### For Example text_d_Quote = \"Tuticorn has two words tuti and corn\"\n",
    "text_d_Quote = \"Tuticorn has two words  tuti and corn\"\n",
    "text_d_Quote"
   ]
  },
  {
   "cell_type": "code",
   "execution_count": 8,
   "id": "64565c53",
   "metadata": {},
   "outputs": [
    {
     "data": {
      "text/plain": [
       "'Tuticorn has \\ntwo words \\n- tuti and corn'"
      ]
     },
     "execution_count": 8,
     "metadata": {},
     "output_type": "execute_result"
    }
   ],
   "source": [
    "#### Textual data can be put in triple quotes \n",
    "#### It can be multiple line also. \n",
    "#### For exampe text_tr_Quote = \"\"\" Tuticorn has two words tuti and corn \"\"\"\n",
    "text_tr_Quote = \"\"\"Tuticorn has \n",
    "two words \n",
    "- tuti and corn\"\"\"\n",
    "text_tr_Quote"
   ]
  },
  {
   "cell_type": "markdown",
   "id": "ad869d45",
   "metadata": {},
   "source": [
    "* Comprision Operators\n",
    "    * Less than(<)\n",
    "    * greater than (>)\n",
    "    * less than or equal to (<=)\n",
    "    * equal to (==)\n",
    "    * greater than or equal to (>=)\n",
    "    * Not equal to (!=)"
   ]
  },
  {
   "cell_type": "code",
   "execution_count": 110,
   "id": "9e9bf6b6",
   "metadata": {},
   "outputs": [
    {
     "data": {
      "text/plain": [
       "False"
      ]
     },
     "execution_count": 110,
     "metadata": {},
     "output_type": "execute_result"
    }
   ],
   "source": [
    "5 < 3"
   ]
  },
  {
   "cell_type": "code",
   "execution_count": 111,
   "id": "b407a427",
   "metadata": {},
   "outputs": [
    {
     "data": {
      "text/plain": [
       "True"
      ]
     },
     "execution_count": 111,
     "metadata": {},
     "output_type": "execute_result"
    }
   ],
   "source": [
    "9 > 4"
   ]
  },
  {
   "cell_type": "code",
   "execution_count": 112,
   "id": "fc01d3fb",
   "metadata": {},
   "outputs": [
    {
     "data": {
      "text/plain": [
       "True"
      ]
     },
     "execution_count": 112,
     "metadata": {},
     "output_type": "execute_result"
    }
   ],
   "source": [
    "10 >= 10"
   ]
  },
  {
   "cell_type": "code",
   "execution_count": 113,
   "id": "9a62bd0b",
   "metadata": {},
   "outputs": [
    {
     "data": {
      "text/plain": [
       "False"
      ]
     },
     "execution_count": 113,
     "metadata": {},
     "output_type": "execute_result"
    }
   ],
   "source": [
    "11 >= 15"
   ]
  },
  {
   "cell_type": "code",
   "execution_count": 114,
   "id": "14fd63bf",
   "metadata": {},
   "outputs": [
    {
     "data": {
      "text/plain": [
       "True"
      ]
     },
     "execution_count": 114,
     "metadata": {},
     "output_type": "execute_result"
    }
   ],
   "source": [
    "13 <= 14"
   ]
  },
  {
   "cell_type": "code",
   "execution_count": 115,
   "id": "fbe75290",
   "metadata": {},
   "outputs": [
    {
     "data": {
      "text/plain": [
       "False"
      ]
     },
     "execution_count": 115,
     "metadata": {},
     "output_type": "execute_result"
    }
   ],
   "source": [
    "12 == 14"
   ]
  },
  {
   "cell_type": "code",
   "execution_count": 116,
   "id": "2d0da06e",
   "metadata": {},
   "outputs": [
    {
     "data": {
      "text/plain": [
       "False"
      ]
     },
     "execution_count": 116,
     "metadata": {},
     "output_type": "execute_result"
    }
   ],
   "source": [
    "15 == 16"
   ]
  },
  {
   "cell_type": "code",
   "execution_count": 117,
   "id": "7dfe93dc",
   "metadata": {},
   "outputs": [
    {
     "data": {
      "text/plain": [
       "True"
      ]
     },
     "execution_count": 117,
     "metadata": {},
     "output_type": "execute_result"
    }
   ],
   "source": [
    "12 == 12"
   ]
  },
  {
   "cell_type": "code",
   "execution_count": 118,
   "id": "57d9800f",
   "metadata": {},
   "outputs": [
    {
     "data": {
      "text/plain": [
       "True"
      ]
     },
     "execution_count": 118,
     "metadata": {},
     "output_type": "execute_result"
    }
   ],
   "source": [
    "23 != 24"
   ]
  },
  {
   "cell_type": "code",
   "execution_count": 119,
   "id": "bed2c8be",
   "metadata": {},
   "outputs": [
    {
     "data": {
      "text/plain": [
       "False"
      ]
     },
     "execution_count": 119,
     "metadata": {},
     "output_type": "execute_result"
    }
   ],
   "source": [
    "23 != 23"
   ]
  },
  {
   "cell_type": "markdown",
   "id": "94ecfaa7",
   "metadata": {},
   "source": [
    "* Boolean Operators\n",
    "    * and\n",
    "    * or\n",
    "    * not"
   ]
  },
  {
   "cell_type": "code",
   "execution_count": 9,
   "id": "51bb8ae7",
   "metadata": {},
   "outputs": [
    {
     "data": {
      "text/plain": [
       "False"
      ]
     },
     "execution_count": 9,
     "metadata": {},
     "output_type": "execute_result"
    }
   ],
   "source": [
    "### Perform the operation as below for 'and' \n",
    "### operator- Check  (x > y) and (y > z) for output\n",
    "x = 5\n",
    "y = 2\n",
    "z = 3\n",
    "(x>y) and (y>z)"
   ]
  },
  {
   "cell_type": "code",
   "execution_count": 10,
   "id": "9f7936e4",
   "metadata": {},
   "outputs": [
    {
     "data": {
      "text/plain": [
       "True"
      ]
     },
     "execution_count": 10,
     "metadata": {},
     "output_type": "execute_result"
    }
   ],
   "source": [
    "#### Perform the operation as below for 'or' operator- \n",
    "### Check  (x > y) or (y > z) for output\n",
    "x > y or z > y"
   ]
  },
  {
   "cell_type": "code",
   "execution_count": 11,
   "id": "14855970",
   "metadata": {},
   "outputs": [
    {
     "name": "stdout",
     "output_type": "stream",
     "text": [
      "True\n"
     ]
    }
   ],
   "source": [
    "#### Perform the operation as below for not operator - Check x != y\n",
    "print(x!=y)\n"
   ]
  },
  {
   "cell_type": "markdown",
   "id": "e0244f1d",
   "metadata": {},
   "source": [
    "* Bitwise Operators"
   ]
  },
  {
   "cell_type": "code",
   "execution_count": 128,
   "id": "702a694c",
   "metadata": {},
   "outputs": [
    {
     "name": "stdout",
     "output_type": "stream",
     "text": [
      "0\n"
     ]
    }
   ],
   "source": [
    "#### Bitwise opearators AND \n",
    "####  (0&1 gives 0, 1&0 give 0, 1&1 give 1,0&0 gives 0)\n",
    "print(0&1)"
   ]
  },
  {
   "cell_type": "code",
   "execution_count": 127,
   "id": "f1bf5174",
   "metadata": {},
   "outputs": [
    {
     "name": "stdout",
     "output_type": "stream",
     "text": [
      "0\n"
     ]
    }
   ],
   "source": [
    "print(0&0)"
   ]
  },
  {
   "cell_type": "code",
   "execution_count": 11,
   "id": "0a091f48",
   "metadata": {},
   "outputs": [
    {
     "name": "stdout",
     "output_type": "stream",
     "text": [
      "0\n",
      "1\n"
     ]
    }
   ],
   "source": [
    "print(1^1) # <- XOR\n",
    "print(1|1) # <- OR Symbol"
   ]
  },
  {
   "cell_type": "code",
   "execution_count": 130,
   "id": "d3566b02",
   "metadata": {},
   "outputs": [
    {
     "name": "stdout",
     "output_type": "stream",
     "text": [
      "0\n"
     ]
    }
   ],
   "source": [
    "print(1&0)"
   ]
  }
 ],
 "metadata": {
  "kernelspec": {
   "display_name": "Python 3 (ipykernel)",
   "language": "python",
   "name": "python3"
  },
  "language_info": {
   "codemirror_mode": {
    "name": "ipython",
    "version": 3
   },
   "file_extension": ".py",
   "mimetype": "text/x-python",
   "name": "python",
   "nbconvert_exporter": "python",
   "pygments_lexer": "ipython3",
   "version": "3.10.10"
  }
 },
 "nbformat": 4,
 "nbformat_minor": 5
}
