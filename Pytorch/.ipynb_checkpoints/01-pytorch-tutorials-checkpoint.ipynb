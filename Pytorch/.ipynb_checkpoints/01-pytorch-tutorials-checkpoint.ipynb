{
 "cells": [
  {
   "cell_type": "markdown",
   "id": "ef8b0fde",
   "metadata": {},
   "source": [
    "### What is Pytorch"
   ]
  },
  {
   "cell_type": "markdown",
   "id": "b2674af1",
   "metadata": {},
   "source": [
    "- PyTorch is an optimized tensor library for deep learning using GPUs and CPUs.\n",
    "- PyTorch is mainly used by data scientists for research and artificial intelligence (AI) applications. "
   ]
  },
  {
   "cell_type": "markdown",
   "id": "9e3c1d68",
   "metadata": {},
   "source": [
    "**Tensor** - Tensor is a data structure representing multi-dimensional array. It is similar to a NumPy ndarray."
   ]
  },
  {
   "cell_type": "code",
   "execution_count": 12,
   "id": "e4e6935e",
   "metadata": {},
   "outputs": [],
   "source": [
    "import numpy as np"
   ]
  },
  {
   "cell_type": "code",
   "execution_count": 1,
   "id": "dbd833b9",
   "metadata": {},
   "outputs": [
    {
     "name": "stdout",
     "output_type": "stream",
     "text": [
      "tensor([[4.3053e+21, 1.4607e-19, 6.8801e+16],\n",
      "        [1.7841e+25, 1.7612e+19, 1.7260e+25]])\n"
     ]
    }
   ],
   "source": [
    "import torch\n",
    "x = torch.Tensor(2,3)  # Create an un-initialized Tensor of size 2x3\n",
    "print(x)                  # Print out the Tensor"
   ]
  },
  {
   "cell_type": "code",
   "execution_count": null,
   "id": "e82fe721",
   "metadata": {},
   "outputs": [],
   "source": [
    "## Ad two tensors"
   ]
  },
  {
   "cell_type": "code",
   "execution_count": 2,
   "id": "2253697c",
   "metadata": {},
   "outputs": [
    {
     "name": "stdout",
     "output_type": "stream",
     "text": [
      "tensor([[1.1632e+33, 8.3073e-01, 7.4086e+28],\n",
      "        [7.1463e+22, 4.6241e+30, 1.0552e+24]])\n"
     ]
    }
   ],
   "source": [
    "import torch\n",
    "\n",
    "# Initialize\n",
    "\n",
    "x = torch.Tensor(2, 3)  # An un-initialized Tensor object. \n",
    "y = torch.rand(2, 3)    # Initialize with random values\n",
    "\n",
    "# Operations\n",
    "\n",
    "z1 = x + y\n",
    "z2 = torch.add(x, y)             # Same as above\n",
    "\n",
    "print(z2)        "
   ]
  },
  {
   "cell_type": "raw",
   "id": "26b76d4d",
   "metadata": {},
   "source": [
    "Operations\n",
    "\n",
    "The syntax on a tensor operation:"
   ]
  },
  {
   "cell_type": "code",
   "execution_count": 4,
   "id": "a42a0fc0",
   "metadata": {},
   "outputs": [
    {
     "data": {
      "text/plain": [
       "True"
      ]
     },
     "execution_count": 4,
     "metadata": {},
     "output_type": "execute_result"
    }
   ],
   "source": [
    "torch.is_tensor(z2)"
   ]
  },
  {
   "cell_type": "markdown",
   "id": "1468be21",
   "metadata": {},
   "source": [
    "- In place operation"
   ]
  },
  {
   "cell_type": "code",
   "execution_count": 5,
   "id": "40fc7a4d",
   "metadata": {},
   "outputs": [
    {
     "data": {
      "text/plain": [
       "tensor([[1.1632e+33, 8.3073e-01, 7.4086e+28],\n",
       "        [7.1463e+22, 4.6241e+30, 1.0552e+24]])"
      ]
     },
     "execution_count": 5,
     "metadata": {},
     "output_type": "execute_result"
    }
   ],
   "source": [
    "x.add_(y)        # Same as x = x + y"
   ]
  },
  {
   "cell_type": "markdown",
   "id": "8f0d0b3c",
   "metadata": {},
   "source": [
    "- out parameter\n",
    "  - We can assign the operation result to a variable. Alternatively, all operation methods have an out parameter to store the result."
   ]
  },
  {
   "cell_type": "code",
   "execution_count": 6,
   "id": "4b236a52",
   "metadata": {},
   "outputs": [
    {
     "data": {
      "text/plain": [
       "tensor([[1.1632e+33, 1.6615e+00, 7.4086e+28],\n",
       "        [7.1463e+22, 4.6241e+30, 1.0552e+24]])"
      ]
     },
     "execution_count": 6,
     "metadata": {},
     "output_type": "execute_result"
    }
   ],
   "source": [
    "r1 = torch.Tensor(2, 3)\n",
    "torch.add(x, y, out=r1) "
   ]
  },
  {
   "cell_type": "code",
   "execution_count": 7,
   "id": "8f1b3fc3",
   "metadata": {},
   "outputs": [],
   "source": [
    "r2 = torch.add(x, y)"
   ]
  },
  {
   "cell_type": "markdown",
   "id": "4c2222fb",
   "metadata": {},
   "source": [
    "**Indexing**\n",
    "\n",
    "We can use the NumPy indexing in Tensors:"
   ]
  },
  {
   "cell_type": "code",
   "execution_count": 9,
   "id": "b7f91620",
   "metadata": {},
   "outputs": [],
   "source": [
    "x[:,1]\n",
    "x[:,0] = 0"
   ]
  },
  {
   "cell_type": "code",
   "execution_count": 10,
   "id": "8c1ce559",
   "metadata": {},
   "outputs": [
    {
     "data": {
      "text/plain": [
       "tensor([[0.0000e+00, 8.3073e-01, 7.4086e+28],\n",
       "        [0.0000e+00, 4.6241e+30, 1.0552e+24]])"
      ]
     },
     "execution_count": 10,
     "metadata": {},
     "output_type": "execute_result"
    }
   ],
   "source": [
    "x"
   ]
  },
  {
   "cell_type": "markdown",
   "id": "9846edb7",
   "metadata": {},
   "source": [
    "**Conversion between NumPy ndarray and Tensor**\n",
    "- During the conversion, both ndarray and Tensor share the same memory storage."
   ]
  },
  {
   "cell_type": "code",
   "execution_count": 13,
   "id": "07f69889",
   "metadata": {},
   "outputs": [],
   "source": [
    "a = np.array([1, 2, 3])\n",
    "v = torch.from_numpy(a)         # Convert a numpy array to a Tensor"
   ]
  },
  {
   "cell_type": "code",
   "execution_count": 14,
   "id": "5b8f64ab",
   "metadata": {},
   "outputs": [],
   "source": [
    "b = v.numpy()     #Tensor to numpy"
   ]
  },
  {
   "cell_type": "code",
   "execution_count": 15,
   "id": "553c9549",
   "metadata": {},
   "outputs": [
    {
     "data": {
      "text/plain": [
       "array([1, 2, 3])"
      ]
     },
     "execution_count": 15,
     "metadata": {},
     "output_type": "execute_result"
    }
   ],
   "source": [
    "b"
   ]
  },
  {
   "cell_type": "markdown",
   "id": "f2b4a804",
   "metadata": {},
   "source": [
    "- Size of the Tensor and number of elements in Tensor:"
   ]
  },
  {
   "cell_type": "code",
   "execution_count": 16,
   "id": "3bd2e8b8",
   "metadata": {},
   "outputs": [
    {
     "name": "stdout",
     "output_type": "stream",
     "text": [
      "torch.Size([2, 3])\n"
     ]
    },
    {
     "data": {
      "text/plain": [
       "6"
      ]
     },
     "execution_count": 16,
     "metadata": {},
     "output_type": "execute_result"
    }
   ],
   "source": [
    "print(x.size())\n",
    "torch.numel(x) # number of elements in x"
   ]
  },
  {
   "cell_type": "markdown",
   "id": "5520d78b",
   "metadata": {},
   "source": [
    "- Reshape Tensor"
   ]
  },
  {
   "cell_type": "code",
   "execution_count": 19,
   "id": "44c93b6d",
   "metadata": {},
   "outputs": [],
   "source": [
    "x = torch.randn(2,3)\n",
    "y = x.view(6)                    # Resize x to size 6\n",
    "z = x.view(-1, 2)                # Size 3x2"
   ]
  },
  {
   "cell_type": "code",
   "execution_count": 21,
   "id": "1f244ba2",
   "metadata": {},
   "outputs": [
    {
     "name": "stdout",
     "output_type": "stream",
     "text": [
      "tensor([[ 1.4105,  1.3926, -0.4721],\n",
      "        [-1.0297,  0.2733, -0.7442]])\n",
      "tensor([ 1.4105,  1.3926, -0.4721, -1.0297,  0.2733, -0.7442])\n",
      "tensor([[ 1.4105,  1.3926],\n",
      "        [-0.4721, -1.0297],\n",
      "        [ 0.2733, -0.7442]])\n"
     ]
    }
   ],
   "source": [
    "print(x)\n",
    "print(y)\n",
    "print(z)"
   ]
  },
  {
   "cell_type": "markdown",
   "id": "a04dffce",
   "metadata": {},
   "source": [
    "**Creating a Tensor**"
   ]
  },
  {
   "cell_type": "code",
   "execution_count": 25,
   "id": "1d627e5d",
   "metadata": {},
   "outputs": [],
   "source": [
    "v1 = torch.Tensor(2, 3)          # An un-initialized torch.FloatTensor of size 2x3\n",
    "v2 = torch.Tensor([[1,2],[4,5]]) # A Tensor initialized with a specific array\n",
    "v3 = torch.LongTensor([1,2,3])   # A Tensor of type Long"
   ]
  },
  {
   "cell_type": "code",
   "execution_count": 26,
   "id": "87e35dcd",
   "metadata": {},
   "outputs": [
    {
     "name": "stdout",
     "output_type": "stream",
     "text": [
      "tensor([[0.0000e+00, 1.3926e+00, 1.0440e+21],\n",
      "        [5.3775e+22, 6.7410e+22, 1.7567e-04]])\n",
      "tensor([[1., 2.],\n",
      "        [4., 5.]])\n",
      "tensor([1, 2, 3])\n"
     ]
    }
   ],
   "source": [
    "print(v1)\n",
    "print(v2)\n",
    "print(v3)"
   ]
  },
  {
   "cell_type": "markdown",
   "id": "cb5d60d0",
   "metadata": {},
   "source": [
    "**Create a random Tensor**"
   ]
  },
  {
   "cell_type": "code",
   "execution_count": 27,
   "id": "ea4ef5b9",
   "metadata": {},
   "outputs": [],
   "source": [
    "torch.manual_seed(123)\n",
    "v1 = torch.rand(2, 3)            # Initialize with random number (uniform distribution)\n",
    "v2 = torch.randn(2, 3)           # With normal distribution (SD=1, mean=0)\n",
    "v3 = torch.randperm(4)           # Size 4. Random permutation of integers from 0 to 3"
   ]
  },
  {
   "cell_type": "code",
   "execution_count": 28,
   "id": "6fb9cd46",
   "metadata": {},
   "outputs": [
    {
     "name": "stdout",
     "output_type": "stream",
     "text": [
      "tensor([[0.2961, 0.5166, 0.2517],\n",
      "        [0.6886, 0.0740, 0.8665]])\n",
      "tensor([[ 0.9447,  0.6217, -1.3501],\n",
      "        [-0.1881, -2.3891, -0.4759]])\n",
      "tensor([1, 2, 0, 3])\n"
     ]
    }
   ],
   "source": [
    "print(v1)\n",
    "print(v2)\n",
    "print(v3)"
   ]
  },
  {
   "cell_type": "code",
   "execution_count": 29,
   "id": "27c6693e",
   "metadata": {},
   "outputs": [],
   "source": [
    "x = torch.randn(5, 3).type(torch.FloatTensor)"
   ]
  },
  {
   "cell_type": "code",
   "execution_count": 33,
   "id": "6effb788",
   "metadata": {},
   "outputs": [
    {
     "name": "stdout",
     "output_type": "stream",
     "text": [
      "<class 'torch.Tensor'>\n",
      "tensor([[-0.0596, -1.9858, -0.2109],\n",
      "        [ 1.9667, -0.8350,  2.0298],\n",
      "        [-0.6830, -0.9002,  0.4694],\n",
      "        [-0.6276,  1.0775, -1.3988],\n",
      "        [ 0.9829,  1.0080, -1.9020]])\n"
     ]
    }
   ],
   "source": [
    "print(type(x))\n",
    "print(x)"
   ]
  },
  {
   "cell_type": "code",
   "execution_count": null,
   "id": "ebb643e2",
   "metadata": {},
   "outputs": [],
   "source": []
  },
  {
   "cell_type": "code",
   "execution_count": null,
   "id": "ffda5287",
   "metadata": {},
   "outputs": [],
   "source": [
    "Referencess: \n",
    "        https://pytorch.org/tutorials/\n",
    "        https://jhui.github.io/2018/02/09/PyTorch-Basic-operations/\n",
    "        https://jhui.github.io/2018/02/09/PyTorch-Variables-functionals-and-Autograd/"
   ]
  }
 ],
 "metadata": {
  "kernelspec": {
   "display_name": "Python 3 (ipykernel)",
   "language": "python",
   "name": "python3"
  },
  "language_info": {
   "codemirror_mode": {
    "name": "ipython",
    "version": 3
   },
   "file_extension": ".py",
   "mimetype": "text/x-python",
   "name": "python",
   "nbconvert_exporter": "python",
   "pygments_lexer": "ipython3",
   "version": "3.10.10"
  }
 },
 "nbformat": 4,
 "nbformat_minor": 5
}
