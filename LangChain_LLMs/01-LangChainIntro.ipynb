{
 "cells": [
  {
   "cell_type": "markdown",
   "id": "afee9ba7",
   "metadata": {},
   "source": [
    "#### In this notebook we shall use the OpenAI and HuggingFace API"
   ]
  },
  {
   "cell_type": "markdown",
   "id": "77e729a2",
   "metadata": {},
   "source": [
    "* What is API ?\n",
    "  - API means **A**pplication **P**rogramming **I**nterface"
   ]
  },
  {
   "cell_type": "code",
   "execution_count": 28,
   "id": "de653952",
   "metadata": {},
   "outputs": [],
   "source": [
    "! pip install -r ./requirements.txt -q"
   ]
  },
  {
   "cell_type": "code",
   "execution_count": null,
   "id": "dc2e5fe3",
   "metadata": {},
   "outputs": [],
   "source": [
    "! pip show langchain"
   ]
  },
  {
   "cell_type": "code",
   "execution_count": 2,
   "id": "333e1551",
   "metadata": {},
   "outputs": [
    {
     "data": {
      "text/plain": [
       "'f1f87cd6-26cb-4ec4-b202-d7c8ff7f2645'"
      ]
     },
     "execution_count": 2,
     "metadata": {},
     "output_type": "execute_result"
    }
   ],
   "source": [
    "import os\n",
    "from dotenv import load_dotenv,find_dotenv\n",
    "\n",
    "load_dotenv(find_dotenv(),override=True)\n",
    "os.environ.get('PINECONE_API_KEY')"
   ]
  },
  {
   "cell_type": "code",
   "execution_count": 2,
   "id": "cb3770bd",
   "metadata": {},
   "outputs": [],
   "source": [
    "OPENAI_API_KEY = os.environ.get('OPENAI_API_KEY')"
   ]
  },
  {
   "cell_type": "code",
   "execution_count": 3,
   "id": "4689e1d9",
   "metadata": {},
   "outputs": [
    {
     "name": "stdout",
     "output_type": "stream",
     "text": [
      "\u001b[1mOpenAI\u001b[0m\n",
      "Params: {'model_name': 'text-davinci-003', 'temperature': 0.7, 'max_tokens': 512, 'top_p': 1, 'frequency_penalty': 0, 'presence_penalty': 0, 'n': 1, 'request_timeout': None, 'logit_bias': {}}\n"
     ]
    }
   ],
   "source": [
    "from langchain.llms import OpenAI\n",
    "llm = OpenAI(openai_api_key=OPENAI_API_KEY,\n",
    "             model_name='text-davinci-003',temperature=0.7,max_tokens=512)\n",
    "print(llm)"
   ]
  },
  {
   "cell_type": "code",
   "execution_count": 4,
   "id": "baa9f6f0",
   "metadata": {},
   "outputs": [
    {
     "name": "stdout",
     "output_type": "stream",
     "text": [
      "\n",
      "\n",
      "2 + 5 = 7\n"
     ]
    }
   ],
   "source": [
    "response = llm(' Compute the sum of 2 and 5')\n",
    "print(response)"
   ]
  },
  {
   "cell_type": "code",
   "execution_count": 5,
   "id": "7e90e492",
   "metadata": {},
   "outputs": [
    {
     "name": "stdout",
     "output_type": "stream",
     "text": [
      "\n",
      "\n",
      "Photosynthesis is the process by which plants, algae, and some bacteria use the energy from sunlight to convert water and carbon dioxide into carbohydrates and oxygen. The carbohydrates can be used by the organism as an energy source, while the oxygen is released into the atmosphere. Photosynthesis is a key process in the carbon cycle, and is essential for life on Earth as it provides the oxygen necessary for most organisms to breathe and the sugars necessary for energy.\n"
     ]
    }
   ],
   "source": [
    "response = llm('Explain what is photosynthesis')\n",
    "print(response)"
   ]
  },
  {
   "cell_type": "markdown",
   "id": "2928f7d2",
   "metadata": {},
   "source": [
    "#### Using HuggingFace API "
   ]
  },
  {
   "cell_type": "code",
   "execution_count": 4,
   "id": "0d8343d8",
   "metadata": {},
   "outputs": [],
   "source": [
    "import os\n",
    "huggingface_api_key = os.environ.get('HUGGINGFACEHUB_API_TOKEN')"
   ]
  },
  {
   "cell_type": "code",
   "execution_count": 5,
   "id": "a540ea55",
   "metadata": {},
   "outputs": [],
   "source": [
    "from langchain.llms import HuggingFaceHub"
   ]
  },
  {
   "cell_type": "code",
   "execution_count": 22,
   "id": "7571c324",
   "metadata": {},
   "outputs": [],
   "source": [
    "HFllm = HuggingFaceHub(repo_id = 'google/flan-t5-xxl')"
   ]
  },
  {
   "cell_type": "code",
   "execution_count": 27,
   "id": "9de46f36",
   "metadata": {},
   "outputs": [
    {
     "name": "stdout",
     "output_type": "stream",
     "text": [
      "26\n"
     ]
    }
   ],
   "source": [
    "response = HFllm('How many aplhabets are there in English language')\n",
    "print(response)"
   ]
  },
  {
   "cell_type": "markdown",
   "id": "6729b236",
   "metadata": {},
   "source": [
    "#### Using OpenAI ChatGPT 3.5 from the jupyter notebook"
   ]
  },
  {
   "cell_type": "code",
   "execution_count": 29,
   "id": "dd43d830",
   "metadata": {},
   "outputs": [],
   "source": [
    "from langchain.schema import(\n",
    "    AIMessage,\n",
    "    HumanMessage,\n",
    "    SystemMessage\n",
    ")\n",
    "from langchain.chat_models import ChatOpenAI"
   ]
  },
  {
   "cell_type": "code",
   "execution_count": 31,
   "id": "d44e8cba",
   "metadata": {},
   "outputs": [
    {
     "name": "stdout",
     "output_type": "stream",
     "text": [
      "content='पानी पूरी एक प्रसिद्ध भारतीय सड़ीयों में से एक है, जिसमें कुछ चने, आलू, मसाले और हरे धनिये के साथ छोटे-छोटे पुरी होती हैं। इसे खाने के लिए पुरी को थोड़ा सा धीरे-धीरे धलवा के पानी में डुबोकर खाया जाता है, जिससे यह एक रंगीन और स्वादिष्ट स्नाक हो जाती है।' additional_kwargs={} example=False\n"
     ]
    }
   ],
   "source": [
    "conv = ChatOpenAI(model_name='gpt-3.5-turbo', max_tokens=512)\n",
    "messages = [\n",
    "    SystemMessage(content='You are pani puri seller and respond only in Hindi'),\n",
    "    HumanMessage(content='What is pani puri ? Explain in 50 words')\n",
    "]\n",
    "response = conv(messages)\n",
    "print(response)"
   ]
  },
  {
   "cell_type": "code",
   "execution_count": null,
   "id": "e2fc39ae",
   "metadata": {},
   "outputs": [],
   "source": []
  },
  {
   "cell_type": "code",
   "execution_count": null,
   "id": "c5dd1dff",
   "metadata": {},
   "outputs": [],
   "source": []
  }
 ],
 "metadata": {
  "kernelspec": {
   "display_name": "Python 3 (ipykernel)",
   "language": "python",
   "name": "python3"
  },
  "language_info": {
   "codemirror_mode": {
    "name": "ipython",
    "version": 3
   },
   "file_extension": ".py",
   "mimetype": "text/x-python",
   "name": "python",
   "nbconvert_exporter": "python",
   "pygments_lexer": "ipython3",
   "version": "3.10.10"
  }
 },
 "nbformat": 4,
 "nbformat_minor": 5
}
