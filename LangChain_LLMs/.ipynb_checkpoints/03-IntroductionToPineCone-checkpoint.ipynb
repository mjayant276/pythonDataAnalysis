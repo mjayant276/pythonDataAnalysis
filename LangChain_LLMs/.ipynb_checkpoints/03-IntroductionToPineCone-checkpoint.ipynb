{
 "cells": [
  {
   "cell_type": "markdown",
   "id": "15acbe59",
   "metadata": {},
   "source": [
    "#### In this notebook we shall deal with the pinecone vector database and work with the vector databases"
   ]
  },
  {
   "cell_type": "code",
   "execution_count": 6,
   "id": "7a43dfc3",
   "metadata": {},
   "outputs": [],
   "source": [
    "import os \n",
    "from dotenv import load_dotenv,find_dotenv\n",
    "import pinecone\n",
    "from tqdm.autonotebook import tqdm"
   ]
  },
  {
   "cell_type": "markdown",
   "id": "819969eb",
   "metadata": {},
   "source": [
    "- load the env file using `dotenv` library"
   ]
  },
  {
   "cell_type": "code",
   "execution_count": 7,
   "id": "0fb75021",
   "metadata": {},
   "outputs": [
    {
     "data": {
      "text/plain": [
       "True"
      ]
     },
     "execution_count": 7,
     "metadata": {},
     "output_type": "execute_result"
    }
   ],
   "source": [
    "load_dotenv(find_dotenv(),override=True)"
   ]
  },
  {
   "cell_type": "markdown",
   "id": "e76b2176",
   "metadata": {},
   "source": [
    "- initialize the pinecone library"
   ]
  },
  {
   "cell_type": "code",
   "execution_count": 8,
   "id": "3813e7b3",
   "metadata": {},
   "outputs": [
    {
     "data": {
      "text/plain": [
       "VersionResponse(server='2.0.11', client='2.2.2')"
      ]
     },
     "execution_count": 8,
     "metadata": {},
     "output_type": "execute_result"
    }
   ],
   "source": [
    "pinecone.init(\n",
    "    api_key = os.environ.get('PINECONE_API_KEY'),\n",
    "    environment = os.environ.get('PINECONE_ENV')\n",
    ")\n",
    "pinecone.info.version()"
   ]
  },
  {
   "cell_type": "code",
   "execution_count": null,
   "id": "ec87a158",
   "metadata": {},
   "outputs": [],
   "source": []
  }
 ],
 "metadata": {
  "kernelspec": {
   "display_name": "Python 3 (ipykernel)",
   "language": "python",
   "name": "python3"
  },
  "language_info": {
   "codemirror_mode": {
    "name": "ipython",
    "version": 3
   },
   "file_extension": ".py",
   "mimetype": "text/x-python",
   "name": "python",
   "nbconvert_exporter": "python",
   "pygments_lexer": "ipython3",
   "version": "3.10.10"
  }
 },
 "nbformat": 4,
 "nbformat_minor": 5
}
