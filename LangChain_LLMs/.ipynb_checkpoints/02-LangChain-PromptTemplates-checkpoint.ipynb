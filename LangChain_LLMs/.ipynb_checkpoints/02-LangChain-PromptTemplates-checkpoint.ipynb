{
 "cells": [
  {
   "cell_type": "markdown",
   "id": "48e185af",
   "metadata": {},
   "source": [
    "* In this notebook we shall learn about **Prompt Template** in langchain"
   ]
  },
  {
   "cell_type": "markdown",
   "id": "c4703bf9",
   "metadata": {},
   "source": [
    "- We import dotenv library to load the environment variables into the current session of jupyter notebook"
   ]
  },
  {
   "cell_type": "code",
   "execution_count": 1,
   "id": "23c3b15e",
   "metadata": {},
   "outputs": [],
   "source": [
    "import os\n",
    "from dotenv import load_dotenv,find_dotenv\n",
    "\n",
    "load_dotenv(find_dotenv(),override=True)\n",
    "OPENAI_API_KEY = os.environ.get('OPENAI_API_KEY')"
   ]
  },
  {
   "cell_type": "markdown",
   "id": "d846e472",
   "metadata": {},
   "source": [
    "- let us import the `langchain PromptTemplate` module \n",
    "  - `PromptTemplate` can be used to pass dynamic varaible value to prompt and get the appropriate responses"
   ]
  },
  {
   "cell_type": "markdown",
   "id": "f02b08e2",
   "metadata": {},
   "source": [
    "To create a promptTemplate and use in the LLM \n",
    "  - Step 1 : Create a prompt object using the PromptTemplate\n",
    "  - Step 2 : Create a LLM object      "
   ]
  },
  {
   "cell_type": "code",
   "execution_count": 5,
   "id": "d20265fb",
   "metadata": {},
   "outputs": [],
   "source": [
    "from langchain import PromptTemplate"
   ]
  },
  {
   "cell_type": "markdown",
   "id": "342e62b3",
   "metadata": {},
   "source": [
    "- Step 1:"
   ]
  },
  {
   "cell_type": "code",
   "execution_count": 9,
   "id": "55d8b588",
   "metadata": {},
   "outputs": [],
   "source": [
    "prompt_temp = ''' You are now a experienced cook.\n",
    "Provide the recipe of the {menuitem} and how it is made in {country} and \n",
    "give the output in the {language}\n",
    "'''\n",
    "prompt = PromptTemplate(\n",
    "         input_variables = ['menuitem','country','language'],\n",
    "         template = prompt_temp\n",
    ")"
   ]
  },
  {
   "cell_type": "markdown",
   "id": "854af70b",
   "metadata": {},
   "source": [
    "- Step 2 :"
   ]
  },
  {
   "cell_type": "code",
   "execution_count": 10,
   "id": "16cc7df8",
   "metadata": {},
   "outputs": [
    {
     "name": "stdout",
     "output_type": "stream",
     "text": [
      "\n",
      "Pani Puri Recipe:\n",
      "\n",
      "सामग्री: \n",
      "- 2 कप आटा\n",
      "- 2 चम्मच तेल\n",
      "- 1 चम्मच नुस्खा मिर्च\n",
      "- 1 चम्मच हल्दी\n",
      "- नमक स्वादानुसार\n",
      "- 2 कप पानी \n",
      "\n",
      "तरीका: \n",
      "1. आटा और तेल को एक मिश्रण बनाएं।\n",
      "2. इसे एक कठोर आटे की तरह म\n"
     ]
    }
   ],
   "source": [
    "from langchain.llms import OpenAI\n",
    "llm = OpenAI(model_name='text-davinci-003', temperature=0.5)\n",
    "response = llm(prompt.format(menuitem='Pani Puri',country='India',language='Hindi'))\n",
    "print(response)"
   ]
  },
  {
   "cell_type": "code",
   "execution_count": 11,
   "id": "5d8b6cf7",
   "metadata": {},
   "outputs": [
    {
     "name": "stdout",
     "output_type": "stream",
     "text": [
      "\n",
      "Ricetta per Chapati: \n",
      "\n",
      "Ingredienti: \n",
      "- 2 tazze di farina di grano tenero \n",
      "- 1 cucchiaino di sale \n",
      "- 2 cucchiai di olio di semi di girasole \n",
      "- ¾ tazza di acqua calda \n",
      "\n",
      "Procedimento: \n",
      "1. In una ciotola mescolare la farina di grano tenero, il sale e l'olio di semi di girasole. \n",
      "2. Aggiungere l'acqua calda poco alla volta e mescolare fino a quando non si ottiene un impasto liscio ed elastico. \n",
      "3. Coprire la ciotola con un canovaccio e lasciare riposare l'impasto per circa 20 minuti. \n",
      "4. Dividere l'impasto in 8 parti uguali e formare delle palline. \n",
      "5. Prendere una pallina alla volta e stenderla su una superficie infarin\n"
     ]
    }
   ],
   "source": [
    "response = llm(prompt.format(menuitem='Chapati',country='Italy',language='Italian'))\n",
    "print(response)"
   ]
  },
  {
   "cell_type": "code",
   "execution_count": null,
   "id": "df4860ff",
   "metadata": {},
   "outputs": [],
   "source": []
  }
 ],
 "metadata": {
  "kernelspec": {
   "display_name": "Python 3 (ipykernel)",
   "language": "python",
   "name": "python3"
  },
  "language_info": {
   "codemirror_mode": {
    "name": "ipython",
    "version": 3
   },
   "file_extension": ".py",
   "mimetype": "text/x-python",
   "name": "python",
   "nbconvert_exporter": "python",
   "pygments_lexer": "ipython3",
   "version": "3.10.10"
  }
 },
 "nbformat": 4,
 "nbformat_minor": 5
}
