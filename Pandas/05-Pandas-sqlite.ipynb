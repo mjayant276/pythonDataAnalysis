{
 "cells": [
  {
   "cell_type": "markdown",
   "id": "7ccd2acb",
   "metadata": {},
   "source": [
    "<h6>Pandas sqlite</h6>\n"
   ]
  },
  {
   "cell_type": "code",
   "execution_count": 1,
   "id": "a9b611ca",
   "metadata": {},
   "outputs": [
    {
     "data": {
      "text/plain": [
       "'C:\\\\Users\\\\Jayanth\\\\Python_DataAnalysis\\\\Pandas'"
      ]
     },
     "execution_count": 1,
     "metadata": {},
     "output_type": "execute_result"
    }
   ],
   "source": [
    "import os \n",
    "os.getcwd()"
   ]
  },
  {
   "cell_type": "code",
   "execution_count": 2,
   "id": "0bd4053d",
   "metadata": {},
   "outputs": [],
   "source": [
    "#filename: covid19_details.csv\n",
    "import pandas as pd\n",
    "\n",
    "df = pd.read_csv(\"covid19_details.csv\", encoding=\"ISO-8859-1\")"
   ]
  },
  {
   "cell_type": "code",
   "execution_count": 4,
   "id": "3169d77d",
   "metadata": {},
   "outputs": [
    {
     "data": {
      "text/plain": [
       "dateRep                    7320\n",
       "day                        7320\n",
       "month                      7320\n",
       "year                       7320\n",
       "cases                      7320\n",
       "deaths                     7320\n",
       "countriesAndTerritories    7320\n",
       "geoId                      7306\n",
       "countryterritoryCode       7254\n",
       "popData2018                7311\n",
       "dtype: int64"
      ]
     },
     "execution_count": 4,
     "metadata": {},
     "output_type": "execute_result"
    }
   ],
   "source": [
    "df.count()"
   ]
  },
  {
   "cell_type": "code",
   "execution_count": 6,
   "id": "58f0e38a",
   "metadata": {},
   "outputs": [],
   "source": [
    "mac_df = df[df['countriesAndTerritories']==\"North_Macedonia\"]"
   ]
  },
  {
   "cell_type": "code",
   "execution_count": 7,
   "id": "d67a47c7",
   "metadata": {},
   "outputs": [
    {
     "data": {
      "text/html": [
       "<div>\n",
       "<style scoped>\n",
       "    .dataframe tbody tr th:only-of-type {\n",
       "        vertical-align: middle;\n",
       "    }\n",
       "\n",
       "    .dataframe tbody tr th {\n",
       "        vertical-align: top;\n",
       "    }\n",
       "\n",
       "    .dataframe thead th {\n",
       "        text-align: right;\n",
       "    }\n",
       "</style>\n",
       "<table border=\"1\" class=\"dataframe\">\n",
       "  <thead>\n",
       "    <tr style=\"text-align: right;\">\n",
       "      <th></th>\n",
       "      <th>dateRep</th>\n",
       "      <th>day</th>\n",
       "      <th>month</th>\n",
       "      <th>year</th>\n",
       "      <th>cases</th>\n",
       "      <th>deaths</th>\n",
       "      <th>countriesAndTerritories</th>\n",
       "      <th>geoId</th>\n",
       "      <th>countryterritoryCode</th>\n",
       "      <th>popData2018</th>\n",
       "    </tr>\n",
       "  </thead>\n",
       "  <tbody>\n",
       "    <tr>\n",
       "      <th>4982</th>\n",
       "      <td>28/03/2020</td>\n",
       "      <td>28</td>\n",
       "      <td>3</td>\n",
       "      <td>2020</td>\n",
       "      <td>18</td>\n",
       "      <td>0</td>\n",
       "      <td>North_Macedonia</td>\n",
       "      <td>MK</td>\n",
       "      <td>MKD</td>\n",
       "      <td>2082958.0</td>\n",
       "    </tr>\n",
       "    <tr>\n",
       "      <th>4983</th>\n",
       "      <td>27/03/2020</td>\n",
       "      <td>27</td>\n",
       "      <td>3</td>\n",
       "      <td>2020</td>\n",
       "      <td>24</td>\n",
       "      <td>1</td>\n",
       "      <td>North_Macedonia</td>\n",
       "      <td>MK</td>\n",
       "      <td>MKD</td>\n",
       "      <td>2082958.0</td>\n",
       "    </tr>\n",
       "    <tr>\n",
       "      <th>4984</th>\n",
       "      <td>26/03/2020</td>\n",
       "      <td>26</td>\n",
       "      <td>3</td>\n",
       "      <td>2020</td>\n",
       "      <td>29</td>\n",
       "      <td>0</td>\n",
       "      <td>North_Macedonia</td>\n",
       "      <td>MK</td>\n",
       "      <td>MKD</td>\n",
       "      <td>2082958.0</td>\n",
       "    </tr>\n",
       "    <tr>\n",
       "      <th>4985</th>\n",
       "      <td>25/03/2020</td>\n",
       "      <td>25</td>\n",
       "      <td>3</td>\n",
       "      <td>2020</td>\n",
       "      <td>12</td>\n",
       "      <td>0</td>\n",
       "      <td>North_Macedonia</td>\n",
       "      <td>MK</td>\n",
       "      <td>MKD</td>\n",
       "      <td>2082958.0</td>\n",
       "    </tr>\n",
       "    <tr>\n",
       "      <th>4986</th>\n",
       "      <td>24/03/2020</td>\n",
       "      <td>24</td>\n",
       "      <td>3</td>\n",
       "      <td>2020</td>\n",
       "      <td>22</td>\n",
       "      <td>1</td>\n",
       "      <td>North_Macedonia</td>\n",
       "      <td>MK</td>\n",
       "      <td>MKD</td>\n",
       "      <td>2082958.0</td>\n",
       "    </tr>\n",
       "    <tr>\n",
       "      <th>...</th>\n",
       "      <td>...</td>\n",
       "      <td>...</td>\n",
       "      <td>...</td>\n",
       "      <td>...</td>\n",
       "      <td>...</td>\n",
       "      <td>...</td>\n",
       "      <td>...</td>\n",
       "      <td>...</td>\n",
       "      <td>...</td>\n",
       "      <td>...</td>\n",
       "    </tr>\n",
       "    <tr>\n",
       "      <th>5057</th>\n",
       "      <td>04/01/2020</td>\n",
       "      <td>4</td>\n",
       "      <td>1</td>\n",
       "      <td>2020</td>\n",
       "      <td>0</td>\n",
       "      <td>0</td>\n",
       "      <td>North_Macedonia</td>\n",
       "      <td>MK</td>\n",
       "      <td>MKD</td>\n",
       "      <td>2082958.0</td>\n",
       "    </tr>\n",
       "    <tr>\n",
       "      <th>5058</th>\n",
       "      <td>03/01/2020</td>\n",
       "      <td>3</td>\n",
       "      <td>1</td>\n",
       "      <td>2020</td>\n",
       "      <td>0</td>\n",
       "      <td>0</td>\n",
       "      <td>North_Macedonia</td>\n",
       "      <td>MK</td>\n",
       "      <td>MKD</td>\n",
       "      <td>2082958.0</td>\n",
       "    </tr>\n",
       "    <tr>\n",
       "      <th>5059</th>\n",
       "      <td>02/01/2020</td>\n",
       "      <td>2</td>\n",
       "      <td>1</td>\n",
       "      <td>2020</td>\n",
       "      <td>0</td>\n",
       "      <td>0</td>\n",
       "      <td>North_Macedonia</td>\n",
       "      <td>MK</td>\n",
       "      <td>MKD</td>\n",
       "      <td>2082958.0</td>\n",
       "    </tr>\n",
       "    <tr>\n",
       "      <th>5060</th>\n",
       "      <td>01/01/2020</td>\n",
       "      <td>1</td>\n",
       "      <td>1</td>\n",
       "      <td>2020</td>\n",
       "      <td>0</td>\n",
       "      <td>0</td>\n",
       "      <td>North_Macedonia</td>\n",
       "      <td>MK</td>\n",
       "      <td>MKD</td>\n",
       "      <td>2082958.0</td>\n",
       "    </tr>\n",
       "    <tr>\n",
       "      <th>5061</th>\n",
       "      <td>31/12/2019</td>\n",
       "      <td>31</td>\n",
       "      <td>12</td>\n",
       "      <td>2019</td>\n",
       "      <td>0</td>\n",
       "      <td>0</td>\n",
       "      <td>North_Macedonia</td>\n",
       "      <td>MK</td>\n",
       "      <td>MKD</td>\n",
       "      <td>2082958.0</td>\n",
       "    </tr>\n",
       "  </tbody>\n",
       "</table>\n",
       "<p>80 rows × 10 columns</p>\n",
       "</div>"
      ],
      "text/plain": [
       "         dateRep  day  month  year  cases  deaths countriesAndTerritories  \\\n",
       "4982  28/03/2020   28      3  2020     18       0         North_Macedonia   \n",
       "4983  27/03/2020   27      3  2020     24       1         North_Macedonia   \n",
       "4984  26/03/2020   26      3  2020     29       0         North_Macedonia   \n",
       "4985  25/03/2020   25      3  2020     12       0         North_Macedonia   \n",
       "4986  24/03/2020   24      3  2020     22       1         North_Macedonia   \n",
       "...          ...  ...    ...   ...    ...     ...                     ...   \n",
       "5057  04/01/2020    4      1  2020      0       0         North_Macedonia   \n",
       "5058  03/01/2020    3      1  2020      0       0         North_Macedonia   \n",
       "5059  02/01/2020    2      1  2020      0       0         North_Macedonia   \n",
       "5060  01/01/2020    1      1  2020      0       0         North_Macedonia   \n",
       "5061  31/12/2019   31     12  2019      0       0         North_Macedonia   \n",
       "\n",
       "     geoId countryterritoryCode  popData2018  \n",
       "4982    MK                  MKD    2082958.0  \n",
       "4983    MK                  MKD    2082958.0  \n",
       "4984    MK                  MKD    2082958.0  \n",
       "4985    MK                  MKD    2082958.0  \n",
       "4986    MK                  MKD    2082958.0  \n",
       "...    ...                  ...          ...  \n",
       "5057    MK                  MKD    2082958.0  \n",
       "5058    MK                  MKD    2082958.0  \n",
       "5059    MK                  MKD    2082958.0  \n",
       "5060    MK                  MKD    2082958.0  \n",
       "5061    MK                  MKD    2082958.0  \n",
       "\n",
       "[80 rows x 10 columns]"
      ]
     },
     "execution_count": 7,
     "metadata": {},
     "output_type": "execute_result"
    }
   ],
   "source": [
    "mac_df"
   ]
  },
  {
   "cell_type": "code",
   "execution_count": 6,
   "id": "d3128602",
   "metadata": {},
   "outputs": [],
   "source": [
    "from sqlalchemy import create_engine\n",
    "engine = create_engine('sqlite:///covid.db', echo=True)\n",
    "sqlite_connection = engine.connect()"
   ]
  },
  {
   "cell_type": "code",
   "execution_count": 7,
   "id": "f56db600",
   "metadata": {},
   "outputs": [
    {
     "name": "stdout",
     "output_type": "stream",
     "text": [
      "2023-04-07 07:05:13,904 INFO sqlalchemy.engine.Engine PRAGMA main.table_info(\"Covid19\")\n",
      "2023-04-07 07:05:13,908 INFO sqlalchemy.engine.Engine [raw sql] ()\n",
      "2023-04-07 07:05:13,912 INFO sqlalchemy.engine.Engine PRAGMA temp.table_info(\"Covid19\")\n",
      "2023-04-07 07:05:13,916 INFO sqlalchemy.engine.Engine [raw sql] ()\n",
      "2023-04-07 07:05:13,924 INFO sqlalchemy.engine.Engine \n",
      "CREATE TABLE \"Covid19\" (\n",
      "\t\"index\" BIGINT, \n",
      "\t\"dateRep\" TEXT, \n",
      "\tday BIGINT, \n",
      "\tmonth BIGINT, \n",
      "\tyear BIGINT, \n",
      "\tcases BIGINT, \n",
      "\tdeaths BIGINT, \n",
      "\t\"countriesAndTerritories\" TEXT, \n",
      "\t\"geoId\" TEXT, \n",
      "\t\"countryterritoryCode\" TEXT, \n",
      "\t\"popData2018\" FLOAT\n",
      ")\n",
      "\n",
      "\n",
      "2023-04-07 07:05:13,924 INFO sqlalchemy.engine.Engine [no key 0.00211s] ()\n",
      "2023-04-07 07:05:13,940 INFO sqlalchemy.engine.Engine COMMIT\n",
      "2023-04-07 07:05:13,940 INFO sqlalchemy.engine.Engine CREATE INDEX \"ix_Covid19_index\" ON \"Covid19\" (\"index\")\n",
      "2023-04-07 07:05:13,944 INFO sqlalchemy.engine.Engine [no key 0.00218s] ()\n",
      "2023-04-07 07:05:13,956 INFO sqlalchemy.engine.Engine COMMIT\n",
      "2023-04-07 07:05:13,968 INFO sqlalchemy.engine.Engine INSERT INTO \"Covid19\" (\"index\", \"dateRep\", day, month, year, cases, deaths, \"countriesAndTerritories\", \"geoId\", \"countryterritoryCode\", \"popData2018\") VALUES (?, ?, ?, ?, ?, ?, ?, ?, ?, ?, ?)\n",
      "2023-04-07 07:05:13,972 INFO sqlalchemy.engine.Engine [generated in 0.00545s] ((4982, '28/03/2020', 28, 3, 2020, 18, 0, 'North_Macedonia', 'MK', 'MKD', 2082958.0), (4983, '27/03/2020', 27, 3, 2020, 24, 1, 'North_Macedonia', 'MK', 'MKD', 2082958.0), (4984, '26/03/2020', 26, 3, 2020, 29, 0, 'North_Macedonia', 'MK', 'MKD', 2082958.0), (4985, '25/03/2020', 25, 3, 2020, 12, 0, 'North_Macedonia', 'MK', 'MKD', 2082958.0), (4986, '24/03/2020', 24, 3, 2020, 22, 1, 'North_Macedonia', 'MK', 'MKD', 2082958.0), (4987, '23/03/2020', 23, 3, 2020, 29, 1, 'North_Macedonia', 'MK', 'MKD', 2082958.0), (4988, '22/03/2020', 22, 3, 2020, 15, 0, 'North_Macedonia', 'MK', 'MKD', 2082958.0), (4989, '21/03/2020', 21, 3, 2020, 22, 0, 'North_Macedonia', 'MK', 'MKD', 2082958.0)  ... displaying 10 of 80 total bound parameter sets ...  (5060, '01/01/2020', 1, 1, 2020, 0, 0, 'North_Macedonia', 'MK', 'MKD', 2082958.0), (5061, '31/12/2019', 31, 12, 2019, 0, 0, 'North_Macedonia', 'MK', 'MKD', 2082958.0))\n",
      "2023-04-07 07:05:13,976 INFO sqlalchemy.engine.Engine COMMIT\n",
      "2023-04-07 07:05:13,988 INFO sqlalchemy.engine.Engine SELECT name FROM sqlite_master WHERE type='table' ORDER BY name\n",
      "2023-04-07 07:05:13,988 INFO sqlalchemy.engine.Engine [raw sql] ()\n"
     ]
    },
    {
     "data": {
      "text/plain": [
       "80"
      ]
     },
     "execution_count": 7,
     "metadata": {},
     "output_type": "execute_result"
    }
   ],
   "source": [
    "sqlite_table = \"Covid19\"\n",
    "mac_df.to_sql(sqlite_table, sqlite_connection, if_exists='fail')"
   ]
  },
  {
   "cell_type": "code",
   "execution_count": 9,
   "id": "9bac1feb",
   "metadata": {},
   "outputs": [],
   "source": [
    "sqlite_connection.close()"
   ]
  },
  {
   "cell_type": "code",
   "execution_count": null,
   "id": "48ec59e7",
   "metadata": {},
   "outputs": [],
   "source": [
    "### From terminal check the details\n",
    ".open covid.db\n",
    "select * from covid19;"
   ]
  },
  {
   "cell_type": "code",
   "execution_count": 11,
   "id": "6932b2be",
   "metadata": {},
   "outputs": [
    {
     "name": "stdout",
     "output_type": "stream",
     "text": [
      "   index     dateRep  day  month  year  cases  deaths countriesAndTerritories  \\\n",
      "0   4982  28/03/2020   28      3  2020     18       0         North_Macedonia   \n",
      "1   4983  27/03/2020   27      3  2020     24       1         North_Macedonia   \n",
      "2   4984  26/03/2020   26      3  2020     29       0         North_Macedonia   \n",
      "3   4985  25/03/2020   25      3  2020     12       0         North_Macedonia   \n",
      "4   4986  24/03/2020   24      3  2020     22       1         North_Macedonia   \n",
      "\n",
      "  geoId countryterritoryCode  popData2018  \n",
      "0    MK                  MKD    2082958.0  \n",
      "1    MK                  MKD    2082958.0  \n",
      "2    MK                  MKD    2082958.0  \n",
      "3    MK                  MKD    2082958.0  \n",
      "4    MK                  MKD    2082958.0  \n"
     ]
    }
   ],
   "source": [
    "### From pandas dataframe\n",
    "import pandas as pd\n",
    "import sqlite3\n",
    "\n",
    "# Read sqlite query results into a pandas DataFrame\n",
    "con = sqlite3.connect(\"covid.db\")\n",
    "df = pd.read_sql_query(\"SELECT * from covid19\", con)\n",
    "\n",
    "# Verify that result of SQL query is stored in the dataframe\n",
    "print(df.head())\n",
    "\n",
    "con.close()"
   ]
  },
  {
   "cell_type": "code",
   "execution_count": null,
   "id": "686c88fa",
   "metadata": {},
   "outputs": [],
   "source": []
  }
 ],
 "metadata": {
  "kernelspec": {
   "display_name": "Python 3 (ipykernel)",
   "language": "python",
   "name": "python3"
  },
  "language_info": {
   "codemirror_mode": {
    "name": "ipython",
    "version": 3
   },
   "file_extension": ".py",
   "mimetype": "text/x-python",
   "name": "python",
   "nbconvert_exporter": "python",
   "pygments_lexer": "ipython3",
   "version": "3.10.10"
  }
 },
 "nbformat": 4,
 "nbformat_minor": 5
}
