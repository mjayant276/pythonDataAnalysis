{
 "cells": [
  {
   "cell_type": "markdown",
   "id": "70743316",
   "metadata": {},
   "source": [
    "#### Let us import the librarires as below\n",
    "- numpy : numpy is numerical python library for numerical analysis\n",
    "- pandas : It is used for python dataframe\n",
    "- matplotlib : It is used for visualization in python\n",
    "- seaborn : A interactive Visualizaiton tool for python"
   ]
  },
  {
   "cell_type": "code",
   "execution_count": 1,
   "id": "7e337a8c",
   "metadata": {},
   "outputs": [],
   "source": [
    "import numpy as np\n",
    "import pandas as pd\n",
    "import matplotlib.pyplot as plt\n",
    "import seaborn as sns"
   ]
  },
  {
   "cell_type": "markdown",
   "id": "f53dc9e4",
   "metadata": {},
   "source": [
    "* Read the data into a dataframe by using pandas \n",
    "  - File name to be used is `restsicecream.csv`\n",
    "  - read the file using the `read_csv` in `pandas`\n",
    "  - To read the first few records use the `head()` function"
   ]
  },
  {
   "cell_type": "code",
   "execution_count": 2,
   "id": "6ce512b2",
   "metadata": {},
   "outputs": [
    {
     "name": "stderr",
     "output_type": "stream",
     "text": [
      "C:\\Users\\Jayanth\\AppData\\Local\\Temp\\ipykernel_15008\\65793481.py:1: UserWarning: Parsing dates in DD/MM/YYYY format when dayfirst=False (the default) was specified. This may lead to inconsistently parsed dates! Specify a format to ensure consistent parsing.\n",
      "  icecreams = pd.read_csv(\"restsicecream.csv\",parse_dates = ['OrderDate'])\n"
     ]
    },
    {
     "data": {
      "text/html": [
       "<div>\n",
       "<style scoped>\n",
       "    .dataframe tbody tr th:only-of-type {\n",
       "        vertical-align: middle;\n",
       "    }\n",
       "\n",
       "    .dataframe tbody tr th {\n",
       "        vertical-align: top;\n",
       "    }\n",
       "\n",
       "    .dataframe thead th {\n",
       "        text-align: right;\n",
       "    }\n",
       "</style>\n",
       "<table border=\"1\" class=\"dataframe\">\n",
       "  <thead>\n",
       "    <tr style=\"text-align: right;\">\n",
       "      <th></th>\n",
       "      <th>type</th>\n",
       "      <th>id</th>\n",
       "      <th>name</th>\n",
       "      <th>uuid</th>\n",
       "      <th>city</th>\n",
       "      <th>area</th>\n",
       "      <th>avgRating</th>\n",
       "      <th>totalRatingsString</th>\n",
       "      <th>OrderDate</th>\n",
       "      <th>deliveryTime</th>\n",
       "      <th>age_group</th>\n",
       "      <th>minDeliveryTime</th>\n",
       "      <th>maxDeliveryTime</th>\n",
       "      <th>channel</th>\n",
       "      <th>address</th>\n",
       "      <th>locality</th>\n",
       "      <th>unserviceable</th>\n",
       "      <th>veg</th>\n",
       "      <th>name.1</th>\n",
       "      <th>Ingredients</th>\n",
       "    </tr>\n",
       "  </thead>\n",
       "  <tbody>\n",
       "    <tr>\n",
       "      <th>0</th>\n",
       "      <td>F</td>\n",
       "      <td>37933</td>\n",
       "      <td>Faasos - Wraps &amp; Rolls</td>\n",
       "      <td>6fe9caf1-02a7-4e66-83bb-1b4ff296b683</td>\n",
       "      <td>Ahmedabad</td>\n",
       "      <td>Vastrapur</td>\n",
       "      <td>4.2</td>\n",
       "      <td>500+ ratings</td>\n",
       "      <td>2019-12-06</td>\n",
       "      <td>44</td>\n",
       "      <td>0-18 years</td>\n",
       "      <td>44</td>\n",
       "      <td>44</td>\n",
       "      <td>Restaurant</td>\n",
       "      <td>SHOP NO 2 HOTEL SHAHI PALACE VASTRAPUR LAKE AH...</td>\n",
       "      <td>HOTEL SHAHI PALACE</td>\n",
       "      <td>False</td>\n",
       "      <td>False</td>\n",
       "      <td>ALPHONSO MANGO SORBETTO</td>\n",
       "      <td>MANGOS, WATER, SUGAR, DEXTROSE, LEMON JUICE, C...</td>\n",
       "    </tr>\n",
       "    <tr>\n",
       "      <th>1</th>\n",
       "      <td>F</td>\n",
       "      <td>81814</td>\n",
       "      <td>Burger King</td>\n",
       "      <td>10083576-d32d-4a0e-8a82-3236ef342a19</td>\n",
       "      <td>Ahmedabad</td>\n",
       "      <td>Ellisbridge</td>\n",
       "      <td>4.2</td>\n",
       "      <td>1000+ ratings</td>\n",
       "      <td>2019-03-29</td>\n",
       "      <td>33</td>\n",
       "      <td>19-24 years</td>\n",
       "      <td>33</td>\n",
       "      <td>33</td>\n",
       "      <td>Restaurant</td>\n",
       "      <td>SHOP # 5 GR FLR THIRD EYE 2PANCHAVATI CIRCLE O...</td>\n",
       "      <td>3rd Eye II Ellis Bridge CG Road</td>\n",
       "      <td>False</td>\n",
       "      <td>False</td>\n",
       "      <td>BANANA CARAMEL CRUNCH</td>\n",
       "      <td>MILK, BANANAS, SUGAR†, WHEAT FLOUR, CREAM, NON...</td>\n",
       "    </tr>\n",
       "    <tr>\n",
       "      <th>2</th>\n",
       "      <td>F</td>\n",
       "      <td>107046</td>\n",
       "      <td>Mahalaxmi Pav Bhaji</td>\n",
       "      <td>fbfe3bfa-03fd-4708-b913-06e2c9ee9639</td>\n",
       "      <td>Ahmedabad</td>\n",
       "      <td>Ellisbridge</td>\n",
       "      <td>4.3</td>\n",
       "      <td>500+ ratings</td>\n",
       "      <td>2020-07-21</td>\n",
       "      <td>28</td>\n",
       "      <td>24-30 years</td>\n",
       "      <td>28</td>\n",
       "      <td>28</td>\n",
       "      <td>Restaurant</td>\n",
       "      <td>GF 9/10 Dev complexnear parimal charasta opp. ...</td>\n",
       "      <td>C G Road</td>\n",
       "      <td>False</td>\n",
       "      <td>True</td>\n",
       "      <td>BELGIAN CHOCOLATE GELATO</td>\n",
       "      <td>MILK, SUGAR, CREAM, EGG AND EGG YOLK, DEXTROSE...</td>\n",
       "    </tr>\n",
       "    <tr>\n",
       "      <th>3</th>\n",
       "      <td>F</td>\n",
       "      <td>328315</td>\n",
       "      <td>HIIT Meals</td>\n",
       "      <td>81ab4019-2445-4aef-aff2-04beccd641d9</td>\n",
       "      <td>Ahmedabad</td>\n",
       "      <td>Vishala</td>\n",
       "      <td>--</td>\n",
       "      <td>Too Few Ratings</td>\n",
       "      <td>2019-07-17</td>\n",
       "      <td>51</td>\n",
       "      <td>30-36 years</td>\n",
       "      <td>51</td>\n",
       "      <td>51</td>\n",
       "      <td>Restaurant</td>\n",
       "      <td>C11 Rajyash Rise Near Vishala Restaurant Vasna...</td>\n",
       "      <td>Vasna</td>\n",
       "      <td>False</td>\n",
       "      <td>False</td>\n",
       "      <td>BLACK RASPBERRY CHOCOLATE CHIP GELATO</td>\n",
       "      <td>MILK, SUGAR, CREAM, BLACK RASPBERRIES, DEXTROS...</td>\n",
       "    </tr>\n",
       "    <tr>\n",
       "      <th>4</th>\n",
       "      <td>F</td>\n",
       "      <td>108879</td>\n",
       "      <td>Jay Jalaram Parotha House</td>\n",
       "      <td>994e73e1-7c7c-4ad9-87e7-ecfecd4e36fa</td>\n",
       "      <td>Ahmedabad</td>\n",
       "      <td>Ellisbridge</td>\n",
       "      <td>3.9</td>\n",
       "      <td>100+ ratings</td>\n",
       "      <td>2019-01-11</td>\n",
       "      <td>29</td>\n",
       "      <td>36-45 years</td>\n",
       "      <td>29</td>\n",
       "      <td>29</td>\n",
       "      <td>Restaurant</td>\n",
       "      <td>Capital Commercial Centre Near UCO Bank Ashram...</td>\n",
       "      <td>Ashram Road</td>\n",
       "      <td>False</td>\n",
       "      <td>True</td>\n",
       "      <td>BLACK RASPBERRY VANILLA PARFAIT</td>\n",
       "      <td>MILK, SUGAR, CREAM, BLACK RASPBERRY PUREE, ROL...</td>\n",
       "    </tr>\n",
       "  </tbody>\n",
       "</table>\n",
       "</div>"
      ],
      "text/plain": [
       "  type      id                       name  \\\n",
       "0    F   37933     Faasos - Wraps & Rolls   \n",
       "1    F   81814                Burger King   \n",
       "2    F  107046        Mahalaxmi Pav Bhaji   \n",
       "3    F  328315                 HIIT Meals   \n",
       "4    F  108879  Jay Jalaram Parotha House   \n",
       "\n",
       "                                   uuid       city         area avgRating  \\\n",
       "0  6fe9caf1-02a7-4e66-83bb-1b4ff296b683  Ahmedabad    Vastrapur       4.2   \n",
       "1  10083576-d32d-4a0e-8a82-3236ef342a19  Ahmedabad  Ellisbridge       4.2   \n",
       "2  fbfe3bfa-03fd-4708-b913-06e2c9ee9639  Ahmedabad  Ellisbridge       4.3   \n",
       "3  81ab4019-2445-4aef-aff2-04beccd641d9  Ahmedabad      Vishala        --   \n",
       "4  994e73e1-7c7c-4ad9-87e7-ecfecd4e36fa  Ahmedabad  Ellisbridge       3.9   \n",
       "\n",
       "  totalRatingsString  OrderDate  deliveryTime    age_group  minDeliveryTime  \\\n",
       "0       500+ ratings 2019-12-06            44   0-18 years               44   \n",
       "1      1000+ ratings 2019-03-29            33  19-24 years               33   \n",
       "2       500+ ratings 2020-07-21            28  24-30 years               28   \n",
       "3    Too Few Ratings 2019-07-17            51  30-36 years               51   \n",
       "4       100+ ratings 2019-01-11            29  36-45 years               29   \n",
       "\n",
       "   maxDeliveryTime     channel  \\\n",
       "0               44  Restaurant   \n",
       "1               33  Restaurant   \n",
       "2               28  Restaurant   \n",
       "3               51  Restaurant   \n",
       "4               29  Restaurant   \n",
       "\n",
       "                                             address  \\\n",
       "0  SHOP NO 2 HOTEL SHAHI PALACE VASTRAPUR LAKE AH...   \n",
       "1  SHOP # 5 GR FLR THIRD EYE 2PANCHAVATI CIRCLE O...   \n",
       "2  GF 9/10 Dev complexnear parimal charasta opp. ...   \n",
       "3  C11 Rajyash Rise Near Vishala Restaurant Vasna...   \n",
       "4  Capital Commercial Centre Near UCO Bank Ashram...   \n",
       "\n",
       "                          locality  unserviceable    veg  \\\n",
       "0               HOTEL SHAHI PALACE          False  False   \n",
       "1  3rd Eye II Ellis Bridge CG Road          False  False   \n",
       "2                         C G Road          False   True   \n",
       "3                            Vasna          False  False   \n",
       "4                      Ashram Road          False   True   \n",
       "\n",
       "                                  name.1  \\\n",
       "0                ALPHONSO MANGO SORBETTO   \n",
       "1                  BANANA CARAMEL CRUNCH   \n",
       "2               BELGIAN CHOCOLATE GELATO   \n",
       "3  BLACK RASPBERRY CHOCOLATE CHIP GELATO   \n",
       "4        BLACK RASPBERRY VANILLA PARFAIT   \n",
       "\n",
       "                                         Ingredients  \n",
       "0  MANGOS, WATER, SUGAR, DEXTROSE, LEMON JUICE, C...  \n",
       "1  MILK, BANANAS, SUGAR†, WHEAT FLOUR, CREAM, NON...  \n",
       "2  MILK, SUGAR, CREAM, EGG AND EGG YOLK, DEXTROSE...  \n",
       "3  MILK, SUGAR, CREAM, BLACK RASPBERRIES, DEXTROS...  \n",
       "4  MILK, SUGAR, CREAM, BLACK RASPBERRY PUREE, ROL...  "
      ]
     },
     "execution_count": 2,
     "metadata": {},
     "output_type": "execute_result"
    }
   ],
   "source": [
    "icecreams = pd.read_csv(\"restsicecream.csv\",parse_dates = ['OrderDate'])\n",
    "icecreams.head()"
   ]
  },
  {
   "cell_type": "markdown",
   "id": "040bd55e",
   "metadata": {},
   "source": [
    "- Get the number of rows and columns using the `shape` function on the dataframe"
   ]
  },
  {
   "cell_type": "code",
   "execution_count": 3,
   "id": "7198e96a",
   "metadata": {},
   "outputs": [
    {
     "data": {
      "text/plain": [
       "(2083, 20)"
      ]
     },
     "execution_count": 3,
     "metadata": {},
     "output_type": "execute_result"
    }
   ],
   "source": [
    "icecreams.shape"
   ]
  },
  {
   "cell_type": "markdown",
   "id": "c79c1cd3",
   "metadata": {},
   "source": [
    "- check the column data types and non-missing values\n"
   ]
  },
  {
   "cell_type": "code",
   "execution_count": 4,
   "id": "10e9b8a4",
   "metadata": {},
   "outputs": [
    {
     "name": "stdout",
     "output_type": "stream",
     "text": [
      "<class 'pandas.core.frame.DataFrame'>\n",
      "RangeIndex: 2083 entries, 0 to 2082\n",
      "Data columns (total 20 columns):\n",
      " #   Column              Non-Null Count  Dtype         \n",
      "---  ------              --------------  -----         \n",
      " 0   type                2083 non-null   object        \n",
      " 1   id                  2083 non-null   int64         \n",
      " 2   name                2083 non-null   object        \n",
      " 3   uuid                2083 non-null   object        \n",
      " 4   city                2083 non-null   object        \n",
      " 5   area                2083 non-null   object        \n",
      " 6   avgRating           2083 non-null   object        \n",
      " 7   totalRatingsString  2083 non-null   object        \n",
      " 8   OrderDate           2083 non-null   datetime64[ns]\n",
      " 9   deliveryTime        2083 non-null   int64         \n",
      " 10  age_group           2083 non-null   object        \n",
      " 11  minDeliveryTime     2083 non-null   int64         \n",
      " 12  maxDeliveryTime     2083 non-null   int64         \n",
      " 13  channel             2083 non-null   object        \n",
      " 14  address             2079 non-null   object        \n",
      " 15  locality            2081 non-null   object        \n",
      " 16  unserviceable       2083 non-null   bool          \n",
      " 17  veg                 2083 non-null   bool          \n",
      " 18  name.1              2083 non-null   object        \n",
      " 19  Ingredients         2082 non-null   object        \n",
      "dtypes: bool(2), datetime64[ns](1), int64(4), object(13)\n",
      "memory usage: 297.1+ KB\n"
     ]
    }
   ],
   "source": [
    "icecreams.info()"
   ]
  },
  {
   "cell_type": "markdown",
   "id": "edfb9a17",
   "metadata": {},
   "source": [
    "- Print the statistics of all columns"
   ]
  },
  {
   "cell_type": "code",
   "execution_count": 5,
   "id": "9b700584",
   "metadata": {},
   "outputs": [
    {
     "name": "stdout",
     "output_type": "stream",
     "text": [
      "                  id  deliveryTime  minDeliveryTime  maxDeliveryTime\n",
      "count    2083.000000   2083.000000      2083.000000      2083.000000\n",
      "mean   230781.911186     49.771003        49.771003        49.771003\n",
      "std    157173.942549     11.431578        11.431578        11.431578\n",
      "min       211.000000     24.000000        24.000000        24.000000\n",
      "25%     60571.000000     40.000000        40.000000        40.000000\n",
      "50%    248171.000000     49.000000        49.000000        49.000000\n",
      "75%    382675.500000     57.000000        57.000000        57.000000\n",
      "max    466488.000000     92.000000        92.000000        92.000000\n"
     ]
    }
   ],
   "source": [
    "print(icecreams.describe())"
   ]
  },
  {
   "cell_type": "markdown",
   "id": "83e16899",
   "metadata": {},
   "source": [
    "- rename the column for name.1 to flavour in the dataset"
   ]
  },
  {
   "cell_type": "code",
   "execution_count": 6,
   "id": "e9e23b35",
   "metadata": {},
   "outputs": [],
   "source": [
    "icecreams['flavour'] = icecreams['name.1']"
   ]
  },
  {
   "cell_type": "markdown",
   "id": "f97b8cd8",
   "metadata": {},
   "source": [
    "- display the names of the columns in the icecream"
   ]
  },
  {
   "cell_type": "code",
   "execution_count": 7,
   "id": "412d3254",
   "metadata": {},
   "outputs": [
    {
     "data": {
      "text/plain": [
       "Index(['type', 'id', 'name', 'uuid', 'city', 'area', 'avgRating',\n",
       "       'totalRatingsString', 'OrderDate', 'deliveryTime', 'age_group',\n",
       "       'minDeliveryTime', 'maxDeliveryTime', 'channel', 'address', 'locality',\n",
       "       'unserviceable', 'veg', 'name.1', 'Ingredients', 'flavour'],\n",
       "      dtype='object')"
      ]
     },
     "execution_count": 7,
     "metadata": {},
     "output_type": "execute_result"
    }
   ],
   "source": [
    "icecreams.columns"
   ]
  },
  {
   "cell_type": "markdown",
   "id": "a4fb6917",
   "metadata": {},
   "source": [
    "- drop the name.1 columns from the icecreams dataframe"
   ]
  },
  {
   "cell_type": "code",
   "execution_count": 8,
   "id": "98076eca",
   "metadata": {},
   "outputs": [
    {
     "data": {
      "text/plain": [
       "Index(['type', 'id', 'name', 'uuid', 'city', 'area', 'avgRating',\n",
       "       'totalRatingsString', 'OrderDate', 'deliveryTime', 'age_group',\n",
       "       'minDeliveryTime', 'maxDeliveryTime', 'channel', 'address', 'locality',\n",
       "       'unserviceable', 'veg', 'name.1', 'Ingredients', 'flavour'],\n",
       "      dtype='object')"
      ]
     },
     "execution_count": 8,
     "metadata": {},
     "output_type": "execute_result"
    }
   ],
   "source": [
    "icecreams.columns"
   ]
  },
  {
   "cell_type": "markdown",
   "id": "563545fe",
   "metadata": {},
   "source": [
    "- using `drop` function and column name `name.1` columns from the icecreams dataframe"
   ]
  },
  {
   "cell_type": "code",
   "execution_count": 9,
   "id": "f4ad3bf1",
   "metadata": {},
   "outputs": [],
   "source": [
    "icecreams = icecreams.drop(['name.1'],axis=1)"
   ]
  },
  {
   "cell_type": "markdown",
   "id": "25898aad",
   "metadata": {},
   "source": [
    "- The column names for the dataframe are "
   ]
  },
  {
   "cell_type": "code",
   "execution_count": 10,
   "id": "635f8895",
   "metadata": {},
   "outputs": [
    {
     "data": {
      "text/plain": [
       "Index(['type', 'id', 'name', 'uuid', 'city', 'area', 'avgRating',\n",
       "       'totalRatingsString', 'OrderDate', 'deliveryTime', 'age_group',\n",
       "       'minDeliveryTime', 'maxDeliveryTime', 'channel', 'address', 'locality',\n",
       "       'unserviceable', 'veg', 'Ingredients', 'flavour'],\n",
       "      dtype='object')"
      ]
     },
     "execution_count": 10,
     "metadata": {},
     "output_type": "execute_result"
    }
   ],
   "source": [
    "icecreams.columns"
   ]
  },
  {
   "cell_type": "markdown",
   "id": "a4278698",
   "metadata": {},
   "source": [
    "- Check for null values and NaN"
   ]
  },
  {
   "cell_type": "code",
   "execution_count": 11,
   "id": "a95cbf6c",
   "metadata": {},
   "outputs": [
    {
     "data": {
      "text/plain": [
       "type                  0\n",
       "id                    0\n",
       "name                  0\n",
       "uuid                  0\n",
       "city                  0\n",
       "area                  0\n",
       "avgRating             0\n",
       "totalRatingsString    0\n",
       "OrderDate             0\n",
       "deliveryTime          0\n",
       "age_group             0\n",
       "minDeliveryTime       0\n",
       "maxDeliveryTime       0\n",
       "channel               0\n",
       "address               4\n",
       "locality              2\n",
       "unserviceable         0\n",
       "veg                   0\n",
       "Ingredients           1\n",
       "flavour               0\n",
       "dtype: int64"
      ]
     },
     "execution_count": 11,
     "metadata": {},
     "output_type": "execute_result"
    }
   ],
   "source": [
    "icecreams.isnull().sum()"
   ]
  },
  {
   "cell_type": "markdown",
   "id": "65c48bfd",
   "metadata": {},
   "source": [
    "- To get total summation of all missing values in the Dataframe"
   ]
  },
  {
   "cell_type": "code",
   "execution_count": 12,
   "id": "c4edf007",
   "metadata": {},
   "outputs": [
    {
     "data": {
      "text/plain": [
       "7"
      ]
     },
     "execution_count": 12,
     "metadata": {},
     "output_type": "execute_result"
    }
   ],
   "source": [
    "icecreams.isnull().sum().sum()"
   ]
  },
  {
   "cell_type": "markdown",
   "id": "3e2a873d",
   "metadata": {},
   "source": [
    "- How many cities does the ice-cream company cater to \n",
    "- Finding the number of unique cities in the dataframe"
   ]
  },
  {
   "cell_type": "code",
   "execution_count": 13,
   "id": "02db7cbe",
   "metadata": {},
   "outputs": [
    {
     "data": {
      "text/plain": [
       "array(['Ahmedabad', 'Bangalore', 'Chennai'], dtype=object)"
      ]
     },
     "execution_count": 13,
     "metadata": {},
     "output_type": "execute_result"
    }
   ],
   "source": [
    "icecreams['city'].unique()"
   ]
  },
  {
   "cell_type": "markdown",
   "id": "ee11e07c",
   "metadata": {},
   "source": [
    "- Change the city name to city code for identification.\n",
    "- This can be achieved using a new column for the city name"
   ]
  },
  {
   "cell_type": "code",
   "execution_count": 14,
   "id": "a19d0251",
   "metadata": {},
   "outputs": [],
   "source": [
    "# Mapping for Cities with City codes\n",
    "city_dict = {\"Ahmedabad\": \"AMD\", \"Bangalore\": \"BLR\", \n",
    "                \"Chennai\": \"CHE\"}\n",
    "\n",
    "# Mapping the city with the city_code\n",
    "icecreams['city_code'] = icecreams['city'].map(city_dict)"
   ]
  },
  {
   "cell_type": "markdown",
   "id": "a2492192",
   "metadata": {},
   "source": [
    "- Check if the city_code has been changed or not"
   ]
  },
  {
   "cell_type": "code",
   "execution_count": 15,
   "id": "33c35809",
   "metadata": {
    "scrolled": true
   },
   "outputs": [
    {
     "data": {
      "text/html": [
       "<div>\n",
       "<style scoped>\n",
       "    .dataframe tbody tr th:only-of-type {\n",
       "        vertical-align: middle;\n",
       "    }\n",
       "\n",
       "    .dataframe tbody tr th {\n",
       "        vertical-align: top;\n",
       "    }\n",
       "\n",
       "    .dataframe thead th {\n",
       "        text-align: right;\n",
       "    }\n",
       "</style>\n",
       "<table border=\"1\" class=\"dataframe\">\n",
       "  <thead>\n",
       "    <tr style=\"text-align: right;\">\n",
       "      <th></th>\n",
       "      <th>type</th>\n",
       "      <th>id</th>\n",
       "      <th>name</th>\n",
       "      <th>uuid</th>\n",
       "      <th>city</th>\n",
       "      <th>area</th>\n",
       "      <th>avgRating</th>\n",
       "      <th>totalRatingsString</th>\n",
       "      <th>OrderDate</th>\n",
       "      <th>deliveryTime</th>\n",
       "      <th>...</th>\n",
       "      <th>minDeliveryTime</th>\n",
       "      <th>maxDeliveryTime</th>\n",
       "      <th>channel</th>\n",
       "      <th>address</th>\n",
       "      <th>locality</th>\n",
       "      <th>unserviceable</th>\n",
       "      <th>veg</th>\n",
       "      <th>Ingredients</th>\n",
       "      <th>flavour</th>\n",
       "      <th>city_code</th>\n",
       "    </tr>\n",
       "  </thead>\n",
       "  <tbody>\n",
       "    <tr>\n",
       "      <th>0</th>\n",
       "      <td>F</td>\n",
       "      <td>37933</td>\n",
       "      <td>Faasos - Wraps &amp; Rolls</td>\n",
       "      <td>6fe9caf1-02a7-4e66-83bb-1b4ff296b683</td>\n",
       "      <td>Ahmedabad</td>\n",
       "      <td>Vastrapur</td>\n",
       "      <td>4.2</td>\n",
       "      <td>500+ ratings</td>\n",
       "      <td>2019-12-06</td>\n",
       "      <td>44</td>\n",
       "      <td>...</td>\n",
       "      <td>44</td>\n",
       "      <td>44</td>\n",
       "      <td>Restaurant</td>\n",
       "      <td>SHOP NO 2 HOTEL SHAHI PALACE VASTRAPUR LAKE AH...</td>\n",
       "      <td>HOTEL SHAHI PALACE</td>\n",
       "      <td>False</td>\n",
       "      <td>False</td>\n",
       "      <td>MANGOS, WATER, SUGAR, DEXTROSE, LEMON JUICE, C...</td>\n",
       "      <td>ALPHONSO MANGO SORBETTO</td>\n",
       "      <td>AMD</td>\n",
       "    </tr>\n",
       "    <tr>\n",
       "      <th>1</th>\n",
       "      <td>F</td>\n",
       "      <td>81814</td>\n",
       "      <td>Burger King</td>\n",
       "      <td>10083576-d32d-4a0e-8a82-3236ef342a19</td>\n",
       "      <td>Ahmedabad</td>\n",
       "      <td>Ellisbridge</td>\n",
       "      <td>4.2</td>\n",
       "      <td>1000+ ratings</td>\n",
       "      <td>2019-03-29</td>\n",
       "      <td>33</td>\n",
       "      <td>...</td>\n",
       "      <td>33</td>\n",
       "      <td>33</td>\n",
       "      <td>Restaurant</td>\n",
       "      <td>SHOP # 5 GR FLR THIRD EYE 2PANCHAVATI CIRCLE O...</td>\n",
       "      <td>3rd Eye II Ellis Bridge CG Road</td>\n",
       "      <td>False</td>\n",
       "      <td>False</td>\n",
       "      <td>MILK, BANANAS, SUGAR†, WHEAT FLOUR, CREAM, NON...</td>\n",
       "      <td>BANANA CARAMEL CRUNCH</td>\n",
       "      <td>AMD</td>\n",
       "    </tr>\n",
       "    <tr>\n",
       "      <th>2</th>\n",
       "      <td>F</td>\n",
       "      <td>107046</td>\n",
       "      <td>Mahalaxmi Pav Bhaji</td>\n",
       "      <td>fbfe3bfa-03fd-4708-b913-06e2c9ee9639</td>\n",
       "      <td>Ahmedabad</td>\n",
       "      <td>Ellisbridge</td>\n",
       "      <td>4.3</td>\n",
       "      <td>500+ ratings</td>\n",
       "      <td>2020-07-21</td>\n",
       "      <td>28</td>\n",
       "      <td>...</td>\n",
       "      <td>28</td>\n",
       "      <td>28</td>\n",
       "      <td>Restaurant</td>\n",
       "      <td>GF 9/10 Dev complexnear parimal charasta opp. ...</td>\n",
       "      <td>C G Road</td>\n",
       "      <td>False</td>\n",
       "      <td>True</td>\n",
       "      <td>MILK, SUGAR, CREAM, EGG AND EGG YOLK, DEXTROSE...</td>\n",
       "      <td>BELGIAN CHOCOLATE GELATO</td>\n",
       "      <td>AMD</td>\n",
       "    </tr>\n",
       "    <tr>\n",
       "      <th>3</th>\n",
       "      <td>F</td>\n",
       "      <td>328315</td>\n",
       "      <td>HIIT Meals</td>\n",
       "      <td>81ab4019-2445-4aef-aff2-04beccd641d9</td>\n",
       "      <td>Ahmedabad</td>\n",
       "      <td>Vishala</td>\n",
       "      <td>--</td>\n",
       "      <td>Too Few Ratings</td>\n",
       "      <td>2019-07-17</td>\n",
       "      <td>51</td>\n",
       "      <td>...</td>\n",
       "      <td>51</td>\n",
       "      <td>51</td>\n",
       "      <td>Restaurant</td>\n",
       "      <td>C11 Rajyash Rise Near Vishala Restaurant Vasna...</td>\n",
       "      <td>Vasna</td>\n",
       "      <td>False</td>\n",
       "      <td>False</td>\n",
       "      <td>MILK, SUGAR, CREAM, BLACK RASPBERRIES, DEXTROS...</td>\n",
       "      <td>BLACK RASPBERRY CHOCOLATE CHIP GELATO</td>\n",
       "      <td>AMD</td>\n",
       "    </tr>\n",
       "    <tr>\n",
       "      <th>4</th>\n",
       "      <td>F</td>\n",
       "      <td>108879</td>\n",
       "      <td>Jay Jalaram Parotha House</td>\n",
       "      <td>994e73e1-7c7c-4ad9-87e7-ecfecd4e36fa</td>\n",
       "      <td>Ahmedabad</td>\n",
       "      <td>Ellisbridge</td>\n",
       "      <td>3.9</td>\n",
       "      <td>100+ ratings</td>\n",
       "      <td>2019-01-11</td>\n",
       "      <td>29</td>\n",
       "      <td>...</td>\n",
       "      <td>29</td>\n",
       "      <td>29</td>\n",
       "      <td>Restaurant</td>\n",
       "      <td>Capital Commercial Centre Near UCO Bank Ashram...</td>\n",
       "      <td>Ashram Road</td>\n",
       "      <td>False</td>\n",
       "      <td>True</td>\n",
       "      <td>MILK, SUGAR, CREAM, BLACK RASPBERRY PUREE, ROL...</td>\n",
       "      <td>BLACK RASPBERRY VANILLA PARFAIT</td>\n",
       "      <td>AMD</td>\n",
       "    </tr>\n",
       "  </tbody>\n",
       "</table>\n",
       "<p>5 rows × 21 columns</p>\n",
       "</div>"
      ],
      "text/plain": [
       "  type      id                       name  \\\n",
       "0    F   37933     Faasos - Wraps & Rolls   \n",
       "1    F   81814                Burger King   \n",
       "2    F  107046        Mahalaxmi Pav Bhaji   \n",
       "3    F  328315                 HIIT Meals   \n",
       "4    F  108879  Jay Jalaram Parotha House   \n",
       "\n",
       "                                   uuid       city         area avgRating  \\\n",
       "0  6fe9caf1-02a7-4e66-83bb-1b4ff296b683  Ahmedabad    Vastrapur       4.2   \n",
       "1  10083576-d32d-4a0e-8a82-3236ef342a19  Ahmedabad  Ellisbridge       4.2   \n",
       "2  fbfe3bfa-03fd-4708-b913-06e2c9ee9639  Ahmedabad  Ellisbridge       4.3   \n",
       "3  81ab4019-2445-4aef-aff2-04beccd641d9  Ahmedabad      Vishala        --   \n",
       "4  994e73e1-7c7c-4ad9-87e7-ecfecd4e36fa  Ahmedabad  Ellisbridge       3.9   \n",
       "\n",
       "  totalRatingsString  OrderDate  deliveryTime  ... minDeliveryTime  \\\n",
       "0       500+ ratings 2019-12-06            44  ...              44   \n",
       "1      1000+ ratings 2019-03-29            33  ...              33   \n",
       "2       500+ ratings 2020-07-21            28  ...              28   \n",
       "3    Too Few Ratings 2019-07-17            51  ...              51   \n",
       "4       100+ ratings 2019-01-11            29  ...              29   \n",
       "\n",
       "   maxDeliveryTime     channel  \\\n",
       "0               44  Restaurant   \n",
       "1               33  Restaurant   \n",
       "2               28  Restaurant   \n",
       "3               51  Restaurant   \n",
       "4               29  Restaurant   \n",
       "\n",
       "                                             address  \\\n",
       "0  SHOP NO 2 HOTEL SHAHI PALACE VASTRAPUR LAKE AH...   \n",
       "1  SHOP # 5 GR FLR THIRD EYE 2PANCHAVATI CIRCLE O...   \n",
       "2  GF 9/10 Dev complexnear parimal charasta opp. ...   \n",
       "3  C11 Rajyash Rise Near Vishala Restaurant Vasna...   \n",
       "4  Capital Commercial Centre Near UCO Bank Ashram...   \n",
       "\n",
       "                          locality unserviceable    veg  \\\n",
       "0               HOTEL SHAHI PALACE         False  False   \n",
       "1  3rd Eye II Ellis Bridge CG Road         False  False   \n",
       "2                         C G Road         False   True   \n",
       "3                            Vasna         False  False   \n",
       "4                      Ashram Road         False   True   \n",
       "\n",
       "                                         Ingredients  \\\n",
       "0  MANGOS, WATER, SUGAR, DEXTROSE, LEMON JUICE, C...   \n",
       "1  MILK, BANANAS, SUGAR†, WHEAT FLOUR, CREAM, NON...   \n",
       "2  MILK, SUGAR, CREAM, EGG AND EGG YOLK, DEXTROSE...   \n",
       "3  MILK, SUGAR, CREAM, BLACK RASPBERRIES, DEXTROS...   \n",
       "4  MILK, SUGAR, CREAM, BLACK RASPBERRY PUREE, ROL...   \n",
       "\n",
       "                                 flavour city_code  \n",
       "0                ALPHONSO MANGO SORBETTO       AMD  \n",
       "1                  BANANA CARAMEL CRUNCH       AMD  \n",
       "2               BELGIAN CHOCOLATE GELATO       AMD  \n",
       "3  BLACK RASPBERRY CHOCOLATE CHIP GELATO       AMD  \n",
       "4        BLACK RASPBERRY VANILLA PARFAIT       AMD  \n",
       "\n",
       "[5 rows x 21 columns]"
      ]
     },
     "execution_count": 15,
     "metadata": {},
     "output_type": "execute_result"
    }
   ],
   "source": [
    "icecreams.head(5)"
   ]
  },
  {
   "cell_type": "markdown",
   "id": "90359ccb",
   "metadata": {},
   "source": [
    "- How many of the ice cream deliveries were on time"
   ]
  },
  {
   "cell_type": "code",
   "execution_count": 16,
   "id": "00d74acd",
   "metadata": {},
   "outputs": [],
   "source": [
    "# Import numpy\n",
    "import numpy as np\n",
    "\n",
    "# Add the new column is_delivered_ontime\n",
    "icecreams['is_delivered_ontime'] = np.where(\n",
    "    icecreams['deliveryTime'] == icecreams['maxDeliveryTime'], \n",
    "    'Yes', \n",
    "    'No'\n",
    ")"
   ]
  },
  {
   "cell_type": "code",
   "execution_count": 17,
   "id": "843f6711",
   "metadata": {},
   "outputs": [
    {
     "data": {
      "text/plain": [
       "Yes    2083\n",
       "Name: is_delivered_ontime, dtype: int64"
      ]
     },
     "execution_count": 17,
     "metadata": {},
     "output_type": "execute_result"
    }
   ],
   "source": [
    "icecreams['is_delivered_ontime'].value_counts(sort=False)"
   ]
  },
  {
   "cell_type": "markdown",
   "id": "33a8aec5",
   "metadata": {},
   "source": [
    "- How many icecreams were delivered on a date in each city"
   ]
  },
  {
   "cell_type": "code",
   "execution_count": 18,
   "id": "b5ed15e5",
   "metadata": {},
   "outputs": [
    {
     "name": "stdout",
     "output_type": "stream",
     "text": [
      "OrderDate\n",
      "2019-01-01    2\n",
      "2019-01-02    2\n",
      "2019-01-03    2\n",
      "2019-01-04    2\n",
      "2019-01-05    3\n",
      "Name: city, dtype: int64\n"
     ]
    }
   ],
   "source": [
    "# Group by orderdata and count number of unique city's\n",
    "date_deliveries = icecreams.groupby(['OrderDate'])['city'].nunique()\n",
    "\n",
    "# Print head of city deliveries\n",
    "print(date_deliveries.head())"
   ]
  },
  {
   "cell_type": "markdown",
   "id": "120dffbd",
   "metadata": {},
   "source": [
    "- Visualizing the sales reach per city "
   ]
  },
  {
   "cell_type": "code",
   "execution_count": 19,
   "id": "1dc34277",
   "metadata": {},
   "outputs": [
    {
     "data": {
      "image/png": "[encoded data removed]",
      "text/plain": [
       "<Figure size 640x480 with 1 Axes>"
      ]
     },
     "metadata": {},
     "output_type": "display_data"
    }
   ],
   "source": [
    "# Plot date_deliveries\n",
    "date_deliveries.plot()\n",
    "\n",
    "# Include a title and y-axis label\n",
    "plt.title('Dates Delivered')\n",
    "plt.ylabel('Number of deliveries')\n",
    "\n",
    "# Rotate the x-axis labels by 45 degrees\n",
    "plt.xticks(rotation = 45)\n",
    "\n",
    "# Display the plot\n",
    "plt.show()"
   ]
  },
  {
   "cell_type": "markdown",
   "id": "fb7f36ea",
   "metadata": {},
   "source": [
    "- Plot the number of orders per city\n",
    "  - This gives the number of orders/city from the dateset"
   ]
  },
  {
   "cell_type": "code",
   "execution_count": 20,
   "id": "5686ef1c",
   "metadata": {},
   "outputs": [
    {
     "name": "stdout",
     "output_type": "stream",
     "text": [
      "Bangalore    946\n",
      "Ahmedabad    714\n",
      "Chennai      423\n",
      "Name: city, dtype: int64\n"
     ]
    }
   ],
   "source": [
    "city_counts = icecreams['city'].value_counts()\n",
    "print(city_counts)"
   ]
  },
  {
   "cell_type": "code",
   "execution_count": 21,
   "id": "01e161d5",
   "metadata": {},
   "outputs": [
    {
     "data": {
      "text/plain": [
       "<Axes: >"
      ]
     },
     "execution_count": 21,
     "metadata": {},
     "output_type": "execute_result"
    },
    {
     "data": {
      "image/png": "[encoded data removed]",
      "text/plain": [
       "<Figure size 640x480 with 1 Axes>"
      ]
     },
     "metadata": {},
     "output_type": "display_data"
    }
   ],
   "source": [
    "city_counts.plot(kind='bar')\n",
    "## The bar chart shows that the city banaglore had the highest number of orders"
   ]
  },
  {
   "cell_type": "markdown",
   "id": "5b588648",
   "metadata": {},
   "source": [
    "- Which channel had the highest number of sales from the data given above"
   ]
  },
  {
   "cell_type": "code",
   "execution_count": 22,
   "id": "a9ef1deb",
   "metadata": {},
   "outputs": [
    {
     "data": {
      "text/plain": [
       "Index(['type', 'id', 'name', 'uuid', 'city', 'area', 'avgRating',\n",
       "       'totalRatingsString', 'OrderDate', 'deliveryTime', 'age_group',\n",
       "       'minDeliveryTime', 'maxDeliveryTime', 'channel', 'address', 'locality',\n",
       "       'unserviceable', 'veg', 'Ingredients', 'flavour', 'city_code',\n",
       "       'is_delivered_ontime'],\n",
       "      dtype='object')"
      ]
     },
     "execution_count": 22,
     "metadata": {},
     "output_type": "execute_result"
    }
   ],
   "source": [
    "icecreams.columns"
   ]
  },
  {
   "cell_type": "code",
   "execution_count": 23,
   "id": "b399dbac",
   "metadata": {},
   "outputs": [
    {
     "name": "stdout",
     "output_type": "stream",
     "text": [
      "Retail Food Store     660\n",
      "Convenience Stores    583\n",
      "Leisure               535\n",
      "Restaurant            305\n",
      "Name: channel, dtype: int64\n"
     ]
    }
   ],
   "source": [
    "channel_counts = icecreams['channel'].value_counts()\n",
    "print(channel_counts)"
   ]
  },
  {
   "cell_type": "code",
   "execution_count": 24,
   "id": "4e3a4f52",
   "metadata": {},
   "outputs": [
    {
     "data": {
      "image/png": "[encoded data removed]",
      "text/plain": [
       "<Figure size 640x480 with 1 Axes>"
      ]
     },
     "metadata": {},
     "output_type": "display_data"
    }
   ],
   "source": [
    "channel_counts.plot(kind='bar')\n",
    "## The bar chart shows that the channel Retail Food Store had the highest number of orders\n",
    "# Add a title and x and y-axis labels\n",
    "plt.title('Sales Channel', size = 14)\n",
    "plt.xlabel('Channel', size= 14)\n",
    "plt.ylabel('Number of orders sold', size = 14)\n",
    "plt.xlabel('', size = 14)\n",
    "\n",
    "# Display the plot\n",
    "plt.show()"
   ]
  },
  {
   "cell_type": "code",
   "execution_count": null,
   "id": "55d9677a",
   "metadata": {},
   "outputs": [],
   "source": []
  }
 ],
 "metadata": {
  "kernelspec": {
   "display_name": "Python 3 (ipykernel)",
   "language": "python",
   "name": "python3"
  },
  "language_info": {
   "codemirror_mode": {
    "name": "ipython",
    "version": 3
   },
   "file_extension": ".py",
   "mimetype": "text/x-python",
   "name": "python",
   "nbconvert_exporter": "python",
   "pygments_lexer": "ipython3",
   "version": "3.10.10"
  }
 },
 "nbformat": 4,
 "nbformat_minor": 5
}
