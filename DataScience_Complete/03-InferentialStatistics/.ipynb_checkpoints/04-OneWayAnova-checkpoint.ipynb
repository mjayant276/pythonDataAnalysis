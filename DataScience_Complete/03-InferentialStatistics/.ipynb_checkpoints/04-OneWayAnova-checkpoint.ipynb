{
 "cells": [
  {
   "cell_type": "markdown",
   "id": "848dd275",
   "metadata": {},
   "source": [
    "### One-Way ANOVA"
   ]
  },
  {
   "cell_type": "markdown",
   "id": "07cadc0e",
   "metadata": {},
   "source": [
    "* The one-way ANOVA tests whether the mean of some numeric variable differs across the levels of one categorical variable. It essentially answers the question: do any of the group means differ from one another? We won't get into the details of carrying out an ANOVA by hand as it involves more calculations than the t-test, but the process is similar: you go through several calculations to arrive at a test statistic and then you compare the test statistic to a critical value based on a probability distribution. In the case of the ANOVA, you use the \"f-distribution\".\n",
    "* The scipy library has a function for carrying out one-way ANOVA tests called scipy.stats.f_oneway(). Let's generate some fake voter age and demographic data and use the ANOVA to compare average ages across the groups:"
   ]
  },
  {
   "cell_type": "code",
   "execution_count": 2,
   "id": "c6a748cf",
   "metadata": {},
   "outputs": [],
   "source": [
    "import numpy as np\n",
    "import pandas as pd\n",
    "import matplotlib.pyplot as plt\n",
    "import scipy.stats as stats"
   ]
  },
  {
   "cell_type": "code",
   "execution_count": 3,
   "id": "b499dd9e",
   "metadata": {},
   "outputs": [
    {
     "data": {
      "text/plain": [
       "F_onewayResult(statistic=1.7744689357329695, pvalue=0.13173183201930463)"
      ]
     },
     "execution_count": 3,
     "metadata": {},
     "output_type": "execute_result"
    }
   ],
   "source": [
    "np.random.seed(12)\n",
    "\n",
    "prof =   [\"a\",\"b\",\"c\",\"d\",\"e\"] # profession across ages\n",
    "\n",
    "# Generate random data\n",
    "voter_prof = np.random.choice(a= prof,\n",
    "                              p = [0.05, 0.15 ,0.25, 0.05, 0.5],\n",
    "                              size=1000)\n",
    "\n",
    "voter_age = stats.poisson.rvs(loc=18,\n",
    "                              mu=30,\n",
    "                              size=1000)\n",
    "\n",
    "# Group age data by race\n",
    "voter_frame = pd.DataFrame({\"prof\":voter_prof,\"age\":voter_age})\n",
    "groups = voter_frame.groupby(\"prof\").groups\n",
    "\n",
    "# Etract individual groups\n",
    "a = voter_age[groups[\"a\"]]\n",
    "b = voter_age[groups[\"b\"]]\n",
    "c = voter_age[groups[\"c\"]]\n",
    "d = voter_age[groups[\"d\"]]\n",
    "e = voter_age[groups[\"e\"]]\n",
    "\n",
    "# Perform the ANOVA\n",
    "stats.f_oneway(a,b,c,d,e)"
   ]
  },
  {
   "cell_type": "markdown",
   "id": "8c3e149b",
   "metadata": {},
   "source": [
    "\n",
    "The test output yields an F-statistic of 1.774 and a p-value of 0.1317, indicating that there is no significant difference between the means of each group. <br/>\n",
    "Now let's make new age data where the group means do differ and run a second ANOVA:\n"
   ]
  },
  {
   "cell_type": "code",
   "execution_count": 5,
   "id": "6cf9e7d0",
   "metadata": {},
   "outputs": [
    {
     "data": {
      "text/plain": [
       "F_onewayResult(statistic=1.7744689357329695, pvalue=0.13173183201930463)"
      ]
     },
     "execution_count": 5,
     "metadata": {},
     "output_type": "execute_result"
    }
   ],
   "source": [
    "np.random.seed(12)\n",
    "\n",
    "prof =   [\"a\",\"b\",\"c\",\"d\",\"e\"]\n",
    "\n",
    "# Generate random data\n",
    "voter_prof = np.random.choice(a= prof,\n",
    "                              p = [0.05, 0.15 ,0.25, 0.05, 0.5],\n",
    "                              size=1000)\n",
    "\n",
    "voter_age = stats.poisson.rvs(loc=18,\n",
    "                              mu=30,\n",
    "                              size=1000)\n",
    "\n",
    "# Group age data by race\n",
    "voter_frame = pd.DataFrame({\"prof\":voter_prof,\"age\":voter_age})\n",
    "groups = voter_frame.groupby(\"prof\").groups\n",
    "\n",
    "# Etract individual groups\n",
    "a = voter_age[groups[\"a\"]]\n",
    "b = voter_age[groups[\"b\"]]\n",
    "c = voter_age[groups[\"c\"]]\n",
    "d = voter_age[groups[\"d\"]]\n",
    "e = voter_age[groups[\"e\"]]\n",
    "\n",
    "# Perform the ANOVA\n",
    "stats.f_oneway(a, b, c, d, e)"
   ]
  },
  {
   "cell_type": "markdown",
   "id": "6f892354",
   "metadata": {},
   "source": [
    "\n",
    "The test output yields an F-statistic of 1.774 and a p-value of 0.1317, indicating that there is no significant difference between the means of each group.\n",
    "Now let's make new age data where the group means do differ and run a second ANOVA:\n"
   ]
  },
  {
   "cell_type": "code",
   "execution_count": 7,
   "id": "5fd6ea06",
   "metadata": {},
   "outputs": [
    {
     "data": {
      "text/plain": [
       "F_onewayResult(statistic=2.2751047488657874, pvalue=0.05941851330741156)"
      ]
     },
     "execution_count": 7,
     "metadata": {},
     "output_type": "execute_result"
    }
   ],
   "source": [
    "np.random.seed(12)\n",
    "\n",
    "# Generate random data\n",
    "voter_prof = np.random.choice(a= prof,\n",
    "                              p = [0.05, 0.15 ,0.25, 0.05, 0.5],\n",
    "                              size=1000)\n",
    "\n",
    "# Use a different distribution for profession a ages\n",
    "a_ages = stats.poisson.rvs(loc=18, \n",
    "                              mu=32,\n",
    "                              size=1000)\n",
    "\n",
    "voter_age = stats.poisson.rvs(loc=18,\n",
    "                              mu=30,\n",
    "                              size=1000)\n",
    "\n",
    "voter_age = np.where(voter_prof==\"a\", a_ages, voter_age)\n",
    "\n",
    "# Group age data by race\n",
    "voter_frame = pd.DataFrame({\"prof\":voter_prof,\"age\":voter_age})\n",
    "groups = voter_frame.groupby(\"prof\").groups   \n",
    "\n",
    "# Extract individual groups\n",
    "a = voter_age[groups[\"a\"]]\n",
    "b = voter_age[groups[\"b\"]]\n",
    "c = voter_age[groups[\"c\"]]\n",
    "d = voter_age[groups[\"d\"]]\n",
    "e = voter_age[groups[\"e\"]]\n",
    "\n",
    "# Perform the ANOVA\n",
    "stats.f_oneway(a, b, c, d, e)"
   ]
  },
  {
   "cell_type": "markdown",
   "id": "88c66cd8",
   "metadata": {},
   "source": [
    "\n",
    "The test result suggests the groups don't have the same sample means in this case, since the p-value is significant at a 99% confidence level. We know that it is the 'a' profession voters who differ because we set it up that way in the code, but when testing real data, you may not know which group(s) caused the test to throw a positive result. To check which groups differ after getting a positive ANOVA result, you can perform a follow up test or \"post-hoc test\". <br/>\n",
    "One post-hoc test is to perform a separate t-test for each pair of groups. You can perform a t-test between all pairs using by running each pair through the stats.ttest_ind() we covered in the lesson on t-tests:\n"
   ]
  },
  {
   "cell_type": "code",
   "execution_count": 8,
   "id": "0d4ef7c1",
   "metadata": {},
   "outputs": [
    {
     "name": "stdout",
     "output_type": "stream",
     "text": [
      "a b\n",
      "Ttest_indResult(statistic=2.15233016322108, pvalue=0.032639376088770565)\n",
      "a c\n",
      "Ttest_indResult(statistic=0.9803371385680125, pvalue=0.32774826902702425)\n",
      "a d\n",
      "Ttest_indResult(statistic=1.9586122655031513, pvalue=0.05318684576592983)\n",
      "a e\n",
      "Ttest_indResult(statistic=1.9462692078584773, pvalue=0.05212487632354608)\n",
      "b c\n",
      "Ttest_indResult(statistic=-1.9527839210712925, pvalue=0.05156197171952594)\n",
      "b d\n",
      "Ttest_indResult(statistic=0.28025754367057176, pvalue=0.7795770111117659)\n",
      "b e\n",
      "Ttest_indResult(statistic=-0.9244438185606086, pvalue=0.3555931499524523)\n",
      "c d\n",
      "Ttest_indResult(statistic=1.5853626170340225, pvalue=0.11396630528484335)\n",
      "c e\n",
      "Ttest_indResult(statistic=1.6450276425039192, pvalue=0.10037925272137736)\n",
      "d e\n",
      "Ttest_indResult(statistic=-0.9060482119998353, pvalue=0.36529792583188303)\n"
     ]
    }
   ],
   "source": [
    "\n",
    "\n",
    "# Get all race pairs\n",
    "prof_pairs = []\n",
    "\n",
    "for prof1 in range(4):\n",
    "    for prof2  in range(prof1+1,5):\n",
    "        prof_pairs.append((prof[prof1], prof[prof2]))\n",
    "\n",
    "# Conduct t-test on each pair\n",
    "for prof1, prof2 in prof_pairs: \n",
    "    print(prof1, prof2)\n",
    "    print(stats.ttest_ind(voter_age[groups[prof1]], \n",
    "                          voter_age[groups[prof2]]))    "
   ]
  },
  {
   "cell_type": "markdown",
   "id": "b649069e",
   "metadata": {},
   "source": [
    "The p-values for each pairwise t-test suggest mean of white voters is likely different from the other groups, since the p-values for each t-test involving the white group is below 0.05. Using unadjusted pairwise t-tests can overestimate significance, however, because the more comparisons you make, the more likely you are to come across an unlikely result due to chance. We can adjust for this multiple comparison problem by dividing the statistical significance level by the number of comparisons made. In this case, if we were looking for a significance level of 5%, we'd be looking for p-values of 0.05/10 = 0.005 or less. This simple adjustment for multiple comparisons is known as the Bonferroni correction. <br/>\n",
    "The Bonferroni correction is a conservative approach to account for the multiple comparisons problem that may end up rejecting results that are actually significant. Another common post hoc-test is Tukey's test. You can carry out Tukey's test using the pairwise_tukeyhsd() function in the statsmodels.stats.multicomp library:"
   ]
  },
  {
   "cell_type": "code",
   "execution_count": 9,
   "id": "a8fe12c7",
   "metadata": {},
   "outputs": [
    {
     "data": {
      "text/html": [
       "<table class=\"simpletable\">\n",
       "<caption>Multiple Comparison of Means - Tukey HSD, FWER=0.05</caption>\n",
       "<tr>\n",
       "  <th>group1</th> <th>group2</th> <th>meandiff</th>  <th>p-adj</th>  <th>lower</th>   <th>upper</th> <th>reject</th>\n",
       "</tr>\n",
       "<tr>\n",
       "     <td>a</td>      <td>b</td>    <td>-2.2123</td> <td>0.1696</td> <td>-4.9239</td> <td>0.4993</td>  <td>False</td>\n",
       "</tr>\n",
       "<tr>\n",
       "     <td>a</td>      <td>c</td>    <td>-0.9948</td> <td>0.8309</td> <td>-3.5792</td> <td>1.5896</td>  <td>False</td>\n",
       "</tr>\n",
       "<tr>\n",
       "     <td>a</td>      <td>d</td>    <td>-2.4736</td> <td>0.2329</td> <td>-5.7353</td> <td>0.7881</td>  <td>False</td>\n",
       "</tr>\n",
       "<tr>\n",
       "     <td>a</td>      <td>e</td>    <td>-1.7282</td> <td>0.3149</td> <td>-4.2066</td> <td>0.7502</td>  <td>False</td>\n",
       "</tr>\n",
       "<tr>\n",
       "     <td>b</td>      <td>c</td>    <td>1.2175</td>  <td>0.2573</td>  <td>-0.43</td>   <td>2.865</td>  <td>False</td>\n",
       "</tr>\n",
       "<tr>\n",
       "     <td>b</td>      <td>d</td>    <td>-0.2614</td> <td>0.9987</td> <td>-2.8447</td>  <td>2.322</td>  <td>False</td>\n",
       "</tr>\n",
       "<tr>\n",
       "     <td>b</td>      <td>e</td>    <td>0.4841</td>  <td>0.8982</td> <td>-0.9915</td> <td>1.9596</td>  <td>False</td>\n",
       "</tr>\n",
       "<tr>\n",
       "     <td>c</td>      <td>d</td>    <td>-1.4789</td> <td>0.4658</td> <td>-3.9284</td> <td>0.9707</td>  <td>False</td>\n",
       "</tr>\n",
       "<tr>\n",
       "     <td>c</td>      <td>e</td>    <td>-0.7334</td> <td>0.4757</td> <td>-1.9598</td> <td>0.4929</td>  <td>False</td>\n",
       "</tr>\n",
       "<tr>\n",
       "     <td>d</td>      <td>e</td>    <td>0.7454</td>  <td>0.9073</td> <td>-1.5919</td> <td>3.0828</td>  <td>False</td>\n",
       "</tr>\n",
       "</table>"
      ],
      "text/plain": [
       "<class 'statsmodels.iolib.table.SimpleTable'>"
      ]
     },
     "execution_count": 9,
     "metadata": {},
     "output_type": "execute_result"
    },
    {
     "data": {
      "image/png": "[encoded data removed]",
      "text/plain": [
       "<Figure size 1000x600 with 1 Axes>"
      ]
     },
     "metadata": {},
     "output_type": "display_data"
    }
   ],
   "source": [
    "from statsmodels.stats.multicomp import pairwise_tukeyhsd\n",
    "\n",
    "tukey = pairwise_tukeyhsd(endog=voter_age,     # Data\n",
    "                          groups=voter_prof,   # Groups\n",
    "                          alpha=0.05)          # Significance level\n",
    "\n",
    "tukey.plot_simultaneous()    # Plot group confidence intervals\n",
    "plt.vlines(x=49.57,ymin=-0.5,ymax=4.5, color=\"red\")\n",
    "\n",
    "tukey.summary()              # See test summary"
   ]
  },
  {
   "cell_type": "code",
   "execution_count": null,
   "id": "1e4c7e93",
   "metadata": {},
   "outputs": [],
   "source": []
  }
 ],
 "metadata": {
  "kernelspec": {
   "display_name": "Python 3 (ipykernel)",
   "language": "python",
   "name": "python3"
  },
  "language_info": {
   "codemirror_mode": {
    "name": "ipython",
    "version": 3
   },
   "file_extension": ".py",
   "mimetype": "text/x-python",
   "name": "python",
   "nbconvert_exporter": "python",
   "pygments_lexer": "ipython3",
   "version": "3.10.10"
  }
 },
 "nbformat": 4,
 "nbformat_minor": 5
}
