{
 "cells": [
  {
   "cell_type": "markdown",
   "id": "a422deda",
   "metadata": {},
   "source": [
    "### **Chi-Squared Goodness-Of-Fit Test**\n"
   ]
  },
  {
   "cell_type": "markdown",
   "id": "b64eef6f",
   "metadata": {},
   "source": [
    "\n",
    "In our study of t-tests, we introduced the one-way t-test to check whether a sample mean differs from the an expected (population) mean. The chi-squared goodness-of-fit test is an analog of the one-way t-test for categorical variables: it tests whether the distribution of sample categorical data matches an expected distribution. For example, you could use a chi-squared goodness-of-fit test to check whether the race demographics of members at your church or school match that of the entire U.S. population or whether the computer browser preferences of your friends match those of Internet uses as a whole. <br/>\n",
    "When working with categorical data, the values themselves aren't of much use for statistical testing because categories like \"male\", \"female,\" and \"other\" have no mathematical meaning. Tests dealing with categorical variables are based on variable counts instead of the actual value of the variables themselves. <br/>\n",
    "Let's generate some fake demographic data for U.S. and Minnesota and walk through the chi-square goodness of fit test to check whether they are different: <br/>\n"
   ]
  },
  {
   "cell_type": "code",
   "execution_count": 1,
   "id": "3d8f97b7",
   "metadata": {},
   "outputs": [],
   "source": [
    "import numpy as np\n",
    "import pandas as pd\n",
    "import scipy.stats as stats"
   ]
  },
  {
   "cell_type": "code",
   "execution_count": 2,
   "id": "8192f79f",
   "metadata": {},
   "outputs": [
    {
     "name": "stdout",
     "output_type": "stream",
     "text": [
      "National\n",
      "col_0         count\n",
      "0                  \n",
      "bluecollar   100000\n",
      "old           15000\n",
      "other         35000\n",
      "student       60000\n",
      "whitecollar   50000\n",
      " \n",
      "City\n",
      "col_0        count\n",
      "0                 \n",
      "bluecollar     600\n",
      "old             75\n",
      "other          150\n",
      "student        300\n",
      "whitecollar    250\n"
     ]
    }
   ],
   "source": [
    "national = pd.DataFrame([\"bluecollar\"]*100000 + [\"student\"]*60000 +\\\n",
    "                        [\"whitecollar\"]*50000 + [\"old\"]*15000 + [\"other\"]*35000)\n",
    "           \n",
    "\n",
    "city = pd.DataFrame([\"bluecollar\"]*600 + [\"student\"]*300 + \\\n",
    "                         [\"whitecollar\"]*250 +[\"old\"]*75 + [\"other\"]*150)\n",
    "\n",
    "national_table = pd.crosstab(index=national[0], columns=\"count\")\n",
    "city_table = pd.crosstab(index=city[0], columns=\"count\")\n",
    "\n",
    "print(\"National\")\n",
    "print(national_table)\n",
    "print(\" \")\n",
    "print(\"City\")\n",
    "print(city_table)"
   ]
  },
  {
   "cell_type": "markdown",
   "id": "528d7795",
   "metadata": {},
   "source": [
    " $\\\\X^2$ tests are based on the so-called chi-squared statistic. You calculate the chi-squared statistic with the following formula:"
   ]
  },
  {
   "cell_type": "markdown",
   "id": "a9dde206",
   "metadata": {},
   "source": [
    "* sum((observed−expected)**2/expected)\n",
    " \n",
    "In the formula, observed is the actual observed count for each category and expected is the expected count based on the distribution of the population for the corresponding category. Let's calculate the chi-squared statistic for our data to illustrate:"
   ]
  },
  {
   "cell_type": "code",
   "execution_count": 5,
   "id": "e1e1cd09",
   "metadata": {},
   "outputs": [
    {
     "name": "stdout",
     "output_type": "stream",
     "text": [
      "col_0\n",
      "count    18.194805\n",
      "dtype: float64\n"
     ]
    }
   ],
   "source": [
    "observed = city_table\n",
    "\n",
    "national_ratios = national_table/len(national)  # Get population ratios\n",
    "\n",
    "expected = national_ratios * len(city)   # Get expected counts\n",
    "\n",
    "chi_squared_stat = (((observed-expected)**2)/expected).sum()\n",
    "\n",
    "print(chi_squared_stat)"
   ]
  },
  {
   "cell_type": "markdown",
   "id": "7a5e35ee",
   "metadata": {},
   "source": [
    "*Note: The chi-squared test assumes none of the expected counts are less than 5. <br/>\n",
    "Similar to the t-test where we compared the t-test statistic to a critical value based on the t-distribution to determine whether the result is significant, in the chi-square test we compare the chi-square test statistic to a critical value based on the chi-square distribution. The scipy library shorthand for the chi-square distribution is chi2. Let's use this knowledge to find the critical value for 95% confidence level and check the p-value of our result: <br/>\n"
   ]
  },
  {
   "cell_type": "code",
   "execution_count": 6,
   "id": "f49fe1b8",
   "metadata": {},
   "outputs": [
    {
     "name": "stdout",
     "output_type": "stream",
     "text": [
      "Critical value\n",
      "9.487729036781154\n",
      "P value\n",
      "[0.00113047]\n"
     ]
    }
   ],
   "source": [
    "crit = stats.chi2.ppf(q = 0.95, # Find the critical value for 95% confidence*\n",
    "                      df = 4)   # Df = number of variable categories - 1\n",
    "\n",
    "print(\"Critical value\")\n",
    "print(crit)\n",
    "\n",
    "p_value = 1 - stats.chi2.cdf(x=chi_squared_stat,  # Find the p-value\n",
    "                             df=4)\n",
    "print(\"P value\")\n",
    "print(p_value)"
   ]
  },
  {
   "cell_type": "markdown",
   "id": "ceec22a8",
   "metadata": {},
   "source": [
    "\n",
    "*Note: we are only interested in the right tail of the chi-square distribution. Read more on this here.\n",
    "Since our chi-squared statistic exceeds the critical value, we'd reject the null hypothesis that the two distributions are the same.\n",
    "You can carry out a chi-squared goodness-of-fit test automatically using the scipy function scipy.stats.chisquare():\n"
   ]
  },
  {
   "cell_type": "code",
   "execution_count": 8,
   "id": "8b681f23",
   "metadata": {},
   "outputs": [
    {
     "data": {
      "text/plain": [
       "Power_divergenceResult(statistic=array([18.19480519]), pvalue=array([0.00113047]))"
      ]
     },
     "execution_count": 8,
     "metadata": {},
     "output_type": "execute_result"
    }
   ],
   "source": [
    "stats.chisquare(f_obs= observed,   # Array of observed counts\n",
    "                f_exp= expected)   # Array of expected counts\n",
    "\n",
    "#  The test results agree with the values we calculated above."
   ]
  },
  {
   "cell_type": "markdown",
   "id": "2c15fa46",
   "metadata": {},
   "source": [
    "**Chi-Squared Test of Independence**"
   ]
  },
  {
   "cell_type": "markdown",
   "id": "ced85591",
   "metadata": {},
   "source": [
    "\n",
    "Independence is a key concept in probability that describes a situation where knowing the value of one variable \n",
    "tells you nothing about the value of another. For instance, the month you were born probably \n",
    "doesn't tell you anything about which web browser you use, \n",
    "so we'd expect birth month and browser preference to be independent. \n",
    "On the other hand, your month of birth might be related to whether \n",
    "you excelled at sports in school, so month of birth and sports performance might not be independent. <br/>\n",
    "The chi-squared test of independence tests whether two categorical variables are independent. \n",
    "The test of independence is commonly used to determine whether variables like education, \n",
    "political views and other preferences vary based on demographic factors like gender, \n",
    "race and religion. Let's generate some fake voter polling data and perform a test of independence: <br/>\n"
   ]
  },
  {
   "cell_type": "code",
   "execution_count": 11,
   "id": "edb424c9",
   "metadata": {},
   "outputs": [
    {
     "data": {
      "text/html": [
       "<div>\n",
       "<style scoped>\n",
       "    .dataframe tbody tr th:only-of-type {\n",
       "        vertical-align: middle;\n",
       "    }\n",
       "\n",
       "    .dataframe tbody tr th {\n",
       "        vertical-align: top;\n",
       "    }\n",
       "\n",
       "    .dataframe thead th {\n",
       "        text-align: right;\n",
       "    }\n",
       "</style>\n",
       "<table border=\"1\" class=\"dataframe\">\n",
       "  <thead>\n",
       "    <tr style=\"text-align: right;\">\n",
       "      <th></th>\n",
       "      <th>democrat</th>\n",
       "      <th>independent</th>\n",
       "      <th>republican</th>\n",
       "      <th>row_totals</th>\n",
       "    </tr>\n",
       "  </thead>\n",
       "  <tbody>\n",
       "    <tr>\n",
       "      <th>a</th>\n",
       "      <td>21</td>\n",
       "      <td>7</td>\n",
       "      <td>32</td>\n",
       "      <td>60</td>\n",
       "    </tr>\n",
       "    <tr>\n",
       "      <th>b</th>\n",
       "      <td>65</td>\n",
       "      <td>25</td>\n",
       "      <td>64</td>\n",
       "      <td>154</td>\n",
       "    </tr>\n",
       "    <tr>\n",
       "      <th>c</th>\n",
       "      <td>107</td>\n",
       "      <td>50</td>\n",
       "      <td>94</td>\n",
       "      <td>251</td>\n",
       "    </tr>\n",
       "    <tr>\n",
       "      <th>d</th>\n",
       "      <td>15</td>\n",
       "      <td>8</td>\n",
       "      <td>15</td>\n",
       "      <td>38</td>\n",
       "    </tr>\n",
       "    <tr>\n",
       "      <th>e</th>\n",
       "      <td>189</td>\n",
       "      <td>96</td>\n",
       "      <td>212</td>\n",
       "      <td>497</td>\n",
       "    </tr>\n",
       "    <tr>\n",
       "      <th>col_totals</th>\n",
       "      <td>397</td>\n",
       "      <td>186</td>\n",
       "      <td>417</td>\n",
       "      <td>1000</td>\n",
       "    </tr>\n",
       "  </tbody>\n",
       "</table>\n",
       "</div>"
      ],
      "text/plain": [
       "            democrat  independent  republican  row_totals\n",
       "a                 21            7          32          60\n",
       "b                 65           25          64         154\n",
       "c                107           50          94         251\n",
       "d                 15            8          15          38\n",
       "e                189           96         212         497\n",
       "col_totals       397          186         417        1000"
      ]
     },
     "execution_count": 11,
     "metadata": {},
     "output_type": "execute_result"
    }
   ],
   "source": [
    "np.random.seed(10)\n",
    "\n",
    "# Sample data randomly at fixed probabilities\n",
    "voter_profession = np.random.choice(a= [\"a\",\"b\",\"c\",\"d\",\"e\"],\n",
    "                              p = [0.05, 0.15 ,0.25, 0.05, 0.5],\n",
    "                              size=1000)\n",
    "\n",
    "# Sample data randomly at fixed probabilities\n",
    "voter_party = np.random.choice(a= [\"democrat\",\"independent\",\"republican\"],\n",
    "                              p = [0.4, 0.2, 0.4],\n",
    "                              size=1000)\n",
    "\n",
    "voters = pd.DataFrame({\"profession\":voter_profession, \n",
    "                       \"party\":voter_party})\n",
    "\n",
    "voter_tab = pd.crosstab(voters.profession, voters.party, margins = True)\n",
    "\n",
    "voter_tab.columns = [\"democrat\",\"independent\",\"republican\",\"row_totals\"]\n",
    "\n",
    "voter_tab.index = [\"a\",\"b\",\"c\",\"d\",\"e\",\"col_totals\"]\n",
    "\n",
    "observed = voter_tab.iloc[0:5,0:3]   # Get table without totals for later use\n",
    "voter_tab"
   ]
  },
  {
   "cell_type": "code",
   "execution_count": null,
   "id": "bbcbc60c",
   "metadata": {},
   "outputs": [],
   "source": []
  }
 ],
 "metadata": {
  "kernelspec": {
   "display_name": "Python 3 (ipykernel)",
   "language": "python",
   "name": "python3"
  },
  "language_info": {
   "codemirror_mode": {
    "name": "ipython",
    "version": 3
   },
   "file_extension": ".py",
   "mimetype": "text/x-python",
   "name": "python",
   "nbconvert_exporter": "python",
   "pygments_lexer": "ipython3",
   "version": "3.10.10"
  }
 },
 "nbformat": 4,
 "nbformat_minor": 5
}
