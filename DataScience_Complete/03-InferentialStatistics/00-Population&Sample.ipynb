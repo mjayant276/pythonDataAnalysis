{
 "cells": [
  {
   "cell_type": "markdown",
   "id": "e3e017f9",
   "metadata": {},
   "source": [
    "### Population vs Sample"
   ]
  },
  {
   "cell_type": "markdown",
   "id": "20807eec",
   "metadata": {},
   "source": [
    "<img src='PopVsSamp.png' />"
   ]
  },
  {
   "cell_type": "code",
   "execution_count": 2,
   "id": "f123b03c",
   "metadata": {},
   "outputs": [],
   "source": [
    "### Import pandas, numpy and sklearn libraries\n",
    "import pandas as pd\n",
    "import numpy as np\n",
    "from sklearn.datasets import make_regression"
   ]
  },
  {
   "cell_type": "code",
   "execution_count": 3,
   "id": "139fe8e0",
   "metadata": {},
   "outputs": [
    {
     "name": "stdout",
     "output_type": "stream",
     "text": [
      "(1000, 5) (1000,)\n"
     ]
    }
   ],
   "source": [
    "## Get the number of samples\n",
    "X,y = make_regression(n_samples=1000, n_features=5, random_state=0)\n",
    "print(X.shape,y.shape)"
   ]
  },
  {
   "cell_type": "markdown",
   "id": "1ae167c1",
   "metadata": {},
   "source": [
    "* Create a dataframe with different variables and target variable"
   ]
  },
  {
   "cell_type": "code",
   "execution_count": 4,
   "id": "df48bc8d",
   "metadata": {},
   "outputs": [
    {
     "data": {
      "text/html": [
       "<div>\n",
       "<style scoped>\n",
       "    .dataframe tbody tr th:only-of-type {\n",
       "        vertical-align: middle;\n",
       "    }\n",
       "\n",
       "    .dataframe tbody tr th {\n",
       "        vertical-align: top;\n",
       "    }\n",
       "\n",
       "    .dataframe thead th {\n",
       "        text-align: right;\n",
       "    }\n",
       "</style>\n",
       "<table border=\"1\" class=\"dataframe\">\n",
       "  <thead>\n",
       "    <tr style=\"text-align: right;\">\n",
       "      <th></th>\n",
       "      <th>x1</th>\n",
       "      <th>x2</th>\n",
       "      <th>x3</th>\n",
       "      <th>x4</th>\n",
       "      <th>x5</th>\n",
       "      <th>y</th>\n",
       "    </tr>\n",
       "  </thead>\n",
       "  <tbody>\n",
       "    <tr>\n",
       "      <th>0</th>\n",
       "      <td>-0.235503</td>\n",
       "      <td>2.011243</td>\n",
       "      <td>-1.377019</td>\n",
       "      <td>1.121907</td>\n",
       "      <td>1.392837</td>\n",
       "      <td>85.941034</td>\n",
       "    </tr>\n",
       "    <tr>\n",
       "      <th>1</th>\n",
       "      <td>-0.801497</td>\n",
       "      <td>0.271170</td>\n",
       "      <td>-0.525641</td>\n",
       "      <td>-0.887780</td>\n",
       "      <td>0.936399</td>\n",
       "      <td>-10.107882</td>\n",
       "    </tr>\n",
       "    <tr>\n",
       "      <th>2</th>\n",
       "      <td>0.350266</td>\n",
       "      <td>-1.193258</td>\n",
       "      <td>0.971970</td>\n",
       "      <td>-2.086510</td>\n",
       "      <td>-0.590757</td>\n",
       "      <td>-31.484509</td>\n",
       "    </tr>\n",
       "    <tr>\n",
       "      <th>3</th>\n",
       "      <td>-2.083592</td>\n",
       "      <td>-0.864048</td>\n",
       "      <td>-0.971342</td>\n",
       "      <td>0.691785</td>\n",
       "      <td>0.564388</td>\n",
       "      <td>-142.935500</td>\n",
       "    </tr>\n",
       "    <tr>\n",
       "      <th>4</th>\n",
       "      <td>0.239146</td>\n",
       "      <td>0.531043</td>\n",
       "      <td>0.206691</td>\n",
       "      <td>-0.033319</td>\n",
       "      <td>-1.530803</td>\n",
       "      <td>-65.455715</td>\n",
       "    </tr>\n",
       "  </tbody>\n",
       "</table>\n",
       "</div>"
      ],
      "text/plain": [
       "         x1        x2        x3        x4        x5           y\n",
       "0 -0.235503  2.011243 -1.377019  1.121907  1.392837   85.941034\n",
       "1 -0.801497  0.271170 -0.525641 -0.887780  0.936399  -10.107882\n",
       "2  0.350266 -1.193258  0.971970 -2.086510 -0.590757  -31.484509\n",
       "3 -2.083592 -0.864048 -0.971342  0.691785  0.564388 -142.935500\n",
       "4  0.239146  0.531043  0.206691 -0.033319 -1.530803  -65.455715"
      ]
     },
     "execution_count": 4,
     "metadata": {},
     "output_type": "execute_result"
    }
   ],
   "source": [
    "df = pd.DataFrame(X,columns=['x1','x2','x3','x4','x5'])\n",
    "df['y'] = y\n",
    "df.head()"
   ]
  },
  {
   "cell_type": "code",
   "execution_count": 5,
   "id": "580f9b47",
   "metadata": {},
   "outputs": [
    {
     "data": {
      "text/plain": [
       "-0.08677434405199426"
      ]
     },
     "execution_count": 5,
     "metadata": {},
     "output_type": "execute_result"
    }
   ],
   "source": [
    "y.mean() # mean of target"
   ]
  },
  {
   "cell_type": "code",
   "execution_count": 6,
   "id": "0bd0e630",
   "metadata": {},
   "outputs": [
    {
     "data": {
      "text/plain": [
       "9830.181265682395"
      ]
     },
     "execution_count": 6,
     "metadata": {},
     "output_type": "execute_result"
    }
   ],
   "source": [
    "y.var() # variance of pop"
   ]
  },
  {
   "cell_type": "markdown",
   "id": "cb8db8c8",
   "metadata": {},
   "source": [
    "# Sample Selection"
   ]
  },
  {
   "cell_type": "code",
   "execution_count": 7,
   "id": "67ea98d2",
   "metadata": {},
   "outputs": [
    {
     "name": "stdout",
     "output_type": "stream",
     "text": [
      "Sample mean is 2.4089920648597856, and the population mean is -0.08677434405199426\n",
      "Sample variance is 10028.353422391347, and the population variance is 9830.181265682395\n"
     ]
    }
   ],
   "source": [
    "sample_size=500\n",
    "sample = df.sample(n=sample_size, random_state=1)\n",
    "\n",
    "print(f\"Sample mean is {sample['y'].mean()}, and the population mean is {y.mean()}\")\n",
    "print(f\"Sample variance is {sample['y'].var()}, and the population variance is {y.var()}\")"
   ]
  },
  {
   "cell_type": "markdown",
   "id": "d19be2f6",
   "metadata": {},
   "source": [
    "### Central Limit Theorem"
   ]
  },
  {
   "cell_type": "markdown",
   "id": "6bc5ad49",
   "metadata": {},
   "source": [
    "The central limit theoram states that if we take large number of samples from any population with finite mean and variance then the distribution of the sample means will follow the normal distribution regradless of the type of the original distribution. Also the mean of these sample means will be equal to the population mean and standard error(standard deviation of the sample means) will decrease with increase in sample size."
   ]
  },
  {
   "cell_type": "markdown",
   "id": "2a429192",
   "metadata": {},
   "source": [
    "<img src='clt.png' />"
   ]
  },
  {
   "cell_type": "code",
   "execution_count": 10,
   "id": "b5810432",
   "metadata": {
    "id": "FjZ-D_Cb8LM8"
   },
   "outputs": [],
   "source": [
    "import numpy as np\n",
    "import matplotlib.pyplot as plt"
   ]
  },
  {
   "cell_type": "code",
   "execution_count": 11,
   "id": "3c03ff4e",
   "metadata": {
    "colab": {
     "base_uri": "https://localhost:8080/",
     "height": 553
    },
    "id": "x4t-Bgbd9Yzh",
    "outputId": "ebbba354-7d1c-472b-b261-e00ec4fa02ce"
   },
   "outputs": [
    {
     "data": {
      "image/png": "[encoded data removed]",
      "text/plain": [
       "<Figure size 900x900 with 4 Axes>"
      ]
     },
     "metadata": {},
     "output_type": "display_data"
    }
   ],
   "source": [
    "# number of samples\n",
    "num = [1,10,50,100]\n",
    "means = [] # sample means\n",
    "\n",
    "# Generate 1 , 10,30,100 random numbers from -50 to +50\n",
    "\n",
    "for i in num:\n",
    "  np.random.seed(0)\n",
    "  x = [np.mean(np.random.randint(-50,50,i)) for _ in range(1000)]\n",
    "  means.append(x)\n",
    "\n",
    "k = 0\n",
    "\n",
    "fig,ax  = plt.subplots(2,2,figsize=(9,9))\n",
    "for i in range(0,2):\n",
    "  for j in range(0,2):\n",
    "    ax[i,j].hist(means[k],10, density=True)\n",
    "    ax[i,j].set_title(label=num[k])\n",
    "    k=k+1\n",
    "plt.show()"
   ]
  },
  {
   "cell_type": "code",
   "execution_count": null,
   "id": "d7989717",
   "metadata": {},
   "outputs": [],
   "source": []
  }
 ],
 "metadata": {
  "kernelspec": {
   "display_name": "Python 3 (ipykernel)",
   "language": "python",
   "name": "python3"
  },
  "language_info": {
   "codemirror_mode": {
    "name": "ipython",
    "version": 3
   },
   "file_extension": ".py",
   "mimetype": "text/x-python",
   "name": "python",
   "nbconvert_exporter": "python",
   "pygments_lexer": "ipython3",
   "version": "3.10.10"
  }
 },
 "nbformat": 4,
 "nbformat_minor": 5
}
