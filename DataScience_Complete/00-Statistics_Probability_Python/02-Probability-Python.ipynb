{
 "cells": [
  {
   "cell_type": "markdown",
   "id": "f322d22b",
   "metadata": {},
   "source": [
    "## Permutations and Combinations"
   ]
  },
  {
   "cell_type": "code",
   "execution_count": 2,
   "id": "734c0e80",
   "metadata": {},
   "outputs": [],
   "source": [
    "import itertools"
   ]
  },
  {
   "cell_type": "markdown",
   "id": "2e423282",
   "metadata": {},
   "source": [
    "* Getting all the permutation of the numbers"
   ]
  },
  {
   "cell_type": "code",
   "execution_count": 3,
   "id": "f4985ce3",
   "metadata": {},
   "outputs": [
    {
     "name": "stdout",
     "output_type": "stream",
     "text": [
      "Permutations of {1, 2, 3}:  \n",
      "(1, 3, 2)\n",
      "(1, 2, 3)\n",
      "(2, 1, 3)\n",
      "(3, 2, 1)\n",
      "(3, 1, 2)\n",
      "(2, 3, 1)\n",
      "Number of permutations:  6\n"
     ]
    }
   ],
   "source": [
    "nums = {1,2,3}\n",
    "permute_all = set(itertools.permutations(nums))\n",
    "print(\"Permutations of %s:  \" %nums)\n",
    "for i in permute_all:\n",
    "    print(i)\n",
    "print (\"Number of permutations: \", len(permute_all))"
   ]
  },
  {
   "cell_type": "code",
   "execution_count": 4,
   "id": "48ec54ea",
   "metadata": {},
   "outputs": [
    {
     "name": "stdout",
     "output_type": "stream",
     "text": [
      "6\n"
     ]
    }
   ],
   "source": [
    "from math import factorial\n",
    "print(factorial(len(nums)))"
   ]
  },
  {
   "cell_type": "markdown",
   "id": "b5ab448b",
   "metadata": {},
   "source": [
    "* Selecting k values from nums"
   ]
  },
  {
   "cell_type": "code",
   "execution_count": 2,
   "id": "13ff05c5",
   "metadata": {},
   "outputs": [
    {
     "name": "stdout",
     "output_type": "stream",
     "text": [
      "3-permutations of {1, 2, 3, 4}:  \n",
      "(1, 2, 3)\n",
      "(1, 2, 4)\n",
      "(1, 3, 2)\n",
      "(1, 3, 4)\n",
      "(1, 4, 2)\n",
      "(1, 4, 3)\n",
      "(2, 1, 3)\n",
      "(2, 1, 4)\n",
      "(2, 3, 1)\n",
      "(2, 3, 4)\n",
      "(2, 4, 1)\n",
      "(2, 4, 3)\n",
      "(3, 1, 2)\n",
      "(3, 1, 4)\n",
      "(3, 2, 1)\n",
      "(3, 2, 4)\n",
      "(3, 4, 1)\n",
      "(3, 4, 2)\n",
      "(4, 1, 2)\n",
      "(4, 1, 3)\n",
      "(4, 2, 1)\n",
      "(4, 2, 3)\n",
      "(4, 3, 1)\n",
      "(4, 3, 2)\n",
      " \n",
      "Size = 4!/(4-3)! = 24\n"
     ]
    }
   ],
   "source": [
    "# Print all the k-permutations of A\n",
    "import itertools\n",
    "nums = {1,2,3,4}\n",
    "k = 3\n",
    "n = len(nums)\n",
    "permute_k = list(itertools.permutations(nums, k))\n",
    "print(\"%i-permutations of %s:  \" %(k,nums))\n",
    "for i in permute_k:\n",
    "    print(i)\n",
    "print(' ')\n",
    "print (\"Size = {}!/({}-{})! = {}\".format(n,n,k, len(permute_k)))"
   ]
  },
  {
   "cell_type": "markdown",
   "id": "36634e1c",
   "metadata": {},
   "source": [
    "**Combinations**\n",
    "\n",
    "Combinatorics is an area of mathematics primarily concerned with counting, both as a means and an end in obtaining results, and certain properties of finite structures."
   ]
  },
  {
   "cell_type": "code",
   "execution_count": 6,
   "id": "0c2666ae",
   "metadata": {},
   "outputs": [],
   "source": [
    "#from scipy.special import binom\n",
    "A = {1, 2, 3, 4}\n",
    "k = 2"
   ]
  },
  {
   "cell_type": "code",
   "execution_count": 7,
   "id": "251b51a0",
   "metadata": {},
   "outputs": [
    {
     "name": "stdout",
     "output_type": "stream",
     "text": [
      "2-combinations of {1, 2, 3, 4}:  \n",
      "(1, 2)\n",
      "(1, 3)\n",
      "(1, 4)\n",
      "(2, 3)\n",
      "(2, 4)\n",
      "(3, 4)\n",
      "Number of combinations = 4!/(2!(4-2)!) = 6\n"
     ]
    }
   ],
   "source": [
    "# Print all the k-combinations of A\n",
    "choose_k = list(itertools.combinations(A,k))\n",
    "print(\"%i-combinations of %s:  \" %(k,A))\n",
    "for i in choose_k:\n",
    "    print(i)\n",
    "print(\"Number of combinations = %i!/(%i!(%i-%i)!) = %i\" %(n,k,n,k,len(choose_k)))"
   ]
  },
  {
   "cell_type": "code",
   "execution_count": 9,
   "id": "76accea0",
   "metadata": {},
   "outputs": [
    {
     "name": "stdout",
     "output_type": "stream",
     "text": [
      "Permutations of {'Eclairs', 'DairyMilk', 'Kitkat'}\n",
      "--------------------------------------------------\n",
      "('DairyMilk', 'Kitkat', 'Eclairs')\n",
      "('Eclairs', 'Kitkat', 'DairyMilk')\n",
      "('DairyMilk', 'Eclairs', 'Kitkat')\n",
      "('Eclairs', 'DairyMilk', 'Kitkat')\n",
      "('Kitkat', 'Eclairs', 'DairyMilk')\n",
      "('Kitkat', 'DairyMilk', 'Eclairs')\n",
      "--------------------------------------------------\n",
      "Number of permutations:  6\n"
     ]
    }
   ],
   "source": [
    "import itertools\n",
    "chocs = {'DairyMilk','Kitkat','Eclairs'}\n",
    "permute_all = set(itertools.permutations(chocs))\n",
    "print(\"Permutations of {}\".format(chocs))\n",
    "print(\"-\"*50)\n",
    "for i in permute_all:\n",
    "    print(i)\n",
    "print(\"-\"*50)\n",
    "print;print (\"Number of permutations: \", len(permute_all))"
   ]
  },
  {
   "cell_type": "code",
   "execution_count": 10,
   "id": "7fa5daac",
   "metadata": {},
   "outputs": [
    {
     "name": "stdout",
     "output_type": "stream",
     "text": [
      "2-permutations of {'Melody', 'Eclairs', 'DairyMilk', 'Kitkat'}:  \n",
      "--------------------------------------------------\n",
      "('Melody', 'Eclairs')\n",
      "('Melody', 'DairyMilk')\n",
      "('Melody', 'Kitkat')\n",
      "('Eclairs', 'Melody')\n",
      "('Eclairs', 'DairyMilk')\n",
      "('Eclairs', 'Kitkat')\n",
      "('DairyMilk', 'Melody')\n",
      "('DairyMilk', 'Eclairs')\n",
      "('DairyMilk', 'Kitkat')\n",
      "('Kitkat', 'Melody')\n",
      "('Kitkat', 'Eclairs')\n",
      "('Kitkat', 'DairyMilk')\n",
      "--------------------------------------------------\n",
      "Size of the permutation set = 4!/(4-2)! = 12\n"
     ]
    }
   ],
   "source": [
    "chocs = {'Eclairs', 'DairyMilk', 'Kitkat','Melody'}\n",
    "k=2\n",
    "n = len(chocs)\n",
    "permute_k = list(itertools.permutations(chocs, k))\n",
    "print(\"{}-permutations of {}:  \".format(k,chocs))\n",
    "print(\"-\"*50)\n",
    "for i in permute_k:\n",
    "    print(i)\n",
    "print(\"-\"*50)\n",
    "print (\"Size of the permutation set = {}!/({}-{})! = {}\".format(n,n,k, len(permute_k)))"
   ]
  },
  {
   "cell_type": "markdown",
   "id": "fb2e83aa",
   "metadata": {},
   "source": [
    "We find the number of $k$-combinations of $C$, first by determining the set of combinations and then by simply calculating:\n",
    "$$\\frac{|C|!}{k!\\times(|C|-k)!}$$\n",
    "\n",
    "**In combination, order matters, unlike permutations.**"
   ]
  },
  {
   "cell_type": "code",
   "execution_count": 11,
   "id": "097ac6b6",
   "metadata": {},
   "outputs": [
    {
     "name": "stdout",
     "output_type": "stream",
     "text": [
      "2-combinations of {'Eclairs', 'Kitkat', 'DairyMilk'}:  \n",
      "('Eclairs', 'Kitkat')\n",
      "('Eclairs', 'DairyMilk')\n",
      "('Kitkat', 'DairyMilk')\n",
      "Number of combinations = 4!/(2!(4-2)!) = 3\n"
     ]
    }
   ],
   "source": [
    "# Print all the k-combinations of A\n",
    "chocs = {'DairyMilk','Kitkat','Eclairs'}\n",
    "choose_k = list(itertools.combinations(chocs,k))\n",
    "print(\"%i-combinations of %s:  \" %(k,chocs))\n",
    "for i in choose_k:\n",
    "    print(i)\n",
    "print;print(\"Number of combinations = %i!/(%i!(%i-%i)!) = %i\" %(n,k,n,k,len(choose_k)  ))"
   ]
  },
  {
   "cell_type": "markdown",
   "id": "face5ecb",
   "metadata": {},
   "source": [
    "<img src='01-Probability.PNG' />"
   ]
  },
  {
   "cell_type": "markdown",
   "id": "3f0c2d19",
   "metadata": {},
   "source": [
    "### Problem 1: Two dice\n",
    "Two dice are rolled together. What is the probability of getting a total which is a multiple of 3?"
   ]
  },
  {
   "cell_type": "code",
   "execution_count": 13,
   "id": "9f60e10b",
   "metadata": {},
   "outputs": [],
   "source": [
    "from itertools import product as prod\n",
    "n_dice = 2\n",
    "dice_faces = {1,2,3,4,5,6}\n",
    "\n",
    "# Construct the event space i.e. set of ALL POSSIBLE events\n",
    "event_space = set(prod(dice_faces,repeat=n_dice))"
   ]
  },
  {
   "cell_type": "code",
   "execution_count": 14,
   "id": "a8bd88b6",
   "metadata": {},
   "outputs": [
    {
     "name": "stdout",
     "output_type": "stream",
     "text": [
      "(3, 4), (4, 3), (3, 1), (5, 4), (4, 6), (5, 1), (2, 2), (1, 6), (2, 5), (1, 3), (6, 2), (6, 5), (4, 2), (4, 5), (3, 3), (5, 6), (3, 6), (5, 3), (2, 4), (1, 2), (2, 1), (1, 5), (6, 1), (6, 4), (3, 2), (4, 1), (3, 5), (5, 2), (4, 4), (5, 5), (1, 1), (1, 4), (2, 3), (2, 6), (6, 6), (6, 3), "
     ]
    }
   ],
   "source": [
    "for outcome in event_space:\n",
    "    print(outcome,end=', ')"
   ]
  },
  {
   "cell_type": "code",
   "execution_count": 15,
   "id": "205f4cff",
   "metadata": {},
   "outputs": [],
   "source": [
    "# What is the set we are interested in?\n",
    "favorable_outcome = []\n",
    "for outcome in event_space:\n",
    "    x,y = outcome\n",
    "    if (x+y)%3==0:\n",
    "        favorable_outcome.append(outcome)\n",
    "favorable_outcome = set(favorable_outcome)"
   ]
  },
  {
   "cell_type": "code",
   "execution_count": 16,
   "id": "835f9ebd",
   "metadata": {},
   "outputs": [
    {
     "name": "stdout",
     "output_type": "stream",
     "text": [
      "(2, 4), (1, 2), (2, 1), (1, 5), (5, 4), (5, 1), (4, 2), (4, 5), (3, 3), (3, 6), (6, 6), (6, 3), "
     ]
    }
   ],
   "source": [
    "for f_outcome in favorable_outcome:\n",
    "    print(f_outcome,end=', ')"
   ]
  },
  {
   "cell_type": "code",
   "execution_count": 17,
   "id": "239506df",
   "metadata": {},
   "outputs": [],
   "source": [
    "prob = len(favorable_outcome)/len(event_space)"
   ]
  },
  {
   "cell_type": "code",
   "execution_count": 18,
   "id": "31029ccc",
   "metadata": {},
   "outputs": [
    {
     "name": "stdout",
     "output_type": "stream",
     "text": [
      "The probability of getting a sum which is a multiple of 3 is:  0.3333333333333333\n"
     ]
    }
   ],
   "source": [
    "print(\"The probability of getting a sum which is a multiple of 3 is: \", prob)"
   ]
  },
  {
   "cell_type": "markdown",
   "id": "0a8ddcd3",
   "metadata": {},
   "source": [
    "### Problem 2: Five dice!\n",
    "Five dice are rolled together. What is the probability of getting a total which is a multiple of 5 but not a multiple of 3?"
   ]
  },
  {
   "cell_type": "code",
   "execution_count": 19,
   "id": "b6bb32b7",
   "metadata": {},
   "outputs": [],
   "source": [
    "n_dice = 5\n",
    "dice_faces = {1,2,3,4,5,6}\n",
    "\n",
    "# Construct the event space i.e. set of ALL POSSIBLE events\n",
    "event_space = set(prod(dice_faces,repeat=n_dice))"
   ]
  },
  {
   "cell_type": "code",
   "execution_count": 20,
   "id": "9de43b89",
   "metadata": {},
   "outputs": [
    {
     "data": {
      "text/plain": [
       "7776"
      ]
     },
     "execution_count": 20,
     "metadata": {},
     "output_type": "execute_result"
    }
   ],
   "source": [
    "6**5"
   ]
  },
  {
   "cell_type": "code",
   "execution_count": 21,
   "id": "aadf8b66",
   "metadata": {},
   "outputs": [],
   "source": [
    "# What is the set we are interested in?\n",
    "favorable_outcome = []\n",
    "for outcome in event_space:\n",
    "    d1,d2,d3,d4,d5 = outcome\n",
    "    if (d1+d2+d3+d4+d5)%5==0 and (d1+d2+d3+d4+d5)%3!=0 :\n",
    "        favorable_outcome.append(outcome)\n",
    "favorable_outcome = set(favorable_outcome)"
   ]
  },
  {
   "cell_type": "code",
   "execution_count": 22,
   "id": "3e1a46b6",
   "metadata": {},
   "outputs": [
    {
     "name": "stdout",
     "output_type": "stream",
     "text": [
      "The probability of getting a sum, which is a multiple of 5 but not a multiple of 3, is:  0.11625514403292181\n"
     ]
    }
   ],
   "source": [
    "prob = len(favorable_outcome)/len(event_space)\n",
    "print(\"The probability of getting a sum, which is a multiple of 5 but not a multiple of 3, is: \", prob)"
   ]
  },
  {
   "cell_type": "markdown",
   "id": "ade9431b",
   "metadata": {},
   "source": [
    "**Calculating Probability of an Event:**\n",
    "\n",
    "There is a standard six-sided die, and calculate the probability of rolling a 4."
   ]
  },
  {
   "cell_type": "code",
   "execution_count": 23,
   "id": "564398ae",
   "metadata": {},
   "outputs": [
    {
     "name": "stdout",
     "output_type": "stream",
     "text": [
      "Probability of rolling a 4: 0.16666666666666666\n"
     ]
    }
   ],
   "source": [
    "# Define the sample space (outcomes of rolling a die)\n",
    "sample_space = [1, 2, 3, 4, 5, 6]\n",
    "\n",
    "# Define the event of interest (rolling a 3)\n",
    "event = 4\n",
    "\n",
    "# Calculate the probability of the event\n",
    "probability = sample_space.count(event) / len(sample_space)\n",
    "print(f\"Probability of rolling a {event}: {probability}\")\n"
   ]
  },
  {
   "cell_type": "markdown",
   "id": "013b0f1e",
   "metadata": {},
   "source": [
    "<img src='02-Probability.PNG' />"
   ]
  },
  {
   "cell_type": "markdown",
   "id": "6a78665c",
   "metadata": {},
   "source": [
    "Imagine you're interested in determining the likelihood of selecting a red card from a standard 52-card deck after you've already chosen a spade (one of the four suits)."
   ]
  },
  {
   "cell_type": "markdown",
   "id": "fb8c11b4",
   "metadata": {},
   "source": [
    "<img src='03-ProbabilityCards_1.PNG' />"
   ]
  },
  {
   "cell_type": "code",
   "execution_count": 24,
   "id": "a7ac7158",
   "metadata": {},
   "outputs": [
    {
     "name": "stdout",
     "output_type": "stream",
     "text": [
      "Conditional Probability of drawing a Red card given a Spade: 0.5\n"
     ]
    }
   ],
   "source": [
    "# Define the sample space (all cards in a deck)\n",
    "sample_space = set([\"Spades\", \"Hearts\", \"Diamonds\", \"Clubs\"])\n",
    "\n",
    "# Define the event of drawing a spade\n",
    "event_spade = \"Spades\"\n",
    "\n",
    "# Define the event of drawing a red card (Hearts or Diamonds)\n",
    "event_red = set([\"Hearts\", \"Diamonds\"])\n",
    "\n",
    "# Calculate conditional probability P(Red | Spade)\n",
    "conditional_probability = len(event_red.intersection(sample_space)) / len(sample_space)\n",
    "print(f\"Conditional Probability of drawing a Red card given a Spade: {conditional_probability}\")\n"
   ]
  },
  {
   "cell_type": "code",
   "execution_count": 25,
   "id": "a4a03211",
   "metadata": {},
   "outputs": [
    {
     "name": "stdout",
     "output_type": "stream",
     "text": [
      "0.3333333333333333\n"
     ]
    }
   ],
   "source": [
    "# define the sample space\n",
    "sample_space = {1, 2, 3, 4, 5, 6}\n",
    "\n",
    "# define the event A \n",
    "event_A = {5, 6}\n",
    "\n",
    "# define the event B \n",
    "event_B = {1, 3, 5}\n",
    "\n",
    "# calculate P(A)\n",
    "prob_A = len(event_A) / len(sample_space)\n",
    "\n",
    "# calculate P(B)\n",
    "prob_B = len(event_B) / len(sample_space)\n",
    "\n",
    "# calculate P(A ∩ B)\n",
    "event_A_intersect_B = event_A.intersection(event_B)\n",
    "prob_A_intersect_B = len(event_A_intersect_B) / len(sample_space)\n",
    "\n",
    "# calculate P(A|B)\n",
    "prob_A_given_B = prob_A_intersect_B / prob_B\n",
    "print(prob_A_given_B) "
   ]
  },
  {
   "cell_type": "code",
   "execution_count": null,
   "id": "fd7af622",
   "metadata": {},
   "outputs": [],
   "source": []
  }
 ],
 "metadata": {
  "kernelspec": {
   "display_name": "Python 3 (ipykernel)",
   "language": "python",
   "name": "python3"
  },
  "language_info": {
   "codemirror_mode": {
    "name": "ipython",
    "version": 3
   },
   "file_extension": ".py",
   "mimetype": "text/x-python",
   "name": "python",
   "nbconvert_exporter": "python",
   "pygments_lexer": "ipython3",
   "version": "3.10.10"
  }
 },
 "nbformat": 4,
 "nbformat_minor": 5
}
