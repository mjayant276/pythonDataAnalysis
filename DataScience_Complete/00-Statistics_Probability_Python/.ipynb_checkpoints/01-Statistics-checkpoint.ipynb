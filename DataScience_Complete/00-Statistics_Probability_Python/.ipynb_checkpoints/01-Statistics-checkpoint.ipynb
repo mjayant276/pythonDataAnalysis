{
 "cells": [
  {
   "cell_type": "markdown",
   "id": "fcbe9459",
   "metadata": {},
   "source": [
    "**To use statistics in python we can use the statistics module**\n",
    "* import statistics as stats"
   ]
  },
  {
   "cell_type": "code",
   "execution_count": 3,
   "id": "5406e4ee",
   "metadata": {},
   "outputs": [],
   "source": [
    "import statistics as stats"
   ]
  },
  {
   "cell_type": "markdown",
   "id": "242d36b9",
   "metadata": {},
   "source": [
    "**Let us try to find the measures of central Location/Tendency**"
   ]
  },
  {
   "cell_type": "markdown",
   "id": "84761b05",
   "metadata": {},
   "source": [
    "* mean - calculate the mean of the integer numbers"
   ]
  },
  {
   "cell_type": "code",
   "execution_count": 6,
   "id": "cedd9c4a",
   "metadata": {
    "scrolled": true
   },
   "outputs": [
    {
     "name": "stdout",
     "output_type": "stream",
     "text": [
      "[0, 1, 2, 3, 4, 5, 6, 7, 8, 9, 10]\n",
      "Mean of the data is 5 \n"
     ]
    }
   ],
   "source": [
    "data = list(range(11))\n",
    "print(data)\n",
    "print('Mean of the data is {} '.format(stats.mean(data)))"
   ]
  },
  {
   "cell_type": "code",
   "execution_count": 5,
   "id": "5493c0b6",
   "metadata": {},
   "outputs": [
    {
     "name": "stdout",
     "output_type": "stream",
     "text": [
      "[1.2, 2.2, 3.2, 4.2, 5.2]\n",
      "Mean of the floating data points is 3.2\n"
     ]
    }
   ],
   "source": [
    "data = [1.2,2.2,3.2,4.2,5.2]\n",
    "print(data)\n",
    "print('Mean of the floating data points is {}'.format(stats.mean(data)))"
   ]
  },
  {
   "cell_type": "markdown",
   "id": "8d4b3442",
   "metadata": {},
   "source": [
    "* fmean - Converts all the numbers to flaoting point numbers and computes the mean"
   ]
  },
  {
   "cell_type": "code",
   "execution_count": 8,
   "id": "67ec4f40",
   "metadata": {},
   "outputs": [
    {
     "name": "stdout",
     "output_type": "stream",
     "text": [
      "[0, 1, 2, 3, 4, 5, 6, 7, 8, 9, 10]\n",
      "Mean of the data is 5.0 \n"
     ]
    }
   ],
   "source": [
    "data = list(range(11))\n",
    "print(data)\n",
    "print('Mean of the data is {} '.format(stats.fmean(data)))"
   ]
  },
  {
   "cell_type": "markdown",
   "id": "00bae858",
   "metadata": {},
   "source": [
    "* Converting string representation of decimal and computing mean"
   ]
  },
  {
   "cell_type": "markdown",
   "id": "f144aadd",
   "metadata": {},
   "source": [
    "* Add weights to the values and compute the mean"
   ]
  },
  {
   "cell_type": "code",
   "execution_count": null,
   "id": "7a5c0c9d",
   "metadata": {
    "scrolled": true
   },
   "outputs": [],
   "source": [
    "# Supported from 3.11 weigths are also supported for computing mean\n",
    "grades = [85, 92, 83, 91]\n",
    "\n",
    "weights = [0.20, 0.20, 0.30, 0.30]\n",
    "\n",
    "stats.fmean(grades, weights)"
   ]
  },
  {
   "cell_type": "code",
   "execution_count": 11,
   "id": "9383ff50",
   "metadata": {},
   "outputs": [
    {
     "name": "stdout",
     "output_type": "stream",
     "text": [
      "Mean of the decimal values are 0.5625\n"
     ]
    }
   ],
   "source": [
    "from decimal import Decimal as D\n",
    "\n",
    "print('Mean of the decimal values are {}'.format(stats.mean([D(\"0.5\"), D(\"0.75\"), D(\"0.625\"), D(\"0.375\")])))"
   ]
  },
  {
   "cell_type": "code",
   "execution_count": 6,
   "id": "69ff9b70",
   "metadata": {},
   "outputs": [
    {
     "name": "stdout",
     "output_type": "stream",
     "text": [
      "Mean of the scores is 22.11111111111111\n",
      "Mean of the salary is 125006000\n"
     ]
    }
   ],
   "source": [
    "import statistics as stats\n",
    "scores = [10,12,13,11,9,14,15,17,98]\n",
    "print('Mean of the scores is {}'.format(stats.mean(scores)))\n",
    "salary = [5000,5500,6500,7000,7500,8000,8500,1000000000]\n",
    "print('Mean of the salary is {}'.format(stats.mean(salary)))"
   ]
  },
  {
   "cell_type": "markdown",
   "id": "6591b707",
   "metadata": {},
   "source": [
    "**Note** - \n",
    "\n",
    "The `mean` is strongly affected by outliers and is not necessarily a typical example of the data points. For a more robust, although less efficient, measure of central tendency,see `median()`"
   ]
  },
  {
   "cell_type": "markdown",
   "id": "b379f0bd",
   "metadata": {},
   "source": [
    "**Goemetric mean for numbers** \n",
    "\n",
    "$$\n",
    "a_1,a_2,a_3.....a_n \n",
    "$$\n"
   ]
  },
  {
   "cell_type": "markdown",
   "id": "b8d28bfc",
   "metadata": {},
   "source": [
    "is given by"
   ]
  },
  {
   "cell_type": "markdown",
   "id": "5026eef3",
   "metadata": {},
   "source": [
    "$$\n",
    "(a_1*a_2*a_3*....*a_n)^\\frac{1}{n}\\\\\n",
    "$$"
   ]
  },
  {
   "cell_type": "code",
   "execution_count": 17,
   "id": "05c1799f",
   "metadata": {},
   "outputs": [
    {
     "data": {
      "text/plain": [
       "36.000000000000014"
      ]
     },
     "execution_count": 17,
     "metadata": {},
     "output_type": "execute_result"
    }
   ],
   "source": [
    "stats.geometric_mean([54, 24, 36])"
   ]
  },
  {
   "cell_type": "code",
   "execution_count": 19,
   "id": "2e9a24b4",
   "metadata": {},
   "outputs": [
    {
     "data": {
      "text/plain": [
       "36.0"
      ]
     },
     "execution_count": 19,
     "metadata": {},
     "output_type": "execute_result"
    }
   ],
   "source": [
    "# round function rounds of the geometric mean to the nearest decimal value\n",
    "round(stats.geometric_mean([54, 24, 36]),9)"
   ]
  },
  {
   "cell_type": "markdown",
   "id": "95f2dc97",
   "metadata": {},
   "source": [
    "**Harmonic mean for numbers**"
   ]
  },
  {
   "cell_type": "markdown",
   "id": "563d764b",
   "metadata": {},
   "source": [
    "The harmonic mean is the reciprocal of the arithmetic `mean()` of the reciprocals of the data. For example, the harmonic mean of three values a, b and c will be equivalent to `3/(1/a + 1/b + 1/c)`. If one of the values is zero, the result will be zero"
   ]
  },
  {
   "cell_type": "code",
   "execution_count": 20,
   "id": "a3615112",
   "metadata": {},
   "outputs": [
    {
     "data": {
      "text/plain": [
       "55.38461538461538"
      ]
     },
     "execution_count": 20,
     "metadata": {},
     "output_type": "execute_result"
    }
   ],
   "source": [
    "stats.harmonic_mean([40, 60, 80])"
   ]
  },
  {
   "cell_type": "markdown",
   "id": "b914cda9",
   "metadata": {},
   "source": [
    "* `median` the median (middle value) of numeric data, using the common “mean of middle two” method. If data is empty, StatisticsError is raised"
   ]
  },
  {
   "cell_type": "code",
   "execution_count": 22,
   "id": "789e7fbe",
   "metadata": {},
   "outputs": [
    {
     "data": {
      "text/plain": [
       "3"
      ]
     },
     "execution_count": 22,
     "metadata": {},
     "output_type": "execute_result"
    }
   ],
   "source": [
    "stats.median([1,3,5])"
   ]
  },
  {
   "cell_type": "markdown",
   "id": "a88259d5",
   "metadata": {},
   "source": [
    "* When the number of data points is even, the median is interpolated by taking the average of the two middle values:"
   ]
  },
  {
   "cell_type": "code",
   "execution_count": 23,
   "id": "d5955152",
   "metadata": {},
   "outputs": [
    {
     "data": {
      "text/plain": [
       "4.0"
      ]
     },
     "execution_count": 23,
     "metadata": {},
     "output_type": "execute_result"
    }
   ],
   "source": [
    "stats.median([1, 3, 5, 7])"
   ]
  },
  {
   "cell_type": "markdown",
   "id": "98666695",
   "metadata": {},
   "source": [
    "* `median_low` - Return the low median of numeric data. If data is empty, StatisticsError is raised. \n",
    " - The low median is always a member of the data set.\n",
    " - When the number of data points is odd, the middle value is returned. When it is even, the smaller of the two middle values is returned."
   ]
  },
  {
   "cell_type": "code",
   "execution_count": 24,
   "id": "037a5086",
   "metadata": {},
   "outputs": [
    {
     "data": {
      "text/plain": [
       "3"
      ]
     },
     "execution_count": 24,
     "metadata": {},
     "output_type": "execute_result"
    }
   ],
   "source": [
    "stats.median_low([1, 3, 5])"
   ]
  },
  {
   "cell_type": "code",
   "execution_count": 25,
   "id": "a8c56d4e",
   "metadata": {},
   "outputs": [
    {
     "data": {
      "text/plain": [
       "3"
      ]
     },
     "execution_count": 25,
     "metadata": {},
     "output_type": "execute_result"
    }
   ],
   "source": [
    "stats.median_low([1, 3, 5, 7])"
   ]
  },
  {
   "cell_type": "markdown",
   "id": "f47a9f0c",
   "metadata": {},
   "source": [
    "* `median_high`\n",
    "   - Return the high median of data. If data is empty, StatisticsError is raised. \n",
    "   - The high median is always a member of the data set. \n",
    "   - When the number of data points is odd, the middle value is returned. When it is even, the larger of the two middle values is returned."
   ]
  },
  {
   "cell_type": "code",
   "execution_count": 26,
   "id": "6a96c5a5",
   "metadata": {},
   "outputs": [
    {
     "data": {
      "text/plain": [
       "3"
      ]
     },
     "execution_count": 26,
     "metadata": {},
     "output_type": "execute_result"
    }
   ],
   "source": [
    "stats.median_high([1, 3, 5])"
   ]
  },
  {
   "cell_type": "code",
   "execution_count": 27,
   "id": "d077f0ff",
   "metadata": {},
   "outputs": [
    {
     "data": {
      "text/plain": [
       "5"
      ]
     },
     "execution_count": 27,
     "metadata": {},
     "output_type": "execute_result"
    }
   ],
   "source": [
    "stats.median_high([1, 3, 5, 7])"
   ]
  },
  {
   "cell_type": "markdown",
   "id": "368152cb",
   "metadata": {},
   "source": [
    "* `mode()`\n",
    "  - return the single most common data point from discrete or nominal data. \n",
    "  - The mode (when it exists) is the most typical value and serves as a measure of central location.\n",
    "\n",
    "  - If there are multiple modes with the same frequency, returns the first one encountered in the data. \n",
    "  - `mode` assumes discrete data and returns a single value. "
   ]
  },
  {
   "cell_type": "code",
   "execution_count": 28,
   "id": "298c49f5",
   "metadata": {},
   "outputs": [
    {
     "data": {
      "text/plain": [
       "13"
      ]
     },
     "execution_count": 28,
     "metadata": {},
     "output_type": "execute_result"
    }
   ],
   "source": [
    "stats.mode([11, 11, 12, 13, 13, 13, 13, 14])"
   ]
  },
  {
   "cell_type": "code",
   "execution_count": 29,
   "id": "ba4ab947",
   "metadata": {},
   "outputs": [
    {
     "data": {
      "text/plain": [
       "'apple'"
      ]
     },
     "execution_count": 29,
     "metadata": {},
     "output_type": "execute_result"
    }
   ],
   "source": [
    "stats.mode([\"apple\", \"banana\", \"banana\", \"apple\", \"mango\", \"apple\", \"apple\"])"
   ]
  },
  {
   "cell_type": "markdown",
   "id": "0ae319ef",
   "metadata": {},
   "source": [
    "* `pstdev` - Return the population standard deviation "
   ]
  },
  {
   "cell_type": "code",
   "execution_count": 30,
   "id": "3ce70108",
   "metadata": {},
   "outputs": [
    {
     "data": {
      "text/plain": [
       "0.986893273527251"
      ]
     },
     "execution_count": 30,
     "metadata": {},
     "output_type": "execute_result"
    }
   ],
   "source": [
    "stats.pstdev([1.5, 2.5, 2.5, 2.75, 3.25, 4.75])"
   ]
  },
  {
   "cell_type": "markdown",
   "id": "1b8f3d76",
   "metadata": {},
   "source": [
    "* `pvariance` - Return the population variance of data, a non-empty sequence or iterable of real-valued numbers. Variance, or second moment about the mean, is a measure of the variability"
   ]
  },
  {
   "cell_type": "code",
   "execution_count": 31,
   "id": "bbecbc24",
   "metadata": {},
   "outputs": [
    {
     "data": {
      "text/plain": [
       "1.25"
      ]
     },
     "execution_count": 31,
     "metadata": {},
     "output_type": "execute_result"
    }
   ],
   "source": [
    "data = [0.0, 0.25, 0.25, 1.25, 1.5, 1.75, 2.75, 3.25]\n",
    "stats.pvariance(data)"
   ]
  },
  {
   "cell_type": "markdown",
   "id": "f395b29a",
   "metadata": {},
   "source": [
    "If you have already calculated the mean of your data, you can pass it as the optional second argument mu"
   ]
  },
  {
   "cell_type": "code",
   "execution_count": 32,
   "id": "94d570b2",
   "metadata": {},
   "outputs": [
    {
     "data": {
      "text/plain": [
       "1.25"
      ]
     },
     "execution_count": 32,
     "metadata": {},
     "output_type": "execute_result"
    }
   ],
   "source": [
    "mu = stats.mean(data)\n",
    "stats.pvariance(data, mu)"
   ]
  },
  {
   "cell_type": "markdown",
   "id": "780c75d6",
   "metadata": {},
   "source": [
    "* `stdev` - Return the sample standard deviation (the square root of the sample variance)"
   ]
  },
  {
   "cell_type": "code",
   "execution_count": 33,
   "id": "c3d411a3",
   "metadata": {},
   "outputs": [
    {
     "data": {
      "text/plain": [
       "1.0810874155219827"
      ]
     },
     "execution_count": 33,
     "metadata": {},
     "output_type": "execute_result"
    }
   ],
   "source": [
    "stats.stdev([1.5, 2.5, 2.5, 2.75, 3.25, 4.75])"
   ]
  },
  {
   "cell_type": "markdown",
   "id": "66b0f4cb",
   "metadata": {},
   "source": [
    "* `variance` - Return the sample variance of data, an iterable of at least two real-valued numbers. Variance, or second moment about the mean, is a measure of the variability (spread or dispersion) of data."
   ]
  },
  {
   "cell_type": "code",
   "execution_count": 34,
   "id": "d78afbac",
   "metadata": {},
   "outputs": [
    {
     "data": {
      "text/plain": [
       "1.3720238095238095"
      ]
     },
     "execution_count": 34,
     "metadata": {},
     "output_type": "execute_result"
    }
   ],
   "source": [
    "data = [2.75, 1.75, 1.25, 0.25, 0.5, 1.25, 3.5]\n",
    "stats.variance(data)"
   ]
  },
  {
   "cell_type": "markdown",
   "id": "9534b9b6",
   "metadata": {},
   "source": [
    "* `quantiles` - Divide data into n continuous intervals with equal probability. Returns a list of n - 1 cut points separating the intervals.\n",
    "\n",
    "Set n to 4 for quartiles (the default)."
   ]
  },
  {
   "cell_type": "code",
   "execution_count": 35,
   "id": "ffba69d4",
   "metadata": {},
   "outputs": [],
   "source": [
    "data = [105, 129, 87, 86, 111, 111, 89, 81, 108, 92, 110,\n",
    "\n",
    "        100, 75, 105, 103, 109, 76, 119, 99, 91, 103, 129,\n",
    "\n",
    "        106, 101, 84, 111, 74, 87, 86, 103, 103, 106, 86,\n",
    "\n",
    "        111, 75, 87, 102, 121, 111, 88, 89, 101, 106, 95,\n",
    "\n",
    "        103, 107, 101, 81, 109, 104]"
   ]
  },
  {
   "cell_type": "code",
   "execution_count": 37,
   "id": "344354c4",
   "metadata": {},
   "outputs": [
    {
     "data": {
      "text/plain": [
       "[87.0, 102.5, 108.2]"
      ]
     },
     "execution_count": 37,
     "metadata": {},
     "output_type": "execute_result"
    }
   ],
   "source": [
    "[round(q, 1) for q in stats.quantiles(data)]"
   ]
  },
  {
   "cell_type": "code",
   "execution_count": 38,
   "id": "d92ab3f8",
   "metadata": {},
   "outputs": [
    {
     "data": {
      "text/plain": [
       "[86.2, 99.4, 103.6, 109.8]"
      ]
     },
     "execution_count": 38,
     "metadata": {},
     "output_type": "execute_result"
    }
   ],
   "source": [
    "[round(q, 1) for q in stats.quantiles(data, n=5)]"
   ]
  },
  {
   "cell_type": "markdown",
   "id": "6e117c83",
   "metadata": {},
   "source": [
    "* `covariance(x,y)`\n",
    "   - Return the sample covariance of two inputs x and y. Covariance is a measure of the joint variability of two inputs."
   ]
  },
  {
   "cell_type": "code",
   "execution_count": 40,
   "id": "b0a5f8a0",
   "metadata": {},
   "outputs": [
    {
     "data": {
      "text/plain": [
       "0.75"
      ]
     },
     "execution_count": 40,
     "metadata": {},
     "output_type": "execute_result"
    }
   ],
   "source": [
    "x = [1, 2, 3, 4, 5, 6, 7, 8, 9]\n",
    "\n",
    "y = [1, 2, 3, 1, 2, 3, 1, 2, 3]\n",
    "stats.covariance(x, y)"
   ]
  },
  {
   "cell_type": "markdown",
   "id": "6a35e7c1",
   "metadata": {},
   "source": [
    "* `correlation`\n",
    "Pearson’s correlation coefficient r takes values between -1 and +1. It measures the strength and direction of the linear relationship, where +1 means very strong, positive linear relationship, -1 very strong, negative linear relationship, and 0 no linear relationship"
   ]
  },
  {
   "cell_type": "code",
   "execution_count": 41,
   "id": "fc1e8eca",
   "metadata": {},
   "outputs": [
    {
     "name": "stdout",
     "output_type": "stream",
     "text": [
      "Correlation between x and x is 1.0\n"
     ]
    }
   ],
   "source": [
    "x = [1, 2, 3, 4, 5, 6, 7, 8, 9]\n",
    "\n",
    "y = [9, 8, 7, 6, 5, 4, 3, 2, 1]\n",
    "print('Correlation between x and x is {}'.format(stats.correlation(x, x)))"
   ]
  },
  {
   "cell_type": "code",
   "execution_count": 42,
   "id": "09f31546",
   "metadata": {},
   "outputs": [
    {
     "name": "stdout",
     "output_type": "stream",
     "text": [
      "Correlation between x and y is -1.0\n"
     ]
    }
   ],
   "source": [
    "x = [1, 2, 3, 4, 5, 6, 7, 8, 9]\n",
    "\n",
    "y = [9, 8, 7, 6, 5, 4, 3, 2, 1]\n",
    "print('Correlation between x and y is {}'.format(stats.correlation(x, y)))"
   ]
  },
  {
   "cell_type": "markdown",
   "id": "e4197667",
   "metadata": {},
   "source": [
    "`quantiles` - Quantiles for the various values"
   ]
  },
  {
   "cell_type": "code",
   "execution_count": 4,
   "id": "3df4ab7d",
   "metadata": {},
   "outputs": [],
   "source": [
    "c = [70, 85, 90, 98, 104, 105, 107]"
   ]
  },
  {
   "cell_type": "code",
   "execution_count": 6,
   "id": "05a91584",
   "metadata": {},
   "outputs": [],
   "source": [
    "q = stats.quantiles(c)"
   ]
  },
  {
   "cell_type": "code",
   "execution_count": 7,
   "id": "e2dce457",
   "metadata": {},
   "outputs": [
    {
     "data": {
      "text/plain": [
       "[85.0, 98.0, 105.0]"
      ]
     },
     "execution_count": 7,
     "metadata": {},
     "output_type": "execute_result"
    }
   ],
   "source": [
    "q"
   ]
  },
  {
   "cell_type": "code",
   "execution_count": 8,
   "id": "f8acdd42",
   "metadata": {},
   "outputs": [
    {
     "data": {
      "text/plain": [
       "20.0"
      ]
     },
     "execution_count": 8,
     "metadata": {},
     "output_type": "execute_result"
    }
   ],
   "source": [
    "q[2] - q[0]"
   ]
  },
  {
   "cell_type": "code",
   "execution_count": 9,
   "id": "088e6496",
   "metadata": {},
   "outputs": [],
   "source": [
    "import matplotlib.pyplot as plt\n",
    "import seaborn as sns"
   ]
  },
  {
   "cell_type": "code",
   "execution_count": 10,
   "id": "12befe22",
   "metadata": {
    "scrolled": true
   },
   "outputs": [
    {
     "data": {
      "image/png": "[encoded data removed]",
      "text/plain": [
       "<Figure size 640x480 with 1 Axes>"
      ]
     },
     "metadata": {},
     "output_type": "display_data"
    }
   ],
   "source": [
    "sns.boxplot(y = c)\n",
    "plt.show()"
   ]
  },
  {
   "cell_type": "markdown",
   "id": "03b9ed10",
   "metadata": {},
   "source": [
    "* `zscore` - Compute the Standard Score describing x in terms of the number of standard deviations above or below the mean of the normal distribution: `(x - mean) / stdev`"
   ]
  },
  {
   "cell_type": "code",
   "execution_count": 2,
   "id": "b344adee",
   "metadata": {},
   "outputs": [
    {
     "name": "stdout",
     "output_type": "stream",
     "text": [
      "-1.5384615384615383\n",
      "-------\n",
      "0.0\n",
      "-------\n",
      "3.0769230769230766\n"
     ]
    }
   ],
   "source": [
    "import statistics as stats\n",
    "mean = 7\n",
    "standard_deviation = 1.3\n",
    "\n",
    "zscore = stats.NormalDist(mean, standard_deviation).zscore(5)\n",
    "print(zscore)\n",
    "\n",
    "print('-------')\n",
    "print(stats.NormalDist(mean, standard_deviation).zscore(7))\n",
    "\n",
    "\n",
    "print('-------')\n",
    "print(stats.NormalDist(mean, standard_deviation).zscore(11))"
   ]
  },
  {
   "cell_type": "code",
   "execution_count": 12,
   "id": "dd2d9c70",
   "metadata": {},
   "outputs": [
    {
     "name": "stdout",
     "output_type": "stream",
     "text": [
      "[-1.2493901  -1.01512945 -0.78086881 -0.78086881 -0.78086881 -0.54660817\n",
      " -0.31234752  0.62469505  0.85895569  0.85895569  1.09321633  2.0302589 ]\n"
     ]
    }
   ],
   "source": [
    "## import scipy stats module to calculate the z-scores for the various values\n",
    "import scipy.stats as stats\n",
    "values = [4,5,6,6,6,7,8,12,13,13,14,18]\n",
    "\n",
    "zscores = stats.zscore(values)\n",
    "print(zscores)"
   ]
  },
  {
   "cell_type": "code",
   "execution_count": null,
   "id": "75d9305b",
   "metadata": {},
   "outputs": [],
   "source": []
  }
 ],
 "metadata": {
  "kernelspec": {
   "display_name": "Python 3 (ipykernel)",
   "language": "python",
   "name": "python3"
  },
  "language_info": {
   "codemirror_mode": {
    "name": "ipython",
    "version": 3
   },
   "file_extension": ".py",
   "mimetype": "text/x-python",
   "name": "python",
   "nbconvert_exporter": "python",
   "pygments_lexer": "ipython3",
   "version": "3.10.10"
  }
 },
 "nbformat": 4,
 "nbformat_minor": 5
}
