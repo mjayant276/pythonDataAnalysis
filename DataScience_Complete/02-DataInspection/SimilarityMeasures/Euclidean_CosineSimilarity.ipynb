{
 "cells": [
  {
   "cell_type": "markdown",
   "id": "092b8dc4",
   "metadata": {},
   "source": [
    "### Euclidean vs. Cosine Distance"
   ]
  },
  {
   "cell_type": "markdown",
   "id": "ab1613a5",
   "metadata": {},
   "source": [
    "* Let us consider the parking area as below - where the dimensions of the parking area are given below. \n",
    "  - The categorization of the parking areas are given below in the following order. \n",
    "  - `0` for `low parking area`\n",
    "  - `1` for `medium parking area`\n",
    "  - `2` for `high parking area`  "
   ]
  },
  {
   "cell_type": "code",
   "execution_count": 1,
   "id": "b10a8043",
   "metadata": {},
   "outputs": [],
   "source": [
    "import numpy as np\n",
    "\n",
    "X = np.array([[6.6, 6.2, 1],\n",
    "              [9.7, 9.9, 2],\n",
    "              [8.0, 8.3, 2],\n",
    "              [6.3, 5.4, 1],\n",
    "              [1.3, 2.7, 0],\n",
    "              [2.3, 3.1, 0],\n",
    "              [6.6, 6.0, 1],\n",
    "              [6.5, 6.4, 1],\n",
    "              [6.3, 5.8, 1],\n",
    "              [9.5, 9.9, 2],\n",
    "              [8.9, 8.9, 2],\n",
    "              [8.7, 9.5, 2],\n",
    "              [2.5, 3.8, 0],\n",
    "              [2.0, 3.1, 0],\n",
    "              [1.3, 1.3, 0]])"
   ]
  },
  {
   "cell_type": "code",
   "execution_count": 3,
   "id": "8c2e2eef",
   "metadata": {},
   "outputs": [
    {
     "data": {
      "text/html": [
       "<div>\n",
       "<style scoped>\n",
       "    .dataframe tbody tr th:only-of-type {\n",
       "        vertical-align: middle;\n",
       "    }\n",
       "\n",
       "    .dataframe tbody tr th {\n",
       "        vertical-align: top;\n",
       "    }\n",
       "\n",
       "    .dataframe thead th {\n",
       "        text-align: right;\n",
       "    }\n",
       "</style>\n",
       "<table border=\"1\" class=\"dataframe\">\n",
       "  <thead>\n",
       "    <tr style=\"text-align: right;\">\n",
       "      <th></th>\n",
       "      <th>x1</th>\n",
       "      <th>x2</th>\n",
       "      <th>y</th>\n",
       "    </tr>\n",
       "  </thead>\n",
       "  <tbody>\n",
       "    <tr>\n",
       "      <th>0</th>\n",
       "      <td>6.6</td>\n",
       "      <td>6.2</td>\n",
       "      <td>1.0</td>\n",
       "    </tr>\n",
       "    <tr>\n",
       "      <th>1</th>\n",
       "      <td>9.7</td>\n",
       "      <td>9.9</td>\n",
       "      <td>2.0</td>\n",
       "    </tr>\n",
       "    <tr>\n",
       "      <th>2</th>\n",
       "      <td>8.0</td>\n",
       "      <td>8.3</td>\n",
       "      <td>2.0</td>\n",
       "    </tr>\n",
       "    <tr>\n",
       "      <th>3</th>\n",
       "      <td>6.3</td>\n",
       "      <td>5.4</td>\n",
       "      <td>1.0</td>\n",
       "    </tr>\n",
       "    <tr>\n",
       "      <th>4</th>\n",
       "      <td>1.3</td>\n",
       "      <td>2.7</td>\n",
       "      <td>0.0</td>\n",
       "    </tr>\n",
       "    <tr>\n",
       "      <th>5</th>\n",
       "      <td>2.3</td>\n",
       "      <td>3.1</td>\n",
       "      <td>0.0</td>\n",
       "    </tr>\n",
       "    <tr>\n",
       "      <th>6</th>\n",
       "      <td>6.6</td>\n",
       "      <td>6.0</td>\n",
       "      <td>1.0</td>\n",
       "    </tr>\n",
       "    <tr>\n",
       "      <th>7</th>\n",
       "      <td>6.5</td>\n",
       "      <td>6.4</td>\n",
       "      <td>1.0</td>\n",
       "    </tr>\n",
       "    <tr>\n",
       "      <th>8</th>\n",
       "      <td>6.3</td>\n",
       "      <td>5.8</td>\n",
       "      <td>1.0</td>\n",
       "    </tr>\n",
       "    <tr>\n",
       "      <th>9</th>\n",
       "      <td>9.5</td>\n",
       "      <td>9.9</td>\n",
       "      <td>2.0</td>\n",
       "    </tr>\n",
       "    <tr>\n",
       "      <th>10</th>\n",
       "      <td>8.9</td>\n",
       "      <td>8.9</td>\n",
       "      <td>2.0</td>\n",
       "    </tr>\n",
       "    <tr>\n",
       "      <th>11</th>\n",
       "      <td>8.7</td>\n",
       "      <td>9.5</td>\n",
       "      <td>2.0</td>\n",
       "    </tr>\n",
       "    <tr>\n",
       "      <th>12</th>\n",
       "      <td>2.5</td>\n",
       "      <td>3.8</td>\n",
       "      <td>0.0</td>\n",
       "    </tr>\n",
       "    <tr>\n",
       "      <th>13</th>\n",
       "      <td>2.0</td>\n",
       "      <td>3.1</td>\n",
       "      <td>0.0</td>\n",
       "    </tr>\n",
       "    <tr>\n",
       "      <th>14</th>\n",
       "      <td>1.3</td>\n",
       "      <td>1.3</td>\n",
       "      <td>0.0</td>\n",
       "    </tr>\n",
       "  </tbody>\n",
       "</table>\n",
       "</div>"
      ],
      "text/plain": [
       "     x1   x2    y\n",
       "0   6.6  6.2  1.0\n",
       "1   9.7  9.9  2.0\n",
       "2   8.0  8.3  2.0\n",
       "3   6.3  5.4  1.0\n",
       "4   1.3  2.7  0.0\n",
       "5   2.3  3.1  0.0\n",
       "6   6.6  6.0  1.0\n",
       "7   6.5  6.4  1.0\n",
       "8   6.3  5.8  1.0\n",
       "9   9.5  9.9  2.0\n",
       "10  8.9  8.9  2.0\n",
       "11  8.7  9.5  2.0\n",
       "12  2.5  3.8  0.0\n",
       "13  2.0  3.1  0.0\n",
       "14  1.3  1.3  0.0"
      ]
     },
     "execution_count": 3,
     "metadata": {},
     "output_type": "execute_result"
    }
   ],
   "source": [
    "import pandas as pd\n",
    "df = pd.DataFrame(X, columns=['x1', 'x2', 'y'])\n",
    "df"
   ]
  },
  {
   "cell_type": "code",
   "execution_count": 4,
   "id": "aee9777c",
   "metadata": {},
   "outputs": [
    {
     "data": {
      "text/plain": [
       "<Axes: xlabel='x1', ylabel='x2'>"
      ]
     },
     "execution_count": 4,
     "metadata": {},
     "output_type": "execute_result"
    },
    {
     "data": {
      "image/png": "[encoded data removed]",
      "text/plain": [
       "<Figure size 640x480 with 1 Axes>"
      ]
     },
     "metadata": {},
     "output_type": "display_data"
    }
   ],
   "source": [
    "%matplotlib inline\n",
    "\n",
    "ax = df[df['y'] == 0].plot.scatter(x='x1', y='x2', c='blue', label='low')\n",
    "ax = df[df['y'] == 1].plot.scatter(x='x1', y='x2', c='orange', label='medium', ax=ax)\n",
    "ax = df[df['y'] == 2].plot.scatter(x='x1', y='x2', c='red', label='high', ax=ax)\n",
    "ax\n"
   ]
  },
  {
   "cell_type": "code",
   "execution_count": 6,
   "id": "2c52003d",
   "metadata": {},
   "outputs": [
    {
     "data": {
      "text/plain": [
       "<Axes: xlabel='x1', ylabel='x2'>"
      ]
     },
     "execution_count": 6,
     "metadata": {},
     "output_type": "execute_result"
    },
    {
     "data": {
      "image/png": "[encoded data removed]",
      "text/plain": [
       "<Figure size 640x480 with 1 Axes>"
      ]
     },
     "metadata": {},
     "output_type": "display_data"
    }
   ],
   "source": [
    "df2 = pd.DataFrame([df.iloc[0], df.iloc[1], df.iloc[4]], columns=['x1', 'x2', 'y'])\n",
    "df3 = pd.DataFrame([df.iloc[14]], columns=['x1', 'x2', 'y'])\n",
    "\n",
    "ax = df2[df2['y'] == 0].plot.scatter(x='x1', y='x2', c='blue', label='low')\n",
    "ax = df2[df2['y'] == 1].plot.scatter(x='x1', y='x2', c='orange', label='medium', ax=ax)\n",
    "ax = df2[df2['y'] == 2].plot.scatter(x='x1', y='x2', c='red', label='high', ax=ax)\n",
    "ax = df3.plot.scatter(x='x1', y='x2', c='gray', label='?', ax=ax)\n",
    "ax\n"
   ]
  },
  {
   "cell_type": "markdown",
   "id": "8be05bf3",
   "metadata": {},
   "source": [
    "### Euclidean Distance \n",
    "<img src='01-similaritymeasures.PNG' />"
   ]
  },
  {
   "cell_type": "markdown",
   "id": "74a37bf2",
   "metadata": {},
   "source": [
    "* The distance between two vectors can be calculated as below. "
   ]
  },
  {
   "cell_type": "code",
   "execution_count": 7,
   "id": "44cd9fcf",
   "metadata": {},
   "outputs": [],
   "source": [
    "## Euclidean distance is calculated as below. \n",
    "def euclidean_distance(x, y):   \n",
    "    return np.sqrt(np.sum((x - y) ** 2))"
   ]
  },
  {
   "cell_type": "code",
   "execution_count": 8,
   "id": "2a713ab0",
   "metadata": {},
   "outputs": [
    {
     "name": "stdout",
     "output_type": "stream",
     "text": [
      " x0: [6.6 6.2] \n",
      " x1: [9.7 9.9] \n",
      " x4: [1.3 2.7] \n",
      "x14: [1.3 1.3]\n"
     ]
    }
   ],
   "source": [
    "x0 = X[0][:-1]\n",
    "x1 = X[1][:-1]\n",
    "x4 = X[4][:-1]\n",
    "x14 = X[14][:-1]\n",
    "print(\" x0:\", x0, \"\\n x1:\", x1, \"\\n x4:\", x4, \"\\nx14:\", x14)"
   ]
  },
  {
   "cell_type": "code",
   "execution_count": 9,
   "id": "7c6c32ae",
   "metadata": {},
   "outputs": [
    {
     "name": "stdout",
     "output_type": "stream",
     "text": [
      " x14 and x0: 7.218032973047436 \n",
      " x14 and x1: 12.021647141718974 \n",
      " x14 and x4: 1.4000000000000001\n"
     ]
    }
   ],
   "source": [
    "print(\" x14 and x0:\", euclidean_distance(x14, x0), \"\\n\",\n",
    "      \"x14 and x1:\", euclidean_distance(x14, x1), \"\\n\",\n",
    "      \"x14 and x4:\", euclidean_distance(x14, x4))"
   ]
  },
  {
   "cell_type": "markdown",
   "id": "cfd62780",
   "metadata": {},
   "source": [
    "### Cosine Similarity"
   ]
  },
  {
   "cell_type": "markdown",
   "id": "7fdc5d11",
   "metadata": {},
   "source": [
    "<img src='02-CosineSimilarity.PNG' />"
   ]
  },
  {
   "cell_type": "code",
   "execution_count": 10,
   "id": "e5c901e3",
   "metadata": {},
   "outputs": [],
   "source": [
    "def cosine_similarity(x, y):\n",
    "    return np.dot(x, y) / (np.sqrt(np.dot(x, x)) * np.sqrt(np.dot(y, y)))"
   ]
  },
  {
   "cell_type": "code",
   "execution_count": 11,
   "id": "54042b62",
   "metadata": {},
   "outputs": [
    {
     "name": "stdout",
     "output_type": "stream",
     "text": [
      " x14 and x0: 0.9995120760870786 \n",
      " x14 and x1: 0.9999479424242859 \n",
      " x14 and x4: 0.9438583563660174\n"
     ]
    }
   ],
   "source": [
    "print(\" x14 and x0:\", cosine_similarity(x14, x0), \"\\n\",\n",
    "      \"x14 and x1:\", cosine_similarity(x14, x1), \"\\n\",\n",
    "      \"x14 and x4:\", cosine_similarity(x14, x4))"
   ]
  },
  {
   "cell_type": "code",
   "execution_count": 13,
   "id": "2d9546b7",
   "metadata": {},
   "outputs": [
    {
     "data": {
      "text/plain": [
       "array([9.7, 9.9, 2. ])"
      ]
     },
     "execution_count": 13,
     "metadata": {},
     "output_type": "execute_result"
    }
   ],
   "source": [
    "## We can get the record for the \n",
    "X[1]"
   ]
  },
  {
   "cell_type": "code",
   "execution_count": 14,
   "id": "a358e793",
   "metadata": {},
   "outputs": [
    {
     "name": "stdout",
     "output_type": "stream",
     "text": [
      "vectors \t [6.6 6.2] [9.7 9.9] \n",
      "euclidean \t 4.827007354458868 \n",
      "cosine \t\t 0.9991413385403556\n"
     ]
    }
   ],
   "source": [
    "print(\"vectors \\t\", x0, x1, \"\\n\"\n",
    "      \"euclidean \\t\", euclidean_distance(x0, x1), \"\\n\"\n",
    "      \"cosine \\t\\t\", cosine_similarity(x0, x1))"
   ]
  },
  {
   "cell_type": "markdown",
   "id": "e7ba3fd6",
   "metadata": {},
   "source": [
    "### L1 Norm \n",
    "<img src='l1_norm_l2norm.PNG' />"
   ]
  },
  {
   "cell_type": "code",
   "execution_count": 16,
   "id": "84033c18",
   "metadata": {},
   "outputs": [],
   "source": [
    "def l1_normalize(v):\n",
    "    norm = np.sum(v)\n",
    "    return v / norm\n",
    "\n",
    "\n",
    "\n",
    "def l2_normalize(v):\n",
    "    norm = np.sqrt(np.sum(np.square(v)))\n",
    "    return v / norm"
   ]
  },
  {
   "cell_type": "code",
   "execution_count": 17,
   "id": "2e251fcc",
   "metadata": {},
   "outputs": [
    {
     "name": "stdout",
     "output_type": "stream",
     "text": [
      "[0.515625 0.484375] [0.49489796 0.50510204]\n"
     ]
    }
   ],
   "source": [
    "x0_n = l1_normalize(x0)\n",
    "x1_n = l1_normalize(x1)\n",
    "print(x0_n, x1_n)"
   ]
  },
  {
   "cell_type": "code",
   "execution_count": 18,
   "id": "7b091f0d",
   "metadata": {},
   "outputs": [
    {
     "name": "stdout",
     "output_type": "stream",
     "text": [
      "vectors \t [0.515625 0.484375] [0.49489796 0.50510204] \n",
      "euclidean \t 0.029312462230309616 \n",
      "cosine \t\t 0.9991413385403558\n"
     ]
    }
   ],
   "source": [
    "print(\"vectors \\t\", x0_n, x1_n, \"\\n\"\n",
    "      \"euclidean \\t\", euclidean_distance(x0_n, x1_n), \"\\n\"\n",
    "      \"cosine \\t\\t\", cosine_similarity(x0_n, x1_n))"
   ]
  },
  {
   "cell_type": "code",
   "execution_count": 19,
   "id": "e581cb8c",
   "metadata": {},
   "outputs": [
    {
     "name": "stdout",
     "output_type": "stream",
     "text": [
      "vectors \t [6.6 6.2] [1.3 2.7] \n",
      "euclidean \t 6.351377803280167 \n",
      "cosine \t\t 0.9330794115892785\n"
     ]
    }
   ],
   "source": [
    "print(\"vectors \\t\", x0, x4, \"\\n\"\n",
    "      \"euclidean \\t\", euclidean_distance(x0, x4), \"\\n\"\n",
    "      \"cosine \\t\\t\", cosine_similarity(x0, x4))"
   ]
  },
  {
   "cell_type": "code",
   "execution_count": 21,
   "id": "31d3723e",
   "metadata": {},
   "outputs": [
    {
     "name": "stdout",
     "output_type": "stream",
     "text": [
      "vectors \t [6.6 6.2] [0.1 6. ] \n",
      "euclidean \t 6.503076195155644 \n",
      "cosine \t\t 0.696726168727881\n"
     ]
    }
   ],
   "source": [
    "x00 = np.array([0.1, 6])\n",
    "\n",
    "print(\"vectors \\t\", x0, x00, \"\\n\"\n",
    "      \"euclidean \\t\", euclidean_distance(x0, x00), \"\\n\"\n",
    "      \"cosine \\t\\t\", cosine_similarity(x0, x00))"
   ]
  },
  {
   "cell_type": "code",
   "execution_count": 22,
   "id": "d2748a20",
   "metadata": {},
   "outputs": [
    {
     "name": "stdout",
     "output_type": "stream",
     "text": [
      "vectors \t [0.515625 0.484375] [0.01639344 0.98360656] \n",
      "euclidean \t 0.7060200392072649 \n",
      "cosine \t\t 0.6967261687278811\n"
     ]
    }
   ],
   "source": [
    "x00_n = l1_normalize(x00)\n",
    "\n",
    "print(\"vectors \\t\", x0_n, x00_n, \"\\n\"\n",
    "      \"euclidean \\t\", euclidean_distance(x0_n, x00_n), \"\\n\"\n",
    "      \"cosine \\t\\t\", cosine_similarity(x0_n, x00_n))"
   ]
  },
  {
   "cell_type": "code",
   "execution_count": null,
   "id": "682151f3",
   "metadata": {},
   "outputs": [],
   "source": []
  }
 ],
 "metadata": {
  "kernelspec": {
   "display_name": "Python 3 (ipykernel)",
   "language": "python",
   "name": "python3"
  },
  "language_info": {
   "codemirror_mode": {
    "name": "ipython",
    "version": 3
   },
   "file_extension": ".py",
   "mimetype": "text/x-python",
   "name": "python",
   "nbconvert_exporter": "python",
   "pygments_lexer": "ipython3",
   "version": "3.10.10"
  }
 },
 "nbformat": 4,
 "nbformat_minor": 5
}
