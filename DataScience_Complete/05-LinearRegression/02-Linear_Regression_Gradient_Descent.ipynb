{
 "cells": [
  {
   "cell_type": "code",
   "execution_count": 3,
   "metadata": {
    "id": "GLwO6xobhoO1"
   },
   "outputs": [],
   "source": [
    "import pandas as pd\n",
    "import numpy as np\n",
    "import seaborn as sns\n",
    "import matplotlib.pyplot as plt"
   ]
  },
  {
   "cell_type": "code",
   "execution_count": 4,
   "metadata": {
    "colab": {
     "base_uri": "https://localhost:8080/",
     "height": 206
    },
    "id": "9AhXGB_jhuWU",
    "outputId": "324cfd0f-2c3b-4c05-82d5-3a9bd76521d7"
   },
   "outputs": [
    {
     "data": {
      "text/html": [
       "<div>\n",
       "<style scoped>\n",
       "    .dataframe tbody tr th:only-of-type {\n",
       "        vertical-align: middle;\n",
       "    }\n",
       "\n",
       "    .dataframe tbody tr th {\n",
       "        vertical-align: top;\n",
       "    }\n",
       "\n",
       "    .dataframe thead th {\n",
       "        text-align: right;\n",
       "    }\n",
       "</style>\n",
       "<table border=\"1\" class=\"dataframe\">\n",
       "  <thead>\n",
       "    <tr style=\"text-align: right;\">\n",
       "      <th></th>\n",
       "      <th>Unnamed: 0</th>\n",
       "      <th>TV</th>\n",
       "      <th>radio</th>\n",
       "      <th>newspaper</th>\n",
       "      <th>sales</th>\n",
       "    </tr>\n",
       "  </thead>\n",
       "  <tbody>\n",
       "    <tr>\n",
       "      <th>0</th>\n",
       "      <td>1</td>\n",
       "      <td>230.1</td>\n",
       "      <td>37.8</td>\n",
       "      <td>69.2</td>\n",
       "      <td>22.1</td>\n",
       "    </tr>\n",
       "    <tr>\n",
       "      <th>1</th>\n",
       "      <td>2</td>\n",
       "      <td>44.5</td>\n",
       "      <td>39.3</td>\n",
       "      <td>45.1</td>\n",
       "      <td>10.4</td>\n",
       "    </tr>\n",
       "    <tr>\n",
       "      <th>2</th>\n",
       "      <td>3</td>\n",
       "      <td>17.2</td>\n",
       "      <td>45.9</td>\n",
       "      <td>69.3</td>\n",
       "      <td>9.3</td>\n",
       "    </tr>\n",
       "    <tr>\n",
       "      <th>3</th>\n",
       "      <td>4</td>\n",
       "      <td>151.5</td>\n",
       "      <td>41.3</td>\n",
       "      <td>58.5</td>\n",
       "      <td>18.5</td>\n",
       "    </tr>\n",
       "    <tr>\n",
       "      <th>4</th>\n",
       "      <td>5</td>\n",
       "      <td>180.8</td>\n",
       "      <td>10.8</td>\n",
       "      <td>58.4</td>\n",
       "      <td>12.9</td>\n",
       "    </tr>\n",
       "  </tbody>\n",
       "</table>\n",
       "</div>"
      ],
      "text/plain": [
       "   Unnamed: 0     TV  radio  newspaper  sales\n",
       "0           1  230.1   37.8       69.2   22.1\n",
       "1           2   44.5   39.3       45.1   10.4\n",
       "2           3   17.2   45.9       69.3    9.3\n",
       "3           4  151.5   41.3       58.5   18.5\n",
       "4           5  180.8   10.8       58.4   12.9"
      ]
     },
     "execution_count": 4,
     "metadata": {},
     "output_type": "execute_result"
    }
   ],
   "source": [
    "df = pd.read_csv(\"Advertising.csv\")\n",
    "df.head() "
   ]
  },
  {
   "cell_type": "code",
   "execution_count": 5,
   "metadata": {
    "id": "RUHRfSONhzfz"
   },
   "outputs": [],
   "source": [
    "X = df[['TV','radio','newspaper']]\n",
    "y = df['sales']"
   ]
  },
  {
   "cell_type": "code",
   "execution_count": 6,
   "metadata": {
    "id": "gTVw-gkch96V"
   },
   "outputs": [],
   "source": [
    "# Standardization\n",
    "y = np.array((y - y.mean())/y.std())\n",
    "X = X.apply(lambda row: (row - row.mean())/row.std(), axis=0)"
   ]
  },
  {
   "cell_type": "code",
   "execution_count": 7,
   "metadata": {
    "id": "s5Jk-jAjicNM"
   },
   "outputs": [],
   "source": [
    "# M1 --> Initialize\n",
    "# M2 --> calculate the y_pred\n",
    "# M3 --> Calculate the loss\n",
    "# M4 --> updating the parameters"
   ]
  },
  {
   "cell_type": "code",
   "execution_count": 8,
   "metadata": {
    "id": "lb811lFDi9g6"
   },
   "outputs": [],
   "source": [
    "import random\n",
    "def initialize(dim):\n",
    "    np.random.seed(42)\n",
    "    random.seed(42)\n",
    "    b = random.random()\n",
    "    w = np.random.rand(dim)\n",
    "    return b,w"
   ]
  },
  {
   "cell_type": "code",
   "execution_count": 9,
   "metadata": {
    "colab": {
     "base_uri": "https://localhost:8080/"
    },
    "id": "r5YP3efWkaDT",
    "outputId": "c25ea74f-1625-4c5b-99b3-a0ca63d601bd"
   },
   "outputs": [
    {
     "name": "stdout",
     "output_type": "stream",
     "text": [
      "bias is 0.6394267984578837, and weights are [0.37454012 0.95071431 0.73199394]\n"
     ]
    }
   ],
   "source": [
    "b,w = initialize(3)\n",
    "print(f\"bias is {b}, and weights are {w}\")\n",
    "# b -> intercept\n",
    "# w --> co-efficients"
   ]
  },
  {
   "cell_type": "code",
   "execution_count": 10,
   "metadata": {
    "id": "fuXMG8z8kk4b"
   },
   "outputs": [],
   "source": [
    "#method 2\n",
    "# Inputs --> b, w and x\n",
    "def predict(b,w,X):\n",
    "    return b + np.matmul(X,w)"
   ]
  },
  {
   "cell_type": "code",
   "execution_count": 11,
   "metadata": {
    "colab": {
     "base_uri": "https://localhost:8080/"
    },
    "id": "0_i3HAk7la0f",
    "outputId": "073c474c-ee27-4d33-9297-d3055d804848"
   },
   "outputs": [
    {
     "data": {
      "text/plain": [
       "(200, 3)"
      ]
     },
     "execution_count": 11,
     "metadata": {},
     "output_type": "execute_result"
    }
   ],
   "source": [
    "X.shape"
   ]
  },
  {
   "cell_type": "code",
   "execution_count": 13,
   "metadata": {
    "colab": {
     "base_uri": "https://localhost:8080/"
    },
    "id": "IGiuFQpBlNlr",
    "outputId": "6f12d2e0-86ca-4228-eabc-b80a7eb13a88"
   },
   "outputs": [
    {
     "data": {
      "text/plain": [
       "0    3.231496\n",
       "1    1.707849\n",
       "2    2.824761\n",
       "3    2.753090\n",
       "4    0.924486\n",
       "dtype: float64"
      ]
     },
     "execution_count": 13,
     "metadata": {},
     "output_type": "execute_result"
    }
   ],
   "source": [
    "b, w  = initialize(3)\n",
    "y_hat  = predict(b,w,X)\n",
    "y_hat[:5]"
   ]
  },
  {
   "cell_type": "code",
   "execution_count": 14,
   "metadata": {
    "id": "bEeOa-EDlYty"
   },
   "outputs": [],
   "source": [
    "# Method 3\n",
    "# calcualte the Loss\n",
    "import math\n",
    "\n",
    "def cal_cost(y,y_hat):\n",
    "    resid = y-y_hat\n",
    "    return np.sum(np.matmul(resid,resid.T))/len(resid) # MSE"
   ]
  },
  {
   "cell_type": "code",
   "execution_count": 15,
   "metadata": {
    "colab": {
     "base_uri": "https://localhost:8080/"
    },
    "id": "9udrFuIgmHRt",
    "outputId": "93a051b2-5bf4-4b74-c9b9-2df94b5c2a47"
   },
   "outputs": [
    {
     "data": {
      "text/plain": [
       "1.53031001985059"
      ]
     },
     "execution_count": 15,
     "metadata": {},
     "output_type": "execute_result"
    }
   ],
   "source": [
    "b, w  = initialize(3)\n",
    "y_hat  = predict(b,w,X)\n",
    "cal_cost(y,y_hat)"
   ]
  },
  {
   "cell_type": "code",
   "execution_count": 18,
   "metadata": {
    "id": "TCV52Vu4mMMQ"
   },
   "outputs": [],
   "source": [
    "# Method 4\n",
    "def update_beta(x,y,y_hat,b_0,w_0,lr):\n",
    "    db = (np.sum(y_hat - y)*2)/len(y)\n",
    "    dw = (np.dot((y_hat-y),x)*2)/len(y)\n",
    "    b_1 = b_0 -  lr*db\n",
    "    w_1 = w_0 -  lr*dw\n",
    "    return b_1,w_1"
   ]
  },
  {
   "cell_type": "code",
   "execution_count": 19,
   "metadata": {
    "colab": {
     "base_uri": "https://localhost:8080/"
    },
    "id": "0jbOP6jhnWIX",
    "outputId": "c3f1619e-343d-44f1-9e1f-1d14bf8270c0"
   },
   "outputs": [
    {
     "name": "stdout",
     "output_type": "stream",
     "text": [
      "intiailized values are: bias is 0.6394267984578837, and weights are [0.37454012 0.95071431 0.73199394]\n",
      "After Update, values are: bias is 0.6266382624887261, and weights are [0.38079093 0.9376953  0.71484883]\n"
     ]
    }
   ],
   "source": [
    "b, w  = initialize(3)\n",
    "print(f\"intiailized values are: bias is {b}, and weights are {w}\")\n",
    "y_hat  = predict(b,w,X)\n",
    "b,w = update_beta(X,y,y_hat,b,w,0.01)\n",
    "print(f\"After Update, values are: bias is {b}, and weights are {w}\")"
   ]
  },
  {
   "cell_type": "code",
   "execution_count": 17,
   "metadata": {
    "id": "pJKmL-OWqBpc"
   },
   "outputs": [],
   "source": [
    "def run_gradient_descent(X,y, alpha=0.01, num_iter = 100):\n",
    "    b,w = initialize(X.shape[1])\n",
    "    inter_num = 0\n",
    "    gd_iterations_df = pd.DataFrame(columns=['iteration','loss'])\n",
    "    result_idx = 0\n",
    "\n",
    "    for iter in range(num_iter):\n",
    "        y_hat = predict(b,w,X)\n",
    "        iter_cost = cal_cost(y,y_hat)\n",
    "        prev_b = b\n",
    "        prev_w = w\n",
    "\n",
    "        b,w = update_beta(X,y,y_hat, prev_b,prev_w, alpha)\n",
    "\n",
    "        if (inter_num %10 == 0):\n",
    "            gd_iterations_df.loc[result_idx] = [inter_num, iter_cost]\n",
    "            result_idx = result_idx + 1\n",
    "        inter_num += 1\n",
    "   \n",
    "    print(f\"Final estimate of b and w are: {b} , {w} \")\n",
    "    return gd_iterations_df, b,w"
   ]
  },
  {
   "cell_type": "code",
   "execution_count": 18,
   "metadata": {
    "colab": {
     "base_uri": "https://localhost:8080/"
    },
    "id": "4FFxkp2crbEf",
    "outputId": "e08b8ee0-bcf2-4852-839a-046f76bf9e7a"
   },
   "outputs": [
    {
     "name": "stdout",
     "output_type": "stream",
     "text": [
      "Final estimate of b and w are: 0.28708291582872 , [0.5619044  0.64258719 0.29463454] \n"
     ]
    }
   ],
   "source": [
    "gd_iterations_df,b,w =run_gradient_descent(X,y,alpha=0.001, num_iter=400)"
   ]
  },
  {
   "cell_type": "code",
   "execution_count": 19,
   "metadata": {
    "colab": {
     "base_uri": "https://localhost:8080/",
     "height": 1000
    },
    "id": "PeasTX4DrjVZ",
    "outputId": "828a1ff5-e889-4184-fdc1-1ab69c73845c"
   },
   "outputs": [
    {
     "data": {
      "text/html": [
       "<div>\n",
       "<style scoped>\n",
       "    .dataframe tbody tr th:only-of-type {\n",
       "        vertical-align: middle;\n",
       "    }\n",
       "\n",
       "    .dataframe tbody tr th {\n",
       "        vertical-align: top;\n",
       "    }\n",
       "\n",
       "    .dataframe thead th {\n",
       "        text-align: right;\n",
       "    }\n",
       "</style>\n",
       "<table border=\"1\" class=\"dataframe\">\n",
       "  <thead>\n",
       "    <tr style=\"text-align: right;\">\n",
       "      <th></th>\n",
       "      <th>iteration</th>\n",
       "      <th>loss</th>\n",
       "    </tr>\n",
       "  </thead>\n",
       "  <tbody>\n",
       "    <tr>\n",
       "      <th>0</th>\n",
       "      <td>0.0</td>\n",
       "      <td>1.530310</td>\n",
       "    </tr>\n",
       "    <tr>\n",
       "      <th>1</th>\n",
       "      <td>10.0</td>\n",
       "      <td>1.465201</td>\n",
       "    </tr>\n",
       "    <tr>\n",
       "      <th>2</th>\n",
       "      <td>20.0</td>\n",
       "      <td>1.403145</td>\n",
       "    </tr>\n",
       "    <tr>\n",
       "      <th>3</th>\n",
       "      <td>30.0</td>\n",
       "      <td>1.343996</td>\n",
       "    </tr>\n",
       "    <tr>\n",
       "      <th>4</th>\n",
       "      <td>40.0</td>\n",
       "      <td>1.287615</td>\n",
       "    </tr>\n",
       "    <tr>\n",
       "      <th>5</th>\n",
       "      <td>50.0</td>\n",
       "      <td>1.233868</td>\n",
       "    </tr>\n",
       "    <tr>\n",
       "      <th>6</th>\n",
       "      <td>60.0</td>\n",
       "      <td>1.182630</td>\n",
       "    </tr>\n",
       "    <tr>\n",
       "      <th>7</th>\n",
       "      <td>70.0</td>\n",
       "      <td>1.133780</td>\n",
       "    </tr>\n",
       "    <tr>\n",
       "      <th>8</th>\n",
       "      <td>80.0</td>\n",
       "      <td>1.087203</td>\n",
       "    </tr>\n",
       "    <tr>\n",
       "      <th>9</th>\n",
       "      <td>90.0</td>\n",
       "      <td>1.042793</td>\n",
       "    </tr>\n",
       "    <tr>\n",
       "      <th>10</th>\n",
       "      <td>100.0</td>\n",
       "      <td>1.000444</td>\n",
       "    </tr>\n",
       "    <tr>\n",
       "      <th>11</th>\n",
       "      <td>110.0</td>\n",
       "      <td>0.960059</td>\n",
       "    </tr>\n",
       "    <tr>\n",
       "      <th>12</th>\n",
       "      <td>120.0</td>\n",
       "      <td>0.921545</td>\n",
       "    </tr>\n",
       "    <tr>\n",
       "      <th>13</th>\n",
       "      <td>130.0</td>\n",
       "      <td>0.884812</td>\n",
       "    </tr>\n",
       "    <tr>\n",
       "      <th>14</th>\n",
       "      <td>140.0</td>\n",
       "      <td>0.849776</td>\n",
       "    </tr>\n",
       "    <tr>\n",
       "      <th>15</th>\n",
       "      <td>150.0</td>\n",
       "      <td>0.816356</td>\n",
       "    </tr>\n",
       "    <tr>\n",
       "      <th>16</th>\n",
       "      <td>160.0</td>\n",
       "      <td>0.784476</td>\n",
       "    </tr>\n",
       "    <tr>\n",
       "      <th>17</th>\n",
       "      <td>170.0</td>\n",
       "      <td>0.754063</td>\n",
       "    </tr>\n",
       "    <tr>\n",
       "      <th>18</th>\n",
       "      <td>180.0</td>\n",
       "      <td>0.725048</td>\n",
       "    </tr>\n",
       "    <tr>\n",
       "      <th>19</th>\n",
       "      <td>190.0</td>\n",
       "      <td>0.697364</td>\n",
       "    </tr>\n",
       "    <tr>\n",
       "      <th>20</th>\n",
       "      <td>200.0</td>\n",
       "      <td>0.670949</td>\n",
       "    </tr>\n",
       "    <tr>\n",
       "      <th>21</th>\n",
       "      <td>210.0</td>\n",
       "      <td>0.645743</td>\n",
       "    </tr>\n",
       "    <tr>\n",
       "      <th>22</th>\n",
       "      <td>220.0</td>\n",
       "      <td>0.621689</td>\n",
       "    </tr>\n",
       "    <tr>\n",
       "      <th>23</th>\n",
       "      <td>230.0</td>\n",
       "      <td>0.598733</td>\n",
       "    </tr>\n",
       "    <tr>\n",
       "      <th>24</th>\n",
       "      <td>240.0</td>\n",
       "      <td>0.576824</td>\n",
       "    </tr>\n",
       "    <tr>\n",
       "      <th>25</th>\n",
       "      <td>250.0</td>\n",
       "      <td>0.555912</td>\n",
       "    </tr>\n",
       "    <tr>\n",
       "      <th>26</th>\n",
       "      <td>260.0</td>\n",
       "      <td>0.535950</td>\n",
       "    </tr>\n",
       "    <tr>\n",
       "      <th>27</th>\n",
       "      <td>270.0</td>\n",
       "      <td>0.516895</td>\n",
       "    </tr>\n",
       "    <tr>\n",
       "      <th>28</th>\n",
       "      <td>280.0</td>\n",
       "      <td>0.498704</td>\n",
       "    </tr>\n",
       "    <tr>\n",
       "      <th>29</th>\n",
       "      <td>290.0</td>\n",
       "      <td>0.481337</td>\n",
       "    </tr>\n",
       "    <tr>\n",
       "      <th>30</th>\n",
       "      <td>300.0</td>\n",
       "      <td>0.464755</td>\n",
       "    </tr>\n",
       "    <tr>\n",
       "      <th>31</th>\n",
       "      <td>310.0</td>\n",
       "      <td>0.448922</td>\n",
       "    </tr>\n",
       "    <tr>\n",
       "      <th>32</th>\n",
       "      <td>320.0</td>\n",
       "      <td>0.433802</td>\n",
       "    </tr>\n",
       "    <tr>\n",
       "      <th>33</th>\n",
       "      <td>330.0</td>\n",
       "      <td>0.419364</td>\n",
       "    </tr>\n",
       "    <tr>\n",
       "      <th>34</th>\n",
       "      <td>340.0</td>\n",
       "      <td>0.405574</td>\n",
       "    </tr>\n",
       "    <tr>\n",
       "      <th>35</th>\n",
       "      <td>350.0</td>\n",
       "      <td>0.392404</td>\n",
       "    </tr>\n",
       "    <tr>\n",
       "      <th>36</th>\n",
       "      <td>360.0</td>\n",
       "      <td>0.379825</td>\n",
       "    </tr>\n",
       "    <tr>\n",
       "      <th>37</th>\n",
       "      <td>370.0</td>\n",
       "      <td>0.367808</td>\n",
       "    </tr>\n",
       "    <tr>\n",
       "      <th>38</th>\n",
       "      <td>380.0</td>\n",
       "      <td>0.356330</td>\n",
       "    </tr>\n",
       "    <tr>\n",
       "      <th>39</th>\n",
       "      <td>390.0</td>\n",
       "      <td>0.345363</td>\n",
       "    </tr>\n",
       "  </tbody>\n",
       "</table>\n",
       "</div>"
      ],
      "text/plain": [
       "    iteration      loss\n",
       "0         0.0  1.530310\n",
       "1        10.0  1.465201\n",
       "2        20.0  1.403145\n",
       "3        30.0  1.343996\n",
       "4        40.0  1.287615\n",
       "5        50.0  1.233868\n",
       "6        60.0  1.182630\n",
       "7        70.0  1.133780\n",
       "8        80.0  1.087203\n",
       "9        90.0  1.042793\n",
       "10      100.0  1.000444\n",
       "11      110.0  0.960059\n",
       "12      120.0  0.921545\n",
       "13      130.0  0.884812\n",
       "14      140.0  0.849776\n",
       "15      150.0  0.816356\n",
       "16      160.0  0.784476\n",
       "17      170.0  0.754063\n",
       "18      180.0  0.725048\n",
       "19      190.0  0.697364\n",
       "20      200.0  0.670949\n",
       "21      210.0  0.645743\n",
       "22      220.0  0.621689\n",
       "23      230.0  0.598733\n",
       "24      240.0  0.576824\n",
       "25      250.0  0.555912\n",
       "26      260.0  0.535950\n",
       "27      270.0  0.516895\n",
       "28      280.0  0.498704\n",
       "29      290.0  0.481337\n",
       "30      300.0  0.464755\n",
       "31      310.0  0.448922\n",
       "32      320.0  0.433802\n",
       "33      330.0  0.419364\n",
       "34      340.0  0.405574\n",
       "35      350.0  0.392404\n",
       "36      360.0  0.379825\n",
       "37      370.0  0.367808\n",
       "38      380.0  0.356330\n",
       "39      390.0  0.345363"
      ]
     },
     "execution_count": 19,
     "metadata": {},
     "output_type": "execute_result"
    }
   ],
   "source": [
    "gd_iterations_df"
   ]
  },
  {
   "cell_type": "code",
   "execution_count": null,
   "metadata": {
    "id": "AiX7Kd4prqIk"
   },
   "outputs": [],
   "source": []
  }
 ],
 "metadata": {
  "colab": {
   "collapsed_sections": [],
   "provenance": []
  },
  "kernelspec": {
   "display_name": "Python 3 (ipykernel)",
   "language": "python",
   "name": "python3"
  },
  "language_info": {
   "codemirror_mode": {
    "name": "ipython",
    "version": 3
   },
   "file_extension": ".py",
   "mimetype": "text/x-python",
   "name": "python",
   "nbconvert_exporter": "python",
   "pygments_lexer": "ipython3",
   "version": "3.10.10"
  }
 },
 "nbformat": 4,
 "nbformat_minor": 1
}
