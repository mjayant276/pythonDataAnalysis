{
 "cells": [
  {
   "cell_type": "markdown",
   "id": "face5ecb",
   "metadata": {},
   "source": [
    "<img src='01-Probability.PNG' />"
   ]
  },
  {
   "cell_type": "markdown",
   "id": "ade9431b",
   "metadata": {},
   "source": [
    "**Calculating Probability of an Event:**\n",
    "\n",
    "There is a standard six-sided die, and calculate the probability of rolling a 4."
   ]
  },
  {
   "cell_type": "code",
   "execution_count": 2,
   "id": "564398ae",
   "metadata": {},
   "outputs": [
    {
     "name": "stdout",
     "output_type": "stream",
     "text": [
      "Probability of rolling a 4: 0.16666666666666666\n"
     ]
    }
   ],
   "source": [
    "# Define the sample space (outcomes of rolling a die)\n",
    "sample_space = [1, 2, 3, 4, 5, 6]\n",
    "\n",
    "# Define the event of interest (rolling a 3)\n",
    "event = 4\n",
    "\n",
    "# Calculate the probability of the event\n",
    "probability = sample_space.count(event) / len(sample_space)\n",
    "print(f\"Probability of rolling a {event}: {probability}\")\n"
   ]
  },
  {
   "cell_type": "markdown",
   "id": "013b0f1e",
   "metadata": {},
   "source": [
    "<img src='02-Probability.PNG' />"
   ]
  },
  {
   "cell_type": "markdown",
   "id": "6a78665c",
   "metadata": {},
   "source": [
    "Imagine you're interested in determining the likelihood of selecting a red card from a standard 52-card deck after you've already chosen a spade (one of the four suits)."
   ]
  },
  {
   "cell_type": "markdown",
   "id": "fb8c11b4",
   "metadata": {},
   "source": [
    "<img src='03-ProbabilityCards_1.PNG' />"
   ]
  },
  {
   "cell_type": "code",
   "execution_count": 6,
   "id": "a7ac7158",
   "metadata": {},
   "outputs": [
    {
     "name": "stdout",
     "output_type": "stream",
     "text": [
      "Conditional Probability of drawing a Red card given a Spade: 0.5\n"
     ]
    }
   ],
   "source": [
    "# Define the sample space (all cards in a deck)\n",
    "sample_space = set([\"Spades\", \"Hearts\", \"Diamonds\", \"Clubs\"])\n",
    "\n",
    "# Define the event of drawing a spade\n",
    "event_spade = \"Spades\"\n",
    "\n",
    "# Define the event of drawing a red card (Hearts or Diamonds)\n",
    "event_red = set([\"Hearts\", \"Diamonds\"])\n",
    "\n",
    "# Calculate conditional probability P(Red | Spade)\n",
    "conditional_probability = len(event_red.intersection(sample_space)) / len(sample_space)\n",
    "print(f\"Conditional Probability of drawing a Red card given a Spade: {conditional_probability}\")\n"
   ]
  },
  {
   "cell_type": "code",
   "execution_count": 7,
   "id": "a4a03211",
   "metadata": {},
   "outputs": [
    {
     "name": "stdout",
     "output_type": "stream",
     "text": [
      "0.3333333333333333\n"
     ]
    }
   ],
   "source": [
    "# define the sample space\n",
    "sample_space = {1, 2, 3, 4, 5, 6}\n",
    "\n",
    "# define the event A \n",
    "event_A = {5, 6}\n",
    "\n",
    "# define the event B \n",
    "event_B = {1, 3, 5}\n",
    "\n",
    "# calculate P(A)\n",
    "prob_A = len(event_A) / len(sample_space)\n",
    "\n",
    "# calculate P(B)\n",
    "prob_B = len(event_B) / len(sample_space)\n",
    "\n",
    "# calculate P(A ∩ B)\n",
    "event_A_intersect_B = event_A.intersection(event_B)\n",
    "prob_A_intersect_B = len(event_A_intersect_B) / len(sample_space)\n",
    "\n",
    "# calculate P(A|B)\n",
    "prob_A_given_B = prob_A_intersect_B / prob_B\n",
    "print(prob_A_given_B) "
   ]
  },
  {
   "cell_type": "code",
   "execution_count": null,
   "id": "fd7af622",
   "metadata": {},
   "outputs": [],
   "source": []
  }
 ],
 "metadata": {
  "kernelspec": {
   "display_name": "Python 3 (ipykernel)",
   "language": "python",
   "name": "python3"
  },
  "language_info": {
   "codemirror_mode": {
    "name": "ipython",
    "version": 3
   },
   "file_extension": ".py",
   "mimetype": "text/x-python",
   "name": "python",
   "nbconvert_exporter": "python",
   "pygments_lexer": "ipython3",
   "version": "3.10.10"
  }
 },
 "nbformat": 4,
 "nbformat_minor": 5
}
